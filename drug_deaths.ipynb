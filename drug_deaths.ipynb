{
 "cells": [
  {
   "cell_type": "code",
   "execution_count": 87,
   "metadata": {
    "collapsed": false,
    "deletable": true,
    "editable": true
   },
   "outputs": [],
   "source": [
    "import numpy as np\n",
    "import pandas as pd\n",
    "import matplotlib.pyplot as plt\n",
    "import seaborn as sns\n",
    "\n",
    "%matplotlib inline"
   ]
  },
  {
   "cell_type": "code",
   "execution_count": 88,
   "metadata": {
    "collapsed": true,
    "deletable": true,
    "editable": true
   },
   "outputs": [],
   "source": [
    "data = pd.read_excel('data/Education.xls', skiprows=range(4), usecols=['FIPS Code',\n",
    "                                                'State', 'Area name',\n",
    "                                                'Percent of adults with less than a high school diploma, 2012-2016',\n",
    "                                                'Percent of adults with a bachelor\\'s degree or higher, 2012-2016'],\n",
    "                        converters={'FIPS Code': str})"
   ]
  },
  {
   "cell_type": "code",
   "execution_count": 89,
   "metadata": {
    "collapsed": true,
    "deletable": true,
    "editable": true
   },
   "outputs": [],
   "source": [
    "data.columns=['FIPS', 'state', 'name', '< diploma', 'degree+']"
   ]
  },
  {
   "cell_type": "markdown",
   "metadata": {
    "deletable": true,
    "editable": true
   },
   "source": [
    "Percentages of people who did not get a high school diploma and who got a bachelor's degree or higher."
   ]
  },
  {
   "cell_type": "code",
   "execution_count": 90,
   "metadata": {
    "collapsed": false,
    "deletable": true,
    "editable": true
   },
   "outputs": [
    {
     "data": {
      "text/html": [
       "<div>\n",
       "<table border=\"1\" class=\"dataframe\">\n",
       "  <thead>\n",
       "    <tr style=\"text-align: right;\">\n",
       "      <th></th>\n",
       "      <th>FIPS</th>\n",
       "      <th>state</th>\n",
       "      <th>name</th>\n",
       "      <th>&lt; diploma</th>\n",
       "      <th>degree+</th>\n",
       "    </tr>\n",
       "  </thead>\n",
       "  <tbody>\n",
       "    <tr>\n",
       "      <th>0</th>\n",
       "      <td>00000</td>\n",
       "      <td>US</td>\n",
       "      <td>United States</td>\n",
       "      <td>13.021</td>\n",
       "      <td>30.315</td>\n",
       "    </tr>\n",
       "    <tr>\n",
       "      <th>1</th>\n",
       "      <td>01000</td>\n",
       "      <td>AL</td>\n",
       "      <td>Alabama</td>\n",
       "      <td>15.209</td>\n",
       "      <td>24.010</td>\n",
       "    </tr>\n",
       "    <tr>\n",
       "      <th>2</th>\n",
       "      <td>01001</td>\n",
       "      <td>AL</td>\n",
       "      <td>Autauga County</td>\n",
       "      <td>12.417</td>\n",
       "      <td>24.593</td>\n",
       "    </tr>\n",
       "    <tr>\n",
       "      <th>3</th>\n",
       "      <td>01003</td>\n",
       "      <td>AL</td>\n",
       "      <td>Baldwin County</td>\n",
       "      <td>9.972</td>\n",
       "      <td>29.547</td>\n",
       "    </tr>\n",
       "    <tr>\n",
       "      <th>4</th>\n",
       "      <td>01005</td>\n",
       "      <td>AL</td>\n",
       "      <td>Barbour County</td>\n",
       "      <td>26.236</td>\n",
       "      <td>12.868</td>\n",
       "    </tr>\n",
       "  </tbody>\n",
       "</table>\n",
       "</div>"
      ],
      "text/plain": [
       "    FIPS state            name  < diploma  degree+\n",
       "0  00000    US   United States     13.021   30.315\n",
       "1  01000    AL         Alabama     15.209   24.010\n",
       "2  01001    AL  Autauga County     12.417   24.593\n",
       "3  01003    AL  Baldwin County      9.972   29.547\n",
       "4  01005    AL  Barbour County     26.236   12.868"
      ]
     },
     "execution_count": 90,
     "metadata": {},
     "output_type": "execute_result"
    }
   ],
   "source": [
    "data.head()"
   ]
  },
  {
   "cell_type": "code",
   "execution_count": 91,
   "metadata": {
    "collapsed": true,
    "deletable": true,
    "editable": true
   },
   "outputs": [],
   "source": [
    "data['FIPS'] = data['FIPS'].apply(lambda x: x if x[2:5] != '000' else 'not county') # mark rows for US and states"
   ]
  },
  {
   "cell_type": "code",
   "execution_count": 92,
   "metadata": {
    "collapsed": true,
    "deletable": true,
    "editable": true
   },
   "outputs": [],
   "source": [
    "data = data[data['FIPS'] != 'not county']"
   ]
  },
  {
   "cell_type": "code",
   "execution_count": 93,
   "metadata": {
    "collapsed": true,
    "deletable": true,
    "editable": true
   },
   "outputs": [],
   "source": [
    "data = data[data['FIPS'] < '57000'] # remove Puerto Rico counties, which would be outliers for several features"
   ]
  },
  {
   "cell_type": "code",
   "execution_count": 94,
   "metadata": {
    "collapsed": false,
    "deletable": true,
    "editable": true
   },
   "outputs": [
    {
     "data": {
      "text/html": [
       "<div>\n",
       "<table border=\"1\" class=\"dataframe\">\n",
       "  <thead>\n",
       "    <tr style=\"text-align: right;\">\n",
       "      <th></th>\n",
       "      <th>FIPS</th>\n",
       "      <th>state</th>\n",
       "      <th>name</th>\n",
       "      <th>&lt; diploma</th>\n",
       "      <th>degree+</th>\n",
       "    </tr>\n",
       "  </thead>\n",
       "  <tbody>\n",
       "    <tr>\n",
       "      <th>2</th>\n",
       "      <td>01001</td>\n",
       "      <td>AL</td>\n",
       "      <td>Autauga County</td>\n",
       "      <td>12.417</td>\n",
       "      <td>24.593</td>\n",
       "    </tr>\n",
       "    <tr>\n",
       "      <th>3</th>\n",
       "      <td>01003</td>\n",
       "      <td>AL</td>\n",
       "      <td>Baldwin County</td>\n",
       "      <td>9.972</td>\n",
       "      <td>29.547</td>\n",
       "    </tr>\n",
       "    <tr>\n",
       "      <th>4</th>\n",
       "      <td>01005</td>\n",
       "      <td>AL</td>\n",
       "      <td>Barbour County</td>\n",
       "      <td>26.236</td>\n",
       "      <td>12.868</td>\n",
       "    </tr>\n",
       "    <tr>\n",
       "      <th>5</th>\n",
       "      <td>01007</td>\n",
       "      <td>AL</td>\n",
       "      <td>Bibb County</td>\n",
       "      <td>19.302</td>\n",
       "      <td>12.000</td>\n",
       "    </tr>\n",
       "    <tr>\n",
       "      <th>6</th>\n",
       "      <td>01009</td>\n",
       "      <td>AL</td>\n",
       "      <td>Blount County</td>\n",
       "      <td>19.969</td>\n",
       "      <td>13.050</td>\n",
       "    </tr>\n",
       "  </tbody>\n",
       "</table>\n",
       "</div>"
      ],
      "text/plain": [
       "    FIPS state            name  < diploma  degree+\n",
       "2  01001    AL  Autauga County     12.417   24.593\n",
       "3  01003    AL  Baldwin County      9.972   29.547\n",
       "4  01005    AL  Barbour County     26.236   12.868\n",
       "5  01007    AL     Bibb County     19.302   12.000\n",
       "6  01009    AL   Blount County     19.969   13.050"
      ]
     },
     "execution_count": 94,
     "metadata": {},
     "output_type": "execute_result"
    }
   ],
   "source": [
    "data.head()"
   ]
  },
  {
   "cell_type": "code",
   "execution_count": 95,
   "metadata": {
    "collapsed": false,
    "deletable": true,
    "editable": true
   },
   "outputs": [
    {
     "data": {
      "text/html": [
       "<div>\n",
       "<table border=\"1\" class=\"dataframe\">\n",
       "  <thead>\n",
       "    <tr style=\"text-align: right;\">\n",
       "      <th></th>\n",
       "      <th>FIPS</th>\n",
       "      <th>state</th>\n",
       "      <th>name</th>\n",
       "      <th>&lt; diploma</th>\n",
       "      <th>degree+</th>\n",
       "    </tr>\n",
       "  </thead>\n",
       "  <tbody>\n",
       "    <tr>\n",
       "      <th>3199</th>\n",
       "      <td>56037</td>\n",
       "      <td>WY</td>\n",
       "      <td>Sweetwater County</td>\n",
       "      <td>9.315</td>\n",
       "      <td>21.371</td>\n",
       "    </tr>\n",
       "    <tr>\n",
       "      <th>3200</th>\n",
       "      <td>56039</td>\n",
       "      <td>WY</td>\n",
       "      <td>Teton County</td>\n",
       "      <td>4.634</td>\n",
       "      <td>53.788</td>\n",
       "    </tr>\n",
       "    <tr>\n",
       "      <th>3201</th>\n",
       "      <td>56041</td>\n",
       "      <td>WY</td>\n",
       "      <td>Uinta County</td>\n",
       "      <td>10.361</td>\n",
       "      <td>18.207</td>\n",
       "    </tr>\n",
       "    <tr>\n",
       "      <th>3202</th>\n",
       "      <td>56043</td>\n",
       "      <td>WY</td>\n",
       "      <td>Washakie County</td>\n",
       "      <td>12.577</td>\n",
       "      <td>21.076</td>\n",
       "    </tr>\n",
       "    <tr>\n",
       "      <th>3203</th>\n",
       "      <td>56045</td>\n",
       "      <td>WY</td>\n",
       "      <td>Weston County</td>\n",
       "      <td>8.592</td>\n",
       "      <td>18.807</td>\n",
       "    </tr>\n",
       "  </tbody>\n",
       "</table>\n",
       "</div>"
      ],
      "text/plain": [
       "       FIPS state               name  < diploma  degree+\n",
       "3199  56037    WY  Sweetwater County      9.315   21.371\n",
       "3200  56039    WY       Teton County      4.634   53.788\n",
       "3201  56041    WY       Uinta County     10.361   18.207\n",
       "3202  56043    WY    Washakie County     12.577   21.076\n",
       "3203  56045    WY      Weston County      8.592   18.807"
      ]
     },
     "execution_count": 95,
     "metadata": {},
     "output_type": "execute_result"
    }
   ],
   "source": [
    "data.tail()"
   ]
  },
  {
   "cell_type": "code",
   "execution_count": 96,
   "metadata": {
    "collapsed": true,
    "deletable": true,
    "editable": true
   },
   "outputs": [],
   "source": [
    "population = pd.read_excel('data/Population.xls', skiprows=range(2), usecols=['FIPS','Urban_Influence_Code_2013',\n",
    "                                                                              'CENSUS_2010_POP','POP_ESTIMATE_2014',\n",
    "                                                                              'INTERNATIONALMIG_2010',\n",
    "                                                                              'INTERNATIONALMIG-2011',\n",
    "                                                                              'INTERNATIONAL_MIG_2012',\n",
    "                                                                              'INTERNATIONAL_MIG_2013'],\n",
    "                           converters={'FIPS': str, 'Urban_Influence_Code_2013': str})"
   ]
  },
  {
   "cell_type": "markdown",
   "metadata": {
    "deletable": true,
    "editable": true
   },
   "source": [
    "*Note: The urban influence code is not a smooth scale from 1 = most urban to 12 = least urban. It includes several categories of county — metropolitan, suburban, rural — and then ranks within each category. So it must be treted as categorical.*"
   ]
  },
  {
   "cell_type": "code",
   "execution_count": 97,
   "metadata": {
    "collapsed": true,
    "deletable": true,
    "editable": true
   },
   "outputs": [],
   "source": [
    "population.columns = ['FIPS', 'urban_inf', 'pop_2010', 'pop_2014', 'im1', 'im2', 'im3', 'im4']"
   ]
  },
  {
   "cell_type": "markdown",
   "metadata": {
    "deletable": true,
    "editable": true
   },
   "source": [
    "The urban influence code \"distinguishes metropolitan counties by population size of their metro area, and nonmetropolitan counties by size of the largest city or town and proximity to metro and micropolitan areas.\" Lower numbers are more urban. The other features being consteucted here are the change in poulation between 2010 and 2014, and the change in the international migrant population relative to the overall change. "
   ]
  },
  {
   "cell_type": "code",
   "execution_count": 98,
   "metadata": {
    "collapsed": true,
    "deletable": true,
    "editable": true
   },
   "outputs": [],
   "source": [
    "population['pop_inc'] = (population['pop_2014'] - population['pop_2010']) / population['pop_2010']"
   ]
  },
  {
   "cell_type": "code",
   "execution_count": 99,
   "metadata": {
    "collapsed": true,
    "deletable": true,
    "editable": true
   },
   "outputs": [],
   "source": [
    "population['foreign_inc'] = (population['im1'] + population['im2'] + population['im3'] + population['im4']\n",
    "                            ) / (population['pop_2014'] - population['pop_2010'])"
   ]
  },
  {
   "cell_type": "code",
   "execution_count": 100,
   "metadata": {
    "collapsed": true,
    "deletable": true,
    "editable": true
   },
   "outputs": [],
   "source": [
    "add_pop = population.drop(['pop_2010', 'im1', 'im2', 'im3', 'im4'], axis=1)"
   ]
  },
  {
   "cell_type": "code",
   "execution_count": 101,
   "metadata": {
    "collapsed": false,
    "deletable": true,
    "editable": true
   },
   "outputs": [
    {
     "data": {
      "text/html": [
       "<div>\n",
       "<table border=\"1\" class=\"dataframe\">\n",
       "  <thead>\n",
       "    <tr style=\"text-align: right;\">\n",
       "      <th></th>\n",
       "      <th>FIPS</th>\n",
       "      <th>urban_inf</th>\n",
       "      <th>pop_2014</th>\n",
       "      <th>pop_inc</th>\n",
       "      <th>foreign_inc</th>\n",
       "    </tr>\n",
       "  </thead>\n",
       "  <tbody>\n",
       "    <tr>\n",
       "      <th>0</th>\n",
       "      <td>00000</td>\n",
       "      <td>NaN</td>\n",
       "      <td>318622525</td>\n",
       "      <td>0.031991</td>\n",
       "      <td>0.289381</td>\n",
       "    </tr>\n",
       "    <tr>\n",
       "      <th>1</th>\n",
       "      <td>01000</td>\n",
       "      <td>NaN</td>\n",
       "      <td>4840037</td>\n",
       "      <td>0.012616</td>\n",
       "      <td>0.232285</td>\n",
       "    </tr>\n",
       "    <tr>\n",
       "      <th>2</th>\n",
       "      <td>01001</td>\n",
       "      <td>2</td>\n",
       "      <td>54864</td>\n",
       "      <td>0.005369</td>\n",
       "      <td>0.040956</td>\n",
       "    </tr>\n",
       "    <tr>\n",
       "      <th>3</th>\n",
       "      <td>01003</td>\n",
       "      <td>2</td>\n",
       "      <td>199064</td>\n",
       "      <td>0.092168</td>\n",
       "      <td>0.030359</td>\n",
       "    </tr>\n",
       "    <tr>\n",
       "      <th>4</th>\n",
       "      <td>01005</td>\n",
       "      <td>6</td>\n",
       "      <td>26749</td>\n",
       "      <td>-0.025786</td>\n",
       "      <td>0.033898</td>\n",
       "    </tr>\n",
       "    <tr>\n",
       "      <th>5</th>\n",
       "      <td>01007</td>\n",
       "      <td>1</td>\n",
       "      <td>22533</td>\n",
       "      <td>-0.016670</td>\n",
       "      <td>-0.102094</td>\n",
       "    </tr>\n",
       "  </tbody>\n",
       "</table>\n",
       "</div>"
      ],
      "text/plain": [
       "    FIPS urban_inf   pop_2014   pop_inc  foreign_inc\n",
       "0  00000       NaN  318622525  0.031991     0.289381\n",
       "1  01000       NaN    4840037  0.012616     0.232285\n",
       "2  01001         2      54864  0.005369     0.040956\n",
       "3  01003         2     199064  0.092168     0.030359\n",
       "4  01005         6      26749 -0.025786     0.033898\n",
       "5  01007         1      22533 -0.016670    -0.102094"
      ]
     },
     "execution_count": 101,
     "metadata": {},
     "output_type": "execute_result"
    }
   ],
   "source": [
    "add_pop.head(6)"
   ]
  },
  {
   "cell_type": "markdown",
   "metadata": {
    "deletable": true,
    "editable": true
   },
   "source": [
    "Where the population increase is negative, the foreign increase must be multiplied by -1 so that the division in the calculation does not turn a positive foreign increase negative and vice-versa."
   ]
  },
  {
   "cell_type": "code",
   "execution_count": 102,
   "metadata": {
    "collapsed": true,
    "deletable": true,
    "editable": true
   },
   "outputs": [],
   "source": [
    "add_pop['foreign_inc'] = add_pop['foreign_inc'] * (add_pop['pop_inc'] / abs(add_pop['pop_inc']))"
   ]
  },
  {
   "cell_type": "code",
   "execution_count": 103,
   "metadata": {
    "collapsed": false,
    "deletable": true,
    "editable": true
   },
   "outputs": [
    {
     "data": {
      "text/html": [
       "<div>\n",
       "<table border=\"1\" class=\"dataframe\">\n",
       "  <thead>\n",
       "    <tr style=\"text-align: right;\">\n",
       "      <th></th>\n",
       "      <th>FIPS</th>\n",
       "      <th>urban_inf</th>\n",
       "      <th>pop_2014</th>\n",
       "      <th>pop_inc</th>\n",
       "      <th>foreign_inc</th>\n",
       "    </tr>\n",
       "  </thead>\n",
       "  <tbody>\n",
       "    <tr>\n",
       "      <th>0</th>\n",
       "      <td>00000</td>\n",
       "      <td>NaN</td>\n",
       "      <td>318622525</td>\n",
       "      <td>0.031991</td>\n",
       "      <td>0.289381</td>\n",
       "    </tr>\n",
       "    <tr>\n",
       "      <th>1</th>\n",
       "      <td>01000</td>\n",
       "      <td>NaN</td>\n",
       "      <td>4840037</td>\n",
       "      <td>0.012616</td>\n",
       "      <td>0.232285</td>\n",
       "    </tr>\n",
       "    <tr>\n",
       "      <th>2</th>\n",
       "      <td>01001</td>\n",
       "      <td>2</td>\n",
       "      <td>54864</td>\n",
       "      <td>0.005369</td>\n",
       "      <td>0.040956</td>\n",
       "    </tr>\n",
       "    <tr>\n",
       "      <th>3</th>\n",
       "      <td>01003</td>\n",
       "      <td>2</td>\n",
       "      <td>199064</td>\n",
       "      <td>0.092168</td>\n",
       "      <td>0.030359</td>\n",
       "    </tr>\n",
       "    <tr>\n",
       "      <th>4</th>\n",
       "      <td>01005</td>\n",
       "      <td>6</td>\n",
       "      <td>26749</td>\n",
       "      <td>-0.025786</td>\n",
       "      <td>-0.033898</td>\n",
       "    </tr>\n",
       "    <tr>\n",
       "      <th>5</th>\n",
       "      <td>01007</td>\n",
       "      <td>1</td>\n",
       "      <td>22533</td>\n",
       "      <td>-0.016670</td>\n",
       "      <td>0.102094</td>\n",
       "    </tr>\n",
       "  </tbody>\n",
       "</table>\n",
       "</div>"
      ],
      "text/plain": [
       "    FIPS urban_inf   pop_2014   pop_inc  foreign_inc\n",
       "0  00000       NaN  318622525  0.031991     0.289381\n",
       "1  01000       NaN    4840037  0.012616     0.232285\n",
       "2  01001         2      54864  0.005369     0.040956\n",
       "3  01003         2     199064  0.092168     0.030359\n",
       "4  01005         6      26749 -0.025786    -0.033898\n",
       "5  01007         1      22533 -0.016670     0.102094"
      ]
     },
     "execution_count": 103,
     "metadata": {},
     "output_type": "execute_result"
    }
   ],
   "source": [
    "add_pop.head(6)"
   ]
  },
  {
   "cell_type": "code",
   "execution_count": 104,
   "metadata": {
    "collapsed": true,
    "deletable": true,
    "editable": true
   },
   "outputs": [],
   "source": [
    "data = data.set_index('FIPS').join(add_pop.set_index('FIPS'))"
   ]
  },
  {
   "cell_type": "code",
   "execution_count": 105,
   "metadata": {
    "collapsed": true,
    "deletable": true,
    "editable": true
   },
   "outputs": [],
   "source": [
    "unemployment = pd.read_excel('data/Unemployment.xls', skiprows=range(7), usecols=['FIPStxt', 'Unemployment_rate_2014'],\n",
    "                            converters={'FIPStxt': str})\n",
    "unemployment.columns = ['FIPS', 'unemployment']\n",
    "unemployment = unemployment.set_index('FIPS')\n",
    "unemployment2 = pd.read_excel('data/CLF01.xls', sheetname='Sheet9', usecols=['STCOU', 'CLF040210D'], converters={'STCOU': str})\n",
    "unemployment2.columns = ['FIPS', 'unemployment_2009']\n",
    "unemployment = unemployment.join(unemployment2.set_index('FIPS'))\n",
    "unemployment['unemp_change'] = unemployment['unemployment_2009'] - unemployment['unemployment']\n",
    "data = data.join(unemployment.drop('unemployment_2009', axis=1))"
   ]
  },
  {
   "cell_type": "markdown",
   "metadata": {
    "deletable": true,
    "editable": true
   },
   "source": [
    "The features are the unemployment rate in 2014 and the change in that rate from 2009."
   ]
  },
  {
   "cell_type": "code",
   "execution_count": 106,
   "metadata": {
    "collapsed": true,
    "deletable": true,
    "editable": true
   },
   "outputs": [],
   "source": [
    "poverty = pd.read_excel('data/Poverty.xls', skiprows=range(2), usecols = ['FIPStxt',\n",
    "                                                                         'PCTPOVALL_2014','MEDHHINC_2014'],\n",
    "                       converters={'FIPStxt': str})\n",
    "poverty.columns = ['FIPS', 'poverty', 'median_hh_inc'] # poverty rate and median household income\n",
    "poverty = poverty.set_index('FIPS')\n",
    "poverty2 = pd.read_excel('data/IPE01.xls', sheetname='Sheet5', usecols=['STCOU', 'IPE120209D'], converters={'STCOU': str})\n",
    "poverty2.columns = ['FIPS', 'poverty_2009']\n",
    "poverty = poverty.join(poverty2.set_index('FIPS'))\n",
    "poverty['pov_change'] = poverty['poverty_2009'] - poverty['poverty']\n",
    "data = data.join(poverty.drop('poverty_2009', axis=1))"
   ]
  },
  {
   "cell_type": "markdown",
   "metadata": {
    "deletable": true,
    "editable": true
   },
   "source": [
    "Similarly, the poverty rate in 2014 and the change from 2009."
   ]
  },
  {
   "cell_type": "code",
   "execution_count": 107,
   "metadata": {
    "collapsed": true,
    "deletable": true,
    "editable": true
   },
   "outputs": [],
   "source": [
    "age = pd.read_excel('data/AGE01.xls', sheetname='Sheet2', usecols=['STCOU', 'AGE050210D'], converters={'STCOU': str})\n",
    "age.columns = ['FIPS', 'median_age']\n",
    "data = data.join(age.set_index('FIPS'))"
   ]
  },
  {
   "cell_type": "code",
   "execution_count": 108,
   "metadata": {
    "collapsed": true,
    "deletable": true,
    "editable": true
   },
   "outputs": [],
   "source": [
    "households1 = pd.read_excel('data/HSG02.xls', sheetname='HSG02D', usecols=['HSG200210D'])\n",
    "households2 = pd.read_excel('data/HSG02.xls', sheetname='HSG02E', usecols=['STCOU', 'HSG215210D', 'HSG220210D'],\n",
    "                          converters={'STCOU': str})\n",
    "households2.columns = ['FIPS', 'hh_afr_am', 'hh_hisp']"
   ]
  },
  {
   "cell_type": "markdown",
   "metadata": {
    "deletable": true,
    "editable": true
   },
   "source": [
    "Divide the numbers of households headed by African-Americans and Hispanics by the total number of households to get percentages."
   ]
  },
  {
   "cell_type": "code",
   "execution_count": 109,
   "metadata": {
    "collapsed": true,
    "deletable": true,
    "editable": true
   },
   "outputs": [],
   "source": [
    "households2.loc[:, ['hh_afr_am', 'hh_hisp']] = households2[['hh_afr_am', 'hh_hisp']].div(households1['HSG200210D'], axis=0)\n",
    "data = data.join(households2.set_index('FIPS'))"
   ]
  },
  {
   "cell_type": "code",
   "execution_count": 110,
   "metadata": {
    "collapsed": true,
    "deletable": true,
    "editable": true
   },
   "outputs": [],
   "source": [
    "hh_07 = pd.read_excel('data/HSD01.xls', sheetname='HSD01I', usecols=['HSD410209D'])"
   ]
  },
  {
   "cell_type": "code",
   "execution_count": 111,
   "metadata": {
    "collapsed": true,
    "deletable": true,
    "editable": true
   },
   "outputs": [],
   "source": [
    "hh_female = pd.read_excel('data/HSD02.xls', sheetname='HSD02B', usecols=['STCOU', 'HSD570209D'],\n",
    "                          converters={'STCOU': str})"
   ]
  },
  {
   "cell_type": "code",
   "execution_count": 112,
   "metadata": {
    "collapsed": true,
    "deletable": true,
    "editable": true
   },
   "outputs": [],
   "source": [
    "hh_female.columns = ['FIPS', 'hh_female']\n",
    "hh_female.loc[:, 'hh_female'] = hh_female['hh_female'] / hh_07['HSD410209D']"
   ]
  },
  {
   "cell_type": "code",
   "execution_count": 113,
   "metadata": {
    "collapsed": true,
    "deletable": true,
    "editable": true
   },
   "outputs": [],
   "source": [
    "hh_food_st = pd.read_excel('data/INC01.xls', sheetname='INC01J', usecols=['STCOU', 'INC454209D'],\n",
    "                          converters={'STCOU': str})"
   ]
  },
  {
   "cell_type": "code",
   "execution_count": 114,
   "metadata": {
    "collapsed": true,
    "deletable": true,
    "editable": true
   },
   "outputs": [],
   "source": [
    "hh_food_st.columns = ['FIPS', 'hh_food_st']\n",
    "hh_food_st.loc[:, 'hh_food_st'] = hh_food_st['hh_food_st'] / hh_07['HSD410209D']"
   ]
  },
  {
   "cell_type": "code",
   "execution_count": 115,
   "metadata": {
    "collapsed": true,
    "deletable": true,
    "editable": true
   },
   "outputs": [],
   "source": [
    "data = data.join([hh_female.set_index('FIPS'), hh_food_st.set_index('FIPS')])"
   ]
  },
  {
   "cell_type": "code",
   "execution_count": 116,
   "metadata": {
    "collapsed": true,
    "deletable": true,
    "editable": true
   },
   "outputs": [],
   "source": [
    "foreign_born = pd.read_excel('data/POP02.xls', sheetname='POP02J', usecols=['STCOU', 'POP645209D'],\n",
    "                            converters={'STCOU': str})\n",
    "foreign_born.columns = ['FIPS', 'foreign_07']"
   ]
  },
  {
   "cell_type": "code",
   "execution_count": 117,
   "metadata": {
    "collapsed": true,
    "deletable": true,
    "editable": true
   },
   "outputs": [],
   "source": [
    "pop_07 = pd.read_excel('data/PST01.xls', sheetname='Sheet4', usecols=['PST045207D'])"
   ]
  },
  {
   "cell_type": "code",
   "execution_count": 118,
   "metadata": {
    "collapsed": true,
    "deletable": true,
    "editable": true
   },
   "outputs": [],
   "source": [
    "vets = pd.read_excel('data/VET01.xls', sheetname='VET01C', usecols=['STCOU', 'VET605209D', 'VET610209D'],\n",
    "                    converters={'STCOU': str})\n",
    "vets.columns = ['FIPS', 'vets', 'vets_male']"
   ]
  },
  {
   "cell_type": "code",
   "execution_count": 119,
   "metadata": {
    "collapsed": true,
    "deletable": true,
    "editable": true
   },
   "outputs": [],
   "source": [
    "vets.loc[:, 'vets'] = vets['vets'] / pop_07['PST045207D']"
   ]
  },
  {
   "cell_type": "code",
   "execution_count": 120,
   "metadata": {
    "collapsed": true,
    "deletable": true,
    "editable": true
   },
   "outputs": [],
   "source": [
    "data = data.join([foreign_born.set_index('FIPS'), vets.set_index('FIPS')])"
   ]
  },
  {
   "cell_type": "code",
   "execution_count": 121,
   "metadata": {
    "collapsed": true,
    "deletable": true,
    "editable": true
   },
   "outputs": [],
   "source": [
    "crimes = pd.read_csv('data/Crime.tsv', sep='\\t', usecols=['FIPS_ST', 'FIPS_CTY', 'VIOL', 'PROPERTY'],\n",
    "                    converters={'FIPS_ST': str, 'FIPS_CTY': str, 'VIOL': float, 'PROPERTY': float}, engine='python')"
   ]
  },
  {
   "cell_type": "code",
   "execution_count": 122,
   "metadata": {
    "collapsed": false,
    "deletable": true,
    "editable": true
   },
   "outputs": [
    {
     "data": {
      "text/html": [
       "<div>\n",
       "<table border=\"1\" class=\"dataframe\">\n",
       "  <thead>\n",
       "    <tr style=\"text-align: right;\">\n",
       "      <th></th>\n",
       "      <th>FIPS_ST</th>\n",
       "      <th>FIPS_CTY</th>\n",
       "      <th>viol_crime</th>\n",
       "      <th>prop_crime</th>\n",
       "    </tr>\n",
       "  </thead>\n",
       "  <tbody>\n",
       "    <tr>\n",
       "      <th>0</th>\n",
       "      <td>1</td>\n",
       "      <td>1</td>\n",
       "      <td>144.0</td>\n",
       "      <td>1625.0</td>\n",
       "    </tr>\n",
       "    <tr>\n",
       "      <th>1</th>\n",
       "      <td>1</td>\n",
       "      <td>3</td>\n",
       "      <td>373.0</td>\n",
       "      <td>4060.0</td>\n",
       "    </tr>\n",
       "    <tr>\n",
       "      <th>2</th>\n",
       "      <td>1</td>\n",
       "      <td>5</td>\n",
       "      <td>97.0</td>\n",
       "      <td>660.0</td>\n",
       "    </tr>\n",
       "    <tr>\n",
       "      <th>3</th>\n",
       "      <td>1</td>\n",
       "      <td>7</td>\n",
       "      <td>23.0</td>\n",
       "      <td>227.0</td>\n",
       "    </tr>\n",
       "    <tr>\n",
       "      <th>4</th>\n",
       "      <td>1</td>\n",
       "      <td>9</td>\n",
       "      <td>125.0</td>\n",
       "      <td>1270.0</td>\n",
       "    </tr>\n",
       "  </tbody>\n",
       "</table>\n",
       "</div>"
      ],
      "text/plain": [
       "  FIPS_ST FIPS_CTY  viol_crime  prop_crime\n",
       "0       1        1       144.0      1625.0\n",
       "1       1        3       373.0      4060.0\n",
       "2       1        5        97.0       660.0\n",
       "3       1        7        23.0       227.0\n",
       "4       1        9       125.0      1270.0"
      ]
     },
     "execution_count": 122,
     "metadata": {},
     "output_type": "execute_result"
    }
   ],
   "source": [
    "crimes.columns = ['FIPS_ST', 'FIPS_CTY', 'viol_crime', 'prop_crime']\n",
    "crimes.head()"
   ]
  },
  {
   "cell_type": "code",
   "execution_count": 123,
   "metadata": {
    "collapsed": true,
    "deletable": true,
    "editable": true
   },
   "outputs": [],
   "source": [
    "crimes['FIPS_ST'] = crimes['FIPS_ST'].apply(lambda x: '0' * (2 - len(x)) + x)"
   ]
  },
  {
   "cell_type": "code",
   "execution_count": 124,
   "metadata": {
    "collapsed": true,
    "deletable": true,
    "editable": true
   },
   "outputs": [],
   "source": [
    "crimes['FIPS_CTY'] = crimes['FIPS_CTY'].apply(lambda x: '0' * (3 - len(x)) + x)"
   ]
  },
  {
   "cell_type": "code",
   "execution_count": 125,
   "metadata": {
    "collapsed": true,
    "deletable": true,
    "editable": true
   },
   "outputs": [],
   "source": [
    "crimes['FIPS'] = crimes['FIPS_ST'] + crimes['FIPS_CTY']"
   ]
  },
  {
   "cell_type": "code",
   "execution_count": 126,
   "metadata": {
    "collapsed": true,
    "deletable": true,
    "editable": true
   },
   "outputs": [],
   "source": [
    "data = data.join(crimes.drop(['FIPS_ST', 'FIPS_CTY'], axis=1).set_index('FIPS'))"
   ]
  },
  {
   "cell_type": "code",
   "execution_count": 127,
   "metadata": {
    "collapsed": true,
    "deletable": true,
    "editable": true
   },
   "outputs": [],
   "source": [
    "data.loc[:, ['viol_crime', 'prop_crime']] = data[['viol_crime', 'prop_crime']].div(data['pop_2014'], axis=0)"
   ]
  },
  {
   "cell_type": "code",
   "execution_count": 128,
   "metadata": {
    "collapsed": false,
    "deletable": true,
    "editable": true
   },
   "outputs": [
    {
     "data": {
      "text/plain": [
       "state             0\n",
       "name              0\n",
       "< diploma        10\n",
       "degree+          10\n",
       "urban_inf        10\n",
       "pop_2014         10\n",
       "pop_inc          10\n",
       "foreign_inc      13\n",
       "unemployment     11\n",
       "unemp_change     13\n",
       "poverty          13\n",
       "median_hh_inc    13\n",
       "pov_change       13\n",
       "median_age        9\n",
       "hh_afr_am        11\n",
       "hh_hisp          11\n",
       "hh_female        11\n",
       "hh_food_st       11\n",
       "foreign_07        9\n",
       "vets             11\n",
       "vets_male         9\n",
       "viol_crime       18\n",
       "prop_crime       18\n",
       "dtype: int64"
      ]
     },
     "execution_count": 128,
     "metadata": {},
     "output_type": "execute_result"
    }
   ],
   "source": [
    "data.isnull().sum()"
   ]
  },
  {
   "cell_type": "code",
   "execution_count": 129,
   "metadata": {
    "collapsed": false,
    "deletable": true,
    "editable": true
   },
   "outputs": [
    {
     "data": {
      "text/plain": [
       "3130"
      ]
     },
     "execution_count": 129,
     "metadata": {},
     "output_type": "execute_result"
    }
   ],
   "source": [
    "len(data.dropna())"
   ]
  },
  {
   "cell_type": "code",
   "execution_count": 130,
   "metadata": {
    "collapsed": false,
    "deletable": true,
    "editable": true
   },
   "outputs": [
    {
     "data": {
      "text/plain": [
       "3152"
      ]
     },
     "execution_count": 130,
     "metadata": {},
     "output_type": "execute_result"
    }
   ],
   "source": [
    "len(data)"
   ]
  },
  {
   "cell_type": "markdown",
   "metadata": {
    "deletable": true,
    "editable": true
   },
   "source": [
    "Many of the missing values occur in records missing multiple values, and dropping all of them would only reduce the number of records from 3,152 to 3,130, so drop them."
   ]
  },
  {
   "cell_type": "code",
   "execution_count": 131,
   "metadata": {
    "collapsed": true,
    "deletable": true,
    "editable": true
   },
   "outputs": [],
   "source": [
    "data = data.dropna()"
   ]
  },
  {
   "cell_type": "code",
   "execution_count": 132,
   "metadata": {
    "collapsed": false,
    "deletable": true,
    "editable": true
   },
   "outputs": [
    {
     "data": {
      "text/plain": [
       "state              0\n",
       "name               0\n",
       "< diploma          0\n",
       "degree+            0\n",
       "urban_inf          0\n",
       "pop_2014           0\n",
       "pop_inc            0\n",
       "foreign_inc      156\n",
       "unemployment       0\n",
       "unemp_change      11\n",
       "poverty            0\n",
       "median_hh_inc      0\n",
       "pov_change        61\n",
       "median_age         0\n",
       "hh_afr_am         85\n",
       "hh_hisp            4\n",
       "hh_female          2\n",
       "hh_food_st         3\n",
       "foreign_07        33\n",
       "vets               0\n",
       "vets_male          0\n",
       "viol_crime       163\n",
       "prop_crime       100\n",
       "dtype: int64"
      ]
     },
     "execution_count": 132,
     "metadata": {},
     "output_type": "execute_result"
    }
   ],
   "source": [
    "(data == 0).sum()"
   ]
  },
  {
   "cell_type": "markdown",
   "metadata": {
    "deletable": true,
    "editable": true
   },
   "source": [
    "It is reasonable that these values could be zero, so proceed."
   ]
  },
  {
   "cell_type": "code",
   "execution_count": 133,
   "metadata": {
    "collapsed": false,
    "deletable": true,
    "editable": true
   },
   "outputs": [
    {
     "data": {
      "text/html": [
       "<div>\n",
       "<table border=\"1\" class=\"dataframe\">\n",
       "  <thead>\n",
       "    <tr style=\"text-align: right;\">\n",
       "      <th></th>\n",
       "      <th>&lt; diploma</th>\n",
       "      <th>degree+</th>\n",
       "      <th>pop_2014</th>\n",
       "      <th>pop_inc</th>\n",
       "      <th>foreign_inc</th>\n",
       "      <th>unemployment</th>\n",
       "      <th>unemp_change</th>\n",
       "      <th>poverty</th>\n",
       "      <th>median_hh_inc</th>\n",
       "      <th>pov_change</th>\n",
       "      <th>median_age</th>\n",
       "      <th>hh_afr_am</th>\n",
       "      <th>hh_hisp</th>\n",
       "      <th>hh_female</th>\n",
       "      <th>hh_food_st</th>\n",
       "      <th>foreign_07</th>\n",
       "      <th>vets</th>\n",
       "      <th>vets_male</th>\n",
       "      <th>viol_crime</th>\n",
       "      <th>prop_crime</th>\n",
       "    </tr>\n",
       "  </thead>\n",
       "  <tbody>\n",
       "    <tr>\n",
       "      <th>count</th>\n",
       "      <td>3130.000000</td>\n",
       "      <td>3130.000000</td>\n",
       "      <td>3.130000e+03</td>\n",
       "      <td>3130.000000</td>\n",
       "      <td>3130.000000</td>\n",
       "      <td>3130.000000</td>\n",
       "      <td>3130.000000</td>\n",
       "      <td>3130.000000</td>\n",
       "      <td>3130.000000</td>\n",
       "      <td>3130.000000</td>\n",
       "      <td>3130.000000</td>\n",
       "      <td>3130.000000</td>\n",
       "      <td>3130.000000</td>\n",
       "      <td>3130.000000</td>\n",
       "      <td>3130.000000</td>\n",
       "      <td>3130.000000</td>\n",
       "      <td>3130.000000</td>\n",
       "      <td>3130.000000</td>\n",
       "      <td>3130.000000</td>\n",
       "      <td>3130.000000</td>\n",
       "    </tr>\n",
       "    <tr>\n",
       "      <th>mean</th>\n",
       "      <td>14.203396</td>\n",
       "      <td>20.789275</td>\n",
       "      <td>1.017577e+05</td>\n",
       "      <td>0.002831</td>\n",
       "      <td>0.395946</td>\n",
       "      <td>6.235559</td>\n",
       "      <td>2.946709</td>\n",
       "      <td>16.837380</td>\n",
       "      <td>47121.392971</td>\n",
       "      <td>-0.539904</td>\n",
       "      <td>40.336102</td>\n",
       "      <td>0.081055</td>\n",
       "      <td>0.060388</td>\n",
       "      <td>0.110043</td>\n",
       "      <td>0.104072</td>\n",
       "      <td>4.242971</td>\n",
       "      <td>0.088570</td>\n",
       "      <td>94.202109</td>\n",
       "      <td>0.002291</td>\n",
       "      <td>0.018038</td>\n",
       "    </tr>\n",
       "    <tr>\n",
       "      <th>std</th>\n",
       "      <td>6.539295</td>\n",
       "      <td>9.143450</td>\n",
       "      <td>3.263767e+05</td>\n",
       "      <td>0.041968</td>\n",
       "      <td>3.043823</td>\n",
       "      <td>2.256287</td>\n",
       "      <td>1.807379</td>\n",
       "      <td>6.422444</td>\n",
       "      <td>12099.573945</td>\n",
       "      <td>2.161624</td>\n",
       "      <td>5.033958</td>\n",
       "      <td>0.138236</td>\n",
       "      <td>0.114099</td>\n",
       "      <td>0.043623</td>\n",
       "      <td>0.058290</td>\n",
       "      <td>5.475315</td>\n",
       "      <td>0.022732</td>\n",
       "      <td>3.143674</td>\n",
       "      <td>0.001968</td>\n",
       "      <td>0.011847</td>\n",
       "    </tr>\n",
       "    <tr>\n",
       "      <th>min</th>\n",
       "      <td>1.279000</td>\n",
       "      <td>2.985000</td>\n",
       "      <td>8.900000e+01</td>\n",
       "      <td>-0.177510</td>\n",
       "      <td>-6.333333</td>\n",
       "      <td>1.200000</td>\n",
       "      <td>-8.200000</td>\n",
       "      <td>3.200000</td>\n",
       "      <td>21658.000000</td>\n",
       "      <td>-15.900000</td>\n",
       "      <td>22.400000</td>\n",
       "      <td>0.000000</td>\n",
       "      <td>0.000000</td>\n",
       "      <td>0.000000</td>\n",
       "      <td>0.000000</td>\n",
       "      <td>0.000000</td>\n",
       "      <td>0.019065</td>\n",
       "      <td>65.000000</td>\n",
       "      <td>0.000000</td>\n",
       "      <td>0.000000</td>\n",
       "    </tr>\n",
       "    <tr>\n",
       "      <th>25%</th>\n",
       "      <td>9.282750</td>\n",
       "      <td>14.427500</td>\n",
       "      <td>1.102950e+04</td>\n",
       "      <td>-0.021689</td>\n",
       "      <td>0.007641</td>\n",
       "      <td>4.600000</td>\n",
       "      <td>1.700000</td>\n",
       "      <td>12.100000</td>\n",
       "      <td>38889.000000</td>\n",
       "      <td>-1.700000</td>\n",
       "      <td>37.400000</td>\n",
       "      <td>0.002661</td>\n",
       "      <td>0.009502</td>\n",
       "      <td>0.082411</td>\n",
       "      <td>0.062540</td>\n",
       "      <td>1.100000</td>\n",
       "      <td>0.074039</td>\n",
       "      <td>92.900000</td>\n",
       "      <td>0.000981</td>\n",
       "      <td>0.009866</td>\n",
       "    </tr>\n",
       "    <tr>\n",
       "      <th>50%</th>\n",
       "      <td>12.765500</td>\n",
       "      <td>18.528000</td>\n",
       "      <td>2.574250e+04</td>\n",
       "      <td>-0.004227</td>\n",
       "      <td>0.057769</td>\n",
       "      <td>6.000000</td>\n",
       "      <td>2.800000</td>\n",
       "      <td>15.800000</td>\n",
       "      <td>45227.500000</td>\n",
       "      <td>-0.500000</td>\n",
       "      <td>40.300000</td>\n",
       "      <td>0.013111</td>\n",
       "      <td>0.019849</td>\n",
       "      <td>0.103899</td>\n",
       "      <td>0.093112</td>\n",
       "      <td>2.300000</td>\n",
       "      <td>0.087159</td>\n",
       "      <td>94.600000</td>\n",
       "      <td>0.001823</td>\n",
       "      <td>0.016319</td>\n",
       "    </tr>\n",
       "    <tr>\n",
       "      <th>75%</th>\n",
       "      <td>18.292750</td>\n",
       "      <td>24.703750</td>\n",
       "      <td>6.785250e+04</td>\n",
       "      <td>0.020261</td>\n",
       "      <td>0.200482</td>\n",
       "      <td>7.500000</td>\n",
       "      <td>4.000000</td>\n",
       "      <td>20.400000</td>\n",
       "      <td>52529.750000</td>\n",
       "      <td>0.700000</td>\n",
       "      <td>43.300000</td>\n",
       "      <td>0.093166</td>\n",
       "      <td>0.053750</td>\n",
       "      <td>0.128855</td>\n",
       "      <td>0.134389</td>\n",
       "      <td>5.100000</td>\n",
       "      <td>0.100460</td>\n",
       "      <td>96.100000</td>\n",
       "      <td>0.003095</td>\n",
       "      <td>0.024298</td>\n",
       "    </tr>\n",
       "    <tr>\n",
       "      <th>max</th>\n",
       "      <td>51.479000</td>\n",
       "      <td>80.210000</td>\n",
       "      <td>1.007270e+07</td>\n",
       "      <td>0.727044</td>\n",
       "      <td>119.000000</td>\n",
       "      <td>24.000000</td>\n",
       "      <td>13.600000</td>\n",
       "      <td>47.400000</td>\n",
       "      <td>125635.000000</td>\n",
       "      <td>17.400000</td>\n",
       "      <td>62.700000</td>\n",
       "      <td>0.832707</td>\n",
       "      <td>0.955767</td>\n",
       "      <td>0.450570</td>\n",
       "      <td>0.400252</td>\n",
       "      <td>63.100000</td>\n",
       "      <td>0.297533</td>\n",
       "      <td>100.000000</td>\n",
       "      <td>0.025476</td>\n",
       "      <td>0.138286</td>\n",
       "    </tr>\n",
       "  </tbody>\n",
       "</table>\n",
       "</div>"
      ],
      "text/plain": [
       "         < diploma      degree+      pop_2014      pop_inc  foreign_inc  \\\n",
       "count  3130.000000  3130.000000  3.130000e+03  3130.000000  3130.000000   \n",
       "mean     14.203396    20.789275  1.017577e+05     0.002831     0.395946   \n",
       "std       6.539295     9.143450  3.263767e+05     0.041968     3.043823   \n",
       "min       1.279000     2.985000  8.900000e+01    -0.177510    -6.333333   \n",
       "25%       9.282750    14.427500  1.102950e+04    -0.021689     0.007641   \n",
       "50%      12.765500    18.528000  2.574250e+04    -0.004227     0.057769   \n",
       "75%      18.292750    24.703750  6.785250e+04     0.020261     0.200482   \n",
       "max      51.479000    80.210000  1.007270e+07     0.727044   119.000000   \n",
       "\n",
       "       unemployment  unemp_change      poverty  median_hh_inc   pov_change  \\\n",
       "count   3130.000000   3130.000000  3130.000000    3130.000000  3130.000000   \n",
       "mean       6.235559      2.946709    16.837380   47121.392971    -0.539904   \n",
       "std        2.256287      1.807379     6.422444   12099.573945     2.161624   \n",
       "min        1.200000     -8.200000     3.200000   21658.000000   -15.900000   \n",
       "25%        4.600000      1.700000    12.100000   38889.000000    -1.700000   \n",
       "50%        6.000000      2.800000    15.800000   45227.500000    -0.500000   \n",
       "75%        7.500000      4.000000    20.400000   52529.750000     0.700000   \n",
       "max       24.000000     13.600000    47.400000  125635.000000    17.400000   \n",
       "\n",
       "        median_age    hh_afr_am      hh_hisp    hh_female   hh_food_st  \\\n",
       "count  3130.000000  3130.000000  3130.000000  3130.000000  3130.000000   \n",
       "mean     40.336102     0.081055     0.060388     0.110043     0.104072   \n",
       "std       5.033958     0.138236     0.114099     0.043623     0.058290   \n",
       "min      22.400000     0.000000     0.000000     0.000000     0.000000   \n",
       "25%      37.400000     0.002661     0.009502     0.082411     0.062540   \n",
       "50%      40.300000     0.013111     0.019849     0.103899     0.093112   \n",
       "75%      43.300000     0.093166     0.053750     0.128855     0.134389   \n",
       "max      62.700000     0.832707     0.955767     0.450570     0.400252   \n",
       "\n",
       "        foreign_07         vets    vets_male   viol_crime   prop_crime  \n",
       "count  3130.000000  3130.000000  3130.000000  3130.000000  3130.000000  \n",
       "mean      4.242971     0.088570    94.202109     0.002291     0.018038  \n",
       "std       5.475315     0.022732     3.143674     0.001968     0.011847  \n",
       "min       0.000000     0.019065    65.000000     0.000000     0.000000  \n",
       "25%       1.100000     0.074039    92.900000     0.000981     0.009866  \n",
       "50%       2.300000     0.087159    94.600000     0.001823     0.016319  \n",
       "75%       5.100000     0.100460    96.100000     0.003095     0.024298  \n",
       "max      63.100000     0.297533   100.000000     0.025476     0.138286  "
      ]
     },
     "execution_count": 133,
     "metadata": {},
     "output_type": "execute_result"
    }
   ],
   "source": [
    "data.describe()"
   ]
  },
  {
   "cell_type": "markdown",
   "metadata": {
    "deletable": true,
    "editable": true
   },
   "source": [
    "From the stats, the dataset certainly contains strong outliers that will need to be dealt with."
   ]
  },
  {
   "cell_type": "code",
   "execution_count": 134,
   "metadata": {
    "collapsed": true,
    "deletable": true,
    "editable": true
   },
   "outputs": [],
   "source": [
    "deaths = pd.read_csv('data/Drug_deaths.csv', usecols=['FIPS', 'Year', 'Estimated Age-adjusted Death Rate, 16 Categories (in ranges)'],\n",
    "                    converters={'FIPS': str})"
   ]
  },
  {
   "cell_type": "code",
   "execution_count": 135,
   "metadata": {
    "collapsed": false,
    "deletable": true,
    "editable": true
   },
   "outputs": [
    {
     "data": {
      "text/plain": [
       "FIPS                                                            0\n",
       "Year                                                            0\n",
       "Estimated Age-adjusted Death Rate, 16 Categories (in ranges)    0\n",
       "dtype: int64"
      ]
     },
     "execution_count": 135,
     "metadata": {},
     "output_type": "execute_result"
    }
   ],
   "source": [
    "deaths.isnull().sum()"
   ]
  },
  {
   "cell_type": "code",
   "execution_count": 136,
   "metadata": {
    "collapsed": true,
    "deletable": true,
    "editable": true
   },
   "outputs": [],
   "source": [
    "targets = deaths[deaths['Year'] == 2014]\n",
    "targets = targets.drop('Year', axis=1)\n",
    "targets.columns = ['FIPS', 'death_rate']\n",
    "targets.loc[:, 'FIPS'] = targets['FIPS'].apply(lambda x: '0' + x if len(x) == 4 else x)"
   ]
  },
  {
   "cell_type": "code",
   "execution_count": 137,
   "metadata": {
    "collapsed": false,
    "deletable": true,
    "editable": true
   },
   "outputs": [
    {
     "data": {
      "text/plain": [
       "FIPS          0\n",
       "death_rate    0\n",
       "dtype: int64"
      ]
     },
     "execution_count": 137,
     "metadata": {},
     "output_type": "execute_result"
    }
   ],
   "source": [
    "targets.isnull().sum()"
   ]
  },
  {
   "cell_type": "code",
   "execution_count": 138,
   "metadata": {
    "collapsed": true,
    "deletable": true,
    "editable": true
   },
   "outputs": [],
   "source": [
    "import re\n",
    "def get_num(string):\n",
    "    match = re.search('\\d+', string)\n",
    "    return int(match.group()) + 1"
   ]
  },
  {
   "cell_type": "code",
   "execution_count": 139,
   "metadata": {
    "collapsed": true,
    "deletable": true,
    "editable": true
   },
   "outputs": [],
   "source": [
    "targets['numeric'] = targets['death_rate'].apply(lambda x: get_num(x) if x != '<2' else 1)"
   ]
  },
  {
   "cell_type": "code",
   "execution_count": 140,
   "metadata": {
    "collapsed": true,
    "deletable": true,
    "editable": true
   },
   "outputs": [],
   "source": [
    "data = data.join(targets.set_index('FIPS')) # drop na"
   ]
  },
  {
   "cell_type": "code",
   "execution_count": 141,
   "metadata": {
    "collapsed": false,
    "deletable": true,
    "editable": true
   },
   "outputs": [
    {
     "data": {
      "text/plain": [
       "state            0\n",
       "name             0\n",
       "< diploma        0\n",
       "degree+          0\n",
       "urban_inf        0\n",
       "pop_2014         0\n",
       "pop_inc          0\n",
       "foreign_inc      0\n",
       "unemployment     0\n",
       "unemp_change     0\n",
       "poverty          0\n",
       "median_hh_inc    0\n",
       "pov_change       0\n",
       "median_age       0\n",
       "hh_afr_am        0\n",
       "hh_hisp          0\n",
       "hh_female        0\n",
       "hh_food_st       0\n",
       "foreign_07       0\n",
       "vets             0\n",
       "vets_male        0\n",
       "viol_crime       0\n",
       "prop_crime       0\n",
       "death_rate       4\n",
       "numeric          4\n",
       "dtype: int64"
      ]
     },
     "execution_count": 141,
     "metadata": {},
     "output_type": "execute_result"
    }
   ],
   "source": [
    "data.isnull().sum()"
   ]
  },
  {
   "cell_type": "code",
   "execution_count": 142,
   "metadata": {
    "collapsed": false,
    "deletable": true,
    "editable": true
   },
   "outputs": [
    {
     "data": {
      "text/html": [
       "<div>\n",
       "<table border=\"1\" class=\"dataframe\">\n",
       "  <thead>\n",
       "    <tr style=\"text-align: right;\">\n",
       "      <th></th>\n",
       "      <th>state</th>\n",
       "      <th>name</th>\n",
       "      <th>&lt; diploma</th>\n",
       "      <th>degree+</th>\n",
       "      <th>urban_inf</th>\n",
       "      <th>pop_2014</th>\n",
       "      <th>pop_inc</th>\n",
       "      <th>foreign_inc</th>\n",
       "      <th>unemployment</th>\n",
       "      <th>unemp_change</th>\n",
       "      <th>...</th>\n",
       "      <th>hh_hisp</th>\n",
       "      <th>hh_female</th>\n",
       "      <th>hh_food_st</th>\n",
       "      <th>foreign_07</th>\n",
       "      <th>vets</th>\n",
       "      <th>vets_male</th>\n",
       "      <th>viol_crime</th>\n",
       "      <th>prop_crime</th>\n",
       "      <th>death_rate</th>\n",
       "      <th>numeric</th>\n",
       "    </tr>\n",
       "    <tr>\n",
       "      <th>FIPS</th>\n",
       "      <th></th>\n",
       "      <th></th>\n",
       "      <th></th>\n",
       "      <th></th>\n",
       "      <th></th>\n",
       "      <th></th>\n",
       "      <th></th>\n",
       "      <th></th>\n",
       "      <th></th>\n",
       "      <th></th>\n",
       "      <th></th>\n",
       "      <th></th>\n",
       "      <th></th>\n",
       "      <th></th>\n",
       "      <th></th>\n",
       "      <th></th>\n",
       "      <th></th>\n",
       "      <th></th>\n",
       "      <th></th>\n",
       "      <th></th>\n",
       "      <th></th>\n",
       "    </tr>\n",
       "  </thead>\n",
       "  <tbody>\n",
       "    <tr>\n",
       "      <th>08001</th>\n",
       "      <td>CO</td>\n",
       "      <td>Adams County</td>\n",
       "      <td>17.839</td>\n",
       "      <td>22.368</td>\n",
       "      <td>1</td>\n",
       "      <td>479488.0</td>\n",
       "      <td>0.085790</td>\n",
       "      <td>0.054824</td>\n",
       "      <td>5.7</td>\n",
       "      <td>4.5</td>\n",
       "      <td>...</td>\n",
       "      <td>0.289450</td>\n",
       "      <td>0.114910</td>\n",
       "      <td>0.055541</td>\n",
       "      <td>15.3</td>\n",
       "      <td>0.071674</td>\n",
       "      <td>92.5</td>\n",
       "      <td>0.003418</td>\n",
       "      <td>0.028810</td>\n",
       "      <td>NaN</td>\n",
       "      <td>NaN</td>\n",
       "    </tr>\n",
       "    <tr>\n",
       "      <th>08014</th>\n",
       "      <td>CO</td>\n",
       "      <td>Broomfield County</td>\n",
       "      <td>3.948</td>\n",
       "      <td>52.457</td>\n",
       "      <td>1</td>\n",
       "      <td>61706.0</td>\n",
       "      <td>0.104081</td>\n",
       "      <td>0.045556</td>\n",
       "      <td>4.2</td>\n",
       "      <td>3.7</td>\n",
       "      <td>...</td>\n",
       "      <td>0.080415</td>\n",
       "      <td>0.089699</td>\n",
       "      <td>0.027461</td>\n",
       "      <td>7.5</td>\n",
       "      <td>0.077482</td>\n",
       "      <td>93.9</td>\n",
       "      <td>0.000502</td>\n",
       "      <td>0.016854</td>\n",
       "      <td>NaN</td>\n",
       "      <td>NaN</td>\n",
       "    </tr>\n",
       "    <tr>\n",
       "      <th>08059</th>\n",
       "      <td>CO</td>\n",
       "      <td>Jefferson County</td>\n",
       "      <td>5.848</td>\n",
       "      <td>42.220</td>\n",
       "      <td>1</td>\n",
       "      <td>558519.0</td>\n",
       "      <td>0.044853</td>\n",
       "      <td>0.059893</td>\n",
       "      <td>4.6</td>\n",
       "      <td>4.0</td>\n",
       "      <td>...</td>\n",
       "      <td>0.105262</td>\n",
       "      <td>0.096715</td>\n",
       "      <td>0.033976</td>\n",
       "      <td>6.4</td>\n",
       "      <td>0.088829</td>\n",
       "      <td>93.4</td>\n",
       "      <td>0.002333</td>\n",
       "      <td>0.027371</td>\n",
       "      <td>NaN</td>\n",
       "      <td>NaN</td>\n",
       "    </tr>\n",
       "    <tr>\n",
       "      <th>08123</th>\n",
       "      <td>CO</td>\n",
       "      <td>Weld County</td>\n",
       "      <td>12.995</td>\n",
       "      <td>26.762</td>\n",
       "      <td>2</td>\n",
       "      <td>275584.0</td>\n",
       "      <td>0.090019</td>\n",
       "      <td>0.018015</td>\n",
       "      <td>4.5</td>\n",
       "      <td>5.7</td>\n",
       "      <td>...</td>\n",
       "      <td>0.212258</td>\n",
       "      <td>0.092415</td>\n",
       "      <td>0.048219</td>\n",
       "      <td>9.3</td>\n",
       "      <td>0.067942</td>\n",
       "      <td>94.2</td>\n",
       "      <td>0.002885</td>\n",
       "      <td>0.020204</td>\n",
       "      <td>NaN</td>\n",
       "      <td>NaN</td>\n",
       "    </tr>\n",
       "  </tbody>\n",
       "</table>\n",
       "<p>4 rows × 25 columns</p>\n",
       "</div>"
      ],
      "text/plain": [
       "      state               name  < diploma  degree+ urban_inf  pop_2014  \\\n",
       "FIPS                                                                     \n",
       "08001    CO       Adams County     17.839   22.368         1  479488.0   \n",
       "08014    CO  Broomfield County      3.948   52.457         1   61706.0   \n",
       "08059    CO   Jefferson County      5.848   42.220         1  558519.0   \n",
       "08123    CO        Weld County     12.995   26.762         2  275584.0   \n",
       "\n",
       "        pop_inc  foreign_inc  unemployment  unemp_change   ...      hh_hisp  \\\n",
       "FIPS                                                       ...                \n",
       "08001  0.085790     0.054824           5.7           4.5   ...     0.289450   \n",
       "08014  0.104081     0.045556           4.2           3.7   ...     0.080415   \n",
       "08059  0.044853     0.059893           4.6           4.0   ...     0.105262   \n",
       "08123  0.090019     0.018015           4.5           5.7   ...     0.212258   \n",
       "\n",
       "       hh_female  hh_food_st  foreign_07      vets  vets_male  viol_crime  \\\n",
       "FIPS                                                                        \n",
       "08001   0.114910    0.055541        15.3  0.071674       92.5    0.003418   \n",
       "08014   0.089699    0.027461         7.5  0.077482       93.9    0.000502   \n",
       "08059   0.096715    0.033976         6.4  0.088829       93.4    0.002333   \n",
       "08123   0.092415    0.048219         9.3  0.067942       94.2    0.002885   \n",
       "\n",
       "       prop_crime  death_rate  numeric  \n",
       "FIPS                                    \n",
       "08001    0.028810         NaN      NaN  \n",
       "08014    0.016854         NaN      NaN  \n",
       "08059    0.027371         NaN      NaN  \n",
       "08123    0.020204         NaN      NaN  \n",
       "\n",
       "[4 rows x 25 columns]"
      ]
     },
     "execution_count": 142,
     "metadata": {},
     "output_type": "execute_result"
    }
   ],
   "source": [
    "data[data['death_rate'].isnull()]"
   ]
  },
  {
   "cell_type": "markdown",
   "metadata": {
    "deletable": true,
    "editable": true
   },
   "source": [
    "These four counties had boundaries redrawn after 2000, and do not appear in the opioid deaths dataset, so they will be removed."
   ]
  },
  {
   "cell_type": "code",
   "execution_count": 143,
   "metadata": {
    "collapsed": true,
    "deletable": true,
    "editable": true
   },
   "outputs": [],
   "source": [
    "data = data.drop(['08001', '08014', '08059', '08123'])"
   ]
  },
  {
   "cell_type": "code",
   "execution_count": 144,
   "metadata": {
    "collapsed": false,
    "deletable": true,
    "editable": true
   },
   "outputs": [
    {
     "data": {
      "text/plain": [
       "count    3136.000000\n",
       "mean       14.180485\n",
       "std         6.583190\n",
       "min         1.000000\n",
       "25%         9.000000\n",
       "50%        13.000000\n",
       "75%        17.000000\n",
       "max        31.000000\n",
       "Name: numeric, dtype: float64"
      ]
     },
     "execution_count": 144,
     "metadata": {},
     "output_type": "execute_result"
    }
   ],
   "source": [
    "targets['numeric'].describe()"
   ]
  },
  {
   "cell_type": "markdown",
   "metadata": {
    "deletable": true,
    "editable": true
   },
   "source": [
    "The maximum value of 31 fits the standard definition of an outlier as less than Q1 - 1.5\\*IQR or greater than Q3 + 1.5\\*IQR. Here that applies only to values >29. Where are these outliers?"
   ]
  },
  {
   "cell_type": "code",
   "execution_count": 145,
   "metadata": {
    "collapsed": false,
    "deletable": true,
    "editable": true
   },
   "outputs": [
    {
     "name": "stdout",
     "output_type": "stream",
     "text": [
      "102\n"
     ]
    },
    {
     "data": {
      "text/html": [
       "<div>\n",
       "<table border=\"1\" class=\"dataframe\">\n",
       "  <thead>\n",
       "    <tr style=\"text-align: right;\">\n",
       "      <th></th>\n",
       "      <th>state</th>\n",
       "      <th>name</th>\n",
       "    </tr>\n",
       "    <tr>\n",
       "      <th>FIPS</th>\n",
       "      <th></th>\n",
       "      <th></th>\n",
       "    </tr>\n",
       "  </thead>\n",
       "  <tbody>\n",
       "    <tr>\n",
       "      <th>04012</th>\n",
       "      <td>AZ</td>\n",
       "      <td>La Paz County</td>\n",
       "    </tr>\n",
       "    <tr>\n",
       "      <th>06023</th>\n",
       "      <td>CA</td>\n",
       "      <td>Humboldt County</td>\n",
       "    </tr>\n",
       "    <tr>\n",
       "      <th>06033</th>\n",
       "      <td>CA</td>\n",
       "      <td>Lake County</td>\n",
       "    </tr>\n",
       "    <tr>\n",
       "      <th>06089</th>\n",
       "      <td>CA</td>\n",
       "      <td>Shasta County</td>\n",
       "    </tr>\n",
       "    <tr>\n",
       "      <th>08023</th>\n",
       "      <td>CO</td>\n",
       "      <td>Costilla County</td>\n",
       "    </tr>\n",
       "    <tr>\n",
       "      <th>08055</th>\n",
       "      <td>CO</td>\n",
       "      <td>Huerfano County</td>\n",
       "    </tr>\n",
       "    <tr>\n",
       "      <th>12017</th>\n",
       "      <td>FL</td>\n",
       "      <td>Citrus County</td>\n",
       "    </tr>\n",
       "    <tr>\n",
       "      <th>12101</th>\n",
       "      <td>FL</td>\n",
       "      <td>Pasco County</td>\n",
       "    </tr>\n",
       "    <tr>\n",
       "      <th>16007</th>\n",
       "      <td>ID</td>\n",
       "      <td>Bear Lake County</td>\n",
       "    </tr>\n",
       "    <tr>\n",
       "      <th>18143</th>\n",
       "      <td>IN</td>\n",
       "      <td>Scott County</td>\n",
       "    </tr>\n",
       "    <tr>\n",
       "      <th>18149</th>\n",
       "      <td>IN</td>\n",
       "      <td>Starke County</td>\n",
       "    </tr>\n",
       "    <tr>\n",
       "      <th>20207</th>\n",
       "      <td>KS</td>\n",
       "      <td>Woodson County</td>\n",
       "    </tr>\n",
       "    <tr>\n",
       "      <th>21011</th>\n",
       "      <td>KY</td>\n",
       "      <td>Bath County</td>\n",
       "    </tr>\n",
       "    <tr>\n",
       "      <th>21013</th>\n",
       "      <td>KY</td>\n",
       "      <td>Bell County</td>\n",
       "    </tr>\n",
       "    <tr>\n",
       "      <th>21019</th>\n",
       "      <td>KY</td>\n",
       "      <td>Boyd County</td>\n",
       "    </tr>\n",
       "    <tr>\n",
       "      <th>21025</th>\n",
       "      <td>KY</td>\n",
       "      <td>Breathitt County</td>\n",
       "    </tr>\n",
       "    <tr>\n",
       "      <th>21037</th>\n",
       "      <td>KY</td>\n",
       "      <td>Campbell County</td>\n",
       "    </tr>\n",
       "    <tr>\n",
       "      <th>21049</th>\n",
       "      <td>KY</td>\n",
       "      <td>Clark County</td>\n",
       "    </tr>\n",
       "    <tr>\n",
       "      <th>21051</th>\n",
       "      <td>KY</td>\n",
       "      <td>Clay County</td>\n",
       "    </tr>\n",
       "    <tr>\n",
       "      <th>21053</th>\n",
       "      <td>KY</td>\n",
       "      <td>Clinton County</td>\n",
       "    </tr>\n",
       "    <tr>\n",
       "      <th>21057</th>\n",
       "      <td>KY</td>\n",
       "      <td>Cumberland County</td>\n",
       "    </tr>\n",
       "    <tr>\n",
       "      <th>21065</th>\n",
       "      <td>KY</td>\n",
       "      <td>Estill County</td>\n",
       "    </tr>\n",
       "    <tr>\n",
       "      <th>21071</th>\n",
       "      <td>KY</td>\n",
       "      <td>Floyd County</td>\n",
       "    </tr>\n",
       "    <tr>\n",
       "      <th>21077</th>\n",
       "      <td>KY</td>\n",
       "      <td>Gallatin County</td>\n",
       "    </tr>\n",
       "    <tr>\n",
       "      <th>21095</th>\n",
       "      <td>KY</td>\n",
       "      <td>Harlan County</td>\n",
       "    </tr>\n",
       "    <tr>\n",
       "      <th>21115</th>\n",
       "      <td>KY</td>\n",
       "      <td>Johnson County</td>\n",
       "    </tr>\n",
       "    <tr>\n",
       "      <th>21117</th>\n",
       "      <td>KY</td>\n",
       "      <td>Kenton County</td>\n",
       "    </tr>\n",
       "    <tr>\n",
       "      <th>21119</th>\n",
       "      <td>KY</td>\n",
       "      <td>Knott County</td>\n",
       "    </tr>\n",
       "    <tr>\n",
       "      <th>21121</th>\n",
       "      <td>KY</td>\n",
       "      <td>Knox County</td>\n",
       "    </tr>\n",
       "    <tr>\n",
       "      <th>21127</th>\n",
       "      <td>KY</td>\n",
       "      <td>Lawrence County</td>\n",
       "    </tr>\n",
       "    <tr>\n",
       "      <th>...</th>\n",
       "      <td>...</td>\n",
       "      <td>...</td>\n",
       "    </tr>\n",
       "    <tr>\n",
       "      <th>47027</th>\n",
       "      <td>TN</td>\n",
       "      <td>Clay County</td>\n",
       "    </tr>\n",
       "    <tr>\n",
       "      <th>47041</th>\n",
       "      <td>TN</td>\n",
       "      <td>DeKalb County</td>\n",
       "    </tr>\n",
       "    <tr>\n",
       "      <th>47067</th>\n",
       "      <td>TN</td>\n",
       "      <td>Hancock County</td>\n",
       "    </tr>\n",
       "    <tr>\n",
       "      <th>47087</th>\n",
       "      <td>TN</td>\n",
       "      <td>Jackson County</td>\n",
       "    </tr>\n",
       "    <tr>\n",
       "      <th>47137</th>\n",
       "      <td>TN</td>\n",
       "      <td>Pickett County</td>\n",
       "    </tr>\n",
       "    <tr>\n",
       "      <th>47145</th>\n",
       "      <td>TN</td>\n",
       "      <td>Roane County</td>\n",
       "    </tr>\n",
       "    <tr>\n",
       "      <th>47173</th>\n",
       "      <td>TN</td>\n",
       "      <td>Union County</td>\n",
       "    </tr>\n",
       "    <tr>\n",
       "      <th>48023</th>\n",
       "      <td>TX</td>\n",
       "      <td>Baylor County</td>\n",
       "    </tr>\n",
       "    <tr>\n",
       "      <th>49007</th>\n",
       "      <td>UT</td>\n",
       "      <td>Carbon County</td>\n",
       "    </tr>\n",
       "    <tr>\n",
       "      <th>49015</th>\n",
       "      <td>UT</td>\n",
       "      <td>Emery County</td>\n",
       "    </tr>\n",
       "    <tr>\n",
       "      <th>51027</th>\n",
       "      <td>VA</td>\n",
       "      <td>Buchanan County</td>\n",
       "    </tr>\n",
       "    <tr>\n",
       "      <th>51051</th>\n",
       "      <td>VA</td>\n",
       "      <td>Dickenson County</td>\n",
       "    </tr>\n",
       "    <tr>\n",
       "      <th>51155</th>\n",
       "      <td>VA</td>\n",
       "      <td>Pulaski County</td>\n",
       "    </tr>\n",
       "    <tr>\n",
       "      <th>51167</th>\n",
       "      <td>VA</td>\n",
       "      <td>Russell County</td>\n",
       "    </tr>\n",
       "    <tr>\n",
       "      <th>51185</th>\n",
       "      <td>VA</td>\n",
       "      <td>Tazewell County</td>\n",
       "    </tr>\n",
       "    <tr>\n",
       "      <th>51195</th>\n",
       "      <td>VA</td>\n",
       "      <td>Wise County</td>\n",
       "    </tr>\n",
       "    <tr>\n",
       "      <th>51720</th>\n",
       "      <td>VA</td>\n",
       "      <td>Norton city</td>\n",
       "    </tr>\n",
       "    <tr>\n",
       "      <th>54005</th>\n",
       "      <td>WV</td>\n",
       "      <td>Boone County</td>\n",
       "    </tr>\n",
       "    <tr>\n",
       "      <th>54011</th>\n",
       "      <td>WV</td>\n",
       "      <td>Cabell County</td>\n",
       "    </tr>\n",
       "    <tr>\n",
       "      <th>54043</th>\n",
       "      <td>WV</td>\n",
       "      <td>Lincoln County</td>\n",
       "    </tr>\n",
       "    <tr>\n",
       "      <th>54045</th>\n",
       "      <td>WV</td>\n",
       "      <td>Logan County</td>\n",
       "    </tr>\n",
       "    <tr>\n",
       "      <th>54047</th>\n",
       "      <td>WV</td>\n",
       "      <td>McDowell County</td>\n",
       "    </tr>\n",
       "    <tr>\n",
       "      <th>54055</th>\n",
       "      <td>WV</td>\n",
       "      <td>Mercer County</td>\n",
       "    </tr>\n",
       "    <tr>\n",
       "      <th>54059</th>\n",
       "      <td>WV</td>\n",
       "      <td>Mingo County</td>\n",
       "    </tr>\n",
       "    <tr>\n",
       "      <th>54063</th>\n",
       "      <td>WV</td>\n",
       "      <td>Monroe County</td>\n",
       "    </tr>\n",
       "    <tr>\n",
       "      <th>54075</th>\n",
       "      <td>WV</td>\n",
       "      <td>Pocahontas County</td>\n",
       "    </tr>\n",
       "    <tr>\n",
       "      <th>54081</th>\n",
       "      <td>WV</td>\n",
       "      <td>Raleigh County</td>\n",
       "    </tr>\n",
       "    <tr>\n",
       "      <th>54089</th>\n",
       "      <td>WV</td>\n",
       "      <td>Summers County</td>\n",
       "    </tr>\n",
       "    <tr>\n",
       "      <th>54101</th>\n",
       "      <td>WV</td>\n",
       "      <td>Webster County</td>\n",
       "    </tr>\n",
       "    <tr>\n",
       "      <th>54109</th>\n",
       "      <td>WV</td>\n",
       "      <td>Wyoming County</td>\n",
       "    </tr>\n",
       "  </tbody>\n",
       "</table>\n",
       "<p>102 rows × 2 columns</p>\n",
       "</div>"
      ],
      "text/plain": [
       "      state               name\n",
       "FIPS                          \n",
       "04012    AZ      La Paz County\n",
       "06023    CA    Humboldt County\n",
       "06033    CA        Lake County\n",
       "06089    CA      Shasta County\n",
       "08023    CO    Costilla County\n",
       "08055    CO    Huerfano County\n",
       "12017    FL      Citrus County\n",
       "12101    FL       Pasco County\n",
       "16007    ID   Bear Lake County\n",
       "18143    IN       Scott County\n",
       "18149    IN      Starke County\n",
       "20207    KS     Woodson County\n",
       "21011    KY        Bath County\n",
       "21013    KY        Bell County\n",
       "21019    KY        Boyd County\n",
       "21025    KY   Breathitt County\n",
       "21037    KY    Campbell County\n",
       "21049    KY       Clark County\n",
       "21051    KY        Clay County\n",
       "21053    KY     Clinton County\n",
       "21057    KY  Cumberland County\n",
       "21065    KY      Estill County\n",
       "21071    KY       Floyd County\n",
       "21077    KY    Gallatin County\n",
       "21095    KY      Harlan County\n",
       "21115    KY     Johnson County\n",
       "21117    KY      Kenton County\n",
       "21119    KY       Knott County\n",
       "21121    KY        Knox County\n",
       "21127    KY    Lawrence County\n",
       "...     ...                ...\n",
       "47027    TN        Clay County\n",
       "47041    TN      DeKalb County\n",
       "47067    TN     Hancock County\n",
       "47087    TN     Jackson County\n",
       "47137    TN     Pickett County\n",
       "47145    TN       Roane County\n",
       "47173    TN       Union County\n",
       "48023    TX      Baylor County\n",
       "49007    UT      Carbon County\n",
       "49015    UT       Emery County\n",
       "51027    VA    Buchanan County\n",
       "51051    VA   Dickenson County\n",
       "51155    VA     Pulaski County\n",
       "51167    VA     Russell County\n",
       "51185    VA    Tazewell County\n",
       "51195    VA        Wise County\n",
       "51720    VA        Norton city\n",
       "54005    WV       Boone County\n",
       "54011    WV      Cabell County\n",
       "54043    WV     Lincoln County\n",
       "54045    WV       Logan County\n",
       "54047    WV    McDowell County\n",
       "54055    WV      Mercer County\n",
       "54059    WV       Mingo County\n",
       "54063    WV      Monroe County\n",
       "54075    WV  Pocahontas County\n",
       "54081    WV     Raleigh County\n",
       "54089    WV     Summers County\n",
       "54101    WV     Webster County\n",
       "54109    WV     Wyoming County\n",
       "\n",
       "[102 rows x 2 columns]"
      ]
     },
     "execution_count": 145,
     "metadata": {},
     "output_type": "execute_result"
    }
   ],
   "source": [
    "target_outliers = targets[targets['numeric'] == 31]['FIPS']\n",
    "target_outliers = data.loc[target_outliers, ['state', 'name']]\n",
    "print(len(target_outliers))\n",
    "target_outliers"
   ]
  },
  {
   "cell_type": "markdown",
   "metadata": {
    "deletable": true,
    "editable": true
   },
   "source": [
    "These outliers appear to be concentrated in some states."
   ]
  },
  {
   "cell_type": "code",
   "execution_count": 146,
   "metadata": {
    "collapsed": false,
    "deletable": true,
    "editable": true
   },
   "outputs": [
    {
     "data": {
      "text/html": [
       "<div>\n",
       "<table border=\"1\" class=\"dataframe\">\n",
       "  <thead>\n",
       "    <tr style=\"text-align: right;\">\n",
       "      <th></th>\n",
       "      <th>outliers</th>\n",
       "      <th>total</th>\n",
       "      <th>percent</th>\n",
       "    </tr>\n",
       "    <tr>\n",
       "      <th>state</th>\n",
       "      <th></th>\n",
       "      <th></th>\n",
       "      <th></th>\n",
       "    </tr>\n",
       "  </thead>\n",
       "  <tbody>\n",
       "    <tr>\n",
       "      <th>AZ</th>\n",
       "      <td>1</td>\n",
       "      <td>15</td>\n",
       "      <td>6.666667</td>\n",
       "    </tr>\n",
       "    <tr>\n",
       "      <th>CA</th>\n",
       "      <td>3</td>\n",
       "      <td>58</td>\n",
       "      <td>5.172414</td>\n",
       "    </tr>\n",
       "    <tr>\n",
       "      <th>CO</th>\n",
       "      <td>2</td>\n",
       "      <td>60</td>\n",
       "      <td>3.333333</td>\n",
       "    </tr>\n",
       "    <tr>\n",
       "      <th>FL</th>\n",
       "      <td>2</td>\n",
       "      <td>67</td>\n",
       "      <td>2.985075</td>\n",
       "    </tr>\n",
       "    <tr>\n",
       "      <th>ID</th>\n",
       "      <td>1</td>\n",
       "      <td>44</td>\n",
       "      <td>2.272727</td>\n",
       "    </tr>\n",
       "    <tr>\n",
       "      <th>IN</th>\n",
       "      <td>2</td>\n",
       "      <td>92</td>\n",
       "      <td>2.173913</td>\n",
       "    </tr>\n",
       "    <tr>\n",
       "      <th>KS</th>\n",
       "      <td>1</td>\n",
       "      <td>105</td>\n",
       "      <td>0.952381</td>\n",
       "    </tr>\n",
       "    <tr>\n",
       "      <th>KY</th>\n",
       "      <td>29</td>\n",
       "      <td>120</td>\n",
       "      <td>24.166667</td>\n",
       "    </tr>\n",
       "    <tr>\n",
       "      <th>LA</th>\n",
       "      <td>1</td>\n",
       "      <td>64</td>\n",
       "      <td>1.562500</td>\n",
       "    </tr>\n",
       "    <tr>\n",
       "      <th>MD</th>\n",
       "      <td>1</td>\n",
       "      <td>24</td>\n",
       "      <td>4.166667</td>\n",
       "    </tr>\n",
       "    <tr>\n",
       "      <th>MS</th>\n",
       "      <td>1</td>\n",
       "      <td>81</td>\n",
       "      <td>1.234568</td>\n",
       "    </tr>\n",
       "    <tr>\n",
       "      <th>MT</th>\n",
       "      <td>2</td>\n",
       "      <td>55</td>\n",
       "      <td>3.636364</td>\n",
       "    </tr>\n",
       "    <tr>\n",
       "      <th>NC</th>\n",
       "      <td>1</td>\n",
       "      <td>100</td>\n",
       "      <td>1.000000</td>\n",
       "    </tr>\n",
       "    <tr>\n",
       "      <th>NM</th>\n",
       "      <td>13</td>\n",
       "      <td>33</td>\n",
       "      <td>39.393939</td>\n",
       "    </tr>\n",
       "    <tr>\n",
       "      <th>NV</th>\n",
       "      <td>4</td>\n",
       "      <td>17</td>\n",
       "      <td>23.529412</td>\n",
       "    </tr>\n",
       "    <tr>\n",
       "      <th>OH</th>\n",
       "      <td>1</td>\n",
       "      <td>88</td>\n",
       "      <td>1.136364</td>\n",
       "    </tr>\n",
       "    <tr>\n",
       "      <th>OK</th>\n",
       "      <td>4</td>\n",
       "      <td>77</td>\n",
       "      <td>5.194805</td>\n",
       "    </tr>\n",
       "    <tr>\n",
       "      <th>PA</th>\n",
       "      <td>1</td>\n",
       "      <td>67</td>\n",
       "      <td>1.492537</td>\n",
       "    </tr>\n",
       "    <tr>\n",
       "      <th>TN</th>\n",
       "      <td>9</td>\n",
       "      <td>95</td>\n",
       "      <td>9.473684</td>\n",
       "    </tr>\n",
       "    <tr>\n",
       "      <th>TX</th>\n",
       "      <td>1</td>\n",
       "      <td>254</td>\n",
       "      <td>0.393701</td>\n",
       "    </tr>\n",
       "    <tr>\n",
       "      <th>UT</th>\n",
       "      <td>2</td>\n",
       "      <td>29</td>\n",
       "      <td>6.896552</td>\n",
       "    </tr>\n",
       "    <tr>\n",
       "      <th>VA</th>\n",
       "      <td>7</td>\n",
       "      <td>133</td>\n",
       "      <td>5.263158</td>\n",
       "    </tr>\n",
       "    <tr>\n",
       "      <th>WV</th>\n",
       "      <td>13</td>\n",
       "      <td>55</td>\n",
       "      <td>23.636364</td>\n",
       "    </tr>\n",
       "  </tbody>\n",
       "</table>\n",
       "</div>"
      ],
      "text/plain": [
       "       outliers  total    percent\n",
       "state                            \n",
       "AZ            1     15   6.666667\n",
       "CA            3     58   5.172414\n",
       "CO            2     60   3.333333\n",
       "FL            2     67   2.985075\n",
       "ID            1     44   2.272727\n",
       "IN            2     92   2.173913\n",
       "KS            1    105   0.952381\n",
       "KY           29    120  24.166667\n",
       "LA            1     64   1.562500\n",
       "MD            1     24   4.166667\n",
       "MS            1     81   1.234568\n",
       "MT            2     55   3.636364\n",
       "NC            1    100   1.000000\n",
       "NM           13     33  39.393939\n",
       "NV            4     17  23.529412\n",
       "OH            1     88   1.136364\n",
       "OK            4     77   5.194805\n",
       "PA            1     67   1.492537\n",
       "TN            9     95   9.473684\n",
       "TX            1    254   0.393701\n",
       "UT            2     29   6.896552\n",
       "VA            7    133   5.263158\n",
       "WV           13     55  23.636364"
      ]
     },
     "execution_count": 146,
     "metadata": {},
     "output_type": "execute_result"
    }
   ],
   "source": [
    "outliers_by_state = pd.DataFrame(target_outliers.groupby('state').size(), columns=['outliers'])\n",
    "counties_by_state = pd.DataFrame(data.groupby('state').size(), columns = ['total'])\n",
    "outliers_by_state['total'] = counties_by_state['total']\n",
    "outliers_by_state['percent'] = 100 * outliers_by_state['outliers']/outliers_by_state['total']\n",
    "outliers_by_state"
   ]
  },
  {
   "cell_type": "markdown",
   "metadata": {
    "deletable": true,
    "editable": true
   },
   "source": [
    "Look at overall distribution of targets."
   ]
  },
  {
   "cell_type": "code",
   "execution_count": 147,
   "metadata": {
    "collapsed": false,
    "deletable": true,
    "editable": true
   },
   "outputs": [
    {
     "data": {
      "text/html": [
       "<div>\n",
       "<table border=\"1\" class=\"dataframe\">\n",
       "  <thead>\n",
       "    <tr style=\"text-align: right;\">\n",
       "      <th></th>\n",
       "      <th></th>\n",
       "      <th>0</th>\n",
       "    </tr>\n",
       "    <tr>\n",
       "      <th>state</th>\n",
       "      <th>numeric</th>\n",
       "      <th></th>\n",
       "    </tr>\n",
       "  </thead>\n",
       "  <tbody>\n",
       "    <tr>\n",
       "      <th rowspan=\"5\" valign=\"top\">AK</th>\n",
       "      <th>1.0</th>\n",
       "      <td>1</td>\n",
       "    </tr>\n",
       "    <tr>\n",
       "      <th>5.0</th>\n",
       "      <td>1</td>\n",
       "    </tr>\n",
       "    <tr>\n",
       "      <th>7.0</th>\n",
       "      <td>2</td>\n",
       "    </tr>\n",
       "    <tr>\n",
       "      <th>11.0</th>\n",
       "      <td>2</td>\n",
       "    </tr>\n",
       "    <tr>\n",
       "      <th>13.0</th>\n",
       "      <td>2</td>\n",
       "    </tr>\n",
       "  </tbody>\n",
       "</table>\n",
       "</div>"
      ],
      "text/plain": [
       "               0\n",
       "state numeric   \n",
       "AK    1.0      1\n",
       "      5.0      1\n",
       "      7.0      2\n",
       "      11.0     2\n",
       "      13.0     2"
      ]
     },
     "execution_count": 147,
     "metadata": {},
     "output_type": "execute_result"
    }
   ],
   "source": [
    "counts = pd.DataFrame(data.groupby(['state', 'numeric']).size())\n",
    "counts.head()"
   ]
  },
  {
   "cell_type": "code",
   "execution_count": 148,
   "metadata": {
    "collapsed": true,
    "deletable": true,
    "editable": true
   },
   "outputs": [],
   "source": [
    "counts = counts.reset_index()\n",
    "counts.columns = ['state', 'numeric', 'count']\n",
    "counts['total'] = counts.apply(lambda row: counties_by_state.loc[row['state'], 'total'], axis=1)\n",
    "counts['percent'] = counts['count'] / counts['total']\n",
    "states = sorted(counts['state'].unique())"
   ]
  },
  {
   "cell_type": "code",
   "execution_count": 149,
   "metadata": {
    "collapsed": false,
    "deletable": true,
    "editable": true
   },
   "outputs": [
    {
     "data": {
      "image/png": "[encoded data removed]",
      "text/plain": [
       "<matplotlib.figure.Figure at 0x10dc98cc0>"
      ]
     },
     "metadata": {},
     "output_type": "display_data"
    }
   ],
   "source": [
    "plt.rcParams[\"figure.figsize\"] = [16.0, 8.0]\n",
    "ax = sns.stripplot(data=counts, x='state', y='numeric', hue='percent', palette='OrRd')\n",
    "ax.legend_.remove()\n",
    "ax.set_title('Clustering counties by death rate and state (darker = higher percentage)', size=18)\n",
    "ax.set_ylabel('death rate')\n",
    "ax.figure.savefig('images/county_rates.png')"
   ]
  },
  {
   "cell_type": "markdown",
   "metadata": {
    "deletable": true,
    "editable": true
   },
   "source": [
    "While there are some states with outlying concentrations of counties with low or high death rates, the distribution is fairly even overall."
   ]
  },
  {
   "cell_type": "code",
   "execution_count": 150,
   "metadata": {
    "collapsed": false,
    "deletable": true,
    "editable": true
   },
   "outputs": [
    {
     "data": {
      "image/png": "[encoded data removed]",
      "text/plain": [
       "<matplotlib.figure.Figure at 0x10dc979b0>"
      ]
     },
     "metadata": {},
     "output_type": "display_data"
    }
   ],
   "source": [
    "from scipy.stats import norm\n",
    "\n",
    "plt.rcParams[\"figure.figsize\"] = [8.0, 4.0]\n",
    "target_hist = sns.distplot(targets['numeric'], bins=16, fit=norm, kde=False)\n",
    "target_hist.figure.savefig('images/target_hist.png')"
   ]
  },
  {
   "cell_type": "markdown",
   "metadata": {
    "deletable": true,
    "editable": true
   },
   "source": [
    "The target distribution is a little skewed but follows a roughly normal curve except for the spike at the highest value. Experimentation found that classification works better with these target outliers included, but the outliers in the predictors need to be dealt with."
   ]
  },
  {
   "cell_type": "code",
   "execution_count": 151,
   "metadata": {
    "collapsed": true,
    "deletable": true,
    "editable": true
   },
   "outputs": [],
   "source": [
    "data_raw = data.copy()\n",
    "data = data.drop(['state', 'name', 'pop_2014'], axis=1)"
   ]
  },
  {
   "cell_type": "code",
   "execution_count": 152,
   "metadata": {
    "collapsed": false,
    "deletable": true,
    "editable": true
   },
   "outputs": [
    {
     "name": "stdout",
     "output_type": "stream",
     "text": [
      "               < diploma   degree+   pop_inc  foreign_inc  unemployment  \\\n",
      "< diploma       1.000000  0.596235  0.185915     0.017175      0.444894   \n",
      "degree+         0.596235  1.000000  0.437384     0.040137      0.344505   \n",
      "pop_inc         0.185915  0.437384  1.000000     0.003214      0.265479   \n",
      "foreign_inc     0.017175  0.040137  0.003214     1.000000      0.006487   \n",
      "unemployment    0.444894  0.344505  0.265479     0.006487      1.000000   \n",
      "unemp_change    0.099960  0.104568  0.019885     0.001546      0.183943   \n",
      "poverty         0.676247  0.454771  0.279422     0.016851      0.615135   \n",
      "median_hh_inc   0.555187  0.682043  0.471092     0.020453      0.472713   \n",
      "pov_change      0.026931  0.041624  0.043384     0.000316      0.183201   \n",
      "median_age      0.207144  0.180067  0.366550     0.037000      0.045748   \n",
      "hh_afr_am       0.337359  0.078255  0.089242     0.001260      0.393471   \n",
      "hh_hisp         0.416976  0.014507  0.157683     0.001310      0.007594   \n",
      "hh_female       0.535661  0.240072  0.038155     0.005963      0.523734   \n",
      "hh_food_st      0.650381  0.515622  0.246238     0.014470      0.590354   \n",
      "foreign_07      0.212229  0.322974  0.303593     0.033247      0.035868   \n",
      "vets            0.372515  0.041605  0.101889     0.023127      0.056444   \n",
      "vets_male       0.062093  0.179124  0.196671     0.019287      0.051601   \n",
      "viol_crime      0.178997  0.018872  0.079051     0.013310      0.210825   \n",
      "prop_crime      0.093883  0.102160  0.170892     0.036638      0.154293   \n",
      "numeric         0.131000  0.129538  0.059277     0.009029      0.328106   \n",
      "\n",
      "               unemp_change   poverty  median_hh_inc  pov_change  median_age  \\\n",
      "< diploma          0.099960  0.676247       0.555187    0.026931    0.207144   \n",
      "degree+            0.104568  0.454771       0.682043    0.041624    0.180067   \n",
      "pop_inc            0.019885  0.279422       0.471092    0.043384    0.366550   \n",
      "foreign_inc        0.001546  0.016851       0.020453    0.000316    0.037000   \n",
      "unemployment       0.183943  0.615135       0.472713    0.183201    0.045748   \n",
      "unemp_change       1.000000  0.066291       0.090623    0.098116    0.036906   \n",
      "poverty            0.066291  1.000000       0.785793    0.168003    0.221902   \n",
      "median_hh_inc      0.090623  0.785793       1.000000    0.015169    0.101642   \n",
      "pov_change         0.098116  0.168003       0.015169    1.000000    0.110383   \n",
      "median_age         0.036906  0.221902       0.101642    0.110383    1.000000   \n",
      "hh_afr_am          0.064379  0.499156       0.259392    0.175289    0.227336   \n",
      "hh_hisp            0.007952  0.113116       0.009422    0.065226    0.279127   \n",
      "hh_female          0.110549  0.652611       0.372521    0.153636    0.404074   \n",
      "hh_food_st         0.059748  0.798025       0.665656    0.003210    0.166532   \n",
      "foreign_07         0.064652  0.056858       0.312203    0.076071    0.339199   \n",
      "vets               0.056544  0.250037       0.019323    0.019285    0.581999   \n",
      "vets_male          0.047924  0.007948       0.114610    0.073455    0.253513   \n",
      "viol_crime         0.089313  0.274912       0.131107    0.156160    0.253912   \n",
      "prop_crime         0.118463  0.207684       0.084427    0.190884    0.304777   \n",
      "numeric            0.178912  0.221173       0.234599    0.109515    0.080597   \n",
      "\n",
      "               hh_afr_am   hh_hisp  hh_female  hh_food_st  foreign_07  \\\n",
      "< diploma       0.337359  0.416976   0.535661    0.650381    0.212229   \n",
      "degree+         0.078255  0.014507   0.240072    0.515622    0.322974   \n",
      "pop_inc         0.089242  0.157683   0.038155    0.246238    0.303593   \n",
      "foreign_inc     0.001260  0.001310   0.005963    0.014470    0.033247   \n",
      "unemployment    0.393471  0.007594   0.523734    0.590354    0.035868   \n",
      "unemp_change    0.064379  0.007952   0.110549    0.059748    0.064652   \n",
      "poverty         0.499156  0.113116   0.652611    0.798025    0.056858   \n",
      "median_hh_inc   0.259392  0.009422   0.372521    0.665656    0.312203   \n",
      "pov_change      0.175289  0.065226   0.153636    0.003210    0.076071   \n",
      "median_age      0.227336  0.279127   0.404074    0.166532    0.339199   \n",
      "hh_afr_am       1.000000  0.092092   0.739806    0.397476    0.004000   \n",
      "hh_hisp         0.092092  1.000000   0.149867    0.094142    0.620512   \n",
      "hh_female       0.739806  0.149867   1.000000    0.643308    0.100466   \n",
      "hh_food_st      0.397476  0.094142   0.643308    1.000000    0.151541   \n",
      "foreign_07      0.004000  0.620512   0.100466    0.151541    1.000000   \n",
      "vets            0.255743  0.248963   0.351229    0.247639    0.295849   \n",
      "vets_male       0.227712  0.039826   0.211769    0.000263    0.080055   \n",
      "viol_crime      0.383991  0.149977   0.410960    0.211620    0.173330   \n",
      "prop_crime      0.319378  0.118512   0.362391    0.157115    0.160763   \n",
      "numeric         0.135588  0.035820   0.075377    0.246898    0.069864   \n",
      "\n",
      "                   vets  vets_male  viol_crime  prop_crime   numeric  \n",
      "< diploma      0.372515   0.062093    0.178997    0.093883  0.131000  \n",
      "degree+        0.041605   0.179124    0.018872    0.102160  0.129538  \n",
      "pop_inc        0.101889   0.196671    0.079051    0.170892  0.059277  \n",
      "foreign_inc    0.023127   0.019287    0.013310    0.036638  0.009029  \n",
      "unemployment   0.056444   0.051601    0.210825    0.154293  0.328106  \n",
      "unemp_change   0.056544   0.047924    0.089313    0.118463  0.178912  \n",
      "poverty        0.250037   0.007948    0.274912    0.207684  0.221173  \n",
      "median_hh_inc  0.019323   0.114610    0.131107    0.084427  0.234599  \n",
      "pov_change     0.019285   0.073455    0.156160    0.190884  0.109515  \n",
      "median_age     0.581999   0.253513    0.253912    0.304777  0.080597  \n",
      "hh_afr_am      0.255743   0.227712    0.383991    0.319378  0.135588  \n",
      "hh_hisp        0.248963   0.039826    0.149977    0.118512  0.035820  \n",
      "hh_female      0.351229   0.211769    0.410960    0.362391  0.075377  \n",
      "hh_food_st     0.247639   0.000263    0.211620    0.157115  0.246898  \n",
      "foreign_07     0.295849   0.080055    0.173330    0.160763  0.069864  \n",
      "vets           1.000000   0.125628    0.102366    0.065826  0.153610  \n",
      "vets_male      0.125628   1.000000    0.150457    0.199141  0.034193  \n",
      "viol_crime     0.102366   0.150457    1.000000    0.705886  0.140350  \n",
      "prop_crime     0.065826   0.199141    0.705886    1.000000  0.152519  \n",
      "numeric        0.153610   0.034193    0.140350    0.152519  1.000000  \n"
     ]
    }
   ],
   "source": [
    "bivariate = data.drop(['urban_inf', 'death_rate'], axis=1).corr().abs()\n",
    "print(bivariate)"
   ]
  },
  {
   "cell_type": "markdown",
   "metadata": {
    "deletable": true,
    "editable": true
   },
   "source": [
    "**poverty** correlates strongly with several other variables, so drop it. The two crime variables correlate strongly with each other, so combine them into one. "
   ]
  },
  {
   "cell_type": "code",
   "execution_count": 153,
   "metadata": {
    "collapsed": true,
    "deletable": true,
    "editable": true
   },
   "outputs": [],
   "source": [
    "data['crime'] = (data['viol_crime'] + data['prop_crime'])\n",
    "data = data.drop(['viol_crime', 'prop_crime', 'poverty'], axis=1)"
   ]
  },
  {
   "cell_type": "code",
   "execution_count": 154,
   "metadata": {
    "collapsed": false,
    "deletable": true,
    "editable": true
   },
   "outputs": [
    {
     "data": {
      "image/png": "[encoded data removed]",
      "text/plain": [
       "<matplotlib.figure.Figure at 0x10dc9e080>"
      ]
     },
     "metadata": {},
     "output_type": "display_data"
    }
   ],
   "source": [
    "corrmat = data.drop(['urban_inf', 'death_rate'], axis=1).corr().abs()\n",
    "heatmap = sns.heatmap(corrmat, vmax=.8, square=True)\n",
    "heatmap.figure.savefig('images/heatmap.png')"
   ]
  },
  {
   "cell_type": "markdown",
   "metadata": {
    "deletable": true,
    "editable": true
   },
   "source": [
    "There are other correlations, but variance inflation factor (VIF) analysis will be used to determine which should be removed. But first look at outliers in the independent variables."
   ]
  },
  {
   "cell_type": "code",
   "execution_count": 155,
   "metadata": {
    "collapsed": true,
    "deletable": true,
    "editable": true
   },
   "outputs": [],
   "source": [
    "def get_outliers(df, multiplier=1.5):\n",
    "    stats = df.describe()\n",
    "    iqr = stats.loc['75%'] - stats.loc['25%']\n",
    "    lower = stats.loc['25%'] - multiplier * iqr\n",
    "    upper = stats.loc['75%'] + multiplier * iqr\n",
    "    return ((df < lower) | (df > upper))"
   ]
  },
  {
   "cell_type": "code",
   "execution_count": 156,
   "metadata": {
    "collapsed": false,
    "deletable": true,
    "editable": true
   },
   "outputs": [
    {
     "data": {
      "text/plain": [
       "1499"
      ]
     },
     "execution_count": 156,
     "metadata": {},
     "output_type": "execute_result"
    }
   ],
   "source": [
    "outliers = get_outliers(data.drop(['urban_inf', 'death_rate', 'numeric'], axis=1))\n",
    "len(data[outliers.any(axis=1)])"
   ]
  },
  {
   "cell_type": "code",
   "execution_count": 157,
   "metadata": {
    "collapsed": false,
    "deletable": true,
    "editable": true
   },
   "outputs": [
    {
     "data": {
      "text/plain": [
       "927"
      ]
     },
     "execution_count": 157,
     "metadata": {},
     "output_type": "execute_result"
    }
   ],
   "source": [
    "extreme_outliers = get_outliers(data.drop(['urban_inf', 'death_rate', 'numeric'], axis=1), 2.5)\n",
    "len(data[extreme_outliers.any(axis=1)])"
   ]
  },
  {
   "cell_type": "code",
   "execution_count": 158,
   "metadata": {
    "collapsed": false,
    "deletable": true,
    "editable": true
   },
   "outputs": [
    {
     "data": {
      "text/plain": [
       "273"
      ]
     },
     "execution_count": 158,
     "metadata": {},
     "output_type": "execute_result"
    }
   ],
   "source": [
    "xx_outliers = list((data[extreme_outliers.sum(axis=1) > 1]).index)\n",
    "len(xx_outliers)"
   ]
  },
  {
   "cell_type": "markdown",
   "metadata": {
    "deletable": true,
    "editable": true
   },
   "source": [
    "Almost half the dataset contains outliers, and more than a quarter contains extreme outliers that are more than 2.5 times the IQR below the first quartile or above the third. As an alternative to dropping a large number of samples, apply robust scaling to the predictors. Scikit-learn has two solutions, robust scaling and quantile transformation. Try them both. If necessary drop the most extreme (xx) outliers, those samples having more than one extreme outlier."
   ]
  },
  {
   "cell_type": "markdown",
   "metadata": {
    "deletable": true,
    "editable": true
   },
   "source": [
    "*Note: Having gone through the same iterative process as the notebook on the master branch and not achieving significantly better results, the data will be split from the outset to produce balanced train/test sets with respect to high/low death rates, with high being 15 or greater, and low being 13 or less. This will have the desired effect only for the last, binary, classification attempt, as the intermediary classifications into 16, 8 and 4 classes will no longer be stratified according to the progressive grouping scheme.*"
   ]
  },
  {
   "cell_type": "code",
   "execution_count": 159,
   "metadata": {
    "collapsed": true,
    "deletable": true,
    "editable": true
   },
   "outputs": [],
   "source": [
    "from sklearn.model_selection import train_test_split\n",
    "\n",
    "data['high_death_rate'] = np.where(data['numeric'] < 15, 0, 1)\n",
    "data_train, data_test, targets_train, targets_test = train_test_split(data.drop('death_rate', axis=1),\n",
    "                                                                     data['death_rate'], test_size=.2,\n",
    "                                                                     stratify=data['high_death_rate'], random_state=13)"
   ]
  },
  {
   "cell_type": "code",
   "execution_count": 160,
   "metadata": {
    "collapsed": false
   },
   "outputs": [
    {
     "name": "stdout",
     "output_type": "stream",
     "text": [
      "1371 1129\n",
      "343 283\n"
     ]
    }
   ],
   "source": [
    "print(len(data_train[data_train['high_death_rate'] == 0]), len(data_train[data_train['high_death_rate'] == 1]))\n",
    "print(len(data_test[data_test['high_death_rate'] == 0]), len(data_test[data_test['high_death_rate'] == 1]))"
   ]
  },
  {
   "cell_type": "markdown",
   "metadata": {
    "deletable": true,
    "editable": true
   },
   "source": [
    "It is necessary to separate the training and test data before scaling/transforming to prevent data leakage from the test data when fitting the scaling and transformation algorithms. "
   ]
  },
  {
   "cell_type": "code",
   "execution_count": 161,
   "metadata": {
    "collapsed": true,
    "deletable": true,
    "editable": true
   },
   "outputs": [],
   "source": [
    "from sklearn.preprocessing import RobustScaler, QuantileTransformer\n",
    "robust = RobustScaler()\n",
    "quantile = QuantileTransformer()\n",
    "\n",
    "r_train = pd.DataFrame(robust.fit_transform(data_train.drop(['urban_inf'], axis=1)),\n",
    "                       index=data_train.index, columns=data_train.drop(['urban_inf'], axis=1).columns)\n",
    "r_train['urban_inf'] = data_train['urban_inf']\n",
    "\n",
    "q_train = pd.DataFrame(quantile.fit_transform(data_train.drop(['urban_inf'], axis=1)),\n",
    "                       index=data_train.index, columns=data_train.drop(['urban_inf'], axis=1).columns)\n",
    "q_train['urban_inf'] = data_train['urban_inf']"
   ]
  },
  {
   "cell_type": "markdown",
   "metadata": {
    "deletable": true,
    "editable": true
   },
   "source": [
    "*Note: Both robust scaling and quantile transformation leave binary features unchanged, so __urban_inf__ will be one-hot encoded later.*"
   ]
  },
  {
   "cell_type": "markdown",
   "metadata": {
    "deletable": true,
    "editable": true
   },
   "source": [
    "Use VIF analysis to programmatically eliminate the variables with the highest VIF scores."
   ]
  },
  {
   "cell_type": "code",
   "execution_count": 162,
   "metadata": {
    "collapsed": false,
    "deletable": true,
    "editable": true
   },
   "outputs": [
    {
     "data": {
      "text/html": [
       "<div>\n",
       "<table border=\"1\" class=\"dataframe\">\n",
       "  <thead>\n",
       "    <tr style=\"text-align: right;\">\n",
       "      <th></th>\n",
       "      <th>VIF</th>\n",
       "      <th>features</th>\n",
       "    </tr>\n",
       "  </thead>\n",
       "  <tbody>\n",
       "    <tr>\n",
       "      <th>0</th>\n",
       "      <td>4.373346</td>\n",
       "      <td>&lt; diploma</td>\n",
       "    </tr>\n",
       "    <tr>\n",
       "      <th>1</th>\n",
       "      <td>3.102136</td>\n",
       "      <td>degree+</td>\n",
       "    </tr>\n",
       "    <tr>\n",
       "      <th>2</th>\n",
       "      <td>1.635238</td>\n",
       "      <td>pop_inc</td>\n",
       "    </tr>\n",
       "    <tr>\n",
       "      <th>3</th>\n",
       "      <td>1.008715</td>\n",
       "      <td>foreign_inc</td>\n",
       "    </tr>\n",
       "    <tr>\n",
       "      <th>4</th>\n",
       "      <td>1.950713</td>\n",
       "      <td>unemployment</td>\n",
       "    </tr>\n",
       "    <tr>\n",
       "      <th>5</th>\n",
       "      <td>1.076284</td>\n",
       "      <td>unemp_change</td>\n",
       "    </tr>\n",
       "    <tr>\n",
       "      <th>6</th>\n",
       "      <td>2.967300</td>\n",
       "      <td>median_hh_inc</td>\n",
       "    </tr>\n",
       "    <tr>\n",
       "      <th>7</th>\n",
       "      <td>1.137061</td>\n",
       "      <td>pov_change</td>\n",
       "    </tr>\n",
       "    <tr>\n",
       "      <th>8</th>\n",
       "      <td>2.286735</td>\n",
       "      <td>median_age</td>\n",
       "    </tr>\n",
       "    <tr>\n",
       "      <th>9</th>\n",
       "      <td>2.687256</td>\n",
       "      <td>hh_afr_am</td>\n",
       "    </tr>\n",
       "    <tr>\n",
       "      <th>10</th>\n",
       "      <td>2.335365</td>\n",
       "      <td>hh_hisp</td>\n",
       "    </tr>\n",
       "    <tr>\n",
       "      <th>11</th>\n",
       "      <td>3.895658</td>\n",
       "      <td>hh_female</td>\n",
       "    </tr>\n",
       "    <tr>\n",
       "      <th>12</th>\n",
       "      <td>3.409330</td>\n",
       "      <td>hh_food_st</td>\n",
       "    </tr>\n",
       "    <tr>\n",
       "      <th>13</th>\n",
       "      <td>2.873995</td>\n",
       "      <td>foreign_07</td>\n",
       "    </tr>\n",
       "    <tr>\n",
       "      <th>14</th>\n",
       "      <td>2.076615</td>\n",
       "      <td>vets</td>\n",
       "    </tr>\n",
       "    <tr>\n",
       "      <th>15</th>\n",
       "      <td>1.362899</td>\n",
       "      <td>vets_male</td>\n",
       "    </tr>\n",
       "    <tr>\n",
       "      <th>16</th>\n",
       "      <td>1.403077</td>\n",
       "      <td>crime</td>\n",
       "    </tr>\n",
       "  </tbody>\n",
       "</table>\n",
       "</div>"
      ],
      "text/plain": [
       "         VIF       features\n",
       "0   4.373346      < diploma\n",
       "1   3.102136        degree+\n",
       "2   1.635238        pop_inc\n",
       "3   1.008715    foreign_inc\n",
       "4   1.950713   unemployment\n",
       "5   1.076284   unemp_change\n",
       "6   2.967300  median_hh_inc\n",
       "7   1.137061     pov_change\n",
       "8   2.286735     median_age\n",
       "9   2.687256      hh_afr_am\n",
       "10  2.335365        hh_hisp\n",
       "11  3.895658      hh_female\n",
       "12  3.409330     hh_food_st\n",
       "13  2.873995     foreign_07\n",
       "14  2.076615           vets\n",
       "15  1.362899      vets_male\n",
       "16  1.403077          crime"
      ]
     },
     "execution_count": 162,
     "metadata": {},
     "output_type": "execute_result"
    }
   ],
   "source": [
    "from statsmodels.stats.outliers_influence import variance_inflation_factor\n",
    "\n",
    "vif = pd.DataFrame()\n",
    "remove = ['urban_inf', 'numeric', 'high_death_rate']\n",
    "features = r_train.drop(remove, axis=1)\n",
    "vif[\"VIF\"] = [variance_inflation_factor(features.values, i) for i in range(features.shape[1])]\n",
    "vif[\"features\"] = features.columns\n",
    "vif"
   ]
  },
  {
   "cell_type": "code",
   "execution_count": 163,
   "metadata": {
    "collapsed": false,
    "deletable": true,
    "editable": true
   },
   "outputs": [
    {
     "data": {
      "text/html": [
       "<div>\n",
       "<table border=\"1\" class=\"dataframe\">\n",
       "  <thead>\n",
       "    <tr style=\"text-align: right;\">\n",
       "      <th></th>\n",
       "      <th>VIF</th>\n",
       "      <th>features</th>\n",
       "    </tr>\n",
       "  </thead>\n",
       "  <tbody>\n",
       "    <tr>\n",
       "      <th>0</th>\n",
       "      <td>1.389071</td>\n",
       "      <td>degree+</td>\n",
       "    </tr>\n",
       "    <tr>\n",
       "      <th>1</th>\n",
       "      <td>1.386369</td>\n",
       "      <td>pop_inc</td>\n",
       "    </tr>\n",
       "    <tr>\n",
       "      <th>2</th>\n",
       "      <td>1.006899</td>\n",
       "      <td>foreign_inc</td>\n",
       "    </tr>\n",
       "    <tr>\n",
       "      <th>3</th>\n",
       "      <td>1.466743</td>\n",
       "      <td>unemployment</td>\n",
       "    </tr>\n",
       "    <tr>\n",
       "      <th>4</th>\n",
       "      <td>1.055496</td>\n",
       "      <td>unemp_change</td>\n",
       "    </tr>\n",
       "    <tr>\n",
       "      <th>5</th>\n",
       "      <td>1.091065</td>\n",
       "      <td>pov_change</td>\n",
       "    </tr>\n",
       "    <tr>\n",
       "      <th>6</th>\n",
       "      <td>1.503962</td>\n",
       "      <td>hh_afr_am</td>\n",
       "    </tr>\n",
       "    <tr>\n",
       "      <th>7</th>\n",
       "      <td>1.120092</td>\n",
       "      <td>hh_hisp</td>\n",
       "    </tr>\n",
       "    <tr>\n",
       "      <th>8</th>\n",
       "      <td>1.152088</td>\n",
       "      <td>vets</td>\n",
       "    </tr>\n",
       "    <tr>\n",
       "      <th>9</th>\n",
       "      <td>1.198796</td>\n",
       "      <td>vets_male</td>\n",
       "    </tr>\n",
       "    <tr>\n",
       "      <th>10</th>\n",
       "      <td>1.268819</td>\n",
       "      <td>crime</td>\n",
       "    </tr>\n",
       "  </tbody>\n",
       "</table>\n",
       "</div>"
      ],
      "text/plain": [
       "         VIF      features\n",
       "0   1.389071       degree+\n",
       "1   1.386369       pop_inc\n",
       "2   1.006899   foreign_inc\n",
       "3   1.466743  unemployment\n",
       "4   1.055496  unemp_change\n",
       "5   1.091065    pov_change\n",
       "6   1.503962     hh_afr_am\n",
       "7   1.120092       hh_hisp\n",
       "8   1.152088          vets\n",
       "9   1.198796     vets_male\n",
       "10  1.268819         crime"
      ]
     },
     "execution_count": 163,
     "metadata": {},
     "output_type": "execute_result"
    }
   ],
   "source": [
    "max_VIF = max(vif['VIF'])\n",
    "while max_VIF > 2:\n",
    "    remove = remove + list(vif[vif['VIF'] == max_VIF]['features'])\n",
    "    features = r_train.drop(remove, axis=1)\n",
    "    vif = pd.DataFrame()\n",
    "    vif[\"VIF\"] = [variance_inflation_factor(features.values, i) for i in range(features.shape[1])]\n",
    "    vif[\"features\"] = features.columns\n",
    "    max_VIF = max(vif['VIF'])\n",
    "    \n",
    "r_features = list(features.columns) + ['urban_inf']\n",
    "vif"
   ]
  },
  {
   "cell_type": "code",
   "execution_count": 164,
   "metadata": {
    "collapsed": false,
    "deletable": true,
    "editable": true
   },
   "outputs": [
    {
     "data": {
      "text/html": [
       "<div>\n",
       "<table border=\"1\" class=\"dataframe\">\n",
       "  <thead>\n",
       "    <tr style=\"text-align: right;\">\n",
       "      <th></th>\n",
       "      <th>VIF</th>\n",
       "      <th>features</th>\n",
       "    </tr>\n",
       "  </thead>\n",
       "  <tbody>\n",
       "    <tr>\n",
       "      <th>0</th>\n",
       "      <td>13.402615</td>\n",
       "      <td>&lt; diploma</td>\n",
       "    </tr>\n",
       "    <tr>\n",
       "      <th>1</th>\n",
       "      <td>11.360647</td>\n",
       "      <td>degree+</td>\n",
       "    </tr>\n",
       "    <tr>\n",
       "      <th>2</th>\n",
       "      <td>7.134452</td>\n",
       "      <td>pop_inc</td>\n",
       "    </tr>\n",
       "    <tr>\n",
       "      <th>3</th>\n",
       "      <td>5.359084</td>\n",
       "      <td>foreign_inc</td>\n",
       "    </tr>\n",
       "    <tr>\n",
       "      <th>4</th>\n",
       "      <td>8.244911</td>\n",
       "      <td>unemployment</td>\n",
       "    </tr>\n",
       "    <tr>\n",
       "      <th>5</th>\n",
       "      <td>4.507403</td>\n",
       "      <td>unemp_change</td>\n",
       "    </tr>\n",
       "    <tr>\n",
       "      <th>6</th>\n",
       "      <td>9.733576</td>\n",
       "      <td>median_hh_inc</td>\n",
       "    </tr>\n",
       "    <tr>\n",
       "      <th>7</th>\n",
       "      <td>4.339483</td>\n",
       "      <td>pov_change</td>\n",
       "    </tr>\n",
       "    <tr>\n",
       "      <th>8</th>\n",
       "      <td>9.414736</td>\n",
       "      <td>median_age</td>\n",
       "    </tr>\n",
       "    <tr>\n",
       "      <th>9</th>\n",
       "      <td>9.547267</td>\n",
       "      <td>hh_afr_am</td>\n",
       "    </tr>\n",
       "    <tr>\n",
       "      <th>10</th>\n",
       "      <td>13.700712</td>\n",
       "      <td>hh_hisp</td>\n",
       "    </tr>\n",
       "    <tr>\n",
       "      <th>11</th>\n",
       "      <td>13.687043</td>\n",
       "      <td>hh_female</td>\n",
       "    </tr>\n",
       "    <tr>\n",
       "      <th>12</th>\n",
       "      <td>13.040954</td>\n",
       "      <td>hh_food_st</td>\n",
       "    </tr>\n",
       "    <tr>\n",
       "      <th>13</th>\n",
       "      <td>15.344436</td>\n",
       "      <td>foreign_07</td>\n",
       "    </tr>\n",
       "    <tr>\n",
       "      <th>14</th>\n",
       "      <td>7.272981</td>\n",
       "      <td>vets</td>\n",
       "    </tr>\n",
       "    <tr>\n",
       "      <th>15</th>\n",
       "      <td>4.652173</td>\n",
       "      <td>vets_male</td>\n",
       "    </tr>\n",
       "    <tr>\n",
       "      <th>16</th>\n",
       "      <td>6.515515</td>\n",
       "      <td>crime</td>\n",
       "    </tr>\n",
       "  </tbody>\n",
       "</table>\n",
       "</div>"
      ],
      "text/plain": [
       "          VIF       features\n",
       "0   13.402615      < diploma\n",
       "1   11.360647        degree+\n",
       "2    7.134452        pop_inc\n",
       "3    5.359084    foreign_inc\n",
       "4    8.244911   unemployment\n",
       "5    4.507403   unemp_change\n",
       "6    9.733576  median_hh_inc\n",
       "7    4.339483     pov_change\n",
       "8    9.414736     median_age\n",
       "9    9.547267      hh_afr_am\n",
       "10  13.700712        hh_hisp\n",
       "11  13.687043      hh_female\n",
       "12  13.040954     hh_food_st\n",
       "13  15.344436     foreign_07\n",
       "14   7.272981           vets\n",
       "15   4.652173      vets_male\n",
       "16   6.515515          crime"
      ]
     },
     "execution_count": 164,
     "metadata": {},
     "output_type": "execute_result"
    }
   ],
   "source": [
    "vif2 = pd.DataFrame()\n",
    "remove = ['urban_inf', 'numeric', 'high_death_rate']\n",
    "features2 = q_train.drop(remove, axis=1)\n",
    "vif2[\"VIF\"] = [variance_inflation_factor(features2.values, i) for i in range(features2.shape[1])]\n",
    "vif2[\"features\"] = features2.columns\n",
    "vif2"
   ]
  },
  {
   "cell_type": "code",
   "execution_count": 165,
   "metadata": {
    "collapsed": false,
    "deletable": true,
    "editable": true
   },
   "outputs": [
    {
     "data": {
      "text/html": [
       "<div>\n",
       "<table border=\"1\" class=\"dataframe\">\n",
       "  <thead>\n",
       "    <tr style=\"text-align: right;\">\n",
       "      <th></th>\n",
       "      <th>VIF</th>\n",
       "      <th>features</th>\n",
       "    </tr>\n",
       "  </thead>\n",
       "  <tbody>\n",
       "    <tr>\n",
       "      <th>0</th>\n",
       "      <td>5.858493</td>\n",
       "      <td>degree+</td>\n",
       "    </tr>\n",
       "    <tr>\n",
       "      <th>1</th>\n",
       "      <td>5.751327</td>\n",
       "      <td>pop_inc</td>\n",
       "    </tr>\n",
       "    <tr>\n",
       "      <th>2</th>\n",
       "      <td>5.076685</td>\n",
       "      <td>foreign_inc</td>\n",
       "    </tr>\n",
       "    <tr>\n",
       "      <th>3</th>\n",
       "      <td>5.476430</td>\n",
       "      <td>unemployment</td>\n",
       "    </tr>\n",
       "    <tr>\n",
       "      <th>4</th>\n",
       "      <td>4.273719</td>\n",
       "      <td>unemp_change</td>\n",
       "    </tr>\n",
       "    <tr>\n",
       "      <th>5</th>\n",
       "      <td>3.538461</td>\n",
       "      <td>pov_change</td>\n",
       "    </tr>\n",
       "    <tr>\n",
       "      <th>6</th>\n",
       "      <td>6.185417</td>\n",
       "      <td>hh_afr_am</td>\n",
       "    </tr>\n",
       "    <tr>\n",
       "      <th>7</th>\n",
       "      <td>5.411258</td>\n",
       "      <td>hh_hisp</td>\n",
       "    </tr>\n",
       "    <tr>\n",
       "      <th>8</th>\n",
       "      <td>3.830490</td>\n",
       "      <td>vets</td>\n",
       "    </tr>\n",
       "    <tr>\n",
       "      <th>9</th>\n",
       "      <td>3.495463</td>\n",
       "      <td>vets_male</td>\n",
       "    </tr>\n",
       "    <tr>\n",
       "      <th>10</th>\n",
       "      <td>5.928583</td>\n",
       "      <td>crime</td>\n",
       "    </tr>\n",
       "  </tbody>\n",
       "</table>\n",
       "</div>"
      ],
      "text/plain": [
       "         VIF      features\n",
       "0   5.858493       degree+\n",
       "1   5.751327       pop_inc\n",
       "2   5.076685   foreign_inc\n",
       "3   5.476430  unemployment\n",
       "4   4.273719  unemp_change\n",
       "5   3.538461    pov_change\n",
       "6   6.185417     hh_afr_am\n",
       "7   5.411258       hh_hisp\n",
       "8   3.830490          vets\n",
       "9   3.495463     vets_male\n",
       "10  5.928583         crime"
      ]
     },
     "execution_count": 165,
     "metadata": {},
     "output_type": "execute_result"
    }
   ],
   "source": [
    "max_VIF = max(vif2['VIF'])\n",
    "while len(vif2) > 11:\n",
    "    remove = remove + list(vif2[vif2['VIF'] == max_VIF]['features'])\n",
    "    features2 = q_train.drop(remove, axis=1)\n",
    "    vif2 = pd.DataFrame()\n",
    "    vif2[\"VIF\"] = [variance_inflation_factor(features2.values, i) for i in range(features2.shape[1])]\n",
    "    vif2[\"features\"] = features2.columns\n",
    "    max_VIF = max(vif2['VIF'])\n",
    "\n",
    "q_features = list(features2.columns) + ['urban_inf']   \n",
    "vif2"
   ]
  },
  {
   "cell_type": "markdown",
   "metadata": {
    "deletable": true,
    "editable": true
   },
   "source": [
    "Although the VIF scores were higher with the quantile-transformed data, the order was the same, so proceed with the 11 features from the scaled data that scored below 2."
   ]
  },
  {
   "cell_type": "markdown",
   "metadata": {
    "deletable": true,
    "editable": true
   },
   "source": [
    "Try a range of classifiers. "
   ]
  },
  {
   "cell_type": "code",
   "execution_count": 166,
   "metadata": {
    "collapsed": true,
    "deletable": true,
    "editable": true
   },
   "outputs": [],
   "source": [
    "Xr1_train = r_train.loc[:, r_features]\n",
    "Xr1_train = pd.get_dummies(Xr1_train, prefix='urb_inf_', columns=['urban_inf'])\n",
    "Yr1_train = targets_train\n",
    "\n",
    "Xq1_train = q_train.loc[:, r_features]\n",
    "Xq1_train = pd.get_dummies(Xq1_train, prefix='urb_inf_', columns=['urban_inf'])\n",
    "Yq1_train = targets_train"
   ]
  },
  {
   "cell_type": "code",
   "execution_count": 167,
   "metadata": {
    "collapsed": true,
    "deletable": true,
    "editable": true
   },
   "outputs": [],
   "source": [
    "from sklearn.metrics import matthews_corrcoef, make_scorer\n",
    "matthews = make_scorer(matthews_corrcoef)\n",
    "\n",
    "from sklearn.model_selection import cross_val_score"
   ]
  },
  {
   "cell_type": "code",
   "execution_count": 168,
   "metadata": {
    "collapsed": true,
    "deletable": true,
    "editable": true
   },
   "outputs": [],
   "source": [
    "from sklearn.model_selection import cross_val_score\n",
    "\n",
    "from sklearn.neighbors import KNeighborsClassifier\n",
    "from sklearn.linear_model import LogisticRegression\n",
    "from sklearn.ensemble import GradientBoostingClassifier\n",
    "from sklearn.linear_model import SGDClassifier\n",
    "from sklearn.ensemble import RandomForestClassifier\n",
    "from sklearn.svm import SVC"
   ]
  },
  {
   "cell_type": "code",
   "execution_count": 169,
   "metadata": {
    "collapsed": true,
    "deletable": true,
    "editable": true
   },
   "outputs": [],
   "source": [
    "knn = KNeighborsClassifier()\n",
    "lrc = LogisticRegression(class_weight='balanced')\n",
    "gbc = GradientBoostingClassifier()\n",
    "sgd = SGDClassifier(class_weight='balanced', tol=1e-3)\n",
    "rfc = RandomForestClassifier(class_weight='balanced')\n",
    "svc = SVC(class_weight='balanced')"
   ]
  },
  {
   "cell_type": "code",
   "execution_count": 170,
   "metadata": {
    "collapsed": true,
    "deletable": true,
    "editable": true
   },
   "outputs": [],
   "source": [
    "classifiers = [lrc, gbc, sgd, rfc, svc, knn]\n",
    "names = ['lrc', 'gbc', 'sgd', 'rfc', 'svc', 'knn']\n",
    "full_names = {'lrc':'Logistic regression', 'gbc':'Gradient boosting', 'sgd':'Stochastic gradient descent',\n",
    "              'rfc':'Random forest', 'svc':'Support vector', 'knn':'K-Nearest neighbors'}\n",
    "\n",
    "index = pd.MultiIndex.from_product([['Y16', 'Y8', 'Y4', 'Y2'], ['r', 'q'], [1, 2]])\n",
    "results = pd.DataFrame(index=index, columns=names)\n",
    "\n",
    "def run_trials(X, Y, targets, scale, feature_set):\n",
    "    for name, clf in zip(names, classifiers):\n",
    "        scores = cross_val_score(clf, X, Y, cv=5, scoring=matthews)\n",
    "        results.loc[targets, scale, feature_set][name] = np.mean(scores)\n",
    "        %time print('{} scores: {}'.format(full_names[name], scores))"
   ]
  },
  {
   "cell_type": "code",
   "execution_count": 171,
   "metadata": {
    "collapsed": false,
    "deletable": true,
    "editable": true
   },
   "outputs": [
    {
     "name": "stdout",
     "output_type": "stream",
     "text": [
      "Logistic regression scores: [ 0.05315599  0.05556943  0.06444637  0.04198675  0.07011897]\n",
      "CPU times: user 1.65 ms, sys: 113 µs, total: 1.76 ms\n",
      "Wall time: 440 µs\n",
      "Gradient boosting scores: [ 0.07611197  0.06500378  0.08015024  0.04731559  0.07278077]\n",
      "CPU times: user 365 µs, sys: 52 µs, total: 417 µs\n",
      "Wall time: 402 µs\n",
      "Stochastic gradient descent scores: [ 0.04302945  0.00330357  0.01909361  0.04156341  0.05592828]\n",
      "CPU times: user 1.47 ms, sys: 92 µs, total: 1.57 ms\n",
      "Wall time: 392 µs\n",
      "Random forest scores: [ 0.04197358  0.04730799  0.03978676  0.07168514  0.05451942]\n",
      "CPU times: user 367 µs, sys: 53 µs, total: 420 µs\n",
      "Wall time: 404 µs\n",
      "Support vector scores: [ 0.07117561  0.08622946  0.07061263  0.09856212  0.08473546]\n",
      "CPU times: user 402 µs, sys: 53 µs, total: 455 µs\n",
      "Wall time: 444 µs\n",
      "K-Nearest neighbors scores: [ 0.0420281   0.03601487  0.04234999  0.03835727  0.07488866]\n",
      "CPU times: user 351 µs, sys: 33 µs, total: 384 µs\n",
      "Wall time: 389 µs\n"
     ]
    }
   ],
   "source": [
    "run_trials(Xr1_train, Yr1_train, 'Y16', 'r', 1)"
   ]
  },
  {
   "cell_type": "markdown",
   "metadata": {
    "deletable": true,
    "editable": true
   },
   "source": [
    "All of the stock classifiers performed poorly, with support vector doing the best, followed by gradient boosting and logistic regression."
   ]
  },
  {
   "cell_type": "code",
   "execution_count": 172,
   "metadata": {
    "collapsed": false,
    "deletable": true,
    "editable": true
   },
   "outputs": [
    {
     "name": "stdout",
     "output_type": "stream",
     "text": [
      "Logistic regression scores: [ 0.05717304  0.04486477  0.0635689   0.03054269  0.07005875]\n",
      "CPU times: user 1.54 ms, sys: 83 µs, total: 1.63 ms\n",
      "Wall time: 403 µs\n",
      "Gradient boosting scores: [ 0.09261297  0.07007983  0.06237495  0.05813191  0.07060044]\n",
      "CPU times: user 369 µs, sys: 62 µs, total: 431 µs\n",
      "Wall time: 405 µs\n",
      "Stochastic gradient descent scores: [ 0.03681979  0.01863433  0.04505155  0.01536453  0.04906625]\n",
      "CPU times: user 1.81 ms, sys: 173 µs, total: 1.99 ms\n",
      "Wall time: 515 µs\n",
      "Random forest scores: [ 0.06431237  0.04305649  0.03337741  0.05796603  0.05730611]\n",
      "CPU times: user 365 µs, sys: 62 µs, total: 427 µs\n",
      "Wall time: 406 µs\n",
      "Support vector scores: [ 0.04360361  0.0377379   0.04886285  0.0576621   0.05097247]\n",
      "CPU times: user 357 µs, sys: 54 µs, total: 411 µs\n",
      "Wall time: 395 µs\n",
      "K-Nearest neighbors scores: [ 0.02792726  0.01254466  0.0115488   0.02477701  0.0418932 ]\n",
      "CPU times: user 336 µs, sys: 33 µs, total: 369 µs\n",
      "Wall time: 375 µs\n"
     ]
    }
   ],
   "source": [
    "run_trials(Xq1_train, Yq1_train, 'Y16', 'q', 1)"
   ]
  },
  {
   "cell_type": "markdown",
   "metadata": {
    "deletable": true,
    "editable": true
   },
   "source": [
    "The quantile-transformed data performed even worse. Try an alternative selection process starting with correlations with the target variable."
   ]
  },
  {
   "cell_type": "code",
   "execution_count": 173,
   "metadata": {
    "collapsed": false,
    "deletable": true,
    "editable": true
   },
   "outputs": [
    {
     "data": {
      "text/plain": [
       "< diploma        0.129802\n",
       "degree+          0.108880\n",
       "pop_inc          0.046599\n",
       "foreign_inc      0.002281\n",
       "unemployment     0.334084\n",
       "unemp_change     0.162174\n",
       "median_hh_inc    0.240524\n",
       "pov_change       0.097301\n",
       "median_age       0.070081\n",
       "hh_afr_am        0.138424\n",
       "hh_hisp          0.032536\n",
       "hh_female        0.078814\n",
       "hh_food_st       0.249716\n",
       "foreign_07       0.060102\n",
       "vets             0.132303\n",
       "vets_male        0.034855\n",
       "crime            0.159208\n",
       "Name: numeric, dtype: float64"
      ]
     },
     "execution_count": 173,
     "metadata": {},
     "output_type": "execute_result"
    }
   ],
   "source": [
    "bivariate = r_train.drop(['urban_inf', 'high_death_rate'], axis=1).corr().abs()\n",
    "bivariate.loc['numeric'].drop('numeric')"
   ]
  },
  {
   "cell_type": "code",
   "execution_count": 174,
   "metadata": {
    "collapsed": true,
    "deletable": true,
    "editable": true
   },
   "outputs": [],
   "source": [
    "features2 = list(bivariate[bivariate.loc['numeric'] > .05].drop('numeric').index)"
   ]
  },
  {
   "cell_type": "code",
   "execution_count": 175,
   "metadata": {
    "collapsed": false,
    "deletable": true,
    "editable": true
   },
   "outputs": [
    {
     "data": {
      "text/html": [
       "<div>\n",
       "<table border=\"1\" class=\"dataframe\">\n",
       "  <thead>\n",
       "    <tr style=\"text-align: right;\">\n",
       "      <th></th>\n",
       "      <th>VIF</th>\n",
       "      <th>features</th>\n",
       "    </tr>\n",
       "  </thead>\n",
       "  <tbody>\n",
       "    <tr>\n",
       "      <th>0</th>\n",
       "      <td>3.949988</td>\n",
       "      <td>&lt; diploma</td>\n",
       "    </tr>\n",
       "    <tr>\n",
       "      <th>1</th>\n",
       "      <td>3.012560</td>\n",
       "      <td>degree+</td>\n",
       "    </tr>\n",
       "    <tr>\n",
       "      <th>2</th>\n",
       "      <td>1.886529</td>\n",
       "      <td>unemployment</td>\n",
       "    </tr>\n",
       "    <tr>\n",
       "      <th>3</th>\n",
       "      <td>1.067913</td>\n",
       "      <td>unemp_change</td>\n",
       "    </tr>\n",
       "    <tr>\n",
       "      <th>4</th>\n",
       "      <td>2.743970</td>\n",
       "      <td>median_hh_inc</td>\n",
       "    </tr>\n",
       "    <tr>\n",
       "      <th>5</th>\n",
       "      <td>1.109437</td>\n",
       "      <td>pov_change</td>\n",
       "    </tr>\n",
       "    <tr>\n",
       "      <th>6</th>\n",
       "      <td>1.929993</td>\n",
       "      <td>median_age</td>\n",
       "    </tr>\n",
       "    <tr>\n",
       "      <th>7</th>\n",
       "      <td>2.521036</td>\n",
       "      <td>hh_afr_am</td>\n",
       "    </tr>\n",
       "    <tr>\n",
       "      <th>8</th>\n",
       "      <td>3.830212</td>\n",
       "      <td>hh_female</td>\n",
       "    </tr>\n",
       "    <tr>\n",
       "      <th>9</th>\n",
       "      <td>3.382855</td>\n",
       "      <td>hh_food_st</td>\n",
       "    </tr>\n",
       "    <tr>\n",
       "      <th>10</th>\n",
       "      <td>2.154312</td>\n",
       "      <td>foreign_07</td>\n",
       "    </tr>\n",
       "    <tr>\n",
       "      <th>11</th>\n",
       "      <td>1.760711</td>\n",
       "      <td>vets</td>\n",
       "    </tr>\n",
       "    <tr>\n",
       "      <th>12</th>\n",
       "      <td>1.384878</td>\n",
       "      <td>crime</td>\n",
       "    </tr>\n",
       "  </tbody>\n",
       "</table>\n",
       "</div>"
      ],
      "text/plain": [
       "         VIF       features\n",
       "0   3.949988      < diploma\n",
       "1   3.012560        degree+\n",
       "2   1.886529   unemployment\n",
       "3   1.067913   unemp_change\n",
       "4   2.743970  median_hh_inc\n",
       "5   1.109437     pov_change\n",
       "6   1.929993     median_age\n",
       "7   2.521036      hh_afr_am\n",
       "8   3.830212      hh_female\n",
       "9   3.382855     hh_food_st\n",
       "10  2.154312     foreign_07\n",
       "11  1.760711           vets\n",
       "12  1.384878          crime"
      ]
     },
     "execution_count": 175,
     "metadata": {},
     "output_type": "execute_result"
    }
   ],
   "source": [
    "vif = pd.DataFrame()\n",
    "features = r_train.loc[:, features2]\n",
    "vif[\"VIF\"] = [variance_inflation_factor(features.values, i) for i in range(features.shape[1])]\n",
    "vif[\"features\"] = features.columns\n",
    "vif"
   ]
  },
  {
   "cell_type": "code",
   "execution_count": 176,
   "metadata": {
    "collapsed": false,
    "deletable": true,
    "editable": true
   },
   "outputs": [
    {
     "data": {
      "text/html": [
       "<div>\n",
       "<table border=\"1\" class=\"dataframe\">\n",
       "  <thead>\n",
       "    <tr style=\"text-align: right;\">\n",
       "      <th></th>\n",
       "      <th>VIF</th>\n",
       "      <th>features</th>\n",
       "    </tr>\n",
       "  </thead>\n",
       "  <tbody>\n",
       "    <tr>\n",
       "      <th>0</th>\n",
       "      <td>1.352025</td>\n",
       "      <td>degree+</td>\n",
       "    </tr>\n",
       "    <tr>\n",
       "      <th>1</th>\n",
       "      <td>1.439612</td>\n",
       "      <td>unemployment</td>\n",
       "    </tr>\n",
       "    <tr>\n",
       "      <th>2</th>\n",
       "      <td>1.058117</td>\n",
       "      <td>unemp_change</td>\n",
       "    </tr>\n",
       "    <tr>\n",
       "      <th>3</th>\n",
       "      <td>1.080741</td>\n",
       "      <td>pov_change</td>\n",
       "    </tr>\n",
       "    <tr>\n",
       "      <th>4</th>\n",
       "      <td>1.736407</td>\n",
       "      <td>median_age</td>\n",
       "    </tr>\n",
       "    <tr>\n",
       "      <th>5</th>\n",
       "      <td>1.420526</td>\n",
       "      <td>hh_afr_am</td>\n",
       "    </tr>\n",
       "    <tr>\n",
       "      <th>6</th>\n",
       "      <td>1.296802</td>\n",
       "      <td>foreign_07</td>\n",
       "    </tr>\n",
       "    <tr>\n",
       "      <th>7</th>\n",
       "      <td>1.631301</td>\n",
       "      <td>vets</td>\n",
       "    </tr>\n",
       "    <tr>\n",
       "      <th>8</th>\n",
       "      <td>1.318287</td>\n",
       "      <td>crime</td>\n",
       "    </tr>\n",
       "  </tbody>\n",
       "</table>\n",
       "</div>"
      ],
      "text/plain": [
       "        VIF      features\n",
       "0  1.352025       degree+\n",
       "1  1.439612  unemployment\n",
       "2  1.058117  unemp_change\n",
       "3  1.080741    pov_change\n",
       "4  1.736407    median_age\n",
       "5  1.420526     hh_afr_am\n",
       "6  1.296802    foreign_07\n",
       "7  1.631301          vets\n",
       "8  1.318287         crime"
      ]
     },
     "execution_count": 176,
     "metadata": {},
     "output_type": "execute_result"
    }
   ],
   "source": [
    "max_VIF = max(vif['VIF'])\n",
    "while max_VIF > 2:\n",
    "    remove = list(vif[vif['VIF'] == max_VIF]['features'])\n",
    "    reduced = [feature for feature in features if feature not in remove]\n",
    "    features = r_train.loc[:, reduced]\n",
    "    vif = pd.DataFrame()\n",
    "    vif[\"VIF\"] = [variance_inflation_factor(features.values, i) for i in range(features.shape[1])]\n",
    "    vif[\"features\"] = features.columns\n",
    "    max_VIF = max(vif['VIF'])\n",
    "vif"
   ]
  },
  {
   "cell_type": "code",
   "execution_count": 177,
   "metadata": {
    "collapsed": true,
    "deletable": true,
    "editable": true
   },
   "outputs": [],
   "source": [
    "features2 = list(vif['features']) + ['urban_inf']\n",
    "Xr2_train = r_train.loc[:, features2]\n",
    "Xr2_train = pd.get_dummies(Xr2_train, prefix='urb_inf_', columns=['urban_inf'])\n",
    "Yr2_train = targets_train\n",
    "\n",
    "Xq2_train = q_train.loc[:, (features2)]\n",
    "Xq2_train = pd.get_dummies(Xq2_train, prefix='urb_inf_', columns=['urban_inf'])\n",
    "Yq2_train = targets_train"
   ]
  },
  {
   "cell_type": "code",
   "execution_count": 178,
   "metadata": {
    "collapsed": false,
    "deletable": true,
    "editable": true
   },
   "outputs": [
    {
     "name": "stdout",
     "output_type": "stream",
     "text": [
      "Logistic regression scores: [ 0.08120245  0.03837602  0.05937706  0.05447471  0.05991573]\n",
      "CPU times: user 1.95 ms, sys: 148 µs, total: 2.1 ms\n",
      "Wall time: 518 µs\n",
      "Gradient boosting scores: [ 0.0578296   0.07202416  0.07853071  0.08820188  0.09242876]\n",
      "CPU times: user 374 µs, sys: 55 µs, total: 429 µs\n",
      "Wall time: 412 µs\n",
      "Stochastic gradient descent scores: [ 0.04218024  0.02599531  0.02731509  0.05121356  0.0466855 ]\n",
      "CPU times: user 1.75 ms, sys: 100 µs, total: 1.85 ms\n",
      "Wall time: 468 µs\n",
      "Random forest scores: [ 0.02521866  0.06133552  0.06087013  0.03661739  0.0849586 ]\n",
      "CPU times: user 355 µs, sys: 60 µs, total: 415 µs\n",
      "Wall time: 398 µs\n",
      "Support vector scores: [ 0.11107941  0.08165667  0.06313725  0.08311447  0.09857294]\n",
      "CPU times: user 379 µs, sys: 48 µs, total: 427 µs\n",
      "Wall time: 413 µs\n",
      "K-Nearest neighbors scores: [ 0.03706683  0.05379337  0.03768774  0.0268804   0.07501976]\n",
      "CPU times: user 356 µs, sys: 42 µs, total: 398 µs\n",
      "Wall time: 392 µs\n"
     ]
    }
   ],
   "source": [
    "run_trials(Xr2_train, Yr2_train, 'Y16', 'r', 2)"
   ]
  },
  {
   "cell_type": "code",
   "execution_count": 179,
   "metadata": {
    "collapsed": false,
    "deletable": true,
    "editable": true
   },
   "outputs": [
    {
     "name": "stdout",
     "output_type": "stream",
     "text": [
      "Logistic regression scores: [ 0.05159557  0.05399451  0.04969197  0.05483237  0.07949733]\n",
      "CPU times: user 1.59 ms, sys: 117 µs, total: 1.7 ms\n",
      "Wall time: 424 µs\n",
      "Gradient boosting scores: [ 0.04096782  0.06850544  0.06639818  0.05542493  0.0810068 ]\n",
      "CPU times: user 361 µs, sys: 58 µs, total: 419 µs\n",
      "Wall time: 401 µs\n",
      "Stochastic gradient descent scores: [ 0.03367121  0.02808361  0.05417985  0.03416615  0.05426133]\n",
      "CPU times: user 1.48 ms, sys: 209 µs, total: 1.69 ms\n",
      "Wall time: 454 µs\n",
      "Random forest scores: [ 0.05808162  0.04379346  0.05320007  0.0709287   0.06772565]\n",
      "CPU times: user 368 µs, sys: 65 µs, total: 433 µs\n",
      "Wall time: 410 µs\n",
      "Support vector scores: [ 0.04706307  0.04402198  0.05096395  0.05731853  0.0712891 ]\n",
      "CPU times: user 365 µs, sys: 54 µs, total: 419 µs\n",
      "Wall time: 405 µs\n",
      "K-Nearest neighbors scores: [ 0.04165052  0.03389312  0.05255951  0.0518747   0.05721658]\n",
      "CPU times: user 355 µs, sys: 54 µs, total: 409 µs\n",
      "Wall time: 396 µs\n"
     ]
    }
   ],
   "source": [
    "run_trials(Xq2_train, Yq2_train, 'Y16', 'q', 2)"
   ]
  },
  {
   "cell_type": "markdown",
   "metadata": {
    "deletable": true,
    "editable": true
   },
   "source": [
    "The scores are very close for both training sets, but also very poor. Try combining targets to make fewer classes."
   ]
  },
  {
   "cell_type": "code",
   "execution_count": 180,
   "metadata": {
    "collapsed": true,
    "deletable": true,
    "editable": true
   },
   "outputs": [],
   "source": [
    "def combine_targets(input):\n",
    "    targets = sorted(input.unique(), key=lambda x: int(re.search('\\d+(?=-)', x).group()))\n",
    "    first = []\n",
    "    second = []\n",
    "    for i, r in enumerate(targets):\n",
    "        first.append(r) if i % 2 == 0 else second.append(r)\n",
    "    if len(first) != len(second):\n",
    "        second.append('30-31.9')\n",
    "    conversions = {}\n",
    "    for start, end in zip(first, second):\n",
    "        new_value = re.search('\\d+-', start).group() + re.search('(?<=-)\\d+.\\d+', end).group()\n",
    "        conversions.update(dict.fromkeys([start, end], new_value))\n",
    "    return input.apply(lambda x: conversions[x])"
   ]
  },
  {
   "cell_type": "code",
   "execution_count": 181,
   "metadata": {
    "collapsed": true,
    "deletable": true,
    "editable": true
   },
   "outputs": [],
   "source": [
    "Y_16_train = targets_train.apply(lambda x: '0-1.9' if x == '<2' else x)\n",
    "Y_16_train = Y_16_train.apply(lambda x: '30-31.9' if x == '30+' else x)\n",
    "\n",
    "Y_8_train = combine_targets(Y_16_train)\n"
   ]
  },
  {
   "cell_type": "code",
   "execution_count": 182,
   "metadata": {
    "collapsed": false,
    "deletable": true,
    "editable": true
   },
   "outputs": [
    {
     "name": "stdout",
     "output_type": "stream",
     "text": [
      "Logistic regression scores: [ 0.1006998   0.15027161  0.13541833  0.12946323  0.1468057 ]\n",
      "CPU times: user 1.53 ms, sys: 90 µs, total: 1.62 ms\n",
      "Wall time: 404 µs\n",
      "Gradient boosting scores: [ 0.12534395  0.1394993   0.13796789  0.16733632  0.13505036]\n",
      "CPU times: user 357 µs, sys: 51 µs, total: 408 µs\n",
      "Wall time: 400 µs\n",
      "Stochastic gradient descent scores: [ 0.06754528  0.07694622  0.02703655  0.06925516  0.06381313]\n",
      "CPU times: user 1.98 ms, sys: 142 µs, total: 2.12 ms\n",
      "Wall time: 539 µs\n",
      "Random forest scores: [ 0.07869024  0.094455    0.07150314  0.12568501  0.08009405]\n",
      "CPU times: user 407 µs, sys: 48 µs, total: 455 µs\n",
      "Wall time: 444 µs\n",
      "Support vector scores: [ 0.11206608  0.161711    0.12389991  0.16337382  0.15331281]\n",
      "CPU times: user 350 µs, sys: 49 µs, total: 399 µs\n",
      "Wall time: 388 µs\n",
      "K-Nearest neighbors scores: [ 0.12779606  0.0575085   0.11942509  0.12490683  0.14238761]\n",
      "CPU times: user 340 µs, sys: 45 µs, total: 385 µs\n",
      "Wall time: 378 µs\n"
     ]
    }
   ],
   "source": [
    "run_trials(Xr1_train, Y_8_train, 'Y8', 'r', 1)"
   ]
  },
  {
   "cell_type": "code",
   "execution_count": 183,
   "metadata": {
    "collapsed": false,
    "deletable": true,
    "editable": true
   },
   "outputs": [
    {
     "name": "stdout",
     "output_type": "stream",
     "text": [
      "Logistic regression scores: [ 0.09360022  0.13562208  0.1233944   0.12577249  0.15457289]\n",
      "CPU times: user 2.64 ms, sys: 217 µs, total: 2.85 ms\n",
      "Wall time: 716 µs\n",
      "Gradient boosting scores: [ 0.12878063  0.11656372  0.1580382   0.17077499  0.11328863]\n",
      "CPU times: user 351 µs, sys: 53 µs, total: 404 µs\n",
      "Wall time: 393 µs\n",
      "Stochastic gradient descent scores: [ 0.08739809  0.12577556  0.02927808  0.09727602  0.06426306]\n",
      "CPU times: user 1.47 ms, sys: 73 µs, total: 1.54 ms\n",
      "Wall time: 389 µs\n",
      "Random forest scores: [ 0.11714984  0.08679261  0.11805901  0.17555753  0.08078775]\n",
      "CPU times: user 350 µs, sys: 58 µs, total: 408 µs\n",
      "Wall time: 392 µs\n",
      "Support vector scores: [ 0.16068255  0.14482644  0.14215889  0.16919535  0.17270301]\n",
      "CPU times: user 369 µs, sys: 48 µs, total: 417 µs\n",
      "Wall time: 402 µs\n",
      "K-Nearest neighbors scores: [ 0.11159673  0.12634983  0.1460032   0.08832114  0.16423142]\n",
      "CPU times: user 344 µs, sys: 33 µs, total: 377 µs\n",
      "Wall time: 381 µs\n"
     ]
    }
   ],
   "source": [
    "run_trials(Xr2_train, Y_8_train, 'Y8', 'r', 2)"
   ]
  },
  {
   "cell_type": "code",
   "execution_count": 184,
   "metadata": {
    "collapsed": false,
    "deletable": true,
    "editable": true
   },
   "outputs": [
    {
     "name": "stdout",
     "output_type": "stream",
     "text": [
      "Logistic regression scores: [ 0.12324073  0.12032059  0.11303426  0.11163933  0.14577892]\n",
      "CPU times: user 2.17 ms, sys: 147 µs, total: 2.32 ms\n",
      "Wall time: 577 µs\n",
      "Gradient boosting scores: [ 0.1495902   0.12201512  0.13407788  0.18345761  0.118893  ]\n",
      "CPU times: user 431 µs, sys: 59 µs, total: 490 µs\n",
      "Wall time: 457 µs\n",
      "Stochastic gradient descent scores: [ 0.08049973  0.05045913  0.06750357  0.06327452  0.07483666]\n",
      "CPU times: user 1.79 ms, sys: 146 µs, total: 1.93 ms\n",
      "Wall time: 495 µs\n",
      "Random forest scores: [ 0.11473847  0.10931723  0.13162613  0.16283369  0.13639455]\n",
      "CPU times: user 406 µs, sys: 57 µs, total: 463 µs\n",
      "Wall time: 443 µs\n",
      "Support vector scores: [ 0.11883457  0.10128429  0.12849027  0.1018431   0.13720605]\n",
      "CPU times: user 351 µs, sys: 52 µs, total: 403 µs\n",
      "Wall time: 386 µs\n",
      "K-Nearest neighbors scores: [ 0.105686    0.04634389  0.08640223  0.11473222  0.07343662]\n",
      "CPU times: user 359 µs, sys: 49 µs, total: 408 µs\n",
      "Wall time: 394 µs\n"
     ]
    }
   ],
   "source": [
    "run_trials(Xq1_train, Y_8_train, 'Y8', 'q', 1)"
   ]
  },
  {
   "cell_type": "code",
   "execution_count": 185,
   "metadata": {
    "collapsed": false,
    "deletable": true,
    "editable": true
   },
   "outputs": [
    {
     "name": "stdout",
     "output_type": "stream",
     "text": [
      "Logistic regression scores: [ 0.11035675  0.1216532   0.11400994  0.1322087   0.15385866]\n",
      "CPU times: user 1.52 ms, sys: 83 µs, total: 1.61 ms\n",
      "Wall time: 402 µs\n",
      "Gradient boosting scores: [ 0.1357925   0.1198578   0.15917184  0.15856403  0.13064018]\n",
      "CPU times: user 371 µs, sys: 59 µs, total: 430 µs\n",
      "Wall time: 414 µs\n",
      "Stochastic gradient descent scores: [ 0.11131471  0.08832688  0.0919509   0.07774446  0.08442544]\n",
      "CPU times: user 1.52 ms, sys: 82 µs, total: 1.6 ms\n",
      "Wall time: 399 µs\n",
      "Random forest scores: [ 0.12150031  0.09239171  0.14316362  0.12511428  0.09019158]\n",
      "CPU times: user 390 µs, sys: 56 µs, total: 446 µs\n",
      "Wall time: 429 µs\n",
      "Support vector scores: [ 0.11023528  0.12328048  0.08497923  0.11620102  0.16563487]\n",
      "CPU times: user 354 µs, sys: 50 µs, total: 404 µs\n",
      "Wall time: 392 µs\n",
      "K-Nearest neighbors scores: [ 0.07821737  0.06529068  0.12167276  0.12566131  0.11773391]\n",
      "CPU times: user 355 µs, sys: 54 µs, total: 409 µs\n",
      "Wall time: 395 µs\n"
     ]
    }
   ],
   "source": [
    "run_trials(Xq2_train, Y_8_train, 'Y8', 'q', 2)"
   ]
  },
  {
   "cell_type": "markdown",
   "metadata": {
    "deletable": true,
    "editable": true
   },
   "source": [
    "There was significant improvement, but performance is still poor. Try reducing to 4 classes."
   ]
  },
  {
   "cell_type": "code",
   "execution_count": 186,
   "metadata": {
    "collapsed": true,
    "deletable": true,
    "editable": true
   },
   "outputs": [],
   "source": [
    "Y_4_train = combine_targets(Y_8_train)"
   ]
  },
  {
   "cell_type": "code",
   "execution_count": 187,
   "metadata": {
    "collapsed": false,
    "deletable": true,
    "editable": true
   },
   "outputs": [
    {
     "name": "stdout",
     "output_type": "stream",
     "text": [
      "Logistic regression scores: [ 0.25462875  0.22164089  0.27185536  0.2518097   0.2610493 ]\n",
      "CPU times: user 1.99 ms, sys: 148 µs, total: 2.13 ms\n",
      "Wall time: 530 µs\n",
      "Gradient boosting scores: [ 0.28744073  0.16810738  0.31441484  0.23221504  0.26598883]\n",
      "CPU times: user 341 µs, sys: 54 µs, total: 395 µs\n",
      "Wall time: 381 µs\n",
      "Stochastic gradient descent scores: [ 0.12611683  0.11996962  0.14853822  0.2092378   0.11860756]\n",
      "CPU times: user 1.53 ms, sys: 82 µs, total: 1.61 ms\n",
      "Wall time: 403 µs\n",
      "Random forest scores: [ 0.20058334  0.1690704   0.2521197   0.26637122  0.14069948]\n",
      "CPU times: user 350 µs, sys: 57 µs, total: 407 µs\n",
      "Wall time: 391 µs\n",
      "Support vector scores: [ 0.28030463  0.23405757  0.28216966  0.26609776  0.26125599]\n",
      "CPU times: user 352 µs, sys: 51 µs, total: 403 µs\n",
      "Wall time: 391 µs\n",
      "K-Nearest neighbors scores: [ 0.26297784  0.15598445  0.21257458  0.21811632  0.26948666]\n",
      "CPU times: user 406 µs, sys: 34 µs, total: 440 µs\n",
      "Wall time: 444 µs\n"
     ]
    }
   ],
   "source": [
    "run_trials(Xr1_train, Y_4_train, 'Y4', 'r', 1)"
   ]
  },
  {
   "cell_type": "code",
   "execution_count": 188,
   "metadata": {
    "collapsed": false,
    "deletable": true,
    "editable": true
   },
   "outputs": [
    {
     "name": "stdout",
     "output_type": "stream",
     "text": [
      "Logistic regression scores: [ 0.25587575  0.21260522  0.26961122  0.26027286  0.22438117]\n",
      "CPU times: user 1.52 ms, sys: 84 µs, total: 1.61 ms\n",
      "Wall time: 400 µs\n",
      "Gradient boosting scores: [ 0.25800566  0.21143096  0.34840676  0.26782256  0.25395302]\n",
      "CPU times: user 357 µs, sys: 57 µs, total: 414 µs\n",
      "Wall time: 404 µs\n",
      "Stochastic gradient descent scores: [ 0.20517322  0.07963736  0.22751317  0.24957544  0.20038597]\n",
      "CPU times: user 1.46 ms, sys: 77 µs, total: 1.54 ms\n",
      "Wall time: 385 µs\n",
      "Random forest scores: [ 0.24376364  0.17804801  0.25711117  0.23103077  0.15524245]\n",
      "CPU times: user 375 µs, sys: 62 µs, total: 437 µs\n",
      "Wall time: 415 µs\n",
      "Support vector scores: [ 0.31135434  0.22896785  0.30134528  0.26801159  0.27662481]\n",
      "CPU times: user 355 µs, sys: 58 µs, total: 413 µs\n",
      "Wall time: 392 µs\n",
      "K-Nearest neighbors scores: [ 0.21139027  0.17011536  0.27060003  0.20758693  0.19872743]\n",
      "CPU times: user 339 µs, sys: 45 µs, total: 384 µs\n",
      "Wall time: 376 µs\n"
     ]
    }
   ],
   "source": [
    "run_trials(Xr2_train, Y_4_train, 'Y4', 'r', 2)"
   ]
  },
  {
   "cell_type": "code",
   "execution_count": 189,
   "metadata": {
    "collapsed": false,
    "deletable": true,
    "editable": true
   },
   "outputs": [
    {
     "name": "stdout",
     "output_type": "stream",
     "text": [
      "Logistic regression scores: [ 0.26329733  0.20647624  0.21324231  0.25195228  0.24772061]\n",
      "CPU times: user 1.5 ms, sys: 87 µs, total: 1.59 ms\n",
      "Wall time: 395 µs\n",
      "Gradient boosting scores: [ 0.24516282  0.19130749  0.29527734  0.23348608  0.23539317]\n",
      "CPU times: user 360 µs, sys: 56 µs, total: 416 µs\n",
      "Wall time: 399 µs\n",
      "Stochastic gradient descent scores: [ 0.1921939   0.1714345   0.19761616  0.25628389  0.19592774]\n",
      "CPU times: user 1.53 ms, sys: 82 µs, total: 1.61 ms\n",
      "Wall time: 402 µs\n",
      "Random forest scores: [ 0.21427997  0.15660186  0.26221277  0.22633231  0.19003522]\n",
      "CPU times: user 350 µs, sys: 55 µs, total: 405 µs\n",
      "Wall time: 390 µs\n",
      "Support vector scores: [ 0.25980482  0.18858476  0.2312886   0.21470175  0.23107024]\n",
      "CPU times: user 370 µs, sys: 53 µs, total: 423 µs\n",
      "Wall time: 407 µs\n",
      "K-Nearest neighbors scores: [ 0.17416892  0.20302127  0.1294307   0.16892895  0.16185769]\n",
      "CPU times: user 366 µs, sys: 36 µs, total: 402 µs\n",
      "Wall time: 406 µs\n"
     ]
    }
   ],
   "source": [
    "run_trials(Xq1_train, Y_4_train, 'Y4', 'q', 1)"
   ]
  },
  {
   "cell_type": "code",
   "execution_count": 190,
   "metadata": {
    "collapsed": false,
    "deletable": true,
    "editable": true
   },
   "outputs": [
    {
     "name": "stdout",
     "output_type": "stream",
     "text": [
      "Logistic regression scores: [ 0.23293934  0.22733296  0.19420126  0.26427478  0.24258555]\n",
      "CPU times: user 1.51 ms, sys: 91 µs, total: 1.6 ms\n",
      "Wall time: 400 µs\n",
      "Gradient boosting scores: [ 0.23582261  0.1974405   0.34651657  0.27575721  0.25982066]\n",
      "CPU times: user 347 µs, sys: 54 µs, total: 401 µs\n",
      "Wall time: 385 µs\n",
      "Stochastic gradient descent scores: [ 0.18114485  0.16908983  0.20011398  0.20617168  0.18510837]\n",
      "CPU times: user 1.47 ms, sys: 79 µs, total: 1.55 ms\n",
      "Wall time: 388 µs\n",
      "Random forest scores: [ 0.19684802  0.19319953  0.26958037  0.27402315  0.14704604]\n",
      "CPU times: user 359 µs, sys: 55 µs, total: 414 µs\n",
      "Wall time: 398 µs\n",
      "Support vector scores: [ 0.24131892  0.19195784  0.25302771  0.21572503  0.25680344]\n",
      "CPU times: user 377 µs, sys: 53 µs, total: 430 µs\n",
      "Wall time: 415 µs\n",
      "K-Nearest neighbors scores: [ 0.14242785  0.16308059  0.21554408  0.2258976   0.20907047]\n",
      "CPU times: user 362 µs, sys: 32 µs, total: 394 µs\n",
      "Wall time: 399 µs\n"
     ]
    }
   ],
   "source": [
    "run_trials(Xq2_train, Y_4_train, 'Y4', 'q', 2)"
   ]
  },
  {
   "cell_type": "code",
   "execution_count": 191,
   "metadata": {
    "collapsed": true,
    "deletable": true,
    "editable": true
   },
   "outputs": [],
   "source": [
    "Y_2_train = data_train.loc[:, 'high_death_rate']"
   ]
  },
  {
   "cell_type": "code",
   "execution_count": 192,
   "metadata": {
    "collapsed": false,
    "deletable": true,
    "editable": true
   },
   "outputs": [
    {
     "name": "stdout",
     "output_type": "stream",
     "text": [
      "Logistic regression scores: [ 0.39451092  0.39218697  0.42309783  0.4034707   0.38586012]\n",
      "CPU times: user 374 µs, sys: 66 µs, total: 440 µs\n",
      "Wall time: 409 µs\n",
      "Gradient boosting scores: [ 0.47388139  0.42483515  0.46059075  0.48188324  0.41393728]\n",
      "CPU times: user 352 µs, sys: 54 µs, total: 406 µs\n",
      "Wall time: 391 µs\n",
      "Stochastic gradient descent scores: [-0.03061704  0.15270529  0.07807901  0.28163411  0.14939413]\n",
      "CPU times: user 335 µs, sys: 47 µs, total: 382 µs\n",
      "Wall time: 374 µs\n",
      "Random forest scores: [ 0.38717494  0.36116685  0.4108335   0.39190289  0.36350117]\n",
      "CPU times: user 373 µs, sys: 53 µs, total: 426 µs\n",
      "Wall time: 419 µs\n",
      "Support vector scores: [ 0.45184232  0.41691323  0.46700224  0.47224465  0.42736424]\n",
      "CPU times: user 423 µs, sys: 65 µs, total: 488 µs\n",
      "Wall time: 468 µs\n",
      "K-Nearest neighbors scores: [ 0.3329838   0.3696005   0.38616879  0.38603804  0.35150474]\n",
      "CPU times: user 463 µs, sys: 53 µs, total: 516 µs\n",
      "Wall time: 528 µs\n"
     ]
    }
   ],
   "source": [
    "run_trials(Xr1_train, Y_2_train, 'Y2', 'r', 1)"
   ]
  },
  {
   "cell_type": "code",
   "execution_count": 193,
   "metadata": {
    "collapsed": false,
    "deletable": true,
    "editable": true
   },
   "outputs": [
    {
     "name": "stdout",
     "output_type": "stream",
     "text": [
      "Logistic regression scores: [ 0.41376057  0.3970782   0.43985365  0.3766551   0.39901955]\n",
      "CPU times: user 564 µs, sys: 116 µs, total: 680 µs\n",
      "Wall time: 657 µs\n",
      "Gradient boosting scores: [ 0.44614141  0.40408787  0.45519193  0.43569737  0.40648672]\n",
      "CPU times: user 356 µs, sys: 54 µs, total: 410 µs\n",
      "Wall time: 394 µs\n",
      "Stochastic gradient descent scores: [ 0.38316269  0.29091671  0.26366462  0.28912935  0.34361719]\n",
      "CPU times: user 340 µs, sys: 45 µs, total: 385 µs\n",
      "Wall time: 377 µs\n",
      "Random forest scores: [ 0.3951937   0.39848182  0.36107474  0.36730329  0.36774357]\n",
      "CPU times: user 368 µs, sys: 61 µs, total: 429 µs\n",
      "Wall time: 412 µs\n",
      "Support vector scores: [ 0.46987999  0.44789308  0.49360341  0.49642595  0.46719861]\n",
      "CPU times: user 355 µs, sys: 54 µs, total: 409 µs\n",
      "Wall time: 394 µs\n",
      "K-Nearest neighbors scores: [ 0.35929697  0.367042    0.4193313   0.3364879   0.40502098]\n",
      "CPU times: user 351 µs, sys: 33 µs, total: 384 µs\n",
      "Wall time: 390 µs\n"
     ]
    }
   ],
   "source": [
    "run_trials(Xr2_train, Y_2_train, 'Y2', 'r', 2)"
   ]
  },
  {
   "cell_type": "code",
   "execution_count": 194,
   "metadata": {
    "collapsed": false,
    "deletable": true,
    "editable": true
   },
   "outputs": [
    {
     "name": "stdout",
     "output_type": "stream",
     "text": [
      "Logistic regression scores: [ 0.37771696  0.33896699  0.38289163  0.30615557  0.32506675]\n",
      "CPU times: user 455 µs, sys: 62 µs, total: 517 µs\n",
      "Wall time: 502 µs\n",
      "Gradient boosting scores: [ 0.47388139  0.41705299  0.44813683  0.47377946  0.40255904]\n",
      "CPU times: user 422 µs, sys: 50 µs, total: 472 µs\n",
      "Wall time: 460 µs\n",
      "Stochastic gradient descent scores: [ 0.15910737  0.26131625  0.33482679  0.1646222   0.34126586]\n",
      "CPU times: user 354 µs, sys: 31 µs, total: 385 µs\n",
      "Wall time: 390 µs\n",
      "Random forest scores: [ 0.35362793  0.40721412  0.41580876  0.39264188  0.35108838]\n",
      "CPU times: user 353 µs, sys: 52 µs, total: 405 µs\n",
      "Wall time: 389 µs\n",
      "Support vector scores: [ 0.36791754  0.32072353  0.38656573  0.33971667  0.35068192]\n",
      "CPU times: user 361 µs, sys: 57 µs, total: 418 µs\n",
      "Wall time: 404 µs\n",
      "K-Nearest neighbors scores: [ 0.30580721  0.34976053  0.30968353  0.36972068  0.32300833]\n",
      "CPU times: user 420 µs, sys: 59 µs, total: 479 µs\n",
      "Wall time: 468 µs\n"
     ]
    }
   ],
   "source": [
    "run_trials(Xq1_train, Y_2_train, 'Y2', 'q', 1)"
   ]
  },
  {
   "cell_type": "code",
   "execution_count": 195,
   "metadata": {
    "collapsed": false,
    "deletable": true,
    "editable": true
   },
   "outputs": [
    {
     "name": "stdout",
     "output_type": "stream",
     "text": [
      "Logistic regression scores: [ 0.34437895  0.33901008  0.35579413  0.30904584  0.30825025]\n",
      "CPU times: user 698 µs, sys: 210 µs, total: 908 µs\n",
      "Wall time: 797 µs\n",
      "Gradient boosting scores: [ 0.43065489  0.38753658  0.44669185  0.42326717  0.43030972]\n",
      "CPU times: user 358 µs, sys: 50 µs, total: 408 µs\n",
      "Wall time: 393 µs\n",
      "Stochastic gradient descent scores: [ 0.34215544  0.29699076  0.29158897  0.31744568  0.23282714]\n",
      "CPU times: user 386 µs, sys: 59 µs, total: 445 µs\n",
      "Wall time: 447 µs\n",
      "Random forest scores: [ 0.38282536  0.39854925  0.32785414  0.39158394  0.37189833]\n",
      "CPU times: user 361 µs, sys: 48 µs, total: 409 µs\n",
      "Wall time: 398 µs\n",
      "Support vector scores: [ 0.33752748  0.37491046  0.37029121  0.32148483  0.31921202]\n",
      "CPU times: user 359 µs, sys: 49 µs, total: 408 µs\n",
      "Wall time: 396 µs\n",
      "K-Nearest neighbors scores: [ 0.29661711  0.31797896  0.33702727  0.3715814   0.31214792]\n",
      "CPU times: user 403 µs, sys: 41 µs, total: 444 µs\n",
      "Wall time: 440 µs\n"
     ]
    }
   ],
   "source": [
    "run_trials(Xq2_train, Y_2_train, 'Y2', 'q', 2)"
   ]
  },
  {
   "cell_type": "code",
   "execution_count": 196,
   "metadata": {
    "collapsed": false,
    "deletable": true,
    "editable": true
   },
   "outputs": [
    {
     "data": {
      "text/html": [
       "<div>\n",
       "<table border=\"1\" class=\"dataframe\">\n",
       "  <thead>\n",
       "    <tr style=\"text-align: right;\">\n",
       "      <th></th>\n",
       "      <th></th>\n",
       "      <th></th>\n",
       "      <th>lrc</th>\n",
       "      <th>gbc</th>\n",
       "      <th>sgd</th>\n",
       "      <th>rfc</th>\n",
       "      <th>svc</th>\n",
       "      <th>knn</th>\n",
       "    </tr>\n",
       "  </thead>\n",
       "  <tbody>\n",
       "    <tr>\n",
       "      <th rowspan=\"4\" valign=\"top\">Y16</th>\n",
       "      <th rowspan=\"2\" valign=\"top\">r</th>\n",
       "      <th>1</th>\n",
       "      <td>0.0570555</td>\n",
       "      <td>0.0682725</td>\n",
       "      <td>0.0325837</td>\n",
       "      <td>0.0510546</td>\n",
       "      <td>0.0822631</td>\n",
       "      <td>0.0467278</td>\n",
       "    </tr>\n",
       "    <tr>\n",
       "      <th>2</th>\n",
       "      <td>0.0586692</td>\n",
       "      <td>0.077803</td>\n",
       "      <td>0.0386779</td>\n",
       "      <td>0.0538001</td>\n",
       "      <td>0.0875121</td>\n",
       "      <td>0.0460896</td>\n",
       "    </tr>\n",
       "    <tr>\n",
       "      <th rowspan=\"2\" valign=\"top\">q</th>\n",
       "      <th>1</th>\n",
       "      <td>0.0532416</td>\n",
       "      <td>0.07076</td>\n",
       "      <td>0.0329873</td>\n",
       "      <td>0.0512037</td>\n",
       "      <td>0.0477678</td>\n",
       "      <td>0.0237382</td>\n",
       "    </tr>\n",
       "    <tr>\n",
       "      <th>2</th>\n",
       "      <td>0.0579224</td>\n",
       "      <td>0.0624606</td>\n",
       "      <td>0.0408724</td>\n",
       "      <td>0.0587459</td>\n",
       "      <td>0.0541313</td>\n",
       "      <td>0.0474389</td>\n",
       "    </tr>\n",
       "    <tr>\n",
       "      <th rowspan=\"4\" valign=\"top\">Y8</th>\n",
       "      <th rowspan=\"2\" valign=\"top\">r</th>\n",
       "      <th>1</th>\n",
       "      <td>0.132532</td>\n",
       "      <td>0.14104</td>\n",
       "      <td>0.0609193</td>\n",
       "      <td>0.0900855</td>\n",
       "      <td>0.142873</td>\n",
       "      <td>0.114405</td>\n",
       "    </tr>\n",
       "    <tr>\n",
       "      <th>2</th>\n",
       "      <td>0.126592</td>\n",
       "      <td>0.137489</td>\n",
       "      <td>0.0807982</td>\n",
       "      <td>0.115669</td>\n",
       "      <td>0.157913</td>\n",
       "      <td>0.1273</td>\n",
       "    </tr>\n",
       "    <tr>\n",
       "      <th rowspan=\"2\" valign=\"top\">q</th>\n",
       "      <th>1</th>\n",
       "      <td>0.122803</td>\n",
       "      <td>0.141607</td>\n",
       "      <td>0.0673147</td>\n",
       "      <td>0.130982</td>\n",
       "      <td>0.117532</td>\n",
       "      <td>0.0853202</td>\n",
       "    </tr>\n",
       "    <tr>\n",
       "      <th>2</th>\n",
       "      <td>0.126417</td>\n",
       "      <td>0.140805</td>\n",
       "      <td>0.0907525</td>\n",
       "      <td>0.114472</td>\n",
       "      <td>0.120066</td>\n",
       "      <td>0.101715</td>\n",
       "    </tr>\n",
       "    <tr>\n",
       "      <th rowspan=\"4\" valign=\"top\">Y4</th>\n",
       "      <th rowspan=\"2\" valign=\"top\">r</th>\n",
       "      <th>1</th>\n",
       "      <td>0.252197</td>\n",
       "      <td>0.253633</td>\n",
       "      <td>0.144494</td>\n",
       "      <td>0.205769</td>\n",
       "      <td>0.264777</td>\n",
       "      <td>0.223828</td>\n",
       "    </tr>\n",
       "    <tr>\n",
       "      <th>2</th>\n",
       "      <td>0.244549</td>\n",
       "      <td>0.267924</td>\n",
       "      <td>0.192457</td>\n",
       "      <td>0.213039</td>\n",
       "      <td>0.277261</td>\n",
       "      <td>0.211684</td>\n",
       "    </tr>\n",
       "    <tr>\n",
       "      <th rowspan=\"2\" valign=\"top\">q</th>\n",
       "      <th>1</th>\n",
       "      <td>0.236538</td>\n",
       "      <td>0.240125</td>\n",
       "      <td>0.202691</td>\n",
       "      <td>0.209892</td>\n",
       "      <td>0.22509</td>\n",
       "      <td>0.167482</td>\n",
       "    </tr>\n",
       "    <tr>\n",
       "      <th>2</th>\n",
       "      <td>0.232267</td>\n",
       "      <td>0.263072</td>\n",
       "      <td>0.188326</td>\n",
       "      <td>0.216139</td>\n",
       "      <td>0.231767</td>\n",
       "      <td>0.191204</td>\n",
       "    </tr>\n",
       "    <tr>\n",
       "      <th rowspan=\"4\" valign=\"top\">Y2</th>\n",
       "      <th rowspan=\"2\" valign=\"top\">r</th>\n",
       "      <th>1</th>\n",
       "      <td>0.399825</td>\n",
       "      <td>0.451026</td>\n",
       "      <td>0.126239</td>\n",
       "      <td>0.382916</td>\n",
       "      <td>0.447073</td>\n",
       "      <td>0.365259</td>\n",
       "    </tr>\n",
       "    <tr>\n",
       "      <th>2</th>\n",
       "      <td>0.405273</td>\n",
       "      <td>0.429521</td>\n",
       "      <td>0.314098</td>\n",
       "      <td>0.377959</td>\n",
       "      <td>0.475</td>\n",
       "      <td>0.377436</td>\n",
       "    </tr>\n",
       "    <tr>\n",
       "      <th rowspan=\"2\" valign=\"top\">q</th>\n",
       "      <th>1</th>\n",
       "      <td>0.34616</td>\n",
       "      <td>0.443082</td>\n",
       "      <td>0.252228</td>\n",
       "      <td>0.384076</td>\n",
       "      <td>0.353121</td>\n",
       "      <td>0.331596</td>\n",
       "    </tr>\n",
       "    <tr>\n",
       "      <th>2</th>\n",
       "      <td>0.331296</td>\n",
       "      <td>0.423692</td>\n",
       "      <td>0.296202</td>\n",
       "      <td>0.374542</td>\n",
       "      <td>0.344685</td>\n",
       "      <td>0.327071</td>\n",
       "    </tr>\n",
       "  </tbody>\n",
       "</table>\n",
       "</div>"
      ],
      "text/plain": [
       "               lrc        gbc        sgd        rfc        svc        knn\n",
       "Y16 r 1  0.0570555  0.0682725  0.0325837  0.0510546  0.0822631  0.0467278\n",
       "      2  0.0586692   0.077803  0.0386779  0.0538001  0.0875121  0.0460896\n",
       "    q 1  0.0532416    0.07076  0.0329873  0.0512037  0.0477678  0.0237382\n",
       "      2  0.0579224  0.0624606  0.0408724  0.0587459  0.0541313  0.0474389\n",
       "Y8  r 1   0.132532    0.14104  0.0609193  0.0900855   0.142873   0.114405\n",
       "      2   0.126592   0.137489  0.0807982   0.115669   0.157913     0.1273\n",
       "    q 1   0.122803   0.141607  0.0673147   0.130982   0.117532  0.0853202\n",
       "      2   0.126417   0.140805  0.0907525   0.114472   0.120066   0.101715\n",
       "Y4  r 1   0.252197   0.253633   0.144494   0.205769   0.264777   0.223828\n",
       "      2   0.244549   0.267924   0.192457   0.213039   0.277261   0.211684\n",
       "    q 1   0.236538   0.240125   0.202691   0.209892    0.22509   0.167482\n",
       "      2   0.232267   0.263072   0.188326   0.216139   0.231767   0.191204\n",
       "Y2  r 1   0.399825   0.451026   0.126239   0.382916   0.447073   0.365259\n",
       "      2   0.405273   0.429521   0.314098   0.377959      0.475   0.377436\n",
       "    q 1    0.34616   0.443082   0.252228   0.384076   0.353121   0.331596\n",
       "      2   0.331296   0.423692   0.296202   0.374542   0.344685   0.327071"
      ]
     },
     "execution_count": 196,
     "metadata": {},
     "output_type": "execute_result"
    }
   ],
   "source": [
    "results"
   ]
  },
  {
   "cell_type": "markdown",
   "metadata": {
    "deletable": true,
    "editable": true
   },
   "source": [
    "The data cannot perform better than reasonably well on binary classification, where robust scaling clearly outperforms quantile transformation on the three highest-scoring algorithms — support vector, logistic regression amd gradient boosting. The second feature set performs better, but would performance improve by dropping the most extreme outliers?"
   ]
  },
  {
   "cell_type": "code",
   "execution_count": 197,
   "metadata": {
    "collapsed": true,
    "deletable": true,
    "editable": true
   },
   "outputs": [],
   "source": [
    "train_xx = list(set(xx_outliers) & set(list(data_train.index)))\n",
    "test_xx = list(set(xx_outliers) & set(list(data_test.index)))"
   ]
  },
  {
   "cell_type": "code",
   "execution_count": 198,
   "metadata": {
    "collapsed": true,
    "deletable": true,
    "editable": true
   },
   "outputs": [],
   "source": [
    "Xr1_noxx_train = Xr1_train.drop(train_xx)\n",
    "Xr2_noxx_train = Xr2_train.drop(train_xx)\n",
    "Y_2_noxx_train = Y_2_train.drop(train_xx)"
   ]
  },
  {
   "cell_type": "code",
   "execution_count": 199,
   "metadata": {
    "collapsed": true,
    "deletable": true,
    "editable": true
   },
   "outputs": [],
   "source": [
    "index2 = pd.MultiIndex.from_product([['full', 'no_xx'], [1, 2]])\n",
    "results2 = pd.DataFrame(index=index2, columns=names)\n",
    "\n",
    "results2.loc['full', 1] = results.loc['Y2', 'r', 1]\n",
    "results2.loc['full', 2] = results.loc['Y2', 'r', 2]\n",
    "\n",
    "\n",
    "def run_trials2(X, Y, selected, feature_set):\n",
    "    for name, clf in zip(names, classifiers):\n",
    "        score = np.mean(cross_val_score(clf, X, Y, cv=5, scoring=matthews))\n",
    "        results2.loc[selected, feature_set][name] = score\n",
    "        %time print('{} average score: {}'.format(full_names[name], score))"
   ]
  },
  {
   "cell_type": "code",
   "execution_count": 200,
   "metadata": {
    "collapsed": false,
    "deletable": true,
    "editable": true
   },
   "outputs": [
    {
     "name": "stdout",
     "output_type": "stream",
     "text": [
      "Logistic regression average score: 0.4247664845496376\n",
      "CPU times: user 83 µs, sys: 57 µs, total: 140 µs\n",
      "Wall time: 126 µs\n",
      "Gradient boosting average score: 0.43668428258323616\n",
      "CPU times: user 78 µs, sys: 53 µs, total: 131 µs\n",
      "Wall time: 114 µs\n",
      "Stochastic gradient descent average score: 0.27854656581776666\n",
      "CPU times: user 67 µs, sys: 48 µs, total: 115 µs\n",
      "Wall time: 105 µs\n",
      "Random forest average score: 0.3798683555047059\n",
      "CPU times: user 75 µs, sys: 54 µs, total: 129 µs\n",
      "Wall time: 115 µs\n",
      "Support vector average score: 0.45486077422022647\n",
      "CPU times: user 87 µs, sys: 60 µs, total: 147 µs\n",
      "Wall time: 124 µs\n",
      "K-Nearest neighbors average score: 0.3751529067815852\n",
      "CPU times: user 58 µs, sys: 32 µs, total: 90 µs\n",
      "Wall time: 93.2 µs\n"
     ]
    }
   ],
   "source": [
    "run_trials2(Xr1_noxx_train, Y_2_noxx_train, 'no_xx', 1)"
   ]
  },
  {
   "cell_type": "code",
   "execution_count": 201,
   "metadata": {
    "collapsed": false,
    "deletable": true,
    "editable": true
   },
   "outputs": [
    {
     "name": "stdout",
     "output_type": "stream",
     "text": [
      "Logistic regression average score: 0.4153626271700427\n",
      "CPU times: user 67 µs, sys: 48 µs, total: 115 µs\n",
      "Wall time: 102 µs\n",
      "Gradient boosting average score: 0.4397033134931504\n",
      "CPU times: user 67 µs, sys: 47 µs, total: 114 µs\n",
      "Wall time: 101 µs\n",
      "Stochastic gradient descent average score: 0.3258795466374546\n",
      "CPU times: user 69 µs, sys: 40 µs, total: 109 µs\n",
      "Wall time: 103 µs\n",
      "Random forest average score: 0.40126448608405607\n",
      "CPU times: user 80 µs, sys: 52 µs, total: 132 µs\n",
      "Wall time: 116 µs\n",
      "Support vector average score: 0.4685448042226986\n",
      "CPU times: user 68 µs, sys: 48 µs, total: 116 µs\n",
      "Wall time: 104 µs\n",
      "K-Nearest neighbors average score: 0.38238270214170966\n",
      "CPU times: user 67 µs, sys: 47 µs, total: 114 µs\n",
      "Wall time: 107 µs\n"
     ]
    }
   ],
   "source": [
    "run_trials2(Xr2_noxx_train, Y_2_noxx_train, 'no_xx', 2)"
   ]
  },
  {
   "cell_type": "code",
   "execution_count": 202,
   "metadata": {
    "collapsed": false,
    "deletable": true,
    "editable": true
   },
   "outputs": [
    {
     "data": {
      "text/html": [
       "<div>\n",
       "<table border=\"1\" class=\"dataframe\">\n",
       "  <thead>\n",
       "    <tr style=\"text-align: right;\">\n",
       "      <th></th>\n",
       "      <th></th>\n",
       "      <th>lrc</th>\n",
       "      <th>gbc</th>\n",
       "      <th>sgd</th>\n",
       "      <th>rfc</th>\n",
       "      <th>svc</th>\n",
       "      <th>knn</th>\n",
       "    </tr>\n",
       "  </thead>\n",
       "  <tbody>\n",
       "    <tr>\n",
       "      <th rowspan=\"2\" valign=\"top\">full</th>\n",
       "      <th>1</th>\n",
       "      <td>0.399825</td>\n",
       "      <td>0.451026</td>\n",
       "      <td>0.126239</td>\n",
       "      <td>0.382916</td>\n",
       "      <td>0.447073</td>\n",
       "      <td>0.365259</td>\n",
       "    </tr>\n",
       "    <tr>\n",
       "      <th>2</th>\n",
       "      <td>0.405273</td>\n",
       "      <td>0.429521</td>\n",
       "      <td>0.314098</td>\n",
       "      <td>0.377959</td>\n",
       "      <td>0.475</td>\n",
       "      <td>0.377436</td>\n",
       "    </tr>\n",
       "    <tr>\n",
       "      <th rowspan=\"2\" valign=\"top\">no_xx</th>\n",
       "      <th>1</th>\n",
       "      <td>0.424766</td>\n",
       "      <td>0.436684</td>\n",
       "      <td>0.278547</td>\n",
       "      <td>0.379868</td>\n",
       "      <td>0.454861</td>\n",
       "      <td>0.375153</td>\n",
       "    </tr>\n",
       "    <tr>\n",
       "      <th>2</th>\n",
       "      <td>0.415363</td>\n",
       "      <td>0.439703</td>\n",
       "      <td>0.32588</td>\n",
       "      <td>0.401264</td>\n",
       "      <td>0.468545</td>\n",
       "      <td>0.382383</td>\n",
       "    </tr>\n",
       "  </tbody>\n",
       "</table>\n",
       "</div>"
      ],
      "text/plain": [
       "              lrc       gbc       sgd       rfc       svc       knn\n",
       "full  1  0.399825  0.451026  0.126239  0.382916  0.447073  0.365259\n",
       "      2  0.405273  0.429521  0.314098  0.377959     0.475  0.377436\n",
       "no_xx 1  0.424766  0.436684  0.278547  0.379868  0.454861  0.375153\n",
       "      2  0.415363  0.439703   0.32588  0.401264  0.468545  0.382383"
      ]
     },
     "execution_count": 202,
     "metadata": {},
     "output_type": "execute_result"
    }
   ],
   "source": [
    "results2"
   ]
  },
  {
   "cell_type": "markdown",
   "metadata": {
    "deletable": true,
    "editable": true
   },
   "source": [
    "The choices between the full dataset or the dataset without the most extreme outliers, and between the feaure sets is not clear. See how the top three models perform on the test set."
   ]
  },
  {
   "cell_type": "code",
   "execution_count": 203,
   "metadata": {
    "collapsed": true,
    "deletable": true,
    "editable": true
   },
   "outputs": [],
   "source": [
    "r_test = pd.DataFrame(robust.fit_transform(data_test.drop(['urban_inf'], axis=1)),\n",
    "                       index=data_test.index, columns=data_test.drop(['urban_inf'], axis=1).columns)\n",
    "r_test['urban_inf'] = data_test['urban_inf']\n",
    "\n",
    "Xr1_test = r_test.loc[:, r_features]\n",
    "Xr1_test = pd.get_dummies(Xr1_test, prefix='urb_inf_', columns=['urban_inf'])\n",
    "\n",
    "Xr2_test = r_test.loc[:, features2]\n",
    "Xr2_test = pd.get_dummies(Xr2_test, prefix='urb_inf_', columns=['urban_inf'])\n",
    "\n",
    "Xr1_noxx_test = r_test.loc[:, r_features].drop(test_xx)\n",
    "Xr1_noxx_test = pd.get_dummies(Xr1_noxx_test, prefix='urb_inf_', columns=['urban_inf'])\n",
    "\n",
    "Xr2_noxx_test = r_test.loc[:, features2].drop(test_xx)\n",
    "Xr2_noxx_test = pd.get_dummies(Xr2_noxx_test, prefix='urb_inf_', columns=['urban_inf'])\n",
    "\n",
    "Y_2_test = data_test.loc[:, 'high_death_rate']\n",
    "Y_2_noxx_test = Y_2_test.drop(test_xx)"
   ]
  },
  {
   "cell_type": "code",
   "execution_count": 204,
   "metadata": {
    "collapsed": true,
    "deletable": true,
    "editable": true
   },
   "outputs": [],
   "source": [
    "index3 = pd.MultiIndex.from_product([['full', 'no_xx'], [1, 2]])\n",
    "names3 = ['lrc', 'gbc', 'svc']\n",
    "classifiers3 = [classifiers[i] for i in [0, 1, 4]]\n",
    "results3 = pd.DataFrame(index=index3, columns=names3)\n",
    "\n",
    "def run_trials3(X_train, X_test, Y_train, Y_test, selected, feature_set):\n",
    "    for name, clf in zip(names3, classifiers3):\n",
    "        clf.fit(X_train, Y_train)\n",
    "        Y_pred = clf.predict(X_test)\n",
    "        score = matthews_corrcoef(Y_test, Y_pred)\n",
    "        results3.loc[selected, feature_set][name] = score\n",
    "        %time print('{} average score: {}'.format(full_names[name], score))"
   ]
  },
  {
   "cell_type": "code",
   "execution_count": 205,
   "metadata": {
    "collapsed": false,
    "deletable": true,
    "editable": true
   },
   "outputs": [
    {
     "name": "stdout",
     "output_type": "stream",
     "text": [
      "Logistic regression average score: 0.4254933674749412\n",
      "CPU times: user 302 µs, sys: 54 µs, total: 356 µs\n",
      "Wall time: 88.2 µs\n",
      "Gradient boosting average score: 0.46750981979707357\n",
      "CPU times: user 69 µs, sys: 50 µs, total: 119 µs\n",
      "Wall time: 104 µs\n",
      "Support vector average score: 0.44690008305811424\n",
      "CPU times: user 220 µs, sys: 100 µs, total: 320 µs\n",
      "Wall time: 268 µs\n"
     ]
    }
   ],
   "source": [
    "run_trials3(Xr1_train, Xr1_test, Y_2_train, Y_2_test, 'full', 1)"
   ]
  },
  {
   "cell_type": "code",
   "execution_count": 206,
   "metadata": {
    "collapsed": false,
    "deletable": true,
    "editable": true
   },
   "outputs": [
    {
     "name": "stdout",
     "output_type": "stream",
     "text": [
      "Logistic regression average score: 0.44005573725072195\n",
      "CPU times: user 307 µs, sys: 56 µs, total: 363 µs\n",
      "Wall time: 88.7 µs\n",
      "Gradient boosting average score: 0.4666216241085279\n",
      "CPU times: user 73 µs, sys: 52 µs, total: 125 µs\n",
      "Wall time: 111 µs\n",
      "Support vector average score: 0.4513690984910804\n",
      "CPU times: user 69 µs, sys: 41 µs, total: 110 µs\n",
      "Wall time: 103 µs\n"
     ]
    }
   ],
   "source": [
    "run_trials3(Xr2_train, Xr2_test, Y_2_train, Y_2_test, 'full', 2)"
   ]
  },
  {
   "cell_type": "code",
   "execution_count": 207,
   "metadata": {
    "collapsed": false,
    "deletable": true,
    "editable": true
   },
   "outputs": [
    {
     "name": "stdout",
     "output_type": "stream",
     "text": [
      "Logistic regression average score: 0.4289254381995234\n",
      "CPU times: user 561 µs, sys: 140 µs, total: 701 µs\n",
      "Wall time: 182 µs\n",
      "Gradient boosting average score: 0.47565070207723426\n",
      "CPU times: user 79 µs, sys: 53 µs, total: 132 µs\n",
      "Wall time: 117 µs\n",
      "Support vector average score: 0.4447437028487351\n",
      "CPU times: user 76 µs, sys: 52 µs, total: 128 µs\n",
      "Wall time: 112 µs\n"
     ]
    }
   ],
   "source": [
    "run_trials3(Xr1_noxx_train, Xr1_noxx_test, Y_2_noxx_train, Y_2_noxx_test, 'no_xx', 1)"
   ]
  },
  {
   "cell_type": "code",
   "execution_count": 208,
   "metadata": {
    "collapsed": false,
    "deletable": true,
    "editable": true
   },
   "outputs": [
    {
     "name": "stdout",
     "output_type": "stream",
     "text": [
      "Logistic regression average score: 0.4218723716240062\n",
      "CPU times: user 89 µs, sys: 68 µs, total: 157 µs\n",
      "Wall time: 124 µs\n",
      "Gradient boosting average score: 0.4377136427686071\n",
      "CPU times: user 204 µs, sys: 108 µs, total: 312 µs\n",
      "Wall time: 258 µs\n",
      "Support vector average score: 0.4696203274795283\n",
      "CPU times: user 503 µs, sys: 168 µs, total: 671 µs\n",
      "Wall time: 567 µs\n"
     ]
    }
   ],
   "source": [
    "run_trials3(Xr2_noxx_train, Xr2_noxx_test, Y_2_noxx_train, Y_2_noxx_test, 'no_xx', 2)"
   ]
  },
  {
   "cell_type": "code",
   "execution_count": 209,
   "metadata": {
    "collapsed": false,
    "deletable": true,
    "editable": true
   },
   "outputs": [
    {
     "data": {
      "text/html": [
       "<div>\n",
       "<table border=\"1\" class=\"dataframe\">\n",
       "  <thead>\n",
       "    <tr style=\"text-align: right;\">\n",
       "      <th></th>\n",
       "      <th></th>\n",
       "      <th>lrc</th>\n",
       "      <th>gbc</th>\n",
       "      <th>svc</th>\n",
       "    </tr>\n",
       "  </thead>\n",
       "  <tbody>\n",
       "    <tr>\n",
       "      <th rowspan=\"2\" valign=\"top\">full</th>\n",
       "      <th>1</th>\n",
       "      <td>0.425493</td>\n",
       "      <td>0.46751</td>\n",
       "      <td>0.4469</td>\n",
       "    </tr>\n",
       "    <tr>\n",
       "      <th>2</th>\n",
       "      <td>0.440056</td>\n",
       "      <td>0.466622</td>\n",
       "      <td>0.451369</td>\n",
       "    </tr>\n",
       "    <tr>\n",
       "      <th rowspan=\"2\" valign=\"top\">no_xx</th>\n",
       "      <th>1</th>\n",
       "      <td>0.428925</td>\n",
       "      <td>0.475651</td>\n",
       "      <td>0.444744</td>\n",
       "    </tr>\n",
       "    <tr>\n",
       "      <th>2</th>\n",
       "      <td>0.421872</td>\n",
       "      <td>0.437714</td>\n",
       "      <td>0.46962</td>\n",
       "    </tr>\n",
       "  </tbody>\n",
       "</table>\n",
       "</div>"
      ],
      "text/plain": [
       "              lrc       gbc       svc\n",
       "full  1  0.425493   0.46751    0.4469\n",
       "      2  0.440056  0.466622  0.451369\n",
       "no_xx 1  0.428925  0.475651  0.444744\n",
       "      2  0.421872  0.437714   0.46962"
      ]
     },
     "execution_count": 209,
     "metadata": {},
     "output_type": "execute_result"
    }
   ],
   "source": [
    "results3"
   ]
  },
  {
   "cell_type": "markdown",
   "metadata": {
    "deletable": true,
    "editable": true
   },
   "source": [
    "The scores are very comparable, but the full dataset achieved more consistent results and handles all the samples, so that will be chosen. It achieved its best and most consistent results with the second feature set. Gradient boosting and support vector performed better than logistic regression; both will be optimized.  "
   ]
  },
  {
   "cell_type": "code",
   "execution_count": 211,
   "metadata": {
    "collapsed": true,
    "deletable": true,
    "editable": true
   },
   "outputs": [],
   "source": [
    "from sklearn.model_selection import GridSearchCV\n",
    "from sklearn.metrics import roc_auc_score\n",
    "from sklearn.metrics import confusion_matrix"
   ]
  },
  {
   "cell_type": "code",
   "execution_count": 212,
   "metadata": {
    "collapsed": true,
    "deletable": true,
    "editable": true
   },
   "outputs": [],
   "source": [
    "def optimize(clf, params, X_train, X_test, Y_train, Y_test):\n",
    "    model = GridSearchCV(clf, param_grid=params, scoring=matthews)\n",
    "    model.fit(X_train, Y_train)\n",
    "    print('Optimal parameters: {}'.format(model.best_params_))\n",
    "    preds = model.predict(X_test)\n",
    "    print('Matthews score: {}'.format(matthews_corrcoef(Y_test, preds)))\n",
    "    print('ROC-AUC score: {}'.format(roc_auc_score(Y_test, preds)))\n",
    "    print(confusion_matrix(Y_test, preds))\n",
    "    residuals = pd.DataFrame(model.best_estimator_.decision_function(X_test))\n",
    "    plt.scatter(residuals.index, residuals)\n",
    "    return model"
   ]
  },
  {
   "cell_type": "code",
   "execution_count": 213,
   "metadata": {
    "collapsed": true,
    "deletable": true,
    "editable": true
   },
   "outputs": [],
   "source": [
    "gbc_params = { 'loss': ['deviance', 'exponential'], 'learning_rate': [.01, .05, .1, .15],\n",
    "                'n_estimators': [50, 100, 150], 'max_depth': [3, 4],\n",
    "                'min_samples_split': [2, 3], 'min_samples_leaf': [1, 2]}\n",
    "\n",
    "svc_params = {'C': [0.5, 1, 4, 7], 'kernel': ['linear', 'poly', 'rbf'],\n",
    "             'gamma': [0.1, 0.12, 0.14], 'tol': [1e-7, 5e-7, 1e-6, 5e-6]}\n"
   ]
  },
  {
   "cell_type": "code",
   "execution_count": 214,
   "metadata": {
    "collapsed": false,
    "deletable": true,
    "editable": true
   },
   "outputs": [
    {
     "name": "stdout",
     "output_type": "stream",
     "text": [
      "Optimal parameters: {'learning_rate': 0.05, 'loss': 'exponential', 'max_depth': 4, 'min_samples_leaf': 2, 'min_samples_split': 3, 'n_estimators': 150}\n",
      "Matthews score: 0.4688374295285176\n",
      "ROC-AUC score: 0.7347505382768957\n",
      "[[258  85]\n",
      " [ 80 203]]\n"
     ]
    },
    {
     "data": {
      "image/png": "[encoded data removed]",
      "text/plain": [
       "<matplotlib.figure.Figure at 0x1196f7a20>"
      ]
     },
     "metadata": {},
     "output_type": "display_data"
    }
   ],
   "source": [
    "gbc_1 = optimize(gbc, gbc_params, Xr2_train, Xr2_test, Y_2_train, Y_2_test)"
   ]
  },
  {
   "cell_type": "code",
   "execution_count": 216,
   "metadata": {
    "collapsed": false,
    "deletable": true,
    "editable": true
   },
   "outputs": [
    {
     "name": "stdout",
     "output_type": "stream",
     "text": [
      "Optimal parameters: {'C': 1, 'gamma': 0.12, 'kernel': 'rbf', 'tol': 1e-07}\n",
      "Matthews score: 0.4561386121555704\n",
      "ROC-AUC score: 0.7290072010631612\n",
      "[[248  95]\n",
      " [ 75 208]]\n"
     ]
    },
    {
     "data": {
      "image/png": "[encoded data removed]",
      "text/plain": [
       "<matplotlib.figure.Figure at 0x11a1af860>"
      ]
     },
     "metadata": {},
     "output_type": "display_data"
    }
   ],
   "source": [
    "svc_1 = optimize(svc, svc_params, Xr2_train, Xr2_test, Y_2_train, Y_2_test)"
   ]
  },
  {
   "cell_type": "code",
   "execution_count": null,
   "metadata": {
    "collapsed": true
   },
   "outputs": [],
   "source": []
  }
 ],
 "metadata": {
  "kernelspec": {
   "display_name": "Python 3",
   "language": "python",
   "name": "python3"
  },
  "language_info": {
   "codemirror_mode": {
    "name": "ipython",
    "version": 3
   },
   "file_extension": ".py",
   "mimetype": "text/x-python",
   "name": "python",
   "nbconvert_exporter": "python",
   "pygments_lexer": "ipython3",
   "version": "3.6.0"
  }
 },
 "nbformat": 4,
 "nbformat_minor": 2
}
