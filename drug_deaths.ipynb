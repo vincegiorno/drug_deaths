{
 "cells": [
  {
   "cell_type": "code",
   "execution_count": 150,
   "metadata": {
    "collapsed": true
   },
   "outputs": [],
   "source": [
    "import numpy as np\n",
    "import pandas as pd\n",
    "import matplotlib.pyplot as plt\n",
    "import seaborn as sns\n",
    "\n",
    "%matplotlib inline"
   ]
  },
  {
   "cell_type": "code",
   "execution_count": 151,
   "metadata": {
    "collapsed": true
   },
   "outputs": [],
   "source": [
    "data = pd.read_excel('data/Education.xls', skiprows=range(4), usecols=['FIPS Code',\n",
    "                                                'State', 'Area name',\n",
    "                                                'Percent of adults with less than a high school diploma, 2012-2016',\n",
    "                                                'Percent of adults with a bachelor\\'s degree or higher, 2012-2016'],\n",
    "                        converters={'FIPS Code': str})"
   ]
  },
  {
   "cell_type": "code",
   "execution_count": 152,
   "metadata": {
    "collapsed": true
   },
   "outputs": [],
   "source": [
    "data.columns=['FIPS', 'state', 'name', '< diploma', 'degree+']"
   ]
  },
  {
   "cell_type": "markdown",
   "metadata": {},
   "source": [
    "Percentages of people who did not get a high school diploma and who got a bachelor's degree or higher."
   ]
  },
  {
   "cell_type": "code",
   "execution_count": 153,
   "metadata": {},
   "outputs": [
    {
     "data": {
      "text/html": [
       "<div>\n",
       "<style>\n",
       "    .dataframe thead tr:only-child th {\n",
       "        text-align: right;\n",
       "    }\n",
       "\n",
       "    .dataframe thead th {\n",
       "        text-align: left;\n",
       "    }\n",
       "\n",
       "    .dataframe tbody tr th {\n",
       "        vertical-align: top;\n",
       "    }\n",
       "</style>\n",
       "<table border=\"1\" class=\"dataframe\">\n",
       "  <thead>\n",
       "    <tr style=\"text-align: right;\">\n",
       "      <th></th>\n",
       "      <th>FIPS</th>\n",
       "      <th>state</th>\n",
       "      <th>name</th>\n",
       "      <th>&lt; diploma</th>\n",
       "      <th>degree+</th>\n",
       "    </tr>\n",
       "  </thead>\n",
       "  <tbody>\n",
       "    <tr>\n",
       "      <th>0</th>\n",
       "      <td>00000</td>\n",
       "      <td>US</td>\n",
       "      <td>United States</td>\n",
       "      <td>13.021</td>\n",
       "      <td>30.315</td>\n",
       "    </tr>\n",
       "    <tr>\n",
       "      <th>1</th>\n",
       "      <td>01000</td>\n",
       "      <td>AL</td>\n",
       "      <td>Alabama</td>\n",
       "      <td>15.209</td>\n",
       "      <td>24.010</td>\n",
       "    </tr>\n",
       "    <tr>\n",
       "      <th>2</th>\n",
       "      <td>01001</td>\n",
       "      <td>AL</td>\n",
       "      <td>Autauga County</td>\n",
       "      <td>12.417</td>\n",
       "      <td>24.593</td>\n",
       "    </tr>\n",
       "    <tr>\n",
       "      <th>3</th>\n",
       "      <td>01003</td>\n",
       "      <td>AL</td>\n",
       "      <td>Baldwin County</td>\n",
       "      <td>9.972</td>\n",
       "      <td>29.547</td>\n",
       "    </tr>\n",
       "    <tr>\n",
       "      <th>4</th>\n",
       "      <td>01005</td>\n",
       "      <td>AL</td>\n",
       "      <td>Barbour County</td>\n",
       "      <td>26.236</td>\n",
       "      <td>12.868</td>\n",
       "    </tr>\n",
       "  </tbody>\n",
       "</table>\n",
       "</div>"
      ],
      "text/plain": [
       "    FIPS state            name  < diploma  degree+\n",
       "0  00000    US   United States     13.021   30.315\n",
       "1  01000    AL         Alabama     15.209   24.010\n",
       "2  01001    AL  Autauga County     12.417   24.593\n",
       "3  01003    AL  Baldwin County      9.972   29.547\n",
       "4  01005    AL  Barbour County     26.236   12.868"
      ]
     },
     "execution_count": 153,
     "metadata": {},
     "output_type": "execute_result"
    }
   ],
   "source": [
    "data.head()"
   ]
  },
  {
   "cell_type": "code",
   "execution_count": 154,
   "metadata": {
    "collapsed": true
   },
   "outputs": [],
   "source": [
    "data['FIPS'] = data['FIPS'].apply(lambda x: x if x[2:5] != '000' else 'not county') # mark rows for US and states"
   ]
  },
  {
   "cell_type": "code",
   "execution_count": 155,
   "metadata": {
    "collapsed": true
   },
   "outputs": [],
   "source": [
    "data = data[data['FIPS'] != 'not county']"
   ]
  },
  {
   "cell_type": "code",
   "execution_count": 156,
   "metadata": {
    "collapsed": true
   },
   "outputs": [],
   "source": [
    "data = data[data['FIPS'] < '57000'] # remove Puerto Rico counties, which would be outliers for several features"
   ]
  },
  {
   "cell_type": "code",
   "execution_count": 157,
   "metadata": {},
   "outputs": [
    {
     "data": {
      "text/html": [
       "<div>\n",
       "<style>\n",
       "    .dataframe thead tr:only-child th {\n",
       "        text-align: right;\n",
       "    }\n",
       "\n",
       "    .dataframe thead th {\n",
       "        text-align: left;\n",
       "    }\n",
       "\n",
       "    .dataframe tbody tr th {\n",
       "        vertical-align: top;\n",
       "    }\n",
       "</style>\n",
       "<table border=\"1\" class=\"dataframe\">\n",
       "  <thead>\n",
       "    <tr style=\"text-align: right;\">\n",
       "      <th></th>\n",
       "      <th>FIPS</th>\n",
       "      <th>state</th>\n",
       "      <th>name</th>\n",
       "      <th>&lt; diploma</th>\n",
       "      <th>degree+</th>\n",
       "    </tr>\n",
       "  </thead>\n",
       "  <tbody>\n",
       "    <tr>\n",
       "      <th>2</th>\n",
       "      <td>01001</td>\n",
       "      <td>AL</td>\n",
       "      <td>Autauga County</td>\n",
       "      <td>12.417</td>\n",
       "      <td>24.593</td>\n",
       "    </tr>\n",
       "    <tr>\n",
       "      <th>3</th>\n",
       "      <td>01003</td>\n",
       "      <td>AL</td>\n",
       "      <td>Baldwin County</td>\n",
       "      <td>9.972</td>\n",
       "      <td>29.547</td>\n",
       "    </tr>\n",
       "    <tr>\n",
       "      <th>4</th>\n",
       "      <td>01005</td>\n",
       "      <td>AL</td>\n",
       "      <td>Barbour County</td>\n",
       "      <td>26.236</td>\n",
       "      <td>12.868</td>\n",
       "    </tr>\n",
       "    <tr>\n",
       "      <th>5</th>\n",
       "      <td>01007</td>\n",
       "      <td>AL</td>\n",
       "      <td>Bibb County</td>\n",
       "      <td>19.302</td>\n",
       "      <td>12.000</td>\n",
       "    </tr>\n",
       "    <tr>\n",
       "      <th>6</th>\n",
       "      <td>01009</td>\n",
       "      <td>AL</td>\n",
       "      <td>Blount County</td>\n",
       "      <td>19.969</td>\n",
       "      <td>13.050</td>\n",
       "    </tr>\n",
       "  </tbody>\n",
       "</table>\n",
       "</div>"
      ],
      "text/plain": [
       "    FIPS state            name  < diploma  degree+\n",
       "2  01001    AL  Autauga County     12.417   24.593\n",
       "3  01003    AL  Baldwin County      9.972   29.547\n",
       "4  01005    AL  Barbour County     26.236   12.868\n",
       "5  01007    AL     Bibb County     19.302   12.000\n",
       "6  01009    AL   Blount County     19.969   13.050"
      ]
     },
     "execution_count": 157,
     "metadata": {},
     "output_type": "execute_result"
    }
   ],
   "source": [
    "data.head()"
   ]
  },
  {
   "cell_type": "code",
   "execution_count": 158,
   "metadata": {},
   "outputs": [
    {
     "data": {
      "text/html": [
       "<div>\n",
       "<style>\n",
       "    .dataframe thead tr:only-child th {\n",
       "        text-align: right;\n",
       "    }\n",
       "\n",
       "    .dataframe thead th {\n",
       "        text-align: left;\n",
       "    }\n",
       "\n",
       "    .dataframe tbody tr th {\n",
       "        vertical-align: top;\n",
       "    }\n",
       "</style>\n",
       "<table border=\"1\" class=\"dataframe\">\n",
       "  <thead>\n",
       "    <tr style=\"text-align: right;\">\n",
       "      <th></th>\n",
       "      <th>FIPS</th>\n",
       "      <th>state</th>\n",
       "      <th>name</th>\n",
       "      <th>&lt; diploma</th>\n",
       "      <th>degree+</th>\n",
       "    </tr>\n",
       "  </thead>\n",
       "  <tbody>\n",
       "    <tr>\n",
       "      <th>3199</th>\n",
       "      <td>56037</td>\n",
       "      <td>WY</td>\n",
       "      <td>Sweetwater County</td>\n",
       "      <td>9.315</td>\n",
       "      <td>21.371</td>\n",
       "    </tr>\n",
       "    <tr>\n",
       "      <th>3200</th>\n",
       "      <td>56039</td>\n",
       "      <td>WY</td>\n",
       "      <td>Teton County</td>\n",
       "      <td>4.634</td>\n",
       "      <td>53.788</td>\n",
       "    </tr>\n",
       "    <tr>\n",
       "      <th>3201</th>\n",
       "      <td>56041</td>\n",
       "      <td>WY</td>\n",
       "      <td>Uinta County</td>\n",
       "      <td>10.361</td>\n",
       "      <td>18.207</td>\n",
       "    </tr>\n",
       "    <tr>\n",
       "      <th>3202</th>\n",
       "      <td>56043</td>\n",
       "      <td>WY</td>\n",
       "      <td>Washakie County</td>\n",
       "      <td>12.577</td>\n",
       "      <td>21.076</td>\n",
       "    </tr>\n",
       "    <tr>\n",
       "      <th>3203</th>\n",
       "      <td>56045</td>\n",
       "      <td>WY</td>\n",
       "      <td>Weston County</td>\n",
       "      <td>8.592</td>\n",
       "      <td>18.807</td>\n",
       "    </tr>\n",
       "  </tbody>\n",
       "</table>\n",
       "</div>"
      ],
      "text/plain": [
       "       FIPS state               name  < diploma  degree+\n",
       "3199  56037    WY  Sweetwater County      9.315   21.371\n",
       "3200  56039    WY       Teton County      4.634   53.788\n",
       "3201  56041    WY       Uinta County     10.361   18.207\n",
       "3202  56043    WY    Washakie County     12.577   21.076\n",
       "3203  56045    WY      Weston County      8.592   18.807"
      ]
     },
     "execution_count": 158,
     "metadata": {},
     "output_type": "execute_result"
    }
   ],
   "source": [
    "data.tail()"
   ]
  },
  {
   "cell_type": "code",
   "execution_count": 159,
   "metadata": {
    "collapsed": true
   },
   "outputs": [],
   "source": [
    "population = pd.read_excel('data/Population.xls', skiprows=range(2), usecols=['FIPS','Urban_Influence_Code_2013',\n",
    "                                                                              'CENSUS_2010_POP','POP_ESTIMATE_2014',\n",
    "                                                                              'INTERNATIONALMIG_2010',\n",
    "                                                                              'INTERNATIONALMIG-2011',\n",
    "                                                                              'INTERNATIONAL_MIG_2012',\n",
    "                                                                              'INTERNATIONAL_MIG_2013'],\n",
    "                           converters={'FIPS': str})"
   ]
  },
  {
   "cell_type": "code",
   "execution_count": 160,
   "metadata": {
    "collapsed": true
   },
   "outputs": [],
   "source": [
    "population.columns = ['FIPS', 'urban_influence', 'pop_2010', 'pop_2014', 'im1', 'im2', 'im3', 'im4']"
   ]
  },
  {
   "cell_type": "markdown",
   "metadata": {},
   "source": [
    "The urban influence code \"distinguishes metropolitan counties by population size of their metro area, and nonmetropolitan counties by size of the largest city or town and proximity to metro and micropolitan areas.\" Lower numbers are more urban. The other features being consteucted here are the change in poulation between 2010 and 2014, and the change in the international migrant population relative to the overall change. "
   ]
  },
  {
   "cell_type": "code",
   "execution_count": 161,
   "metadata": {
    "collapsed": true
   },
   "outputs": [],
   "source": [
    "population['pop_inc'] = (population['pop_2014'] - population['pop_2010']) / population['pop_2010']"
   ]
  },
  {
   "cell_type": "code",
   "execution_count": 162,
   "metadata": {
    "collapsed": true
   },
   "outputs": [],
   "source": [
    "population['foreign_inc'] = (population['im1'] + population['im2'] + population['im3'] + population['im4']\n",
    "                            ) / (population['pop_2014'] - population['pop_2010'])"
   ]
  },
  {
   "cell_type": "code",
   "execution_count": 163,
   "metadata": {
    "collapsed": true
   },
   "outputs": [],
   "source": [
    "add_pop = population.drop(['pop_2010', 'im1', 'im2', 'im3', 'im4'], axis=1)"
   ]
  },
  {
   "cell_type": "code",
   "execution_count": 164,
   "metadata": {},
   "outputs": [
    {
     "data": {
      "text/html": [
       "<div>\n",
       "<style>\n",
       "    .dataframe thead tr:only-child th {\n",
       "        text-align: right;\n",
       "    }\n",
       "\n",
       "    .dataframe thead th {\n",
       "        text-align: left;\n",
       "    }\n",
       "\n",
       "    .dataframe tbody tr th {\n",
       "        vertical-align: top;\n",
       "    }\n",
       "</style>\n",
       "<table border=\"1\" class=\"dataframe\">\n",
       "  <thead>\n",
       "    <tr style=\"text-align: right;\">\n",
       "      <th></th>\n",
       "      <th>FIPS</th>\n",
       "      <th>urban_influence</th>\n",
       "      <th>pop_2014</th>\n",
       "      <th>pop_inc</th>\n",
       "      <th>foreign_inc</th>\n",
       "    </tr>\n",
       "  </thead>\n",
       "  <tbody>\n",
       "    <tr>\n",
       "      <th>0</th>\n",
       "      <td>00000</td>\n",
       "      <td>NaN</td>\n",
       "      <td>318622525</td>\n",
       "      <td>0.031991</td>\n",
       "      <td>0.289381</td>\n",
       "    </tr>\n",
       "    <tr>\n",
       "      <th>1</th>\n",
       "      <td>01000</td>\n",
       "      <td>NaN</td>\n",
       "      <td>4840037</td>\n",
       "      <td>0.012616</td>\n",
       "      <td>0.232285</td>\n",
       "    </tr>\n",
       "    <tr>\n",
       "      <th>2</th>\n",
       "      <td>01001</td>\n",
       "      <td>2.0</td>\n",
       "      <td>54864</td>\n",
       "      <td>0.005369</td>\n",
       "      <td>0.040956</td>\n",
       "    </tr>\n",
       "    <tr>\n",
       "      <th>3</th>\n",
       "      <td>01003</td>\n",
       "      <td>2.0</td>\n",
       "      <td>199064</td>\n",
       "      <td>0.092168</td>\n",
       "      <td>0.030359</td>\n",
       "    </tr>\n",
       "    <tr>\n",
       "      <th>4</th>\n",
       "      <td>01005</td>\n",
       "      <td>6.0</td>\n",
       "      <td>26749</td>\n",
       "      <td>-0.025786</td>\n",
       "      <td>0.033898</td>\n",
       "    </tr>\n",
       "    <tr>\n",
       "      <th>5</th>\n",
       "      <td>01007</td>\n",
       "      <td>1.0</td>\n",
       "      <td>22533</td>\n",
       "      <td>-0.016670</td>\n",
       "      <td>-0.102094</td>\n",
       "    </tr>\n",
       "  </tbody>\n",
       "</table>\n",
       "</div>"
      ],
      "text/plain": [
       "    FIPS  urban_influence   pop_2014   pop_inc  foreign_inc\n",
       "0  00000              NaN  318622525  0.031991     0.289381\n",
       "1  01000              NaN    4840037  0.012616     0.232285\n",
       "2  01001              2.0      54864  0.005369     0.040956\n",
       "3  01003              2.0     199064  0.092168     0.030359\n",
       "4  01005              6.0      26749 -0.025786     0.033898\n",
       "5  01007              1.0      22533 -0.016670    -0.102094"
      ]
     },
     "execution_count": 164,
     "metadata": {},
     "output_type": "execute_result"
    }
   ],
   "source": [
    "add_pop.head(6)"
   ]
  },
  {
   "cell_type": "markdown",
   "metadata": {},
   "source": [
    "Where the population increase is negative, the foreign increase must be multiplied by -1 so that the division in the calculation does not turn a positive foreign increase negative and vice-versa."
   ]
  },
  {
   "cell_type": "code",
   "execution_count": 165,
   "metadata": {
    "collapsed": true
   },
   "outputs": [],
   "source": [
    "add_pop['foreign_inc'] = add_pop['foreign_inc'] * (add_pop['pop_inc'] / abs(add_pop['pop_inc']))"
   ]
  },
  {
   "cell_type": "code",
   "execution_count": 166,
   "metadata": {},
   "outputs": [
    {
     "data": {
      "text/html": [
       "<div>\n",
       "<style>\n",
       "    .dataframe thead tr:only-child th {\n",
       "        text-align: right;\n",
       "    }\n",
       "\n",
       "    .dataframe thead th {\n",
       "        text-align: left;\n",
       "    }\n",
       "\n",
       "    .dataframe tbody tr th {\n",
       "        vertical-align: top;\n",
       "    }\n",
       "</style>\n",
       "<table border=\"1\" class=\"dataframe\">\n",
       "  <thead>\n",
       "    <tr style=\"text-align: right;\">\n",
       "      <th></th>\n",
       "      <th>FIPS</th>\n",
       "      <th>urban_influence</th>\n",
       "      <th>pop_2014</th>\n",
       "      <th>pop_inc</th>\n",
       "      <th>foreign_inc</th>\n",
       "    </tr>\n",
       "  </thead>\n",
       "  <tbody>\n",
       "    <tr>\n",
       "      <th>0</th>\n",
       "      <td>00000</td>\n",
       "      <td>NaN</td>\n",
       "      <td>318622525</td>\n",
       "      <td>0.031991</td>\n",
       "      <td>0.289381</td>\n",
       "    </tr>\n",
       "    <tr>\n",
       "      <th>1</th>\n",
       "      <td>01000</td>\n",
       "      <td>NaN</td>\n",
       "      <td>4840037</td>\n",
       "      <td>0.012616</td>\n",
       "      <td>0.232285</td>\n",
       "    </tr>\n",
       "    <tr>\n",
       "      <th>2</th>\n",
       "      <td>01001</td>\n",
       "      <td>2.0</td>\n",
       "      <td>54864</td>\n",
       "      <td>0.005369</td>\n",
       "      <td>0.040956</td>\n",
       "    </tr>\n",
       "    <tr>\n",
       "      <th>3</th>\n",
       "      <td>01003</td>\n",
       "      <td>2.0</td>\n",
       "      <td>199064</td>\n",
       "      <td>0.092168</td>\n",
       "      <td>0.030359</td>\n",
       "    </tr>\n",
       "    <tr>\n",
       "      <th>4</th>\n",
       "      <td>01005</td>\n",
       "      <td>6.0</td>\n",
       "      <td>26749</td>\n",
       "      <td>-0.025786</td>\n",
       "      <td>-0.033898</td>\n",
       "    </tr>\n",
       "    <tr>\n",
       "      <th>5</th>\n",
       "      <td>01007</td>\n",
       "      <td>1.0</td>\n",
       "      <td>22533</td>\n",
       "      <td>-0.016670</td>\n",
       "      <td>0.102094</td>\n",
       "    </tr>\n",
       "  </tbody>\n",
       "</table>\n",
       "</div>"
      ],
      "text/plain": [
       "    FIPS  urban_influence   pop_2014   pop_inc  foreign_inc\n",
       "0  00000              NaN  318622525  0.031991     0.289381\n",
       "1  01000              NaN    4840037  0.012616     0.232285\n",
       "2  01001              2.0      54864  0.005369     0.040956\n",
       "3  01003              2.0     199064  0.092168     0.030359\n",
       "4  01005              6.0      26749 -0.025786    -0.033898\n",
       "5  01007              1.0      22533 -0.016670     0.102094"
      ]
     },
     "execution_count": 166,
     "metadata": {},
     "output_type": "execute_result"
    }
   ],
   "source": [
    "add_pop.head(6)"
   ]
  },
  {
   "cell_type": "code",
   "execution_count": 167,
   "metadata": {
    "collapsed": true
   },
   "outputs": [],
   "source": [
    "data = data.set_index('FIPS').join(add_pop.set_index('FIPS'))"
   ]
  },
  {
   "cell_type": "code",
   "execution_count": 168,
   "metadata": {
    "collapsed": true
   },
   "outputs": [],
   "source": [
    "unemployment = pd.read_excel('data/Unemployment.xls', skiprows=range(7), usecols=['FIPStxt', 'Unemployment_rate_2014'],\n",
    "                            converters={'FIPStxt': str})\n",
    "unemployment.columns = ['FIPS', 'unemployment']\n",
    "unemployment = unemployment.set_index('FIPS')\n",
    "unemployment2 = pd.read_excel('data/CLF01.xls', sheetname='Sheet9', usecols=['STCOU', 'CLF040210D'], converters={'STCOU': str})\n",
    "unemployment2.columns = ['FIPS', 'unemployment_2009']\n",
    "unemployment = unemployment.join(unemployment2.set_index('FIPS'))\n",
    "unemployment['unemp_change'] = unemployment['unemployment'] - unemployment['unemployment_2009']\n",
    "data = data.join(unemployment.drop('unemployment_2009', axis=1))"
   ]
  },
  {
   "cell_type": "code",
   "execution_count": 169,
   "metadata": {
    "collapsed": true
   },
   "outputs": [],
   "source": [
    "poverty = pd.read_excel('data/Poverty.xls', skiprows=range(2), usecols = ['FIPStxt',\n",
    "                                                                         'PCTPOVALL_2014','MEDHHINC_2014'],\n",
    "                       converters={'FIPStxt': str})\n",
    "poverty.columns = ['FIPS', 'poverty', 'median_hh_inc'] # poverty rate and median household income\n",
    "poverty = poverty.set_index('FIPS')\n",
    "poverty2 = pd.read_excel('data/IPE01.xls', sheetname='Sheet5', usecols=['STCOU', 'IPE120209D'], converters={'STCOU': str})\n",
    "poverty2.columns = ['FIPS', 'poverty_2009']\n",
    "poverty = poverty.join(poverty2.set_index('FIPS'))\n",
    "poverty['pov_change'] = poverty['poverty'] - poverty['poverty_2009']\n",
    "data = data.join(poverty.drop('poverty_2009', axis=1))"
   ]
  },
  {
   "cell_type": "code",
   "execution_count": 170,
   "metadata": {
    "collapsed": true
   },
   "outputs": [],
   "source": [
    "age = pd.read_excel('data/AGE01.xls', sheetname='Sheet2', usecols=['STCOU', 'AGE050210D'], converters={'STCOU': str})\n",
    "age.columns = ['FIPS', 'median_age']\n",
    "data = data.join(age.set_index('FIPS'))"
   ]
  },
  {
   "cell_type": "code",
   "execution_count": 171,
   "metadata": {
    "collapsed": true
   },
   "outputs": [],
   "source": [
    "households1 = pd.read_excel('data/HSG02.xls', sheetname='HSG02D', usecols=['HSG200210D'])\n",
    "households2 = pd.read_excel('data/HSG02.xls', sheetname='HSG02E', usecols=['STCOU', 'HSG215210D', 'HSG220210D'],\n",
    "                          converters={'STCOU': str})\n",
    "households2.columns = ['FIPS', 'hh_afr_am', 'hh_hisp']"
   ]
  },
  {
   "cell_type": "markdown",
   "metadata": {},
   "source": [
    "Divide the numbers of households headed by African-Americans and Hispanics by the total number of households to get percentages."
   ]
  },
  {
   "cell_type": "code",
   "execution_count": 172,
   "metadata": {
    "collapsed": true
   },
   "outputs": [],
   "source": [
    "households2.loc[:, ['hh_afr_am', 'hh_hisp']] = households2[['hh_afr_am', 'hh_hisp']].div(households1['HSG200210D'], axis=0)\n",
    "data = data.join(households2.set_index('FIPS'))"
   ]
  },
  {
   "cell_type": "code",
   "execution_count": 173,
   "metadata": {
    "collapsed": true
   },
   "outputs": [],
   "source": [
    "hh_07 = pd.read_excel('data/HSD01.xls', sheetname='HSD01I', usecols=['HSD410209D'])"
   ]
  },
  {
   "cell_type": "code",
   "execution_count": 174,
   "metadata": {
    "collapsed": true
   },
   "outputs": [],
   "source": [
    "hh_female = pd.read_excel('data/HSD02.xls', sheetname='HSD02B', usecols=['STCOU', 'HSD570209D'],\n",
    "                          converters={'STCOU': str})"
   ]
  },
  {
   "cell_type": "code",
   "execution_count": 175,
   "metadata": {
    "collapsed": true
   },
   "outputs": [],
   "source": [
    "hh_female.columns = ['FIPS', 'hh_female']\n",
    "hh_female.loc[:, 'hh_female'] = hh_female['hh_female'] / hh_07['HSD410209D']"
   ]
  },
  {
   "cell_type": "code",
   "execution_count": 176,
   "metadata": {
    "collapsed": true
   },
   "outputs": [],
   "source": [
    "hh_food_st = pd.read_excel('data/INC01.xls', sheetname='INC01J', usecols=['STCOU', 'INC454209D'],\n",
    "                          converters={'STCOU': str})"
   ]
  },
  {
   "cell_type": "code",
   "execution_count": 177,
   "metadata": {
    "collapsed": true
   },
   "outputs": [],
   "source": [
    "hh_food_st.columns = ['FIPS', 'hh_food_st']\n",
    "hh_food_st.loc[:, 'hh_food_st'] = hh_food_st['hh_food_st'] / hh_07['HSD410209D']"
   ]
  },
  {
   "cell_type": "code",
   "execution_count": 178,
   "metadata": {
    "collapsed": true
   },
   "outputs": [],
   "source": [
    "data = data.join([hh_female.set_index('FIPS'), hh_food_st.set_index('FIPS')])"
   ]
  },
  {
   "cell_type": "code",
   "execution_count": 179,
   "metadata": {
    "collapsed": true
   },
   "outputs": [],
   "source": [
    "foreign_born = pd.read_excel('data/POP02.xls', sheetname='POP02J', usecols=['STCOU', 'POP645209D'],\n",
    "                            converters={'STCOU': str})\n",
    "foreign_born.columns = ['FIPS', 'foreign_07']"
   ]
  },
  {
   "cell_type": "code",
   "execution_count": 180,
   "metadata": {
    "collapsed": true
   },
   "outputs": [],
   "source": [
    "pop_07 = pd.read_excel('data/PST01.xls', sheetname='Sheet4', usecols=['PST045207D'])"
   ]
  },
  {
   "cell_type": "code",
   "execution_count": 181,
   "metadata": {
    "collapsed": true
   },
   "outputs": [],
   "source": [
    "vets = pd.read_excel('data/VET01.xls', sheetname='VET01C', usecols=['STCOU', 'VET605209D', 'VET610209D'],\n",
    "                    converters={'STCOU': str})\n",
    "vets.columns = ['FIPS', 'vets', 'vets_male']"
   ]
  },
  {
   "cell_type": "code",
   "execution_count": 182,
   "metadata": {
    "collapsed": true
   },
   "outputs": [],
   "source": [
    "vets.loc[:, 'vets'] = vets['vets'] / pop_07['PST045207D']"
   ]
  },
  {
   "cell_type": "code",
   "execution_count": 183,
   "metadata": {
    "collapsed": true
   },
   "outputs": [],
   "source": [
    "data = data.join([foreign_born.set_index('FIPS'), vets.set_index('FIPS')])"
   ]
  },
  {
   "cell_type": "code",
   "execution_count": 184,
   "metadata": {
    "collapsed": true
   },
   "outputs": [],
   "source": [
    "crimes = pd.read_csv('data/Crime.tsv', sep='\\t', usecols=['FIPS_ST', 'FIPS_CTY', 'VIOL', 'PROPERTY'],\n",
    "                    converters={'FIPS_ST': str, 'FIPS_CTY': str, 'VIOL': float, 'PROPERTY': float}, engine='python')"
   ]
  },
  {
   "cell_type": "code",
   "execution_count": 185,
   "metadata": {},
   "outputs": [
    {
     "data": {
      "text/html": [
       "<div>\n",
       "<style>\n",
       "    .dataframe thead tr:only-child th {\n",
       "        text-align: right;\n",
       "    }\n",
       "\n",
       "    .dataframe thead th {\n",
       "        text-align: left;\n",
       "    }\n",
       "\n",
       "    .dataframe tbody tr th {\n",
       "        vertical-align: top;\n",
       "    }\n",
       "</style>\n",
       "<table border=\"1\" class=\"dataframe\">\n",
       "  <thead>\n",
       "    <tr style=\"text-align: right;\">\n",
       "      <th></th>\n",
       "      <th>FIPS_ST</th>\n",
       "      <th>FIPS_CTY</th>\n",
       "      <th>viol_crime</th>\n",
       "      <th>prop_crime</th>\n",
       "    </tr>\n",
       "  </thead>\n",
       "  <tbody>\n",
       "    <tr>\n",
       "      <th>0</th>\n",
       "      <td>1</td>\n",
       "      <td>1</td>\n",
       "      <td>144.0</td>\n",
       "      <td>1625.0</td>\n",
       "    </tr>\n",
       "    <tr>\n",
       "      <th>1</th>\n",
       "      <td>1</td>\n",
       "      <td>3</td>\n",
       "      <td>373.0</td>\n",
       "      <td>4060.0</td>\n",
       "    </tr>\n",
       "    <tr>\n",
       "      <th>2</th>\n",
       "      <td>1</td>\n",
       "      <td>5</td>\n",
       "      <td>97.0</td>\n",
       "      <td>660.0</td>\n",
       "    </tr>\n",
       "    <tr>\n",
       "      <th>3</th>\n",
       "      <td>1</td>\n",
       "      <td>7</td>\n",
       "      <td>23.0</td>\n",
       "      <td>227.0</td>\n",
       "    </tr>\n",
       "    <tr>\n",
       "      <th>4</th>\n",
       "      <td>1</td>\n",
       "      <td>9</td>\n",
       "      <td>125.0</td>\n",
       "      <td>1270.0</td>\n",
       "    </tr>\n",
       "  </tbody>\n",
       "</table>\n",
       "</div>"
      ],
      "text/plain": [
       "  FIPS_ST FIPS_CTY  viol_crime  prop_crime\n",
       "0       1        1       144.0      1625.0\n",
       "1       1        3       373.0      4060.0\n",
       "2       1        5        97.0       660.0\n",
       "3       1        7        23.0       227.0\n",
       "4       1        9       125.0      1270.0"
      ]
     },
     "execution_count": 185,
     "metadata": {},
     "output_type": "execute_result"
    }
   ],
   "source": [
    "crimes.columns = ['FIPS_ST', 'FIPS_CTY', 'viol_crime', 'prop_crime']\n",
    "crimes.head()"
   ]
  },
  {
   "cell_type": "code",
   "execution_count": 186,
   "metadata": {
    "collapsed": true
   },
   "outputs": [],
   "source": [
    "crimes['FIPS_ST'] = crimes['FIPS_ST'].apply(lambda x: '0' * (2 - len(x)) + x)"
   ]
  },
  {
   "cell_type": "code",
   "execution_count": 187,
   "metadata": {
    "collapsed": true
   },
   "outputs": [],
   "source": [
    "crimes['FIPS_CTY'] = crimes['FIPS_CTY'].apply(lambda x: '0' * (3 - len(x)) + x)"
   ]
  },
  {
   "cell_type": "code",
   "execution_count": 188,
   "metadata": {
    "collapsed": true
   },
   "outputs": [],
   "source": [
    "crimes['FIPS'] = crimes['FIPS_ST'] + crimes['FIPS_CTY']"
   ]
  },
  {
   "cell_type": "code",
   "execution_count": 189,
   "metadata": {
    "collapsed": true
   },
   "outputs": [],
   "source": [
    "data = data.join(crimes.drop(['FIPS_ST', 'FIPS_CTY'], axis=1).set_index('FIPS'))"
   ]
  },
  {
   "cell_type": "code",
   "execution_count": 190,
   "metadata": {
    "collapsed": true
   },
   "outputs": [],
   "source": [
    "data.loc[:, ['viol_crime', 'prop_crime']] = data[['viol_crime', 'prop_crime']].div(data['pop_2014'], axis=0)"
   ]
  },
  {
   "cell_type": "code",
   "execution_count": 191,
   "metadata": {},
   "outputs": [
    {
     "data": {
      "text/plain": [
       "state               0\n",
       "name                0\n",
       "< diploma          10\n",
       "degree+            10\n",
       "urban_influence    10\n",
       "pop_2014           10\n",
       "pop_inc            10\n",
       "foreign_inc        13\n",
       "unemployment       11\n",
       "unemp_change       13\n",
       "poverty            13\n",
       "median_hh_inc      13\n",
       "pov_change         13\n",
       "median_age          9\n",
       "hh_afr_am          11\n",
       "hh_hisp            11\n",
       "hh_female          11\n",
       "hh_food_st         11\n",
       "foreign_07          9\n",
       "vets               11\n",
       "vets_male           9\n",
       "viol_crime         18\n",
       "prop_crime         18\n",
       "dtype: int64"
      ]
     },
     "execution_count": 191,
     "metadata": {},
     "output_type": "execute_result"
    }
   ],
   "source": [
    "data.isnull().sum()"
   ]
  },
  {
   "cell_type": "code",
   "execution_count": 192,
   "metadata": {},
   "outputs": [
    {
     "data": {
      "text/plain": [
       "3130"
      ]
     },
     "execution_count": 192,
     "metadata": {},
     "output_type": "execute_result"
    }
   ],
   "source": [
    "len(data.dropna())"
   ]
  },
  {
   "cell_type": "code",
   "execution_count": 193,
   "metadata": {},
   "outputs": [
    {
     "data": {
      "text/plain": [
       "3152"
      ]
     },
     "execution_count": 193,
     "metadata": {},
     "output_type": "execute_result"
    }
   ],
   "source": [
    "len(data)"
   ]
  },
  {
   "cell_type": "markdown",
   "metadata": {},
   "source": [
    "Many of the missing values occur in records missing multiple values, and dropping all of them would only reduce the number of records from 3,152 to 3,130, so drop them."
   ]
  },
  {
   "cell_type": "code",
   "execution_count": 194,
   "metadata": {
    "collapsed": true
   },
   "outputs": [],
   "source": [
    "data = data.dropna()"
   ]
  },
  {
   "cell_type": "code",
   "execution_count": 195,
   "metadata": {},
   "outputs": [
    {
     "data": {
      "text/plain": [
       "state                0\n",
       "name                 0\n",
       "< diploma            0\n",
       "degree+              0\n",
       "urban_influence      0\n",
       "pop_2014             0\n",
       "pop_inc              0\n",
       "foreign_inc        156\n",
       "unemployment         0\n",
       "unemp_change        11\n",
       "poverty              0\n",
       "median_hh_inc        0\n",
       "pov_change          61\n",
       "median_age           0\n",
       "hh_afr_am           85\n",
       "hh_hisp              4\n",
       "hh_female            2\n",
       "hh_food_st           3\n",
       "foreign_07          33\n",
       "vets                 0\n",
       "vets_male            0\n",
       "viol_crime         163\n",
       "prop_crime         100\n",
       "dtype: int64"
      ]
     },
     "execution_count": 195,
     "metadata": {},
     "output_type": "execute_result"
    }
   ],
   "source": [
    "(data == 0).sum()"
   ]
  },
  {
   "cell_type": "markdown",
   "metadata": {},
   "source": [
    "It is reasonable that these values could be zero, so proceed."
   ]
  },
  {
   "cell_type": "code",
   "execution_count": 196,
   "metadata": {},
   "outputs": [
    {
     "data": {
      "text/html": [
       "<div>\n",
       "<style>\n",
       "    .dataframe thead tr:only-child th {\n",
       "        text-align: right;\n",
       "    }\n",
       "\n",
       "    .dataframe thead th {\n",
       "        text-align: left;\n",
       "    }\n",
       "\n",
       "    .dataframe tbody tr th {\n",
       "        vertical-align: top;\n",
       "    }\n",
       "</style>\n",
       "<table border=\"1\" class=\"dataframe\">\n",
       "  <thead>\n",
       "    <tr style=\"text-align: right;\">\n",
       "      <th></th>\n",
       "      <th>&lt; diploma</th>\n",
       "      <th>degree+</th>\n",
       "      <th>urban_influence</th>\n",
       "      <th>pop_2014</th>\n",
       "      <th>pop_inc</th>\n",
       "      <th>foreign_inc</th>\n",
       "      <th>unemployment</th>\n",
       "      <th>unemp_change</th>\n",
       "      <th>poverty</th>\n",
       "      <th>median_hh_inc</th>\n",
       "      <th>...</th>\n",
       "      <th>median_age</th>\n",
       "      <th>hh_afr_am</th>\n",
       "      <th>hh_hisp</th>\n",
       "      <th>hh_female</th>\n",
       "      <th>hh_food_st</th>\n",
       "      <th>foreign_07</th>\n",
       "      <th>vets</th>\n",
       "      <th>vets_male</th>\n",
       "      <th>viol_crime</th>\n",
       "      <th>prop_crime</th>\n",
       "    </tr>\n",
       "  </thead>\n",
       "  <tbody>\n",
       "    <tr>\n",
       "      <th>count</th>\n",
       "      <td>3130.000000</td>\n",
       "      <td>3130.000000</td>\n",
       "      <td>3130.000000</td>\n",
       "      <td>3.130000e+03</td>\n",
       "      <td>3130.000000</td>\n",
       "      <td>3130.000000</td>\n",
       "      <td>3130.000000</td>\n",
       "      <td>3130.000000</td>\n",
       "      <td>3130.000000</td>\n",
       "      <td>3130.000000</td>\n",
       "      <td>...</td>\n",
       "      <td>3130.000000</td>\n",
       "      <td>3130.000000</td>\n",
       "      <td>3130.000000</td>\n",
       "      <td>3130.000000</td>\n",
       "      <td>3130.000000</td>\n",
       "      <td>3130.000000</td>\n",
       "      <td>3130.000000</td>\n",
       "      <td>3130.000000</td>\n",
       "      <td>3130.000000</td>\n",
       "      <td>3130.000000</td>\n",
       "    </tr>\n",
       "    <tr>\n",
       "      <th>mean</th>\n",
       "      <td>14.203396</td>\n",
       "      <td>20.789275</td>\n",
       "      <td>5.252716</td>\n",
       "      <td>1.017577e+05</td>\n",
       "      <td>0.002831</td>\n",
       "      <td>0.395946</td>\n",
       "      <td>6.235559</td>\n",
       "      <td>-2.946709</td>\n",
       "      <td>16.837380</td>\n",
       "      <td>47121.392971</td>\n",
       "      <td>...</td>\n",
       "      <td>40.336102</td>\n",
       "      <td>0.081055</td>\n",
       "      <td>0.060388</td>\n",
       "      <td>0.110043</td>\n",
       "      <td>0.104072</td>\n",
       "      <td>4.242971</td>\n",
       "      <td>0.088570</td>\n",
       "      <td>94.202109</td>\n",
       "      <td>0.002291</td>\n",
       "      <td>0.018038</td>\n",
       "    </tr>\n",
       "    <tr>\n",
       "      <th>std</th>\n",
       "      <td>6.539295</td>\n",
       "      <td>9.143450</td>\n",
       "      <td>3.492818</td>\n",
       "      <td>3.263767e+05</td>\n",
       "      <td>0.041968</td>\n",
       "      <td>3.043823</td>\n",
       "      <td>2.256287</td>\n",
       "      <td>1.807379</td>\n",
       "      <td>6.422444</td>\n",
       "      <td>12099.573945</td>\n",
       "      <td>...</td>\n",
       "      <td>5.033958</td>\n",
       "      <td>0.138236</td>\n",
       "      <td>0.114099</td>\n",
       "      <td>0.043623</td>\n",
       "      <td>0.058290</td>\n",
       "      <td>5.475315</td>\n",
       "      <td>0.022732</td>\n",
       "      <td>3.143674</td>\n",
       "      <td>0.001968</td>\n",
       "      <td>0.011847</td>\n",
       "    </tr>\n",
       "    <tr>\n",
       "      <th>min</th>\n",
       "      <td>1.279000</td>\n",
       "      <td>2.985000</td>\n",
       "      <td>1.000000</td>\n",
       "      <td>8.900000e+01</td>\n",
       "      <td>-0.177510</td>\n",
       "      <td>-6.333333</td>\n",
       "      <td>1.200000</td>\n",
       "      <td>-13.600000</td>\n",
       "      <td>3.200000</td>\n",
       "      <td>21658.000000</td>\n",
       "      <td>...</td>\n",
       "      <td>22.400000</td>\n",
       "      <td>0.000000</td>\n",
       "      <td>0.000000</td>\n",
       "      <td>0.000000</td>\n",
       "      <td>0.000000</td>\n",
       "      <td>0.000000</td>\n",
       "      <td>0.019065</td>\n",
       "      <td>65.000000</td>\n",
       "      <td>0.000000</td>\n",
       "      <td>0.000000</td>\n",
       "    </tr>\n",
       "    <tr>\n",
       "      <th>25%</th>\n",
       "      <td>9.282750</td>\n",
       "      <td>14.427500</td>\n",
       "      <td>2.000000</td>\n",
       "      <td>1.102950e+04</td>\n",
       "      <td>-0.021689</td>\n",
       "      <td>0.007641</td>\n",
       "      <td>4.600000</td>\n",
       "      <td>-4.000000</td>\n",
       "      <td>12.100000</td>\n",
       "      <td>38889.000000</td>\n",
       "      <td>...</td>\n",
       "      <td>37.400000</td>\n",
       "      <td>0.002661</td>\n",
       "      <td>0.009502</td>\n",
       "      <td>0.082411</td>\n",
       "      <td>0.062540</td>\n",
       "      <td>1.100000</td>\n",
       "      <td>0.074039</td>\n",
       "      <td>92.900000</td>\n",
       "      <td>0.000981</td>\n",
       "      <td>0.009866</td>\n",
       "    </tr>\n",
       "    <tr>\n",
       "      <th>50%</th>\n",
       "      <td>12.765500</td>\n",
       "      <td>18.528000</td>\n",
       "      <td>5.000000</td>\n",
       "      <td>2.574250e+04</td>\n",
       "      <td>-0.004227</td>\n",
       "      <td>0.057769</td>\n",
       "      <td>6.000000</td>\n",
       "      <td>-2.800000</td>\n",
       "      <td>15.800000</td>\n",
       "      <td>45227.500000</td>\n",
       "      <td>...</td>\n",
       "      <td>40.300000</td>\n",
       "      <td>0.013111</td>\n",
       "      <td>0.019849</td>\n",
       "      <td>0.103899</td>\n",
       "      <td>0.093112</td>\n",
       "      <td>2.300000</td>\n",
       "      <td>0.087159</td>\n",
       "      <td>94.600000</td>\n",
       "      <td>0.001823</td>\n",
       "      <td>0.016319</td>\n",
       "    </tr>\n",
       "    <tr>\n",
       "      <th>75%</th>\n",
       "      <td>18.292750</td>\n",
       "      <td>24.703750</td>\n",
       "      <td>8.000000</td>\n",
       "      <td>6.785250e+04</td>\n",
       "      <td>0.020261</td>\n",
       "      <td>0.200482</td>\n",
       "      <td>7.500000</td>\n",
       "      <td>-1.700000</td>\n",
       "      <td>20.400000</td>\n",
       "      <td>52529.750000</td>\n",
       "      <td>...</td>\n",
       "      <td>43.300000</td>\n",
       "      <td>0.093166</td>\n",
       "      <td>0.053750</td>\n",
       "      <td>0.128855</td>\n",
       "      <td>0.134389</td>\n",
       "      <td>5.100000</td>\n",
       "      <td>0.100460</td>\n",
       "      <td>96.100000</td>\n",
       "      <td>0.003095</td>\n",
       "      <td>0.024298</td>\n",
       "    </tr>\n",
       "    <tr>\n",
       "      <th>max</th>\n",
       "      <td>51.479000</td>\n",
       "      <td>80.210000</td>\n",
       "      <td>12.000000</td>\n",
       "      <td>1.007270e+07</td>\n",
       "      <td>0.727044</td>\n",
       "      <td>119.000000</td>\n",
       "      <td>24.000000</td>\n",
       "      <td>8.200000</td>\n",
       "      <td>47.400000</td>\n",
       "      <td>125635.000000</td>\n",
       "      <td>...</td>\n",
       "      <td>62.700000</td>\n",
       "      <td>0.832707</td>\n",
       "      <td>0.955767</td>\n",
       "      <td>0.450570</td>\n",
       "      <td>0.400252</td>\n",
       "      <td>63.100000</td>\n",
       "      <td>0.297533</td>\n",
       "      <td>100.000000</td>\n",
       "      <td>0.025476</td>\n",
       "      <td>0.138286</td>\n",
       "    </tr>\n",
       "  </tbody>\n",
       "</table>\n",
       "<p>8 rows × 21 columns</p>\n",
       "</div>"
      ],
      "text/plain": [
       "         < diploma      degree+  urban_influence      pop_2014      pop_inc  \\\n",
       "count  3130.000000  3130.000000      3130.000000  3.130000e+03  3130.000000   \n",
       "mean     14.203396    20.789275         5.252716  1.017577e+05     0.002831   \n",
       "std       6.539295     9.143450         3.492818  3.263767e+05     0.041968   \n",
       "min       1.279000     2.985000         1.000000  8.900000e+01    -0.177510   \n",
       "25%       9.282750    14.427500         2.000000  1.102950e+04    -0.021689   \n",
       "50%      12.765500    18.528000         5.000000  2.574250e+04    -0.004227   \n",
       "75%      18.292750    24.703750         8.000000  6.785250e+04     0.020261   \n",
       "max      51.479000    80.210000        12.000000  1.007270e+07     0.727044   \n",
       "\n",
       "       foreign_inc  unemployment  unemp_change      poverty  median_hh_inc  \\\n",
       "count  3130.000000   3130.000000   3130.000000  3130.000000    3130.000000   \n",
       "mean      0.395946      6.235559     -2.946709    16.837380   47121.392971   \n",
       "std       3.043823      2.256287      1.807379     6.422444   12099.573945   \n",
       "min      -6.333333      1.200000    -13.600000     3.200000   21658.000000   \n",
       "25%       0.007641      4.600000     -4.000000    12.100000   38889.000000   \n",
       "50%       0.057769      6.000000     -2.800000    15.800000   45227.500000   \n",
       "75%       0.200482      7.500000     -1.700000    20.400000   52529.750000   \n",
       "max     119.000000     24.000000      8.200000    47.400000  125635.000000   \n",
       "\n",
       "          ...        median_age    hh_afr_am      hh_hisp    hh_female  \\\n",
       "count     ...       3130.000000  3130.000000  3130.000000  3130.000000   \n",
       "mean      ...         40.336102     0.081055     0.060388     0.110043   \n",
       "std       ...          5.033958     0.138236     0.114099     0.043623   \n",
       "min       ...         22.400000     0.000000     0.000000     0.000000   \n",
       "25%       ...         37.400000     0.002661     0.009502     0.082411   \n",
       "50%       ...         40.300000     0.013111     0.019849     0.103899   \n",
       "75%       ...         43.300000     0.093166     0.053750     0.128855   \n",
       "max       ...         62.700000     0.832707     0.955767     0.450570   \n",
       "\n",
       "        hh_food_st   foreign_07         vets    vets_male   viol_crime  \\\n",
       "count  3130.000000  3130.000000  3130.000000  3130.000000  3130.000000   \n",
       "mean      0.104072     4.242971     0.088570    94.202109     0.002291   \n",
       "std       0.058290     5.475315     0.022732     3.143674     0.001968   \n",
       "min       0.000000     0.000000     0.019065    65.000000     0.000000   \n",
       "25%       0.062540     1.100000     0.074039    92.900000     0.000981   \n",
       "50%       0.093112     2.300000     0.087159    94.600000     0.001823   \n",
       "75%       0.134389     5.100000     0.100460    96.100000     0.003095   \n",
       "max       0.400252    63.100000     0.297533   100.000000     0.025476   \n",
       "\n",
       "        prop_crime  \n",
       "count  3130.000000  \n",
       "mean      0.018038  \n",
       "std       0.011847  \n",
       "min       0.000000  \n",
       "25%       0.009866  \n",
       "50%       0.016319  \n",
       "75%       0.024298  \n",
       "max       0.138286  \n",
       "\n",
       "[8 rows x 21 columns]"
      ]
     },
     "execution_count": 196,
     "metadata": {},
     "output_type": "execute_result"
    }
   ],
   "source": [
    "data.describe()"
   ]
  },
  {
   "cell_type": "code",
   "execution_count": 197,
   "metadata": {
    "collapsed": true
   },
   "outputs": [],
   "source": [
    "deaths = pd.read_csv('data/Drug_deaths.csv', usecols=['FIPS', 'Year', 'Estimated Age-adjusted Death Rate, 16 Categories (in ranges)'],\n",
    "                    converters={'FIPS': str})"
   ]
  },
  {
   "cell_type": "code",
   "execution_count": 198,
   "metadata": {},
   "outputs": [
    {
     "data": {
      "text/plain": [
       "FIPS                                                            0\n",
       "Year                                                            0\n",
       "Estimated Age-adjusted Death Rate, 16 Categories (in ranges)    0\n",
       "dtype: int64"
      ]
     },
     "execution_count": 198,
     "metadata": {},
     "output_type": "execute_result"
    }
   ],
   "source": [
    "deaths.isnull().sum()"
   ]
  },
  {
   "cell_type": "code",
   "execution_count": 199,
   "metadata": {
    "collapsed": true
   },
   "outputs": [],
   "source": [
    "targets = deaths[deaths['Year'] == 2014]\n",
    "targets = targets.drop('Year', axis=1)\n",
    "targets.columns = ['FIPS', 'death_rate']\n",
    "targets.loc[:, 'FIPS'] = targets['FIPS'].apply(lambda x: '0' + x if len(x) == 4 else x)"
   ]
  },
  {
   "cell_type": "code",
   "execution_count": 200,
   "metadata": {},
   "outputs": [
    {
     "data": {
      "text/plain": [
       "FIPS          0\n",
       "death_rate    0\n",
       "dtype: int64"
      ]
     },
     "execution_count": 200,
     "metadata": {},
     "output_type": "execute_result"
    }
   ],
   "source": [
    "targets.isnull().sum()"
   ]
  },
  {
   "cell_type": "code",
   "execution_count": 201,
   "metadata": {
    "collapsed": true
   },
   "outputs": [],
   "source": [
    "import re\n",
    "def get_num(string):\n",
    "    match = re.search('\\d+', string)\n",
    "    return int(match.group()) + 1"
   ]
  },
  {
   "cell_type": "code",
   "execution_count": 202,
   "metadata": {
    "collapsed": true
   },
   "outputs": [],
   "source": [
    "targets['numeric'] = targets['death_rate'].apply(lambda x: get_num(x) if x != '<2' else 1)"
   ]
  },
  {
   "cell_type": "code",
   "execution_count": 203,
   "metadata": {
    "collapsed": true
   },
   "outputs": [],
   "source": [
    "data = data.join(targets.set_index('FIPS')) # drop na"
   ]
  },
  {
   "cell_type": "code",
   "execution_count": 204,
   "metadata": {},
   "outputs": [
    {
     "data": {
      "text/plain": [
       "state              0\n",
       "name               0\n",
       "< diploma          0\n",
       "degree+            0\n",
       "urban_influence    0\n",
       "pop_2014           0\n",
       "pop_inc            0\n",
       "foreign_inc        0\n",
       "unemployment       0\n",
       "unemp_change       0\n",
       "poverty            0\n",
       "median_hh_inc      0\n",
       "pov_change         0\n",
       "median_age         0\n",
       "hh_afr_am          0\n",
       "hh_hisp            0\n",
       "hh_female          0\n",
       "hh_food_st         0\n",
       "foreign_07         0\n",
       "vets               0\n",
       "vets_male          0\n",
       "viol_crime         0\n",
       "prop_crime         0\n",
       "death_rate         4\n",
       "numeric            4\n",
       "dtype: int64"
      ]
     },
     "execution_count": 204,
     "metadata": {},
     "output_type": "execute_result"
    }
   ],
   "source": [
    "data.isnull().sum()"
   ]
  },
  {
   "cell_type": "code",
   "execution_count": 205,
   "metadata": {},
   "outputs": [
    {
     "data": {
      "text/html": [
       "<div>\n",
       "<style>\n",
       "    .dataframe thead tr:only-child th {\n",
       "        text-align: right;\n",
       "    }\n",
       "\n",
       "    .dataframe thead th {\n",
       "        text-align: left;\n",
       "    }\n",
       "\n",
       "    .dataframe tbody tr th {\n",
       "        vertical-align: top;\n",
       "    }\n",
       "</style>\n",
       "<table border=\"1\" class=\"dataframe\">\n",
       "  <thead>\n",
       "    <tr style=\"text-align: right;\">\n",
       "      <th></th>\n",
       "      <th>state</th>\n",
       "      <th>name</th>\n",
       "      <th>&lt; diploma</th>\n",
       "      <th>degree+</th>\n",
       "      <th>urban_influence</th>\n",
       "      <th>pop_2014</th>\n",
       "      <th>pop_inc</th>\n",
       "      <th>foreign_inc</th>\n",
       "      <th>unemployment</th>\n",
       "      <th>unemp_change</th>\n",
       "      <th>...</th>\n",
       "      <th>hh_hisp</th>\n",
       "      <th>hh_female</th>\n",
       "      <th>hh_food_st</th>\n",
       "      <th>foreign_07</th>\n",
       "      <th>vets</th>\n",
       "      <th>vets_male</th>\n",
       "      <th>viol_crime</th>\n",
       "      <th>prop_crime</th>\n",
       "      <th>death_rate</th>\n",
       "      <th>numeric</th>\n",
       "    </tr>\n",
       "    <tr>\n",
       "      <th>FIPS</th>\n",
       "      <th></th>\n",
       "      <th></th>\n",
       "      <th></th>\n",
       "      <th></th>\n",
       "      <th></th>\n",
       "      <th></th>\n",
       "      <th></th>\n",
       "      <th></th>\n",
       "      <th></th>\n",
       "      <th></th>\n",
       "      <th></th>\n",
       "      <th></th>\n",
       "      <th></th>\n",
       "      <th></th>\n",
       "      <th></th>\n",
       "      <th></th>\n",
       "      <th></th>\n",
       "      <th></th>\n",
       "      <th></th>\n",
       "      <th></th>\n",
       "      <th></th>\n",
       "    </tr>\n",
       "  </thead>\n",
       "  <tbody>\n",
       "    <tr>\n",
       "      <th>08001</th>\n",
       "      <td>CO</td>\n",
       "      <td>Adams County</td>\n",
       "      <td>17.839</td>\n",
       "      <td>22.368</td>\n",
       "      <td>1.0</td>\n",
       "      <td>479488.0</td>\n",
       "      <td>0.085790</td>\n",
       "      <td>0.054824</td>\n",
       "      <td>5.7</td>\n",
       "      <td>-4.5</td>\n",
       "      <td>...</td>\n",
       "      <td>0.289450</td>\n",
       "      <td>0.114910</td>\n",
       "      <td>0.055541</td>\n",
       "      <td>15.3</td>\n",
       "      <td>0.071674</td>\n",
       "      <td>92.5</td>\n",
       "      <td>0.003418</td>\n",
       "      <td>0.028810</td>\n",
       "      <td>NaN</td>\n",
       "      <td>NaN</td>\n",
       "    </tr>\n",
       "    <tr>\n",
       "      <th>08014</th>\n",
       "      <td>CO</td>\n",
       "      <td>Broomfield County</td>\n",
       "      <td>3.948</td>\n",
       "      <td>52.457</td>\n",
       "      <td>1.0</td>\n",
       "      <td>61706.0</td>\n",
       "      <td>0.104081</td>\n",
       "      <td>0.045556</td>\n",
       "      <td>4.2</td>\n",
       "      <td>-3.7</td>\n",
       "      <td>...</td>\n",
       "      <td>0.080415</td>\n",
       "      <td>0.089699</td>\n",
       "      <td>0.027461</td>\n",
       "      <td>7.5</td>\n",
       "      <td>0.077482</td>\n",
       "      <td>93.9</td>\n",
       "      <td>0.000502</td>\n",
       "      <td>0.016854</td>\n",
       "      <td>NaN</td>\n",
       "      <td>NaN</td>\n",
       "    </tr>\n",
       "    <tr>\n",
       "      <th>08059</th>\n",
       "      <td>CO</td>\n",
       "      <td>Jefferson County</td>\n",
       "      <td>5.848</td>\n",
       "      <td>42.220</td>\n",
       "      <td>1.0</td>\n",
       "      <td>558519.0</td>\n",
       "      <td>0.044853</td>\n",
       "      <td>0.059893</td>\n",
       "      <td>4.6</td>\n",
       "      <td>-4.0</td>\n",
       "      <td>...</td>\n",
       "      <td>0.105262</td>\n",
       "      <td>0.096715</td>\n",
       "      <td>0.033976</td>\n",
       "      <td>6.4</td>\n",
       "      <td>0.088829</td>\n",
       "      <td>93.4</td>\n",
       "      <td>0.002333</td>\n",
       "      <td>0.027371</td>\n",
       "      <td>NaN</td>\n",
       "      <td>NaN</td>\n",
       "    </tr>\n",
       "    <tr>\n",
       "      <th>08123</th>\n",
       "      <td>CO</td>\n",
       "      <td>Weld County</td>\n",
       "      <td>12.995</td>\n",
       "      <td>26.762</td>\n",
       "      <td>2.0</td>\n",
       "      <td>275584.0</td>\n",
       "      <td>0.090019</td>\n",
       "      <td>0.018015</td>\n",
       "      <td>4.5</td>\n",
       "      <td>-5.7</td>\n",
       "      <td>...</td>\n",
       "      <td>0.212258</td>\n",
       "      <td>0.092415</td>\n",
       "      <td>0.048219</td>\n",
       "      <td>9.3</td>\n",
       "      <td>0.067942</td>\n",
       "      <td>94.2</td>\n",
       "      <td>0.002885</td>\n",
       "      <td>0.020204</td>\n",
       "      <td>NaN</td>\n",
       "      <td>NaN</td>\n",
       "    </tr>\n",
       "  </tbody>\n",
       "</table>\n",
       "<p>4 rows × 25 columns</p>\n",
       "</div>"
      ],
      "text/plain": [
       "      state               name  < diploma  degree+  urban_influence  pop_2014  \\\n",
       "FIPS                                                                            \n",
       "08001    CO       Adams County     17.839   22.368              1.0  479488.0   \n",
       "08014    CO  Broomfield County      3.948   52.457              1.0   61706.0   \n",
       "08059    CO   Jefferson County      5.848   42.220              1.0  558519.0   \n",
       "08123    CO        Weld County     12.995   26.762              2.0  275584.0   \n",
       "\n",
       "        pop_inc  foreign_inc  unemployment  unemp_change   ...      hh_hisp  \\\n",
       "FIPS                                                       ...                \n",
       "08001  0.085790     0.054824           5.7          -4.5   ...     0.289450   \n",
       "08014  0.104081     0.045556           4.2          -3.7   ...     0.080415   \n",
       "08059  0.044853     0.059893           4.6          -4.0   ...     0.105262   \n",
       "08123  0.090019     0.018015           4.5          -5.7   ...     0.212258   \n",
       "\n",
       "       hh_female  hh_food_st  foreign_07      vets  vets_male  viol_crime  \\\n",
       "FIPS                                                                        \n",
       "08001   0.114910    0.055541        15.3  0.071674       92.5    0.003418   \n",
       "08014   0.089699    0.027461         7.5  0.077482       93.9    0.000502   \n",
       "08059   0.096715    0.033976         6.4  0.088829       93.4    0.002333   \n",
       "08123   0.092415    0.048219         9.3  0.067942       94.2    0.002885   \n",
       "\n",
       "       prop_crime  death_rate  numeric  \n",
       "FIPS                                    \n",
       "08001    0.028810         NaN      NaN  \n",
       "08014    0.016854         NaN      NaN  \n",
       "08059    0.027371         NaN      NaN  \n",
       "08123    0.020204         NaN      NaN  \n",
       "\n",
       "[4 rows x 25 columns]"
      ]
     },
     "execution_count": 205,
     "metadata": {},
     "output_type": "execute_result"
    }
   ],
   "source": [
    "data[data['death_rate'].isnull()]"
   ]
  },
  {
   "cell_type": "markdown",
   "metadata": {},
   "source": [
    "These four counties had boundaries redrawn after 2000, and do not appear in the opioid deaths dataset, so they will be removed."
   ]
  },
  {
   "cell_type": "code",
   "execution_count": 206,
   "metadata": {
    "collapsed": true
   },
   "outputs": [],
   "source": [
    "data = data.drop(['08001', '08014', '08059', '08123'])"
   ]
  },
  {
   "cell_type": "code",
   "execution_count": 207,
   "metadata": {},
   "outputs": [
    {
     "data": {
      "text/plain": [
       "count    3136.000000\n",
       "mean       14.180485\n",
       "std         6.583190\n",
       "min         1.000000\n",
       "25%         9.000000\n",
       "50%        13.000000\n",
       "75%        17.000000\n",
       "max        31.000000\n",
       "Name: numeric, dtype: float64"
      ]
     },
     "execution_count": 207,
     "metadata": {},
     "output_type": "execute_result"
    }
   ],
   "source": [
    "targets['numeric'].describe()"
   ]
  },
  {
   "cell_type": "markdown",
   "metadata": {},
   "source": [
    "The maximum value of 31 fits the standard definition of an outlier as less than Q1 - 1.5\\*IQR or greater than Q3 + 1.5\\*IQR. Here that applies only to values >29. Where are these outliers?"
   ]
  },
  {
   "cell_type": "code",
   "execution_count": 208,
   "metadata": {},
   "outputs": [
    {
     "name": "stdout",
     "output_type": "stream",
     "text": [
      "102\n"
     ]
    },
    {
     "data": {
      "text/html": [
       "<div>\n",
       "<style>\n",
       "    .dataframe thead tr:only-child th {\n",
       "        text-align: right;\n",
       "    }\n",
       "\n",
       "    .dataframe thead th {\n",
       "        text-align: left;\n",
       "    }\n",
       "\n",
       "    .dataframe tbody tr th {\n",
       "        vertical-align: top;\n",
       "    }\n",
       "</style>\n",
       "<table border=\"1\" class=\"dataframe\">\n",
       "  <thead>\n",
       "    <tr style=\"text-align: right;\">\n",
       "      <th></th>\n",
       "      <th>state</th>\n",
       "      <th>name</th>\n",
       "    </tr>\n",
       "    <tr>\n",
       "      <th>FIPS</th>\n",
       "      <th></th>\n",
       "      <th></th>\n",
       "    </tr>\n",
       "  </thead>\n",
       "  <tbody>\n",
       "    <tr>\n",
       "      <th>04012</th>\n",
       "      <td>AZ</td>\n",
       "      <td>La Paz County</td>\n",
       "    </tr>\n",
       "    <tr>\n",
       "      <th>06023</th>\n",
       "      <td>CA</td>\n",
       "      <td>Humboldt County</td>\n",
       "    </tr>\n",
       "    <tr>\n",
       "      <th>06033</th>\n",
       "      <td>CA</td>\n",
       "      <td>Lake County</td>\n",
       "    </tr>\n",
       "    <tr>\n",
       "      <th>06089</th>\n",
       "      <td>CA</td>\n",
       "      <td>Shasta County</td>\n",
       "    </tr>\n",
       "    <tr>\n",
       "      <th>08023</th>\n",
       "      <td>CO</td>\n",
       "      <td>Costilla County</td>\n",
       "    </tr>\n",
       "    <tr>\n",
       "      <th>08055</th>\n",
       "      <td>CO</td>\n",
       "      <td>Huerfano County</td>\n",
       "    </tr>\n",
       "    <tr>\n",
       "      <th>12017</th>\n",
       "      <td>FL</td>\n",
       "      <td>Citrus County</td>\n",
       "    </tr>\n",
       "    <tr>\n",
       "      <th>12101</th>\n",
       "      <td>FL</td>\n",
       "      <td>Pasco County</td>\n",
       "    </tr>\n",
       "    <tr>\n",
       "      <th>16007</th>\n",
       "      <td>ID</td>\n",
       "      <td>Bear Lake County</td>\n",
       "    </tr>\n",
       "    <tr>\n",
       "      <th>18143</th>\n",
       "      <td>IN</td>\n",
       "      <td>Scott County</td>\n",
       "    </tr>\n",
       "    <tr>\n",
       "      <th>18149</th>\n",
       "      <td>IN</td>\n",
       "      <td>Starke County</td>\n",
       "    </tr>\n",
       "    <tr>\n",
       "      <th>20207</th>\n",
       "      <td>KS</td>\n",
       "      <td>Woodson County</td>\n",
       "    </tr>\n",
       "    <tr>\n",
       "      <th>21011</th>\n",
       "      <td>KY</td>\n",
       "      <td>Bath County</td>\n",
       "    </tr>\n",
       "    <tr>\n",
       "      <th>21013</th>\n",
       "      <td>KY</td>\n",
       "      <td>Bell County</td>\n",
       "    </tr>\n",
       "    <tr>\n",
       "      <th>21019</th>\n",
       "      <td>KY</td>\n",
       "      <td>Boyd County</td>\n",
       "    </tr>\n",
       "    <tr>\n",
       "      <th>21025</th>\n",
       "      <td>KY</td>\n",
       "      <td>Breathitt County</td>\n",
       "    </tr>\n",
       "    <tr>\n",
       "      <th>21037</th>\n",
       "      <td>KY</td>\n",
       "      <td>Campbell County</td>\n",
       "    </tr>\n",
       "    <tr>\n",
       "      <th>21049</th>\n",
       "      <td>KY</td>\n",
       "      <td>Clark County</td>\n",
       "    </tr>\n",
       "    <tr>\n",
       "      <th>21051</th>\n",
       "      <td>KY</td>\n",
       "      <td>Clay County</td>\n",
       "    </tr>\n",
       "    <tr>\n",
       "      <th>21053</th>\n",
       "      <td>KY</td>\n",
       "      <td>Clinton County</td>\n",
       "    </tr>\n",
       "    <tr>\n",
       "      <th>21057</th>\n",
       "      <td>KY</td>\n",
       "      <td>Cumberland County</td>\n",
       "    </tr>\n",
       "    <tr>\n",
       "      <th>21065</th>\n",
       "      <td>KY</td>\n",
       "      <td>Estill County</td>\n",
       "    </tr>\n",
       "    <tr>\n",
       "      <th>21071</th>\n",
       "      <td>KY</td>\n",
       "      <td>Floyd County</td>\n",
       "    </tr>\n",
       "    <tr>\n",
       "      <th>21077</th>\n",
       "      <td>KY</td>\n",
       "      <td>Gallatin County</td>\n",
       "    </tr>\n",
       "    <tr>\n",
       "      <th>21095</th>\n",
       "      <td>KY</td>\n",
       "      <td>Harlan County</td>\n",
       "    </tr>\n",
       "    <tr>\n",
       "      <th>21115</th>\n",
       "      <td>KY</td>\n",
       "      <td>Johnson County</td>\n",
       "    </tr>\n",
       "    <tr>\n",
       "      <th>21117</th>\n",
       "      <td>KY</td>\n",
       "      <td>Kenton County</td>\n",
       "    </tr>\n",
       "    <tr>\n",
       "      <th>21119</th>\n",
       "      <td>KY</td>\n",
       "      <td>Knott County</td>\n",
       "    </tr>\n",
       "    <tr>\n",
       "      <th>21121</th>\n",
       "      <td>KY</td>\n",
       "      <td>Knox County</td>\n",
       "    </tr>\n",
       "    <tr>\n",
       "      <th>21127</th>\n",
       "      <td>KY</td>\n",
       "      <td>Lawrence County</td>\n",
       "    </tr>\n",
       "    <tr>\n",
       "      <th>...</th>\n",
       "      <td>...</td>\n",
       "      <td>...</td>\n",
       "    </tr>\n",
       "    <tr>\n",
       "      <th>47027</th>\n",
       "      <td>TN</td>\n",
       "      <td>Clay County</td>\n",
       "    </tr>\n",
       "    <tr>\n",
       "      <th>47041</th>\n",
       "      <td>TN</td>\n",
       "      <td>DeKalb County</td>\n",
       "    </tr>\n",
       "    <tr>\n",
       "      <th>47067</th>\n",
       "      <td>TN</td>\n",
       "      <td>Hancock County</td>\n",
       "    </tr>\n",
       "    <tr>\n",
       "      <th>47087</th>\n",
       "      <td>TN</td>\n",
       "      <td>Jackson County</td>\n",
       "    </tr>\n",
       "    <tr>\n",
       "      <th>47137</th>\n",
       "      <td>TN</td>\n",
       "      <td>Pickett County</td>\n",
       "    </tr>\n",
       "    <tr>\n",
       "      <th>47145</th>\n",
       "      <td>TN</td>\n",
       "      <td>Roane County</td>\n",
       "    </tr>\n",
       "    <tr>\n",
       "      <th>47173</th>\n",
       "      <td>TN</td>\n",
       "      <td>Union County</td>\n",
       "    </tr>\n",
       "    <tr>\n",
       "      <th>48023</th>\n",
       "      <td>TX</td>\n",
       "      <td>Baylor County</td>\n",
       "    </tr>\n",
       "    <tr>\n",
       "      <th>49007</th>\n",
       "      <td>UT</td>\n",
       "      <td>Carbon County</td>\n",
       "    </tr>\n",
       "    <tr>\n",
       "      <th>49015</th>\n",
       "      <td>UT</td>\n",
       "      <td>Emery County</td>\n",
       "    </tr>\n",
       "    <tr>\n",
       "      <th>51027</th>\n",
       "      <td>VA</td>\n",
       "      <td>Buchanan County</td>\n",
       "    </tr>\n",
       "    <tr>\n",
       "      <th>51051</th>\n",
       "      <td>VA</td>\n",
       "      <td>Dickenson County</td>\n",
       "    </tr>\n",
       "    <tr>\n",
       "      <th>51155</th>\n",
       "      <td>VA</td>\n",
       "      <td>Pulaski County</td>\n",
       "    </tr>\n",
       "    <tr>\n",
       "      <th>51167</th>\n",
       "      <td>VA</td>\n",
       "      <td>Russell County</td>\n",
       "    </tr>\n",
       "    <tr>\n",
       "      <th>51185</th>\n",
       "      <td>VA</td>\n",
       "      <td>Tazewell County</td>\n",
       "    </tr>\n",
       "    <tr>\n",
       "      <th>51195</th>\n",
       "      <td>VA</td>\n",
       "      <td>Wise County</td>\n",
       "    </tr>\n",
       "    <tr>\n",
       "      <th>51720</th>\n",
       "      <td>VA</td>\n",
       "      <td>Norton city</td>\n",
       "    </tr>\n",
       "    <tr>\n",
       "      <th>54005</th>\n",
       "      <td>WV</td>\n",
       "      <td>Boone County</td>\n",
       "    </tr>\n",
       "    <tr>\n",
       "      <th>54011</th>\n",
       "      <td>WV</td>\n",
       "      <td>Cabell County</td>\n",
       "    </tr>\n",
       "    <tr>\n",
       "      <th>54043</th>\n",
       "      <td>WV</td>\n",
       "      <td>Lincoln County</td>\n",
       "    </tr>\n",
       "    <tr>\n",
       "      <th>54045</th>\n",
       "      <td>WV</td>\n",
       "      <td>Logan County</td>\n",
       "    </tr>\n",
       "    <tr>\n",
       "      <th>54047</th>\n",
       "      <td>WV</td>\n",
       "      <td>McDowell County</td>\n",
       "    </tr>\n",
       "    <tr>\n",
       "      <th>54055</th>\n",
       "      <td>WV</td>\n",
       "      <td>Mercer County</td>\n",
       "    </tr>\n",
       "    <tr>\n",
       "      <th>54059</th>\n",
       "      <td>WV</td>\n",
       "      <td>Mingo County</td>\n",
       "    </tr>\n",
       "    <tr>\n",
       "      <th>54063</th>\n",
       "      <td>WV</td>\n",
       "      <td>Monroe County</td>\n",
       "    </tr>\n",
       "    <tr>\n",
       "      <th>54075</th>\n",
       "      <td>WV</td>\n",
       "      <td>Pocahontas County</td>\n",
       "    </tr>\n",
       "    <tr>\n",
       "      <th>54081</th>\n",
       "      <td>WV</td>\n",
       "      <td>Raleigh County</td>\n",
       "    </tr>\n",
       "    <tr>\n",
       "      <th>54089</th>\n",
       "      <td>WV</td>\n",
       "      <td>Summers County</td>\n",
       "    </tr>\n",
       "    <tr>\n",
       "      <th>54101</th>\n",
       "      <td>WV</td>\n",
       "      <td>Webster County</td>\n",
       "    </tr>\n",
       "    <tr>\n",
       "      <th>54109</th>\n",
       "      <td>WV</td>\n",
       "      <td>Wyoming County</td>\n",
       "    </tr>\n",
       "  </tbody>\n",
       "</table>\n",
       "<p>102 rows × 2 columns</p>\n",
       "</div>"
      ],
      "text/plain": [
       "      state               name\n",
       "FIPS                          \n",
       "04012    AZ      La Paz County\n",
       "06023    CA    Humboldt County\n",
       "06033    CA        Lake County\n",
       "06089    CA      Shasta County\n",
       "08023    CO    Costilla County\n",
       "08055    CO    Huerfano County\n",
       "12017    FL      Citrus County\n",
       "12101    FL       Pasco County\n",
       "16007    ID   Bear Lake County\n",
       "18143    IN       Scott County\n",
       "18149    IN      Starke County\n",
       "20207    KS     Woodson County\n",
       "21011    KY        Bath County\n",
       "21013    KY        Bell County\n",
       "21019    KY        Boyd County\n",
       "21025    KY   Breathitt County\n",
       "21037    KY    Campbell County\n",
       "21049    KY       Clark County\n",
       "21051    KY        Clay County\n",
       "21053    KY     Clinton County\n",
       "21057    KY  Cumberland County\n",
       "21065    KY      Estill County\n",
       "21071    KY       Floyd County\n",
       "21077    KY    Gallatin County\n",
       "21095    KY      Harlan County\n",
       "21115    KY     Johnson County\n",
       "21117    KY      Kenton County\n",
       "21119    KY       Knott County\n",
       "21121    KY        Knox County\n",
       "21127    KY    Lawrence County\n",
       "...     ...                ...\n",
       "47027    TN        Clay County\n",
       "47041    TN      DeKalb County\n",
       "47067    TN     Hancock County\n",
       "47087    TN     Jackson County\n",
       "47137    TN     Pickett County\n",
       "47145    TN       Roane County\n",
       "47173    TN       Union County\n",
       "48023    TX      Baylor County\n",
       "49007    UT      Carbon County\n",
       "49015    UT       Emery County\n",
       "51027    VA    Buchanan County\n",
       "51051    VA   Dickenson County\n",
       "51155    VA     Pulaski County\n",
       "51167    VA     Russell County\n",
       "51185    VA    Tazewell County\n",
       "51195    VA        Wise County\n",
       "51720    VA        Norton city\n",
       "54005    WV       Boone County\n",
       "54011    WV      Cabell County\n",
       "54043    WV     Lincoln County\n",
       "54045    WV       Logan County\n",
       "54047    WV    McDowell County\n",
       "54055    WV      Mercer County\n",
       "54059    WV       Mingo County\n",
       "54063    WV      Monroe County\n",
       "54075    WV  Pocahontas County\n",
       "54081    WV     Raleigh County\n",
       "54089    WV     Summers County\n",
       "54101    WV     Webster County\n",
       "54109    WV     Wyoming County\n",
       "\n",
       "[102 rows x 2 columns]"
      ]
     },
     "execution_count": 208,
     "metadata": {},
     "output_type": "execute_result"
    }
   ],
   "source": [
    "target_outliers = targets[targets['numeric'] == 31]['FIPS']\n",
    "target_outliers = data.loc[target_outliers, ['state', 'name']]\n",
    "print(len(target_outliers))\n",
    "target_outliers"
   ]
  },
  {
   "cell_type": "markdown",
   "metadata": {},
   "source": [
    "These outliers appear to be concentrated in some states."
   ]
  },
  {
   "cell_type": "code",
   "execution_count": 209,
   "metadata": {},
   "outputs": [
    {
     "data": {
      "text/html": [
       "<div>\n",
       "<style>\n",
       "    .dataframe thead tr:only-child th {\n",
       "        text-align: right;\n",
       "    }\n",
       "\n",
       "    .dataframe thead th {\n",
       "        text-align: left;\n",
       "    }\n",
       "\n",
       "    .dataframe tbody tr th {\n",
       "        vertical-align: top;\n",
       "    }\n",
       "</style>\n",
       "<table border=\"1\" class=\"dataframe\">\n",
       "  <thead>\n",
       "    <tr style=\"text-align: right;\">\n",
       "      <th></th>\n",
       "      <th>outliers</th>\n",
       "      <th>total</th>\n",
       "      <th>percent</th>\n",
       "    </tr>\n",
       "    <tr>\n",
       "      <th>state</th>\n",
       "      <th></th>\n",
       "      <th></th>\n",
       "      <th></th>\n",
       "    </tr>\n",
       "  </thead>\n",
       "  <tbody>\n",
       "    <tr>\n",
       "      <th>AZ</th>\n",
       "      <td>1</td>\n",
       "      <td>15</td>\n",
       "      <td>6.666667</td>\n",
       "    </tr>\n",
       "    <tr>\n",
       "      <th>CA</th>\n",
       "      <td>3</td>\n",
       "      <td>58</td>\n",
       "      <td>5.172414</td>\n",
       "    </tr>\n",
       "    <tr>\n",
       "      <th>CO</th>\n",
       "      <td>2</td>\n",
       "      <td>60</td>\n",
       "      <td>3.333333</td>\n",
       "    </tr>\n",
       "    <tr>\n",
       "      <th>FL</th>\n",
       "      <td>2</td>\n",
       "      <td>67</td>\n",
       "      <td>2.985075</td>\n",
       "    </tr>\n",
       "    <tr>\n",
       "      <th>ID</th>\n",
       "      <td>1</td>\n",
       "      <td>44</td>\n",
       "      <td>2.272727</td>\n",
       "    </tr>\n",
       "    <tr>\n",
       "      <th>IN</th>\n",
       "      <td>2</td>\n",
       "      <td>92</td>\n",
       "      <td>2.173913</td>\n",
       "    </tr>\n",
       "    <tr>\n",
       "      <th>KS</th>\n",
       "      <td>1</td>\n",
       "      <td>105</td>\n",
       "      <td>0.952381</td>\n",
       "    </tr>\n",
       "    <tr>\n",
       "      <th>KY</th>\n",
       "      <td>29</td>\n",
       "      <td>120</td>\n",
       "      <td>24.166667</td>\n",
       "    </tr>\n",
       "    <tr>\n",
       "      <th>LA</th>\n",
       "      <td>1</td>\n",
       "      <td>64</td>\n",
       "      <td>1.562500</td>\n",
       "    </tr>\n",
       "    <tr>\n",
       "      <th>MD</th>\n",
       "      <td>1</td>\n",
       "      <td>24</td>\n",
       "      <td>4.166667</td>\n",
       "    </tr>\n",
       "    <tr>\n",
       "      <th>MS</th>\n",
       "      <td>1</td>\n",
       "      <td>81</td>\n",
       "      <td>1.234568</td>\n",
       "    </tr>\n",
       "    <tr>\n",
       "      <th>MT</th>\n",
       "      <td>2</td>\n",
       "      <td>55</td>\n",
       "      <td>3.636364</td>\n",
       "    </tr>\n",
       "    <tr>\n",
       "      <th>NC</th>\n",
       "      <td>1</td>\n",
       "      <td>100</td>\n",
       "      <td>1.000000</td>\n",
       "    </tr>\n",
       "    <tr>\n",
       "      <th>NM</th>\n",
       "      <td>13</td>\n",
       "      <td>33</td>\n",
       "      <td>39.393939</td>\n",
       "    </tr>\n",
       "    <tr>\n",
       "      <th>NV</th>\n",
       "      <td>4</td>\n",
       "      <td>17</td>\n",
       "      <td>23.529412</td>\n",
       "    </tr>\n",
       "    <tr>\n",
       "      <th>OH</th>\n",
       "      <td>1</td>\n",
       "      <td>88</td>\n",
       "      <td>1.136364</td>\n",
       "    </tr>\n",
       "    <tr>\n",
       "      <th>OK</th>\n",
       "      <td>4</td>\n",
       "      <td>77</td>\n",
       "      <td>5.194805</td>\n",
       "    </tr>\n",
       "    <tr>\n",
       "      <th>PA</th>\n",
       "      <td>1</td>\n",
       "      <td>67</td>\n",
       "      <td>1.492537</td>\n",
       "    </tr>\n",
       "    <tr>\n",
       "      <th>TN</th>\n",
       "      <td>9</td>\n",
       "      <td>95</td>\n",
       "      <td>9.473684</td>\n",
       "    </tr>\n",
       "    <tr>\n",
       "      <th>TX</th>\n",
       "      <td>1</td>\n",
       "      <td>254</td>\n",
       "      <td>0.393701</td>\n",
       "    </tr>\n",
       "    <tr>\n",
       "      <th>UT</th>\n",
       "      <td>2</td>\n",
       "      <td>29</td>\n",
       "      <td>6.896552</td>\n",
       "    </tr>\n",
       "    <tr>\n",
       "      <th>VA</th>\n",
       "      <td>7</td>\n",
       "      <td>133</td>\n",
       "      <td>5.263158</td>\n",
       "    </tr>\n",
       "    <tr>\n",
       "      <th>WV</th>\n",
       "      <td>13</td>\n",
       "      <td>55</td>\n",
       "      <td>23.636364</td>\n",
       "    </tr>\n",
       "  </tbody>\n",
       "</table>\n",
       "</div>"
      ],
      "text/plain": [
       "       outliers  total    percent\n",
       "state                            \n",
       "AZ            1     15   6.666667\n",
       "CA            3     58   5.172414\n",
       "CO            2     60   3.333333\n",
       "FL            2     67   2.985075\n",
       "ID            1     44   2.272727\n",
       "IN            2     92   2.173913\n",
       "KS            1    105   0.952381\n",
       "KY           29    120  24.166667\n",
       "LA            1     64   1.562500\n",
       "MD            1     24   4.166667\n",
       "MS            1     81   1.234568\n",
       "MT            2     55   3.636364\n",
       "NC            1    100   1.000000\n",
       "NM           13     33  39.393939\n",
       "NV            4     17  23.529412\n",
       "OH            1     88   1.136364\n",
       "OK            4     77   5.194805\n",
       "PA            1     67   1.492537\n",
       "TN            9     95   9.473684\n",
       "TX            1    254   0.393701\n",
       "UT            2     29   6.896552\n",
       "VA            7    133   5.263158\n",
       "WV           13     55  23.636364"
      ]
     },
     "execution_count": 209,
     "metadata": {},
     "output_type": "execute_result"
    }
   ],
   "source": [
    "outliers_by_state = pd.DataFrame(target_outliers.groupby('state').size(), columns=['outliers'])\n",
    "counties_by_state = pd.DataFrame(data.groupby('state').size(), columns = ['total'])\n",
    "outliers_by_state['total'] = counties_by_state['total']\n",
    "outliers_by_state['percent'] = 100 * outliers_by_state['outliers']/outliers_by_state['total']\n",
    "outliers_by_state"
   ]
  },
  {
   "cell_type": "markdown",
   "metadata": {},
   "source": [
    "The distribution is highly uneven and potentially problematic. Remove but keep in a secondary dataset. Are the targets distributed unevenly among the states overall?"
   ]
  },
  {
   "cell_type": "code",
   "execution_count": 210,
   "metadata": {},
   "outputs": [
    {
     "data": {
      "text/html": [
       "<div>\n",
       "<style>\n",
       "    .dataframe thead tr:only-child th {\n",
       "        text-align: right;\n",
       "    }\n",
       "\n",
       "    .dataframe thead th {\n",
       "        text-align: left;\n",
       "    }\n",
       "\n",
       "    .dataframe tbody tr th {\n",
       "        vertical-align: top;\n",
       "    }\n",
       "</style>\n",
       "<table border=\"1\" class=\"dataframe\">\n",
       "  <thead>\n",
       "    <tr style=\"text-align: right;\">\n",
       "      <th></th>\n",
       "      <th></th>\n",
       "      <th>0</th>\n",
       "    </tr>\n",
       "    <tr>\n",
       "      <th>state</th>\n",
       "      <th>numeric</th>\n",
       "      <th></th>\n",
       "    </tr>\n",
       "  </thead>\n",
       "  <tbody>\n",
       "    <tr>\n",
       "      <th rowspan=\"5\" valign=\"top\">AK</th>\n",
       "      <th>1.0</th>\n",
       "      <td>1</td>\n",
       "    </tr>\n",
       "    <tr>\n",
       "      <th>5.0</th>\n",
       "      <td>1</td>\n",
       "    </tr>\n",
       "    <tr>\n",
       "      <th>7.0</th>\n",
       "      <td>2</td>\n",
       "    </tr>\n",
       "    <tr>\n",
       "      <th>11.0</th>\n",
       "      <td>2</td>\n",
       "    </tr>\n",
       "    <tr>\n",
       "      <th>13.0</th>\n",
       "      <td>2</td>\n",
       "    </tr>\n",
       "  </tbody>\n",
       "</table>\n",
       "</div>"
      ],
      "text/plain": [
       "               0\n",
       "state numeric   \n",
       "AK    1.0      1\n",
       "      5.0      1\n",
       "      7.0      2\n",
       "      11.0     2\n",
       "      13.0     2"
      ]
     },
     "execution_count": 210,
     "metadata": {},
     "output_type": "execute_result"
    }
   ],
   "source": [
    "counts = pd.DataFrame(data.groupby(['state', 'numeric']).size())\n",
    "counts.head()"
   ]
  },
  {
   "cell_type": "code",
   "execution_count": 211,
   "metadata": {
    "collapsed": true
   },
   "outputs": [],
   "source": [
    "counts = counts.reset_index()\n",
    "counts.columns = ['state', 'numeric', 'count']\n",
    "counts['total'] = counts.apply(lambda row: counties_by_state.loc[row['state'], 'total'], axis=1)\n",
    "counts['percent'] = counts['count'] / counts['total']\n",
    "states = sorted(counts['state'].unique())"
   ]
  },
  {
   "cell_type": "code",
   "execution_count": 212,
   "metadata": {},
   "outputs": [
    {
     "data": {
      "text/plain": [
       "Text(0,0.5,'death rate')"
      ]
     },
     "execution_count": 212,
     "metadata": {},
     "output_type": "execute_result"
    },
    {
     "data": {
      "image/png": "[encoded data removed]",
      "text/plain": [
       "<matplotlib.figure.Figure at 0x11da76438>"
      ]
     },
     "metadata": {},
     "output_type": "display_data"
    }
   ],
   "source": [
    "plt.rcParams[\"figure.figsize\"] = [16.0, 8.0]\n",
    "ax = sns.stripplot(data=counts, x='state', y='numeric', hue='percent', palette='OrRd')\n",
    "ax.legend_.remove()\n",
    "ax.set_title('Clustering counties by death rate and state (darker = higher percentage)', size=18)\n",
    "ax.set_ylabel('death rate')"
   ]
  },
  {
   "cell_type": "markdown",
   "metadata": {},
   "source": [
    "While there are some states with outlying concentrations of counties with low or high death rates, the distribution is fairly even overall."
   ]
  },
  {
   "cell_type": "code",
   "execution_count": 213,
   "metadata": {
    "collapsed": true
   },
   "outputs": [],
   "source": [
    "data_31 = data.copy()\n",
    "data = data[data['death_rate'] != '30+']"
   ]
  },
  {
   "cell_type": "code",
   "execution_count": 214,
   "metadata": {},
   "outputs": [
    {
     "data": {
      "text/plain": [
       "<matplotlib.axes._subplots.AxesSubplot at 0x11d5a82e8>"
      ]
     },
     "execution_count": 214,
     "metadata": {},
     "output_type": "execute_result"
    },
    {
     "data": {
      "image/png": "[encoded data removed]",
      "text/plain": [
       "<matplotlib.figure.Figure at 0x11e4570b8>"
      ]
     },
     "metadata": {},
     "output_type": "display_data"
    }
   ],
   "source": [
    "plt.rcParams[\"figure.figsize\"] = [6.0, 4.0]\n",
    "from scipy.stats import norm\n",
    "sns.distplot(targets['numeric'], bins=16, fit=norm, kde=False)"
   ]
  },
  {
   "cell_type": "markdown",
   "metadata": {},
   "source": [
    "The target distribution is not normal, but it follows the general shape of a normal curve except for the high-end spike at death_rate = 31. The class imbalance will have to be dealt with. "
   ]
  },
  {
   "cell_type": "code",
   "execution_count": 215,
   "metadata": {},
   "outputs": [
    {
     "name": "stdout",
     "output_type": "stream",
     "text": [
      "               < diploma   degree+   pop_inc  foreign_inc  unemployment  \\\n",
      "< diploma       1.000000  0.590198  0.173795     0.014397      0.420872   \n",
      "degree+         0.590198  1.000000  0.436721     0.037746      0.329834   \n",
      "pop_inc         0.173795  0.436721  1.000000     0.001243      0.253635   \n",
      "foreign_inc     0.014397  0.037746  0.001243     1.000000      0.003454   \n",
      "unemployment    0.420872  0.329834  0.253635     0.003454      1.000000   \n",
      "unemp_change    0.127994  0.117896  0.029990     0.003099      0.213587   \n",
      "poverty         0.663283  0.447611  0.267106     0.014567      0.600237   \n",
      "median_hh_inc   0.542180  0.680273  0.466601     0.018149      0.454140   \n",
      "pov_change      0.043761  0.031475  0.047822     0.001281      0.202458   \n",
      "median_age      0.221839  0.178017  0.364938     0.035829      0.061179   \n",
      "hh_afr_am       0.363750  0.091370  0.102100     0.003461      0.422107   \n",
      "hh_hisp         0.452917  0.020773  0.177056     0.001030      0.013150   \n",
      "hh_female       0.546617  0.243373  0.041391     0.005559      0.537112   \n",
      "hh_food_st      0.634201  0.511206  0.236201     0.011188      0.577440   \n",
      "foreign_07      0.235792  0.316969  0.303008     0.031527      0.022956   \n",
      "vets            0.366934  0.052429  0.103991     0.024266      0.047121   \n",
      "vets_male       0.048607  0.173827  0.198131     0.017874      0.065301   \n",
      "viol_crime      0.196516  0.011448  0.082169     0.011873      0.224957   \n",
      "prop_crime      0.116087  0.090511  0.167136     0.034661      0.178632   \n",
      "numeric         0.071415  0.095094  0.022837     0.002764      0.289674   \n",
      "\n",
      "               unemp_change   poverty  median_hh_inc  pov_change  median_age  \\\n",
      "< diploma          0.127994  0.663283       0.542180    0.043761    0.221839   \n",
      "degree+            0.117896  0.447611       0.680273    0.031475    0.178017   \n",
      "pop_inc            0.029990  0.267106       0.466601    0.047822    0.364938   \n",
      "foreign_inc        0.003099  0.014567       0.018149    0.001281    0.035829   \n",
      "unemployment       0.213587  0.600237       0.454140    0.202458    0.061179   \n",
      "unemp_change       1.000000  0.089752       0.110285    0.100650    0.035442   \n",
      "poverty            0.089752  1.000000       0.780392    0.188517    0.242381   \n",
      "median_hh_inc      0.110285  0.780392       1.000000    0.027268    0.089691   \n",
      "pov_change         0.100650  0.188517       0.027268    1.000000    0.110290   \n",
      "median_age         0.035442  0.242381       0.089691    0.110290    1.000000   \n",
      "hh_afr_am          0.063171  0.534256       0.280872    0.176999    0.222769   \n",
      "hh_hisp            0.016313  0.113815       0.019083    0.079735    0.303786   \n",
      "hh_female          0.118798  0.671545       0.379778    0.158056    0.402942   \n",
      "hh_food_st         0.085673  0.791808       0.660893    0.021017    0.179665   \n",
      "foreign_07         0.061624  0.044073       0.307574    0.072003    0.345260   \n",
      "vets               0.067544  0.245929       0.027939    0.026506    0.580435   \n",
      "vets_male          0.056606  0.021474       0.107916    0.071837    0.256012   \n",
      "viol_crime         0.097315  0.295030       0.139146    0.157963    0.258520   \n",
      "prop_crime         0.119079  0.234598       0.099971    0.190226    0.305941   \n",
      "numeric            0.235700  0.161194       0.180909    0.142860    0.056238   \n",
      "\n",
      "               hh_afr_am   hh_hisp  hh_female  hh_food_st  foreign_07  \\\n",
      "< diploma       0.363750  0.452917   0.546617    0.634201    0.235792   \n",
      "degree+         0.091370  0.020773   0.243373    0.511206    0.316969   \n",
      "pop_inc         0.102100  0.177056   0.041391    0.236201    0.303008   \n",
      "foreign_inc     0.003461  0.001030   0.005559    0.011188    0.031527   \n",
      "unemployment    0.422107  0.013150   0.537112    0.577440    0.022956   \n",
      "unemp_change    0.063171  0.016313   0.118798    0.085673    0.061624   \n",
      "poverty         0.534256  0.113815   0.671545    0.791808    0.044073   \n",
      "median_hh_inc   0.280872  0.019083   0.379778    0.660893    0.307574   \n",
      "pov_change      0.176999  0.079735   0.158056    0.021017    0.072003   \n",
      "median_age      0.222769  0.303786   0.402942    0.179665    0.345260   \n",
      "hh_afr_am       1.000000  0.091594   0.746161    0.435203    0.010620   \n",
      "hh_hisp         0.091594  1.000000   0.156721    0.112906    0.639763   \n",
      "hh_female       0.746161  0.156721   1.000000    0.666843    0.101816   \n",
      "hh_food_st      0.435203  0.112906   0.666843    1.000000    0.137798   \n",
      "foreign_07      0.010620  0.639763   0.101816    0.137798    1.000000   \n",
      "vets            0.262860  0.278163   0.349405    0.230026    0.313975   \n",
      "vets_male       0.225593  0.035081   0.216025    0.016055    0.077136   \n",
      "viol_crime      0.384678  0.136106   0.412381    0.240730    0.169616   \n",
      "prop_crime      0.317524  0.121239   0.363541    0.187599    0.155441   \n",
      "numeric         0.116110  0.067249   0.077653    0.194698    0.049836   \n",
      "\n",
      "                   vets  vets_male  viol_crime  prop_crime   numeric  \n",
      "< diploma      0.366934   0.048607    0.196516    0.116087  0.071415  \n",
      "degree+        0.052429   0.173827    0.011448    0.090511  0.095094  \n",
      "pop_inc        0.103991   0.198131    0.082169    0.167136  0.022837  \n",
      "foreign_inc    0.024266   0.017874    0.011873    0.034661  0.002764  \n",
      "unemployment   0.047121   0.065301    0.224957    0.178632  0.289674  \n",
      "unemp_change   0.067544   0.056606    0.097315    0.119079  0.235700  \n",
      "poverty        0.245929   0.021474    0.295030    0.234598  0.161194  \n",
      "median_hh_inc  0.027939   0.107916    0.139146    0.099971  0.180909  \n",
      "pov_change     0.026506   0.071837    0.157963    0.190226  0.142860  \n",
      "median_age     0.580435   0.256012    0.258520    0.305941  0.056238  \n",
      "hh_afr_am      0.262860   0.225593    0.384678    0.317524  0.116110  \n",
      "hh_hisp        0.278163   0.035081    0.136106    0.121239  0.067249  \n",
      "hh_female      0.349405   0.216025    0.412381    0.363541  0.077653  \n",
      "hh_food_st     0.230026   0.016055    0.240730    0.187599  0.194698  \n",
      "foreign_07     0.313975   0.077136    0.169616    0.155441  0.049836  \n",
      "vets           1.000000   0.128423    0.110546    0.072415  0.182828  \n",
      "vets_male      0.128423   1.000000    0.148775    0.194186  0.013722  \n",
      "viol_crime     0.110546   0.148775    1.000000    0.710070  0.154623  \n",
      "prop_crime     0.072415   0.194186    0.710070    1.000000  0.189981  \n",
      "numeric        0.182828   0.013722    0.154623    0.189981  1.000000  \n"
     ]
    }
   ],
   "source": [
    "bivariate = data.drop(['state', 'name', 'pop_2014', 'urban_influence'], axis=1).corr().abs()\n",
    "print(bivariate)"
   ]
  },
  {
   "cell_type": "markdown",
   "metadata": {},
   "source": [
    "**poverty** correlates strongly with a couple of other variables, so drop it. The two crime variables correlate strongly with each other, so combine them into one. "
   ]
  },
  {
   "cell_type": "code",
   "execution_count": 216,
   "metadata": {
    "collapsed": true
   },
   "outputs": [],
   "source": [
    "data['crime'] = (data['viol_crime'] + data['prop_crime'])\n",
    "data = data.drop(['viol_crime', 'prop_crime', 'poverty'], axis=1)"
   ]
  },
  {
   "cell_type": "code",
   "execution_count": 217,
   "metadata": {},
   "outputs": [
    {
     "data": {
      "image/png": "[encoded data removed]",
      "text/plain": [
       "<matplotlib.figure.Figure at 0x11d6629e8>"
      ]
     },
     "metadata": {},
     "output_type": "display_data"
    }
   ],
   "source": [
    "corrmat = data.drop(['state', 'name', 'urban_influence', 'pop_2014', 'death_rate'], axis=1).corr().abs()\n",
    "sns.heatmap(corrmat, vmax=.8, square=True)\n",
    "plt.show()"
   ]
  },
  {
   "cell_type": "markdown",
   "metadata": {},
   "source": [
    "There are still some strong correlations, but they are scattered. Use VIF analysis to programmatically eliminate the variables with the highest VIF scores until all scores are below 10, a conservative threshold."
   ]
  },
  {
   "cell_type": "code",
   "execution_count": 218,
   "metadata": {},
   "outputs": [
    {
     "data": {
      "text/html": [
       "<div>\n",
       "<style>\n",
       "    .dataframe thead tr:only-child th {\n",
       "        text-align: right;\n",
       "    }\n",
       "\n",
       "    .dataframe thead th {\n",
       "        text-align: left;\n",
       "    }\n",
       "\n",
       "    .dataframe tbody tr th {\n",
       "        vertical-align: top;\n",
       "    }\n",
       "</style>\n",
       "<table border=\"1\" class=\"dataframe\">\n",
       "  <thead>\n",
       "    <tr style=\"text-align: right;\">\n",
       "      <th></th>\n",
       "      <th>VIF</th>\n",
       "      <th>features</th>\n",
       "    </tr>\n",
       "  </thead>\n",
       "  <tbody>\n",
       "    <tr>\n",
       "      <th>0</th>\n",
       "      <td>23.727191</td>\n",
       "      <td>&lt; diploma</td>\n",
       "    </tr>\n",
       "    <tr>\n",
       "      <th>1</th>\n",
       "      <td>19.038561</td>\n",
       "      <td>degree+</td>\n",
       "    </tr>\n",
       "    <tr>\n",
       "      <th>2</th>\n",
       "      <td>1.649532</td>\n",
       "      <td>pop_inc</td>\n",
       "    </tr>\n",
       "    <tr>\n",
       "      <th>3</th>\n",
       "      <td>1.022300</td>\n",
       "      <td>foreign_inc</td>\n",
       "    </tr>\n",
       "    <tr>\n",
       "      <th>4</th>\n",
       "      <td>16.496006</td>\n",
       "      <td>unemployment</td>\n",
       "    </tr>\n",
       "    <tr>\n",
       "      <th>5</th>\n",
       "      <td>4.113846</td>\n",
       "      <td>unemp_change</td>\n",
       "    </tr>\n",
       "    <tr>\n",
       "      <th>6</th>\n",
       "      <td>45.701203</td>\n",
       "      <td>median_hh_inc</td>\n",
       "    </tr>\n",
       "    <tr>\n",
       "      <th>7</th>\n",
       "      <td>1.217936</td>\n",
       "      <td>pov_change</td>\n",
       "    </tr>\n",
       "    <tr>\n",
       "      <th>8</th>\n",
       "      <td>151.793720</td>\n",
       "      <td>median_age</td>\n",
       "    </tr>\n",
       "    <tr>\n",
       "      <th>9</th>\n",
       "      <td>4.062589</td>\n",
       "      <td>hh_afr_am</td>\n",
       "    </tr>\n",
       "    <tr>\n",
       "      <th>10</th>\n",
       "      <td>3.149401</td>\n",
       "      <td>hh_hisp</td>\n",
       "    </tr>\n",
       "    <tr>\n",
       "      <th>11</th>\n",
       "      <td>30.704564</td>\n",
       "      <td>hh_female</td>\n",
       "    </tr>\n",
       "    <tr>\n",
       "      <th>12</th>\n",
       "      <td>14.844614</td>\n",
       "      <td>hh_food_st</td>\n",
       "    </tr>\n",
       "    <tr>\n",
       "      <th>13</th>\n",
       "      <td>4.267921</td>\n",
       "      <td>foreign_07</td>\n",
       "    </tr>\n",
       "    <tr>\n",
       "      <th>14</th>\n",
       "      <td>31.258425</td>\n",
       "      <td>vets</td>\n",
       "    </tr>\n",
       "    <tr>\n",
       "      <th>15</th>\n",
       "      <td>230.489986</td>\n",
       "      <td>vets_male</td>\n",
       "    </tr>\n",
       "    <tr>\n",
       "      <th>16</th>\n",
       "      <td>4.640893</td>\n",
       "      <td>crime</td>\n",
       "    </tr>\n",
       "  </tbody>\n",
       "</table>\n",
       "</div>"
      ],
      "text/plain": [
       "           VIF       features\n",
       "0    23.727191      < diploma\n",
       "1    19.038561        degree+\n",
       "2     1.649532        pop_inc\n",
       "3     1.022300    foreign_inc\n",
       "4    16.496006   unemployment\n",
       "5     4.113846   unemp_change\n",
       "6    45.701203  median_hh_inc\n",
       "7     1.217936     pov_change\n",
       "8   151.793720     median_age\n",
       "9     4.062589      hh_afr_am\n",
       "10    3.149401        hh_hisp\n",
       "11   30.704564      hh_female\n",
       "12   14.844614     hh_food_st\n",
       "13    4.267921     foreign_07\n",
       "14   31.258425           vets\n",
       "15  230.489986      vets_male\n",
       "16    4.640893          crime"
      ]
     },
     "execution_count": 218,
     "metadata": {},
     "output_type": "execute_result"
    }
   ],
   "source": [
    "from statsmodels.stats.outliers_influence import variance_inflation_factor\n",
    "# For each column in features, calculate VIF and save in dataframe\n",
    "vif = pd.DataFrame()\n",
    "remove = ['state', 'name', 'urban_influence', 'pop_2014', 'death_rate', 'numeric']\n",
    "features = data.drop(remove, axis=1)\n",
    "vif[\"VIF\"] = [variance_inflation_factor(features.values, i) for i in range(features.shape[1])]\n",
    "vif[\"features\"] = features.columns\n",
    "vif"
   ]
  },
  {
   "cell_type": "code",
   "execution_count": 219,
   "metadata": {},
   "outputs": [
    {
     "data": {
      "text/html": [
       "<div>\n",
       "<style>\n",
       "    .dataframe thead tr:only-child th {\n",
       "        text-align: right;\n",
       "    }\n",
       "\n",
       "    .dataframe thead th {\n",
       "        text-align: left;\n",
       "    }\n",
       "\n",
       "    .dataframe tbody tr th {\n",
       "        vertical-align: top;\n",
       "    }\n",
       "</style>\n",
       "<table border=\"1\" class=\"dataframe\">\n",
       "  <thead>\n",
       "    <tr style=\"text-align: right;\">\n",
       "      <th></th>\n",
       "      <th>VIF</th>\n",
       "      <th>features</th>\n",
       "    </tr>\n",
       "  </thead>\n",
       "  <tbody>\n",
       "    <tr>\n",
       "      <th>0</th>\n",
       "      <td>7.393791</td>\n",
       "      <td>degree+</td>\n",
       "    </tr>\n",
       "    <tr>\n",
       "      <th>1</th>\n",
       "      <td>1.338485</td>\n",
       "      <td>pop_inc</td>\n",
       "    </tr>\n",
       "    <tr>\n",
       "      <th>2</th>\n",
       "      <td>1.021619</td>\n",
       "      <td>foreign_inc</td>\n",
       "    </tr>\n",
       "    <tr>\n",
       "      <th>3</th>\n",
       "      <td>3.636447</td>\n",
       "      <td>unemp_change</td>\n",
       "    </tr>\n",
       "    <tr>\n",
       "      <th>4</th>\n",
       "      <td>1.172304</td>\n",
       "      <td>pov_change</td>\n",
       "    </tr>\n",
       "    <tr>\n",
       "      <th>5</th>\n",
       "      <td>2.085686</td>\n",
       "      <td>hh_afr_am</td>\n",
       "    </tr>\n",
       "    <tr>\n",
       "      <th>6</th>\n",
       "      <td>2.688671</td>\n",
       "      <td>hh_hisp</td>\n",
       "    </tr>\n",
       "    <tr>\n",
       "      <th>7</th>\n",
       "      <td>5.496295</td>\n",
       "      <td>hh_food_st</td>\n",
       "    </tr>\n",
       "    <tr>\n",
       "      <th>8</th>\n",
       "      <td>3.662824</td>\n",
       "      <td>foreign_07</td>\n",
       "    </tr>\n",
       "    <tr>\n",
       "      <th>9</th>\n",
       "      <td>9.296857</td>\n",
       "      <td>vets</td>\n",
       "    </tr>\n",
       "    <tr>\n",
       "      <th>10</th>\n",
       "      <td>4.334915</td>\n",
       "      <td>crime</td>\n",
       "    </tr>\n",
       "  </tbody>\n",
       "</table>\n",
       "</div>"
      ],
      "text/plain": [
       "         VIF      features\n",
       "0   7.393791       degree+\n",
       "1   1.338485       pop_inc\n",
       "2   1.021619   foreign_inc\n",
       "3   3.636447  unemp_change\n",
       "4   1.172304    pov_change\n",
       "5   2.085686     hh_afr_am\n",
       "6   2.688671       hh_hisp\n",
       "7   5.496295    hh_food_st\n",
       "8   3.662824    foreign_07\n",
       "9   9.296857          vets\n",
       "10  4.334915         crime"
      ]
     },
     "execution_count": 219,
     "metadata": {},
     "output_type": "execute_result"
    }
   ],
   "source": [
    "max_VIF = max(vif['VIF'])\n",
    "while max_VIF > 10:\n",
    "    remove = remove + list(vif[vif['VIF'] == max_VIF]['features'])\n",
    "    features = data.drop(remove, axis=1)\n",
    "    vif = pd.DataFrame()\n",
    "    vif[\"VIF\"] = [variance_inflation_factor(features.values, i) for i in range(features.shape[1])]\n",
    "    vif[\"features\"] = features.columns\n",
    "    max_VIF = max(vif['VIF'])\n",
    "vif"
   ]
  },
  {
   "cell_type": "code",
   "execution_count": 220,
   "metadata": {
    "collapsed": true
   },
   "outputs": [],
   "source": [
    "features1 = list(vif['features']) + ['urban_influence', 'death_rate']"
   ]
  },
  {
   "cell_type": "code",
   "execution_count": 221,
   "metadata": {
    "collapsed": true
   },
   "outputs": [],
   "source": [
    "data1 = data.loc[:, features1]"
   ]
  },
  {
   "cell_type": "code",
   "execution_count": 222,
   "metadata": {},
   "outputs": [
    {
     "data": {
      "text/html": [
       "<div>\n",
       "<style>\n",
       "    .dataframe thead tr:only-child th {\n",
       "        text-align: right;\n",
       "    }\n",
       "\n",
       "    .dataframe thead th {\n",
       "        text-align: left;\n",
       "    }\n",
       "\n",
       "    .dataframe tbody tr th {\n",
       "        vertical-align: top;\n",
       "    }\n",
       "</style>\n",
       "<table border=\"1\" class=\"dataframe\">\n",
       "  <thead>\n",
       "    <tr style=\"text-align: right;\">\n",
       "      <th></th>\n",
       "      <th>degree+</th>\n",
       "      <th>pop_inc</th>\n",
       "      <th>foreign_inc</th>\n",
       "      <th>unemp_change</th>\n",
       "      <th>pov_change</th>\n",
       "      <th>hh_afr_am</th>\n",
       "      <th>hh_hisp</th>\n",
       "      <th>hh_food_st</th>\n",
       "      <th>foreign_07</th>\n",
       "      <th>vets</th>\n",
       "      <th>crime</th>\n",
       "      <th>urban_influence</th>\n",
       "    </tr>\n",
       "  </thead>\n",
       "  <tbody>\n",
       "    <tr>\n",
       "      <th>count</th>\n",
       "      <td>3024.000000</td>\n",
       "      <td>3024.000000</td>\n",
       "      <td>3024.000000</td>\n",
       "      <td>3024.000000</td>\n",
       "      <td>3024.000000</td>\n",
       "      <td>3024.000000</td>\n",
       "      <td>3024.000000</td>\n",
       "      <td>3024.000000</td>\n",
       "      <td>3024.000000</td>\n",
       "      <td>3024.000000</td>\n",
       "      <td>3024.000000</td>\n",
       "      <td>3024.000000</td>\n",
       "    </tr>\n",
       "    <tr>\n",
       "      <th>mean</th>\n",
       "      <td>20.936456</td>\n",
       "      <td>0.003378</td>\n",
       "      <td>0.404249</td>\n",
       "      <td>-2.961078</td>\n",
       "      <td>0.553704</td>\n",
       "      <td>0.082971</td>\n",
       "      <td>0.059307</td>\n",
       "      <td>0.102264</td>\n",
       "      <td>4.292097</td>\n",
       "      <td>0.088620</td>\n",
       "      <td>0.020376</td>\n",
       "      <td>5.205688</td>\n",
       "    </tr>\n",
       "    <tr>\n",
       "      <th>std</th>\n",
       "      <td>9.154237</td>\n",
       "      <td>0.041861</td>\n",
       "      <td>3.094303</td>\n",
       "      <td>1.783505</td>\n",
       "      <td>2.141838</td>\n",
       "      <td>0.139566</td>\n",
       "      <td>0.111013</td>\n",
       "      <td>0.056556</td>\n",
       "      <td>5.528622</td>\n",
       "      <td>0.022547</td>\n",
       "      <td>0.013327</td>\n",
       "      <td>3.469448</td>\n",
       "    </tr>\n",
       "    <tr>\n",
       "      <th>min</th>\n",
       "      <td>2.985000</td>\n",
       "      <td>-0.177510</td>\n",
       "      <td>-6.333333</td>\n",
       "      <td>-13.600000</td>\n",
       "      <td>-17.400000</td>\n",
       "      <td>0.000000</td>\n",
       "      <td>0.000000</td>\n",
       "      <td>0.000000</td>\n",
       "      <td>0.000000</td>\n",
       "      <td>0.019065</td>\n",
       "      <td>0.000000</td>\n",
       "      <td>1.000000</td>\n",
       "    </tr>\n",
       "    <tr>\n",
       "      <th>25%</th>\n",
       "      <td>14.571000</td>\n",
       "      <td>-0.021187</td>\n",
       "      <td>0.008944</td>\n",
       "      <td>-4.000000</td>\n",
       "      <td>-0.600000</td>\n",
       "      <td>0.002650</td>\n",
       "      <td>0.009731</td>\n",
       "      <td>0.061792</td>\n",
       "      <td>1.200000</td>\n",
       "      <td>0.074239</td>\n",
       "      <td>0.011210</td>\n",
       "      <td>2.000000</td>\n",
       "    </tr>\n",
       "    <tr>\n",
       "      <th>50%</th>\n",
       "      <td>18.640500</td>\n",
       "      <td>-0.003907</td>\n",
       "      <td>0.059489</td>\n",
       "      <td>-2.800000</td>\n",
       "      <td>0.500000</td>\n",
       "      <td>0.013880</td>\n",
       "      <td>0.020117</td>\n",
       "      <td>0.092311</td>\n",
       "      <td>2.300000</td>\n",
       "      <td>0.087297</td>\n",
       "      <td>0.018461</td>\n",
       "      <td>5.000000</td>\n",
       "    </tr>\n",
       "    <tr>\n",
       "      <th>75%</th>\n",
       "      <td>24.783250</td>\n",
       "      <td>0.020743</td>\n",
       "      <td>0.204738</td>\n",
       "      <td>-1.800000</td>\n",
       "      <td>1.700000</td>\n",
       "      <td>0.098243</td>\n",
       "      <td>0.052727</td>\n",
       "      <td>0.132885</td>\n",
       "      <td>5.100000</td>\n",
       "      <td>0.100467</td>\n",
       "      <td>0.027261</td>\n",
       "      <td>8.000000</td>\n",
       "    </tr>\n",
       "    <tr>\n",
       "      <th>max</th>\n",
       "      <td>80.210000</td>\n",
       "      <td>0.727044</td>\n",
       "      <td>119.000000</td>\n",
       "      <td>8.200000</td>\n",
       "      <td>15.900000</td>\n",
       "      <td>0.832707</td>\n",
       "      <td>0.955767</td>\n",
       "      <td>0.399738</td>\n",
       "      <td>63.100000</td>\n",
       "      <td>0.297533</td>\n",
       "      <td>0.157014</td>\n",
       "      <td>12.000000</td>\n",
       "    </tr>\n",
       "  </tbody>\n",
       "</table>\n",
       "</div>"
      ],
      "text/plain": [
       "           degree+      pop_inc  foreign_inc  unemp_change   pov_change  \\\n",
       "count  3024.000000  3024.000000  3024.000000   3024.000000  3024.000000   \n",
       "mean     20.936456     0.003378     0.404249     -2.961078     0.553704   \n",
       "std       9.154237     0.041861     3.094303      1.783505     2.141838   \n",
       "min       2.985000    -0.177510    -6.333333    -13.600000   -17.400000   \n",
       "25%      14.571000    -0.021187     0.008944     -4.000000    -0.600000   \n",
       "50%      18.640500    -0.003907     0.059489     -2.800000     0.500000   \n",
       "75%      24.783250     0.020743     0.204738     -1.800000     1.700000   \n",
       "max      80.210000     0.727044   119.000000      8.200000    15.900000   \n",
       "\n",
       "         hh_afr_am      hh_hisp   hh_food_st   foreign_07         vets  \\\n",
       "count  3024.000000  3024.000000  3024.000000  3024.000000  3024.000000   \n",
       "mean      0.082971     0.059307     0.102264     4.292097     0.088620   \n",
       "std       0.139566     0.111013     0.056556     5.528622     0.022547   \n",
       "min       0.000000     0.000000     0.000000     0.000000     0.019065   \n",
       "25%       0.002650     0.009731     0.061792     1.200000     0.074239   \n",
       "50%       0.013880     0.020117     0.092311     2.300000     0.087297   \n",
       "75%       0.098243     0.052727     0.132885     5.100000     0.100467   \n",
       "max       0.832707     0.955767     0.399738    63.100000     0.297533   \n",
       "\n",
       "             crime  urban_influence  \n",
       "count  3024.000000      3024.000000  \n",
       "mean      0.020376         5.205688  \n",
       "std       0.013327         3.469448  \n",
       "min       0.000000         1.000000  \n",
       "25%       0.011210         2.000000  \n",
       "50%       0.018461         5.000000  \n",
       "75%       0.027261         8.000000  \n",
       "max       0.157014        12.000000  "
      ]
     },
     "execution_count": 222,
     "metadata": {},
     "output_type": "execute_result"
    }
   ],
   "source": [
    "data1.describe()"
   ]
  },
  {
   "cell_type": "markdown",
   "metadata": {},
   "source": [
    "All of the features besides the categorical **urban_influence** have strong outliers, as can be seen from the min and max values compared to the IQR."
   ]
  },
  {
   "cell_type": "code",
   "execution_count": 223,
   "metadata": {
    "collapsed": true
   },
   "outputs": [],
   "source": [
    "def get_outliers(df, multiplier=1.5):\n",
    "    stats = df.describe()\n",
    "    iqr = stats.loc['75%'] - stats.loc['25%']\n",
    "    lower = stats.loc['25%'] - multiplier * iqr\n",
    "    upper = stats.loc['75%'] + multiplier * iqr\n",
    "    return ((df < lower) | (df > upper))"
   ]
  },
  {
   "cell_type": "code",
   "execution_count": 224,
   "metadata": {},
   "outputs": [
    {
     "data": {
      "text/plain": [
       "1349"
      ]
     },
     "execution_count": 224,
     "metadata": {},
     "output_type": "execute_result"
    }
   ],
   "source": [
    "predictors = data1.drop('death_rate', axis=1)\n",
    "\n",
    "outliers = get_outliers(predictors)\n",
    "len(data1[outliers.any(axis=1)])"
   ]
  },
  {
   "cell_type": "markdown",
   "metadata": {},
   "source": [
    "More than 1/3 of the records contain outliers, using the standard definition."
   ]
  },
  {
   "cell_type": "code",
   "execution_count": 225,
   "metadata": {},
   "outputs": [
    {
     "data": {
      "text/plain": [
       "1052"
      ]
     },
     "execution_count": 225,
     "metadata": {},
     "output_type": "execute_result"
    }
   ],
   "source": [
    "strong_outliers = get_outliers(predictors, 2.0)\n",
    "len(data1[strong_outliers.any(axis=1)])"
   ]
  },
  {
   "cell_type": "code",
   "execution_count": 226,
   "metadata": {},
   "outputs": [
    {
     "data": {
      "text/plain": [
       "845"
      ]
     },
     "execution_count": 226,
     "metadata": {},
     "output_type": "execute_result"
    }
   ],
   "source": [
    "extreme_outliers = get_outliers(predictors, 2.5)\n",
    "len(data1[extreme_outliers.any(axis=1)])"
   ]
  },
  {
   "cell_type": "code",
   "execution_count": 227,
   "metadata": {},
   "outputs": [
    {
     "data": {
      "text/plain": [
       "217"
      ]
     },
     "execution_count": 227,
     "metadata": {},
     "output_type": "execute_result"
    }
   ],
   "source": [
    "len(data1[extreme_outliers.sum(axis=1) > 1])"
   ]
  },
  {
   "cell_type": "markdown",
   "metadata": {},
   "source": [
    "Removing even just the extreme outliers would take away almost 1/3 of the data, but removing records with 2 or more extreme outliers will reduce the dataset by only 7.5%. Try this first"
   ]
  },
  {
   "cell_type": "code",
   "execution_count": 228,
   "metadata": {
    "collapsed": true
   },
   "outputs": [],
   "source": [
    "data1 = data1.drop(data1[extreme_outliers.sum(axis=1) > 1].index)"
   ]
  },
  {
   "cell_type": "code",
   "execution_count": 229,
   "metadata": {},
   "outputs": [
    {
     "data": {
      "text/plain": [
       "2807"
      ]
     },
     "execution_count": 229,
     "metadata": {},
     "output_type": "execute_result"
    }
   ],
   "source": [
    "len(data1)"
   ]
  },
  {
   "cell_type": "markdown",
   "metadata": {},
   "source": [
    "Try a range of classifiers. "
   ]
  },
  {
   "cell_type": "code",
   "execution_count": 230,
   "metadata": {
    "collapsed": true
   },
   "outputs": [],
   "source": [
    "X1 = data1.drop('death_rate', axis=1)\n",
    "X1 = pd.get_dummies(X1, prefix='urb_inf_', columns=['urban_influence'])\n",
    "Y1 = data1.loc[:, 'death_rate']"
   ]
  },
  {
   "cell_type": "code",
   "execution_count": 231,
   "metadata": {
    "collapsed": true
   },
   "outputs": [],
   "source": [
    "from sklearn.preprocessing import RobustScaler\n",
    "robust = RobustScaler()\n",
    "\n",
    "from sklearn.metrics import matthews_corrcoef, make_scorer\n",
    "matthews = make_scorer(matthews_corrcoef)\n",
    "\n",
    "from sklearn.model_selection import cross_val_score"
   ]
  },
  {
   "cell_type": "code",
   "execution_count": 232,
   "metadata": {
    "collapsed": true
   },
   "outputs": [],
   "source": [
    "from sklearn.model_selection import cross_val_score\n",
    "\n",
    "from sklearn.neighbors import KNeighborsClassifier\n",
    "from sklearn.linear_model import LogisticRegression\n",
    "from sklearn.ensemble import GradientBoostingClassifier\n",
    "from sklearn.linear_model import SGDClassifier\n",
    "from sklearn.ensemble import RandomForestClassifier\n",
    "from sklearn.svm import SVC"
   ]
  },
  {
   "cell_type": "code",
   "execution_count": 233,
   "metadata": {
    "collapsed": true
   },
   "outputs": [],
   "source": [
    "from sklearn.model_selection import train_test_split\n",
    "X1_train, X1_test, Y1_train, Y1_test = train_test_split(X1, Y1, test_size=.35, random_state=13, stratify=Y1)"
   ]
  },
  {
   "cell_type": "code",
   "execution_count": 234,
   "metadata": {
    "collapsed": true
   },
   "outputs": [],
   "source": [
    "knn = KNeighborsClassifier()\n",
    "lrc = LogisticRegression(class_weight='balanced')\n",
    "gbc = GradientBoostingClassifier()\n",
    "sgd = SGDClassifier(class_weight='balanced', tol=1e-3)\n",
    "rfc = RandomForestClassifier(class_weight='balanced')\n",
    "svc = SVC(class_weight='balanced')"
   ]
  },
  {
   "cell_type": "code",
   "execution_count": 235,
   "metadata": {
    "collapsed": true
   },
   "outputs": [],
   "source": [
    "classifiers = [lrc, gbc, sgd, rfc, svc, knn]\n",
    "names = ['Logistic regression', 'Gradient boosting', 'SGD', 'Random forest', 'Support vector', 'K-Nearest neighbors']\n",
    "\n",
    "def run_trials(X, Y):\n",
    "    for name, clf in zip(names, classifiers):\n",
    "        %time cross_val_score(clf, robust.fit_transform(X), Y, scoring=matthews)\n",
    "        scores = cross_val_score(clf, robust.fit_transform(X), Y, scoring=matthews)\n",
    "        print('{} scores: {}'.format(name, scores))\n",
    "        print('Average score: {}'.format(np.mean(scores)))"
   ]
  },
  {
   "cell_type": "code",
   "execution_count": 236,
   "metadata": {},
   "outputs": [
    {
     "name": "stdout",
     "output_type": "stream",
     "text": [
      "CPU times: user 568 ms, sys: 17.4 ms, total: 585 ms\n",
      "Wall time: 207 ms\n",
      "Logistic regression scores: [ 0.03443237  0.05343197  0.05088997]\n",
      "Average score: 0.046251435521370315\n",
      "CPU times: user 9.04 s, sys: 37.8 ms, total: 9.08 s\n",
      "Wall time: 8.55 s\n",
      "Gradient boosting scores: [ 0.05046408  0.06009079  0.02630375]\n",
      "Average score: 0.04561953826537612\n",
      "CPU times: user 107 ms, sys: 2.01 ms, total: 109 ms\n",
      "Wall time: 40 ms\n",
      "SGD scores: [ 0.03116663  0.00780518  0.02192842]\n",
      "Average score: 0.02030007560371978\n",
      "CPU times: user 550 ms, sys: 10.8 ms, total: 561 ms\n",
      "Wall time: 141 ms\n",
      "Random forest scores: [ 0.03352014  0.0219548   0.03853582]\n",
      "Average score: 0.031336921788684545\n",
      "CPU times: user 497 ms, sys: 629 µs, total: 497 ms\n",
      "Wall time: 497 ms\n",
      "Support vector scores: [ 0.03941453  0.0659676   0.06859878]\n",
      "Average score: 0.05799363513685964\n",
      "CPU times: user 79 ms, sys: 140 µs, total: 79.1 ms\n",
      "Wall time: 79.1 ms\n",
      "K-Nearest neighbors scores: [ 0.0461835   0.04728616  0.03039442]\n",
      "Average score: 0.041288027211141214\n"
     ]
    }
   ],
   "source": [
    "run_trials(X1_train, Y1_train)"
   ]
  },
  {
   "cell_type": "markdown",
   "metadata": {},
   "source": [
    "All of the stock classifiers performed poorly. Try an alternative selection process starting with correlations with the target variable."
   ]
  },
  {
   "cell_type": "code",
   "execution_count": 237,
   "metadata": {},
   "outputs": [
    {
     "data": {
      "text/plain": [
       "< diploma        0.071415\n",
       "degree+          0.095094\n",
       "pop_inc          0.022837\n",
       "foreign_inc      0.002764\n",
       "unemployment     0.289674\n",
       "unemp_change     0.235700\n",
       "median_hh_inc    0.180909\n",
       "pov_change       0.142860\n",
       "median_age       0.056238\n",
       "hh_afr_am        0.116110\n",
       "hh_hisp          0.067249\n",
       "hh_female        0.077653\n",
       "hh_food_st       0.194698\n",
       "foreign_07       0.049836\n",
       "vets             0.182828\n",
       "vets_male        0.013722\n",
       "numeric          1.000000\n",
       "crime            0.191859\n",
       "Name: numeric, dtype: float64"
      ]
     },
     "execution_count": 237,
     "metadata": {},
     "output_type": "execute_result"
    }
   ],
   "source": [
    "bivariate = data.drop(['state', 'name', 'pop_2014', 'urban_influence'], axis=1).corr().abs()\n",
    "bivariate.loc['numeric']"
   ]
  },
  {
   "cell_type": "code",
   "execution_count": 238,
   "metadata": {
    "collapsed": true
   },
   "outputs": [],
   "source": [
    "features2 = list(bivariate[bivariate.loc['numeric'] > .05].index)\n",
    "features2.remove('numeric')"
   ]
  },
  {
   "cell_type": "code",
   "execution_count": 239,
   "metadata": {},
   "outputs": [
    {
     "data": {
      "text/html": [
       "<div>\n",
       "<style>\n",
       "    .dataframe thead tr:only-child th {\n",
       "        text-align: right;\n",
       "    }\n",
       "\n",
       "    .dataframe thead th {\n",
       "        text-align: left;\n",
       "    }\n",
       "\n",
       "    .dataframe tbody tr th {\n",
       "        vertical-align: top;\n",
       "    }\n",
       "</style>\n",
       "<table border=\"1\" class=\"dataframe\">\n",
       "  <thead>\n",
       "    <tr style=\"text-align: right;\">\n",
       "      <th></th>\n",
       "      <th>VIF</th>\n",
       "      <th>features</th>\n",
       "    </tr>\n",
       "  </thead>\n",
       "  <tbody>\n",
       "    <tr>\n",
       "      <th>0</th>\n",
       "      <td>18.400137</td>\n",
       "      <td>&lt; diploma</td>\n",
       "    </tr>\n",
       "    <tr>\n",
       "      <th>1</th>\n",
       "      <td>15.395662</td>\n",
       "      <td>degree+</td>\n",
       "    </tr>\n",
       "    <tr>\n",
       "      <th>2</th>\n",
       "      <td>15.916503</td>\n",
       "      <td>unemployment</td>\n",
       "    </tr>\n",
       "    <tr>\n",
       "      <th>3</th>\n",
       "      <td>4.046981</td>\n",
       "      <td>unemp_change</td>\n",
       "    </tr>\n",
       "    <tr>\n",
       "      <th>4</th>\n",
       "      <td>34.719466</td>\n",
       "      <td>median_hh_inc</td>\n",
       "    </tr>\n",
       "    <tr>\n",
       "      <th>5</th>\n",
       "      <td>1.200618</td>\n",
       "      <td>pov_change</td>\n",
       "    </tr>\n",
       "    <tr>\n",
       "      <th>6</th>\n",
       "      <td>71.139734</td>\n",
       "      <td>median_age</td>\n",
       "    </tr>\n",
       "    <tr>\n",
       "      <th>7</th>\n",
       "      <td>3.671207</td>\n",
       "      <td>hh_afr_am</td>\n",
       "    </tr>\n",
       "    <tr>\n",
       "      <th>8</th>\n",
       "      <td>2.370453</td>\n",
       "      <td>hh_hisp</td>\n",
       "    </tr>\n",
       "    <tr>\n",
       "      <th>9</th>\n",
       "      <td>28.840613</td>\n",
       "      <td>hh_female</td>\n",
       "    </tr>\n",
       "    <tr>\n",
       "      <th>10</th>\n",
       "      <td>13.572322</td>\n",
       "      <td>hh_food_st</td>\n",
       "    </tr>\n",
       "    <tr>\n",
       "      <th>11</th>\n",
       "      <td>30.184919</td>\n",
       "      <td>vets</td>\n",
       "    </tr>\n",
       "    <tr>\n",
       "      <th>12</th>\n",
       "      <td>4.466782</td>\n",
       "      <td>crime</td>\n",
       "    </tr>\n",
       "  </tbody>\n",
       "</table>\n",
       "</div>"
      ],
      "text/plain": [
       "          VIF       features\n",
       "0   18.400137      < diploma\n",
       "1   15.395662        degree+\n",
       "2   15.916503   unemployment\n",
       "3    4.046981   unemp_change\n",
       "4   34.719466  median_hh_inc\n",
       "5    1.200618     pov_change\n",
       "6   71.139734     median_age\n",
       "7    3.671207      hh_afr_am\n",
       "8    2.370453        hh_hisp\n",
       "9   28.840613      hh_female\n",
       "10  13.572322     hh_food_st\n",
       "11  30.184919           vets\n",
       "12   4.466782          crime"
      ]
     },
     "execution_count": 239,
     "metadata": {},
     "output_type": "execute_result"
    }
   ],
   "source": [
    "vif = pd.DataFrame()\n",
    "features = data.loc[:, features2]\n",
    "vif[\"VIF\"] = [variance_inflation_factor(features.values, i) for i in range(features.shape[1])]\n",
    "vif[\"features\"] = features.columns\n",
    "vif"
   ]
  },
  {
   "cell_type": "code",
   "execution_count": 240,
   "metadata": {},
   "outputs": [
    {
     "data": {
      "text/html": [
       "<div>\n",
       "<style>\n",
       "    .dataframe thead tr:only-child th {\n",
       "        text-align: right;\n",
       "    }\n",
       "\n",
       "    .dataframe thead th {\n",
       "        text-align: left;\n",
       "    }\n",
       "\n",
       "    .dataframe tbody tr th {\n",
       "        vertical-align: top;\n",
       "    }\n",
       "</style>\n",
       "<table border=\"1\" class=\"dataframe\">\n",
       "  <thead>\n",
       "    <tr style=\"text-align: right;\">\n",
       "      <th></th>\n",
       "      <th>VIF</th>\n",
       "      <th>features</th>\n",
       "    </tr>\n",
       "  </thead>\n",
       "  <tbody>\n",
       "    <tr>\n",
       "      <th>0</th>\n",
       "      <td>5.415383</td>\n",
       "      <td>degree+</td>\n",
       "    </tr>\n",
       "    <tr>\n",
       "      <th>1</th>\n",
       "      <td>3.569257</td>\n",
       "      <td>unemp_change</td>\n",
       "    </tr>\n",
       "    <tr>\n",
       "      <th>2</th>\n",
       "      <td>1.145696</td>\n",
       "      <td>pov_change</td>\n",
       "    </tr>\n",
       "    <tr>\n",
       "      <th>3</th>\n",
       "      <td>2.049218</td>\n",
       "      <td>hh_afr_am</td>\n",
       "    </tr>\n",
       "    <tr>\n",
       "      <th>4</th>\n",
       "      <td>1.447379</td>\n",
       "      <td>hh_hisp</td>\n",
       "    </tr>\n",
       "    <tr>\n",
       "      <th>5</th>\n",
       "      <td>5.283501</td>\n",
       "      <td>hh_food_st</td>\n",
       "    </tr>\n",
       "    <tr>\n",
       "      <th>6</th>\n",
       "      <td>8.603989</td>\n",
       "      <td>vets</td>\n",
       "    </tr>\n",
       "    <tr>\n",
       "      <th>7</th>\n",
       "      <td>4.206281</td>\n",
       "      <td>crime</td>\n",
       "    </tr>\n",
       "  </tbody>\n",
       "</table>\n",
       "</div>"
      ],
      "text/plain": [
       "        VIF      features\n",
       "0  5.415383       degree+\n",
       "1  3.569257  unemp_change\n",
       "2  1.145696    pov_change\n",
       "3  2.049218     hh_afr_am\n",
       "4  1.447379       hh_hisp\n",
       "5  5.283501    hh_food_st\n",
       "6  8.603989          vets\n",
       "7  4.206281         crime"
      ]
     },
     "execution_count": 240,
     "metadata": {},
     "output_type": "execute_result"
    }
   ],
   "source": [
    "max_VIF = max(vif['VIF'])\n",
    "while max_VIF > 10:\n",
    "    remove = list(vif[vif['VIF'] == max_VIF]['features'])\n",
    "    reduced = [feature for feature in features if feature not in remove]\n",
    "    features = data.loc[:, reduced]\n",
    "    vif = pd.DataFrame()\n",
    "    vif[\"VIF\"] = [variance_inflation_factor(features.values, i) for i in range(features.shape[1])]\n",
    "    vif[\"features\"] = features.columns\n",
    "    max_VIF = max(vif['VIF'])\n",
    "vif"
   ]
  },
  {
   "cell_type": "code",
   "execution_count": 305,
   "metadata": {},
   "outputs": [
    {
     "data": {
      "image/png": "[encoded data removed]",
      "text/plain": [
       "<matplotlib.figure.Figure at 0x1241db6d8>"
      ]
     },
     "metadata": {},
     "output_type": "display_data"
    }
   ],
   "source": [
    "urban_aa = sns.swarmplot(y=data['hh_afr_am'], x=data['urban_influence'])\n",
    "plt.ylim(.2, .8)\n",
    "urban_aa.figure.savefig('images/urban_aa')"
   ]
  },
  {
   "cell_type": "code",
   "execution_count": 306,
   "metadata": {},
   "outputs": [
    {
     "data": {
      "image/png": "[encoded data removed]",
      "text/plain": [
       "<matplotlib.figure.Figure at 0x120340f28>"
      ]
     },
     "metadata": {},
     "output_type": "display_data"
    }
   ],
   "source": [
    "urban_fs = sns.swarmplot(y=data['hh_food_st'], x=data['urban_influence'])\n",
    "plt.ylim(0,.4)\n",
    "urban_fs.figure.savefig('images/urban_fs')"
   ]
  },
  {
   "cell_type": "markdown",
   "metadata": {},
   "source": [
    "Patterns are apparent when lookiing at **urban_influence** vs. **hh_afr_am** and **hh_food_st** and could affect the results, especially with regard to **hh_afr_am**, but the relationships are complicated. There seems no reason to remove any of these features at this point."
   ]
  },
  {
   "cell_type": "code",
   "execution_count": 243,
   "metadata": {
    "collapsed": true
   },
   "outputs": [],
   "source": [
    "features2 = list(vif['features'])\n",
    "data2 = data.loc[:, features2]"
   ]
  },
  {
   "cell_type": "code",
   "execution_count": 244,
   "metadata": {},
   "outputs": [
    {
     "data": {
      "text/plain": [
       "1074"
      ]
     },
     "execution_count": 244,
     "metadata": {},
     "output_type": "execute_result"
    }
   ],
   "source": [
    "outliers2 = get_outliers(data2)\n",
    "len(data2[outliers2.any(axis=1)])"
   ]
  },
  {
   "cell_type": "code",
   "execution_count": 245,
   "metadata": {},
   "outputs": [
    {
     "data": {
      "text/plain": [
       "767"
      ]
     },
     "execution_count": 245,
     "metadata": {},
     "output_type": "execute_result"
    }
   ],
   "source": [
    "strong_outliers2 = get_outliers(data2, 2.0)\n",
    "len(data2[strong_outliers2.any(axis=1)])"
   ]
  },
  {
   "cell_type": "code",
   "execution_count": 246,
   "metadata": {},
   "outputs": [
    {
     "data": {
      "text/plain": [
       "579"
      ]
     },
     "execution_count": 246,
     "metadata": {},
     "output_type": "execute_result"
    }
   ],
   "source": [
    "extreme_outliers2 = get_outliers(data2, 2.5)\n",
    "len(data2[extreme_outliers2.any(axis=1)])"
   ]
  },
  {
   "cell_type": "code",
   "execution_count": 247,
   "metadata": {},
   "outputs": [
    {
     "data": {
      "text/plain": [
       "37"
      ]
     },
     "execution_count": 247,
     "metadata": {},
     "output_type": "execute_result"
    }
   ],
   "source": [
    "len(data2[extreme_outliers2.sum(axis=1) > 1])"
   ]
  },
  {
   "cell_type": "markdown",
   "metadata": {},
   "source": [
    "The number of samples with 2 or more extreme outliers is very small, so remove them."
   ]
  },
  {
   "cell_type": "code",
   "execution_count": 248,
   "metadata": {
    "collapsed": true
   },
   "outputs": [],
   "source": [
    "#features2 = features2 + ['urban_influence', 'death_rate']\n",
    "data2 = data.loc[:, features2 + ['urban_influence', 'death_rate']]\n",
    "data2 = data2.drop(list(extreme_outliers2[extreme_outliers2.sum(axis=1) > 1].index))"
   ]
  },
  {
   "cell_type": "code",
   "execution_count": 249,
   "metadata": {},
   "outputs": [
    {
     "data": {
      "text/plain": [
       "2987"
      ]
     },
     "execution_count": 249,
     "metadata": {},
     "output_type": "execute_result"
    }
   ],
   "source": [
    "len(data2)"
   ]
  },
  {
   "cell_type": "code",
   "execution_count": 250,
   "metadata": {
    "collapsed": true
   },
   "outputs": [],
   "source": [
    "X2 = data2.drop('death_rate', axis=1)\n",
    "X2 = pd.get_dummies(X2, prefix='urb_inf_', columns=['urban_influence'])\n",
    "Y2 = data2.loc[:, 'death_rate']"
   ]
  },
  {
   "cell_type": "code",
   "execution_count": 251,
   "metadata": {
    "collapsed": true
   },
   "outputs": [],
   "source": [
    "X2_train, X2_test, Y2_train, Y2_test = train_test_split(X2, Y2, test_size=.35, random_state=13, stratify=Y2)"
   ]
  },
  {
   "cell_type": "code",
   "execution_count": 252,
   "metadata": {},
   "outputs": [
    {
     "name": "stdout",
     "output_type": "stream",
     "text": [
      "CPU times: user 422 ms, sys: 9.38 ms, total: 432 ms\n",
      "Wall time: 153 ms\n",
      "Logistic regression scores: [ 0.0653542   0.06426051  0.05446288]\n",
      "Average score: 0.06135919647188473\n",
      "CPU times: user 8.76 s, sys: 51.6 ms, total: 8.81 s\n",
      "Wall time: 8.3 s\n",
      "Gradient boosting scores: [ 0.00232669  0.0361929   0.0396889 ]\n",
      "Average score: 0.026069500333945065\n",
      "CPU times: user 177 ms, sys: 5.36 ms, total: 182 ms\n",
      "Wall time: 63.3 ms\n",
      "SGD scores: [ 0.02094437  0.04044654  0.02220874]\n",
      "Average score: 0.02786655245839371\n",
      "CPU times: user 553 ms, sys: 11.5 ms, total: 564 ms\n",
      "Wall time: 142 ms\n",
      "Random forest scores: [ 0.0309834   0.04894366  0.02700419]\n",
      "Average score: 0.03564375017314263\n",
      "CPU times: user 516 ms, sys: 901 µs, total: 517 ms\n",
      "Wall time: 517 ms\n",
      "Support vector scores: [ 0.09077613  0.07653431  0.06100204]\n",
      "Average score: 0.07610416084229144\n",
      "CPU times: user 69.3 ms, sys: 164 µs, total: 69.5 ms\n",
      "Wall time: 69.4 ms\n",
      "K-Nearest neighbors scores: [ 0.04922203  0.05342833  0.04492025]\n",
      "Average score: 0.04919020524680038\n"
     ]
    }
   ],
   "source": [
    "run_trials(X2_train, Y2_train)"
   ]
  },
  {
   "cell_type": "markdown",
   "metadata": {},
   "source": [
    "The scores are significantly better for the best-performing algorithms (support vector and logistic regression), and only 37 outliers were dropped. Look at performance with all extreme outliers removed, since the total is only 2/3 the number with the first feature set."
   ]
  },
  {
   "cell_type": "code",
   "execution_count": 253,
   "metadata": {
    "collapsed": true
   },
   "outputs": [],
   "source": [
    "data3 = data.loc[:, features2 + ['urban_influence', 'death_rate']]\n",
    "data3 = data3.drop(list(extreme_outliers2[extreme_outliers2.any(axis=1)].index))"
   ]
  },
  {
   "cell_type": "code",
   "execution_count": 254,
   "metadata": {
    "collapsed": true
   },
   "outputs": [],
   "source": [
    "X3 = data3.drop('death_rate', axis=1)\n",
    "X3 = pd.get_dummies(X3, prefix='urb_inf_', columns=['urban_influence'])\n",
    "Y3 = data3.loc[:, 'death_rate']\n",
    "X3_train, X3_test, Y3_train, Y3_test = train_test_split(X3, Y3, test_size=.35, random_state=13, stratify=Y3)"
   ]
  },
  {
   "cell_type": "code",
   "execution_count": 255,
   "metadata": {},
   "outputs": [
    {
     "name": "stdout",
     "output_type": "stream",
     "text": [
      "CPU times: user 289 ms, sys: 5.86 ms, total: 294 ms\n",
      "Wall time: 104 ms\n",
      "Logistic regression scores: [ 0.03824766  0.0527296   0.05058477]\n",
      "Average score: 0.04718734470516132\n",
      "CPU times: user 7.77 s, sys: 48 ms, total: 7.82 s\n",
      "Wall time: 7.32 s\n",
      "Gradient boosting scores: [ 0.05263331  0.03446823  0.04401776]\n",
      "Average score: 0.04370643341499889\n",
      "CPU times: user 153 ms, sys: 2.35 ms, total: 156 ms\n",
      "Wall time: 55.5 ms\n",
      "SGD scores: [ 0.02639813  0.0488977   0.03841977]\n",
      "Average score: 0.037905197448455864\n",
      "CPU times: user 455 ms, sys: 9.33 ms, total: 465 ms\n",
      "Wall time: 119 ms\n",
      "Random forest scores: [ 0.03312457  0.05243834  0.03400426]\n",
      "Average score: 0.039855721997155584\n",
      "CPU times: user 349 ms, sys: 433 µs, total: 350 ms\n",
      "Wall time: 349 ms\n",
      "Support vector scores: [ 0.05955823  0.04819215  0.06224929]\n",
      "Average score: 0.05666656026190261\n",
      "CPU times: user 61.8 ms, sys: 147 µs, total: 62 ms\n",
      "Wall time: 61.9 ms\n",
      "K-Nearest neighbors scores: [ 0.04391032  0.04042087  0.04513987]\n",
      "Average score: 0.04315702109785544\n"
     ]
    }
   ],
   "source": [
    "run_trials(X3_train, Y3_train)"
   ]
  },
  {
   "cell_type": "markdown",
   "metadata": {},
   "source": [
    "With more outliers removed, performance is not as good. Use the second set minus the most extreme outliers, but combine to form fewer targets.  "
   ]
  },
  {
   "cell_type": "code",
   "execution_count": 256,
   "metadata": {
    "collapsed": true
   },
   "outputs": [],
   "source": [
    "Y2_16 = Y2.apply(lambda x: '0-1.9' if x == '<2' else x)"
   ]
  },
  {
   "cell_type": "code",
   "execution_count": 257,
   "metadata": {
    "collapsed": true
   },
   "outputs": [],
   "source": [
    "def combine_targets(input):\n",
    "    targets = sorted(input.unique(), key=lambda x: int(re.search('\\d+(?=-)', x).group()))\n",
    "    first = []\n",
    "    second = []\n",
    "    for i, r in enumerate(targets):\n",
    "        first.append(r) if i % 2 == 0 else second.append(r)\n",
    "    if len(first) != len(second):\n",
    "        second.append('30-31.9')\n",
    "    conversions = {}\n",
    "    for start, end in zip(first, second):\n",
    "        new_value = re.search('\\d+-', start).group() + re.search('(?<=-)\\d+.\\d+', end).group()\n",
    "        conversions.update(dict.fromkeys([start, end], new_value))\n",
    "    return input.apply(lambda x: conversions[x])"
   ]
  },
  {
   "cell_type": "code",
   "execution_count": 258,
   "metadata": {
    "collapsed": true
   },
   "outputs": [],
   "source": [
    "Y2_8 = combine_targets(Y2_16)"
   ]
  },
  {
   "cell_type": "code",
   "execution_count": 259,
   "metadata": {
    "collapsed": true
   },
   "outputs": [],
   "source": [
    "Y2_8_train = Y2_8[list(Y2_train.index)]\n",
    "Y2_8_test = Y2_8[list(Y2_test.index)]"
   ]
  },
  {
   "cell_type": "code",
   "execution_count": 260,
   "metadata": {},
   "outputs": [
    {
     "name": "stdout",
     "output_type": "stream",
     "text": [
      "CPU times: user 221 ms, sys: 4.23 ms, total: 225 ms\n",
      "Wall time: 77.1 ms\n",
      "Logistic regression scores: [ 0.13495088  0.16425267  0.1225845 ]\n",
      "Average score: 0.14059601710547753\n",
      "CPU times: user 4.65 s, sys: 16.9 ms, total: 4.66 s\n",
      "Wall time: 4.12 s\n",
      "Gradient boosting scores: [ 0.1218751   0.1012354   0.07498427]\n",
      "Average score: 0.09936492091276002\n",
      "CPU times: user 117 ms, sys: 2.28 ms, total: 119 ms\n",
      "Wall time: 40.9 ms\n",
      "SGD scores: [ 0.07126543  0.08170275  0.08586773]\n",
      "Average score: 0.07961197155500409\n",
      "CPU times: user 469 ms, sys: 9.74 ms, total: 478 ms\n",
      "Wall time: 120 ms\n",
      "Random forest scores: [ 0.07837412  0.08618753  0.06216872]\n",
      "Average score: 0.0755767887246385\n",
      "CPU times: user 444 ms, sys: 865 µs, total: 445 ms\n",
      "Wall time: 445 ms\n",
      "Support vector scores: [ 0.13318047  0.14307468  0.12523275]\n",
      "Average score: 0.13382929923377543\n",
      "CPU times: user 66.5 ms, sys: 179 µs, total: 66.7 ms\n",
      "Wall time: 66.6 ms\n",
      "K-Nearest neighbors scores: [ 0.0957713   0.06098616  0.06262617]\n",
      "Average score: 0.07312787835971878\n"
     ]
    }
   ],
   "source": [
    "run_trials(X2_train, Y2_8_train)"
   ]
  },
  {
   "cell_type": "markdown",
   "metadata": {},
   "source": [
    "There was significant improvement, but performance is still poor. Try reducing to 4 classes."
   ]
  },
  {
   "cell_type": "code",
   "execution_count": 261,
   "metadata": {
    "collapsed": true
   },
   "outputs": [],
   "source": [
    "Y2_4_train = combine_targets(Y2_8_train)\n",
    "Y2_4_test = combine_targets(Y2_8_test)"
   ]
  },
  {
   "cell_type": "code",
   "execution_count": 262,
   "metadata": {},
   "outputs": [
    {
     "name": "stdout",
     "output_type": "stream",
     "text": [
      "CPU times: user 138 ms, sys: 3.76 ms, total: 142 ms\n",
      "Wall time: 48.1 ms\n",
      "Logistic regression scores: [ 0.24084626  0.24144025  0.2268742 ]\n",
      "Average score: 0.2363869043773474\n",
      "CPU times: user 2.57 s, sys: 17.5 ms, total: 2.59 s\n",
      "Wall time: 2.05 s\n",
      "Gradient boosting scores: [ 0.23331993  0.26041283  0.16790855]\n",
      "Average score: 0.22054710424422433\n",
      "CPU times: user 85.1 ms, sys: 1.48 ms, total: 86.6 ms\n",
      "Wall time: 29.9 ms\n",
      "SGD scores: [ 0.17055235  0.25351137  0.08335964]\n",
      "Average score: 0.16914112121067248\n",
      "CPU times: user 426 ms, sys: 9.2 ms, total: 435 ms\n",
      "Wall time: 109 ms\n",
      "Random forest scores: [ 0.17093996  0.17853486  0.11586628]\n",
      "Average score: 0.1551136985866961\n",
      "CPU times: user 355 ms, sys: 1.35 ms, total: 356 ms\n",
      "Wall time: 356 ms\n",
      "Support vector scores: [ 0.2400265   0.20753516  0.20853107]\n",
      "Average score: 0.21869757767825235\n",
      "CPU times: user 66.9 ms, sys: 261 µs, total: 67.1 ms\n",
      "Wall time: 67.1 ms\n",
      "K-Nearest neighbors scores: [ 0.18547823  0.21382778  0.19031909]\n",
      "Average score: 0.19654169790769171\n"
     ]
    }
   ],
   "source": [
    "run_trials(X2_train, Y2_4_train)"
   ]
  },
  {
   "cell_type": "code",
   "execution_count": 263,
   "metadata": {
    "collapsed": true
   },
   "outputs": [],
   "source": [
    "Y2_2_train = combine_targets(Y2_4_train)\n",
    "Y2_2_test = combine_targets(Y2_4_test)"
   ]
  },
  {
   "cell_type": "code",
   "execution_count": 264,
   "metadata": {},
   "outputs": [
    {
     "name": "stdout",
     "output_type": "stream",
     "text": [
      "CPU times: user 29.9 ms, sys: 1.47 ms, total: 31.4 ms\n",
      "Wall time: 30.1 ms\n",
      "Logistic regression scores: [ 0.36626722  0.42487928  0.38697557]\n",
      "Average score: 0.3927073577578684\n",
      "CPU times: user 480 ms, sys: 1.34 ms, total: 481 ms\n",
      "Wall time: 481 ms\n",
      "Gradient boosting scores: [ 0.29913219  0.41161253  0.29505206]\n",
      "Average score: 0.3352655952603183\n",
      "CPU times: user 20.7 ms, sys: 235 µs, total: 20.9 ms\n",
      "Wall time: 20.8 ms\n",
      "SGD scores: [ 0.1930899   0.06580061  0.33214873]\n",
      "Average score: 0.19701308102103007\n",
      "CPU times: user 92.2 ms, sys: 274 µs, total: 92.5 ms\n",
      "Wall time: 92.5 ms\n",
      "Random forest scores: [ 0.25932161  0.38020361  0.24310987]\n",
      "Average score: 0.29421169642506656\n",
      "CPU times: user 218 ms, sys: 591 µs, total: 218 ms\n",
      "Wall time: 218 ms\n",
      "Support vector scores: [ 0.33687477  0.43596485  0.4040663 ]\n",
      "Average score: 0.39230197448291687\n",
      "CPU times: user 65.3 ms, sys: 280 µs, total: 65.5 ms\n",
      "Wall time: 65.3 ms\n",
      "K-Nearest neighbors scores: [ 0.28190545  0.36722807  0.22763312]\n",
      "Average score: 0.2922555465753007\n"
     ]
    }
   ],
   "source": [
    "run_trials(X2_train, Y2_2_train)"
   ]
  },
  {
   "cell_type": "raw",
   "metadata": {},
   "source": [
    "It appears that binary classification is the best that the data can do resonably well. Logistic regression and support vector performed the best, with their results deiffering by an insignificant .0004, so see how they do on the test set."
   ]
  },
  {
   "cell_type": "code",
   "execution_count": 265,
   "metadata": {},
   "outputs": [
    {
     "data": {
      "text/plain": [
       "0.41847912457764941"
      ]
     },
     "execution_count": 265,
     "metadata": {},
     "output_type": "execute_result"
    }
   ],
   "source": [
    "svc.fit(robust.fit_transform(X2_train), Y2_2_train)\n",
    "matthews_corrcoef(Y2_2_test, svc.predict(robust.fit_transform(X2_test)))"
   ]
  },
  {
   "cell_type": "code",
   "execution_count": 266,
   "metadata": {},
   "outputs": [
    {
     "data": {
      "text/plain": [
       "0.37060868281691173"
      ]
     },
     "execution_count": 266,
     "metadata": {},
     "output_type": "execute_result"
    }
   ],
   "source": [
    "lrc.fit(robust.fit_transform(X2_train), Y2_2_train)\n",
    "matthews_corrcoef(Y2_2_test, lrc.predict(robust.fit_transform(X2_test)))"
   ]
  },
  {
   "cell_type": "markdown",
   "metadata": {},
   "source": [
    "Support vector performs better on the test set, but logistic regression is more interpretable, so optimize both. A quick check of results with and without the **30+** target values showed that the model performs better with them included, so leave them in."
   ]
  },
  {
   "cell_type": "code",
   "execution_count": 267,
   "metadata": {
    "collapsed": true
   },
   "outputs": [],
   "source": [
    "binary = data_31.copy()\n",
    "binary['crime'] = (binary['viol_crime'] + binary['prop_crime'])\n",
    "binary = binary.drop(['viol_crime', 'prop_crime', 'urban_influence'], axis=1)\n",
    "binary = binary.loc[:, features2]\n",
    "\n",
    "extreme_outliers3 = get_outliers(binary, 2.5)\n",
    "\n",
    "binary['urban_influence'] = data_31['urban_influence']\n",
    "binary['high_death_rate'] = np.where(data_31['numeric'] > 15, 1, 0)\n",
    "\n",
    "binary = binary.drop(list(extreme_outliers3[extreme_outliers3.sum(axis=1) > 1].index))\n"
   ]
  },
  {
   "cell_type": "code",
   "execution_count": 268,
   "metadata": {
    "collapsed": true
   },
   "outputs": [],
   "source": [
    "X = binary.drop('high_death_rate', axis=1)\n",
    "X = pd.get_dummies(X, prefix='urb_inf_', columns=['urban_influence'])\n",
    "Y = binary.loc[:, 'high_death_rate']"
   ]
  },
  {
   "cell_type": "code",
   "execution_count": 269,
   "metadata": {
    "collapsed": true
   },
   "outputs": [],
   "source": [
    "from sklearn.model_selection import GridSearchCV\n",
    "from sklearn.metrics import roc_auc_score\n",
    "from sklearn.metrics import confusion_matrix"
   ]
  },
  {
   "cell_type": "code",
   "execution_count": 270,
   "metadata": {
    "collapsed": true
   },
   "outputs": [],
   "source": [
    "def optimize(clf, params, X, Y, t_size, rand):\n",
    "    X_train, X_test, Y_train, Y_test = train_test_split(X, Y, test_size=t_size, random_state=rand, stratify=Y)\n",
    "    model = GridSearchCV(clf, param_grid=params, scoring=matthews)\n",
    "    model.fit(robust.fit_transform(X_train), Y_train)\n",
    "    print('Optimal parameters: {}'.format(model.best_params_))\n",
    "    Xr_test = robust.fit_transform(X_test)\n",
    "    preds = model.predict(Xr_test)\n",
    "    print('Matthews score: {}'.format(matthews_corrcoef(Y_test, preds)))\n",
    "    print('ROC-AUC score: {}'.format(roc_auc_score(Y_test, preds)))\n",
    "    print(confusion_matrix(Y_test, preds))\n",
    "    residuals = pd.DataFrame(model.best_estimator_.decision_function(Xr_test))\n",
    "    plt.scatter(residuals.index, residuals)\n",
    "    return model"
   ]
  },
  {
   "cell_type": "code",
   "execution_count": 271,
   "metadata": {
    "collapsed": true
   },
   "outputs": [],
   "source": [
    "lrc_params = [{ 'penalty': ['l1', 'l2'], 'tol': [1e-4, 1e-3], 'C': [1e-2, 1e-1, 1, 2, 3, 4, 5],\n",
    "               'solver': ['liblinear'], 'multi_class': ['ovr']},\n",
    "            { 'penalty': ['l2'], 'tol': [1e-4, 1e-3], 'C': [1e-2, 1e-1, 1, 2, 3, 4, 5],\n",
    "             'solver': ['newton-cg', 'lbfgs'], 'multi_class': ['ovr', 'multinomial']}]\n",
    "\n",
    "# The sag and saga solvers did not converge, and neither did the other solvers for tolerance values below .0001"
   ]
  },
  {
   "cell_type": "code",
   "execution_count": 272,
   "metadata": {},
   "outputs": [
    {
     "name": "stdout",
     "output_type": "stream",
     "text": [
      "Optimal parameters: {'C': 4, 'multi_class': 'ovr', 'penalty': 'l2', 'solver': 'liblinear', 'tol': 0.001}\n",
      "Matthews score: 0.3480482448667789\n",
      "ROC-AUC score: 0.683252427184466\n",
      "[[281 131]\n",
      " [ 65 141]]\n"
     ]
    },
    {
     "data": {
      "image/png": "[encoded data removed]",
      "text/plain": [
       "<matplotlib.figure.Figure at 0x11ca09748>"
      ]
     },
     "metadata": {},
     "output_type": "display_data"
    }
   ],
   "source": [
    "lrc_1 = optimize(lrc, lrc_params, X, Y, 0.2, 13)"
   ]
  },
  {
   "cell_type": "code",
   "execution_count": 273,
   "metadata": {},
   "outputs": [
    {
     "name": "stdout",
     "output_type": "stream",
     "text": [
      "Optimal parameters: {'C': 5, 'multi_class': 'ovr', 'penalty': 'l2', 'solver': 'liblinear', 'tol': 0.0001}\n",
      "Matthews score: 0.3708142160452492\n",
      "ROC-AUC score: 0.6953883495145631\n",
      "[[283 129]\n",
      " [ 61 145]]\n"
     ]
    },
    {
     "data": {
      "image/png": "[encoded data removed]",
      "text/plain": [
       "<matplotlib.figure.Figure at 0x11c94d5c0>"
      ]
     },
     "metadata": {},
     "output_type": "display_data"
    }
   ],
   "source": [
    "lrc_2 = optimize(lrc, lrc_params, X, Y, 0.2, 37)"
   ]
  },
  {
   "cell_type": "markdown",
   "metadata": {},
   "source": [
    "A different data split results in slightly different optimal values for C and the penalty, as well as significant differences in the scores, indicating potential instabillity. But the confusion matrices show the models consistently performing fairly well on classifying the high death rates and very poorly on the low death rates. In both cases the residuals are evenly distributed around 0.  "
   ]
  },
  {
   "cell_type": "code",
   "execution_count": 274,
   "metadata": {
    "collapsed": true
   },
   "outputs": [],
   "source": [
    "svc_params = {'C': [0.5, 1, 4, 7], 'kernel': ['linear', 'poly', 'rbf'],\n",
    "             'gamma': [0.1, 0.12, 0.14], 'tol': [1e-7, 5e-7, 1e-6, 5e-6]}"
   ]
  },
  {
   "cell_type": "code",
   "execution_count": 275,
   "metadata": {},
   "outputs": [
    {
     "name": "stdout",
     "output_type": "stream",
     "text": [
      "Optimal parameters: {'C': 1, 'gamma': 0.14, 'kernel': 'rbf', 'tol': 1e-07}\n",
      "Matthews score: 0.43405167074723355\n",
      "ROC-AUC score: 0.7281553398058253\n",
      "[[296 116]\n",
      " [ 54 152]]\n"
     ]
    },
    {
     "data": {
      "image/png": "[encoded data removed]",
      "text/plain": [
       "<matplotlib.figure.Figure at 0x11d8ffda0>"
      ]
     },
     "metadata": {},
     "output_type": "display_data"
    }
   ],
   "source": [
    "svc_1 = optimize(svc, svc_params, X, Y, .2, 13)"
   ]
  },
  {
   "cell_type": "code",
   "execution_count": 276,
   "metadata": {},
   "outputs": [
    {
     "name": "stdout",
     "output_type": "stream",
     "text": [
      "Optimal parameters: {'C': 1, 'gamma': 0.1, 'kernel': 'rbf', 'tol': 1e-07}\n",
      "Matthews score: 0.43405167074723355\n",
      "ROC-AUC score: 0.7281553398058253\n",
      "[[296 116]\n",
      " [ 54 152]]\n"
     ]
    },
    {
     "data": {
      "image/png": "[encoded data removed]",
      "text/plain": [
       "<matplotlib.figure.Figure at 0x11d51f358>"
      ]
     },
     "metadata": {},
     "output_type": "display_data"
    }
   ],
   "source": [
    "svc_2 = optimize(svc, svc_params, X, Y, .2, 37)"
   ]
  },
  {
   "cell_type": "markdown",
   "metadata": {},
   "source": [
    "The support vector model is extremely stable, with exactly the same performance and the same optimal parameter selection, with the minor exception of slightly different values for the gamma parameter. (The residuals plots also show differences.) As with the logistic regression, the residuals plot does not show heteroscedasticity, but the values are concentrated in a narrower band around 0."
   ]
  },
  {
   "cell_type": "code",
   "execution_count": 277,
   "metadata": {},
   "outputs": [
    {
     "name": "stdout",
     "output_type": "stream",
     "text": [
      "Optimal parameters: {'C': 0.1, 'multi_class': 'ovr', 'penalty': 'l2', 'solver': 'liblinear', 'tol': 0.0001}\n",
      "Matthews score: 0.31603366505385294\n",
      "ROC-AUC score: 0.6674757281553397\n",
      "[[260 152]\n",
      " [ 61 145]]\n"
     ]
    },
    {
     "data": {
      "image/png": "[encoded data removed]",
      "text/plain": [
       "<matplotlib.figure.Figure at 0x11ddde748>"
      ]
     },
     "metadata": {},
     "output_type": "display_data"
    }
   ],
   "source": [
    "X_mod = X.drop('hh_afr_am', axis=1)\n",
    "lrc_3 = optimize(lrc, lrc_params, X_mod, Y, 0.2, 13)"
   ]
  },
  {
   "cell_type": "code",
   "execution_count": 278,
   "metadata": {},
   "outputs": [
    {
     "name": "stdout",
     "output_type": "stream",
     "text": [
      "Optimal parameters: {'C': 0.01, 'multi_class': 'ovr', 'penalty': 'l2', 'solver': 'liblinear', 'tol': 0.0001}\n",
      "Matthews score: 0.2918237357523379\n",
      "ROC-AUC score: 0.654126213592233\n",
      "[[267 145]\n",
      " [ 70 136]]\n"
     ]
    },
    {
     "data": {
      "image/png": "[encoded data removed]",
      "text/plain": [
       "<matplotlib.figure.Figure at 0x11d58b898>"
      ]
     },
     "metadata": {},
     "output_type": "display_data"
    }
   ],
   "source": [
    "lrc_4 = optimize(lrc, lrc_params, X_mod, Y, 0.2, 37)"
   ]
  },
  {
   "cell_type": "markdown",
   "metadata": {},
   "source": [
    "The model is neither more accurate nor more stable with **hh_afr_am** removed to reduce possible interdependence between **urb_inf_1.0** and **urb_inf_2.0**."
   ]
  },
  {
   "cell_type": "markdown",
   "metadata": {},
   "source": [
    "Shifting the high/low threshold for the death rate could help to balance the classes."
   ]
  },
  {
   "cell_type": "code",
   "execution_count": 279,
   "metadata": {},
   "outputs": [
    {
     "name": "stdout",
     "output_type": "stream",
     "text": [
      "1688 1402\n"
     ]
    }
   ],
   "source": [
    "Y_bal = np.where(data_31.drop(extreme_outliers3[extreme_outliers3.sum(axis=1) > 1].index)['numeric'] < 15, 0, 1)\n",
    "print(len(Y_bal[Y_bal == 0]), len(Y_bal[Y_bal == 1]))"
   ]
  },
  {
   "cell_type": "markdown",
   "metadata": {},
   "source": [
    "This is the most balanced split possible."
   ]
  },
  {
   "cell_type": "code",
   "execution_count": 280,
   "metadata": {},
   "outputs": [
    {
     "name": "stdout",
     "output_type": "stream",
     "text": [
      "Optimal parameters: {'C': 0.01, 'multi_class': 'ovr', 'penalty': 'l2', 'solver': 'newton-cg', 'tol': 0.0001}\n",
      "Matthews score: 0.38946920889796594\n",
      "ROC-AUC score: 0.6955938292476754\n",
      "[[230 108]\n",
      " [ 81 199]]\n"
     ]
    },
    {
     "data": {
      "image/png": "[encoded data removed]",
      "text/plain": [
       "<matplotlib.figure.Figure at 0x11dddb2b0>"
      ]
     },
     "metadata": {},
     "output_type": "display_data"
    }
   ],
   "source": [
    "lrc_5 = optimize(lrc, lrc_params, X, Y_bal, 0.2, 13)"
   ]
  },
  {
   "cell_type": "code",
   "execution_count": 281,
   "metadata": {},
   "outputs": [
    {
     "name": "stdout",
     "output_type": "stream",
     "text": [
      "Optimal parameters: {'C': 5, 'multi_class': 'ovr', 'penalty': 'l1', 'solver': 'liblinear', 'tol': 0.001}\n",
      "Matthews score: 0.3770688213404151\n",
      "ROC-AUC score: 0.689370245139476\n",
      "[[227 111]\n",
      " [ 82 198]]\n"
     ]
    },
    {
     "data": {
      "image/png": "[encoded data removed]",
      "text/plain": [
       "<matplotlib.figure.Figure at 0x11d640a58>"
      ]
     },
     "metadata": {},
     "output_type": "display_data"
    }
   ],
   "source": [
    "lrc_6 = optimize(lrc, lrc_params, X, Y_bal, 0.2, 37)"
   ]
  },
  {
   "cell_type": "code",
   "execution_count": 282,
   "metadata": {},
   "outputs": [
    {
     "name": "stdout",
     "output_type": "stream",
     "text": [
      "Optimal parameters: {'C': 1, 'gamma': 0.12, 'kernel': 'rbf', 'tol': 1e-07}\n",
      "Matthews score: 0.4598405125716997\n",
      "ROC-AUC score: 0.7308960270498732\n",
      "[[243  95]\n",
      " [ 72 208]]\n"
     ]
    },
    {
     "data": {
      "image/png": "[encoded data removed]",
      "text/plain": [
       "<matplotlib.figure.Figure at 0x11d58bac8>"
      ]
     },
     "metadata": {},
     "output_type": "display_data"
    }
   ],
   "source": [
    "svc_3 = optimize(svc, svc_params, X, Y_bal, .2, 13)"
   ]
  },
  {
   "cell_type": "code",
   "execution_count": 283,
   "metadata": {},
   "outputs": [
    {
     "name": "stdout",
     "output_type": "stream",
     "text": [
      "Optimal parameters: {'C': 4, 'gamma': 0.1, 'kernel': 'rbf', 'tol': 1e-07}\n",
      "Matthews score: 0.45927051494714977\n",
      "ROC-AUC score: 0.7306424344885883\n",
      "[[238 100]\n",
      " [ 68 212]]\n"
     ]
    },
    {
     "data": {
      "image/png": "[encoded data removed]",
      "text/plain": [
       "<matplotlib.figure.Figure at 0x11dddb780>"
      ]
     },
     "metadata": {},
     "output_type": "display_data"
    }
   ],
   "source": [
    "svc_4 = optimize(svc, svc_params, X, Y_bal, .2, 37)"
   ]
  },
  {
   "cell_type": "markdown",
   "metadata": {},
   "source": [
    "Changing the death rate split from almost 2:1 to approximately 7:6 improved the results only slightly, indicating that the problem lies not with the class balance but with the predictive power of the data itself. With the more balanced split, however, the errors were more evenly distributed among false positives and false negatives, and the difference in the optimal gamma parameters for the two runs went from .1/.14 to .1/.12, so support vector with the more balanced split is the best model."
   ]
  },
  {
   "cell_type": "code",
   "execution_count": 284,
   "metadata": {},
   "outputs": [
    {
     "name": "stdout",
     "output_type": "stream",
     "text": [
      "hh_food_st   :  0.61705  OR: 1.85 \n",
      "crime        :  0.44606  OR: 1.56 \n",
      "vets         :  0.32455  OR: 1.38 \n",
      "urb_inf__1.0 :  0.22706  OR: 1.25 \n",
      "pov_change   :  0.17931  OR: 1.20 \n",
      "urb_inf__11. :  0.08139  OR: 1.08 \n",
      "urb_inf__7.0 :  0.05774  OR: 1.06 \n",
      "urb_inf__2.0 :  0.03110  OR: 1.03 \n",
      "urb_inf__10. :  0.03007  OR: 1.03 \n",
      "urb_inf__4.0 :  0.02559  OR: 1.03 \n",
      "urb_inf__3.0 : -0.00272  OR: 1.00 \n",
      "hh_hisp      : -0.04780  OR: 0.95 \n",
      "urb_inf__6.0 : -0.05334  OR: 0.95 \n",
      "degree+      : -0.05853  OR: 0.94 \n",
      "urb_inf__12. : -0.06332  OR: 0.94 \n",
      "urb_inf__9.0 : -0.06601  OR: 0.94 \n",
      "urb_inf__8.0 : -0.09436  OR: 0.91 \n",
      "urb_inf__5.0 : -0.17320  OR: 0.84 \n",
      "unemp_change : -0.30987  OR: 0.73 \n",
      "hh_afr_am    : -0.38441  OR: 0.68 \n"
     ]
    }
   ],
   "source": [
    "feature_rank = zip(X.columns, lrc_5.best_estimator_.coef_[0])\n",
    "results = sorted(feature_rank, key=lambda tup: tup[1], reverse=True)\n",
    "for f, r in results:\n",
    "    print('{:13.12}: {:8.5f}  OR:{:5.2f} '.format(f, r, np.exp(r)))"
   ]
  },
  {
   "cell_type": "code",
   "execution_count": 285,
   "metadata": {},
   "outputs": [
    {
     "name": "stdout",
     "output_type": "stream",
     "text": [
      "hh_food_st   :  1.25864  OR: 3.52 \n",
      "urb_inf__1.0 :  0.72846  OR: 2.07 \n",
      "crime        :  0.69014  OR: 1.99 \n",
      "vets         :  0.58358  OR: 1.79 \n",
      "urb_inf__11. :  0.58141  OR: 1.79 \n",
      "urb_inf__7.0 :  0.29108  OR: 1.34 \n",
      "urb_inf__10. :  0.28677  OR: 1.33 \n",
      "urb_inf__4.0 :  0.25194  OR: 1.29 \n",
      "pov_change   :  0.24712  OR: 1.28 \n",
      "degree+      :  0.12775  OR: 1.14 \n",
      "urb_inf__2.0 :  0.06348  OR: 1.07 \n",
      "urb_inf__9.0 :  0.03440  OR: 1.03 \n",
      "hh_hisp      : -0.06304  OR: 0.94 \n",
      "urb_inf__8.0 : -0.08399  OR: 0.92 \n",
      "urb_inf__3.0 : -0.10701  OR: 0.90 \n",
      "urb_inf__6.0 : -0.23563  OR: 0.79 \n",
      "urb_inf__12. : -0.31225  OR: 0.73 \n",
      "unemp_change : -0.53060  OR: 0.59 \n",
      "hh_afr_am    : -0.59546  OR: 0.55 \n",
      "urb_inf__5.0 : -0.79900  OR: 0.45 \n"
     ]
    }
   ],
   "source": [
    "feature_rank = zip(X.columns, lrc_6.best_estimator_.coef_[0])\n",
    "results = sorted(feature_rank, key=lambda tup: tup[1], reverse=True)\n",
    "for f, r in results:\n",
    "    print('{:13.12}: {:8.5f}  OR:{:5.2f} '.format(f, r, np.exp(r)))"
   ]
  },
  {
   "cell_type": "markdown",
   "metadata": {
    "collapsed": true
   },
   "source": [
    "Aside from a few juxtaposed neighbors, the features are in the same order."
   ]
  },
  {
   "cell_type": "markdown",
   "metadata": {},
   "source": [
    "In order to see the difference made by feature selection, run the logistic regression and support vector models on the full dataset — all the features and all the samples."
   ]
  },
  {
   "cell_type": "code",
   "execution_count": 286,
   "metadata": {
    "collapsed": true
   },
   "outputs": [],
   "source": [
    "full = data_31.copy()\n",
    "full['crime'] = (full['viol_crime'] + full['prop_crime'])\n",
    "full = full.drop(['state', 'name', 'urban_influence', 'pop_2014', 'viol_crime', 'prop_crime',\n",
    "                  'death_rate', 'numeric'], axis=1)"
   ]
  },
  {
   "cell_type": "code",
   "execution_count": 287,
   "metadata": {
    "collapsed": true
   },
   "outputs": [],
   "source": [
    "full['urban_influence'] = data_31['urban_influence']\n",
    "full['high_death_rate'] = np.where(data_31['numeric'] < 15, 0, 1)"
   ]
  },
  {
   "cell_type": "code",
   "execution_count": 288,
   "metadata": {
    "collapsed": true
   },
   "outputs": [],
   "source": [
    "X_full = full.drop('high_death_rate', axis=1)\n",
    "X_full = pd.get_dummies(X_full, prefix='urb_inf_', columns=['urban_influence'])\n",
    "Y_full = full.loc[:, 'high_death_rate']"
   ]
  },
  {
   "cell_type": "code",
   "execution_count": 289,
   "metadata": {},
   "outputs": [
    {
     "name": "stdout",
     "output_type": "stream",
     "text": [
      "Optimal parameters: {'C': 0.1, 'multi_class': 'ovr', 'penalty': 'l2', 'solver': 'lbfgs', 'tol': 0.0001}\n",
      "Matthews score: 0.4561386121555704\n",
      "ROC-AUC score: 0.7290072010631612\n",
      "[[248  95]\n",
      " [ 75 208]]\n"
     ]
    },
    {
     "data": {
      "image/png": "[encoded data removed]",
      "text/plain": [
       "<matplotlib.figure.Figure at 0x11d569e80>"
      ]
     },
     "metadata": {},
     "output_type": "display_data"
    }
   ],
   "source": [
    "lrc_full_1 = optimize(lrc, lrc_params, X_full, Y_full, 0.2, 13)"
   ]
  },
  {
   "cell_type": "code",
   "execution_count": 290,
   "metadata": {},
   "outputs": [
    {
     "name": "stdout",
     "output_type": "stream",
     "text": [
      "Optimal parameters: {'C': 1, 'multi_class': 'ovr', 'penalty': 'l1', 'solver': 'liblinear', 'tol': 0.0001}\n",
      "Matthews score: 0.49878400070141715\n",
      "ROC-AUC score: 0.7500334813380173\n",
      "[[260  83]\n",
      " [ 73 210]]\n"
     ]
    },
    {
     "data": {
      "image/png": "[encoded data removed]",
      "text/plain": [
       "<matplotlib.figure.Figure at 0x11c953668>"
      ]
     },
     "metadata": {},
     "output_type": "display_data"
    }
   ],
   "source": [
    "lrc_full_2 = optimize(lrc, lrc_params, X_full, Y_full, 0.2, 37)"
   ]
  },
  {
   "cell_type": "code",
   "execution_count": 291,
   "metadata": {},
   "outputs": [
    {
     "name": "stdout",
     "output_type": "stream",
     "text": [
      "urb_inf__1.0 :  0.97407  OR: 2.65 \n",
      "crime        :  0.62785  OR: 1.87 \n",
      "< diploma    :  0.55713  OR: 1.75 \n",
      "poverty      :  0.54933  OR: 1.73 \n",
      "hh_female    :  0.52324  OR: 1.69 \n",
      "median_age   :  0.49489  OR: 1.64 \n",
      "urb_inf__11. :  0.47913  OR: 1.61 \n",
      "unemployment :  0.46301  OR: 1.59 \n",
      "degree+      :  0.45175  OR: 1.57 \n",
      "vets         :  0.37026  OR: 1.45 \n",
      "urb_inf__2.0 :  0.25055  OR: 1.28 \n",
      "hh_food_st   :  0.23799  OR: 1.27 \n",
      "pov_change   :  0.11563  OR: 1.12 \n",
      "urb_inf__4.0 :  0.11307  OR: 1.12 \n",
      "urb_inf__3.0 :  0.05207  OR: 1.05 \n",
      "vets_male    :  0.01064  OR: 1.01 \n",
      "pop_inc      :  0.01008  OR: 1.01 \n",
      "urb_inf__7.0 :  0.00000  OR: 1.00 \n",
      "urb_inf__10. :  0.00000  OR: 1.00 \n",
      "foreign_inc  : -0.00652  OR: 0.99 \n",
      "urb_inf__8.0 : -0.03967  OR: 0.96 \n",
      "foreign_07   : -0.06064  OR: 0.94 \n",
      "median_hh_in : -0.12443  OR: 0.88 \n",
      "hh_hisp      : -0.15011  OR: 0.86 \n",
      "urb_inf__6.0 : -0.22462  OR: 0.80 \n",
      "urb_inf__9.0 : -0.27488  OR: 0.76 \n",
      "unemp_change : -0.29947  OR: 0.74 \n",
      "urb_inf__12. : -0.65197  OR: 0.52 \n",
      "urb_inf__5.0 : -0.66086  OR: 0.52 \n",
      "hh_afr_am    : -0.90806  OR: 0.40 \n"
     ]
    }
   ],
   "source": [
    "feature_rank = zip(X_full.columns, lrc_full_2.best_estimator_.coef_[0])\n",
    "results = sorted(feature_rank, key=lambda tup: tup[1], reverse=True)\n",
    "for f, r in results:\n",
    "    print('{:13.12}: {:8.5f}  OR:{:5.2f} '.format(f, r, np.exp(r)))"
   ]
  },
  {
   "cell_type": "code",
   "execution_count": 292,
   "metadata": {
    "collapsed": true
   },
   "outputs": [],
   "source": [
    "def run_clf(estimator, X, Y, rand):\n",
    "    clf = estimator\n",
    "    X_train, X_test, Y_train, Y_test = train_test_split(X, Y, test_size=0.2, random_state=rand, stratify=Y)\n",
    "    clf.fit(robust.fit_transform(X_train), Y_train)\n",
    "    Xr_test = robust.fit_transform(X_test)\n",
    "    preds = clf.predict(Xr_test)\n",
    "    print('Matthews score: {}'.format(matthews_corrcoef(Y_test, preds)))\n",
    "    print('ROC-AUC score: {}'.format(roc_auc_score(Y_test, preds)))\n",
    "    print(confusion_matrix(Y_test, preds))\n",
    "    residuals = pd.DataFrame(clf.decision_function(Xr_test))\n",
    "    plt.scatter(residuals.index, residuals)\n",
    "    return clf"
   ]
  },
  {
   "cell_type": "code",
   "execution_count": 293,
   "metadata": {},
   "outputs": [
    {
     "name": "stdout",
     "output_type": "stream",
     "text": [
      "Matthews score: 0.49639514702648263\n",
      "ROC-AUC score: 0.7478700718045926\n",
      "[[267  76]\n",
      " [ 80 203]]\n"
     ]
    },
    {
     "data": {
      "image/png": "[encoded data removed]",
      "text/plain": [
       "<matplotlib.figure.Figure at 0x11c96a5c0>"
      ]
     },
     "metadata": {},
     "output_type": "display_data"
    }
   ],
   "source": [
    "svc_full = SVC(class_weight='balanced', C=1, gamma=0.12, kernel='rbf', tol=1e-07)\n",
    "svc_full_1 = run_clf(svc_full, X_full, Y_full, 13)"
   ]
  },
  {
   "cell_type": "code",
   "execution_count": 294,
   "metadata": {},
   "outputs": [
    {
     "name": "stdout",
     "output_type": "stream",
     "text": [
      "Matthews score: 0.4671932600317553\n",
      "ROC-AUC score: 0.733205245753021\n",
      "[[263  80]\n",
      " [ 85 198]]\n"
     ]
    },
    {
     "data": {
      "image/png": "[encoded data removed]",
      "text/plain": [
       "<matplotlib.figure.Figure at 0x11ca1cfd0>"
      ]
     },
     "metadata": {},
     "output_type": "display_data"
    }
   ],
   "source": [
    "svc_full = SVC(class_weight='balanced', C=1, gamma=0.1, kernel='rbf', tol=1e-07)\n",
    "svc_full_2 = run_clf(svc_full, X_full, Y_full, 37)"
   ]
  },
  {
   "cell_type": "markdown",
   "metadata": {},
   "source": [
    "Using all the features with all the data produced slightly higher test scores, but at the cost of stability. "
   ]
  },
  {
   "cell_type": "markdown",
   "metadata": {},
   "source": [
    "Feature coefficients can be obtained from the support vector implementation, but only with a linear kernel."
   ]
  },
  {
   "cell_type": "code",
   "execution_count": 295,
   "metadata": {},
   "outputs": [
    {
     "name": "stdout",
     "output_type": "stream",
     "text": [
      "Matthews score: 0.4113538445583689\n",
      "ROC-AUC score: 0.706561707523246\n",
      "[[235 103]\n",
      " [ 79 201]]\n"
     ]
    },
    {
     "data": {
      "image/png": "[encoded data removed]",
      "text/plain": [
       "<matplotlib.figure.Figure at 0x11ca11390>"
      ]
     },
     "metadata": {},
     "output_type": "display_data"
    }
   ],
   "source": [
    "svc_linear = SVC(class_weight='balanced', C=1, gamma=0.12, kernel='linear', tol=1e-07)\n",
    "svc_linear_1 = run_clf(svc_linear, X, Y_bal, 13)"
   ]
  },
  {
   "cell_type": "code",
   "execution_count": 296,
   "metadata": {},
   "outputs": [
    {
     "name": "stdout",
     "output_type": "stream",
     "text": [
      "hh_food_st   :  1.13469\n",
      "urb_inf__1.0 :  0.71128\n",
      "crime        :  0.69382\n",
      "urb_inf__11. :  0.56665\n",
      "vets         :  0.51204\n",
      "urb_inf__10. :  0.24986\n",
      "pov_change   :  0.24835\n",
      "urb_inf__7.0 :  0.23314\n",
      "urb_inf__4.0 :  0.16334\n",
      "urb_inf__2.0 :  0.03238\n",
      "degree+      :  0.02831\n",
      "hh_hisp      : -0.05465\n",
      "urb_inf__12. : -0.08002\n",
      "urb_inf__3.0 : -0.15393\n",
      "urb_inf__6.0 : -0.17651\n",
      "urb_inf__9.0 : -0.34058\n",
      "urb_inf__8.0 : -0.44033\n",
      "unemp_change : -0.44724\n",
      "hh_afr_am    : -0.56338\n",
      "urb_inf__5.0 : -0.76529\n"
     ]
    }
   ],
   "source": [
    "feature_rank = zip(X.columns, svc_linear_1.coef_[0])\n",
    "results = sorted(feature_rank, key=lambda tup: tup[1], reverse=True)\n",
    "for f, r in results:\n",
    "    print('{:13.12}: {:8.5f}'.format(f, r))"
   ]
  },
  {
   "cell_type": "code",
   "execution_count": 297,
   "metadata": {},
   "outputs": [
    {
     "name": "stdout",
     "output_type": "stream",
     "text": [
      "Matthews score: 0.43210953502196336\n",
      "ROC-AUC score: 0.7170363349782113\n",
      "[[241 102]\n",
      " [ 76 207]]\n"
     ]
    },
    {
     "data": {
      "image/png": "[encoded data removed]",
      "text/plain": [
       "<matplotlib.figure.Figure at 0x11d8ff908>"
      ]
     },
     "metadata": {},
     "output_type": "display_data"
    }
   ],
   "source": [
    "svc_linear_2 = run_clf(svc_linear, X_full, Y_full, 13)"
   ]
  },
  {
   "cell_type": "code",
   "execution_count": 298,
   "metadata": {},
   "outputs": [
    {
     "name": "stdout",
     "output_type": "stream",
     "text": [
      "urb_inf__1.0 :  1.03096\n",
      "hh_female    :  0.58014\n",
      "< diploma    :  0.55809\n",
      "crime        :  0.53868\n",
      "degree+      :  0.51565\n",
      "urb_inf__11. :  0.48324\n",
      "unemployment :  0.46336\n",
      "urb_inf__4.0 :  0.37969\n",
      "median_age   :  0.31393\n",
      "vets         :  0.31344\n",
      "poverty      :  0.28665\n",
      "urb_inf__2.0 :  0.14430\n",
      "pop_inc      :  0.07210\n",
      "pov_change   :  0.05662\n",
      "urb_inf__10. :  0.05190\n",
      "urb_inf__7.0 :  0.02672\n",
      "urb_inf__3.0 :  0.02547\n",
      "foreign_inc  : -0.00032\n",
      "vets_male    : -0.01026\n",
      "hh_food_st   : -0.02253\n",
      "foreign_07   : -0.07704\n",
      "hh_hisp      : -0.13707\n",
      "urb_inf__8.0 : -0.15922\n",
      "urb_inf__6.0 : -0.17173\n",
      "unemp_change : -0.29779\n",
      "urb_inf__9.0 : -0.39652\n",
      "median_hh_in : -0.55319\n",
      "urb_inf__12. : -0.60847\n",
      "urb_inf__5.0 : -0.80634\n",
      "hh_afr_am    : -0.84758\n"
     ]
    }
   ],
   "source": [
    "feature_rank = zip(X_full.columns, svc_linear_2.coef_[0])\n",
    "results = sorted(feature_rank, key=lambda tup: tup[1], reverse=True)\n",
    "for f, r in results:\n",
    "    print('{:13.12}: {:8.5f}'.format(f, r))"
   ]
  },
  {
   "cell_type": "markdown",
   "metadata": {},
   "source": [
    "The linear kernel does not give optimal performance, but it does provide feature coefficients. The ranking of the reduced feature set is almost identical to that obtained from the optimized logistic regression model."
   ]
  }
 ],
 "metadata": {
  "kernelspec": {
   "display_name": "Python 3",
   "language": "python",
   "name": "python3"
  },
  "language_info": {
   "codemirror_mode": {
    "name": "ipython",
    "version": 3
   },
   "file_extension": ".py",
   "mimetype": "text/x-python",
   "name": "python",
   "nbconvert_exporter": "python",
   "pygments_lexer": "ipython3",
   "version": "3.6.2"
  }
 },
 "nbformat": 4,
 "nbformat_minor": 2
}
