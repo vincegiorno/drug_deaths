{
 "cells": [
  {
   "cell_type": "code",
   "execution_count": 183,
   "metadata": {
    "collapsed": false,
    "deletable": true,
    "editable": true
   },
   "outputs": [],
   "source": [
    "import numpy as np\n",
    "import pandas as pd\n",
    "import matplotlib.pyplot as plt\n",
    "import seaborn as sns\n",
    "\n",
    "%matplotlib inline"
   ]
  },
  {
   "cell_type": "code",
   "execution_count": 184,
   "metadata": {
    "collapsed": true,
    "deletable": true,
    "editable": true
   },
   "outputs": [],
   "source": [
    "data = pd.read_excel('data/Education.xls', skiprows=range(4), usecols=['FIPS Code',\n",
    "                                                'State', 'Area name',\n",
    "                                                'Percent of adults with less than a high school diploma, 2012-2016',\n",
    "                                                'Percent of adults with a bachelor\\'s degree or higher, 2012-2016'],\n",
    "                        converters={'FIPS Code': str})"
   ]
  },
  {
   "cell_type": "code",
   "execution_count": 185,
   "metadata": {
    "collapsed": true,
    "deletable": true,
    "editable": true
   },
   "outputs": [],
   "source": [
    "data.columns=['FIPS', 'state', 'name', '< diploma', 'degree+']"
   ]
  },
  {
   "cell_type": "markdown",
   "metadata": {
    "deletable": true,
    "editable": true
   },
   "source": [
    "Percentages of people who did not get a high school diploma and who got a bachelor's degree or higher."
   ]
  },
  {
   "cell_type": "code",
   "execution_count": 186,
   "metadata": {
    "collapsed": false,
    "deletable": true,
    "editable": true
   },
   "outputs": [
    {
     "data": {
      "text/html": [
       "<div>\n",
       "<table border=\"1\" class=\"dataframe\">\n",
       "  <thead>\n",
       "    <tr style=\"text-align: right;\">\n",
       "      <th></th>\n",
       "      <th>FIPS</th>\n",
       "      <th>state</th>\n",
       "      <th>name</th>\n",
       "      <th>&lt; diploma</th>\n",
       "      <th>degree+</th>\n",
       "    </tr>\n",
       "  </thead>\n",
       "  <tbody>\n",
       "    <tr>\n",
       "      <th>0</th>\n",
       "      <td>00000</td>\n",
       "      <td>US</td>\n",
       "      <td>United States</td>\n",
       "      <td>13.021</td>\n",
       "      <td>30.315</td>\n",
       "    </tr>\n",
       "    <tr>\n",
       "      <th>1</th>\n",
       "      <td>01000</td>\n",
       "      <td>AL</td>\n",
       "      <td>Alabama</td>\n",
       "      <td>15.209</td>\n",
       "      <td>24.010</td>\n",
       "    </tr>\n",
       "    <tr>\n",
       "      <th>2</th>\n",
       "      <td>01001</td>\n",
       "      <td>AL</td>\n",
       "      <td>Autauga County</td>\n",
       "      <td>12.417</td>\n",
       "      <td>24.593</td>\n",
       "    </tr>\n",
       "    <tr>\n",
       "      <th>3</th>\n",
       "      <td>01003</td>\n",
       "      <td>AL</td>\n",
       "      <td>Baldwin County</td>\n",
       "      <td>9.972</td>\n",
       "      <td>29.547</td>\n",
       "    </tr>\n",
       "    <tr>\n",
       "      <th>4</th>\n",
       "      <td>01005</td>\n",
       "      <td>AL</td>\n",
       "      <td>Barbour County</td>\n",
       "      <td>26.236</td>\n",
       "      <td>12.868</td>\n",
       "    </tr>\n",
       "  </tbody>\n",
       "</table>\n",
       "</div>"
      ],
      "text/plain": [
       "    FIPS state            name  < diploma  degree+\n",
       "0  00000    US   United States     13.021   30.315\n",
       "1  01000    AL         Alabama     15.209   24.010\n",
       "2  01001    AL  Autauga County     12.417   24.593\n",
       "3  01003    AL  Baldwin County      9.972   29.547\n",
       "4  01005    AL  Barbour County     26.236   12.868"
      ]
     },
     "execution_count": 186,
     "metadata": {},
     "output_type": "execute_result"
    }
   ],
   "source": [
    "data.head()"
   ]
  },
  {
   "cell_type": "code",
   "execution_count": 187,
   "metadata": {
    "collapsed": true,
    "deletable": true,
    "editable": true
   },
   "outputs": [],
   "source": [
    "data['FIPS'] = data['FIPS'].apply(lambda x: x if x[2:5] != '000' else 'not county') # mark rows for US and states"
   ]
  },
  {
   "cell_type": "code",
   "execution_count": 188,
   "metadata": {
    "collapsed": true,
    "deletable": true,
    "editable": true
   },
   "outputs": [],
   "source": [
    "data = data[data['FIPS'] != 'not county']"
   ]
  },
  {
   "cell_type": "code",
   "execution_count": 189,
   "metadata": {
    "collapsed": true,
    "deletable": true,
    "editable": true
   },
   "outputs": [],
   "source": [
    "data = data[data['FIPS'] < '57000'] # remove Puerto Rico counties, which would be outliers for several features"
   ]
  },
  {
   "cell_type": "code",
   "execution_count": 190,
   "metadata": {
    "collapsed": false,
    "deletable": true,
    "editable": true
   },
   "outputs": [
    {
     "data": {
      "text/html": [
       "<div>\n",
       "<table border=\"1\" class=\"dataframe\">\n",
       "  <thead>\n",
       "    <tr style=\"text-align: right;\">\n",
       "      <th></th>\n",
       "      <th>FIPS</th>\n",
       "      <th>state</th>\n",
       "      <th>name</th>\n",
       "      <th>&lt; diploma</th>\n",
       "      <th>degree+</th>\n",
       "    </tr>\n",
       "  </thead>\n",
       "  <tbody>\n",
       "    <tr>\n",
       "      <th>2</th>\n",
       "      <td>01001</td>\n",
       "      <td>AL</td>\n",
       "      <td>Autauga County</td>\n",
       "      <td>12.417</td>\n",
       "      <td>24.593</td>\n",
       "    </tr>\n",
       "    <tr>\n",
       "      <th>3</th>\n",
       "      <td>01003</td>\n",
       "      <td>AL</td>\n",
       "      <td>Baldwin County</td>\n",
       "      <td>9.972</td>\n",
       "      <td>29.547</td>\n",
       "    </tr>\n",
       "    <tr>\n",
       "      <th>4</th>\n",
       "      <td>01005</td>\n",
       "      <td>AL</td>\n",
       "      <td>Barbour County</td>\n",
       "      <td>26.236</td>\n",
       "      <td>12.868</td>\n",
       "    </tr>\n",
       "    <tr>\n",
       "      <th>5</th>\n",
       "      <td>01007</td>\n",
       "      <td>AL</td>\n",
       "      <td>Bibb County</td>\n",
       "      <td>19.302</td>\n",
       "      <td>12.000</td>\n",
       "    </tr>\n",
       "    <tr>\n",
       "      <th>6</th>\n",
       "      <td>01009</td>\n",
       "      <td>AL</td>\n",
       "      <td>Blount County</td>\n",
       "      <td>19.969</td>\n",
       "      <td>13.050</td>\n",
       "    </tr>\n",
       "  </tbody>\n",
       "</table>\n",
       "</div>"
      ],
      "text/plain": [
       "    FIPS state            name  < diploma  degree+\n",
       "2  01001    AL  Autauga County     12.417   24.593\n",
       "3  01003    AL  Baldwin County      9.972   29.547\n",
       "4  01005    AL  Barbour County     26.236   12.868\n",
       "5  01007    AL     Bibb County     19.302   12.000\n",
       "6  01009    AL   Blount County     19.969   13.050"
      ]
     },
     "execution_count": 190,
     "metadata": {},
     "output_type": "execute_result"
    }
   ],
   "source": [
    "data.head()"
   ]
  },
  {
   "cell_type": "code",
   "execution_count": 191,
   "metadata": {
    "collapsed": false,
    "deletable": true,
    "editable": true
   },
   "outputs": [
    {
     "data": {
      "text/html": [
       "<div>\n",
       "<table border=\"1\" class=\"dataframe\">\n",
       "  <thead>\n",
       "    <tr style=\"text-align: right;\">\n",
       "      <th></th>\n",
       "      <th>FIPS</th>\n",
       "      <th>state</th>\n",
       "      <th>name</th>\n",
       "      <th>&lt; diploma</th>\n",
       "      <th>degree+</th>\n",
       "    </tr>\n",
       "  </thead>\n",
       "  <tbody>\n",
       "    <tr>\n",
       "      <th>3199</th>\n",
       "      <td>56037</td>\n",
       "      <td>WY</td>\n",
       "      <td>Sweetwater County</td>\n",
       "      <td>9.315</td>\n",
       "      <td>21.371</td>\n",
       "    </tr>\n",
       "    <tr>\n",
       "      <th>3200</th>\n",
       "      <td>56039</td>\n",
       "      <td>WY</td>\n",
       "      <td>Teton County</td>\n",
       "      <td>4.634</td>\n",
       "      <td>53.788</td>\n",
       "    </tr>\n",
       "    <tr>\n",
       "      <th>3201</th>\n",
       "      <td>56041</td>\n",
       "      <td>WY</td>\n",
       "      <td>Uinta County</td>\n",
       "      <td>10.361</td>\n",
       "      <td>18.207</td>\n",
       "    </tr>\n",
       "    <tr>\n",
       "      <th>3202</th>\n",
       "      <td>56043</td>\n",
       "      <td>WY</td>\n",
       "      <td>Washakie County</td>\n",
       "      <td>12.577</td>\n",
       "      <td>21.076</td>\n",
       "    </tr>\n",
       "    <tr>\n",
       "      <th>3203</th>\n",
       "      <td>56045</td>\n",
       "      <td>WY</td>\n",
       "      <td>Weston County</td>\n",
       "      <td>8.592</td>\n",
       "      <td>18.807</td>\n",
       "    </tr>\n",
       "  </tbody>\n",
       "</table>\n",
       "</div>"
      ],
      "text/plain": [
       "       FIPS state               name  < diploma  degree+\n",
       "3199  56037    WY  Sweetwater County      9.315   21.371\n",
       "3200  56039    WY       Teton County      4.634   53.788\n",
       "3201  56041    WY       Uinta County     10.361   18.207\n",
       "3202  56043    WY    Washakie County     12.577   21.076\n",
       "3203  56045    WY      Weston County      8.592   18.807"
      ]
     },
     "execution_count": 191,
     "metadata": {},
     "output_type": "execute_result"
    }
   ],
   "source": [
    "data.tail()"
   ]
  },
  {
   "cell_type": "code",
   "execution_count": 192,
   "metadata": {
    "collapsed": true,
    "deletable": true,
    "editable": true
   },
   "outputs": [],
   "source": [
    "population = pd.read_excel('data/Population.xls', skiprows=range(2), usecols=['FIPS','Urban_Influence_Code_2013',\n",
    "                                                                              'CENSUS_2010_POP','POP_ESTIMATE_2014',\n",
    "                                                                              'INTERNATIONALMIG_2010',\n",
    "                                                                              'INTERNATIONALMIG-2011',\n",
    "                                                                              'INTERNATIONAL_MIG_2012',\n",
    "                                                                              'INTERNATIONAL_MIG_2013'],\n",
    "                           converters={'FIPS': str})"
   ]
  },
  {
   "cell_type": "code",
   "execution_count": 193,
   "metadata": {
    "collapsed": true,
    "deletable": true,
    "editable": true
   },
   "outputs": [],
   "source": [
    "population.columns = ['FIPS', 'urban_influence', 'pop_2010', 'pop_2014', 'im1', 'im2', 'im3', 'im4']"
   ]
  },
  {
   "cell_type": "markdown",
   "metadata": {
    "deletable": true,
    "editable": true
   },
   "source": [
    "The urban influence code \"distinguishes metropolitan counties by population size of their metro area, and nonmetropolitan counties by size of the largest city or town and proximity to metro and micropolitan areas.\" Lower numbers are more urban. The other features being consteucted here are the change in poulation between 2010 and 2014, and the change in the international migrant population relative to the overall change. "
   ]
  },
  {
   "cell_type": "code",
   "execution_count": 194,
   "metadata": {
    "collapsed": true,
    "deletable": true,
    "editable": true
   },
   "outputs": [],
   "source": [
    "population['pop_inc'] = (population['pop_2014'] - population['pop_2010']) / population['pop_2010']"
   ]
  },
  {
   "cell_type": "code",
   "execution_count": 195,
   "metadata": {
    "collapsed": true,
    "deletable": true,
    "editable": true
   },
   "outputs": [],
   "source": [
    "population['foreign_inc'] = (population['im1'] + population['im2'] + population['im3'] + population['im4']\n",
    "                            ) / (population['pop_2014'] - population['pop_2010'])"
   ]
  },
  {
   "cell_type": "code",
   "execution_count": 196,
   "metadata": {
    "collapsed": true,
    "deletable": true,
    "editable": true
   },
   "outputs": [],
   "source": [
    "add_pop = population.drop(['pop_2010', 'im1', 'im2', 'im3', 'im4'], axis=1)"
   ]
  },
  {
   "cell_type": "code",
   "execution_count": 197,
   "metadata": {
    "collapsed": false,
    "deletable": true,
    "editable": true
   },
   "outputs": [
    {
     "data": {
      "text/html": [
       "<div>\n",
       "<table border=\"1\" class=\"dataframe\">\n",
       "  <thead>\n",
       "    <tr style=\"text-align: right;\">\n",
       "      <th></th>\n",
       "      <th>FIPS</th>\n",
       "      <th>urban_influence</th>\n",
       "      <th>pop_2014</th>\n",
       "      <th>pop_inc</th>\n",
       "      <th>foreign_inc</th>\n",
       "    </tr>\n",
       "  </thead>\n",
       "  <tbody>\n",
       "    <tr>\n",
       "      <th>0</th>\n",
       "      <td>00000</td>\n",
       "      <td>NaN</td>\n",
       "      <td>318622525</td>\n",
       "      <td>0.031991</td>\n",
       "      <td>0.289381</td>\n",
       "    </tr>\n",
       "    <tr>\n",
       "      <th>1</th>\n",
       "      <td>01000</td>\n",
       "      <td>NaN</td>\n",
       "      <td>4840037</td>\n",
       "      <td>0.012616</td>\n",
       "      <td>0.232285</td>\n",
       "    </tr>\n",
       "    <tr>\n",
       "      <th>2</th>\n",
       "      <td>01001</td>\n",
       "      <td>2.0</td>\n",
       "      <td>54864</td>\n",
       "      <td>0.005369</td>\n",
       "      <td>0.040956</td>\n",
       "    </tr>\n",
       "    <tr>\n",
       "      <th>3</th>\n",
       "      <td>01003</td>\n",
       "      <td>2.0</td>\n",
       "      <td>199064</td>\n",
       "      <td>0.092168</td>\n",
       "      <td>0.030359</td>\n",
       "    </tr>\n",
       "    <tr>\n",
       "      <th>4</th>\n",
       "      <td>01005</td>\n",
       "      <td>6.0</td>\n",
       "      <td>26749</td>\n",
       "      <td>-0.025786</td>\n",
       "      <td>0.033898</td>\n",
       "    </tr>\n",
       "    <tr>\n",
       "      <th>5</th>\n",
       "      <td>01007</td>\n",
       "      <td>1.0</td>\n",
       "      <td>22533</td>\n",
       "      <td>-0.016670</td>\n",
       "      <td>-0.102094</td>\n",
       "    </tr>\n",
       "  </tbody>\n",
       "</table>\n",
       "</div>"
      ],
      "text/plain": [
       "    FIPS  urban_influence   pop_2014   pop_inc  foreign_inc\n",
       "0  00000              NaN  318622525  0.031991     0.289381\n",
       "1  01000              NaN    4840037  0.012616     0.232285\n",
       "2  01001              2.0      54864  0.005369     0.040956\n",
       "3  01003              2.0     199064  0.092168     0.030359\n",
       "4  01005              6.0      26749 -0.025786     0.033898\n",
       "5  01007              1.0      22533 -0.016670    -0.102094"
      ]
     },
     "execution_count": 197,
     "metadata": {},
     "output_type": "execute_result"
    }
   ],
   "source": [
    "add_pop.head(6)"
   ]
  },
  {
   "cell_type": "markdown",
   "metadata": {
    "deletable": true,
    "editable": true
   },
   "source": [
    "Where the population increase is negative, the foreign increase must be multiplied by -1 so that the division in the calculation does not turn a positive foreign increase negative and vice-versa."
   ]
  },
  {
   "cell_type": "code",
   "execution_count": 198,
   "metadata": {
    "collapsed": true,
    "deletable": true,
    "editable": true
   },
   "outputs": [],
   "source": [
    "add_pop['foreign_inc'] = add_pop['foreign_inc'] * (add_pop['pop_inc'] / abs(add_pop['pop_inc']))"
   ]
  },
  {
   "cell_type": "code",
   "execution_count": 199,
   "metadata": {
    "collapsed": false,
    "deletable": true,
    "editable": true
   },
   "outputs": [
    {
     "data": {
      "text/html": [
       "<div>\n",
       "<table border=\"1\" class=\"dataframe\">\n",
       "  <thead>\n",
       "    <tr style=\"text-align: right;\">\n",
       "      <th></th>\n",
       "      <th>FIPS</th>\n",
       "      <th>urban_influence</th>\n",
       "      <th>pop_2014</th>\n",
       "      <th>pop_inc</th>\n",
       "      <th>foreign_inc</th>\n",
       "    </tr>\n",
       "  </thead>\n",
       "  <tbody>\n",
       "    <tr>\n",
       "      <th>0</th>\n",
       "      <td>00000</td>\n",
       "      <td>NaN</td>\n",
       "      <td>318622525</td>\n",
       "      <td>0.031991</td>\n",
       "      <td>0.289381</td>\n",
       "    </tr>\n",
       "    <tr>\n",
       "      <th>1</th>\n",
       "      <td>01000</td>\n",
       "      <td>NaN</td>\n",
       "      <td>4840037</td>\n",
       "      <td>0.012616</td>\n",
       "      <td>0.232285</td>\n",
       "    </tr>\n",
       "    <tr>\n",
       "      <th>2</th>\n",
       "      <td>01001</td>\n",
       "      <td>2.0</td>\n",
       "      <td>54864</td>\n",
       "      <td>0.005369</td>\n",
       "      <td>0.040956</td>\n",
       "    </tr>\n",
       "    <tr>\n",
       "      <th>3</th>\n",
       "      <td>01003</td>\n",
       "      <td>2.0</td>\n",
       "      <td>199064</td>\n",
       "      <td>0.092168</td>\n",
       "      <td>0.030359</td>\n",
       "    </tr>\n",
       "    <tr>\n",
       "      <th>4</th>\n",
       "      <td>01005</td>\n",
       "      <td>6.0</td>\n",
       "      <td>26749</td>\n",
       "      <td>-0.025786</td>\n",
       "      <td>-0.033898</td>\n",
       "    </tr>\n",
       "    <tr>\n",
       "      <th>5</th>\n",
       "      <td>01007</td>\n",
       "      <td>1.0</td>\n",
       "      <td>22533</td>\n",
       "      <td>-0.016670</td>\n",
       "      <td>0.102094</td>\n",
       "    </tr>\n",
       "  </tbody>\n",
       "</table>\n",
       "</div>"
      ],
      "text/plain": [
       "    FIPS  urban_influence   pop_2014   pop_inc  foreign_inc\n",
       "0  00000              NaN  318622525  0.031991     0.289381\n",
       "1  01000              NaN    4840037  0.012616     0.232285\n",
       "2  01001              2.0      54864  0.005369     0.040956\n",
       "3  01003              2.0     199064  0.092168     0.030359\n",
       "4  01005              6.0      26749 -0.025786    -0.033898\n",
       "5  01007              1.0      22533 -0.016670     0.102094"
      ]
     },
     "execution_count": 199,
     "metadata": {},
     "output_type": "execute_result"
    }
   ],
   "source": [
    "add_pop.head(6)"
   ]
  },
  {
   "cell_type": "code",
   "execution_count": 200,
   "metadata": {
    "collapsed": true,
    "deletable": true,
    "editable": true
   },
   "outputs": [],
   "source": [
    "data = data.set_index('FIPS').join(add_pop.set_index('FIPS'))"
   ]
  },
  {
   "cell_type": "code",
   "execution_count": 201,
   "metadata": {
    "collapsed": true,
    "deletable": true,
    "editable": true
   },
   "outputs": [],
   "source": [
    "unemployment = pd.read_excel('data/Unemployment.xls', skiprows=range(7), usecols=['FIPStxt', 'Unemployment_rate_2014'],\n",
    "                            converters={'FIPStxt': str})\n",
    "unemployment.columns = ['FIPS', 'unemployment']\n",
    "data = data.join(unemployment.set_index('FIPS'))"
   ]
  },
  {
   "cell_type": "code",
   "execution_count": 202,
   "metadata": {
    "collapsed": true,
    "deletable": true,
    "editable": true
   },
   "outputs": [],
   "source": [
    "poverty = pd.read_excel('data/Poverty.xls', skiprows=range(2), usecols = ['FIPStxt',\n",
    "                                                                         'PCTPOVALL_2014','MEDHHINC_2014'],\n",
    "                       converters={'FIPStxt': str})\n",
    "poverty.columns = ['FIPS', 'poverty', 'median_hh_inc'] # poverty rate and median household income\n",
    "data = data.join(poverty.set_index('FIPS'))"
   ]
  },
  {
   "cell_type": "code",
   "execution_count": 203,
   "metadata": {
    "collapsed": true,
    "deletable": true,
    "editable": true
   },
   "outputs": [],
   "source": [
    "age = pd.read_excel('data/AGE01.xls', sheetname='Sheet2', usecols=['STCOU', 'AGE050210D'], converters={'STCOU': str})\n",
    "age.columns = ['FIPS', 'median_age']\n",
    "data = data.join(age.set_index('FIPS'))"
   ]
  },
  {
   "cell_type": "code",
   "execution_count": 204,
   "metadata": {
    "collapsed": true,
    "deletable": true,
    "editable": true
   },
   "outputs": [],
   "source": [
    "households1 = pd.read_excel('data/HSG02.xls', sheetname='HSG02D', usecols=['HSG200210D'])\n",
    "households2 = pd.read_excel('data/HSG02.xls', sheetname='HSG02E', usecols=['STCOU', 'HSG215210D', 'HSG220210D'],\n",
    "                          converters={'STCOU': str})\n",
    "households2.columns = ['FIPS', 'hh_afr_am', 'hh_hisp']"
   ]
  },
  {
   "cell_type": "markdown",
   "metadata": {
    "deletable": true,
    "editable": true
   },
   "source": [
    "Divide the numbers of households headed by African-Americans and Hispanics by the total number of households to get percentages."
   ]
  },
  {
   "cell_type": "code",
   "execution_count": 205,
   "metadata": {
    "collapsed": true,
    "deletable": true,
    "editable": true
   },
   "outputs": [],
   "source": [
    "households2.loc[:, ['hh_afr_am', 'hh_hisp']] = households2[['hh_afr_am', 'hh_hisp']].div(households1['HSG200210D'], axis=0)\n",
    "data = data.join(households2.set_index('FIPS'))"
   ]
  },
  {
   "cell_type": "code",
   "execution_count": 206,
   "metadata": {
    "collapsed": true,
    "deletable": true,
    "editable": true
   },
   "outputs": [],
   "source": [
    "hh_07 = pd.read_excel('data/HSD01.xls', sheetname='HSD01I', usecols=['HSD410209D'])"
   ]
  },
  {
   "cell_type": "code",
   "execution_count": 207,
   "metadata": {
    "collapsed": true,
    "deletable": true,
    "editable": true
   },
   "outputs": [],
   "source": [
    "hh_female = pd.read_excel('data/HSD02.xls', sheetname='HSD02B', usecols=['STCOU', 'HSD570209D'],\n",
    "                          converters={'STCOU': str})"
   ]
  },
  {
   "cell_type": "code",
   "execution_count": 208,
   "metadata": {
    "collapsed": true,
    "deletable": true,
    "editable": true
   },
   "outputs": [],
   "source": [
    "hh_female.columns = ['FIPS', 'hh_female']\n",
    "hh_female.loc[:, 'hh_female'] = hh_female['hh_female'] / hh_07['HSD410209D']"
   ]
  },
  {
   "cell_type": "code",
   "execution_count": 209,
   "metadata": {
    "collapsed": true,
    "deletable": true,
    "editable": true
   },
   "outputs": [],
   "source": [
    "hh_food_st = pd.read_excel('data/INC01.xls', sheetname='INC01J', usecols=['STCOU', 'INC454209D'],\n",
    "                          converters={'STCOU': str})"
   ]
  },
  {
   "cell_type": "code",
   "execution_count": 210,
   "metadata": {
    "collapsed": true,
    "deletable": true,
    "editable": true
   },
   "outputs": [],
   "source": [
    "hh_food_st.columns = ['FIPS', 'hh_food_st']\n",
    "hh_food_st.loc[:, 'hh_food_st'] = hh_food_st['hh_food_st'] / hh_07['HSD410209D']"
   ]
  },
  {
   "cell_type": "code",
   "execution_count": 211,
   "metadata": {
    "collapsed": true,
    "deletable": true,
    "editable": true
   },
   "outputs": [],
   "source": [
    "data = data.join([hh_female.set_index('FIPS'), hh_food_st.set_index('FIPS')])"
   ]
  },
  {
   "cell_type": "code",
   "execution_count": 212,
   "metadata": {
    "collapsed": true,
    "deletable": true,
    "editable": true
   },
   "outputs": [],
   "source": [
    "foreign_born = pd.read_excel('data/POP02.xls', sheetname='POP02J', usecols=['STCOU', 'POP645209D'],\n",
    "                            converters={'STCOU': str})\n",
    "foreign_born.columns = ['FIPS', 'foreign_07']"
   ]
  },
  {
   "cell_type": "code",
   "execution_count": 213,
   "metadata": {
    "collapsed": true,
    "deletable": true,
    "editable": true
   },
   "outputs": [],
   "source": [
    "pop_07 = pd.read_excel('data/PST01.xls', sheetname='Sheet4', usecols=['PST045207D'])"
   ]
  },
  {
   "cell_type": "code",
   "execution_count": 214,
   "metadata": {
    "collapsed": true,
    "deletable": true,
    "editable": true
   },
   "outputs": [],
   "source": [
    "vets = pd.read_excel('data/VET01.xls', sheetname='VET01C', usecols=['STCOU', 'VET605209D', 'VET610209D'],\n",
    "                    converters={'STCOU': str})\n",
    "vets.columns = ['FIPS', 'vets', 'vets_male']"
   ]
  },
  {
   "cell_type": "code",
   "execution_count": 215,
   "metadata": {
    "collapsed": true,
    "deletable": true,
    "editable": true
   },
   "outputs": [],
   "source": [
    "vets.loc[:, 'vets'] = vets['vets'] / pop_07['PST045207D']"
   ]
  },
  {
   "cell_type": "code",
   "execution_count": 216,
   "metadata": {
    "collapsed": true,
    "deletable": true,
    "editable": true
   },
   "outputs": [],
   "source": [
    "data = data.join([foreign_born.set_index('FIPS'), vets.set_index('FIPS')])"
   ]
  },
  {
   "cell_type": "code",
   "execution_count": 217,
   "metadata": {
    "collapsed": true,
    "deletable": true,
    "editable": true
   },
   "outputs": [],
   "source": [
    "crimes = pd.read_csv('data/Crime.tsv', sep='\\t', usecols=['FIPS_ST', 'FIPS_CTY', 'VIOL', 'PROPERTY'],\n",
    "                    converters={'FIPS_ST': str, 'FIPS_CTY': str, 'VIOL': float, 'PROPERTY': float}, engine='python')"
   ]
  },
  {
   "cell_type": "code",
   "execution_count": 218,
   "metadata": {
    "collapsed": false,
    "deletable": true,
    "editable": true
   },
   "outputs": [
    {
     "data": {
      "text/html": [
       "<div>\n",
       "<table border=\"1\" class=\"dataframe\">\n",
       "  <thead>\n",
       "    <tr style=\"text-align: right;\">\n",
       "      <th></th>\n",
       "      <th>FIPS_ST</th>\n",
       "      <th>FIPS_CTY</th>\n",
       "      <th>viol_crime</th>\n",
       "      <th>prop_crime</th>\n",
       "    </tr>\n",
       "  </thead>\n",
       "  <tbody>\n",
       "    <tr>\n",
       "      <th>0</th>\n",
       "      <td>1</td>\n",
       "      <td>1</td>\n",
       "      <td>144.0</td>\n",
       "      <td>1625.0</td>\n",
       "    </tr>\n",
       "    <tr>\n",
       "      <th>1</th>\n",
       "      <td>1</td>\n",
       "      <td>3</td>\n",
       "      <td>373.0</td>\n",
       "      <td>4060.0</td>\n",
       "    </tr>\n",
       "    <tr>\n",
       "      <th>2</th>\n",
       "      <td>1</td>\n",
       "      <td>5</td>\n",
       "      <td>97.0</td>\n",
       "      <td>660.0</td>\n",
       "    </tr>\n",
       "    <tr>\n",
       "      <th>3</th>\n",
       "      <td>1</td>\n",
       "      <td>7</td>\n",
       "      <td>23.0</td>\n",
       "      <td>227.0</td>\n",
       "    </tr>\n",
       "    <tr>\n",
       "      <th>4</th>\n",
       "      <td>1</td>\n",
       "      <td>9</td>\n",
       "      <td>125.0</td>\n",
       "      <td>1270.0</td>\n",
       "    </tr>\n",
       "  </tbody>\n",
       "</table>\n",
       "</div>"
      ],
      "text/plain": [
       "  FIPS_ST FIPS_CTY  viol_crime  prop_crime\n",
       "0       1        1       144.0      1625.0\n",
       "1       1        3       373.0      4060.0\n",
       "2       1        5        97.0       660.0\n",
       "3       1        7        23.0       227.0\n",
       "4       1        9       125.0      1270.0"
      ]
     },
     "execution_count": 218,
     "metadata": {},
     "output_type": "execute_result"
    }
   ],
   "source": [
    "crimes.columns = ['FIPS_ST', 'FIPS_CTY', 'viol_crime', 'prop_crime']\n",
    "crimes.head()"
   ]
  },
  {
   "cell_type": "code",
   "execution_count": 219,
   "metadata": {
    "collapsed": true,
    "deletable": true,
    "editable": true
   },
   "outputs": [],
   "source": [
    "crimes['FIPS_ST'] = crimes['FIPS_ST'].apply(lambda x: '0' * (2 - len(x)) + x)"
   ]
  },
  {
   "cell_type": "code",
   "execution_count": 220,
   "metadata": {
    "collapsed": true,
    "deletable": true,
    "editable": true
   },
   "outputs": [],
   "source": [
    "crimes['FIPS_CTY'] = crimes['FIPS_CTY'].apply(lambda x: '0' * (3 - len(x)) + x)"
   ]
  },
  {
   "cell_type": "code",
   "execution_count": 221,
   "metadata": {
    "collapsed": true,
    "deletable": true,
    "editable": true
   },
   "outputs": [],
   "source": [
    "crimes['FIPS'] = crimes['FIPS_ST'] + crimes['FIPS_CTY']"
   ]
  },
  {
   "cell_type": "code",
   "execution_count": 222,
   "metadata": {
    "collapsed": true,
    "deletable": true,
    "editable": true
   },
   "outputs": [],
   "source": [
    "data = data.join(crimes.drop(['FIPS_ST', 'FIPS_CTY'], axis=1).set_index('FIPS'))"
   ]
  },
  {
   "cell_type": "code",
   "execution_count": 223,
   "metadata": {
    "collapsed": true,
    "deletable": true,
    "editable": true
   },
   "outputs": [],
   "source": [
    "data.loc[:, ['viol_crime', 'prop_crime']] = data[['viol_crime', 'prop_crime']].div(data['pop_2014'], axis=0)"
   ]
  },
  {
   "cell_type": "code",
   "execution_count": 224,
   "metadata": {
    "collapsed": false,
    "deletable": true,
    "editable": true
   },
   "outputs": [
    {
     "data": {
      "text/plain": [
       "state               0\n",
       "name                0\n",
       "< diploma          10\n",
       "degree+            10\n",
       "urban_influence    10\n",
       "pop_2014           10\n",
       "pop_inc            10\n",
       "foreign_inc        13\n",
       "unemployment       11\n",
       "poverty            13\n",
       "median_hh_inc      13\n",
       "median_age          9\n",
       "hh_afr_am          11\n",
       "hh_hisp            11\n",
       "hh_female          11\n",
       "hh_food_st         11\n",
       "foreign_07          9\n",
       "vets               11\n",
       "vets_male           9\n",
       "viol_crime         18\n",
       "prop_crime         18\n",
       "dtype: int64"
      ]
     },
     "execution_count": 224,
     "metadata": {},
     "output_type": "execute_result"
    }
   ],
   "source": [
    "data.isnull().sum()"
   ]
  },
  {
   "cell_type": "code",
   "execution_count": 225,
   "metadata": {
    "collapsed": false,
    "deletable": true,
    "editable": true
   },
   "outputs": [
    {
     "data": {
      "text/plain": [
       "3130"
      ]
     },
     "execution_count": 225,
     "metadata": {},
     "output_type": "execute_result"
    }
   ],
   "source": [
    "len(data.dropna())"
   ]
  },
  {
   "cell_type": "code",
   "execution_count": 226,
   "metadata": {
    "collapsed": false,
    "deletable": true,
    "editable": true
   },
   "outputs": [
    {
     "data": {
      "text/plain": [
       "3152"
      ]
     },
     "execution_count": 226,
     "metadata": {},
     "output_type": "execute_result"
    }
   ],
   "source": [
    "len(data)"
   ]
  },
  {
   "cell_type": "markdown",
   "metadata": {
    "deletable": true,
    "editable": true
   },
   "source": [
    "Many of the missing values occur in records missing multiple values, and dropping all of them would only reduce the number of records from 3,152 to 3,130, so drop them."
   ]
  },
  {
   "cell_type": "code",
   "execution_count": 227,
   "metadata": {
    "collapsed": true,
    "deletable": true,
    "editable": true
   },
   "outputs": [],
   "source": [
    "data = data.dropna()"
   ]
  },
  {
   "cell_type": "code",
   "execution_count": 228,
   "metadata": {
    "collapsed": false,
    "deletable": true,
    "editable": true
   },
   "outputs": [
    {
     "data": {
      "text/plain": [
       "state                0\n",
       "name                 0\n",
       "< diploma            0\n",
       "degree+              0\n",
       "urban_influence      0\n",
       "pop_2014             0\n",
       "pop_inc              0\n",
       "foreign_inc        156\n",
       "unemployment         0\n",
       "poverty              0\n",
       "median_hh_inc        0\n",
       "median_age           0\n",
       "hh_afr_am           85\n",
       "hh_hisp              4\n",
       "hh_female            2\n",
       "hh_food_st           3\n",
       "foreign_07          33\n",
       "vets                 0\n",
       "vets_male            0\n",
       "viol_crime         163\n",
       "prop_crime         100\n",
       "dtype: int64"
      ]
     },
     "execution_count": 228,
     "metadata": {},
     "output_type": "execute_result"
    }
   ],
   "source": [
    "(data == 0).sum()"
   ]
  },
  {
   "cell_type": "markdown",
   "metadata": {
    "deletable": true,
    "editable": true
   },
   "source": [
    "It is reasonable that these values could be zero, so proceed."
   ]
  },
  {
   "cell_type": "code",
   "execution_count": 229,
   "metadata": {
    "collapsed": false,
    "deletable": true,
    "editable": true
   },
   "outputs": [
    {
     "data": {
      "text/html": [
       "<div>\n",
       "<table border=\"1\" class=\"dataframe\">\n",
       "  <thead>\n",
       "    <tr style=\"text-align: right;\">\n",
       "      <th></th>\n",
       "      <th>&lt; diploma</th>\n",
       "      <th>degree+</th>\n",
       "      <th>urban_influence</th>\n",
       "      <th>pop_2014</th>\n",
       "      <th>pop_inc</th>\n",
       "      <th>foreign_inc</th>\n",
       "      <th>unemployment</th>\n",
       "      <th>poverty</th>\n",
       "      <th>median_hh_inc</th>\n",
       "      <th>median_age</th>\n",
       "      <th>hh_afr_am</th>\n",
       "      <th>hh_hisp</th>\n",
       "      <th>hh_female</th>\n",
       "      <th>hh_food_st</th>\n",
       "      <th>foreign_07</th>\n",
       "      <th>vets</th>\n",
       "      <th>vets_male</th>\n",
       "      <th>viol_crime</th>\n",
       "      <th>prop_crime</th>\n",
       "    </tr>\n",
       "  </thead>\n",
       "  <tbody>\n",
       "    <tr>\n",
       "      <th>count</th>\n",
       "      <td>3130.000000</td>\n",
       "      <td>3130.000000</td>\n",
       "      <td>3130.000000</td>\n",
       "      <td>3.130000e+03</td>\n",
       "      <td>3130.000000</td>\n",
       "      <td>3130.000000</td>\n",
       "      <td>3130.000000</td>\n",
       "      <td>3130.000000</td>\n",
       "      <td>3130.000000</td>\n",
       "      <td>3130.000000</td>\n",
       "      <td>3130.000000</td>\n",
       "      <td>3130.000000</td>\n",
       "      <td>3130.000000</td>\n",
       "      <td>3130.000000</td>\n",
       "      <td>3130.000000</td>\n",
       "      <td>3130.000000</td>\n",
       "      <td>3130.000000</td>\n",
       "      <td>3130.000000</td>\n",
       "      <td>3130.000000</td>\n",
       "    </tr>\n",
       "    <tr>\n",
       "      <th>mean</th>\n",
       "      <td>14.203396</td>\n",
       "      <td>20.789275</td>\n",
       "      <td>5.252716</td>\n",
       "      <td>1.017577e+05</td>\n",
       "      <td>0.002831</td>\n",
       "      <td>0.395946</td>\n",
       "      <td>6.235559</td>\n",
       "      <td>16.837380</td>\n",
       "      <td>47121.392971</td>\n",
       "      <td>40.336102</td>\n",
       "      <td>0.081055</td>\n",
       "      <td>0.060388</td>\n",
       "      <td>0.110043</td>\n",
       "      <td>0.104072</td>\n",
       "      <td>4.242971</td>\n",
       "      <td>0.088570</td>\n",
       "      <td>94.202109</td>\n",
       "      <td>0.002291</td>\n",
       "      <td>0.018038</td>\n",
       "    </tr>\n",
       "    <tr>\n",
       "      <th>std</th>\n",
       "      <td>6.539295</td>\n",
       "      <td>9.143450</td>\n",
       "      <td>3.492818</td>\n",
       "      <td>3.263767e+05</td>\n",
       "      <td>0.041968</td>\n",
       "      <td>3.043823</td>\n",
       "      <td>2.256287</td>\n",
       "      <td>6.422444</td>\n",
       "      <td>12099.573945</td>\n",
       "      <td>5.033958</td>\n",
       "      <td>0.138236</td>\n",
       "      <td>0.114099</td>\n",
       "      <td>0.043623</td>\n",
       "      <td>0.058290</td>\n",
       "      <td>5.475315</td>\n",
       "      <td>0.022732</td>\n",
       "      <td>3.143674</td>\n",
       "      <td>0.001968</td>\n",
       "      <td>0.011847</td>\n",
       "    </tr>\n",
       "    <tr>\n",
       "      <th>min</th>\n",
       "      <td>1.279000</td>\n",
       "      <td>2.985000</td>\n",
       "      <td>1.000000</td>\n",
       "      <td>8.900000e+01</td>\n",
       "      <td>-0.177510</td>\n",
       "      <td>-6.333333</td>\n",
       "      <td>1.200000</td>\n",
       "      <td>3.200000</td>\n",
       "      <td>21658.000000</td>\n",
       "      <td>22.400000</td>\n",
       "      <td>0.000000</td>\n",
       "      <td>0.000000</td>\n",
       "      <td>0.000000</td>\n",
       "      <td>0.000000</td>\n",
       "      <td>0.000000</td>\n",
       "      <td>0.019065</td>\n",
       "      <td>65.000000</td>\n",
       "      <td>0.000000</td>\n",
       "      <td>0.000000</td>\n",
       "    </tr>\n",
       "    <tr>\n",
       "      <th>25%</th>\n",
       "      <td>9.282750</td>\n",
       "      <td>14.427500</td>\n",
       "      <td>2.000000</td>\n",
       "      <td>1.102950e+04</td>\n",
       "      <td>-0.021689</td>\n",
       "      <td>0.007641</td>\n",
       "      <td>4.600000</td>\n",
       "      <td>12.100000</td>\n",
       "      <td>38889.000000</td>\n",
       "      <td>37.400000</td>\n",
       "      <td>0.002661</td>\n",
       "      <td>0.009502</td>\n",
       "      <td>0.082411</td>\n",
       "      <td>0.062540</td>\n",
       "      <td>1.100000</td>\n",
       "      <td>0.074039</td>\n",
       "      <td>92.900000</td>\n",
       "      <td>0.000981</td>\n",
       "      <td>0.009866</td>\n",
       "    </tr>\n",
       "    <tr>\n",
       "      <th>50%</th>\n",
       "      <td>12.765500</td>\n",
       "      <td>18.528000</td>\n",
       "      <td>5.000000</td>\n",
       "      <td>2.574250e+04</td>\n",
       "      <td>-0.004227</td>\n",
       "      <td>0.057769</td>\n",
       "      <td>6.000000</td>\n",
       "      <td>15.800000</td>\n",
       "      <td>45227.500000</td>\n",
       "      <td>40.300000</td>\n",
       "      <td>0.013111</td>\n",
       "      <td>0.019849</td>\n",
       "      <td>0.103899</td>\n",
       "      <td>0.093112</td>\n",
       "      <td>2.300000</td>\n",
       "      <td>0.087159</td>\n",
       "      <td>94.600000</td>\n",
       "      <td>0.001823</td>\n",
       "      <td>0.016319</td>\n",
       "    </tr>\n",
       "    <tr>\n",
       "      <th>75%</th>\n",
       "      <td>18.292750</td>\n",
       "      <td>24.703750</td>\n",
       "      <td>8.000000</td>\n",
       "      <td>6.785250e+04</td>\n",
       "      <td>0.020261</td>\n",
       "      <td>0.200482</td>\n",
       "      <td>7.500000</td>\n",
       "      <td>20.400000</td>\n",
       "      <td>52529.750000</td>\n",
       "      <td>43.300000</td>\n",
       "      <td>0.093166</td>\n",
       "      <td>0.053750</td>\n",
       "      <td>0.128855</td>\n",
       "      <td>0.134389</td>\n",
       "      <td>5.100000</td>\n",
       "      <td>0.100460</td>\n",
       "      <td>96.100000</td>\n",
       "      <td>0.003095</td>\n",
       "      <td>0.024298</td>\n",
       "    </tr>\n",
       "    <tr>\n",
       "      <th>max</th>\n",
       "      <td>51.479000</td>\n",
       "      <td>80.210000</td>\n",
       "      <td>12.000000</td>\n",
       "      <td>1.007270e+07</td>\n",
       "      <td>0.727044</td>\n",
       "      <td>119.000000</td>\n",
       "      <td>24.000000</td>\n",
       "      <td>47.400000</td>\n",
       "      <td>125635.000000</td>\n",
       "      <td>62.700000</td>\n",
       "      <td>0.832707</td>\n",
       "      <td>0.955767</td>\n",
       "      <td>0.450570</td>\n",
       "      <td>0.400252</td>\n",
       "      <td>63.100000</td>\n",
       "      <td>0.297533</td>\n",
       "      <td>100.000000</td>\n",
       "      <td>0.025476</td>\n",
       "      <td>0.138286</td>\n",
       "    </tr>\n",
       "  </tbody>\n",
       "</table>\n",
       "</div>"
      ],
      "text/plain": [
       "         < diploma      degree+  urban_influence      pop_2014      pop_inc  \\\n",
       "count  3130.000000  3130.000000      3130.000000  3.130000e+03  3130.000000   \n",
       "mean     14.203396    20.789275         5.252716  1.017577e+05     0.002831   \n",
       "std       6.539295     9.143450         3.492818  3.263767e+05     0.041968   \n",
       "min       1.279000     2.985000         1.000000  8.900000e+01    -0.177510   \n",
       "25%       9.282750    14.427500         2.000000  1.102950e+04    -0.021689   \n",
       "50%      12.765500    18.528000         5.000000  2.574250e+04    -0.004227   \n",
       "75%      18.292750    24.703750         8.000000  6.785250e+04     0.020261   \n",
       "max      51.479000    80.210000        12.000000  1.007270e+07     0.727044   \n",
       "\n",
       "       foreign_inc  unemployment      poverty  median_hh_inc   median_age  \\\n",
       "count  3130.000000   3130.000000  3130.000000    3130.000000  3130.000000   \n",
       "mean      0.395946      6.235559    16.837380   47121.392971    40.336102   \n",
       "std       3.043823      2.256287     6.422444   12099.573945     5.033958   \n",
       "min      -6.333333      1.200000     3.200000   21658.000000    22.400000   \n",
       "25%       0.007641      4.600000    12.100000   38889.000000    37.400000   \n",
       "50%       0.057769      6.000000    15.800000   45227.500000    40.300000   \n",
       "75%       0.200482      7.500000    20.400000   52529.750000    43.300000   \n",
       "max     119.000000     24.000000    47.400000  125635.000000    62.700000   \n",
       "\n",
       "         hh_afr_am      hh_hisp    hh_female   hh_food_st   foreign_07  \\\n",
       "count  3130.000000  3130.000000  3130.000000  3130.000000  3130.000000   \n",
       "mean      0.081055     0.060388     0.110043     0.104072     4.242971   \n",
       "std       0.138236     0.114099     0.043623     0.058290     5.475315   \n",
       "min       0.000000     0.000000     0.000000     0.000000     0.000000   \n",
       "25%       0.002661     0.009502     0.082411     0.062540     1.100000   \n",
       "50%       0.013111     0.019849     0.103899     0.093112     2.300000   \n",
       "75%       0.093166     0.053750     0.128855     0.134389     5.100000   \n",
       "max       0.832707     0.955767     0.450570     0.400252    63.100000   \n",
       "\n",
       "              vets    vets_male   viol_crime   prop_crime  \n",
       "count  3130.000000  3130.000000  3130.000000  3130.000000  \n",
       "mean      0.088570    94.202109     0.002291     0.018038  \n",
       "std       0.022732     3.143674     0.001968     0.011847  \n",
       "min       0.019065    65.000000     0.000000     0.000000  \n",
       "25%       0.074039    92.900000     0.000981     0.009866  \n",
       "50%       0.087159    94.600000     0.001823     0.016319  \n",
       "75%       0.100460    96.100000     0.003095     0.024298  \n",
       "max       0.297533   100.000000     0.025476     0.138286  "
      ]
     },
     "execution_count": 229,
     "metadata": {},
     "output_type": "execute_result"
    }
   ],
   "source": [
    "data.describe()"
   ]
  },
  {
   "cell_type": "code",
   "execution_count": 230,
   "metadata": {
    "collapsed": true,
    "deletable": true,
    "editable": true
   },
   "outputs": [],
   "source": [
    "deaths = pd.read_csv('data/Drug_deaths.csv', usecols=['FIPS', 'Year', 'Estimated Age-adjusted Death Rate, 16 Categories (in ranges)'],\n",
    "                    converters={'FIPS': str})"
   ]
  },
  {
   "cell_type": "code",
   "execution_count": 231,
   "metadata": {
    "collapsed": false,
    "deletable": true,
    "editable": true
   },
   "outputs": [
    {
     "data": {
      "text/plain": [
       "FIPS                                                            0\n",
       "Year                                                            0\n",
       "Estimated Age-adjusted Death Rate, 16 Categories (in ranges)    0\n",
       "dtype: int64"
      ]
     },
     "execution_count": 231,
     "metadata": {},
     "output_type": "execute_result"
    }
   ],
   "source": [
    "deaths.isnull().sum()"
   ]
  },
  {
   "cell_type": "code",
   "execution_count": 232,
   "metadata": {
    "collapsed": true,
    "deletable": true,
    "editable": true
   },
   "outputs": [],
   "source": [
    "targets = deaths[deaths['Year'] == 2014]\n",
    "targets = targets.drop('Year', axis=1)\n",
    "targets.columns = ['FIPS', 'death_rate']\n",
    "targets.loc[:, 'FIPS'] = targets['FIPS'].apply(lambda x: '0' + x if len(x) == 4 else x)"
   ]
  },
  {
   "cell_type": "code",
   "execution_count": 233,
   "metadata": {
    "collapsed": false,
    "deletable": true,
    "editable": true
   },
   "outputs": [
    {
     "data": {
      "text/plain": [
       "FIPS          0\n",
       "death_rate    0\n",
       "dtype: int64"
      ]
     },
     "execution_count": 233,
     "metadata": {},
     "output_type": "execute_result"
    }
   ],
   "source": [
    "targets.isnull().sum()"
   ]
  },
  {
   "cell_type": "code",
   "execution_count": 234,
   "metadata": {
    "collapsed": true,
    "deletable": true,
    "editable": true
   },
   "outputs": [],
   "source": [
    "import re\n",
    "def get_num(string):\n",
    "    match = re.search('\\d+', string)\n",
    "    return int(match.group()) + 1"
   ]
  },
  {
   "cell_type": "code",
   "execution_count": 235,
   "metadata": {
    "collapsed": true,
    "deletable": true,
    "editable": true
   },
   "outputs": [],
   "source": [
    "targets['numeric'] = targets['death_rate'].apply(lambda x: get_num(x) if x != '<2' else 1)"
   ]
  },
  {
   "cell_type": "code",
   "execution_count": 236,
   "metadata": {
    "collapsed": true,
    "deletable": true,
    "editable": true
   },
   "outputs": [],
   "source": [
    "data = data.join(targets.set_index('FIPS')) # drop na"
   ]
  },
  {
   "cell_type": "code",
   "execution_count": 237,
   "metadata": {
    "collapsed": false,
    "deletable": true,
    "editable": true
   },
   "outputs": [
    {
     "data": {
      "text/plain": [
       "state              0\n",
       "name               0\n",
       "< diploma          0\n",
       "degree+            0\n",
       "urban_influence    0\n",
       "pop_2014           0\n",
       "pop_inc            0\n",
       "foreign_inc        0\n",
       "unemployment       0\n",
       "poverty            0\n",
       "median_hh_inc      0\n",
       "median_age         0\n",
       "hh_afr_am          0\n",
       "hh_hisp            0\n",
       "hh_female          0\n",
       "hh_food_st         0\n",
       "foreign_07         0\n",
       "vets               0\n",
       "vets_male          0\n",
       "viol_crime         0\n",
       "prop_crime         0\n",
       "death_rate         4\n",
       "numeric            4\n",
       "dtype: int64"
      ]
     },
     "execution_count": 237,
     "metadata": {},
     "output_type": "execute_result"
    }
   ],
   "source": [
    "data.isnull().sum()"
   ]
  },
  {
   "cell_type": "code",
   "execution_count": 238,
   "metadata": {
    "collapsed": false,
    "deletable": true,
    "editable": true
   },
   "outputs": [
    {
     "data": {
      "text/html": [
       "<div>\n",
       "<table border=\"1\" class=\"dataframe\">\n",
       "  <thead>\n",
       "    <tr style=\"text-align: right;\">\n",
       "      <th></th>\n",
       "      <th>state</th>\n",
       "      <th>name</th>\n",
       "      <th>&lt; diploma</th>\n",
       "      <th>degree+</th>\n",
       "      <th>urban_influence</th>\n",
       "      <th>pop_2014</th>\n",
       "      <th>pop_inc</th>\n",
       "      <th>foreign_inc</th>\n",
       "      <th>unemployment</th>\n",
       "      <th>poverty</th>\n",
       "      <th>...</th>\n",
       "      <th>hh_hisp</th>\n",
       "      <th>hh_female</th>\n",
       "      <th>hh_food_st</th>\n",
       "      <th>foreign_07</th>\n",
       "      <th>vets</th>\n",
       "      <th>vets_male</th>\n",
       "      <th>viol_crime</th>\n",
       "      <th>prop_crime</th>\n",
       "      <th>death_rate</th>\n",
       "      <th>numeric</th>\n",
       "    </tr>\n",
       "    <tr>\n",
       "      <th>FIPS</th>\n",
       "      <th></th>\n",
       "      <th></th>\n",
       "      <th></th>\n",
       "      <th></th>\n",
       "      <th></th>\n",
       "      <th></th>\n",
       "      <th></th>\n",
       "      <th></th>\n",
       "      <th></th>\n",
       "      <th></th>\n",
       "      <th></th>\n",
       "      <th></th>\n",
       "      <th></th>\n",
       "      <th></th>\n",
       "      <th></th>\n",
       "      <th></th>\n",
       "      <th></th>\n",
       "      <th></th>\n",
       "      <th></th>\n",
       "      <th></th>\n",
       "      <th></th>\n",
       "    </tr>\n",
       "  </thead>\n",
       "  <tbody>\n",
       "    <tr>\n",
       "      <th>08001</th>\n",
       "      <td>CO</td>\n",
       "      <td>Adams County</td>\n",
       "      <td>17.839</td>\n",
       "      <td>22.368</td>\n",
       "      <td>1.0</td>\n",
       "      <td>479488.0</td>\n",
       "      <td>0.085790</td>\n",
       "      <td>0.054824</td>\n",
       "      <td>5.7</td>\n",
       "      <td>12.9</td>\n",
       "      <td>...</td>\n",
       "      <td>0.289450</td>\n",
       "      <td>0.114910</td>\n",
       "      <td>0.055541</td>\n",
       "      <td>15.3</td>\n",
       "      <td>0.071674</td>\n",
       "      <td>92.5</td>\n",
       "      <td>0.003418</td>\n",
       "      <td>0.028810</td>\n",
       "      <td>NaN</td>\n",
       "      <td>NaN</td>\n",
       "    </tr>\n",
       "    <tr>\n",
       "      <th>08014</th>\n",
       "      <td>CO</td>\n",
       "      <td>Broomfield County</td>\n",
       "      <td>3.948</td>\n",
       "      <td>52.457</td>\n",
       "      <td>1.0</td>\n",
       "      <td>61706.0</td>\n",
       "      <td>0.104081</td>\n",
       "      <td>0.045556</td>\n",
       "      <td>4.2</td>\n",
       "      <td>4.0</td>\n",
       "      <td>...</td>\n",
       "      <td>0.080415</td>\n",
       "      <td>0.089699</td>\n",
       "      <td>0.027461</td>\n",
       "      <td>7.5</td>\n",
       "      <td>0.077482</td>\n",
       "      <td>93.9</td>\n",
       "      <td>0.000502</td>\n",
       "      <td>0.016854</td>\n",
       "      <td>NaN</td>\n",
       "      <td>NaN</td>\n",
       "    </tr>\n",
       "    <tr>\n",
       "      <th>08059</th>\n",
       "      <td>CO</td>\n",
       "      <td>Jefferson County</td>\n",
       "      <td>5.848</td>\n",
       "      <td>42.220</td>\n",
       "      <td>1.0</td>\n",
       "      <td>558519.0</td>\n",
       "      <td>0.044853</td>\n",
       "      <td>0.059893</td>\n",
       "      <td>4.6</td>\n",
       "      <td>8.3</td>\n",
       "      <td>...</td>\n",
       "      <td>0.105262</td>\n",
       "      <td>0.096715</td>\n",
       "      <td>0.033976</td>\n",
       "      <td>6.4</td>\n",
       "      <td>0.088829</td>\n",
       "      <td>93.4</td>\n",
       "      <td>0.002333</td>\n",
       "      <td>0.027371</td>\n",
       "      <td>NaN</td>\n",
       "      <td>NaN</td>\n",
       "    </tr>\n",
       "    <tr>\n",
       "      <th>08123</th>\n",
       "      <td>CO</td>\n",
       "      <td>Weld County</td>\n",
       "      <td>12.995</td>\n",
       "      <td>26.762</td>\n",
       "      <td>2.0</td>\n",
       "      <td>275584.0</td>\n",
       "      <td>0.090019</td>\n",
       "      <td>0.018015</td>\n",
       "      <td>4.5</td>\n",
       "      <td>10.5</td>\n",
       "      <td>...</td>\n",
       "      <td>0.212258</td>\n",
       "      <td>0.092415</td>\n",
       "      <td>0.048219</td>\n",
       "      <td>9.3</td>\n",
       "      <td>0.067942</td>\n",
       "      <td>94.2</td>\n",
       "      <td>0.002885</td>\n",
       "      <td>0.020204</td>\n",
       "      <td>NaN</td>\n",
       "      <td>NaN</td>\n",
       "    </tr>\n",
       "  </tbody>\n",
       "</table>\n",
       "<p>4 rows × 23 columns</p>\n",
       "</div>"
      ],
      "text/plain": [
       "      state               name  < diploma  degree+  urban_influence  pop_2014  \\\n",
       "FIPS                                                                            \n",
       "08001    CO       Adams County     17.839   22.368              1.0  479488.0   \n",
       "08014    CO  Broomfield County      3.948   52.457              1.0   61706.0   \n",
       "08059    CO   Jefferson County      5.848   42.220              1.0  558519.0   \n",
       "08123    CO        Weld County     12.995   26.762              2.0  275584.0   \n",
       "\n",
       "        pop_inc  foreign_inc  unemployment  poverty   ...      hh_hisp  \\\n",
       "FIPS                                                  ...                \n",
       "08001  0.085790     0.054824           5.7     12.9   ...     0.289450   \n",
       "08014  0.104081     0.045556           4.2      4.0   ...     0.080415   \n",
       "08059  0.044853     0.059893           4.6      8.3   ...     0.105262   \n",
       "08123  0.090019     0.018015           4.5     10.5   ...     0.212258   \n",
       "\n",
       "       hh_female  hh_food_st  foreign_07      vets  vets_male  viol_crime  \\\n",
       "FIPS                                                                        \n",
       "08001   0.114910    0.055541        15.3  0.071674       92.5    0.003418   \n",
       "08014   0.089699    0.027461         7.5  0.077482       93.9    0.000502   \n",
       "08059   0.096715    0.033976         6.4  0.088829       93.4    0.002333   \n",
       "08123   0.092415    0.048219         9.3  0.067942       94.2    0.002885   \n",
       "\n",
       "       prop_crime  death_rate  numeric  \n",
       "FIPS                                    \n",
       "08001    0.028810         NaN      NaN  \n",
       "08014    0.016854         NaN      NaN  \n",
       "08059    0.027371         NaN      NaN  \n",
       "08123    0.020204         NaN      NaN  \n",
       "\n",
       "[4 rows x 23 columns]"
      ]
     },
     "execution_count": 238,
     "metadata": {},
     "output_type": "execute_result"
    }
   ],
   "source": [
    "data[data['death_rate'].isnull()]"
   ]
  },
  {
   "cell_type": "markdown",
   "metadata": {
    "deletable": true,
    "editable": true
   },
   "source": [
    "These four counties had boundaries redrawn after 2000, and do not appear in the opioid deaths dataset, so they will be removed."
   ]
  },
  {
   "cell_type": "code",
   "execution_count": 239,
   "metadata": {
    "collapsed": true,
    "deletable": true,
    "editable": true
   },
   "outputs": [],
   "source": [
    "data = data.drop(['08001', '08014', '08059', '08123'])"
   ]
  },
  {
   "cell_type": "code",
   "execution_count": 240,
   "metadata": {
    "collapsed": false,
    "deletable": true,
    "editable": true
   },
   "outputs": [
    {
     "data": {
      "text/plain": [
       "count    3136.000000\n",
       "mean       14.180485\n",
       "std         6.583190\n",
       "min         1.000000\n",
       "25%         9.000000\n",
       "50%        13.000000\n",
       "75%        17.000000\n",
       "max        31.000000\n",
       "Name: numeric, dtype: float64"
      ]
     },
     "execution_count": 240,
     "metadata": {},
     "output_type": "execute_result"
    }
   ],
   "source": [
    "targets['numeric'].describe()"
   ]
  },
  {
   "cell_type": "markdown",
   "metadata": {
    "deletable": true,
    "editable": true
   },
   "source": [
    "The maximum value of 31 fits the standard definition of an outlier as less than Q1 - 1.5\\*IQR or greater than Q3 + 1.5\\*IQR. Here that applies only to values >29. Where are these outliers?"
   ]
  },
  {
   "cell_type": "code",
   "execution_count": 241,
   "metadata": {
    "collapsed": false,
    "deletable": true,
    "editable": true
   },
   "outputs": [
    {
     "name": "stdout",
     "output_type": "stream",
     "text": [
      "102\n"
     ]
    },
    {
     "data": {
      "text/html": [
       "<div>\n",
       "<table border=\"1\" class=\"dataframe\">\n",
       "  <thead>\n",
       "    <tr style=\"text-align: right;\">\n",
       "      <th></th>\n",
       "      <th>state</th>\n",
       "      <th>name</th>\n",
       "    </tr>\n",
       "    <tr>\n",
       "      <th>FIPS</th>\n",
       "      <th></th>\n",
       "      <th></th>\n",
       "    </tr>\n",
       "  </thead>\n",
       "  <tbody>\n",
       "    <tr>\n",
       "      <th>04012</th>\n",
       "      <td>AZ</td>\n",
       "      <td>La Paz County</td>\n",
       "    </tr>\n",
       "    <tr>\n",
       "      <th>06023</th>\n",
       "      <td>CA</td>\n",
       "      <td>Humboldt County</td>\n",
       "    </tr>\n",
       "    <tr>\n",
       "      <th>06033</th>\n",
       "      <td>CA</td>\n",
       "      <td>Lake County</td>\n",
       "    </tr>\n",
       "    <tr>\n",
       "      <th>06089</th>\n",
       "      <td>CA</td>\n",
       "      <td>Shasta County</td>\n",
       "    </tr>\n",
       "    <tr>\n",
       "      <th>08023</th>\n",
       "      <td>CO</td>\n",
       "      <td>Costilla County</td>\n",
       "    </tr>\n",
       "    <tr>\n",
       "      <th>08055</th>\n",
       "      <td>CO</td>\n",
       "      <td>Huerfano County</td>\n",
       "    </tr>\n",
       "    <tr>\n",
       "      <th>12017</th>\n",
       "      <td>FL</td>\n",
       "      <td>Citrus County</td>\n",
       "    </tr>\n",
       "    <tr>\n",
       "      <th>12101</th>\n",
       "      <td>FL</td>\n",
       "      <td>Pasco County</td>\n",
       "    </tr>\n",
       "    <tr>\n",
       "      <th>16007</th>\n",
       "      <td>ID</td>\n",
       "      <td>Bear Lake County</td>\n",
       "    </tr>\n",
       "    <tr>\n",
       "      <th>18143</th>\n",
       "      <td>IN</td>\n",
       "      <td>Scott County</td>\n",
       "    </tr>\n",
       "    <tr>\n",
       "      <th>18149</th>\n",
       "      <td>IN</td>\n",
       "      <td>Starke County</td>\n",
       "    </tr>\n",
       "    <tr>\n",
       "      <th>20207</th>\n",
       "      <td>KS</td>\n",
       "      <td>Woodson County</td>\n",
       "    </tr>\n",
       "    <tr>\n",
       "      <th>21011</th>\n",
       "      <td>KY</td>\n",
       "      <td>Bath County</td>\n",
       "    </tr>\n",
       "    <tr>\n",
       "      <th>21013</th>\n",
       "      <td>KY</td>\n",
       "      <td>Bell County</td>\n",
       "    </tr>\n",
       "    <tr>\n",
       "      <th>21019</th>\n",
       "      <td>KY</td>\n",
       "      <td>Boyd County</td>\n",
       "    </tr>\n",
       "    <tr>\n",
       "      <th>21025</th>\n",
       "      <td>KY</td>\n",
       "      <td>Breathitt County</td>\n",
       "    </tr>\n",
       "    <tr>\n",
       "      <th>21037</th>\n",
       "      <td>KY</td>\n",
       "      <td>Campbell County</td>\n",
       "    </tr>\n",
       "    <tr>\n",
       "      <th>21049</th>\n",
       "      <td>KY</td>\n",
       "      <td>Clark County</td>\n",
       "    </tr>\n",
       "    <tr>\n",
       "      <th>21051</th>\n",
       "      <td>KY</td>\n",
       "      <td>Clay County</td>\n",
       "    </tr>\n",
       "    <tr>\n",
       "      <th>21053</th>\n",
       "      <td>KY</td>\n",
       "      <td>Clinton County</td>\n",
       "    </tr>\n",
       "    <tr>\n",
       "      <th>21057</th>\n",
       "      <td>KY</td>\n",
       "      <td>Cumberland County</td>\n",
       "    </tr>\n",
       "    <tr>\n",
       "      <th>21065</th>\n",
       "      <td>KY</td>\n",
       "      <td>Estill County</td>\n",
       "    </tr>\n",
       "    <tr>\n",
       "      <th>21071</th>\n",
       "      <td>KY</td>\n",
       "      <td>Floyd County</td>\n",
       "    </tr>\n",
       "    <tr>\n",
       "      <th>21077</th>\n",
       "      <td>KY</td>\n",
       "      <td>Gallatin County</td>\n",
       "    </tr>\n",
       "    <tr>\n",
       "      <th>21095</th>\n",
       "      <td>KY</td>\n",
       "      <td>Harlan County</td>\n",
       "    </tr>\n",
       "    <tr>\n",
       "      <th>21115</th>\n",
       "      <td>KY</td>\n",
       "      <td>Johnson County</td>\n",
       "    </tr>\n",
       "    <tr>\n",
       "      <th>21117</th>\n",
       "      <td>KY</td>\n",
       "      <td>Kenton County</td>\n",
       "    </tr>\n",
       "    <tr>\n",
       "      <th>21119</th>\n",
       "      <td>KY</td>\n",
       "      <td>Knott County</td>\n",
       "    </tr>\n",
       "    <tr>\n",
       "      <th>21121</th>\n",
       "      <td>KY</td>\n",
       "      <td>Knox County</td>\n",
       "    </tr>\n",
       "    <tr>\n",
       "      <th>21127</th>\n",
       "      <td>KY</td>\n",
       "      <td>Lawrence County</td>\n",
       "    </tr>\n",
       "    <tr>\n",
       "      <th>...</th>\n",
       "      <td>...</td>\n",
       "      <td>...</td>\n",
       "    </tr>\n",
       "    <tr>\n",
       "      <th>47027</th>\n",
       "      <td>TN</td>\n",
       "      <td>Clay County</td>\n",
       "    </tr>\n",
       "    <tr>\n",
       "      <th>47041</th>\n",
       "      <td>TN</td>\n",
       "      <td>DeKalb County</td>\n",
       "    </tr>\n",
       "    <tr>\n",
       "      <th>47067</th>\n",
       "      <td>TN</td>\n",
       "      <td>Hancock County</td>\n",
       "    </tr>\n",
       "    <tr>\n",
       "      <th>47087</th>\n",
       "      <td>TN</td>\n",
       "      <td>Jackson County</td>\n",
       "    </tr>\n",
       "    <tr>\n",
       "      <th>47137</th>\n",
       "      <td>TN</td>\n",
       "      <td>Pickett County</td>\n",
       "    </tr>\n",
       "    <tr>\n",
       "      <th>47145</th>\n",
       "      <td>TN</td>\n",
       "      <td>Roane County</td>\n",
       "    </tr>\n",
       "    <tr>\n",
       "      <th>47173</th>\n",
       "      <td>TN</td>\n",
       "      <td>Union County</td>\n",
       "    </tr>\n",
       "    <tr>\n",
       "      <th>48023</th>\n",
       "      <td>TX</td>\n",
       "      <td>Baylor County</td>\n",
       "    </tr>\n",
       "    <tr>\n",
       "      <th>49007</th>\n",
       "      <td>UT</td>\n",
       "      <td>Carbon County</td>\n",
       "    </tr>\n",
       "    <tr>\n",
       "      <th>49015</th>\n",
       "      <td>UT</td>\n",
       "      <td>Emery County</td>\n",
       "    </tr>\n",
       "    <tr>\n",
       "      <th>51027</th>\n",
       "      <td>VA</td>\n",
       "      <td>Buchanan County</td>\n",
       "    </tr>\n",
       "    <tr>\n",
       "      <th>51051</th>\n",
       "      <td>VA</td>\n",
       "      <td>Dickenson County</td>\n",
       "    </tr>\n",
       "    <tr>\n",
       "      <th>51155</th>\n",
       "      <td>VA</td>\n",
       "      <td>Pulaski County</td>\n",
       "    </tr>\n",
       "    <tr>\n",
       "      <th>51167</th>\n",
       "      <td>VA</td>\n",
       "      <td>Russell County</td>\n",
       "    </tr>\n",
       "    <tr>\n",
       "      <th>51185</th>\n",
       "      <td>VA</td>\n",
       "      <td>Tazewell County</td>\n",
       "    </tr>\n",
       "    <tr>\n",
       "      <th>51195</th>\n",
       "      <td>VA</td>\n",
       "      <td>Wise County</td>\n",
       "    </tr>\n",
       "    <tr>\n",
       "      <th>51720</th>\n",
       "      <td>VA</td>\n",
       "      <td>Norton city</td>\n",
       "    </tr>\n",
       "    <tr>\n",
       "      <th>54005</th>\n",
       "      <td>WV</td>\n",
       "      <td>Boone County</td>\n",
       "    </tr>\n",
       "    <tr>\n",
       "      <th>54011</th>\n",
       "      <td>WV</td>\n",
       "      <td>Cabell County</td>\n",
       "    </tr>\n",
       "    <tr>\n",
       "      <th>54043</th>\n",
       "      <td>WV</td>\n",
       "      <td>Lincoln County</td>\n",
       "    </tr>\n",
       "    <tr>\n",
       "      <th>54045</th>\n",
       "      <td>WV</td>\n",
       "      <td>Logan County</td>\n",
       "    </tr>\n",
       "    <tr>\n",
       "      <th>54047</th>\n",
       "      <td>WV</td>\n",
       "      <td>McDowell County</td>\n",
       "    </tr>\n",
       "    <tr>\n",
       "      <th>54055</th>\n",
       "      <td>WV</td>\n",
       "      <td>Mercer County</td>\n",
       "    </tr>\n",
       "    <tr>\n",
       "      <th>54059</th>\n",
       "      <td>WV</td>\n",
       "      <td>Mingo County</td>\n",
       "    </tr>\n",
       "    <tr>\n",
       "      <th>54063</th>\n",
       "      <td>WV</td>\n",
       "      <td>Monroe County</td>\n",
       "    </tr>\n",
       "    <tr>\n",
       "      <th>54075</th>\n",
       "      <td>WV</td>\n",
       "      <td>Pocahontas County</td>\n",
       "    </tr>\n",
       "    <tr>\n",
       "      <th>54081</th>\n",
       "      <td>WV</td>\n",
       "      <td>Raleigh County</td>\n",
       "    </tr>\n",
       "    <tr>\n",
       "      <th>54089</th>\n",
       "      <td>WV</td>\n",
       "      <td>Summers County</td>\n",
       "    </tr>\n",
       "    <tr>\n",
       "      <th>54101</th>\n",
       "      <td>WV</td>\n",
       "      <td>Webster County</td>\n",
       "    </tr>\n",
       "    <tr>\n",
       "      <th>54109</th>\n",
       "      <td>WV</td>\n",
       "      <td>Wyoming County</td>\n",
       "    </tr>\n",
       "  </tbody>\n",
       "</table>\n",
       "<p>102 rows × 2 columns</p>\n",
       "</div>"
      ],
      "text/plain": [
       "      state               name\n",
       "FIPS                          \n",
       "04012    AZ      La Paz County\n",
       "06023    CA    Humboldt County\n",
       "06033    CA        Lake County\n",
       "06089    CA      Shasta County\n",
       "08023    CO    Costilla County\n",
       "08055    CO    Huerfano County\n",
       "12017    FL      Citrus County\n",
       "12101    FL       Pasco County\n",
       "16007    ID   Bear Lake County\n",
       "18143    IN       Scott County\n",
       "18149    IN      Starke County\n",
       "20207    KS     Woodson County\n",
       "21011    KY        Bath County\n",
       "21013    KY        Bell County\n",
       "21019    KY        Boyd County\n",
       "21025    KY   Breathitt County\n",
       "21037    KY    Campbell County\n",
       "21049    KY       Clark County\n",
       "21051    KY        Clay County\n",
       "21053    KY     Clinton County\n",
       "21057    KY  Cumberland County\n",
       "21065    KY      Estill County\n",
       "21071    KY       Floyd County\n",
       "21077    KY    Gallatin County\n",
       "21095    KY      Harlan County\n",
       "21115    KY     Johnson County\n",
       "21117    KY      Kenton County\n",
       "21119    KY       Knott County\n",
       "21121    KY        Knox County\n",
       "21127    KY    Lawrence County\n",
       "...     ...                ...\n",
       "47027    TN        Clay County\n",
       "47041    TN      DeKalb County\n",
       "47067    TN     Hancock County\n",
       "47087    TN     Jackson County\n",
       "47137    TN     Pickett County\n",
       "47145    TN       Roane County\n",
       "47173    TN       Union County\n",
       "48023    TX      Baylor County\n",
       "49007    UT      Carbon County\n",
       "49015    UT       Emery County\n",
       "51027    VA    Buchanan County\n",
       "51051    VA   Dickenson County\n",
       "51155    VA     Pulaski County\n",
       "51167    VA     Russell County\n",
       "51185    VA    Tazewell County\n",
       "51195    VA        Wise County\n",
       "51720    VA        Norton city\n",
       "54005    WV       Boone County\n",
       "54011    WV      Cabell County\n",
       "54043    WV     Lincoln County\n",
       "54045    WV       Logan County\n",
       "54047    WV    McDowell County\n",
       "54055    WV      Mercer County\n",
       "54059    WV       Mingo County\n",
       "54063    WV      Monroe County\n",
       "54075    WV  Pocahontas County\n",
       "54081    WV     Raleigh County\n",
       "54089    WV     Summers County\n",
       "54101    WV     Webster County\n",
       "54109    WV     Wyoming County\n",
       "\n",
       "[102 rows x 2 columns]"
      ]
     },
     "execution_count": 241,
     "metadata": {},
     "output_type": "execute_result"
    }
   ],
   "source": [
    "target_outliers = targets[targets['numeric'] == 31]['FIPS']\n",
    "target_outliers = data.loc[target_outliers, ['state', 'name']]\n",
    "print(len(target_outliers))\n",
    "target_outliers"
   ]
  },
  {
   "cell_type": "markdown",
   "metadata": {
    "deletable": true,
    "editable": true
   },
   "source": [
    "These outliers appear to be concentrated in some states."
   ]
  },
  {
   "cell_type": "code",
   "execution_count": 242,
   "metadata": {
    "collapsed": false,
    "deletable": true,
    "editable": true
   },
   "outputs": [
    {
     "data": {
      "text/html": [
       "<div>\n",
       "<table border=\"1\" class=\"dataframe\">\n",
       "  <thead>\n",
       "    <tr style=\"text-align: right;\">\n",
       "      <th></th>\n",
       "      <th>outliers</th>\n",
       "      <th>total</th>\n",
       "      <th>percent</th>\n",
       "    </tr>\n",
       "    <tr>\n",
       "      <th>state</th>\n",
       "      <th></th>\n",
       "      <th></th>\n",
       "      <th></th>\n",
       "    </tr>\n",
       "  </thead>\n",
       "  <tbody>\n",
       "    <tr>\n",
       "      <th>AZ</th>\n",
       "      <td>1</td>\n",
       "      <td>15</td>\n",
       "      <td>6.666667</td>\n",
       "    </tr>\n",
       "    <tr>\n",
       "      <th>CA</th>\n",
       "      <td>3</td>\n",
       "      <td>58</td>\n",
       "      <td>5.172414</td>\n",
       "    </tr>\n",
       "    <tr>\n",
       "      <th>CO</th>\n",
       "      <td>2</td>\n",
       "      <td>60</td>\n",
       "      <td>3.333333</td>\n",
       "    </tr>\n",
       "    <tr>\n",
       "      <th>FL</th>\n",
       "      <td>2</td>\n",
       "      <td>67</td>\n",
       "      <td>2.985075</td>\n",
       "    </tr>\n",
       "    <tr>\n",
       "      <th>ID</th>\n",
       "      <td>1</td>\n",
       "      <td>44</td>\n",
       "      <td>2.272727</td>\n",
       "    </tr>\n",
       "    <tr>\n",
       "      <th>IN</th>\n",
       "      <td>2</td>\n",
       "      <td>92</td>\n",
       "      <td>2.173913</td>\n",
       "    </tr>\n",
       "    <tr>\n",
       "      <th>KS</th>\n",
       "      <td>1</td>\n",
       "      <td>105</td>\n",
       "      <td>0.952381</td>\n",
       "    </tr>\n",
       "    <tr>\n",
       "      <th>KY</th>\n",
       "      <td>29</td>\n",
       "      <td>120</td>\n",
       "      <td>24.166667</td>\n",
       "    </tr>\n",
       "    <tr>\n",
       "      <th>LA</th>\n",
       "      <td>1</td>\n",
       "      <td>64</td>\n",
       "      <td>1.562500</td>\n",
       "    </tr>\n",
       "    <tr>\n",
       "      <th>MD</th>\n",
       "      <td>1</td>\n",
       "      <td>24</td>\n",
       "      <td>4.166667</td>\n",
       "    </tr>\n",
       "    <tr>\n",
       "      <th>MS</th>\n",
       "      <td>1</td>\n",
       "      <td>81</td>\n",
       "      <td>1.234568</td>\n",
       "    </tr>\n",
       "    <tr>\n",
       "      <th>MT</th>\n",
       "      <td>2</td>\n",
       "      <td>55</td>\n",
       "      <td>3.636364</td>\n",
       "    </tr>\n",
       "    <tr>\n",
       "      <th>NC</th>\n",
       "      <td>1</td>\n",
       "      <td>100</td>\n",
       "      <td>1.000000</td>\n",
       "    </tr>\n",
       "    <tr>\n",
       "      <th>NM</th>\n",
       "      <td>13</td>\n",
       "      <td>33</td>\n",
       "      <td>39.393939</td>\n",
       "    </tr>\n",
       "    <tr>\n",
       "      <th>NV</th>\n",
       "      <td>4</td>\n",
       "      <td>17</td>\n",
       "      <td>23.529412</td>\n",
       "    </tr>\n",
       "    <tr>\n",
       "      <th>OH</th>\n",
       "      <td>1</td>\n",
       "      <td>88</td>\n",
       "      <td>1.136364</td>\n",
       "    </tr>\n",
       "    <tr>\n",
       "      <th>OK</th>\n",
       "      <td>4</td>\n",
       "      <td>77</td>\n",
       "      <td>5.194805</td>\n",
       "    </tr>\n",
       "    <tr>\n",
       "      <th>PA</th>\n",
       "      <td>1</td>\n",
       "      <td>67</td>\n",
       "      <td>1.492537</td>\n",
       "    </tr>\n",
       "    <tr>\n",
       "      <th>TN</th>\n",
       "      <td>9</td>\n",
       "      <td>95</td>\n",
       "      <td>9.473684</td>\n",
       "    </tr>\n",
       "    <tr>\n",
       "      <th>TX</th>\n",
       "      <td>1</td>\n",
       "      <td>254</td>\n",
       "      <td>0.393701</td>\n",
       "    </tr>\n",
       "    <tr>\n",
       "      <th>UT</th>\n",
       "      <td>2</td>\n",
       "      <td>29</td>\n",
       "      <td>6.896552</td>\n",
       "    </tr>\n",
       "    <tr>\n",
       "      <th>VA</th>\n",
       "      <td>7</td>\n",
       "      <td>133</td>\n",
       "      <td>5.263158</td>\n",
       "    </tr>\n",
       "    <tr>\n",
       "      <th>WV</th>\n",
       "      <td>13</td>\n",
       "      <td>55</td>\n",
       "      <td>23.636364</td>\n",
       "    </tr>\n",
       "  </tbody>\n",
       "</table>\n",
       "</div>"
      ],
      "text/plain": [
       "       outliers  total    percent\n",
       "state                            \n",
       "AZ            1     15   6.666667\n",
       "CA            3     58   5.172414\n",
       "CO            2     60   3.333333\n",
       "FL            2     67   2.985075\n",
       "ID            1     44   2.272727\n",
       "IN            2     92   2.173913\n",
       "KS            1    105   0.952381\n",
       "KY           29    120  24.166667\n",
       "LA            1     64   1.562500\n",
       "MD            1     24   4.166667\n",
       "MS            1     81   1.234568\n",
       "MT            2     55   3.636364\n",
       "NC            1    100   1.000000\n",
       "NM           13     33  39.393939\n",
       "NV            4     17  23.529412\n",
       "OH            1     88   1.136364\n",
       "OK            4     77   5.194805\n",
       "PA            1     67   1.492537\n",
       "TN            9     95   9.473684\n",
       "TX            1    254   0.393701\n",
       "UT            2     29   6.896552\n",
       "VA            7    133   5.263158\n",
       "WV           13     55  23.636364"
      ]
     },
     "execution_count": 242,
     "metadata": {},
     "output_type": "execute_result"
    }
   ],
   "source": [
    "outliers_by_state = pd.DataFrame(target_outliers.groupby('state').size(), columns=['outliers'])\n",
    "counties_by_state = pd.DataFrame(data.groupby('state').size(), columns = ['total'])\n",
    "outliers_by_state['total'] = counties_by_state['total']\n",
    "outliers_by_state['percent'] = 100 * outliers_by_state['outliers']/outliers_by_state['total']\n",
    "outliers_by_state"
   ]
  },
  {
   "cell_type": "markdown",
   "metadata": {
    "deletable": true,
    "editable": true
   },
   "source": [
    "The distribution is highly uneven and potentially problematic. Remove but keep in a secondary dataset.. "
   ]
  },
  {
   "cell_type": "code",
   "execution_count": 243,
   "metadata": {
    "collapsed": true,
    "deletable": true,
    "editable": true
   },
   "outputs": [],
   "source": [
    "data_31 = data.copy()\n",
    "data = data[data['death_rate'] != '30+']"
   ]
  },
  {
   "cell_type": "code",
   "execution_count": 244,
   "metadata": {
    "collapsed": false,
    "deletable": true,
    "editable": true
   },
   "outputs": [
    {
     "data": {
      "text/plain": [
       "<matplotlib.axes._subplots.AxesSubplot at 0x12ade6780>"
      ]
     },
     "execution_count": 244,
     "metadata": {},
     "output_type": "execute_result"
    },
    {
     "data": {
      "image/png": "[encoded data removed]",
      "text/plain": [
       "<matplotlib.figure.Figure at 0x11a350b00>"
      ]
     },
     "metadata": {},
     "output_type": "display_data"
    }
   ],
   "source": [
    "from scipy.stats import norm\n",
    "sns.distplot(targets['numeric'], bins=16, fit=norm, kde=False)\n",
    "#targets['numeric'].hist(bins=16)"
   ]
  },
  {
   "cell_type": "markdown",
   "metadata": {
    "deletable": true,
    "editable": true
   },
   "source": [
    "The target distribution is not normal, but it follows the general shape of a normal curve except for the high-end spike at death_rate = 31. The class imbalance will have to be dealt with."
   ]
  },
  {
   "cell_type": "code",
   "execution_count": 245,
   "metadata": {
    "collapsed": false,
    "deletable": true,
    "editable": true
   },
   "outputs": [
    {
     "name": "stdout",
     "output_type": "stream",
     "text": [
      "               < diploma   degree+   pop_inc  foreign_inc  unemployment  \\\n",
      "< diploma       1.000000  0.590198  0.173795     0.014397      0.420872   \n",
      "degree+         0.590198  1.000000  0.436721     0.037746      0.329834   \n",
      "pop_inc         0.173795  0.436721  1.000000     0.001243      0.253635   \n",
      "foreign_inc     0.014397  0.037746  0.001243     1.000000      0.003454   \n",
      "unemployment    0.420872  0.329834  0.253635     0.003454      1.000000   \n",
      "poverty         0.663283  0.447611  0.267106     0.014567      0.600237   \n",
      "median_hh_inc   0.542180  0.680273  0.466601     0.018149      0.454140   \n",
      "median_age      0.221839  0.178017  0.364938     0.035829      0.061179   \n",
      "hh_afr_am       0.363750  0.091370  0.102100     0.003461      0.422107   \n",
      "hh_hisp         0.452917  0.020773  0.177056     0.001030      0.013150   \n",
      "hh_female       0.546617  0.243373  0.041391     0.005559      0.537112   \n",
      "hh_food_st      0.634201  0.511206  0.236201     0.011188      0.577440   \n",
      "foreign_07      0.235792  0.316969  0.303008     0.031527      0.022956   \n",
      "vets            0.366934  0.052429  0.103991     0.024266      0.047121   \n",
      "vets_male       0.048607  0.173827  0.198131     0.017874      0.065301   \n",
      "viol_crime      0.196516  0.011448  0.082169     0.011873      0.224957   \n",
      "prop_crime      0.116087  0.090511  0.167136     0.034661      0.178632   \n",
      "numeric         0.071415  0.095094  0.022837     0.002764      0.289674   \n",
      "\n",
      "                poverty  median_hh_inc  median_age  hh_afr_am   hh_hisp  \\\n",
      "< diploma      0.663283       0.542180    0.221839   0.363750  0.452917   \n",
      "degree+        0.447611       0.680273    0.178017   0.091370  0.020773   \n",
      "pop_inc        0.267106       0.466601    0.364938   0.102100  0.177056   \n",
      "foreign_inc    0.014567       0.018149    0.035829   0.003461  0.001030   \n",
      "unemployment   0.600237       0.454140    0.061179   0.422107  0.013150   \n",
      "poverty        1.000000       0.780392    0.242381   0.534256  0.113815   \n",
      "median_hh_inc  0.780392       1.000000    0.089691   0.280872  0.019083   \n",
      "median_age     0.242381       0.089691    1.000000   0.222769  0.303786   \n",
      "hh_afr_am      0.534256       0.280872    0.222769   1.000000  0.091594   \n",
      "hh_hisp        0.113815       0.019083    0.303786   0.091594  1.000000   \n",
      "hh_female      0.671545       0.379778    0.402942   0.746161  0.156721   \n",
      "hh_food_st     0.791808       0.660893    0.179665   0.435203  0.112906   \n",
      "foreign_07     0.044073       0.307574    0.345260   0.010620  0.639763   \n",
      "vets           0.245929       0.027939    0.580435   0.262860  0.278163   \n",
      "vets_male      0.021474       0.107916    0.256012   0.225593  0.035081   \n",
      "viol_crime     0.295030       0.139146    0.258520   0.384678  0.136106   \n",
      "prop_crime     0.234598       0.099971    0.305941   0.317524  0.121239   \n",
      "numeric        0.161194       0.180909    0.056238   0.116110  0.067249   \n",
      "\n",
      "               hh_female  hh_food_st  foreign_07      vets  vets_male  \\\n",
      "< diploma       0.546617    0.634201    0.235792  0.366934   0.048607   \n",
      "degree+         0.243373    0.511206    0.316969  0.052429   0.173827   \n",
      "pop_inc         0.041391    0.236201    0.303008  0.103991   0.198131   \n",
      "foreign_inc     0.005559    0.011188    0.031527  0.024266   0.017874   \n",
      "unemployment    0.537112    0.577440    0.022956  0.047121   0.065301   \n",
      "poverty         0.671545    0.791808    0.044073  0.245929   0.021474   \n",
      "median_hh_inc   0.379778    0.660893    0.307574  0.027939   0.107916   \n",
      "median_age      0.402942    0.179665    0.345260  0.580435   0.256012   \n",
      "hh_afr_am       0.746161    0.435203    0.010620  0.262860   0.225593   \n",
      "hh_hisp         0.156721    0.112906    0.639763  0.278163   0.035081   \n",
      "hh_female       1.000000    0.666843    0.101816  0.349405   0.216025   \n",
      "hh_food_st      0.666843    1.000000    0.137798  0.230026   0.016055   \n",
      "foreign_07      0.101816    0.137798    1.000000  0.313975   0.077136   \n",
      "vets            0.349405    0.230026    0.313975  1.000000   0.128423   \n",
      "vets_male       0.216025    0.016055    0.077136  0.128423   1.000000   \n",
      "viol_crime      0.412381    0.240730    0.169616  0.110546   0.148775   \n",
      "prop_crime      0.363541    0.187599    0.155441  0.072415   0.194186   \n",
      "numeric         0.077653    0.194698    0.049836  0.182828   0.013722   \n",
      "\n",
      "               viol_crime  prop_crime   numeric  \n",
      "< diploma        0.196516    0.116087  0.071415  \n",
      "degree+          0.011448    0.090511  0.095094  \n",
      "pop_inc          0.082169    0.167136  0.022837  \n",
      "foreign_inc      0.011873    0.034661  0.002764  \n",
      "unemployment     0.224957    0.178632  0.289674  \n",
      "poverty          0.295030    0.234598  0.161194  \n",
      "median_hh_inc    0.139146    0.099971  0.180909  \n",
      "median_age       0.258520    0.305941  0.056238  \n",
      "hh_afr_am        0.384678    0.317524  0.116110  \n",
      "hh_hisp          0.136106    0.121239  0.067249  \n",
      "hh_female        0.412381    0.363541  0.077653  \n",
      "hh_food_st       0.240730    0.187599  0.194698  \n",
      "foreign_07       0.169616    0.155441  0.049836  \n",
      "vets             0.110546    0.072415  0.182828  \n",
      "vets_male        0.148775    0.194186  0.013722  \n",
      "viol_crime       1.000000    0.710070  0.154623  \n",
      "prop_crime       0.710070    1.000000  0.189981  \n",
      "numeric          0.154623    0.189981  1.000000  \n"
     ]
    }
   ],
   "source": [
    "bivariate = data.drop(['state', 'name', 'pop_2014', 'urban_influence'], axis=1).corr().abs()\n",
    "print(bivariate)"
   ]
  },
  {
   "cell_type": "markdown",
   "metadata": {
    "deletable": true,
    "editable": true
   },
   "source": [
    "**poverty** correlates strongly with a couple of other variables, so drop it. The two crime variables correlate strongly with each other, so combine them into one. "
   ]
  },
  {
   "cell_type": "code",
   "execution_count": 246,
   "metadata": {
    "collapsed": false,
    "deletable": true,
    "editable": true
   },
   "outputs": [],
   "source": [
    "data['crime'] = (data['viol_crime'] + data['prop_crime'])\n",
    "data = data.drop(['viol_crime', 'prop_crime', 'poverty'], axis=1)"
   ]
  },
  {
   "cell_type": "code",
   "execution_count": 247,
   "metadata": {
    "collapsed": false,
    "deletable": true,
    "editable": true
   },
   "outputs": [
    {
     "data": {
      "image/png": "[encoded data removed]",
      "text/plain": [
       "<matplotlib.figure.Figure at 0x10ee59630>"
      ]
     },
     "metadata": {},
     "output_type": "display_data"
    }
   ],
   "source": [
    "corrmat = data.drop(['state', 'name', 'urban_influence', 'pop_2014', 'death_rate'], axis=1).corr().abs()\n",
    "sns.heatmap(corrmat, vmax=.8, square=True)\n",
    "plt.show()"
   ]
  },
  {
   "cell_type": "markdown",
   "metadata": {
    "deletable": true,
    "editable": true
   },
   "source": [
    "There are still some strong correlations, but they are scattered. Use VIF analysis to programmatically eliminate the variables with the highest VIF scores until all scores are below 10, a conservative threshold."
   ]
  },
  {
   "cell_type": "code",
   "execution_count": 248,
   "metadata": {
    "collapsed": false,
    "deletable": true,
    "editable": true
   },
   "outputs": [
    {
     "data": {
      "text/html": [
       "<div>\n",
       "<table border=\"1\" class=\"dataframe\">\n",
       "  <thead>\n",
       "    <tr style=\"text-align: right;\">\n",
       "      <th></th>\n",
       "      <th>VIF</th>\n",
       "      <th>features</th>\n",
       "    </tr>\n",
       "  </thead>\n",
       "  <tbody>\n",
       "    <tr>\n",
       "      <th>0</th>\n",
       "      <td>23.680630</td>\n",
       "      <td>&lt; diploma</td>\n",
       "    </tr>\n",
       "    <tr>\n",
       "      <th>1</th>\n",
       "      <td>18.903080</td>\n",
       "      <td>degree+</td>\n",
       "    </tr>\n",
       "    <tr>\n",
       "      <th>2</th>\n",
       "      <td>1.634070</td>\n",
       "      <td>pop_inc</td>\n",
       "    </tr>\n",
       "    <tr>\n",
       "      <th>3</th>\n",
       "      <td>1.022008</td>\n",
       "      <td>foreign_inc</td>\n",
       "    </tr>\n",
       "    <tr>\n",
       "      <th>4</th>\n",
       "      <td>15.656475</td>\n",
       "      <td>unemployment</td>\n",
       "    </tr>\n",
       "    <tr>\n",
       "      <th>5</th>\n",
       "      <td>45.651627</td>\n",
       "      <td>median_hh_inc</td>\n",
       "    </tr>\n",
       "    <tr>\n",
       "      <th>6</th>\n",
       "      <td>150.553373</td>\n",
       "      <td>median_age</td>\n",
       "    </tr>\n",
       "    <tr>\n",
       "      <th>7</th>\n",
       "      <td>4.050657</td>\n",
       "      <td>hh_afr_am</td>\n",
       "    </tr>\n",
       "    <tr>\n",
       "      <th>8</th>\n",
       "      <td>3.080484</td>\n",
       "      <td>hh_hisp</td>\n",
       "    </tr>\n",
       "    <tr>\n",
       "      <th>9</th>\n",
       "      <td>30.626371</td>\n",
       "      <td>hh_female</td>\n",
       "    </tr>\n",
       "    <tr>\n",
       "      <th>10</th>\n",
       "      <td>14.535520</td>\n",
       "      <td>hh_food_st</td>\n",
       "    </tr>\n",
       "    <tr>\n",
       "      <th>11</th>\n",
       "      <td>4.221653</td>\n",
       "      <td>foreign_07</td>\n",
       "    </tr>\n",
       "    <tr>\n",
       "      <th>12</th>\n",
       "      <td>31.052824</td>\n",
       "      <td>vets</td>\n",
       "    </tr>\n",
       "    <tr>\n",
       "      <th>13</th>\n",
       "      <td>227.594261</td>\n",
       "      <td>vets_male</td>\n",
       "    </tr>\n",
       "    <tr>\n",
       "      <th>14</th>\n",
       "      <td>4.520016</td>\n",
       "      <td>crime</td>\n",
       "    </tr>\n",
       "  </tbody>\n",
       "</table>\n",
       "</div>"
      ],
      "text/plain": [
       "           VIF       features\n",
       "0    23.680630      < diploma\n",
       "1    18.903080        degree+\n",
       "2     1.634070        pop_inc\n",
       "3     1.022008    foreign_inc\n",
       "4    15.656475   unemployment\n",
       "5    45.651627  median_hh_inc\n",
       "6   150.553373     median_age\n",
       "7     4.050657      hh_afr_am\n",
       "8     3.080484        hh_hisp\n",
       "9    30.626371      hh_female\n",
       "10   14.535520     hh_food_st\n",
       "11    4.221653     foreign_07\n",
       "12   31.052824           vets\n",
       "13  227.594261      vets_male\n",
       "14    4.520016          crime"
      ]
     },
     "execution_count": 248,
     "metadata": {},
     "output_type": "execute_result"
    }
   ],
   "source": [
    "from statsmodels.stats.outliers_influence import variance_inflation_factor\n",
    "# For each column in features, calculate VIF and save in dataframe\n",
    "vif = pd.DataFrame()\n",
    "remove = ['state', 'name', 'urban_influence', 'pop_2014', 'death_rate', 'numeric']\n",
    "features = data.drop(remove, axis=1)\n",
    "vif[\"VIF\"] = [variance_inflation_factor(features.values, i) for i in range(features.shape[1])]\n",
    "vif[\"features\"] = features.columns\n",
    "vif"
   ]
  },
  {
   "cell_type": "code",
   "execution_count": 249,
   "metadata": {
    "collapsed": false
   },
   "outputs": [
    {
     "data": {
      "text/html": [
       "<div>\n",
       "<table border=\"1\" class=\"dataframe\">\n",
       "  <thead>\n",
       "    <tr style=\"text-align: right;\">\n",
       "      <th></th>\n",
       "      <th>VIF</th>\n",
       "      <th>features</th>\n",
       "    </tr>\n",
       "  </thead>\n",
       "  <tbody>\n",
       "    <tr>\n",
       "      <th>0</th>\n",
       "      <td>7.378599</td>\n",
       "      <td>degree+</td>\n",
       "    </tr>\n",
       "    <tr>\n",
       "      <th>1</th>\n",
       "      <td>1.328114</td>\n",
       "      <td>pop_inc</td>\n",
       "    </tr>\n",
       "    <tr>\n",
       "      <th>2</th>\n",
       "      <td>1.021438</td>\n",
       "      <td>foreign_inc</td>\n",
       "    </tr>\n",
       "    <tr>\n",
       "      <th>3</th>\n",
       "      <td>2.066861</td>\n",
       "      <td>hh_afr_am</td>\n",
       "    </tr>\n",
       "    <tr>\n",
       "      <th>4</th>\n",
       "      <td>2.626168</td>\n",
       "      <td>hh_hisp</td>\n",
       "    </tr>\n",
       "    <tr>\n",
       "      <th>5</th>\n",
       "      <td>5.252892</td>\n",
       "      <td>hh_food_st</td>\n",
       "    </tr>\n",
       "    <tr>\n",
       "      <th>6</th>\n",
       "      <td>3.524645</td>\n",
       "      <td>foreign_07</td>\n",
       "    </tr>\n",
       "    <tr>\n",
       "      <th>7</th>\n",
       "      <td>8.673702</td>\n",
       "      <td>vets</td>\n",
       "    </tr>\n",
       "    <tr>\n",
       "      <th>8</th>\n",
       "      <td>4.175860</td>\n",
       "      <td>crime</td>\n",
       "    </tr>\n",
       "  </tbody>\n",
       "</table>\n",
       "</div>"
      ],
      "text/plain": [
       "        VIF     features\n",
       "0  7.378599      degree+\n",
       "1  1.328114      pop_inc\n",
       "2  1.021438  foreign_inc\n",
       "3  2.066861    hh_afr_am\n",
       "4  2.626168      hh_hisp\n",
       "5  5.252892   hh_food_st\n",
       "6  3.524645   foreign_07\n",
       "7  8.673702         vets\n",
       "8  4.175860        crime"
      ]
     },
     "execution_count": 249,
     "metadata": {},
     "output_type": "execute_result"
    }
   ],
   "source": [
    "max_VIF = max(vif['VIF'])\n",
    "while max_VIF > 10:\n",
    "    remove = remove + list(vif[vif['VIF'] == max_VIF]['features'])\n",
    "    features = data.drop(remove, axis=1)\n",
    "    vif = pd.DataFrame()\n",
    "    vif[\"VIF\"] = [variance_inflation_factor(features.values, i) for i in range(features.shape[1])]\n",
    "    vif[\"features\"] = features.columns\n",
    "    max_VIF = max(vif['VIF'])\n",
    "vif"
   ]
  },
  {
   "cell_type": "code",
   "execution_count": 250,
   "metadata": {
    "collapsed": true,
    "deletable": true,
    "editable": true
   },
   "outputs": [],
   "source": [
    "features1 = list(vif['features']) + ['urban_influence', 'death_rate']"
   ]
  },
  {
   "cell_type": "code",
   "execution_count": 338,
   "metadata": {
    "collapsed": true,
    "deletable": true,
    "editable": true
   },
   "outputs": [],
   "source": [
    "data1 = data.loc[:, features1]"
   ]
  },
  {
   "cell_type": "code",
   "execution_count": 339,
   "metadata": {
    "collapsed": false,
    "deletable": true,
    "editable": true
   },
   "outputs": [
    {
     "data": {
      "text/html": [
       "<div>\n",
       "<table border=\"1\" class=\"dataframe\">\n",
       "  <thead>\n",
       "    <tr style=\"text-align: right;\">\n",
       "      <th></th>\n",
       "      <th>degree+</th>\n",
       "      <th>pop_inc</th>\n",
       "      <th>foreign_inc</th>\n",
       "      <th>hh_afr_am</th>\n",
       "      <th>hh_hisp</th>\n",
       "      <th>hh_food_st</th>\n",
       "      <th>foreign_07</th>\n",
       "      <th>vets</th>\n",
       "      <th>crime</th>\n",
       "      <th>urban_influence</th>\n",
       "    </tr>\n",
       "  </thead>\n",
       "  <tbody>\n",
       "    <tr>\n",
       "      <th>count</th>\n",
       "      <td>3024.000000</td>\n",
       "      <td>3024.000000</td>\n",
       "      <td>3024.000000</td>\n",
       "      <td>3024.000000</td>\n",
       "      <td>3024.000000</td>\n",
       "      <td>3024.000000</td>\n",
       "      <td>3024.000000</td>\n",
       "      <td>3024.000000</td>\n",
       "      <td>3024.000000</td>\n",
       "      <td>3024.000000</td>\n",
       "    </tr>\n",
       "    <tr>\n",
       "      <th>mean</th>\n",
       "      <td>20.936456</td>\n",
       "      <td>0.003378</td>\n",
       "      <td>0.404249</td>\n",
       "      <td>0.082971</td>\n",
       "      <td>0.059307</td>\n",
       "      <td>0.102264</td>\n",
       "      <td>4.292097</td>\n",
       "      <td>0.088620</td>\n",
       "      <td>0.020376</td>\n",
       "      <td>5.205688</td>\n",
       "    </tr>\n",
       "    <tr>\n",
       "      <th>std</th>\n",
       "      <td>9.154237</td>\n",
       "      <td>0.041861</td>\n",
       "      <td>3.094303</td>\n",
       "      <td>0.139566</td>\n",
       "      <td>0.111013</td>\n",
       "      <td>0.056556</td>\n",
       "      <td>5.528622</td>\n",
       "      <td>0.022547</td>\n",
       "      <td>0.013327</td>\n",
       "      <td>3.469448</td>\n",
       "    </tr>\n",
       "    <tr>\n",
       "      <th>min</th>\n",
       "      <td>2.985000</td>\n",
       "      <td>-0.177510</td>\n",
       "      <td>-6.333333</td>\n",
       "      <td>0.000000</td>\n",
       "      <td>0.000000</td>\n",
       "      <td>0.000000</td>\n",
       "      <td>0.000000</td>\n",
       "      <td>0.019065</td>\n",
       "      <td>0.000000</td>\n",
       "      <td>1.000000</td>\n",
       "    </tr>\n",
       "    <tr>\n",
       "      <th>25%</th>\n",
       "      <td>14.571000</td>\n",
       "      <td>-0.021187</td>\n",
       "      <td>0.008944</td>\n",
       "      <td>0.002650</td>\n",
       "      <td>0.009731</td>\n",
       "      <td>0.061792</td>\n",
       "      <td>1.200000</td>\n",
       "      <td>0.074239</td>\n",
       "      <td>0.011210</td>\n",
       "      <td>2.000000</td>\n",
       "    </tr>\n",
       "    <tr>\n",
       "      <th>50%</th>\n",
       "      <td>18.640500</td>\n",
       "      <td>-0.003907</td>\n",
       "      <td>0.059489</td>\n",
       "      <td>0.013880</td>\n",
       "      <td>0.020117</td>\n",
       "      <td>0.092311</td>\n",
       "      <td>2.300000</td>\n",
       "      <td>0.087297</td>\n",
       "      <td>0.018461</td>\n",
       "      <td>5.000000</td>\n",
       "    </tr>\n",
       "    <tr>\n",
       "      <th>75%</th>\n",
       "      <td>24.783250</td>\n",
       "      <td>0.020743</td>\n",
       "      <td>0.204738</td>\n",
       "      <td>0.098243</td>\n",
       "      <td>0.052727</td>\n",
       "      <td>0.132885</td>\n",
       "      <td>5.100000</td>\n",
       "      <td>0.100467</td>\n",
       "      <td>0.027261</td>\n",
       "      <td>8.000000</td>\n",
       "    </tr>\n",
       "    <tr>\n",
       "      <th>max</th>\n",
       "      <td>80.210000</td>\n",
       "      <td>0.727044</td>\n",
       "      <td>119.000000</td>\n",
       "      <td>0.832707</td>\n",
       "      <td>0.955767</td>\n",
       "      <td>0.399738</td>\n",
       "      <td>63.100000</td>\n",
       "      <td>0.297533</td>\n",
       "      <td>0.157014</td>\n",
       "      <td>12.000000</td>\n",
       "    </tr>\n",
       "  </tbody>\n",
       "</table>\n",
       "</div>"
      ],
      "text/plain": [
       "           degree+      pop_inc  foreign_inc    hh_afr_am      hh_hisp  \\\n",
       "count  3024.000000  3024.000000  3024.000000  3024.000000  3024.000000   \n",
       "mean     20.936456     0.003378     0.404249     0.082971     0.059307   \n",
       "std       9.154237     0.041861     3.094303     0.139566     0.111013   \n",
       "min       2.985000    -0.177510    -6.333333     0.000000     0.000000   \n",
       "25%      14.571000    -0.021187     0.008944     0.002650     0.009731   \n",
       "50%      18.640500    -0.003907     0.059489     0.013880     0.020117   \n",
       "75%      24.783250     0.020743     0.204738     0.098243     0.052727   \n",
       "max      80.210000     0.727044   119.000000     0.832707     0.955767   \n",
       "\n",
       "        hh_food_st   foreign_07         vets        crime  urban_influence  \n",
       "count  3024.000000  3024.000000  3024.000000  3024.000000      3024.000000  \n",
       "mean      0.102264     4.292097     0.088620     0.020376         5.205688  \n",
       "std       0.056556     5.528622     0.022547     0.013327         3.469448  \n",
       "min       0.000000     0.000000     0.019065     0.000000         1.000000  \n",
       "25%       0.061792     1.200000     0.074239     0.011210         2.000000  \n",
       "50%       0.092311     2.300000     0.087297     0.018461         5.000000  \n",
       "75%       0.132885     5.100000     0.100467     0.027261         8.000000  \n",
       "max       0.399738    63.100000     0.297533     0.157014        12.000000  "
      ]
     },
     "execution_count": 339,
     "metadata": {},
     "output_type": "execute_result"
    }
   ],
   "source": [
    "data1.describe()"
   ]
  },
  {
   "cell_type": "markdown",
   "metadata": {
    "deletable": true,
    "editable": true
   },
   "source": [
    "All of the features besides the categorical **urban_influence** have strong outliers, as can be seen from the min and max values compared to the IQR."
   ]
  },
  {
   "cell_type": "code",
   "execution_count": 340,
   "metadata": {
    "collapsed": true,
    "deletable": true,
    "editable": true
   },
   "outputs": [],
   "source": [
    "def get_outliers(df, multiplier=1.5):\n",
    "    stats = df.describe()\n",
    "    iqr = stats.loc['75%'] - stats.loc['25%']\n",
    "    lower = stats.loc['25%'] - multiplier * iqr\n",
    "    upper = stats.loc['75%'] + multiplier * iqr\n",
    "    return ((df < lower) | (df > upper))"
   ]
  },
  {
   "cell_type": "code",
   "execution_count": 345,
   "metadata": {
    "collapsed": false,
    "deletable": true,
    "editable": true
   },
   "outputs": [
    {
     "data": {
      "text/plain": [
       "1276"
      ]
     },
     "execution_count": 345,
     "metadata": {},
     "output_type": "execute_result"
    }
   ],
   "source": [
    "predictors = data1.drop('death_rate', axis=1)\n",
    "\n",
    "outliers = get_outliers(predictors)\n",
    "len(data1[outliers.any(axis=1)])"
   ]
  },
  {
   "cell_type": "markdown",
   "metadata": {},
   "source": [
    "More than 1/3 of the records contain outliers, using the standard definition."
   ]
  },
  {
   "cell_type": "code",
   "execution_count": 346,
   "metadata": {
    "collapsed": false
   },
   "outputs": [
    {
     "data": {
      "text/plain": [
       "1016"
      ]
     },
     "execution_count": 346,
     "metadata": {},
     "output_type": "execute_result"
    }
   ],
   "source": [
    "strong_outliers = get_outliers(predictors, 2.0)\n",
    "len(data1[strong_outliers.any(axis=1)])"
   ]
  },
  {
   "cell_type": "code",
   "execution_count": 347,
   "metadata": {
    "collapsed": false,
    "deletable": true,
    "editable": true
   },
   "outputs": [
    {
     "data": {
      "text/plain": [
       "829"
      ]
     },
     "execution_count": 347,
     "metadata": {},
     "output_type": "execute_result"
    }
   ],
   "source": [
    "extreme_outliers = get_outliers(predictors, 2.5)\n",
    "len(data1[extreme_outliers.any(axis=1)])"
   ]
  },
  {
   "cell_type": "code",
   "execution_count": 344,
   "metadata": {
    "collapsed": false
   },
   "outputs": [
    {
     "data": {
      "text/plain": [
       "204"
      ]
     },
     "execution_count": 344,
     "metadata": {},
     "output_type": "execute_result"
    }
   ],
   "source": [
    "len(data1[extreme_outliers.sum(axis=1) > 1])"
   ]
  },
  {
   "cell_type": "markdown",
   "metadata": {},
   "source": [
    "Removing even just the extreme outliers would take away almost 1/3 of the data, but removing records with 2 or more extreme outliers will reduce the dataset by only 7.5%. Try this first"
   ]
  },
  {
   "cell_type": "code",
   "execution_count": 348,
   "metadata": {
    "collapsed": true
   },
   "outputs": [],
   "source": [
    "data1 = data1.drop(data1[extreme_outliers.sum(axis=1) > 1].index)"
   ]
  },
  {
   "cell_type": "code",
   "execution_count": 349,
   "metadata": {
    "collapsed": false
   },
   "outputs": [
    {
     "data": {
      "text/plain": [
       "2820"
      ]
     },
     "execution_count": 349,
     "metadata": {},
     "output_type": "execute_result"
    }
   ],
   "source": [
    "len(data1)"
   ]
  },
  {
   "cell_type": "markdown",
   "metadata": {},
   "source": [
    "Try a range of classifiers. "
   ]
  },
  {
   "cell_type": "code",
   "execution_count": 366,
   "metadata": {
    "collapsed": true
   },
   "outputs": [],
   "source": [
    "X1 = data1.drop('death_rate', axis=1)\n",
    "X1 = pd.get_dummies(X1, prefix='urb_inf_', columns=['urban_influence'])\n",
    "Y1 = data1.loc[:, 'death_rate']"
   ]
  },
  {
   "cell_type": "code",
   "execution_count": 261,
   "metadata": {
    "collapsed": true
   },
   "outputs": [],
   "source": [
    "from sklearn.preprocessing import StandardScaler\n",
    "center = StandardScaler()\n",
    "scale = StandardScaler(with_mean=False)\n",
    "\n",
    "from sklearn.metrics import matthews_corrcoef, make_scorer\n",
    "matthews = make_scorer(matthews_corrcoef)\n",
    "\n",
    "from sklearn.model_selection import cross_val_score"
   ]
  },
  {
   "cell_type": "code",
   "execution_count": 262,
   "metadata": {
    "collapsed": true
   },
   "outputs": [],
   "source": [
    "from sklearn.model_selection import train_test_split\n",
    "from sklearn.model_selection import cross_val_score\n",
    "\n",
    "from sklearn.neighbors import KNeighborsClassifier\n",
    "from sklearn.linear_model import LogisticRegression\n",
    "from sklearn.ensemble import GradientBoostingClassifier\n",
    "from sklearn.linear_model import SGDClassifier\n",
    "from sklearn.ensemble import RandomForestClassifier"
   ]
  },
  {
   "cell_type": "code",
   "execution_count": 351,
   "metadata": {
    "collapsed": false
   },
   "outputs": [],
   "source": [
    "X1_train, X1_test, Y1_train, Y1_test = train_test_split(X1, Y1, test_size=.35, random_state=57)"
   ]
  },
  {
   "cell_type": "code",
   "execution_count": 264,
   "metadata": {
    "collapsed": false
   },
   "outputs": [
    {
     "name": "stderr",
     "output_type": "stream",
     "text": [
      "/Users/vince/anaconda/envs/aind/lib/python3.6/site-packages/sklearn/linear_model/stochastic_gradient.py:84: FutureWarning: max_iter and tol parameters have been added in <class 'sklearn.linear_model.stochastic_gradient.SGDClassifier'> in 0.19. If both are left unset, they default to max_iter=5 and tol=None. If tol is not None, max_iter defaults to max_iter=1000. From 0.21, default max_iter will be 1000, and default tol will be 1e-3.\n",
      "  \"and default tol will be 1e-3.\" % type(self), FutureWarning)\n"
     ]
    }
   ],
   "source": [
    "knn = KNeighborsClassifier()\n",
    "lrc = LogisticRegression(class_weight='balanced')\n",
    "gbc = GradientBoostingClassifier()\n",
    "sgd = SGDClassifier(loss='huber', class_weight='balanced')\n",
    "rfc = RandomForestClassifier(class_weight='balanced')"
   ]
  },
  {
   "cell_type": "code",
   "execution_count": 367,
   "metadata": {
    "collapsed": false
   },
   "outputs": [
    {
     "name": "stdout",
     "output_type": "stream",
     "text": [
      "Logistic regression scores: [ 0.02294175  0.03298914  0.02578517]\n",
      "CPU times: user 437 ms, sys: 9.05 ms, total: 446 ms\n",
      "Wall time: 218 ms\n",
      "Gradient boosting scores: [ 0.06646293  0.05197993  0.06724147]\n",
      "CPU times: user 7.46 s, sys: 21.3 ms, total: 7.48 s\n",
      "Wall time: 7.4 s\n",
      "SGD scores: [-0.013587   -0.00096591 -0.00900572]\n",
      "CPU times: user 148 ms, sys: 2.6 ms, total: 151 ms\n",
      "Wall time: 52.6 ms\n",
      "Random forest scores: [ 0.01681679  0.04172375  0.03811062]\n",
      "CPU times: user 276 ms, sys: 4.37 ms, total: 280 ms\n",
      "Wall time: 186 ms\n"
     ]
    }
   ],
   "source": [
    "classifiers = [lrc, gbc, sgd, rfc]\n",
    "names = ['Logistic regression', 'Gradient boosting', 'SGD', 'Random forest']\n",
    "for name, clf in zip(names, classifiers):\n",
    "    %time print('{} scores: {}'.format(name, cross_val_score(clf, X_train, Y_train, scoring=matthews)))"
   ]
  },
  {
   "cell_type": "code",
   "execution_count": 368,
   "metadata": {
    "collapsed": false
   },
   "outputs": [
    {
     "name": "stdout",
     "output_type": "stream",
     "text": [
      "KNN scores: [ 0.03532647  0.01239964  0.02788503]\n",
      "CPU times: user 71.1 ms, sys: 2.19 ms, total: 73.3 ms\n",
      "Wall time: 71.9 ms\n"
     ]
    }
   ],
   "source": [
    "%time print('KNN scores:', cross_val_score(knn, scale.fit_transform(X_train), Y_train, scoring=matthews))"
   ]
  },
  {
   "cell_type": "markdown",
   "metadata": {},
   "source": [
    "All of the stock classifiers performed poorly, although gradient boosting did the best. It also took 30 times longer than logistic regression, the next-slowest. Surprisingly, the classifier using the Huber loss performed the worst."
   ]
  },
  {
   "cell_type": "markdown",
   "metadata": {},
   "source": [
    "Some of the variables in the original dataset had moderate correlations with the target variable, so try the selection process again focusing on this."
   ]
  },
  {
   "cell_type": "code",
   "execution_count": 290,
   "metadata": {
    "collapsed": false
   },
   "outputs": [
    {
     "data": {
      "text/plain": [
       "< diploma        0.071415\n",
       "degree+          0.095094\n",
       "pop_inc          0.022837\n",
       "foreign_inc      0.002764\n",
       "unemployment     0.289674\n",
       "median_hh_inc    0.180909\n",
       "median_age       0.056238\n",
       "hh_afr_am        0.116110\n",
       "hh_hisp          0.067249\n",
       "hh_female        0.077653\n",
       "hh_food_st       0.194698\n",
       "foreign_07       0.049836\n",
       "vets             0.182828\n",
       "vets_male        0.013722\n",
       "numeric          1.000000\n",
       "crime            0.191859\n",
       "Name: numeric, dtype: float64"
      ]
     },
     "execution_count": 290,
     "metadata": {},
     "output_type": "execute_result"
    }
   ],
   "source": [
    "bivariate = data.drop(['state', 'name', 'pop_2014', 'urban_influence'], axis=1).corr().abs()\n",
    "bivariate.loc['numeric']"
   ]
  },
  {
   "cell_type": "code",
   "execution_count": 291,
   "metadata": {
    "collapsed": false
   },
   "outputs": [],
   "source": [
    "features2 = list(bivariate[bivariate.loc['numeric'] > .075].index)\n",
    "features2.remove('numeric')"
   ]
  },
  {
   "cell_type": "code",
   "execution_count": 298,
   "metadata": {
    "collapsed": false
   },
   "outputs": [
    {
     "data": {
      "text/html": [
       "<div>\n",
       "<table border=\"1\" class=\"dataframe\">\n",
       "  <thead>\n",
       "    <tr style=\"text-align: right;\">\n",
       "      <th></th>\n",
       "      <th>VIF</th>\n",
       "      <th>features</th>\n",
       "    </tr>\n",
       "  </thead>\n",
       "  <tbody>\n",
       "    <tr>\n",
       "      <th>0</th>\n",
       "      <td>12.792099</td>\n",
       "      <td>degree+</td>\n",
       "    </tr>\n",
       "    <tr>\n",
       "      <th>1</th>\n",
       "      <td>14.202201</td>\n",
       "      <td>unemployment</td>\n",
       "    </tr>\n",
       "    <tr>\n",
       "      <th>2</th>\n",
       "      <td>25.615944</td>\n",
       "      <td>median_hh_inc</td>\n",
       "    </tr>\n",
       "    <tr>\n",
       "      <th>3</th>\n",
       "      <td>3.178891</td>\n",
       "      <td>hh_afr_am</td>\n",
       "    </tr>\n",
       "    <tr>\n",
       "      <th>4</th>\n",
       "      <td>26.279429</td>\n",
       "      <td>hh_female</td>\n",
       "    </tr>\n",
       "    <tr>\n",
       "      <th>5</th>\n",
       "      <td>11.015399</td>\n",
       "      <td>hh_food_st</td>\n",
       "    </tr>\n",
       "    <tr>\n",
       "      <th>6</th>\n",
       "      <td>12.404274</td>\n",
       "      <td>vets</td>\n",
       "    </tr>\n",
       "    <tr>\n",
       "      <th>7</th>\n",
       "      <td>4.165247</td>\n",
       "      <td>crime</td>\n",
       "    </tr>\n",
       "  </tbody>\n",
       "</table>\n",
       "</div>"
      ],
      "text/plain": [
       "         VIF       features\n",
       "0  12.792099        degree+\n",
       "1  14.202201   unemployment\n",
       "2  25.615944  median_hh_inc\n",
       "3   3.178891      hh_afr_am\n",
       "4  26.279429      hh_female\n",
       "5  11.015399     hh_food_st\n",
       "6  12.404274           vets\n",
       "7   4.165247          crime"
      ]
     },
     "execution_count": 298,
     "metadata": {},
     "output_type": "execute_result"
    }
   ],
   "source": [
    "vif = pd.DataFrame()\n",
    "features = data.loc[:, features2]\n",
    "vif[\"VIF\"] = [variance_inflation_factor(features.values, i) for i in range(features.shape[1])]\n",
    "vif[\"features\"] = features.columns\n",
    "vif"
   ]
  },
  {
   "cell_type": "code",
   "execution_count": 357,
   "metadata": {
    "collapsed": false
   },
   "outputs": [
    {
     "data": {
      "text/html": [
       "<div>\n",
       "<table border=\"1\" class=\"dataframe\">\n",
       "  <thead>\n",
       "    <tr style=\"text-align: right;\">\n",
       "      <th></th>\n",
       "      <th>VIF</th>\n",
       "      <th>features</th>\n",
       "    </tr>\n",
       "  </thead>\n",
       "  <tbody>\n",
       "    <tr>\n",
       "      <th>0</th>\n",
       "      <td>5.279179</td>\n",
       "      <td>degree+</td>\n",
       "    </tr>\n",
       "    <tr>\n",
       "      <th>1</th>\n",
       "      <td>13.237001</td>\n",
       "      <td>unemployment</td>\n",
       "    </tr>\n",
       "    <tr>\n",
       "      <th>2</th>\n",
       "      <td>2.002579</td>\n",
       "      <td>hh_afr_am</td>\n",
       "    </tr>\n",
       "    <tr>\n",
       "      <th>3</th>\n",
       "      <td>7.290135</td>\n",
       "      <td>hh_food_st</td>\n",
       "    </tr>\n",
       "    <tr>\n",
       "      <th>4</th>\n",
       "      <td>9.815466</td>\n",
       "      <td>vets</td>\n",
       "    </tr>\n",
       "    <tr>\n",
       "      <th>5</th>\n",
       "      <td>3.930215</td>\n",
       "      <td>crime</td>\n",
       "    </tr>\n",
       "  </tbody>\n",
       "</table>\n",
       "</div>"
      ],
      "text/plain": [
       "         VIF      features\n",
       "0   5.279179       degree+\n",
       "1  13.237001  unemployment\n",
       "2   2.002579     hh_afr_am\n",
       "3   7.290135    hh_food_st\n",
       "4   9.815466          vets\n",
       "5   3.930215         crime"
      ]
     },
     "execution_count": 357,
     "metadata": {},
     "output_type": "execute_result"
    }
   ],
   "source": [
    "max_VIF = max(vif['VIF'])\n",
    "while max_VIF > 15: # keep 'unemployment' since it had the highest correlation with the target\n",
    "    remove = list(vif[vif['VIF'] == max_VIF]['features'])\n",
    "    reduced = [feature for feature in features if feature not in remove]\n",
    "    features = data.loc[:, reduced]\n",
    "    vif = pd.DataFrame()\n",
    "    vif[\"VIF\"] = [variance_inflation_factor(features.values, i) for i in range(features.shape[1])]\n",
    "    vif[\"features\"] = features.columns\n",
    "    max_VIF = max(vif['VIF'])\n",
    "vif"
   ]
  },
  {
   "cell_type": "code",
   "execution_count": 311,
   "metadata": {
    "collapsed": false
   },
   "outputs": [
    {
     "data": {
      "text/plain": [
       "(0, 0.2)"
      ]
     },
     "execution_count": 311,
     "metadata": {},
     "output_type": "execute_result"
    },
    {
     "data": {
      "image/png": "[encoded data removed]",
      "text/plain": [
       "<matplotlib.figure.Figure at 0x11e97c5c0>"
      ]
     },
     "metadata": {},
     "output_type": "display_data"
    }
   ],
   "source": [
    "sns.boxplot(y=data['hh_afr_am'], x=data['urban_influence'])\n",
    "plt.ylim(0, .2)"
   ]
  },
  {
   "cell_type": "code",
   "execution_count": 312,
   "metadata": {
    "collapsed": false
   },
   "outputs": [
    {
     "data": {
      "text/plain": [
       "(0, 0.2)"
      ]
     },
     "execution_count": 312,
     "metadata": {},
     "output_type": "execute_result"
    },
    {
     "data": {
      "image/png": "[encoded data removed]",
      "text/plain": [
       "<matplotlib.figure.Figure at 0x11c0c60b8>"
      ]
     },
     "metadata": {},
     "output_type": "display_data"
    }
   ],
   "source": [
    "sns.boxplot(y=data['hh_food_st'], x=data['urban_influence'])\n",
    "plt.ylim(0,.2)"
   ]
  },
  {
   "cell_type": "markdown",
   "metadata": {},
   "source": [
    "Checking for relationships between **urban_influence** and **hh_afr_am** or **hh_food_st**, there does not appear to be any strong monotonic trend in either."
   ]
  },
  {
   "cell_type": "code",
   "execution_count": 379,
   "metadata": {
    "collapsed": true
   },
   "outputs": [],
   "source": [
    "features2 = list(vif['features'])\n",
    "data2 = data.loc[:, features2]"
   ]
  },
  {
   "cell_type": "code",
   "execution_count": 380,
   "metadata": {
    "collapsed": false
   },
   "outputs": [
    {
     "data": {
      "text/plain": [
       "1276"
      ]
     },
     "execution_count": 380,
     "metadata": {},
     "output_type": "execute_result"
    }
   ],
   "source": [
    "outliers2 = get_outliers(data2)\n",
    "len(data2[outliers.any(axis=1)])"
   ]
  },
  {
   "cell_type": "code",
   "execution_count": 381,
   "metadata": {
    "collapsed": false
   },
   "outputs": [
    {
     "data": {
      "text/plain": [
       "445"
      ]
     },
     "execution_count": 381,
     "metadata": {},
     "output_type": "execute_result"
    }
   ],
   "source": [
    "strong_outliers2 = get_outliers(data2, 2.0)\n",
    "len(data2[strong_outliers2.any(axis=1)])"
   ]
  },
  {
   "cell_type": "markdown",
   "metadata": {},
   "source": [
    "The number of strong outliers is significanlty less than with data1, so try removing these."
   ]
  },
  {
   "cell_type": "code",
   "execution_count": 382,
   "metadata": {
    "collapsed": true
   },
   "outputs": [],
   "source": [
    "features2 = features2 + ['urban_influence', 'death_rate']\n",
    "data2 = data.loc[:, features2]\n",
    "data2 = data2.drop(data2[strong_outliers2.any(axis=1)].index)"
   ]
  },
  {
   "cell_type": "code",
   "execution_count": 383,
   "metadata": {
    "collapsed": false
   },
   "outputs": [
    {
     "data": {
      "text/plain": [
       "2579"
      ]
     },
     "execution_count": 383,
     "metadata": {},
     "output_type": "execute_result"
    }
   ],
   "source": [
    "len(data2)"
   ]
  },
  {
   "cell_type": "code",
   "execution_count": 385,
   "metadata": {
    "collapsed": true
   },
   "outputs": [],
   "source": [
    "X2 = data2.drop('death_rate', axis=1)\n",
    "X2 = pd.get_dummies(X2, prefix='urb_inf_', columns=['urban_influence'])\n",
    "Y2 = data2.loc[:, 'death_rate']"
   ]
  },
  {
   "cell_type": "code",
   "execution_count": 387,
   "metadata": {
    "collapsed": true
   },
   "outputs": [],
   "source": [
    "X2_train, X2_test, Y2_train, Y2_test = train_test_split(X2, Y2, test_size=.35, random_state=57)"
   ]
  },
  {
   "cell_type": "code",
   "execution_count": 388,
   "metadata": {
    "collapsed": false
   },
   "outputs": [
    {
     "name": "stdout",
     "output_type": "stream",
     "text": [
      "Logistic regression scores: [ 0.03383645  0.05288029  0.05804626]\n",
      "CPU times: user 353 ms, sys: 11.7 ms, total: 365 ms\n",
      "Wall time: 134 ms\n",
      "Gradient boosting scores: [ 0.03919663  0.03415788  0.07077783]\n",
      "CPU times: user 6.5 s, sys: 22.5 ms, total: 6.53 s\n",
      "Wall time: 6.45 s\n",
      "SGD scores: [ 0.  0.  0.]\n",
      "CPU times: user 155 ms, sys: 4.28 ms, total: 159 ms\n",
      "Wall time: 54.9 ms\n",
      "Random forest scores: [ 0.04019898  0.05495118  0.06200761]\n",
      "CPU times: user 209 ms, sys: 3.65 ms, total: 213 ms\n",
      "Wall time: 117 ms\n"
     ]
    },
    {
     "name": "stderr",
     "output_type": "stream",
     "text": [
      "/Users/vince/anaconda/envs/aind/lib/python3.6/site-packages/sklearn/metrics/classification.py:538: RuntimeWarning: invalid value encountered in true_divide\n",
      "  mcc = cov_ytyp / np.sqrt(cov_ytyt * cov_ypyp)\n",
      "/Users/vince/anaconda/envs/aind/lib/python3.6/site-packages/sklearn/metrics/classification.py:538: RuntimeWarning: invalid value encountered in true_divide\n",
      "  mcc = cov_ytyp / np.sqrt(cov_ytyt * cov_ypyp)\n",
      "/Users/vince/anaconda/envs/aind/lib/python3.6/site-packages/sklearn/metrics/classification.py:538: RuntimeWarning: invalid value encountered in true_divide\n",
      "  mcc = cov_ytyp / np.sqrt(cov_ytyt * cov_ypyp)\n"
     ]
    }
   ],
   "source": [
    "for name, clf in zip(names, classifiers):\n",
    "    %time print('{} scores: {}'.format(name, cross_val_score(clf, X2_train, Y2_train, scoring=matthews)))"
   ]
  },
  {
   "cell_type": "code",
   "execution_count": 389,
   "metadata": {
    "collapsed": false
   },
   "outputs": [
    {
     "name": "stdout",
     "output_type": "stream",
     "text": [
      "KNN scores: [ 0.02715912  0.03834832  0.05517892]\n",
      "CPU times: user 70.6 ms, sys: 2.29 ms, total: 72.9 ms\n",
      "Wall time: 71.6 ms\n"
     ]
    }
   ],
   "source": [
    "%time print('KNN scores:', cross_val_score(knn, scale.fit_transform(X2_train), Y2_train, scoring=matthews))"
   ]
  },
  {
   "cell_type": "markdown",
   "metadata": {},
   "source": [
    "The scores are significantly better, though still poor, and the SGD algorithm ran into an error. "
   ]
  },
  {
   "cell_type": "code",
   "execution_count": null,
   "metadata": {
    "collapsed": true
   },
   "outputs": [],
   "source": []
  }
 ],
 "metadata": {
  "kernelspec": {
   "display_name": "Python 3",
   "language": "python",
   "name": "python3"
  },
  "language_info": {
   "codemirror_mode": {
    "name": "ipython",
    "version": 3
   },
   "file_extension": ".py",
   "mimetype": "text/x-python",
   "name": "python",
   "nbconvert_exporter": "python",
   "pygments_lexer": "ipython3",
   "version": "3.6.0"
  }
 },
 "nbformat": 4,
 "nbformat_minor": 2
}
