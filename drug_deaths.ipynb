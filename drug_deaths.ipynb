{
 "cells": [
  {
   "cell_type": "code",
   "execution_count": 1711,
   "metadata": {
    "collapsed": false,
    "deletable": true,
    "editable": true
   },
   "outputs": [],
   "source": [
    "import numpy as np\n",
    "import pandas as pd\n",
    "import matplotlib.pyplot as plt\n",
    "import seaborn as sns\n",
    "\n",
    "%matplotlib inline"
   ]
  },
  {
   "cell_type": "code",
   "execution_count": 1712,
   "metadata": {
    "collapsed": true,
    "deletable": true,
    "editable": true
   },
   "outputs": [],
   "source": [
    "data = pd.read_excel('data/Education.xls', skiprows=range(4), usecols=['FIPS Code',\n",
    "                                                'State', 'Area name',\n",
    "                                                'Percent of adults with less than a high school diploma, 2012-2016',\n",
    "                                                'Percent of adults with a bachelor\\'s degree or higher, 2012-2016'],\n",
    "                        converters={'FIPS Code': str})"
   ]
  },
  {
   "cell_type": "code",
   "execution_count": 1713,
   "metadata": {
    "collapsed": true,
    "deletable": true,
    "editable": true
   },
   "outputs": [],
   "source": [
    "data.columns=['FIPS', 'state', 'name', '< diploma', 'degree+']"
   ]
  },
  {
   "cell_type": "markdown",
   "metadata": {
    "deletable": true,
    "editable": true
   },
   "source": [
    "Percentages of people who did not get a high school diploma and who got a bachelor's degree or higher."
   ]
  },
  {
   "cell_type": "code",
   "execution_count": 1714,
   "metadata": {
    "collapsed": false,
    "deletable": true,
    "editable": true
   },
   "outputs": [
    {
     "data": {
      "text/html": [
       "<div>\n",
       "<table border=\"1\" class=\"dataframe\">\n",
       "  <thead>\n",
       "    <tr style=\"text-align: right;\">\n",
       "      <th></th>\n",
       "      <th>FIPS</th>\n",
       "      <th>state</th>\n",
       "      <th>name</th>\n",
       "      <th>&lt; diploma</th>\n",
       "      <th>degree+</th>\n",
       "    </tr>\n",
       "  </thead>\n",
       "  <tbody>\n",
       "    <tr>\n",
       "      <th>0</th>\n",
       "      <td>00000</td>\n",
       "      <td>US</td>\n",
       "      <td>United States</td>\n",
       "      <td>13.021</td>\n",
       "      <td>30.315</td>\n",
       "    </tr>\n",
       "    <tr>\n",
       "      <th>1</th>\n",
       "      <td>01000</td>\n",
       "      <td>AL</td>\n",
       "      <td>Alabama</td>\n",
       "      <td>15.209</td>\n",
       "      <td>24.010</td>\n",
       "    </tr>\n",
       "    <tr>\n",
       "      <th>2</th>\n",
       "      <td>01001</td>\n",
       "      <td>AL</td>\n",
       "      <td>Autauga County</td>\n",
       "      <td>12.417</td>\n",
       "      <td>24.593</td>\n",
       "    </tr>\n",
       "    <tr>\n",
       "      <th>3</th>\n",
       "      <td>01003</td>\n",
       "      <td>AL</td>\n",
       "      <td>Baldwin County</td>\n",
       "      <td>9.972</td>\n",
       "      <td>29.547</td>\n",
       "    </tr>\n",
       "    <tr>\n",
       "      <th>4</th>\n",
       "      <td>01005</td>\n",
       "      <td>AL</td>\n",
       "      <td>Barbour County</td>\n",
       "      <td>26.236</td>\n",
       "      <td>12.868</td>\n",
       "    </tr>\n",
       "  </tbody>\n",
       "</table>\n",
       "</div>"
      ],
      "text/plain": [
       "    FIPS state            name  < diploma  degree+\n",
       "0  00000    US   United States     13.021   30.315\n",
       "1  01000    AL         Alabama     15.209   24.010\n",
       "2  01001    AL  Autauga County     12.417   24.593\n",
       "3  01003    AL  Baldwin County      9.972   29.547\n",
       "4  01005    AL  Barbour County     26.236   12.868"
      ]
     },
     "execution_count": 1714,
     "metadata": {},
     "output_type": "execute_result"
    }
   ],
   "source": [
    "data.head()"
   ]
  },
  {
   "cell_type": "code",
   "execution_count": 1715,
   "metadata": {
    "collapsed": true,
    "deletable": true,
    "editable": true
   },
   "outputs": [],
   "source": [
    "data['FIPS'] = data['FIPS'].apply(lambda x: x if x[2:5] != '000' else 'not county') # mark rows for US and states"
   ]
  },
  {
   "cell_type": "code",
   "execution_count": 1716,
   "metadata": {
    "collapsed": true,
    "deletable": true,
    "editable": true
   },
   "outputs": [],
   "source": [
    "data = data[data['FIPS'] != 'not county']"
   ]
  },
  {
   "cell_type": "code",
   "execution_count": 1717,
   "metadata": {
    "collapsed": true,
    "deletable": true,
    "editable": true
   },
   "outputs": [],
   "source": [
    "data = data[data['FIPS'] < '57000'] # remove Puerto Rico counties, which would be outliers for several features"
   ]
  },
  {
   "cell_type": "code",
   "execution_count": 1718,
   "metadata": {
    "collapsed": false,
    "deletable": true,
    "editable": true
   },
   "outputs": [
    {
     "data": {
      "text/html": [
       "<div>\n",
       "<table border=\"1\" class=\"dataframe\">\n",
       "  <thead>\n",
       "    <tr style=\"text-align: right;\">\n",
       "      <th></th>\n",
       "      <th>FIPS</th>\n",
       "      <th>state</th>\n",
       "      <th>name</th>\n",
       "      <th>&lt; diploma</th>\n",
       "      <th>degree+</th>\n",
       "    </tr>\n",
       "  </thead>\n",
       "  <tbody>\n",
       "    <tr>\n",
       "      <th>2</th>\n",
       "      <td>01001</td>\n",
       "      <td>AL</td>\n",
       "      <td>Autauga County</td>\n",
       "      <td>12.417</td>\n",
       "      <td>24.593</td>\n",
       "    </tr>\n",
       "    <tr>\n",
       "      <th>3</th>\n",
       "      <td>01003</td>\n",
       "      <td>AL</td>\n",
       "      <td>Baldwin County</td>\n",
       "      <td>9.972</td>\n",
       "      <td>29.547</td>\n",
       "    </tr>\n",
       "    <tr>\n",
       "      <th>4</th>\n",
       "      <td>01005</td>\n",
       "      <td>AL</td>\n",
       "      <td>Barbour County</td>\n",
       "      <td>26.236</td>\n",
       "      <td>12.868</td>\n",
       "    </tr>\n",
       "    <tr>\n",
       "      <th>5</th>\n",
       "      <td>01007</td>\n",
       "      <td>AL</td>\n",
       "      <td>Bibb County</td>\n",
       "      <td>19.302</td>\n",
       "      <td>12.000</td>\n",
       "    </tr>\n",
       "    <tr>\n",
       "      <th>6</th>\n",
       "      <td>01009</td>\n",
       "      <td>AL</td>\n",
       "      <td>Blount County</td>\n",
       "      <td>19.969</td>\n",
       "      <td>13.050</td>\n",
       "    </tr>\n",
       "  </tbody>\n",
       "</table>\n",
       "</div>"
      ],
      "text/plain": [
       "    FIPS state            name  < diploma  degree+\n",
       "2  01001    AL  Autauga County     12.417   24.593\n",
       "3  01003    AL  Baldwin County      9.972   29.547\n",
       "4  01005    AL  Barbour County     26.236   12.868\n",
       "5  01007    AL     Bibb County     19.302   12.000\n",
       "6  01009    AL   Blount County     19.969   13.050"
      ]
     },
     "execution_count": 1718,
     "metadata": {},
     "output_type": "execute_result"
    }
   ],
   "source": [
    "data.head()"
   ]
  },
  {
   "cell_type": "code",
   "execution_count": 1719,
   "metadata": {
    "collapsed": false,
    "deletable": true,
    "editable": true
   },
   "outputs": [
    {
     "data": {
      "text/html": [
       "<div>\n",
       "<table border=\"1\" class=\"dataframe\">\n",
       "  <thead>\n",
       "    <tr style=\"text-align: right;\">\n",
       "      <th></th>\n",
       "      <th>FIPS</th>\n",
       "      <th>state</th>\n",
       "      <th>name</th>\n",
       "      <th>&lt; diploma</th>\n",
       "      <th>degree+</th>\n",
       "    </tr>\n",
       "  </thead>\n",
       "  <tbody>\n",
       "    <tr>\n",
       "      <th>3199</th>\n",
       "      <td>56037</td>\n",
       "      <td>WY</td>\n",
       "      <td>Sweetwater County</td>\n",
       "      <td>9.315</td>\n",
       "      <td>21.371</td>\n",
       "    </tr>\n",
       "    <tr>\n",
       "      <th>3200</th>\n",
       "      <td>56039</td>\n",
       "      <td>WY</td>\n",
       "      <td>Teton County</td>\n",
       "      <td>4.634</td>\n",
       "      <td>53.788</td>\n",
       "    </tr>\n",
       "    <tr>\n",
       "      <th>3201</th>\n",
       "      <td>56041</td>\n",
       "      <td>WY</td>\n",
       "      <td>Uinta County</td>\n",
       "      <td>10.361</td>\n",
       "      <td>18.207</td>\n",
       "    </tr>\n",
       "    <tr>\n",
       "      <th>3202</th>\n",
       "      <td>56043</td>\n",
       "      <td>WY</td>\n",
       "      <td>Washakie County</td>\n",
       "      <td>12.577</td>\n",
       "      <td>21.076</td>\n",
       "    </tr>\n",
       "    <tr>\n",
       "      <th>3203</th>\n",
       "      <td>56045</td>\n",
       "      <td>WY</td>\n",
       "      <td>Weston County</td>\n",
       "      <td>8.592</td>\n",
       "      <td>18.807</td>\n",
       "    </tr>\n",
       "  </tbody>\n",
       "</table>\n",
       "</div>"
      ],
      "text/plain": [
       "       FIPS state               name  < diploma  degree+\n",
       "3199  56037    WY  Sweetwater County      9.315   21.371\n",
       "3200  56039    WY       Teton County      4.634   53.788\n",
       "3201  56041    WY       Uinta County     10.361   18.207\n",
       "3202  56043    WY    Washakie County     12.577   21.076\n",
       "3203  56045    WY      Weston County      8.592   18.807"
      ]
     },
     "execution_count": 1719,
     "metadata": {},
     "output_type": "execute_result"
    }
   ],
   "source": [
    "data.tail()"
   ]
  },
  {
   "cell_type": "code",
   "execution_count": 1720,
   "metadata": {
    "collapsed": true,
    "deletable": true,
    "editable": true
   },
   "outputs": [],
   "source": [
    "population = pd.read_excel('data/Population.xls', skiprows=range(2), usecols=['FIPS','Urban_Influence_Code_2013',\n",
    "                                                                              'CENSUS_2010_POP','POP_ESTIMATE_2014',\n",
    "                                                                              'INTERNATIONALMIG_2010',\n",
    "                                                                              'INTERNATIONALMIG-2011',\n",
    "                                                                              'INTERNATIONAL_MIG_2012',\n",
    "                                                                              'INTERNATIONAL_MIG_2013'],\n",
    "                           converters={'FIPS': str})"
   ]
  },
  {
   "cell_type": "code",
   "execution_count": 1721,
   "metadata": {
    "collapsed": true,
    "deletable": true,
    "editable": true
   },
   "outputs": [],
   "source": [
    "population.columns = ['FIPS', 'urban_influence', 'pop_2010', 'pop_2014', 'im1', 'im2', 'im3', 'im4']"
   ]
  },
  {
   "cell_type": "markdown",
   "metadata": {
    "deletable": true,
    "editable": true
   },
   "source": [
    "The urban influence code \"distinguishes metropolitan counties by population size of their metro area, and nonmetropolitan counties by size of the largest city or town and proximity to metro and micropolitan areas.\" Lower numbers are more urban. The other features being consteucted here are the change in poulation between 2010 and 2014, and the change in the international migrant population relative to the overall change. "
   ]
  },
  {
   "cell_type": "code",
   "execution_count": 1722,
   "metadata": {
    "collapsed": true,
    "deletable": true,
    "editable": true
   },
   "outputs": [],
   "source": [
    "population['pop_inc'] = (population['pop_2014'] - population['pop_2010']) / population['pop_2010']"
   ]
  },
  {
   "cell_type": "code",
   "execution_count": 1723,
   "metadata": {
    "collapsed": true,
    "deletable": true,
    "editable": true
   },
   "outputs": [],
   "source": [
    "population['foreign_inc'] = (population['im1'] + population['im2'] + population['im3'] + population['im4']\n",
    "                            ) / (population['pop_2014'] - population['pop_2010'])"
   ]
  },
  {
   "cell_type": "code",
   "execution_count": 1724,
   "metadata": {
    "collapsed": true,
    "deletable": true,
    "editable": true
   },
   "outputs": [],
   "source": [
    "add_pop = population.drop(['pop_2010', 'im1', 'im2', 'im3', 'im4'], axis=1)"
   ]
  },
  {
   "cell_type": "code",
   "execution_count": 1725,
   "metadata": {
    "collapsed": false,
    "deletable": true,
    "editable": true
   },
   "outputs": [
    {
     "data": {
      "text/html": [
       "<div>\n",
       "<table border=\"1\" class=\"dataframe\">\n",
       "  <thead>\n",
       "    <tr style=\"text-align: right;\">\n",
       "      <th></th>\n",
       "      <th>FIPS</th>\n",
       "      <th>urban_influence</th>\n",
       "      <th>pop_2014</th>\n",
       "      <th>pop_inc</th>\n",
       "      <th>foreign_inc</th>\n",
       "    </tr>\n",
       "  </thead>\n",
       "  <tbody>\n",
       "    <tr>\n",
       "      <th>0</th>\n",
       "      <td>00000</td>\n",
       "      <td>NaN</td>\n",
       "      <td>318622525</td>\n",
       "      <td>0.031991</td>\n",
       "      <td>0.289381</td>\n",
       "    </tr>\n",
       "    <tr>\n",
       "      <th>1</th>\n",
       "      <td>01000</td>\n",
       "      <td>NaN</td>\n",
       "      <td>4840037</td>\n",
       "      <td>0.012616</td>\n",
       "      <td>0.232285</td>\n",
       "    </tr>\n",
       "    <tr>\n",
       "      <th>2</th>\n",
       "      <td>01001</td>\n",
       "      <td>2.0</td>\n",
       "      <td>54864</td>\n",
       "      <td>0.005369</td>\n",
       "      <td>0.040956</td>\n",
       "    </tr>\n",
       "    <tr>\n",
       "      <th>3</th>\n",
       "      <td>01003</td>\n",
       "      <td>2.0</td>\n",
       "      <td>199064</td>\n",
       "      <td>0.092168</td>\n",
       "      <td>0.030359</td>\n",
       "    </tr>\n",
       "    <tr>\n",
       "      <th>4</th>\n",
       "      <td>01005</td>\n",
       "      <td>6.0</td>\n",
       "      <td>26749</td>\n",
       "      <td>-0.025786</td>\n",
       "      <td>0.033898</td>\n",
       "    </tr>\n",
       "    <tr>\n",
       "      <th>5</th>\n",
       "      <td>01007</td>\n",
       "      <td>1.0</td>\n",
       "      <td>22533</td>\n",
       "      <td>-0.016670</td>\n",
       "      <td>-0.102094</td>\n",
       "    </tr>\n",
       "  </tbody>\n",
       "</table>\n",
       "</div>"
      ],
      "text/plain": [
       "    FIPS  urban_influence   pop_2014   pop_inc  foreign_inc\n",
       "0  00000              NaN  318622525  0.031991     0.289381\n",
       "1  01000              NaN    4840037  0.012616     0.232285\n",
       "2  01001              2.0      54864  0.005369     0.040956\n",
       "3  01003              2.0     199064  0.092168     0.030359\n",
       "4  01005              6.0      26749 -0.025786     0.033898\n",
       "5  01007              1.0      22533 -0.016670    -0.102094"
      ]
     },
     "execution_count": 1725,
     "metadata": {},
     "output_type": "execute_result"
    }
   ],
   "source": [
    "add_pop.head(6)"
   ]
  },
  {
   "cell_type": "markdown",
   "metadata": {
    "deletable": true,
    "editable": true
   },
   "source": [
    "Where the population increase is negative, the foreign increase must be multiplied by -1 so that the division in the calculation does not turn a positive foreign increase negative and vice-versa."
   ]
  },
  {
   "cell_type": "code",
   "execution_count": 1726,
   "metadata": {
    "collapsed": true,
    "deletable": true,
    "editable": true
   },
   "outputs": [],
   "source": [
    "add_pop['foreign_inc'] = add_pop['foreign_inc'] * (add_pop['pop_inc'] / abs(add_pop['pop_inc']))"
   ]
  },
  {
   "cell_type": "code",
   "execution_count": 1727,
   "metadata": {
    "collapsed": false,
    "deletable": true,
    "editable": true
   },
   "outputs": [
    {
     "data": {
      "text/html": [
       "<div>\n",
       "<table border=\"1\" class=\"dataframe\">\n",
       "  <thead>\n",
       "    <tr style=\"text-align: right;\">\n",
       "      <th></th>\n",
       "      <th>FIPS</th>\n",
       "      <th>urban_influence</th>\n",
       "      <th>pop_2014</th>\n",
       "      <th>pop_inc</th>\n",
       "      <th>foreign_inc</th>\n",
       "    </tr>\n",
       "  </thead>\n",
       "  <tbody>\n",
       "    <tr>\n",
       "      <th>0</th>\n",
       "      <td>00000</td>\n",
       "      <td>NaN</td>\n",
       "      <td>318622525</td>\n",
       "      <td>0.031991</td>\n",
       "      <td>0.289381</td>\n",
       "    </tr>\n",
       "    <tr>\n",
       "      <th>1</th>\n",
       "      <td>01000</td>\n",
       "      <td>NaN</td>\n",
       "      <td>4840037</td>\n",
       "      <td>0.012616</td>\n",
       "      <td>0.232285</td>\n",
       "    </tr>\n",
       "    <tr>\n",
       "      <th>2</th>\n",
       "      <td>01001</td>\n",
       "      <td>2.0</td>\n",
       "      <td>54864</td>\n",
       "      <td>0.005369</td>\n",
       "      <td>0.040956</td>\n",
       "    </tr>\n",
       "    <tr>\n",
       "      <th>3</th>\n",
       "      <td>01003</td>\n",
       "      <td>2.0</td>\n",
       "      <td>199064</td>\n",
       "      <td>0.092168</td>\n",
       "      <td>0.030359</td>\n",
       "    </tr>\n",
       "    <tr>\n",
       "      <th>4</th>\n",
       "      <td>01005</td>\n",
       "      <td>6.0</td>\n",
       "      <td>26749</td>\n",
       "      <td>-0.025786</td>\n",
       "      <td>-0.033898</td>\n",
       "    </tr>\n",
       "    <tr>\n",
       "      <th>5</th>\n",
       "      <td>01007</td>\n",
       "      <td>1.0</td>\n",
       "      <td>22533</td>\n",
       "      <td>-0.016670</td>\n",
       "      <td>0.102094</td>\n",
       "    </tr>\n",
       "  </tbody>\n",
       "</table>\n",
       "</div>"
      ],
      "text/plain": [
       "    FIPS  urban_influence   pop_2014   pop_inc  foreign_inc\n",
       "0  00000              NaN  318622525  0.031991     0.289381\n",
       "1  01000              NaN    4840037  0.012616     0.232285\n",
       "2  01001              2.0      54864  0.005369     0.040956\n",
       "3  01003              2.0     199064  0.092168     0.030359\n",
       "4  01005              6.0      26749 -0.025786    -0.033898\n",
       "5  01007              1.0      22533 -0.016670     0.102094"
      ]
     },
     "execution_count": 1727,
     "metadata": {},
     "output_type": "execute_result"
    }
   ],
   "source": [
    "add_pop.head(6)"
   ]
  },
  {
   "cell_type": "code",
   "execution_count": 1728,
   "metadata": {
    "collapsed": true,
    "deletable": true,
    "editable": true
   },
   "outputs": [],
   "source": [
    "data = data.set_index('FIPS').join(add_pop.set_index('FIPS'))"
   ]
  },
  {
   "cell_type": "code",
   "execution_count": 1729,
   "metadata": {
    "collapsed": false,
    "deletable": true,
    "editable": true
   },
   "outputs": [],
   "source": [
    "unemployment = pd.read_excel('data/Unemployment.xls', skiprows=range(7), usecols=['FIPStxt', 'Unemployment_rate_2014'],\n",
    "                            converters={'FIPStxt': str})\n",
    "unemployment.columns = ['FIPS', 'unemployment']\n",
    "unemployment = unemployment.set_index('FIPS')\n",
    "unemployment2 = pd.read_excel('data/CLF01.xls', sheetname='Sheet9', usecols=['STCOU', 'CLF040210D'], converters={'STCOU': str})\n",
    "unemployment2.columns = ['FIPS', 'unemployment_2009']\n",
    "unemployment = unemployment.join(unemployment2.set_index('FIPS'))\n",
    "unemployment['unemp_change'] = unemployment['unemployment_2009'] - unemployment['unemployment']\n",
    "data = data.join(unemployment.drop('unemployment_2009', axis=1))"
   ]
  },
  {
   "cell_type": "code",
   "execution_count": 1730,
   "metadata": {
    "collapsed": true,
    "deletable": true,
    "editable": true
   },
   "outputs": [],
   "source": [
    "poverty = pd.read_excel('data/Poverty.xls', skiprows=range(2), usecols = ['FIPStxt',\n",
    "                                                                         'PCTPOVALL_2014','MEDHHINC_2014'],\n",
    "                       converters={'FIPStxt': str})\n",
    "poverty.columns = ['FIPS', 'poverty', 'median_hh_inc'] # poverty rate and median household income\n",
    "poverty = poverty.set_index('FIPS')\n",
    "poverty2 = pd.read_excel('data/IPE01.xls', sheetname='Sheet5', usecols=['STCOU', 'IPE120209D'], converters={'STCOU': str})\n",
    "poverty2.columns = ['FIPS', 'poverty_2009']\n",
    "poverty = poverty.join(poverty2.set_index('FIPS'))\n",
    "poverty['pov_change'] = poverty['poverty_2009'] - poverty['poverty']\n",
    "data = data.join(poverty.drop('poverty_2009', axis=1))"
   ]
  },
  {
   "cell_type": "code",
   "execution_count": 1731,
   "metadata": {
    "collapsed": true,
    "deletable": true,
    "editable": true
   },
   "outputs": [],
   "source": [
    "age = pd.read_excel('data/AGE01.xls', sheetname='Sheet2', usecols=['STCOU', 'AGE050210D'], converters={'STCOU': str})\n",
    "age.columns = ['FIPS', 'median_age']\n",
    "data = data.join(age.set_index('FIPS'))"
   ]
  },
  {
   "cell_type": "code",
   "execution_count": 1732,
   "metadata": {
    "collapsed": true,
    "deletable": true,
    "editable": true
   },
   "outputs": [],
   "source": [
    "households1 = pd.read_excel('data/HSG02.xls', sheetname='HSG02D', usecols=['HSG200210D'])\n",
    "households2 = pd.read_excel('data/HSG02.xls', sheetname='HSG02E', usecols=['STCOU', 'HSG215210D', 'HSG220210D'],\n",
    "                          converters={'STCOU': str})\n",
    "households2.columns = ['FIPS', 'hh_afr_am', 'hh_hisp']"
   ]
  },
  {
   "cell_type": "markdown",
   "metadata": {
    "deletable": true,
    "editable": true
   },
   "source": [
    "Divide the numbers of households headed by African-Americans and Hispanics by the total number of households to get percentages."
   ]
  },
  {
   "cell_type": "code",
   "execution_count": 1733,
   "metadata": {
    "collapsed": true,
    "deletable": true,
    "editable": true
   },
   "outputs": [],
   "source": [
    "households2.loc[:, ['hh_afr_am', 'hh_hisp']] = households2[['hh_afr_am', 'hh_hisp']].div(households1['HSG200210D'], axis=0)\n",
    "data = data.join(households2.set_index('FIPS'))"
   ]
  },
  {
   "cell_type": "code",
   "execution_count": 1734,
   "metadata": {
    "collapsed": true,
    "deletable": true,
    "editable": true
   },
   "outputs": [],
   "source": [
    "hh_07 = pd.read_excel('data/HSD01.xls', sheetname='HSD01I', usecols=['HSD410209D'])"
   ]
  },
  {
   "cell_type": "code",
   "execution_count": 1735,
   "metadata": {
    "collapsed": true,
    "deletable": true,
    "editable": true
   },
   "outputs": [],
   "source": [
    "hh_female = pd.read_excel('data/HSD02.xls', sheetname='HSD02B', usecols=['STCOU', 'HSD570209D'],\n",
    "                          converters={'STCOU': str})"
   ]
  },
  {
   "cell_type": "code",
   "execution_count": 1736,
   "metadata": {
    "collapsed": true,
    "deletable": true,
    "editable": true
   },
   "outputs": [],
   "source": [
    "hh_female.columns = ['FIPS', 'hh_female']\n",
    "hh_female.loc[:, 'hh_female'] = hh_female['hh_female'] / hh_07['HSD410209D']"
   ]
  },
  {
   "cell_type": "code",
   "execution_count": 1737,
   "metadata": {
    "collapsed": true,
    "deletable": true,
    "editable": true
   },
   "outputs": [],
   "source": [
    "hh_food_st = pd.read_excel('data/INC01.xls', sheetname='INC01J', usecols=['STCOU', 'INC454209D'],\n",
    "                          converters={'STCOU': str})"
   ]
  },
  {
   "cell_type": "code",
   "execution_count": 1738,
   "metadata": {
    "collapsed": true,
    "deletable": true,
    "editable": true
   },
   "outputs": [],
   "source": [
    "hh_food_st.columns = ['FIPS', 'hh_food_st']\n",
    "hh_food_st.loc[:, 'hh_food_st'] = hh_food_st['hh_food_st'] / hh_07['HSD410209D']"
   ]
  },
  {
   "cell_type": "code",
   "execution_count": 1739,
   "metadata": {
    "collapsed": true,
    "deletable": true,
    "editable": true
   },
   "outputs": [],
   "source": [
    "data = data.join([hh_female.set_index('FIPS'), hh_food_st.set_index('FIPS')])"
   ]
  },
  {
   "cell_type": "code",
   "execution_count": 1740,
   "metadata": {
    "collapsed": true,
    "deletable": true,
    "editable": true
   },
   "outputs": [],
   "source": [
    "foreign_born = pd.read_excel('data/POP02.xls', sheetname='POP02J', usecols=['STCOU', 'POP645209D'],\n",
    "                            converters={'STCOU': str})\n",
    "foreign_born.columns = ['FIPS', 'foreign_07']"
   ]
  },
  {
   "cell_type": "code",
   "execution_count": 1741,
   "metadata": {
    "collapsed": true,
    "deletable": true,
    "editable": true
   },
   "outputs": [],
   "source": [
    "pop_07 = pd.read_excel('data/PST01.xls', sheetname='Sheet4', usecols=['PST045207D'])"
   ]
  },
  {
   "cell_type": "code",
   "execution_count": 1742,
   "metadata": {
    "collapsed": true,
    "deletable": true,
    "editable": true
   },
   "outputs": [],
   "source": [
    "vets = pd.read_excel('data/VET01.xls', sheetname='VET01C', usecols=['STCOU', 'VET605209D', 'VET610209D'],\n",
    "                    converters={'STCOU': str})\n",
    "vets.columns = ['FIPS', 'vets', 'vets_male']"
   ]
  },
  {
   "cell_type": "code",
   "execution_count": 1743,
   "metadata": {
    "collapsed": true,
    "deletable": true,
    "editable": true
   },
   "outputs": [],
   "source": [
    "vets.loc[:, 'vets'] = vets['vets'] / pop_07['PST045207D']"
   ]
  },
  {
   "cell_type": "code",
   "execution_count": 1744,
   "metadata": {
    "collapsed": true,
    "deletable": true,
    "editable": true
   },
   "outputs": [],
   "source": [
    "data = data.join([foreign_born.set_index('FIPS'), vets.set_index('FIPS')])"
   ]
  },
  {
   "cell_type": "code",
   "execution_count": 1745,
   "metadata": {
    "collapsed": true,
    "deletable": true,
    "editable": true
   },
   "outputs": [],
   "source": [
    "crimes = pd.read_csv('data/Crime.tsv', sep='\\t', usecols=['FIPS_ST', 'FIPS_CTY', 'VIOL', 'PROPERTY'],\n",
    "                    converters={'FIPS_ST': str, 'FIPS_CTY': str, 'VIOL': float, 'PROPERTY': float}, engine='python')"
   ]
  },
  {
   "cell_type": "code",
   "execution_count": 1746,
   "metadata": {
    "collapsed": false,
    "deletable": true,
    "editable": true
   },
   "outputs": [
    {
     "data": {
      "text/html": [
       "<div>\n",
       "<table border=\"1\" class=\"dataframe\">\n",
       "  <thead>\n",
       "    <tr style=\"text-align: right;\">\n",
       "      <th></th>\n",
       "      <th>FIPS_ST</th>\n",
       "      <th>FIPS_CTY</th>\n",
       "      <th>viol_crime</th>\n",
       "      <th>prop_crime</th>\n",
       "    </tr>\n",
       "  </thead>\n",
       "  <tbody>\n",
       "    <tr>\n",
       "      <th>0</th>\n",
       "      <td>1</td>\n",
       "      <td>1</td>\n",
       "      <td>144.0</td>\n",
       "      <td>1625.0</td>\n",
       "    </tr>\n",
       "    <tr>\n",
       "      <th>1</th>\n",
       "      <td>1</td>\n",
       "      <td>3</td>\n",
       "      <td>373.0</td>\n",
       "      <td>4060.0</td>\n",
       "    </tr>\n",
       "    <tr>\n",
       "      <th>2</th>\n",
       "      <td>1</td>\n",
       "      <td>5</td>\n",
       "      <td>97.0</td>\n",
       "      <td>660.0</td>\n",
       "    </tr>\n",
       "    <tr>\n",
       "      <th>3</th>\n",
       "      <td>1</td>\n",
       "      <td>7</td>\n",
       "      <td>23.0</td>\n",
       "      <td>227.0</td>\n",
       "    </tr>\n",
       "    <tr>\n",
       "      <th>4</th>\n",
       "      <td>1</td>\n",
       "      <td>9</td>\n",
       "      <td>125.0</td>\n",
       "      <td>1270.0</td>\n",
       "    </tr>\n",
       "  </tbody>\n",
       "</table>\n",
       "</div>"
      ],
      "text/plain": [
       "  FIPS_ST FIPS_CTY  viol_crime  prop_crime\n",
       "0       1        1       144.0      1625.0\n",
       "1       1        3       373.0      4060.0\n",
       "2       1        5        97.0       660.0\n",
       "3       1        7        23.0       227.0\n",
       "4       1        9       125.0      1270.0"
      ]
     },
     "execution_count": 1746,
     "metadata": {},
     "output_type": "execute_result"
    }
   ],
   "source": [
    "crimes.columns = ['FIPS_ST', 'FIPS_CTY', 'viol_crime', 'prop_crime']\n",
    "crimes.head()"
   ]
  },
  {
   "cell_type": "code",
   "execution_count": 1747,
   "metadata": {
    "collapsed": true,
    "deletable": true,
    "editable": true
   },
   "outputs": [],
   "source": [
    "crimes['FIPS_ST'] = crimes['FIPS_ST'].apply(lambda x: '0' * (2 - len(x)) + x)"
   ]
  },
  {
   "cell_type": "code",
   "execution_count": 1748,
   "metadata": {
    "collapsed": true,
    "deletable": true,
    "editable": true
   },
   "outputs": [],
   "source": [
    "crimes['FIPS_CTY'] = crimes['FIPS_CTY'].apply(lambda x: '0' * (3 - len(x)) + x)"
   ]
  },
  {
   "cell_type": "code",
   "execution_count": 1749,
   "metadata": {
    "collapsed": true,
    "deletable": true,
    "editable": true
   },
   "outputs": [],
   "source": [
    "crimes['FIPS'] = crimes['FIPS_ST'] + crimes['FIPS_CTY']"
   ]
  },
  {
   "cell_type": "code",
   "execution_count": 1750,
   "metadata": {
    "collapsed": true,
    "deletable": true,
    "editable": true
   },
   "outputs": [],
   "source": [
    "data = data.join(crimes.drop(['FIPS_ST', 'FIPS_CTY'], axis=1).set_index('FIPS'))"
   ]
  },
  {
   "cell_type": "code",
   "execution_count": 1751,
   "metadata": {
    "collapsed": true,
    "deletable": true,
    "editable": true
   },
   "outputs": [],
   "source": [
    "data.loc[:, ['viol_crime', 'prop_crime']] = data[['viol_crime', 'prop_crime']].div(data['pop_2014'], axis=0)"
   ]
  },
  {
   "cell_type": "code",
   "execution_count": 1752,
   "metadata": {
    "collapsed": false,
    "deletable": true,
    "editable": true
   },
   "outputs": [
    {
     "data": {
      "text/plain": [
       "state               0\n",
       "name                0\n",
       "< diploma          10\n",
       "degree+            10\n",
       "urban_influence    10\n",
       "pop_2014           10\n",
       "pop_inc            10\n",
       "foreign_inc        13\n",
       "unemployment       11\n",
       "unemp_change       13\n",
       "poverty            13\n",
       "median_hh_inc      13\n",
       "pov_change         13\n",
       "median_age          9\n",
       "hh_afr_am          11\n",
       "hh_hisp            11\n",
       "hh_female          11\n",
       "hh_food_st         11\n",
       "foreign_07          9\n",
       "vets               11\n",
       "vets_male           9\n",
       "viol_crime         18\n",
       "prop_crime         18\n",
       "dtype: int64"
      ]
     },
     "execution_count": 1752,
     "metadata": {},
     "output_type": "execute_result"
    }
   ],
   "source": [
    "data.isnull().sum()"
   ]
  },
  {
   "cell_type": "code",
   "execution_count": 1753,
   "metadata": {
    "collapsed": false,
    "deletable": true,
    "editable": true
   },
   "outputs": [
    {
     "data": {
      "text/plain": [
       "3130"
      ]
     },
     "execution_count": 1753,
     "metadata": {},
     "output_type": "execute_result"
    }
   ],
   "source": [
    "len(data.dropna())"
   ]
  },
  {
   "cell_type": "code",
   "execution_count": 1754,
   "metadata": {
    "collapsed": false,
    "deletable": true,
    "editable": true
   },
   "outputs": [
    {
     "data": {
      "text/plain": [
       "3152"
      ]
     },
     "execution_count": 1754,
     "metadata": {},
     "output_type": "execute_result"
    }
   ],
   "source": [
    "len(data)"
   ]
  },
  {
   "cell_type": "markdown",
   "metadata": {
    "deletable": true,
    "editable": true
   },
   "source": [
    "Many of the missing values occur in records missing multiple values, and dropping all of them would only reduce the number of records from 3,152 to 3,130, so drop them."
   ]
  },
  {
   "cell_type": "code",
   "execution_count": 1755,
   "metadata": {
    "collapsed": true,
    "deletable": true,
    "editable": true
   },
   "outputs": [],
   "source": [
    "data = data.dropna()"
   ]
  },
  {
   "cell_type": "code",
   "execution_count": 1756,
   "metadata": {
    "collapsed": false,
    "deletable": true,
    "editable": true
   },
   "outputs": [
    {
     "data": {
      "text/plain": [
       "state                0\n",
       "name                 0\n",
       "< diploma            0\n",
       "degree+              0\n",
       "urban_influence      0\n",
       "pop_2014             0\n",
       "pop_inc              0\n",
       "foreign_inc        156\n",
       "unemployment         0\n",
       "unemp_change        11\n",
       "poverty              0\n",
       "median_hh_inc        0\n",
       "pov_change          61\n",
       "median_age           0\n",
       "hh_afr_am           85\n",
       "hh_hisp              4\n",
       "hh_female            2\n",
       "hh_food_st           3\n",
       "foreign_07          33\n",
       "vets                 0\n",
       "vets_male            0\n",
       "viol_crime         163\n",
       "prop_crime         100\n",
       "dtype: int64"
      ]
     },
     "execution_count": 1756,
     "metadata": {},
     "output_type": "execute_result"
    }
   ],
   "source": [
    "(data == 0).sum()"
   ]
  },
  {
   "cell_type": "markdown",
   "metadata": {
    "deletable": true,
    "editable": true
   },
   "source": [
    "It is reasonable that these values could be zero, so proceed."
   ]
  },
  {
   "cell_type": "code",
   "execution_count": 1757,
   "metadata": {
    "collapsed": false,
    "deletable": true,
    "editable": true
   },
   "outputs": [
    {
     "data": {
      "text/html": [
       "<div>\n",
       "<table border=\"1\" class=\"dataframe\">\n",
       "  <thead>\n",
       "    <tr style=\"text-align: right;\">\n",
       "      <th></th>\n",
       "      <th>&lt; diploma</th>\n",
       "      <th>degree+</th>\n",
       "      <th>urban_influence</th>\n",
       "      <th>pop_2014</th>\n",
       "      <th>pop_inc</th>\n",
       "      <th>foreign_inc</th>\n",
       "      <th>unemployment</th>\n",
       "      <th>unemp_change</th>\n",
       "      <th>poverty</th>\n",
       "      <th>median_hh_inc</th>\n",
       "      <th>...</th>\n",
       "      <th>median_age</th>\n",
       "      <th>hh_afr_am</th>\n",
       "      <th>hh_hisp</th>\n",
       "      <th>hh_female</th>\n",
       "      <th>hh_food_st</th>\n",
       "      <th>foreign_07</th>\n",
       "      <th>vets</th>\n",
       "      <th>vets_male</th>\n",
       "      <th>viol_crime</th>\n",
       "      <th>prop_crime</th>\n",
       "    </tr>\n",
       "  </thead>\n",
       "  <tbody>\n",
       "    <tr>\n",
       "      <th>count</th>\n",
       "      <td>3130.000000</td>\n",
       "      <td>3130.000000</td>\n",
       "      <td>3130.000000</td>\n",
       "      <td>3.130000e+03</td>\n",
       "      <td>3130.000000</td>\n",
       "      <td>3130.000000</td>\n",
       "      <td>3130.000000</td>\n",
       "      <td>3130.000000</td>\n",
       "      <td>3130.000000</td>\n",
       "      <td>3130.000000</td>\n",
       "      <td>...</td>\n",
       "      <td>3130.000000</td>\n",
       "      <td>3130.000000</td>\n",
       "      <td>3130.000000</td>\n",
       "      <td>3130.000000</td>\n",
       "      <td>3130.000000</td>\n",
       "      <td>3130.000000</td>\n",
       "      <td>3130.000000</td>\n",
       "      <td>3130.000000</td>\n",
       "      <td>3130.000000</td>\n",
       "      <td>3130.000000</td>\n",
       "    </tr>\n",
       "    <tr>\n",
       "      <th>mean</th>\n",
       "      <td>14.203396</td>\n",
       "      <td>20.789275</td>\n",
       "      <td>5.252716</td>\n",
       "      <td>1.017577e+05</td>\n",
       "      <td>0.002831</td>\n",
       "      <td>0.395946</td>\n",
       "      <td>6.235559</td>\n",
       "      <td>2.946709</td>\n",
       "      <td>16.837380</td>\n",
       "      <td>47121.392971</td>\n",
       "      <td>...</td>\n",
       "      <td>40.336102</td>\n",
       "      <td>0.081055</td>\n",
       "      <td>0.060388</td>\n",
       "      <td>0.110043</td>\n",
       "      <td>0.104072</td>\n",
       "      <td>4.242971</td>\n",
       "      <td>0.088570</td>\n",
       "      <td>94.202109</td>\n",
       "      <td>0.002291</td>\n",
       "      <td>0.018038</td>\n",
       "    </tr>\n",
       "    <tr>\n",
       "      <th>std</th>\n",
       "      <td>6.539295</td>\n",
       "      <td>9.143450</td>\n",
       "      <td>3.492818</td>\n",
       "      <td>3.263767e+05</td>\n",
       "      <td>0.041968</td>\n",
       "      <td>3.043823</td>\n",
       "      <td>2.256287</td>\n",
       "      <td>1.807379</td>\n",
       "      <td>6.422444</td>\n",
       "      <td>12099.573945</td>\n",
       "      <td>...</td>\n",
       "      <td>5.033958</td>\n",
       "      <td>0.138236</td>\n",
       "      <td>0.114099</td>\n",
       "      <td>0.043623</td>\n",
       "      <td>0.058290</td>\n",
       "      <td>5.475315</td>\n",
       "      <td>0.022732</td>\n",
       "      <td>3.143674</td>\n",
       "      <td>0.001968</td>\n",
       "      <td>0.011847</td>\n",
       "    </tr>\n",
       "    <tr>\n",
       "      <th>min</th>\n",
       "      <td>1.279000</td>\n",
       "      <td>2.985000</td>\n",
       "      <td>1.000000</td>\n",
       "      <td>8.900000e+01</td>\n",
       "      <td>-0.177510</td>\n",
       "      <td>-6.333333</td>\n",
       "      <td>1.200000</td>\n",
       "      <td>-8.200000</td>\n",
       "      <td>3.200000</td>\n",
       "      <td>21658.000000</td>\n",
       "      <td>...</td>\n",
       "      <td>22.400000</td>\n",
       "      <td>0.000000</td>\n",
       "      <td>0.000000</td>\n",
       "      <td>0.000000</td>\n",
       "      <td>0.000000</td>\n",
       "      <td>0.000000</td>\n",
       "      <td>0.019065</td>\n",
       "      <td>65.000000</td>\n",
       "      <td>0.000000</td>\n",
       "      <td>0.000000</td>\n",
       "    </tr>\n",
       "    <tr>\n",
       "      <th>25%</th>\n",
       "      <td>9.282750</td>\n",
       "      <td>14.427500</td>\n",
       "      <td>2.000000</td>\n",
       "      <td>1.102950e+04</td>\n",
       "      <td>-0.021689</td>\n",
       "      <td>0.007641</td>\n",
       "      <td>4.600000</td>\n",
       "      <td>1.700000</td>\n",
       "      <td>12.100000</td>\n",
       "      <td>38889.000000</td>\n",
       "      <td>...</td>\n",
       "      <td>37.400000</td>\n",
       "      <td>0.002661</td>\n",
       "      <td>0.009502</td>\n",
       "      <td>0.082411</td>\n",
       "      <td>0.062540</td>\n",
       "      <td>1.100000</td>\n",
       "      <td>0.074039</td>\n",
       "      <td>92.900000</td>\n",
       "      <td>0.000981</td>\n",
       "      <td>0.009866</td>\n",
       "    </tr>\n",
       "    <tr>\n",
       "      <th>50%</th>\n",
       "      <td>12.765500</td>\n",
       "      <td>18.528000</td>\n",
       "      <td>5.000000</td>\n",
       "      <td>2.574250e+04</td>\n",
       "      <td>-0.004227</td>\n",
       "      <td>0.057769</td>\n",
       "      <td>6.000000</td>\n",
       "      <td>2.800000</td>\n",
       "      <td>15.800000</td>\n",
       "      <td>45227.500000</td>\n",
       "      <td>...</td>\n",
       "      <td>40.300000</td>\n",
       "      <td>0.013111</td>\n",
       "      <td>0.019849</td>\n",
       "      <td>0.103899</td>\n",
       "      <td>0.093112</td>\n",
       "      <td>2.300000</td>\n",
       "      <td>0.087159</td>\n",
       "      <td>94.600000</td>\n",
       "      <td>0.001823</td>\n",
       "      <td>0.016319</td>\n",
       "    </tr>\n",
       "    <tr>\n",
       "      <th>75%</th>\n",
       "      <td>18.292750</td>\n",
       "      <td>24.703750</td>\n",
       "      <td>8.000000</td>\n",
       "      <td>6.785250e+04</td>\n",
       "      <td>0.020261</td>\n",
       "      <td>0.200482</td>\n",
       "      <td>7.500000</td>\n",
       "      <td>4.000000</td>\n",
       "      <td>20.400000</td>\n",
       "      <td>52529.750000</td>\n",
       "      <td>...</td>\n",
       "      <td>43.300000</td>\n",
       "      <td>0.093166</td>\n",
       "      <td>0.053750</td>\n",
       "      <td>0.128855</td>\n",
       "      <td>0.134389</td>\n",
       "      <td>5.100000</td>\n",
       "      <td>0.100460</td>\n",
       "      <td>96.100000</td>\n",
       "      <td>0.003095</td>\n",
       "      <td>0.024298</td>\n",
       "    </tr>\n",
       "    <tr>\n",
       "      <th>max</th>\n",
       "      <td>51.479000</td>\n",
       "      <td>80.210000</td>\n",
       "      <td>12.000000</td>\n",
       "      <td>1.007270e+07</td>\n",
       "      <td>0.727044</td>\n",
       "      <td>119.000000</td>\n",
       "      <td>24.000000</td>\n",
       "      <td>13.600000</td>\n",
       "      <td>47.400000</td>\n",
       "      <td>125635.000000</td>\n",
       "      <td>...</td>\n",
       "      <td>62.700000</td>\n",
       "      <td>0.832707</td>\n",
       "      <td>0.955767</td>\n",
       "      <td>0.450570</td>\n",
       "      <td>0.400252</td>\n",
       "      <td>63.100000</td>\n",
       "      <td>0.297533</td>\n",
       "      <td>100.000000</td>\n",
       "      <td>0.025476</td>\n",
       "      <td>0.138286</td>\n",
       "    </tr>\n",
       "  </tbody>\n",
       "</table>\n",
       "<p>8 rows × 21 columns</p>\n",
       "</div>"
      ],
      "text/plain": [
       "         < diploma      degree+  urban_influence      pop_2014      pop_inc  \\\n",
       "count  3130.000000  3130.000000      3130.000000  3.130000e+03  3130.000000   \n",
       "mean     14.203396    20.789275         5.252716  1.017577e+05     0.002831   \n",
       "std       6.539295     9.143450         3.492818  3.263767e+05     0.041968   \n",
       "min       1.279000     2.985000         1.000000  8.900000e+01    -0.177510   \n",
       "25%       9.282750    14.427500         2.000000  1.102950e+04    -0.021689   \n",
       "50%      12.765500    18.528000         5.000000  2.574250e+04    -0.004227   \n",
       "75%      18.292750    24.703750         8.000000  6.785250e+04     0.020261   \n",
       "max      51.479000    80.210000        12.000000  1.007270e+07     0.727044   \n",
       "\n",
       "       foreign_inc  unemployment  unemp_change      poverty  median_hh_inc  \\\n",
       "count  3130.000000   3130.000000   3130.000000  3130.000000    3130.000000   \n",
       "mean      0.395946      6.235559      2.946709    16.837380   47121.392971   \n",
       "std       3.043823      2.256287      1.807379     6.422444   12099.573945   \n",
       "min      -6.333333      1.200000     -8.200000     3.200000   21658.000000   \n",
       "25%       0.007641      4.600000      1.700000    12.100000   38889.000000   \n",
       "50%       0.057769      6.000000      2.800000    15.800000   45227.500000   \n",
       "75%       0.200482      7.500000      4.000000    20.400000   52529.750000   \n",
       "max     119.000000     24.000000     13.600000    47.400000  125635.000000   \n",
       "\n",
       "          ...        median_age    hh_afr_am      hh_hisp    hh_female  \\\n",
       "count     ...       3130.000000  3130.000000  3130.000000  3130.000000   \n",
       "mean      ...         40.336102     0.081055     0.060388     0.110043   \n",
       "std       ...          5.033958     0.138236     0.114099     0.043623   \n",
       "min       ...         22.400000     0.000000     0.000000     0.000000   \n",
       "25%       ...         37.400000     0.002661     0.009502     0.082411   \n",
       "50%       ...         40.300000     0.013111     0.019849     0.103899   \n",
       "75%       ...         43.300000     0.093166     0.053750     0.128855   \n",
       "max       ...         62.700000     0.832707     0.955767     0.450570   \n",
       "\n",
       "        hh_food_st   foreign_07         vets    vets_male   viol_crime  \\\n",
       "count  3130.000000  3130.000000  3130.000000  3130.000000  3130.000000   \n",
       "mean      0.104072     4.242971     0.088570    94.202109     0.002291   \n",
       "std       0.058290     5.475315     0.022732     3.143674     0.001968   \n",
       "min       0.000000     0.000000     0.019065    65.000000     0.000000   \n",
       "25%       0.062540     1.100000     0.074039    92.900000     0.000981   \n",
       "50%       0.093112     2.300000     0.087159    94.600000     0.001823   \n",
       "75%       0.134389     5.100000     0.100460    96.100000     0.003095   \n",
       "max       0.400252    63.100000     0.297533   100.000000     0.025476   \n",
       "\n",
       "        prop_crime  \n",
       "count  3130.000000  \n",
       "mean      0.018038  \n",
       "std       0.011847  \n",
       "min       0.000000  \n",
       "25%       0.009866  \n",
       "50%       0.016319  \n",
       "75%       0.024298  \n",
       "max       0.138286  \n",
       "\n",
       "[8 rows x 21 columns]"
      ]
     },
     "execution_count": 1757,
     "metadata": {},
     "output_type": "execute_result"
    }
   ],
   "source": [
    "data.describe()"
   ]
  },
  {
   "cell_type": "code",
   "execution_count": 1758,
   "metadata": {
    "collapsed": true,
    "deletable": true,
    "editable": true
   },
   "outputs": [],
   "source": [
    "deaths = pd.read_csv('data/Drug_deaths.csv', usecols=['FIPS', 'Year', 'Estimated Age-adjusted Death Rate, 16 Categories (in ranges)'],\n",
    "                    converters={'FIPS': str})"
   ]
  },
  {
   "cell_type": "code",
   "execution_count": 1759,
   "metadata": {
    "collapsed": false,
    "deletable": true,
    "editable": true
   },
   "outputs": [
    {
     "data": {
      "text/plain": [
       "FIPS                                                            0\n",
       "Year                                                            0\n",
       "Estimated Age-adjusted Death Rate, 16 Categories (in ranges)    0\n",
       "dtype: int64"
      ]
     },
     "execution_count": 1759,
     "metadata": {},
     "output_type": "execute_result"
    }
   ],
   "source": [
    "deaths.isnull().sum()"
   ]
  },
  {
   "cell_type": "code",
   "execution_count": 1760,
   "metadata": {
    "collapsed": true,
    "deletable": true,
    "editable": true
   },
   "outputs": [],
   "source": [
    "targets = deaths[deaths['Year'] == 2014]\n",
    "targets = targets.drop('Year', axis=1)\n",
    "targets.columns = ['FIPS', 'death_rate']\n",
    "targets.loc[:, 'FIPS'] = targets['FIPS'].apply(lambda x: '0' + x if len(x) == 4 else x)"
   ]
  },
  {
   "cell_type": "code",
   "execution_count": 1761,
   "metadata": {
    "collapsed": false,
    "deletable": true,
    "editable": true
   },
   "outputs": [
    {
     "data": {
      "text/plain": [
       "FIPS          0\n",
       "death_rate    0\n",
       "dtype: int64"
      ]
     },
     "execution_count": 1761,
     "metadata": {},
     "output_type": "execute_result"
    }
   ],
   "source": [
    "targets.isnull().sum()"
   ]
  },
  {
   "cell_type": "code",
   "execution_count": 1762,
   "metadata": {
    "collapsed": true,
    "deletable": true,
    "editable": true
   },
   "outputs": [],
   "source": [
    "import re\n",
    "def get_num(string):\n",
    "    match = re.search('\\d+', string)\n",
    "    return int(match.group()) + 1"
   ]
  },
  {
   "cell_type": "code",
   "execution_count": 1763,
   "metadata": {
    "collapsed": true,
    "deletable": true,
    "editable": true
   },
   "outputs": [],
   "source": [
    "targets['numeric'] = targets['death_rate'].apply(lambda x: get_num(x) if x != '<2' else 1)"
   ]
  },
  {
   "cell_type": "code",
   "execution_count": 1764,
   "metadata": {
    "collapsed": true,
    "deletable": true,
    "editable": true
   },
   "outputs": [],
   "source": [
    "data = data.join(targets.set_index('FIPS')) # drop na"
   ]
  },
  {
   "cell_type": "code",
   "execution_count": 1765,
   "metadata": {
    "collapsed": false,
    "deletable": true,
    "editable": true
   },
   "outputs": [
    {
     "data": {
      "text/plain": [
       "state              0\n",
       "name               0\n",
       "< diploma          0\n",
       "degree+            0\n",
       "urban_influence    0\n",
       "pop_2014           0\n",
       "pop_inc            0\n",
       "foreign_inc        0\n",
       "unemployment       0\n",
       "unemp_change       0\n",
       "poverty            0\n",
       "median_hh_inc      0\n",
       "pov_change         0\n",
       "median_age         0\n",
       "hh_afr_am          0\n",
       "hh_hisp            0\n",
       "hh_female          0\n",
       "hh_food_st         0\n",
       "foreign_07         0\n",
       "vets               0\n",
       "vets_male          0\n",
       "viol_crime         0\n",
       "prop_crime         0\n",
       "death_rate         4\n",
       "numeric            4\n",
       "dtype: int64"
      ]
     },
     "execution_count": 1765,
     "metadata": {},
     "output_type": "execute_result"
    }
   ],
   "source": [
    "data.isnull().sum()"
   ]
  },
  {
   "cell_type": "code",
   "execution_count": 1766,
   "metadata": {
    "collapsed": false,
    "deletable": true,
    "editable": true
   },
   "outputs": [
    {
     "data": {
      "text/html": [
       "<div>\n",
       "<table border=\"1\" class=\"dataframe\">\n",
       "  <thead>\n",
       "    <tr style=\"text-align: right;\">\n",
       "      <th></th>\n",
       "      <th>state</th>\n",
       "      <th>name</th>\n",
       "      <th>&lt; diploma</th>\n",
       "      <th>degree+</th>\n",
       "      <th>urban_influence</th>\n",
       "      <th>pop_2014</th>\n",
       "      <th>pop_inc</th>\n",
       "      <th>foreign_inc</th>\n",
       "      <th>unemployment</th>\n",
       "      <th>unemp_change</th>\n",
       "      <th>...</th>\n",
       "      <th>hh_hisp</th>\n",
       "      <th>hh_female</th>\n",
       "      <th>hh_food_st</th>\n",
       "      <th>foreign_07</th>\n",
       "      <th>vets</th>\n",
       "      <th>vets_male</th>\n",
       "      <th>viol_crime</th>\n",
       "      <th>prop_crime</th>\n",
       "      <th>death_rate</th>\n",
       "      <th>numeric</th>\n",
       "    </tr>\n",
       "    <tr>\n",
       "      <th>FIPS</th>\n",
       "      <th></th>\n",
       "      <th></th>\n",
       "      <th></th>\n",
       "      <th></th>\n",
       "      <th></th>\n",
       "      <th></th>\n",
       "      <th></th>\n",
       "      <th></th>\n",
       "      <th></th>\n",
       "      <th></th>\n",
       "      <th></th>\n",
       "      <th></th>\n",
       "      <th></th>\n",
       "      <th></th>\n",
       "      <th></th>\n",
       "      <th></th>\n",
       "      <th></th>\n",
       "      <th></th>\n",
       "      <th></th>\n",
       "      <th></th>\n",
       "      <th></th>\n",
       "    </tr>\n",
       "  </thead>\n",
       "  <tbody>\n",
       "    <tr>\n",
       "      <th>08001</th>\n",
       "      <td>CO</td>\n",
       "      <td>Adams County</td>\n",
       "      <td>17.839</td>\n",
       "      <td>22.368</td>\n",
       "      <td>1.0</td>\n",
       "      <td>479488.0</td>\n",
       "      <td>0.085790</td>\n",
       "      <td>0.054824</td>\n",
       "      <td>5.7</td>\n",
       "      <td>4.5</td>\n",
       "      <td>...</td>\n",
       "      <td>0.289450</td>\n",
       "      <td>0.114910</td>\n",
       "      <td>0.055541</td>\n",
       "      <td>15.3</td>\n",
       "      <td>0.071674</td>\n",
       "      <td>92.5</td>\n",
       "      <td>0.003418</td>\n",
       "      <td>0.028810</td>\n",
       "      <td>NaN</td>\n",
       "      <td>NaN</td>\n",
       "    </tr>\n",
       "    <tr>\n",
       "      <th>08014</th>\n",
       "      <td>CO</td>\n",
       "      <td>Broomfield County</td>\n",
       "      <td>3.948</td>\n",
       "      <td>52.457</td>\n",
       "      <td>1.0</td>\n",
       "      <td>61706.0</td>\n",
       "      <td>0.104081</td>\n",
       "      <td>0.045556</td>\n",
       "      <td>4.2</td>\n",
       "      <td>3.7</td>\n",
       "      <td>...</td>\n",
       "      <td>0.080415</td>\n",
       "      <td>0.089699</td>\n",
       "      <td>0.027461</td>\n",
       "      <td>7.5</td>\n",
       "      <td>0.077482</td>\n",
       "      <td>93.9</td>\n",
       "      <td>0.000502</td>\n",
       "      <td>0.016854</td>\n",
       "      <td>NaN</td>\n",
       "      <td>NaN</td>\n",
       "    </tr>\n",
       "    <tr>\n",
       "      <th>08059</th>\n",
       "      <td>CO</td>\n",
       "      <td>Jefferson County</td>\n",
       "      <td>5.848</td>\n",
       "      <td>42.220</td>\n",
       "      <td>1.0</td>\n",
       "      <td>558519.0</td>\n",
       "      <td>0.044853</td>\n",
       "      <td>0.059893</td>\n",
       "      <td>4.6</td>\n",
       "      <td>4.0</td>\n",
       "      <td>...</td>\n",
       "      <td>0.105262</td>\n",
       "      <td>0.096715</td>\n",
       "      <td>0.033976</td>\n",
       "      <td>6.4</td>\n",
       "      <td>0.088829</td>\n",
       "      <td>93.4</td>\n",
       "      <td>0.002333</td>\n",
       "      <td>0.027371</td>\n",
       "      <td>NaN</td>\n",
       "      <td>NaN</td>\n",
       "    </tr>\n",
       "    <tr>\n",
       "      <th>08123</th>\n",
       "      <td>CO</td>\n",
       "      <td>Weld County</td>\n",
       "      <td>12.995</td>\n",
       "      <td>26.762</td>\n",
       "      <td>2.0</td>\n",
       "      <td>275584.0</td>\n",
       "      <td>0.090019</td>\n",
       "      <td>0.018015</td>\n",
       "      <td>4.5</td>\n",
       "      <td>5.7</td>\n",
       "      <td>...</td>\n",
       "      <td>0.212258</td>\n",
       "      <td>0.092415</td>\n",
       "      <td>0.048219</td>\n",
       "      <td>9.3</td>\n",
       "      <td>0.067942</td>\n",
       "      <td>94.2</td>\n",
       "      <td>0.002885</td>\n",
       "      <td>0.020204</td>\n",
       "      <td>NaN</td>\n",
       "      <td>NaN</td>\n",
       "    </tr>\n",
       "  </tbody>\n",
       "</table>\n",
       "<p>4 rows × 25 columns</p>\n",
       "</div>"
      ],
      "text/plain": [
       "      state               name  < diploma  degree+  urban_influence  pop_2014  \\\n",
       "FIPS                                                                            \n",
       "08001    CO       Adams County     17.839   22.368              1.0  479488.0   \n",
       "08014    CO  Broomfield County      3.948   52.457              1.0   61706.0   \n",
       "08059    CO   Jefferson County      5.848   42.220              1.0  558519.0   \n",
       "08123    CO        Weld County     12.995   26.762              2.0  275584.0   \n",
       "\n",
       "        pop_inc  foreign_inc  unemployment  unemp_change   ...      hh_hisp  \\\n",
       "FIPS                                                       ...                \n",
       "08001  0.085790     0.054824           5.7           4.5   ...     0.289450   \n",
       "08014  0.104081     0.045556           4.2           3.7   ...     0.080415   \n",
       "08059  0.044853     0.059893           4.6           4.0   ...     0.105262   \n",
       "08123  0.090019     0.018015           4.5           5.7   ...     0.212258   \n",
       "\n",
       "       hh_female  hh_food_st  foreign_07      vets  vets_male  viol_crime  \\\n",
       "FIPS                                                                        \n",
       "08001   0.114910    0.055541        15.3  0.071674       92.5    0.003418   \n",
       "08014   0.089699    0.027461         7.5  0.077482       93.9    0.000502   \n",
       "08059   0.096715    0.033976         6.4  0.088829       93.4    0.002333   \n",
       "08123   0.092415    0.048219         9.3  0.067942       94.2    0.002885   \n",
       "\n",
       "       prop_crime  death_rate  numeric  \n",
       "FIPS                                    \n",
       "08001    0.028810         NaN      NaN  \n",
       "08014    0.016854         NaN      NaN  \n",
       "08059    0.027371         NaN      NaN  \n",
       "08123    0.020204         NaN      NaN  \n",
       "\n",
       "[4 rows x 25 columns]"
      ]
     },
     "execution_count": 1766,
     "metadata": {},
     "output_type": "execute_result"
    }
   ],
   "source": [
    "data[data['death_rate'].isnull()]"
   ]
  },
  {
   "cell_type": "markdown",
   "metadata": {
    "deletable": true,
    "editable": true
   },
   "source": [
    "These four counties had boundaries redrawn after 2000, and do not appear in the opioid deaths dataset, so they will be removed."
   ]
  },
  {
   "cell_type": "code",
   "execution_count": 1767,
   "metadata": {
    "collapsed": true,
    "deletable": true,
    "editable": true
   },
   "outputs": [],
   "source": [
    "data = data.drop(['08001', '08014', '08059', '08123'])"
   ]
  },
  {
   "cell_type": "code",
   "execution_count": 1768,
   "metadata": {
    "collapsed": false,
    "deletable": true,
    "editable": true
   },
   "outputs": [
    {
     "data": {
      "text/plain": [
       "count    3136.000000\n",
       "mean       14.180485\n",
       "std         6.583190\n",
       "min         1.000000\n",
       "25%         9.000000\n",
       "50%        13.000000\n",
       "75%        17.000000\n",
       "max        31.000000\n",
       "Name: numeric, dtype: float64"
      ]
     },
     "execution_count": 1768,
     "metadata": {},
     "output_type": "execute_result"
    }
   ],
   "source": [
    "targets['numeric'].describe()"
   ]
  },
  {
   "cell_type": "markdown",
   "metadata": {
    "deletable": true,
    "editable": true
   },
   "source": [
    "The maximum value of 31 fits the standard definition of an outlier as less than Q1 - 1.5\\*IQR or greater than Q3 + 1.5\\*IQR. Here that applies only to values >29. Where are these outliers?"
   ]
  },
  {
   "cell_type": "code",
   "execution_count": 1769,
   "metadata": {
    "collapsed": false,
    "deletable": true,
    "editable": true
   },
   "outputs": [
    {
     "name": "stdout",
     "output_type": "stream",
     "text": [
      "102\n"
     ]
    },
    {
     "data": {
      "text/html": [
       "<div>\n",
       "<table border=\"1\" class=\"dataframe\">\n",
       "  <thead>\n",
       "    <tr style=\"text-align: right;\">\n",
       "      <th></th>\n",
       "      <th>state</th>\n",
       "      <th>name</th>\n",
       "    </tr>\n",
       "    <tr>\n",
       "      <th>FIPS</th>\n",
       "      <th></th>\n",
       "      <th></th>\n",
       "    </tr>\n",
       "  </thead>\n",
       "  <tbody>\n",
       "    <tr>\n",
       "      <th>04012</th>\n",
       "      <td>AZ</td>\n",
       "      <td>La Paz County</td>\n",
       "    </tr>\n",
       "    <tr>\n",
       "      <th>06023</th>\n",
       "      <td>CA</td>\n",
       "      <td>Humboldt County</td>\n",
       "    </tr>\n",
       "    <tr>\n",
       "      <th>06033</th>\n",
       "      <td>CA</td>\n",
       "      <td>Lake County</td>\n",
       "    </tr>\n",
       "    <tr>\n",
       "      <th>06089</th>\n",
       "      <td>CA</td>\n",
       "      <td>Shasta County</td>\n",
       "    </tr>\n",
       "    <tr>\n",
       "      <th>08023</th>\n",
       "      <td>CO</td>\n",
       "      <td>Costilla County</td>\n",
       "    </tr>\n",
       "    <tr>\n",
       "      <th>08055</th>\n",
       "      <td>CO</td>\n",
       "      <td>Huerfano County</td>\n",
       "    </tr>\n",
       "    <tr>\n",
       "      <th>12017</th>\n",
       "      <td>FL</td>\n",
       "      <td>Citrus County</td>\n",
       "    </tr>\n",
       "    <tr>\n",
       "      <th>12101</th>\n",
       "      <td>FL</td>\n",
       "      <td>Pasco County</td>\n",
       "    </tr>\n",
       "    <tr>\n",
       "      <th>16007</th>\n",
       "      <td>ID</td>\n",
       "      <td>Bear Lake County</td>\n",
       "    </tr>\n",
       "    <tr>\n",
       "      <th>18143</th>\n",
       "      <td>IN</td>\n",
       "      <td>Scott County</td>\n",
       "    </tr>\n",
       "    <tr>\n",
       "      <th>18149</th>\n",
       "      <td>IN</td>\n",
       "      <td>Starke County</td>\n",
       "    </tr>\n",
       "    <tr>\n",
       "      <th>20207</th>\n",
       "      <td>KS</td>\n",
       "      <td>Woodson County</td>\n",
       "    </tr>\n",
       "    <tr>\n",
       "      <th>21011</th>\n",
       "      <td>KY</td>\n",
       "      <td>Bath County</td>\n",
       "    </tr>\n",
       "    <tr>\n",
       "      <th>21013</th>\n",
       "      <td>KY</td>\n",
       "      <td>Bell County</td>\n",
       "    </tr>\n",
       "    <tr>\n",
       "      <th>21019</th>\n",
       "      <td>KY</td>\n",
       "      <td>Boyd County</td>\n",
       "    </tr>\n",
       "    <tr>\n",
       "      <th>21025</th>\n",
       "      <td>KY</td>\n",
       "      <td>Breathitt County</td>\n",
       "    </tr>\n",
       "    <tr>\n",
       "      <th>21037</th>\n",
       "      <td>KY</td>\n",
       "      <td>Campbell County</td>\n",
       "    </tr>\n",
       "    <tr>\n",
       "      <th>21049</th>\n",
       "      <td>KY</td>\n",
       "      <td>Clark County</td>\n",
       "    </tr>\n",
       "    <tr>\n",
       "      <th>21051</th>\n",
       "      <td>KY</td>\n",
       "      <td>Clay County</td>\n",
       "    </tr>\n",
       "    <tr>\n",
       "      <th>21053</th>\n",
       "      <td>KY</td>\n",
       "      <td>Clinton County</td>\n",
       "    </tr>\n",
       "    <tr>\n",
       "      <th>21057</th>\n",
       "      <td>KY</td>\n",
       "      <td>Cumberland County</td>\n",
       "    </tr>\n",
       "    <tr>\n",
       "      <th>21065</th>\n",
       "      <td>KY</td>\n",
       "      <td>Estill County</td>\n",
       "    </tr>\n",
       "    <tr>\n",
       "      <th>21071</th>\n",
       "      <td>KY</td>\n",
       "      <td>Floyd County</td>\n",
       "    </tr>\n",
       "    <tr>\n",
       "      <th>21077</th>\n",
       "      <td>KY</td>\n",
       "      <td>Gallatin County</td>\n",
       "    </tr>\n",
       "    <tr>\n",
       "      <th>21095</th>\n",
       "      <td>KY</td>\n",
       "      <td>Harlan County</td>\n",
       "    </tr>\n",
       "    <tr>\n",
       "      <th>21115</th>\n",
       "      <td>KY</td>\n",
       "      <td>Johnson County</td>\n",
       "    </tr>\n",
       "    <tr>\n",
       "      <th>21117</th>\n",
       "      <td>KY</td>\n",
       "      <td>Kenton County</td>\n",
       "    </tr>\n",
       "    <tr>\n",
       "      <th>21119</th>\n",
       "      <td>KY</td>\n",
       "      <td>Knott County</td>\n",
       "    </tr>\n",
       "    <tr>\n",
       "      <th>21121</th>\n",
       "      <td>KY</td>\n",
       "      <td>Knox County</td>\n",
       "    </tr>\n",
       "    <tr>\n",
       "      <th>21127</th>\n",
       "      <td>KY</td>\n",
       "      <td>Lawrence County</td>\n",
       "    </tr>\n",
       "    <tr>\n",
       "      <th>...</th>\n",
       "      <td>...</td>\n",
       "      <td>...</td>\n",
       "    </tr>\n",
       "    <tr>\n",
       "      <th>47027</th>\n",
       "      <td>TN</td>\n",
       "      <td>Clay County</td>\n",
       "    </tr>\n",
       "    <tr>\n",
       "      <th>47041</th>\n",
       "      <td>TN</td>\n",
       "      <td>DeKalb County</td>\n",
       "    </tr>\n",
       "    <tr>\n",
       "      <th>47067</th>\n",
       "      <td>TN</td>\n",
       "      <td>Hancock County</td>\n",
       "    </tr>\n",
       "    <tr>\n",
       "      <th>47087</th>\n",
       "      <td>TN</td>\n",
       "      <td>Jackson County</td>\n",
       "    </tr>\n",
       "    <tr>\n",
       "      <th>47137</th>\n",
       "      <td>TN</td>\n",
       "      <td>Pickett County</td>\n",
       "    </tr>\n",
       "    <tr>\n",
       "      <th>47145</th>\n",
       "      <td>TN</td>\n",
       "      <td>Roane County</td>\n",
       "    </tr>\n",
       "    <tr>\n",
       "      <th>47173</th>\n",
       "      <td>TN</td>\n",
       "      <td>Union County</td>\n",
       "    </tr>\n",
       "    <tr>\n",
       "      <th>48023</th>\n",
       "      <td>TX</td>\n",
       "      <td>Baylor County</td>\n",
       "    </tr>\n",
       "    <tr>\n",
       "      <th>49007</th>\n",
       "      <td>UT</td>\n",
       "      <td>Carbon County</td>\n",
       "    </tr>\n",
       "    <tr>\n",
       "      <th>49015</th>\n",
       "      <td>UT</td>\n",
       "      <td>Emery County</td>\n",
       "    </tr>\n",
       "    <tr>\n",
       "      <th>51027</th>\n",
       "      <td>VA</td>\n",
       "      <td>Buchanan County</td>\n",
       "    </tr>\n",
       "    <tr>\n",
       "      <th>51051</th>\n",
       "      <td>VA</td>\n",
       "      <td>Dickenson County</td>\n",
       "    </tr>\n",
       "    <tr>\n",
       "      <th>51155</th>\n",
       "      <td>VA</td>\n",
       "      <td>Pulaski County</td>\n",
       "    </tr>\n",
       "    <tr>\n",
       "      <th>51167</th>\n",
       "      <td>VA</td>\n",
       "      <td>Russell County</td>\n",
       "    </tr>\n",
       "    <tr>\n",
       "      <th>51185</th>\n",
       "      <td>VA</td>\n",
       "      <td>Tazewell County</td>\n",
       "    </tr>\n",
       "    <tr>\n",
       "      <th>51195</th>\n",
       "      <td>VA</td>\n",
       "      <td>Wise County</td>\n",
       "    </tr>\n",
       "    <tr>\n",
       "      <th>51720</th>\n",
       "      <td>VA</td>\n",
       "      <td>Norton city</td>\n",
       "    </tr>\n",
       "    <tr>\n",
       "      <th>54005</th>\n",
       "      <td>WV</td>\n",
       "      <td>Boone County</td>\n",
       "    </tr>\n",
       "    <tr>\n",
       "      <th>54011</th>\n",
       "      <td>WV</td>\n",
       "      <td>Cabell County</td>\n",
       "    </tr>\n",
       "    <tr>\n",
       "      <th>54043</th>\n",
       "      <td>WV</td>\n",
       "      <td>Lincoln County</td>\n",
       "    </tr>\n",
       "    <tr>\n",
       "      <th>54045</th>\n",
       "      <td>WV</td>\n",
       "      <td>Logan County</td>\n",
       "    </tr>\n",
       "    <tr>\n",
       "      <th>54047</th>\n",
       "      <td>WV</td>\n",
       "      <td>McDowell County</td>\n",
       "    </tr>\n",
       "    <tr>\n",
       "      <th>54055</th>\n",
       "      <td>WV</td>\n",
       "      <td>Mercer County</td>\n",
       "    </tr>\n",
       "    <tr>\n",
       "      <th>54059</th>\n",
       "      <td>WV</td>\n",
       "      <td>Mingo County</td>\n",
       "    </tr>\n",
       "    <tr>\n",
       "      <th>54063</th>\n",
       "      <td>WV</td>\n",
       "      <td>Monroe County</td>\n",
       "    </tr>\n",
       "    <tr>\n",
       "      <th>54075</th>\n",
       "      <td>WV</td>\n",
       "      <td>Pocahontas County</td>\n",
       "    </tr>\n",
       "    <tr>\n",
       "      <th>54081</th>\n",
       "      <td>WV</td>\n",
       "      <td>Raleigh County</td>\n",
       "    </tr>\n",
       "    <tr>\n",
       "      <th>54089</th>\n",
       "      <td>WV</td>\n",
       "      <td>Summers County</td>\n",
       "    </tr>\n",
       "    <tr>\n",
       "      <th>54101</th>\n",
       "      <td>WV</td>\n",
       "      <td>Webster County</td>\n",
       "    </tr>\n",
       "    <tr>\n",
       "      <th>54109</th>\n",
       "      <td>WV</td>\n",
       "      <td>Wyoming County</td>\n",
       "    </tr>\n",
       "  </tbody>\n",
       "</table>\n",
       "<p>102 rows × 2 columns</p>\n",
       "</div>"
      ],
      "text/plain": [
       "      state               name\n",
       "FIPS                          \n",
       "04012    AZ      La Paz County\n",
       "06023    CA    Humboldt County\n",
       "06033    CA        Lake County\n",
       "06089    CA      Shasta County\n",
       "08023    CO    Costilla County\n",
       "08055    CO    Huerfano County\n",
       "12017    FL      Citrus County\n",
       "12101    FL       Pasco County\n",
       "16007    ID   Bear Lake County\n",
       "18143    IN       Scott County\n",
       "18149    IN      Starke County\n",
       "20207    KS     Woodson County\n",
       "21011    KY        Bath County\n",
       "21013    KY        Bell County\n",
       "21019    KY        Boyd County\n",
       "21025    KY   Breathitt County\n",
       "21037    KY    Campbell County\n",
       "21049    KY       Clark County\n",
       "21051    KY        Clay County\n",
       "21053    KY     Clinton County\n",
       "21057    KY  Cumberland County\n",
       "21065    KY      Estill County\n",
       "21071    KY       Floyd County\n",
       "21077    KY    Gallatin County\n",
       "21095    KY      Harlan County\n",
       "21115    KY     Johnson County\n",
       "21117    KY      Kenton County\n",
       "21119    KY       Knott County\n",
       "21121    KY        Knox County\n",
       "21127    KY    Lawrence County\n",
       "...     ...                ...\n",
       "47027    TN        Clay County\n",
       "47041    TN      DeKalb County\n",
       "47067    TN     Hancock County\n",
       "47087    TN     Jackson County\n",
       "47137    TN     Pickett County\n",
       "47145    TN       Roane County\n",
       "47173    TN       Union County\n",
       "48023    TX      Baylor County\n",
       "49007    UT      Carbon County\n",
       "49015    UT       Emery County\n",
       "51027    VA    Buchanan County\n",
       "51051    VA   Dickenson County\n",
       "51155    VA     Pulaski County\n",
       "51167    VA     Russell County\n",
       "51185    VA    Tazewell County\n",
       "51195    VA        Wise County\n",
       "51720    VA        Norton city\n",
       "54005    WV       Boone County\n",
       "54011    WV      Cabell County\n",
       "54043    WV     Lincoln County\n",
       "54045    WV       Logan County\n",
       "54047    WV    McDowell County\n",
       "54055    WV      Mercer County\n",
       "54059    WV       Mingo County\n",
       "54063    WV      Monroe County\n",
       "54075    WV  Pocahontas County\n",
       "54081    WV     Raleigh County\n",
       "54089    WV     Summers County\n",
       "54101    WV     Webster County\n",
       "54109    WV     Wyoming County\n",
       "\n",
       "[102 rows x 2 columns]"
      ]
     },
     "execution_count": 1769,
     "metadata": {},
     "output_type": "execute_result"
    }
   ],
   "source": [
    "target_outliers = targets[targets['numeric'] == 31]['FIPS']\n",
    "target_outliers = data.loc[target_outliers, ['state', 'name']]\n",
    "print(len(target_outliers))\n",
    "target_outliers"
   ]
  },
  {
   "cell_type": "markdown",
   "metadata": {
    "deletable": true,
    "editable": true
   },
   "source": [
    "These outliers appear to be concentrated in some states."
   ]
  },
  {
   "cell_type": "code",
   "execution_count": 1770,
   "metadata": {
    "collapsed": false,
    "deletable": true,
    "editable": true
   },
   "outputs": [
    {
     "data": {
      "text/html": [
       "<div>\n",
       "<table border=\"1\" class=\"dataframe\">\n",
       "  <thead>\n",
       "    <tr style=\"text-align: right;\">\n",
       "      <th></th>\n",
       "      <th>outliers</th>\n",
       "      <th>total</th>\n",
       "      <th>percent</th>\n",
       "    </tr>\n",
       "    <tr>\n",
       "      <th>state</th>\n",
       "      <th></th>\n",
       "      <th></th>\n",
       "      <th></th>\n",
       "    </tr>\n",
       "  </thead>\n",
       "  <tbody>\n",
       "    <tr>\n",
       "      <th>AZ</th>\n",
       "      <td>1</td>\n",
       "      <td>15</td>\n",
       "      <td>6.666667</td>\n",
       "    </tr>\n",
       "    <tr>\n",
       "      <th>CA</th>\n",
       "      <td>3</td>\n",
       "      <td>58</td>\n",
       "      <td>5.172414</td>\n",
       "    </tr>\n",
       "    <tr>\n",
       "      <th>CO</th>\n",
       "      <td>2</td>\n",
       "      <td>60</td>\n",
       "      <td>3.333333</td>\n",
       "    </tr>\n",
       "    <tr>\n",
       "      <th>FL</th>\n",
       "      <td>2</td>\n",
       "      <td>67</td>\n",
       "      <td>2.985075</td>\n",
       "    </tr>\n",
       "    <tr>\n",
       "      <th>ID</th>\n",
       "      <td>1</td>\n",
       "      <td>44</td>\n",
       "      <td>2.272727</td>\n",
       "    </tr>\n",
       "    <tr>\n",
       "      <th>IN</th>\n",
       "      <td>2</td>\n",
       "      <td>92</td>\n",
       "      <td>2.173913</td>\n",
       "    </tr>\n",
       "    <tr>\n",
       "      <th>KS</th>\n",
       "      <td>1</td>\n",
       "      <td>105</td>\n",
       "      <td>0.952381</td>\n",
       "    </tr>\n",
       "    <tr>\n",
       "      <th>KY</th>\n",
       "      <td>29</td>\n",
       "      <td>120</td>\n",
       "      <td>24.166667</td>\n",
       "    </tr>\n",
       "    <tr>\n",
       "      <th>LA</th>\n",
       "      <td>1</td>\n",
       "      <td>64</td>\n",
       "      <td>1.562500</td>\n",
       "    </tr>\n",
       "    <tr>\n",
       "      <th>MD</th>\n",
       "      <td>1</td>\n",
       "      <td>24</td>\n",
       "      <td>4.166667</td>\n",
       "    </tr>\n",
       "    <tr>\n",
       "      <th>MS</th>\n",
       "      <td>1</td>\n",
       "      <td>81</td>\n",
       "      <td>1.234568</td>\n",
       "    </tr>\n",
       "    <tr>\n",
       "      <th>MT</th>\n",
       "      <td>2</td>\n",
       "      <td>55</td>\n",
       "      <td>3.636364</td>\n",
       "    </tr>\n",
       "    <tr>\n",
       "      <th>NC</th>\n",
       "      <td>1</td>\n",
       "      <td>100</td>\n",
       "      <td>1.000000</td>\n",
       "    </tr>\n",
       "    <tr>\n",
       "      <th>NM</th>\n",
       "      <td>13</td>\n",
       "      <td>33</td>\n",
       "      <td>39.393939</td>\n",
       "    </tr>\n",
       "    <tr>\n",
       "      <th>NV</th>\n",
       "      <td>4</td>\n",
       "      <td>17</td>\n",
       "      <td>23.529412</td>\n",
       "    </tr>\n",
       "    <tr>\n",
       "      <th>OH</th>\n",
       "      <td>1</td>\n",
       "      <td>88</td>\n",
       "      <td>1.136364</td>\n",
       "    </tr>\n",
       "    <tr>\n",
       "      <th>OK</th>\n",
       "      <td>4</td>\n",
       "      <td>77</td>\n",
       "      <td>5.194805</td>\n",
       "    </tr>\n",
       "    <tr>\n",
       "      <th>PA</th>\n",
       "      <td>1</td>\n",
       "      <td>67</td>\n",
       "      <td>1.492537</td>\n",
       "    </tr>\n",
       "    <tr>\n",
       "      <th>TN</th>\n",
       "      <td>9</td>\n",
       "      <td>95</td>\n",
       "      <td>9.473684</td>\n",
       "    </tr>\n",
       "    <tr>\n",
       "      <th>TX</th>\n",
       "      <td>1</td>\n",
       "      <td>254</td>\n",
       "      <td>0.393701</td>\n",
       "    </tr>\n",
       "    <tr>\n",
       "      <th>UT</th>\n",
       "      <td>2</td>\n",
       "      <td>29</td>\n",
       "      <td>6.896552</td>\n",
       "    </tr>\n",
       "    <tr>\n",
       "      <th>VA</th>\n",
       "      <td>7</td>\n",
       "      <td>133</td>\n",
       "      <td>5.263158</td>\n",
       "    </tr>\n",
       "    <tr>\n",
       "      <th>WV</th>\n",
       "      <td>13</td>\n",
       "      <td>55</td>\n",
       "      <td>23.636364</td>\n",
       "    </tr>\n",
       "  </tbody>\n",
       "</table>\n",
       "</div>"
      ],
      "text/plain": [
       "       outliers  total    percent\n",
       "state                            \n",
       "AZ            1     15   6.666667\n",
       "CA            3     58   5.172414\n",
       "CO            2     60   3.333333\n",
       "FL            2     67   2.985075\n",
       "ID            1     44   2.272727\n",
       "IN            2     92   2.173913\n",
       "KS            1    105   0.952381\n",
       "KY           29    120  24.166667\n",
       "LA            1     64   1.562500\n",
       "MD            1     24   4.166667\n",
       "MS            1     81   1.234568\n",
       "MT            2     55   3.636364\n",
       "NC            1    100   1.000000\n",
       "NM           13     33  39.393939\n",
       "NV            4     17  23.529412\n",
       "OH            1     88   1.136364\n",
       "OK            4     77   5.194805\n",
       "PA            1     67   1.492537\n",
       "TN            9     95   9.473684\n",
       "TX            1    254   0.393701\n",
       "UT            2     29   6.896552\n",
       "VA            7    133   5.263158\n",
       "WV           13     55  23.636364"
      ]
     },
     "execution_count": 1770,
     "metadata": {},
     "output_type": "execute_result"
    }
   ],
   "source": [
    "outliers_by_state = pd.DataFrame(target_outliers.groupby('state').size(), columns=['outliers'])\n",
    "counties_by_state = pd.DataFrame(data.groupby('state').size(), columns = ['total'])\n",
    "outliers_by_state['total'] = counties_by_state['total']\n",
    "outliers_by_state['percent'] = 100 * outliers_by_state['outliers']/outliers_by_state['total']\n",
    "outliers_by_state"
   ]
  },
  {
   "cell_type": "markdown",
   "metadata": {
    "deletable": true,
    "editable": true
   },
   "source": [
    "The distribution is highly uneven and potentially problematic. Remove but keep in a secondary dataset. Are the targets distributed unevenly among the states overall?"
   ]
  },
  {
   "cell_type": "code",
   "execution_count": 1814,
   "metadata": {
    "collapsed": false
   },
   "outputs": [
    {
     "data": {
      "text/html": [
       "<div>\n",
       "<table border=\"1\" class=\"dataframe\">\n",
       "  <thead>\n",
       "    <tr style=\"text-align: right;\">\n",
       "      <th></th>\n",
       "      <th></th>\n",
       "      <th>0</th>\n",
       "    </tr>\n",
       "    <tr>\n",
       "      <th>state</th>\n",
       "      <th>numeric</th>\n",
       "      <th></th>\n",
       "    </tr>\n",
       "  </thead>\n",
       "  <tbody>\n",
       "    <tr>\n",
       "      <th rowspan=\"5\" valign=\"top\">AK</th>\n",
       "      <th>1.0</th>\n",
       "      <td>1</td>\n",
       "    </tr>\n",
       "    <tr>\n",
       "      <th>5.0</th>\n",
       "      <td>1</td>\n",
       "    </tr>\n",
       "    <tr>\n",
       "      <th>7.0</th>\n",
       "      <td>2</td>\n",
       "    </tr>\n",
       "    <tr>\n",
       "      <th>11.0</th>\n",
       "      <td>2</td>\n",
       "    </tr>\n",
       "    <tr>\n",
       "      <th>13.0</th>\n",
       "      <td>2</td>\n",
       "    </tr>\n",
       "  </tbody>\n",
       "</table>\n",
       "</div>"
      ],
      "text/plain": [
       "               0\n",
       "state numeric   \n",
       "AK    1.0      1\n",
       "      5.0      1\n",
       "      7.0      2\n",
       "      11.0     2\n",
       "      13.0     2"
      ]
     },
     "execution_count": 1814,
     "metadata": {},
     "output_type": "execute_result"
    }
   ],
   "source": [
    "counts = pd.DataFrame(data.groupby(['state', 'numeric']).size())\n",
    "counts.head()"
   ]
  },
  {
   "cell_type": "code",
   "execution_count": 1815,
   "metadata": {
    "collapsed": true
   },
   "outputs": [],
   "source": [
    "counts = counts.reset_index()\n",
    "counts.columns = ['state', 'numeric', 'count']\n",
    "counts['total'] = maybe.apply(lambda row: counties_by_state.loc[row['state'], 'total'], axis=1)\n",
    "counts['percent'] = counts['count'] / counts['total']\n",
    "states = sorted(counts['state'].unique())"
   ]
  },
  {
   "cell_type": "code",
   "execution_count": 1816,
   "metadata": {
    "collapsed": false
   },
   "outputs": [
    {
     "data": {
      "text/plain": [
       "<matplotlib.text.Text at 0x15cebe1d0>"
      ]
     },
     "execution_count": 1816,
     "metadata": {},
     "output_type": "execute_result"
    },
    {
     "data": {
      "image/png": "[encoded data removed]",
      "text/plain": [
       "<matplotlib.figure.Figure at 0x15cfcc1d0>"
      ]
     },
     "metadata": {},
     "output_type": "display_data"
    }
   ],
   "source": [
    "plt.rcParams[\"figure.figsize\"] = [16.0, 8.0]\n",
    "ax = sns.stripplot(data=counts, x='state', y='numeric', hue='percent', palette='OrRd')\n",
    "ax.legend_.remove()\n",
    "ax.set_title('Clustering counties by death rate and state (darker = higher percentage)', size=18)\n",
    "ax.set_ylabel('death rate')"
   ]
  },
  {
   "cell_type": "markdown",
   "metadata": {},
   "source": [
    "While there are some states with outlying concentrations of counties with low or high death rates, the distribution is fairly even overall."
   ]
  },
  {
   "cell_type": "code",
   "execution_count": 1771,
   "metadata": {
    "collapsed": true,
    "deletable": true,
    "editable": true
   },
   "outputs": [],
   "source": [
    "data_31 = data.copy()\n",
    "data = data[data['death_rate'] != '30+']"
   ]
  },
  {
   "cell_type": "code",
   "execution_count": 1772,
   "metadata": {
    "collapsed": false,
    "deletable": true,
    "editable": true
   },
   "outputs": [
    {
     "data": {
      "text/plain": [
       "<matplotlib.axes._subplots.AxesSubplot at 0x15ef72748>"
      ]
     },
     "execution_count": 1772,
     "metadata": {},
     "output_type": "execute_result"
    },
    {
     "data": {
      "image/png": "[encoded data removed]",
      "text/plain": [
       "<matplotlib.figure.Figure at 0x15efbd3c8>"
      ]
     },
     "metadata": {},
     "output_type": "display_data"
    }
   ],
   "source": [
    "from scipy.stats import norm\n",
    "sns.distplot(targets['numeric'], bins=16, fit=norm, kde=False)\n",
    "#targets['numeric'].hist(bins=16)"
   ]
  },
  {
   "cell_type": "markdown",
   "metadata": {
    "deletable": true,
    "editable": true
   },
   "source": [
    "The target distribution is not normal, but it follows the general shape of a normal curve except for the high-end spike at death_rate = 31. The class imbalance will have to be dealt with. "
   ]
  },
  {
   "cell_type": "code",
   "execution_count": null,
   "metadata": {
    "collapsed": true
   },
   "outputs": [],
   "source": []
  },
  {
   "cell_type": "code",
   "execution_count": 1773,
   "metadata": {
    "collapsed": false,
    "deletable": true,
    "editable": true
   },
   "outputs": [
    {
     "name": "stdout",
     "output_type": "stream",
     "text": [
      "               < diploma   degree+   pop_inc  foreign_inc  unemployment  \\\n",
      "< diploma       1.000000  0.590198  0.173795     0.014397      0.420872   \n",
      "degree+         0.590198  1.000000  0.436721     0.037746      0.329834   \n",
      "pop_inc         0.173795  0.436721  1.000000     0.001243      0.253635   \n",
      "foreign_inc     0.014397  0.037746  0.001243     1.000000      0.003454   \n",
      "unemployment    0.420872  0.329834  0.253635     0.003454      1.000000   \n",
      "unemp_change    0.127994  0.117896  0.029990     0.003099      0.213587   \n",
      "poverty         0.663283  0.447611  0.267106     0.014567      0.600237   \n",
      "median_hh_inc   0.542180  0.680273  0.466601     0.018149      0.454140   \n",
      "pov_change      0.043761  0.031475  0.047822     0.001281      0.202458   \n",
      "median_age      0.221839  0.178017  0.364938     0.035829      0.061179   \n",
      "hh_afr_am       0.363750  0.091370  0.102100     0.003461      0.422107   \n",
      "hh_hisp         0.452917  0.020773  0.177056     0.001030      0.013150   \n",
      "hh_female       0.546617  0.243373  0.041391     0.005559      0.537112   \n",
      "hh_food_st      0.634201  0.511206  0.236201     0.011188      0.577440   \n",
      "foreign_07      0.235792  0.316969  0.303008     0.031527      0.022956   \n",
      "vets            0.366934  0.052429  0.103991     0.024266      0.047121   \n",
      "vets_male       0.048607  0.173827  0.198131     0.017874      0.065301   \n",
      "viol_crime      0.196516  0.011448  0.082169     0.011873      0.224957   \n",
      "prop_crime      0.116087  0.090511  0.167136     0.034661      0.178632   \n",
      "numeric         0.071415  0.095094  0.022837     0.002764      0.289674   \n",
      "\n",
      "               unemp_change   poverty  median_hh_inc  pov_change  median_age  \\\n",
      "< diploma          0.127994  0.663283       0.542180    0.043761    0.221839   \n",
      "degree+            0.117896  0.447611       0.680273    0.031475    0.178017   \n",
      "pop_inc            0.029990  0.267106       0.466601    0.047822    0.364938   \n",
      "foreign_inc        0.003099  0.014567       0.018149    0.001281    0.035829   \n",
      "unemployment       0.213587  0.600237       0.454140    0.202458    0.061179   \n",
      "unemp_change       1.000000  0.089752       0.110285    0.100650    0.035442   \n",
      "poverty            0.089752  1.000000       0.780392    0.188517    0.242381   \n",
      "median_hh_inc      0.110285  0.780392       1.000000    0.027268    0.089691   \n",
      "pov_change         0.100650  0.188517       0.027268    1.000000    0.110290   \n",
      "median_age         0.035442  0.242381       0.089691    0.110290    1.000000   \n",
      "hh_afr_am          0.063171  0.534256       0.280872    0.176999    0.222769   \n",
      "hh_hisp            0.016313  0.113815       0.019083    0.079735    0.303786   \n",
      "hh_female          0.118798  0.671545       0.379778    0.158056    0.402942   \n",
      "hh_food_st         0.085673  0.791808       0.660893    0.021017    0.179665   \n",
      "foreign_07         0.061624  0.044073       0.307574    0.072003    0.345260   \n",
      "vets               0.067544  0.245929       0.027939    0.026506    0.580435   \n",
      "vets_male          0.056606  0.021474       0.107916    0.071837    0.256012   \n",
      "viol_crime         0.097315  0.295030       0.139146    0.157963    0.258520   \n",
      "prop_crime         0.119079  0.234598       0.099971    0.190226    0.305941   \n",
      "numeric            0.235700  0.161194       0.180909    0.142860    0.056238   \n",
      "\n",
      "               hh_afr_am   hh_hisp  hh_female  hh_food_st  foreign_07  \\\n",
      "< diploma       0.363750  0.452917   0.546617    0.634201    0.235792   \n",
      "degree+         0.091370  0.020773   0.243373    0.511206    0.316969   \n",
      "pop_inc         0.102100  0.177056   0.041391    0.236201    0.303008   \n",
      "foreign_inc     0.003461  0.001030   0.005559    0.011188    0.031527   \n",
      "unemployment    0.422107  0.013150   0.537112    0.577440    0.022956   \n",
      "unemp_change    0.063171  0.016313   0.118798    0.085673    0.061624   \n",
      "poverty         0.534256  0.113815   0.671545    0.791808    0.044073   \n",
      "median_hh_inc   0.280872  0.019083   0.379778    0.660893    0.307574   \n",
      "pov_change      0.176999  0.079735   0.158056    0.021017    0.072003   \n",
      "median_age      0.222769  0.303786   0.402942    0.179665    0.345260   \n",
      "hh_afr_am       1.000000  0.091594   0.746161    0.435203    0.010620   \n",
      "hh_hisp         0.091594  1.000000   0.156721    0.112906    0.639763   \n",
      "hh_female       0.746161  0.156721   1.000000    0.666843    0.101816   \n",
      "hh_food_st      0.435203  0.112906   0.666843    1.000000    0.137798   \n",
      "foreign_07      0.010620  0.639763   0.101816    0.137798    1.000000   \n",
      "vets            0.262860  0.278163   0.349405    0.230026    0.313975   \n",
      "vets_male       0.225593  0.035081   0.216025    0.016055    0.077136   \n",
      "viol_crime      0.384678  0.136106   0.412381    0.240730    0.169616   \n",
      "prop_crime      0.317524  0.121239   0.363541    0.187599    0.155441   \n",
      "numeric         0.116110  0.067249   0.077653    0.194698    0.049836   \n",
      "\n",
      "                   vets  vets_male  viol_crime  prop_crime   numeric  \n",
      "< diploma      0.366934   0.048607    0.196516    0.116087  0.071415  \n",
      "degree+        0.052429   0.173827    0.011448    0.090511  0.095094  \n",
      "pop_inc        0.103991   0.198131    0.082169    0.167136  0.022837  \n",
      "foreign_inc    0.024266   0.017874    0.011873    0.034661  0.002764  \n",
      "unemployment   0.047121   0.065301    0.224957    0.178632  0.289674  \n",
      "unemp_change   0.067544   0.056606    0.097315    0.119079  0.235700  \n",
      "poverty        0.245929   0.021474    0.295030    0.234598  0.161194  \n",
      "median_hh_inc  0.027939   0.107916    0.139146    0.099971  0.180909  \n",
      "pov_change     0.026506   0.071837    0.157963    0.190226  0.142860  \n",
      "median_age     0.580435   0.256012    0.258520    0.305941  0.056238  \n",
      "hh_afr_am      0.262860   0.225593    0.384678    0.317524  0.116110  \n",
      "hh_hisp        0.278163   0.035081    0.136106    0.121239  0.067249  \n",
      "hh_female      0.349405   0.216025    0.412381    0.363541  0.077653  \n",
      "hh_food_st     0.230026   0.016055    0.240730    0.187599  0.194698  \n",
      "foreign_07     0.313975   0.077136    0.169616    0.155441  0.049836  \n",
      "vets           1.000000   0.128423    0.110546    0.072415  0.182828  \n",
      "vets_male      0.128423   1.000000    0.148775    0.194186  0.013722  \n",
      "viol_crime     0.110546   0.148775    1.000000    0.710070  0.154623  \n",
      "prop_crime     0.072415   0.194186    0.710070    1.000000  0.189981  \n",
      "numeric        0.182828   0.013722    0.154623    0.189981  1.000000  \n"
     ]
    }
   ],
   "source": [
    "bivariate = data.drop(['state', 'name', 'pop_2014', 'urban_influence'], axis=1).corr().abs()\n",
    "print(bivariate)"
   ]
  },
  {
   "cell_type": "markdown",
   "metadata": {
    "deletable": true,
    "editable": true
   },
   "source": [
    "**poverty** correlates strongly with a couple of other variables, so drop it. The two crime variables correlate strongly with each other, so combine them into one. "
   ]
  },
  {
   "cell_type": "code",
   "execution_count": 1774,
   "metadata": {
    "collapsed": false,
    "deletable": true,
    "editable": true
   },
   "outputs": [],
   "source": [
    "data['crime'] = (data['viol_crime'] + data['prop_crime'])\n",
    "data = data.drop(['viol_crime', 'prop_crime', 'poverty'], axis=1)"
   ]
  },
  {
   "cell_type": "code",
   "execution_count": 1775,
   "metadata": {
    "collapsed": false,
    "deletable": true,
    "editable": true
   },
   "outputs": [
    {
     "data": {
      "image/png": "[encoded data removed]",
      "text/plain": [
       "<matplotlib.figure.Figure at 0x1615b0908>"
      ]
     },
     "metadata": {},
     "output_type": "display_data"
    }
   ],
   "source": [
    "corrmat = data.drop(['state', 'name', 'urban_influence', 'pop_2014', 'death_rate'], axis=1).corr().abs()\n",
    "sns.heatmap(corrmat, vmax=.8, square=True)\n",
    "plt.show()"
   ]
  },
  {
   "cell_type": "markdown",
   "metadata": {
    "deletable": true,
    "editable": true
   },
   "source": [
    "There are still some strong correlations, but they are scattered. Use VIF analysis to programmatically eliminate the variables with the highest VIF scores until all scores are below 10, a conservative threshold."
   ]
  },
  {
   "cell_type": "code",
   "execution_count": 1776,
   "metadata": {
    "collapsed": false,
    "deletable": true,
    "editable": true
   },
   "outputs": [
    {
     "data": {
      "text/html": [
       "<div>\n",
       "<table border=\"1\" class=\"dataframe\">\n",
       "  <thead>\n",
       "    <tr style=\"text-align: right;\">\n",
       "      <th></th>\n",
       "      <th>VIF</th>\n",
       "      <th>features</th>\n",
       "    </tr>\n",
       "  </thead>\n",
       "  <tbody>\n",
       "    <tr>\n",
       "      <th>0</th>\n",
       "      <td>23.727191</td>\n",
       "      <td>&lt; diploma</td>\n",
       "    </tr>\n",
       "    <tr>\n",
       "      <th>1</th>\n",
       "      <td>19.038561</td>\n",
       "      <td>degree+</td>\n",
       "    </tr>\n",
       "    <tr>\n",
       "      <th>2</th>\n",
       "      <td>1.649532</td>\n",
       "      <td>pop_inc</td>\n",
       "    </tr>\n",
       "    <tr>\n",
       "      <th>3</th>\n",
       "      <td>1.022300</td>\n",
       "      <td>foreign_inc</td>\n",
       "    </tr>\n",
       "    <tr>\n",
       "      <th>4</th>\n",
       "      <td>16.496006</td>\n",
       "      <td>unemployment</td>\n",
       "    </tr>\n",
       "    <tr>\n",
       "      <th>5</th>\n",
       "      <td>4.113846</td>\n",
       "      <td>unemp_change</td>\n",
       "    </tr>\n",
       "    <tr>\n",
       "      <th>6</th>\n",
       "      <td>45.701203</td>\n",
       "      <td>median_hh_inc</td>\n",
       "    </tr>\n",
       "    <tr>\n",
       "      <th>7</th>\n",
       "      <td>1.217936</td>\n",
       "      <td>pov_change</td>\n",
       "    </tr>\n",
       "    <tr>\n",
       "      <th>8</th>\n",
       "      <td>151.793720</td>\n",
       "      <td>median_age</td>\n",
       "    </tr>\n",
       "    <tr>\n",
       "      <th>9</th>\n",
       "      <td>4.062589</td>\n",
       "      <td>hh_afr_am</td>\n",
       "    </tr>\n",
       "    <tr>\n",
       "      <th>10</th>\n",
       "      <td>3.149401</td>\n",
       "      <td>hh_hisp</td>\n",
       "    </tr>\n",
       "    <tr>\n",
       "      <th>11</th>\n",
       "      <td>30.704564</td>\n",
       "      <td>hh_female</td>\n",
       "    </tr>\n",
       "    <tr>\n",
       "      <th>12</th>\n",
       "      <td>14.844614</td>\n",
       "      <td>hh_food_st</td>\n",
       "    </tr>\n",
       "    <tr>\n",
       "      <th>13</th>\n",
       "      <td>4.267921</td>\n",
       "      <td>foreign_07</td>\n",
       "    </tr>\n",
       "    <tr>\n",
       "      <th>14</th>\n",
       "      <td>31.258425</td>\n",
       "      <td>vets</td>\n",
       "    </tr>\n",
       "    <tr>\n",
       "      <th>15</th>\n",
       "      <td>230.489986</td>\n",
       "      <td>vets_male</td>\n",
       "    </tr>\n",
       "    <tr>\n",
       "      <th>16</th>\n",
       "      <td>4.640893</td>\n",
       "      <td>crime</td>\n",
       "    </tr>\n",
       "  </tbody>\n",
       "</table>\n",
       "</div>"
      ],
      "text/plain": [
       "           VIF       features\n",
       "0    23.727191      < diploma\n",
       "1    19.038561        degree+\n",
       "2     1.649532        pop_inc\n",
       "3     1.022300    foreign_inc\n",
       "4    16.496006   unemployment\n",
       "5     4.113846   unemp_change\n",
       "6    45.701203  median_hh_inc\n",
       "7     1.217936     pov_change\n",
       "8   151.793720     median_age\n",
       "9     4.062589      hh_afr_am\n",
       "10    3.149401        hh_hisp\n",
       "11   30.704564      hh_female\n",
       "12   14.844614     hh_food_st\n",
       "13    4.267921     foreign_07\n",
       "14   31.258425           vets\n",
       "15  230.489986      vets_male\n",
       "16    4.640893          crime"
      ]
     },
     "execution_count": 1776,
     "metadata": {},
     "output_type": "execute_result"
    }
   ],
   "source": [
    "from statsmodels.stats.outliers_influence import variance_inflation_factor\n",
    "# For each column in features, calculate VIF and save in dataframe\n",
    "vif = pd.DataFrame()\n",
    "remove = ['state', 'name', 'urban_influence', 'pop_2014', 'death_rate', 'numeric']\n",
    "features = data.drop(remove, axis=1)\n",
    "vif[\"VIF\"] = [variance_inflation_factor(features.values, i) for i in range(features.shape[1])]\n",
    "vif[\"features\"] = features.columns\n",
    "vif"
   ]
  },
  {
   "cell_type": "code",
   "execution_count": 1777,
   "metadata": {
    "collapsed": false,
    "deletable": true,
    "editable": true
   },
   "outputs": [
    {
     "data": {
      "text/html": [
       "<div>\n",
       "<table border=\"1\" class=\"dataframe\">\n",
       "  <thead>\n",
       "    <tr style=\"text-align: right;\">\n",
       "      <th></th>\n",
       "      <th>VIF</th>\n",
       "      <th>features</th>\n",
       "    </tr>\n",
       "  </thead>\n",
       "  <tbody>\n",
       "    <tr>\n",
       "      <th>0</th>\n",
       "      <td>7.393791</td>\n",
       "      <td>degree+</td>\n",
       "    </tr>\n",
       "    <tr>\n",
       "      <th>1</th>\n",
       "      <td>1.338485</td>\n",
       "      <td>pop_inc</td>\n",
       "    </tr>\n",
       "    <tr>\n",
       "      <th>2</th>\n",
       "      <td>1.021619</td>\n",
       "      <td>foreign_inc</td>\n",
       "    </tr>\n",
       "    <tr>\n",
       "      <th>3</th>\n",
       "      <td>3.636447</td>\n",
       "      <td>unemp_change</td>\n",
       "    </tr>\n",
       "    <tr>\n",
       "      <th>4</th>\n",
       "      <td>1.172304</td>\n",
       "      <td>pov_change</td>\n",
       "    </tr>\n",
       "    <tr>\n",
       "      <th>5</th>\n",
       "      <td>2.085686</td>\n",
       "      <td>hh_afr_am</td>\n",
       "    </tr>\n",
       "    <tr>\n",
       "      <th>6</th>\n",
       "      <td>2.688671</td>\n",
       "      <td>hh_hisp</td>\n",
       "    </tr>\n",
       "    <tr>\n",
       "      <th>7</th>\n",
       "      <td>5.496295</td>\n",
       "      <td>hh_food_st</td>\n",
       "    </tr>\n",
       "    <tr>\n",
       "      <th>8</th>\n",
       "      <td>3.662824</td>\n",
       "      <td>foreign_07</td>\n",
       "    </tr>\n",
       "    <tr>\n",
       "      <th>9</th>\n",
       "      <td>9.296857</td>\n",
       "      <td>vets</td>\n",
       "    </tr>\n",
       "    <tr>\n",
       "      <th>10</th>\n",
       "      <td>4.334915</td>\n",
       "      <td>crime</td>\n",
       "    </tr>\n",
       "  </tbody>\n",
       "</table>\n",
       "</div>"
      ],
      "text/plain": [
       "         VIF      features\n",
       "0   7.393791       degree+\n",
       "1   1.338485       pop_inc\n",
       "2   1.021619   foreign_inc\n",
       "3   3.636447  unemp_change\n",
       "4   1.172304    pov_change\n",
       "5   2.085686     hh_afr_am\n",
       "6   2.688671       hh_hisp\n",
       "7   5.496295    hh_food_st\n",
       "8   3.662824    foreign_07\n",
       "9   9.296857          vets\n",
       "10  4.334915         crime"
      ]
     },
     "execution_count": 1777,
     "metadata": {},
     "output_type": "execute_result"
    }
   ],
   "source": [
    "max_VIF = max(vif['VIF'])\n",
    "while max_VIF > 10:\n",
    "    remove = remove + list(vif[vif['VIF'] == max_VIF]['features'])\n",
    "    features = data.drop(remove, axis=1)\n",
    "    vif = pd.DataFrame()\n",
    "    vif[\"VIF\"] = [variance_inflation_factor(features.values, i) for i in range(features.shape[1])]\n",
    "    vif[\"features\"] = features.columns\n",
    "    max_VIF = max(vif['VIF'])\n",
    "vif"
   ]
  },
  {
   "cell_type": "code",
   "execution_count": 1778,
   "metadata": {
    "collapsed": true,
    "deletable": true,
    "editable": true
   },
   "outputs": [],
   "source": [
    "features1 = list(vif['features']) + ['urban_influence', 'death_rate']"
   ]
  },
  {
   "cell_type": "code",
   "execution_count": 1779,
   "metadata": {
    "collapsed": true,
    "deletable": true,
    "editable": true
   },
   "outputs": [],
   "source": [
    "data1 = data.loc[:, features1]"
   ]
  },
  {
   "cell_type": "code",
   "execution_count": 1780,
   "metadata": {
    "collapsed": false,
    "deletable": true,
    "editable": true
   },
   "outputs": [
    {
     "data": {
      "text/html": [
       "<div>\n",
       "<table border=\"1\" class=\"dataframe\">\n",
       "  <thead>\n",
       "    <tr style=\"text-align: right;\">\n",
       "      <th></th>\n",
       "      <th>degree+</th>\n",
       "      <th>pop_inc</th>\n",
       "      <th>foreign_inc</th>\n",
       "      <th>unemp_change</th>\n",
       "      <th>pov_change</th>\n",
       "      <th>hh_afr_am</th>\n",
       "      <th>hh_hisp</th>\n",
       "      <th>hh_food_st</th>\n",
       "      <th>foreign_07</th>\n",
       "      <th>vets</th>\n",
       "      <th>crime</th>\n",
       "      <th>urban_influence</th>\n",
       "    </tr>\n",
       "  </thead>\n",
       "  <tbody>\n",
       "    <tr>\n",
       "      <th>count</th>\n",
       "      <td>3024.000000</td>\n",
       "      <td>3024.000000</td>\n",
       "      <td>3024.000000</td>\n",
       "      <td>3024.000000</td>\n",
       "      <td>3024.000000</td>\n",
       "      <td>3024.000000</td>\n",
       "      <td>3024.000000</td>\n",
       "      <td>3024.000000</td>\n",
       "      <td>3024.000000</td>\n",
       "      <td>3024.000000</td>\n",
       "      <td>3024.000000</td>\n",
       "      <td>3024.000000</td>\n",
       "    </tr>\n",
       "    <tr>\n",
       "      <th>mean</th>\n",
       "      <td>20.936456</td>\n",
       "      <td>0.003378</td>\n",
       "      <td>0.404249</td>\n",
       "      <td>2.961078</td>\n",
       "      <td>-0.553704</td>\n",
       "      <td>0.082971</td>\n",
       "      <td>0.059307</td>\n",
       "      <td>0.102264</td>\n",
       "      <td>4.292097</td>\n",
       "      <td>0.088620</td>\n",
       "      <td>0.020376</td>\n",
       "      <td>5.205688</td>\n",
       "    </tr>\n",
       "    <tr>\n",
       "      <th>std</th>\n",
       "      <td>9.154237</td>\n",
       "      <td>0.041861</td>\n",
       "      <td>3.094303</td>\n",
       "      <td>1.783505</td>\n",
       "      <td>2.141838</td>\n",
       "      <td>0.139566</td>\n",
       "      <td>0.111013</td>\n",
       "      <td>0.056556</td>\n",
       "      <td>5.528622</td>\n",
       "      <td>0.022547</td>\n",
       "      <td>0.013327</td>\n",
       "      <td>3.469448</td>\n",
       "    </tr>\n",
       "    <tr>\n",
       "      <th>min</th>\n",
       "      <td>2.985000</td>\n",
       "      <td>-0.177510</td>\n",
       "      <td>-6.333333</td>\n",
       "      <td>-8.200000</td>\n",
       "      <td>-15.900000</td>\n",
       "      <td>0.000000</td>\n",
       "      <td>0.000000</td>\n",
       "      <td>0.000000</td>\n",
       "      <td>0.000000</td>\n",
       "      <td>0.019065</td>\n",
       "      <td>0.000000</td>\n",
       "      <td>1.000000</td>\n",
       "    </tr>\n",
       "    <tr>\n",
       "      <th>25%</th>\n",
       "      <td>14.571000</td>\n",
       "      <td>-0.021187</td>\n",
       "      <td>0.008944</td>\n",
       "      <td>1.800000</td>\n",
       "      <td>-1.700000</td>\n",
       "      <td>0.002650</td>\n",
       "      <td>0.009731</td>\n",
       "      <td>0.061792</td>\n",
       "      <td>1.200000</td>\n",
       "      <td>0.074239</td>\n",
       "      <td>0.011210</td>\n",
       "      <td>2.000000</td>\n",
       "    </tr>\n",
       "    <tr>\n",
       "      <th>50%</th>\n",
       "      <td>18.640500</td>\n",
       "      <td>-0.003907</td>\n",
       "      <td>0.059489</td>\n",
       "      <td>2.800000</td>\n",
       "      <td>-0.500000</td>\n",
       "      <td>0.013880</td>\n",
       "      <td>0.020117</td>\n",
       "      <td>0.092311</td>\n",
       "      <td>2.300000</td>\n",
       "      <td>0.087297</td>\n",
       "      <td>0.018461</td>\n",
       "      <td>5.000000</td>\n",
       "    </tr>\n",
       "    <tr>\n",
       "      <th>75%</th>\n",
       "      <td>24.783250</td>\n",
       "      <td>0.020743</td>\n",
       "      <td>0.204738</td>\n",
       "      <td>4.000000</td>\n",
       "      <td>0.600000</td>\n",
       "      <td>0.098243</td>\n",
       "      <td>0.052727</td>\n",
       "      <td>0.132885</td>\n",
       "      <td>5.100000</td>\n",
       "      <td>0.100467</td>\n",
       "      <td>0.027261</td>\n",
       "      <td>8.000000</td>\n",
       "    </tr>\n",
       "    <tr>\n",
       "      <th>max</th>\n",
       "      <td>80.210000</td>\n",
       "      <td>0.727044</td>\n",
       "      <td>119.000000</td>\n",
       "      <td>13.600000</td>\n",
       "      <td>17.400000</td>\n",
       "      <td>0.832707</td>\n",
       "      <td>0.955767</td>\n",
       "      <td>0.399738</td>\n",
       "      <td>63.100000</td>\n",
       "      <td>0.297533</td>\n",
       "      <td>0.157014</td>\n",
       "      <td>12.000000</td>\n",
       "    </tr>\n",
       "  </tbody>\n",
       "</table>\n",
       "</div>"
      ],
      "text/plain": [
       "           degree+      pop_inc  foreign_inc  unemp_change   pov_change  \\\n",
       "count  3024.000000  3024.000000  3024.000000   3024.000000  3024.000000   \n",
       "mean     20.936456     0.003378     0.404249      2.961078    -0.553704   \n",
       "std       9.154237     0.041861     3.094303      1.783505     2.141838   \n",
       "min       2.985000    -0.177510    -6.333333     -8.200000   -15.900000   \n",
       "25%      14.571000    -0.021187     0.008944      1.800000    -1.700000   \n",
       "50%      18.640500    -0.003907     0.059489      2.800000    -0.500000   \n",
       "75%      24.783250     0.020743     0.204738      4.000000     0.600000   \n",
       "max      80.210000     0.727044   119.000000     13.600000    17.400000   \n",
       "\n",
       "         hh_afr_am      hh_hisp   hh_food_st   foreign_07         vets  \\\n",
       "count  3024.000000  3024.000000  3024.000000  3024.000000  3024.000000   \n",
       "mean      0.082971     0.059307     0.102264     4.292097     0.088620   \n",
       "std       0.139566     0.111013     0.056556     5.528622     0.022547   \n",
       "min       0.000000     0.000000     0.000000     0.000000     0.019065   \n",
       "25%       0.002650     0.009731     0.061792     1.200000     0.074239   \n",
       "50%       0.013880     0.020117     0.092311     2.300000     0.087297   \n",
       "75%       0.098243     0.052727     0.132885     5.100000     0.100467   \n",
       "max       0.832707     0.955767     0.399738    63.100000     0.297533   \n",
       "\n",
       "             crime  urban_influence  \n",
       "count  3024.000000      3024.000000  \n",
       "mean      0.020376         5.205688  \n",
       "std       0.013327         3.469448  \n",
       "min       0.000000         1.000000  \n",
       "25%       0.011210         2.000000  \n",
       "50%       0.018461         5.000000  \n",
       "75%       0.027261         8.000000  \n",
       "max       0.157014        12.000000  "
      ]
     },
     "execution_count": 1780,
     "metadata": {},
     "output_type": "execute_result"
    }
   ],
   "source": [
    "data1.describe()"
   ]
  },
  {
   "cell_type": "markdown",
   "metadata": {
    "deletable": true,
    "editable": true
   },
   "source": [
    "All of the features besides the categorical **urban_influence** have strong outliers, as can be seen from the min and max values compared to the IQR."
   ]
  },
  {
   "cell_type": "code",
   "execution_count": 1781,
   "metadata": {
    "collapsed": true,
    "deletable": true,
    "editable": true
   },
   "outputs": [],
   "source": [
    "def get_outliers(df, multiplier=1.5):\n",
    "    stats = df.describe()\n",
    "    iqr = stats.loc['75%'] - stats.loc['25%']\n",
    "    lower = stats.loc['25%'] - multiplier * iqr\n",
    "    upper = stats.loc['75%'] + multiplier * iqr\n",
    "    return ((df < lower) | (df > upper))"
   ]
  },
  {
   "cell_type": "code",
   "execution_count": 1782,
   "metadata": {
    "collapsed": false,
    "deletable": true,
    "editable": true
   },
   "outputs": [
    {
     "data": {
      "text/plain": [
       "1349"
      ]
     },
     "execution_count": 1782,
     "metadata": {},
     "output_type": "execute_result"
    }
   ],
   "source": [
    "predictors = data1.drop('death_rate', axis=1)\n",
    "\n",
    "outliers = get_outliers(predictors)\n",
    "len(data1[outliers.any(axis=1)])"
   ]
  },
  {
   "cell_type": "markdown",
   "metadata": {
    "deletable": true,
    "editable": true
   },
   "source": [
    "More than 1/3 of the records contain outliers, using the standard definition."
   ]
  },
  {
   "cell_type": "code",
   "execution_count": 1783,
   "metadata": {
    "collapsed": false,
    "deletable": true,
    "editable": true
   },
   "outputs": [
    {
     "data": {
      "text/plain": [
       "1052"
      ]
     },
     "execution_count": 1783,
     "metadata": {},
     "output_type": "execute_result"
    }
   ],
   "source": [
    "strong_outliers = get_outliers(predictors, 2.0)\n",
    "len(data1[strong_outliers.any(axis=1)])"
   ]
  },
  {
   "cell_type": "code",
   "execution_count": 1784,
   "metadata": {
    "collapsed": false,
    "deletable": true,
    "editable": true
   },
   "outputs": [
    {
     "data": {
      "text/plain": [
       "845"
      ]
     },
     "execution_count": 1784,
     "metadata": {},
     "output_type": "execute_result"
    }
   ],
   "source": [
    "extreme_outliers = get_outliers(predictors, 2.5)\n",
    "len(data1[extreme_outliers.any(axis=1)])"
   ]
  },
  {
   "cell_type": "code",
   "execution_count": 1785,
   "metadata": {
    "collapsed": false,
    "deletable": true,
    "editable": true
   },
   "outputs": [
    {
     "data": {
      "text/plain": [
       "217"
      ]
     },
     "execution_count": 1785,
     "metadata": {},
     "output_type": "execute_result"
    }
   ],
   "source": [
    "len(data1[extreme_outliers.sum(axis=1) > 1])"
   ]
  },
  {
   "cell_type": "markdown",
   "metadata": {
    "deletable": true,
    "editable": true
   },
   "source": [
    "Removing even just the extreme outliers would take away almost 1/3 of the data, but removing records with 2 or more extreme outliers will reduce the dataset by only 7.5%. Try this first"
   ]
  },
  {
   "cell_type": "code",
   "execution_count": 1786,
   "metadata": {
    "collapsed": true,
    "deletable": true,
    "editable": true
   },
   "outputs": [],
   "source": [
    "data1 = data1.drop(data1[extreme_outliers.sum(axis=1) > 1].index)"
   ]
  },
  {
   "cell_type": "code",
   "execution_count": 1787,
   "metadata": {
    "collapsed": false,
    "deletable": true,
    "editable": true
   },
   "outputs": [
    {
     "data": {
      "text/plain": [
       "2807"
      ]
     },
     "execution_count": 1787,
     "metadata": {},
     "output_type": "execute_result"
    }
   ],
   "source": [
    "len(data1)"
   ]
  },
  {
   "cell_type": "markdown",
   "metadata": {
    "deletable": true,
    "editable": true
   },
   "source": [
    "Try a range of classifiers. "
   ]
  },
  {
   "cell_type": "code",
   "execution_count": 1788,
   "metadata": {
    "collapsed": true,
    "deletable": true,
    "editable": true
   },
   "outputs": [],
   "source": [
    "X1 = data1.drop('death_rate', axis=1)\n",
    "X1 = pd.get_dummies(X1, prefix='urb_inf_', columns=['urban_influence'])\n",
    "Y1 = data1.loc[:, 'death_rate']"
   ]
  },
  {
   "cell_type": "code",
   "execution_count": 1789,
   "metadata": {
    "collapsed": true,
    "deletable": true,
    "editable": true
   },
   "outputs": [],
   "source": [
    "from sklearn.preprocessing import RobustScaler\n",
    "robust = RobustScaler()\n",
    "\n",
    "from sklearn.metrics import matthews_corrcoef, make_scorer\n",
    "matthews = make_scorer(matthews_corrcoef)\n",
    "\n",
    "from sklearn.model_selection import cross_val_score"
   ]
  },
  {
   "cell_type": "code",
   "execution_count": 1790,
   "metadata": {
    "collapsed": true,
    "deletable": true,
    "editable": true
   },
   "outputs": [],
   "source": [
    "from sklearn.model_selection import cross_val_score\n",
    "\n",
    "from sklearn.neighbors import KNeighborsClassifier\n",
    "from sklearn.linear_model import LogisticRegression\n",
    "from sklearn.ensemble import GradientBoostingClassifier\n",
    "from sklearn.linear_model import SGDClassifier\n",
    "from sklearn.ensemble import RandomForestClassifier\n",
    "from sklearn.svm import SVC"
   ]
  },
  {
   "cell_type": "code",
   "execution_count": 1791,
   "metadata": {
    "collapsed": false,
    "deletable": true,
    "editable": true
   },
   "outputs": [],
   "source": [
    "X1_train, X1_test, Y1_train, Y1_test = train_test_split(X1, Y1, test_size=.35, random_state=57)"
   ]
  },
  {
   "cell_type": "code",
   "execution_count": 1792,
   "metadata": {
    "collapsed": false,
    "deletable": true,
    "editable": true
   },
   "outputs": [],
   "source": [
    "knn = KNeighborsClassifier()\n",
    "lrc = LogisticRegression(class_weight='balanced')\n",
    "gbc = GradientBoostingClassifier()\n",
    "sgd = SGDClassifier(class_weight='balanced', tol=1e-3)\n",
    "rfc = RandomForestClassifier(class_weight='balanced')\n",
    "svc = SVC(class_weight='balanced')"
   ]
  },
  {
   "cell_type": "code",
   "execution_count": 1793,
   "metadata": {
    "collapsed": false,
    "deletable": true,
    "editable": true
   },
   "outputs": [],
   "source": [
    "classifiers = [lrc, gbc, sgd, rfc, svc, knn]\n",
    "names = ['Logistic regression', 'Gradient boosting', 'SGD', 'Random forest', 'Support vector', 'K-Nearest neighbors']\n",
    "\n",
    "def run_trials(X, Y):\n",
    "    for name, clf in zip(names, classifiers):\n",
    "        %time print('{} scores: {}'.format(name, cross_val_score(clf, robust.fit_transform(X), Y, scoring=matthews)))"
   ]
  },
  {
   "cell_type": "code",
   "execution_count": 1794,
   "metadata": {
    "collapsed": false,
    "deletable": true,
    "editable": true
   },
   "outputs": [
    {
     "name": "stdout",
     "output_type": "stream",
     "text": [
      "Logistic regression scores: [ 0.05551982  0.05286564  0.06112674]\n",
      "CPU times: user 564 ms, sys: 15 ms, total: 579 ms\n",
      "Wall time: 203 ms\n",
      "Gradient boosting scores: [ 0.05625534  0.05171995  0.06512024]\n",
      "CPU times: user 8.96 s, sys: 38.8 ms, total: 9 s\n",
      "Wall time: 8.58 s\n",
      "SGD scores: [ 0.03277218  0.05946377  0.04898771]\n",
      "CPU times: user 130 ms, sys: 3.61 ms, total: 133 ms\n",
      "Wall time: 53.4 ms\n",
      "Random forest scores: [ 0.0299395   0.04452084  0.05452344]\n",
      "CPU times: user 569 ms, sys: 15.6 ms, total: 584 ms\n",
      "Wall time: 151 ms\n",
      "Support vector scores: [ 0.06175098  0.06106121  0.09220234]\n",
      "CPU times: user 533 ms, sys: 5.9 ms, total: 539 ms\n",
      "Wall time: 548 ms\n",
      "K-Nearest neighbors scores: [ 0.04608472  0.03995855  0.04369539]\n",
      "CPU times: user 90.4 ms, sys: 1.34 ms, total: 91.8 ms\n",
      "Wall time: 96.2 ms\n"
     ]
    }
   ],
   "source": [
    "run_trials(X1_train, Y1_train)"
   ]
  },
  {
   "cell_type": "markdown",
   "metadata": {
    "deletable": true,
    "editable": true
   },
   "source": [
    "All of the stock classifiers performed poorly, with support vector doing the best, and gradient boosting and logistic regression almost tied for second place."
   ]
  },
  {
   "cell_type": "markdown",
   "metadata": {
    "deletable": true,
    "editable": true
   },
   "source": [
    "Try an alternative selection process starting with correlations with the target variable."
   ]
  },
  {
   "cell_type": "code",
   "execution_count": 1795,
   "metadata": {
    "collapsed": false,
    "deletable": true,
    "editable": true
   },
   "outputs": [
    {
     "data": {
      "text/plain": [
       "< diploma        0.071415\n",
       "degree+          0.095094\n",
       "pop_inc          0.022837\n",
       "foreign_inc      0.002764\n",
       "unemployment     0.289674\n",
       "unemp_change     0.235700\n",
       "median_hh_inc    0.180909\n",
       "pov_change       0.142860\n",
       "median_age       0.056238\n",
       "hh_afr_am        0.116110\n",
       "hh_hisp          0.067249\n",
       "hh_female        0.077653\n",
       "hh_food_st       0.194698\n",
       "foreign_07       0.049836\n",
       "vets             0.182828\n",
       "vets_male        0.013722\n",
       "numeric          1.000000\n",
       "crime            0.191859\n",
       "Name: numeric, dtype: float64"
      ]
     },
     "execution_count": 1795,
     "metadata": {},
     "output_type": "execute_result"
    }
   ],
   "source": [
    "bivariate = data.drop(['state', 'name', 'pop_2014', 'urban_influence'], axis=1).corr().abs()\n",
    "bivariate.loc['numeric']"
   ]
  },
  {
   "cell_type": "code",
   "execution_count": 1796,
   "metadata": {
    "collapsed": false,
    "deletable": true,
    "editable": true
   },
   "outputs": [],
   "source": [
    "features2 = list(bivariate[bivariate.loc['numeric'] > .05].index)\n",
    "features2.remove('numeric')"
   ]
  },
  {
   "cell_type": "code",
   "execution_count": 1797,
   "metadata": {
    "collapsed": false,
    "deletable": true,
    "editable": true
   },
   "outputs": [
    {
     "data": {
      "text/html": [
       "<div>\n",
       "<table border=\"1\" class=\"dataframe\">\n",
       "  <thead>\n",
       "    <tr style=\"text-align: right;\">\n",
       "      <th></th>\n",
       "      <th>VIF</th>\n",
       "      <th>features</th>\n",
       "    </tr>\n",
       "  </thead>\n",
       "  <tbody>\n",
       "    <tr>\n",
       "      <th>0</th>\n",
       "      <td>18.400137</td>\n",
       "      <td>&lt; diploma</td>\n",
       "    </tr>\n",
       "    <tr>\n",
       "      <th>1</th>\n",
       "      <td>15.395662</td>\n",
       "      <td>degree+</td>\n",
       "    </tr>\n",
       "    <tr>\n",
       "      <th>2</th>\n",
       "      <td>15.916503</td>\n",
       "      <td>unemployment</td>\n",
       "    </tr>\n",
       "    <tr>\n",
       "      <th>3</th>\n",
       "      <td>4.046981</td>\n",
       "      <td>unemp_change</td>\n",
       "    </tr>\n",
       "    <tr>\n",
       "      <th>4</th>\n",
       "      <td>34.719466</td>\n",
       "      <td>median_hh_inc</td>\n",
       "    </tr>\n",
       "    <tr>\n",
       "      <th>5</th>\n",
       "      <td>1.200618</td>\n",
       "      <td>pov_change</td>\n",
       "    </tr>\n",
       "    <tr>\n",
       "      <th>6</th>\n",
       "      <td>71.139734</td>\n",
       "      <td>median_age</td>\n",
       "    </tr>\n",
       "    <tr>\n",
       "      <th>7</th>\n",
       "      <td>3.671207</td>\n",
       "      <td>hh_afr_am</td>\n",
       "    </tr>\n",
       "    <tr>\n",
       "      <th>8</th>\n",
       "      <td>2.370453</td>\n",
       "      <td>hh_hisp</td>\n",
       "    </tr>\n",
       "    <tr>\n",
       "      <th>9</th>\n",
       "      <td>28.840613</td>\n",
       "      <td>hh_female</td>\n",
       "    </tr>\n",
       "    <tr>\n",
       "      <th>10</th>\n",
       "      <td>13.572322</td>\n",
       "      <td>hh_food_st</td>\n",
       "    </tr>\n",
       "    <tr>\n",
       "      <th>11</th>\n",
       "      <td>30.184919</td>\n",
       "      <td>vets</td>\n",
       "    </tr>\n",
       "    <tr>\n",
       "      <th>12</th>\n",
       "      <td>4.466782</td>\n",
       "      <td>crime</td>\n",
       "    </tr>\n",
       "  </tbody>\n",
       "</table>\n",
       "</div>"
      ],
      "text/plain": [
       "          VIF       features\n",
       "0   18.400137      < diploma\n",
       "1   15.395662        degree+\n",
       "2   15.916503   unemployment\n",
       "3    4.046981   unemp_change\n",
       "4   34.719466  median_hh_inc\n",
       "5    1.200618     pov_change\n",
       "6   71.139734     median_age\n",
       "7    3.671207      hh_afr_am\n",
       "8    2.370453        hh_hisp\n",
       "9   28.840613      hh_female\n",
       "10  13.572322     hh_food_st\n",
       "11  30.184919           vets\n",
       "12   4.466782          crime"
      ]
     },
     "execution_count": 1797,
     "metadata": {},
     "output_type": "execute_result"
    }
   ],
   "source": [
    "vif = pd.DataFrame()\n",
    "features = data.loc[:, features2]\n",
    "vif[\"VIF\"] = [variance_inflation_factor(features.values, i) for i in range(features.shape[1])]\n",
    "vif[\"features\"] = features.columns\n",
    "vif"
   ]
  },
  {
   "cell_type": "code",
   "execution_count": 1798,
   "metadata": {
    "collapsed": false,
    "deletable": true,
    "editable": true
   },
   "outputs": [
    {
     "data": {
      "text/html": [
       "<div>\n",
       "<table border=\"1\" class=\"dataframe\">\n",
       "  <thead>\n",
       "    <tr style=\"text-align: right;\">\n",
       "      <th></th>\n",
       "      <th>VIF</th>\n",
       "      <th>features</th>\n",
       "    </tr>\n",
       "  </thead>\n",
       "  <tbody>\n",
       "    <tr>\n",
       "      <th>0</th>\n",
       "      <td>5.415383</td>\n",
       "      <td>degree+</td>\n",
       "    </tr>\n",
       "    <tr>\n",
       "      <th>1</th>\n",
       "      <td>3.569257</td>\n",
       "      <td>unemp_change</td>\n",
       "    </tr>\n",
       "    <tr>\n",
       "      <th>2</th>\n",
       "      <td>1.145696</td>\n",
       "      <td>pov_change</td>\n",
       "    </tr>\n",
       "    <tr>\n",
       "      <th>3</th>\n",
       "      <td>2.049218</td>\n",
       "      <td>hh_afr_am</td>\n",
       "    </tr>\n",
       "    <tr>\n",
       "      <th>4</th>\n",
       "      <td>1.447379</td>\n",
       "      <td>hh_hisp</td>\n",
       "    </tr>\n",
       "    <tr>\n",
       "      <th>5</th>\n",
       "      <td>5.283501</td>\n",
       "      <td>hh_food_st</td>\n",
       "    </tr>\n",
       "    <tr>\n",
       "      <th>6</th>\n",
       "      <td>8.603989</td>\n",
       "      <td>vets</td>\n",
       "    </tr>\n",
       "    <tr>\n",
       "      <th>7</th>\n",
       "      <td>4.206281</td>\n",
       "      <td>crime</td>\n",
       "    </tr>\n",
       "  </tbody>\n",
       "</table>\n",
       "</div>"
      ],
      "text/plain": [
       "        VIF      features\n",
       "0  5.415383       degree+\n",
       "1  3.569257  unemp_change\n",
       "2  1.145696    pov_change\n",
       "3  2.049218     hh_afr_am\n",
       "4  1.447379       hh_hisp\n",
       "5  5.283501    hh_food_st\n",
       "6  8.603989          vets\n",
       "7  4.206281         crime"
      ]
     },
     "execution_count": 1798,
     "metadata": {},
     "output_type": "execute_result"
    }
   ],
   "source": [
    "max_VIF = max(vif['VIF'])\n",
    "while max_VIF > 10:\n",
    "    remove = list(vif[vif['VIF'] == max_VIF]['features'])\n",
    "    reduced = [feature for feature in features if feature not in remove]\n",
    "    features = data.loc[:, reduced]\n",
    "    vif = pd.DataFrame()\n",
    "    vif[\"VIF\"] = [variance_inflation_factor(features.values, i) for i in range(features.shape[1])]\n",
    "    vif[\"features\"] = features.columns\n",
    "    max_VIF = max(vif['VIF'])\n",
    "vif"
   ]
  },
  {
   "cell_type": "code",
   "execution_count": 1799,
   "metadata": {
    "collapsed": false,
    "deletable": true,
    "editable": true
   },
   "outputs": [
    {
     "data": {
      "text/plain": [
       "(0, 0.2)"
      ]
     },
     "execution_count": 1799,
     "metadata": {},
     "output_type": "execute_result"
    },
    {
     "data": {
      "image/png": "[encoded data removed]",
      "text/plain": [
       "<matplotlib.figure.Figure at 0x161089e48>"
      ]
     },
     "metadata": {},
     "output_type": "display_data"
    }
   ],
   "source": [
    "sns.swarmplot(y=data['hh_afr_am'], x=data['urban_influence'])\n",
    "plt.ylim(0, .2)"
   ]
  },
  {
   "cell_type": "code",
   "execution_count": 1800,
   "metadata": {
    "collapsed": false,
    "deletable": true,
    "editable": true
   },
   "outputs": [
    {
     "data": {
      "text/plain": [
       "(0, 0.2)"
      ]
     },
     "execution_count": 1800,
     "metadata": {},
     "output_type": "execute_result"
    },
    {
     "data": {
      "image/png": "[encoded data removed]",
      "text/plain": [
       "<matplotlib.figure.Figure at 0x14d09e240>"
      ]
     },
     "metadata": {},
     "output_type": "display_data"
    }
   ],
   "source": [
    "sns.swarmplot(y=data['hh_food_st'], x=data['urban_influence'])\n",
    "plt.ylim(0,.2)"
   ]
  },
  {
   "cell_type": "markdown",
   "metadata": {
    "deletable": true,
    "editable": true
   },
   "source": [
    "Checking for relationships between **urban_influence** and **hh_afr_am** or **hh_food_st**, there does not appear to be any strong dependency trend in either."
   ]
  },
  {
   "cell_type": "code",
   "execution_count": 1801,
   "metadata": {
    "collapsed": true,
    "deletable": true,
    "editable": true
   },
   "outputs": [],
   "source": [
    "features2 = list(vif['features'])\n",
    "data2 = data.loc[:, features2]"
   ]
  },
  {
   "cell_type": "code",
   "execution_count": 1802,
   "metadata": {
    "collapsed": false,
    "deletable": true,
    "editable": true
   },
   "outputs": [
    {
     "data": {
      "text/plain": [
       "1074"
      ]
     },
     "execution_count": 1802,
     "metadata": {},
     "output_type": "execute_result"
    }
   ],
   "source": [
    "outliers2 = get_outliers(data2)\n",
    "len(data2[outliers2.any(axis=1)])"
   ]
  },
  {
   "cell_type": "code",
   "execution_count": 1803,
   "metadata": {
    "collapsed": false,
    "deletable": true,
    "editable": true
   },
   "outputs": [
    {
     "data": {
      "text/plain": [
       "767"
      ]
     },
     "execution_count": 1803,
     "metadata": {},
     "output_type": "execute_result"
    }
   ],
   "source": [
    "strong_outliers2 = get_outliers(data2, 2.0)\n",
    "len(data2[strong_outliers2.any(axis=1)])"
   ]
  },
  {
   "cell_type": "code",
   "execution_count": 1804,
   "metadata": {
    "collapsed": false,
    "deletable": true,
    "editable": true
   },
   "outputs": [
    {
     "data": {
      "text/plain": [
       "579"
      ]
     },
     "execution_count": 1804,
     "metadata": {},
     "output_type": "execute_result"
    }
   ],
   "source": [
    "extreme_outliers2 = get_outliers(data2, 2.5)\n",
    "len(data2[extreme_outliers2.any(axis=1)])"
   ]
  },
  {
   "cell_type": "code",
   "execution_count": 1805,
   "metadata": {
    "collapsed": false,
    "deletable": true,
    "editable": true
   },
   "outputs": [
    {
     "data": {
      "text/plain": [
       "37"
      ]
     },
     "execution_count": 1805,
     "metadata": {},
     "output_type": "execute_result"
    }
   ],
   "source": [
    "len(data2[extreme_outliers2.sum(axis=1) > 1])"
   ]
  },
  {
   "cell_type": "code",
   "execution_count": 1806,
   "metadata": {
    "collapsed": false,
    "deletable": true,
    "editable": true
   },
   "outputs": [],
   "source": [
    "features2 = features2 + ['urban_influence', 'death_rate']\n",
    "data2 = data.loc[:, features2]\n",
    "data2 = data2.drop(list(extreme_outliers2[extreme_outliers2.sum(axis=1) > 1].index))"
   ]
  },
  {
   "cell_type": "code",
   "execution_count": 1807,
   "metadata": {
    "collapsed": false,
    "deletable": true,
    "editable": true
   },
   "outputs": [
    {
     "data": {
      "text/plain": [
       "2987"
      ]
     },
     "execution_count": 1807,
     "metadata": {},
     "output_type": "execute_result"
    }
   ],
   "source": [
    "len(data2)"
   ]
  },
  {
   "cell_type": "code",
   "execution_count": 1808,
   "metadata": {
    "collapsed": false,
    "deletable": true,
    "editable": true
   },
   "outputs": [],
   "source": [
    "X2 = data2.drop('death_rate', axis=1)\n",
    "X2 = pd.get_dummies(X2, prefix='urb_inf_', columns=['urban_influence'])\n",
    "Y2 = data2.loc[:, 'death_rate']"
   ]
  },
  {
   "cell_type": "code",
   "execution_count": 1809,
   "metadata": {
    "collapsed": true,
    "deletable": true,
    "editable": true
   },
   "outputs": [],
   "source": [
    "X2_train, X2_test, Y2_train, Y2_test = train_test_split(X2, Y2, test_size=.35, random_state=57)"
   ]
  },
  {
   "cell_type": "code",
   "execution_count": 1810,
   "metadata": {
    "collapsed": false,
    "deletable": true,
    "editable": true
   },
   "outputs": [
    {
     "name": "stdout",
     "output_type": "stream",
     "text": [
      "Logistic regression scores: [ 0.04955374  0.04176708  0.03361711]\n",
      "CPU times: user 482 ms, sys: 11.6 ms, total: 493 ms\n",
      "Wall time: 170 ms\n",
      "Gradient boosting scores: [ 0.0310537   0.04633009  0.05927464]\n",
      "CPU times: user 8.38 s, sys: 36.6 ms, total: 8.41 s\n",
      "Wall time: 7.99 s\n",
      "SGD scores: [ 0.024899    0.06005125  0.03717782]\n",
      "CPU times: user 169 ms, sys: 2.72 ms, total: 172 ms\n",
      "Wall time: 60 ms\n",
      "Random forest scores: [ 0.05472505  0.07171704  0.03088483]\n",
      "CPU times: user 552 ms, sys: 14 ms, total: 566 ms\n",
      "Wall time: 143 ms\n",
      "Support vector scores: [ 0.05217129  0.06176264  0.05187065]\n",
      "CPU times: user 566 ms, sys: 5.47 ms, total: 571 ms\n",
      "Wall time: 573 ms\n",
      "K-Nearest neighbors scores: [ 0.05408162  0.0423971   0.04956364]\n",
      "CPU times: user 75.4 ms, sys: 251 µs, total: 75.7 ms\n",
      "Wall time: 75.7 ms\n"
     ]
    }
   ],
   "source": [
    "run_trials(X2_train, Y2_train)"
   ]
  },
  {
   "cell_type": "markdown",
   "metadata": {
    "deletable": true,
    "editable": true
   },
   "source": [
    "The scores are worse, but only 41 outliers were dropped. Look at performance with all extreme outliers removed, since the total is only 2/3 the number with the first feature set."
   ]
  },
  {
   "cell_type": "code",
   "execution_count": 1811,
   "metadata": {
    "collapsed": false,
    "deletable": true,
    "editable": true
   },
   "outputs": [],
   "source": [
    "data3 = data.loc[:, features2]\n",
    "data3 = data3.drop(list(extreme_outliers2[extreme_outliers2.any(axis=1)].index))"
   ]
  },
  {
   "cell_type": "code",
   "execution_count": 1812,
   "metadata": {
    "collapsed": true,
    "deletable": true,
    "editable": true
   },
   "outputs": [],
   "source": [
    "X3 = data3.drop('death_rate', axis=1)\n",
    "X3 = pd.get_dummies(X3, prefix='urb_inf_', columns=['urban_influence'])\n",
    "Y3 = data3.loc[:, 'death_rate']\n",
    "X3_train, X3_test, Y3_train, Y3_test = train_test_split(X3, Y3, test_size=.35, random_state=57)"
   ]
  },
  {
   "cell_type": "code",
   "execution_count": 1813,
   "metadata": {
    "collapsed": false,
    "deletable": true,
    "editable": true
   },
   "outputs": [
    {
     "name": "stdout",
     "output_type": "stream",
     "text": [
      "Logistic regression scores: [ 0.05337411  0.07724987  0.07996771]\n",
      "CPU times: user 373 ms, sys: 9.36 ms, total: 383 ms\n",
      "Wall time: 129 ms\n",
      "Gradient boosting scores: [ 0.0328455   0.06563764  0.05411654]\n",
      "CPU times: user 7.31 s, sys: 27.7 ms, total: 7.34 s\n",
      "Wall time: 6.93 s\n",
      "SGD scores: [ 0.03643907  0.02551089  0.06908412]\n",
      "CPU times: user 171 ms, sys: 2.93 ms, total: 174 ms\n",
      "Wall time: 59.8 ms\n",
      "Random forest scores: [ 0.05017355  0.05703817  0.03967518]\n",
      "CPU times: user 470 ms, sys: 9.09 ms, total: 480 ms\n",
      "Wall time: 121 ms\n",
      "Support vector scores: [ 0.07662199  0.08699553  0.07021558]\n",
      "CPU times: user 437 ms, sys: 2.76 ms, total: 440 ms\n",
      "Wall time: 367 ms\n",
      "K-Nearest neighbors scores: [ 0.02036682  0.04189128  0.05156391]\n",
      "CPU times: user 67.6 ms, sys: 183 µs, total: 67.8 ms\n",
      "Wall time: 67.8 ms\n"
     ]
    }
   ],
   "source": [
    "run_trials(X3_train, Y3_train)"
   ]
  },
  {
   "cell_type": "markdown",
   "metadata": {
    "deletable": true,
    "editable": true
   },
   "source": [
    "Even with more outliers removed, performance was not as good as on the first feature set. Use the first set, but combine to form fewer targets.  "
   ]
  },
  {
   "cell_type": "code",
   "execution_count": 862,
   "metadata": {
    "collapsed": false,
    "deletable": true,
    "editable": true
   },
   "outputs": [],
   "source": [
    "Y1_16 = Y1.apply(lambda x: '0-1.9' if x == '<2' else x)"
   ]
  },
  {
   "cell_type": "code",
   "execution_count": 863,
   "metadata": {
    "collapsed": false,
    "deletable": true,
    "editable": true
   },
   "outputs": [],
   "source": [
    "def combine_targets(input):\n",
    "    targets = sorted(input.unique(), key=lambda x: int(re.search('\\d+(?=-)', x).group()))\n",
    "    first = []\n",
    "    second = []\n",
    "    for i, r in enumerate(targets):\n",
    "        first.append(r) if i % 2 == 0 else second.append(r)\n",
    "    if len(first) != len(second):\n",
    "        second.append('30-31.9')\n",
    "    conversions = {}\n",
    "    for start, end in zip(first, second):\n",
    "        new_value = re.search('\\d+-', start).group() + re.search('(?<=-)\\d+.\\d+', end).group()\n",
    "        conversions.update(dict.fromkeys([start, end], new_value))\n",
    "    return input.apply(lambda x: conversions[x])"
   ]
  },
  {
   "cell_type": "code",
   "execution_count": 864,
   "metadata": {
    "collapsed": false,
    "deletable": true,
    "editable": true
   },
   "outputs": [],
   "source": [
    "Y1_8 = combine_targets(Y1_16)"
   ]
  },
  {
   "cell_type": "code",
   "execution_count": 1818,
   "metadata": {
    "collapsed": false,
    "deletable": true,
    "editable": true
   },
   "outputs": [],
   "source": [
    "Y1_8_train = Y1_8[list(Y1_train.index)]\n",
    "Y1_8_test = Y1_8[list(Y1_test.index)]"
   ]
  },
  {
   "cell_type": "code",
   "execution_count": 1819,
   "metadata": {
    "collapsed": false,
    "deletable": true,
    "editable": true
   },
   "outputs": [
    {
     "name": "stdout",
     "output_type": "stream",
     "text": [
      "Logistic regression scores: [ 0.08832549  0.11954396  0.12411521]\n",
      "CPU times: user 337 ms, sys: 12.1 ms, total: 349 ms\n",
      "Wall time: 118 ms\n",
      "Gradient boosting scores: [ 0.1423226   0.11936641  0.15357612]\n",
      "CPU times: user 4.81 s, sys: 17.6 ms, total: 4.83 s\n",
      "Wall time: 4.4 s\n",
      "SGD scores: [ 0.01972545  0.09228536  0.05948445]\n",
      "CPU times: user 95.2 ms, sys: 1.79 ms, total: 97 ms\n",
      "Wall time: 35.5 ms\n",
      "Random forest scores: [ 0.13651078  0.11300223  0.10052883]\n",
      "CPU times: user 482 ms, sys: 9.59 ms, total: 492 ms\n",
      "Wall time: 124 ms\n",
      "Support vector scores: [ 0.14174038  0.12043186  0.18529638]\n",
      "CPU times: user 509 ms, sys: 4.91 ms, total: 514 ms\n",
      "Wall time: 455 ms\n",
      "K-Nearest neighbors scores: [ 0.11102283  0.10053291  0.07002133]\n",
      "CPU times: user 83.3 ms, sys: 406 µs, total: 83.7 ms\n",
      "Wall time: 83.7 ms\n"
     ]
    }
   ],
   "source": [
    "run_trials(X1_train, Y1_8_train)"
   ]
  },
  {
   "cell_type": "markdown",
   "metadata": {
    "deletable": true,
    "editable": true
   },
   "source": [
    "There was significant improvement, but performance is still poor. Try reducing to 4 classes."
   ]
  },
  {
   "cell_type": "code",
   "execution_count": 1821,
   "metadata": {
    "collapsed": false,
    "deletable": true,
    "editable": true
   },
   "outputs": [],
   "source": [
    "Y1_4_train = combine_targets(Y1_8_train)\n",
    "Y1_4_test = combine_targets(Y1_8_test)"
   ]
  },
  {
   "cell_type": "code",
   "execution_count": 1826,
   "metadata": {
    "collapsed": false,
    "deletable": true,
    "editable": true
   },
   "outputs": [
    {
     "name": "stdout",
     "output_type": "stream",
     "text": [
      "Logistic regression scores: [ 0.21368678  0.27995599  0.25712266]\n",
      "CPU times: user 197 ms, sys: 6.12 ms, total: 203 ms\n",
      "Wall time: 68.4 ms\n",
      "Gradient boosting scores: [ 0.24905532  0.26328017  0.22784672]\n",
      "CPU times: user 2.63 s, sys: 17.3 ms, total: 2.65 s\n",
      "Wall time: 2.22 s\n",
      "SGD scores: [ 0.06243688  0.17750717  0.08615862]\n",
      "CPU times: user 76.7 ms, sys: 1.78 ms, total: 78.5 ms\n",
      "Wall time: 26.9 ms\n",
      "Random forest scores: [ 0.18065295  0.18930584  0.18236075]\n",
      "CPU times: user 436 ms, sys: 11.5 ms, total: 448 ms\n",
      "Wall time: 114 ms\n",
      "Support vector scores: [ 0.22886776  0.26835502  0.24347088]\n",
      "CPU times: user 452 ms, sys: 3.01 ms, total: 455 ms\n",
      "Wall time: 361 ms\n",
      "K-Nearest neighbors scores: [ 0.21182089  0.21084499  0.18736939]\n",
      "CPU times: user 76.5 ms, sys: 183 µs, total: 76.7 ms\n",
      "Wall time: 76.7 ms\n"
     ]
    }
   ],
   "source": [
    "run_trials(X1_train, Y1_4_train)"
   ]
  },
  {
   "cell_type": "code",
   "execution_count": 1823,
   "metadata": {
    "collapsed": true,
    "deletable": true,
    "editable": true
   },
   "outputs": [],
   "source": [
    "Y1_2_train = combine_targets(Y1_4_train)\n",
    "Y1_2_test = combine_targets(Y1_4_test)"
   ]
  },
  {
   "cell_type": "code",
   "execution_count": 1827,
   "metadata": {
    "collapsed": false,
    "deletable": true,
    "editable": true
   },
   "outputs": [
    {
     "name": "stdout",
     "output_type": "stream",
     "text": [
      "Logistic regression scores: [ 0.3605477   0.38500583  0.41100902]\n",
      "CPU times: user 32.3 ms, sys: 1.87 ms, total: 34.2 ms\n",
      "Wall time: 33.2 ms\n",
      "Gradient boosting scores: [ 0.33713757  0.29060624  0.37415019]\n",
      "CPU times: user 528 ms, sys: 1.92 ms, total: 530 ms\n",
      "Wall time: 530 ms\n",
      "SGD scores: [ 0.29287073  0.30316662  0.30566928]\n",
      "CPU times: user 24.5 ms, sys: 228 µs, total: 24.7 ms\n",
      "Wall time: 24.6 ms\n",
      "Random forest scores: [ 0.21268015  0.29380515  0.30487196]\n",
      "CPU times: user 97.7 ms, sys: 273 µs, total: 98 ms\n",
      "Wall time: 98 ms\n",
      "Support vector scores: [ 0.36396648  0.38650955  0.44225272]\n",
      "CPU times: user 229 ms, sys: 1.68 ms, total: 230 ms\n",
      "Wall time: 234 ms\n",
      "K-Nearest neighbors scores: [ 0.24806051  0.31106316  0.28854924]\n",
      "CPU times: user 80.2 ms, sys: 532 µs, total: 80.8 ms\n",
      "Wall time: 81.2 ms\n"
     ]
    }
   ],
   "source": [
    "run_trials(X1_train, Y1_2_train)"
   ]
  },
  {
   "cell_type": "markdown",
   "metadata": {
    "deletable": true,
    "editable": true
   },
   "source": [
    "It appears that binary classification is the best that the data can do resonably well. The support vector classifier performed best, with logistic regression second. See how they do on the test set."
   ]
  },
  {
   "cell_type": "code",
   "execution_count": 1831,
   "metadata": {
    "collapsed": false
   },
   "outputs": [
    {
     "data": {
      "text/plain": [
       "0.38194833928252886"
      ]
     },
     "execution_count": 1831,
     "metadata": {},
     "output_type": "execute_result"
    }
   ],
   "source": [
    "svc.fit(robust.fit_transform(X1_train), Y1_2_train)\n",
    "matthews_corrcoef(Y1_2_test, svc.predict(robust.fit_transform(X1_test)))"
   ]
  },
  {
   "cell_type": "code",
   "execution_count": 1834,
   "metadata": {
    "collapsed": false,
    "deletable": true,
    "editable": true
   },
   "outputs": [
    {
     "data": {
      "text/plain": [
       "0.40766998602465093"
      ]
     },
     "execution_count": 1834,
     "metadata": {},
     "output_type": "execute_result"
    }
   ],
   "source": [
    "lrc.fit(robust.fit_transform(X1_train), Y1_2_train)\n",
    "matthews_corrcoef(Y1_2_test, lrc.predict(robust.fit_transform(X1_test)))"
   ]
  },
  {
   "cell_type": "markdown",
   "metadata": {
    "deletable": true,
    "editable": true
   },
   "source": [
    "Logistic regression performs better on the test set and is more interpretable, so proceed with that as the classifier to optimize. A quick check of results with and without the **30+** target values showed that the model performs better with them included, so leave them in."
   ]
  },
  {
   "cell_type": "code",
   "execution_count": 1835,
   "metadata": {
    "collapsed": false,
    "deletable": true,
    "editable": true
   },
   "outputs": [],
   "source": [
    "binary = data_31.copy()\n",
    "binary['crime'] = (binary['viol_crime'] + binary['prop_crime'])\n",
    "binary = binary.drop(['viol_crime', 'prop_crime'], axis=1)\n",
    "binary = binary.loc[:, features1]\n",
    "\n",
    "binary.loc[:, 'death_rate'] = binary['death_rate'].apply(lambda x: '30-31.9' if x == '30+' else x)"
   ]
  },
  {
   "cell_type": "code",
   "execution_count": 1836,
   "metadata": {
    "collapsed": true,
    "deletable": true,
    "editable": true
   },
   "outputs": [],
   "source": [
    "X = binary.drop('death_rate', axis=1)\n",
    "X = pd.get_dummies(X, prefix='urb_inf_', columns=['urban_influence'])\n",
    "Y = binary.loc[:, 'death_rate']"
   ]
  },
  {
   "cell_type": "code",
   "execution_count": 1837,
   "metadata": {
    "collapsed": false,
    "deletable": true,
    "editable": true
   },
   "outputs": [],
   "source": [
    "Y_16 = Y.apply(lambda x: '0-1.9' if x == '<2' else x)\n",
    "Y_8 = combine_targets(Y_16)\n",
    "Y_4 = combine_targets(Y_8)\n",
    "Y_2 = combine_targets(Y_4)"
   ]
  },
  {
   "cell_type": "markdown",
   "metadata": {
    "deletable": true,
    "editable": true
   },
   "source": [
    "Repeat the basic process with the additional samples."
   ]
  },
  {
   "cell_type": "code",
   "execution_count": 1838,
   "metadata": {
    "collapsed": true,
    "deletable": true,
    "editable": true
   },
   "outputs": [],
   "source": [
    "def run_clf(clf, data, targets, rand, t_size=0.35):\n",
    "    X_train, X_test, Y_train, Y_test = train_test_split(data, targets, random_state=rand, test_size=t_size)\n",
    "    print('Training scores: {}'.format(cross_val_score(clf, center.fit_transform(X_train), Y_train,\n",
    "                                                                    scoring=matthews)))\n",
    "    clf.fit(center.fit_transform(X_train), Y_train)\n",
    "    print('Test score: {}'.format(matthews_corrcoef(Y_test, clf.predict(center.fit_transform(X_test)))))"
   ]
  },
  {
   "cell_type": "code",
   "execution_count": 1839,
   "metadata": {
    "collapsed": false,
    "deletable": true,
    "editable": true
   },
   "outputs": [],
   "source": [
    "clf = LogisticRegression(class_weight='balanced')"
   ]
  },
  {
   "cell_type": "code",
   "execution_count": 1841,
   "metadata": {
    "collapsed": false,
    "deletable": true,
    "editable": true
   },
   "outputs": [],
   "source": [
    "extreme_outliers = get_outliers(binary.drop(['urban_influence', 'death_rate'], axis=1), 2.5)"
   ]
  },
  {
   "cell_type": "markdown",
   "metadata": {
    "deletable": true,
    "editable": true
   },
   "source": [
    "*Note: With the one-hot encoding of the __urban_influence__ variable, the mean for each binary feature is small, and most have 1st and 3rd quartile values of zero, so a 1 is always classified as an \"extreme outlier.\" As a result, these features must be excluded from an outlier search.*"
   ]
  },
  {
   "cell_type": "code",
   "execution_count": 1842,
   "metadata": {
    "collapsed": false,
    "deletable": true,
    "editable": true
   },
   "outputs": [
    {
     "data": {
      "text/plain": [
       "2904"
      ]
     },
     "execution_count": 1842,
     "metadata": {},
     "output_type": "execute_result"
    }
   ],
   "source": [
    "X_no_xx = X[~(extreme_outliers.sum(axis=1) > 1)]\n",
    "Y_no_xx = Y_2[~(extreme_outliers.sum(axis=1) > 1)]\n",
    "len(Y_no_xx)"
   ]
  },
  {
   "cell_type": "code",
   "execution_count": 1843,
   "metadata": {
    "collapsed": false,
    "deletable": true,
    "editable": true
   },
   "outputs": [
    {
     "data": {
      "text/plain": [
       "2249"
      ]
     },
     "execution_count": 1843,
     "metadata": {},
     "output_type": "execute_result"
    }
   ],
   "source": [
    "X_no_x = X[~extreme_outliers.any(axis=1)]\n",
    "Y_no_x = Y_2[~extreme_outliers.any(axis=1)]\n",
    "len(Y_no_extreme)"
   ]
  },
  {
   "cell_type": "code",
   "execution_count": 1844,
   "metadata": {
    "collapsed": false,
    "deletable": true,
    "editable": true
   },
   "outputs": [
    {
     "name": "stdout",
     "output_type": "stream",
     "text": [
      "Training scores: [ 0.3659125   0.39934076  0.42940491]\n",
      "Test score: 0.37677726988394494\n"
     ]
    }
   ],
   "source": [
    "run_clf(clf, X, Y_2, 77)"
   ]
  },
  {
   "cell_type": "code",
   "execution_count": 1845,
   "metadata": {
    "collapsed": false,
    "deletable": true,
    "editable": true
   },
   "outputs": [
    {
     "name": "stdout",
     "output_type": "stream",
     "text": [
      "Training scores: [ 0.40464457  0.41579804  0.38542681]\n",
      "Test score: 0.4073201746176321\n"
     ]
    }
   ],
   "source": [
    "run_clf(clf, X_no_xx, Y_no_xx, 77)"
   ]
  },
  {
   "cell_type": "code",
   "execution_count": 1846,
   "metadata": {
    "collapsed": false,
    "deletable": true,
    "editable": true
   },
   "outputs": [
    {
     "name": "stdout",
     "output_type": "stream",
     "text": [
      "Training scores: [ 0.37256039  0.3979989   0.37648975]\n",
      "Test score: 0.4152970745557789\n"
     ]
    }
   ],
   "source": [
    "run_clf(clf, X_no_x, Y_no_x, 77)"
   ]
  },
  {
   "cell_type": "markdown",
   "metadata": {
    "deletable": true,
    "editable": true
   },
   "source": [
    "It seems performance is better with just the most extreme outliers removed. With all the extreme outliers removed, the test results were better, but they also were better than the training scores, suggesting that the model was unstable. Try another split with a different seed."
   ]
  },
  {
   "cell_type": "code",
   "execution_count": 1847,
   "metadata": {
    "collapsed": false,
    "deletable": true,
    "editable": true
   },
   "outputs": [
    {
     "name": "stdout",
     "output_type": "stream",
     "text": [
      "Training scores: [ 0.41232672  0.40859137  0.40683444]\n",
      "Test score: 0.3785868689370292\n"
     ]
    }
   ],
   "source": [
    "run_clf(clf, X, Y_2, 23)"
   ]
  },
  {
   "cell_type": "code",
   "execution_count": 1848,
   "metadata": {
    "collapsed": false,
    "deletable": true,
    "editable": true
   },
   "outputs": [
    {
     "name": "stdout",
     "output_type": "stream",
     "text": [
      "Training scores: [ 0.41176627  0.41797922  0.42805868]\n",
      "Test score: 0.34650278518605054\n"
     ]
    }
   ],
   "source": [
    "run_clf(clf, X_no_xx, Y_no_xx, 23)"
   ]
  },
  {
   "cell_type": "code",
   "execution_count": 1849,
   "metadata": {
    "collapsed": false,
    "deletable": true,
    "editable": true
   },
   "outputs": [
    {
     "name": "stdout",
     "output_type": "stream",
     "text": [
      "Training scores: [ 0.39069758  0.34941506  0.37793724]\n",
      "Test score: 0.39781598007893043\n"
     ]
    }
   ],
   "source": [
    "run_clf(clf, X_no_x, Y_no_x, 23)"
   ]
  },
  {
   "cell_type": "markdown",
   "metadata": {
    "deletable": true,
    "editable": true
   },
   "source": [
    "Now the results are muddied. Try one more split."
   ]
  },
  {
   "cell_type": "code",
   "execution_count": 1850,
   "metadata": {
    "collapsed": false,
    "deletable": true,
    "editable": true,
    "scrolled": true
   },
   "outputs": [
    {
     "name": "stdout",
     "output_type": "stream",
     "text": [
      "Training scores: [ 0.35485655  0.38603222  0.42577718]\n",
      "Test score: 0.36601216796250713\n"
     ]
    }
   ],
   "source": [
    "run_clf(clf, X, Y_2, 13)"
   ]
  },
  {
   "cell_type": "code",
   "execution_count": 1851,
   "metadata": {
    "collapsed": false,
    "deletable": true,
    "editable": true
   },
   "outputs": [
    {
     "name": "stdout",
     "output_type": "stream",
     "text": [
      "Training scores: [ 0.39697358  0.38951324  0.3780451 ]\n",
      "Test score: 0.4162781030006335\n"
     ]
    }
   ],
   "source": [
    "run_clf(clf, X_no_xx, Y_no_xx, 13)"
   ]
  },
  {
   "cell_type": "code",
   "execution_count": 1852,
   "metadata": {
    "collapsed": false,
    "deletable": true,
    "editable": true
   },
   "outputs": [
    {
     "name": "stdout",
     "output_type": "stream",
     "text": [
      "Training scores: [ 0.36138532  0.3964418   0.34842314]\n",
      "Test score: 0.4309497088676196\n"
     ]
    }
   ],
   "source": [
    "run_clf(clf, X_no_x, Y_no_x, 13)"
   ]
  },
  {
   "cell_type": "markdown",
   "metadata": {
    "deletable": true,
    "editable": true
   },
   "source": [
    "Removing all the extreme outliers produced consistently better test results, even though removing just the most extreme outliers achieved the single best test score. It will be the model to optimize."
   ]
  },
  {
   "cell_type": "code",
   "execution_count": 1853,
   "metadata": {
    "collapsed": true,
    "deletable": true,
    "editable": true
   },
   "outputs": [],
   "source": [
    "from sklearn.model_selection import GridSearchCV"
   ]
  },
  {
   "cell_type": "code",
   "execution_count": 1904,
   "metadata": {
    "collapsed": true,
    "deletable": true,
    "editable": true
   },
   "outputs": [],
   "source": [
    "X_train, X_test, Y_train, Y_test = train_test_split(X_no_x, Y_no_x, test_size=.25, random_state=13)"
   ]
  },
  {
   "cell_type": "code",
   "execution_count": 1905,
   "metadata": {
    "collapsed": false,
    "deletable": true,
    "editable": true
   },
   "outputs": [
    {
     "data": {
      "text/plain": [
       "GridSearchCV(cv=None, error_score='raise',\n",
       "       estimator=LogisticRegression(C=1.0, class_weight='balanced', dual=False,\n",
       "          fit_intercept=True, intercept_scaling=1, max_iter=100,\n",
       "          multi_class='ovr', n_jobs=1, penalty='l2', random_state=None,\n",
       "          solver='liblinear', tol=0.0001, verbose=0, warm_start=False),\n",
       "       fit_params=None, iid=True, n_jobs=1,\n",
       "       param_grid=[{'penalty': ['l1', 'l2'], 'tol': [0.0001, 0.001], 'C': [0.01, 0.1, 1, 2, 3, 4, 5], 'solver': ['liblinear'], 'multi_class': ['ovr']}, {'penalty': ['l2'], 'tol': [0.0001, 0.001], 'C': [0.01, 0.1, 1, 2, 3, 4, 5], 'solver': ['newton-cg', 'lbfgs'], 'multi_class': ['ovr', 'multinomial']}],\n",
       "       pre_dispatch='2*n_jobs', refit=True, return_train_score=True,\n",
       "       scoring=make_scorer(matthews_corrcoef), verbose=0)"
      ]
     },
     "execution_count": 1905,
     "metadata": {},
     "output_type": "execute_result"
    }
   ],
   "source": [
    "params = [{ 'penalty': ['l1', 'l2'], 'tol': [1e-4, 1e-3], 'C': [1e-2, 1e-1, 1, 2, 3, 4, 5], 'solver': ['liblinear'], 'multi_class': ['ovr']},\n",
    "        { 'penalty': ['l2'], 'tol': [1e-4, 1e-3], 'C': [1e-2, 1e-1, 1, 2, 3, 4, 5], 'solver': ['newton-cg', 'lbfgs'], 'multi_class': ['ovr', 'multinomial']}]  \n",
    "model = GridSearchCV(clf, param_grid=params, scoring=matthews)\n",
    "model.fit(center.fit_transform(X_train), Y_train)"
   ]
  },
  {
   "cell_type": "code",
   "execution_count": 1906,
   "metadata": {
    "collapsed": false,
    "deletable": true,
    "editable": true
   },
   "outputs": [
    {
     "data": {
      "text/plain": [
       "{'C': 0.01,\n",
       " 'multi_class': 'multinomial',\n",
       " 'penalty': 'l2',\n",
       " 'solver': 'newton-cg',\n",
       " 'tol': 0.0001}"
      ]
     },
     "execution_count": 1906,
     "metadata": {},
     "output_type": "execute_result"
    }
   ],
   "source": [
    "model.best_params_"
   ]
  },
  {
   "cell_type": "markdown",
   "metadata": {
    "deletable": true,
    "editable": true
   },
   "source": [
    "The sag and saga solvers did not converge, and neither did the other solvers for tolerance values below .0001"
   ]
  },
  {
   "cell_type": "code",
   "execution_count": 1907,
   "metadata": {
    "collapsed": false,
    "deletable": true,
    "editable": true
   },
   "outputs": [
    {
     "data": {
      "text/plain": [
       "0.43840428027647016"
      ]
     },
     "execution_count": 1907,
     "metadata": {},
     "output_type": "execute_result"
    }
   ],
   "source": [
    "matthews_corrcoef(Y_test, model.predict(center.fit_transform(X_test)))"
   ]
  },
  {
   "cell_type": "code",
   "execution_count": 1908,
   "metadata": {
    "collapsed": false,
    "deletable": true,
    "editable": true
   },
   "outputs": [
    {
     "data": {
      "text/plain": [
       "GridSearchCV(cv=None, error_score='raise',\n",
       "       estimator=LogisticRegression(C=1.0, class_weight='balanced', dual=False,\n",
       "          fit_intercept=True, intercept_scaling=1, max_iter=100,\n",
       "          multi_class='ovr', n_jobs=1, penalty='l2', random_state=None,\n",
       "          solver='liblinear', tol=0.0001, verbose=0, warm_start=False),\n",
       "       fit_params=None, iid=True, n_jobs=1,\n",
       "       param_grid=[{'penalty': ['l1', 'l2'], 'tol': [0.0001, 0.001], 'C': [0.01, 0.1, 1, 2, 3, 4, 5], 'solver': ['liblinear'], 'multi_class': ['ovr']}, {'penalty': ['l2'], 'tol': [0.0001, 0.001], 'C': [0.01, 0.1, 1, 2, 3, 4, 5], 'solver': ['newton-cg', 'lbfgs'], 'multi_class': ['ovr', 'multinomial']}],\n",
       "       pre_dispatch='2*n_jobs', refit=True, return_train_score=True,\n",
       "       scoring=make_scorer(matthews_corrcoef), verbose=0)"
      ]
     },
     "execution_count": 1908,
     "metadata": {},
     "output_type": "execute_result"
    }
   ],
   "source": [
    "X_train, X_test, Y_train, Y_test = train_test_split(X_no_x, Y_no_x, test_size=.25, random_state=97)\n",
    "model.fit(center.fit_transform(X_train), Y_train)"
   ]
  },
  {
   "cell_type": "code",
   "execution_count": 1909,
   "metadata": {
    "collapsed": false,
    "deletable": true,
    "editable": true
   },
   "outputs": [
    {
     "data": {
      "text/plain": [
       "{'C': 3,\n",
       " 'multi_class': 'multinomial',\n",
       " 'penalty': 'l2',\n",
       " 'solver': 'newton-cg',\n",
       " 'tol': 0.0001}"
      ]
     },
     "execution_count": 1909,
     "metadata": {},
     "output_type": "execute_result"
    }
   ],
   "source": [
    "model.best_params_"
   ]
  },
  {
   "cell_type": "code",
   "execution_count": 1910,
   "metadata": {
    "collapsed": false,
    "deletable": true,
    "editable": true
   },
   "outputs": [
    {
     "data": {
      "text/plain": [
       "0.43654570479148536"
      ]
     },
     "execution_count": 1910,
     "metadata": {},
     "output_type": "execute_result"
    }
   ],
   "source": [
    "matthews_corrcoef(Y_test, model.predict(center.fit_transform(X_test)))"
   ]
  },
  {
   "cell_type": "markdown",
   "metadata": {
    "deletable": true,
    "editable": true
   },
   "source": [
    "Rearranging the samples leads to the grid search choosing a very different C parameter. This could indicate instability. However, experimentation showed a test set of 0.25 to give stable results. The original test size of .35 produced results of around .45 and .41, whereas reducing the test size to 0.2 exaggerates this difference to about .47 and .39. Out of curiosity, what is the result from optimizing the dataset with just the most extreme outliers removed. "
   ]
  },
  {
   "cell_type": "code",
   "execution_count": 1911,
   "metadata": {
    "collapsed": false,
    "deletable": true,
    "editable": true
   },
   "outputs": [
    {
     "data": {
      "text/plain": [
       "GridSearchCV(cv=None, error_score='raise',\n",
       "       estimator=LogisticRegression(C=1.0, class_weight='balanced', dual=False,\n",
       "          fit_intercept=True, intercept_scaling=1, max_iter=100,\n",
       "          multi_class='ovr', n_jobs=1, penalty='l2', random_state=None,\n",
       "          solver='liblinear', tol=0.0001, verbose=0, warm_start=False),\n",
       "       fit_params=None, iid=True, n_jobs=1,\n",
       "       param_grid=[{'penalty': ['l1', 'l2'], 'tol': [0.0001, 0.001], 'C': [0.01, 0.1, 1, 2, 3, 4, 5], 'solver': ['liblinear'], 'multi_class': ['ovr']}, {'penalty': ['l2'], 'tol': [0.0001, 0.001], 'C': [0.01, 0.1, 1, 2, 3, 4, 5], 'solver': ['newton-cg', 'lbfgs'], 'multi_class': ['ovr', 'multinomial']}],\n",
       "       pre_dispatch='2*n_jobs', refit=True, return_train_score=True,\n",
       "       scoring=make_scorer(matthews_corrcoef), verbose=0)"
      ]
     },
     "execution_count": 1911,
     "metadata": {},
     "output_type": "execute_result"
    }
   ],
   "source": [
    "X2_train, X2_test, Y2_train, Y2_test = train_test_split(X_no_xx, Y_no_xx, test_size=.25, random_state=13)\n",
    "model2 = GridSearchCV(clf, param_grid=params, scoring=matthews)\n",
    "model2.fit(robust.fit_transform(X2_train), Y2_train)"
   ]
  },
  {
   "cell_type": "code",
   "execution_count": 1912,
   "metadata": {
    "collapsed": false,
    "deletable": true,
    "editable": true
   },
   "outputs": [
    {
     "data": {
      "text/plain": [
       "{'C': 0.1,\n",
       " 'multi_class': 'multinomial',\n",
       " 'penalty': 'l2',\n",
       " 'solver': 'newton-cg',\n",
       " 'tol': 0.0001}"
      ]
     },
     "execution_count": 1912,
     "metadata": {},
     "output_type": "execute_result"
    }
   ],
   "source": [
    "model2.best_params_"
   ]
  },
  {
   "cell_type": "code",
   "execution_count": 1913,
   "metadata": {
    "collapsed": false,
    "deletable": true,
    "editable": true
   },
   "outputs": [
    {
     "data": {
      "text/plain": [
       "0.41195095043131535"
      ]
     },
     "execution_count": 1913,
     "metadata": {},
     "output_type": "execute_result"
    }
   ],
   "source": [
    "matthews_corrcoef(Y2_test, model2.predict(robust.fit_transform(X2_test)))"
   ]
  },
  {
   "cell_type": "code",
   "execution_count": 1914,
   "metadata": {
    "collapsed": false,
    "deletable": true,
    "editable": true
   },
   "outputs": [
    {
     "data": {
      "text/plain": [
       "GridSearchCV(cv=None, error_score='raise',\n",
       "       estimator=LogisticRegression(C=1.0, class_weight='balanced', dual=False,\n",
       "          fit_intercept=True, intercept_scaling=1, max_iter=100,\n",
       "          multi_class='ovr', n_jobs=1, penalty='l2', random_state=None,\n",
       "          solver='liblinear', tol=0.0001, verbose=0, warm_start=False),\n",
       "       fit_params=None, iid=True, n_jobs=1,\n",
       "       param_grid=[{'penalty': ['l1', 'l2'], 'tol': [0.0001, 0.001], 'C': [0.01, 0.1, 1, 2, 3, 4, 5], 'solver': ['liblinear'], 'multi_class': ['ovr']}, {'penalty': ['l2'], 'tol': [0.0001, 0.001], 'C': [0.01, 0.1, 1, 2, 3, 4, 5], 'solver': ['newton-cg', 'lbfgs'], 'multi_class': ['ovr', 'multinomial']}],\n",
       "       pre_dispatch='2*n_jobs', refit=True, return_train_score=True,\n",
       "       scoring=make_scorer(matthews_corrcoef), verbose=0)"
      ]
     },
     "execution_count": 1914,
     "metadata": {},
     "output_type": "execute_result"
    }
   ],
   "source": [
    "X2_train, X2_test, Y2_train, Y2_test = train_test_split(X_no_xx, Y_no_xx, test_size=.35, random_state=97)\n",
    "model2.fit(robust.fit_transform(X2_train), Y2_train)"
   ]
  },
  {
   "cell_type": "code",
   "execution_count": 1915,
   "metadata": {
    "collapsed": false,
    "deletable": true,
    "editable": true
   },
   "outputs": [
    {
     "data": {
      "text/plain": [
       "{'C': 0.1,\n",
       " 'multi_class': 'multinomial',\n",
       " 'penalty': 'l2',\n",
       " 'solver': 'newton-cg',\n",
       " 'tol': 0.0001}"
      ]
     },
     "execution_count": 1915,
     "metadata": {},
     "output_type": "execute_result"
    }
   ],
   "source": [
    "model2.best_params_"
   ]
  },
  {
   "cell_type": "code",
   "execution_count": 1916,
   "metadata": {
    "collapsed": false,
    "deletable": true,
    "editable": true
   },
   "outputs": [
    {
     "data": {
      "text/plain": [
       "0.42361487173310902"
      ]
     },
     "execution_count": 1916,
     "metadata": {},
     "output_type": "execute_result"
    }
   ],
   "source": [
    "matthews_corrcoef(Y2_test, model.predict(robust.fit_transform(X2_test)))"
   ]
  },
  {
   "cell_type": "code",
   "execution_count": 1687,
   "metadata": {
    "collapsed": false,
    "deletable": true,
    "editable": true,
    "scrolled": true
   },
   "outputs": [
    {
     "data": {
      "text/plain": [
       "37.137991509151298"
      ]
     },
     "execution_count": 1687,
     "metadata": {},
     "output_type": "execute_result"
    }
   ],
   "source": [
    "residuals = model.best_estimator_.decision_function(X_test)\n",
    "max(residuals)"
   ]
  },
  {
   "cell_type": "code",
   "execution_count": 1689,
   "metadata": {
    "collapsed": false,
    "deletable": true,
    "editable": true
   },
   "outputs": [
    {
     "data": {
      "image/png": "[encoded data removed]",
      "text/plain": [
       "<matplotlib.figure.Figure at 0x195db9d68>"
      ]
     },
     "metadata": {},
     "output_type": "display_data"
    }
   ],
   "source": [
    "fig = plt.hist(residuals, bins=38)"
   ]
  },
  {
   "cell_type": "markdown",
   "metadata": {
    "deletable": true,
    "editable": true
   },
   "source": [
    "The residuals show a relatively normal distribution."
   ]
  },
  {
   "cell_type": "code",
   "execution_count": 1670,
   "metadata": {
    "collapsed": false,
    "deletable": true,
    "editable": true
   },
   "outputs": [
    {
     "name": "stdout",
     "output_type": "stream",
     "text": [
      "hh_food_st   :  0.94216  OR: 2.57 \n",
      "< diploma    :  0.92706  OR: 2.53 \n",
      "urb_inf__1.0 :  0.78470  OR: 2.19 \n",
      "crime        :  0.61066  OR: 1.84 \n",
      "vets         :  0.56519  OR: 1.76 \n",
      "unemp_change :  0.49094  OR: 1.63 \n",
      "degree+      :  0.35392  OR: 1.42 \n",
      "urb_inf__10. :  0.12858  OR: 1.14 \n",
      "urb_inf__3.0 :  0.09787  OR: 1.10 \n",
      "urb_inf__7.0 :  0.09532  OR: 1.10 \n",
      "urb_inf__11. :  0.08436  OR: 1.09 \n",
      "urb_inf__2.0 :  0.04876  OR: 1.05 \n",
      "foreign_07   :  0.00000  OR: 1.00 \n",
      "urb_inf__4.0 :  0.00000  OR: 1.00 \n",
      "foreign_inc  : -0.00172  OR: 1.00 \n",
      "hh_hisp      : -0.04202  OR: 0.96 \n",
      "pop_inc      : -0.06472  OR: 0.94 \n",
      "urb_inf__12. : -0.26275  OR: 0.77 \n",
      "urb_inf__9.0 : -0.30283  OR: 0.74 \n",
      "pov_change   : -0.32699  OR: 0.72 \n",
      "urb_inf__6.0 : -0.50483  OR: 0.60 \n",
      "urb_inf__8.0 : -0.52231  OR: 0.59 \n",
      "hh_afr_am    : -0.77844  OR: 0.46 \n",
      "urb_inf__5.0 : -1.20987  OR: 0.30 \n"
     ]
    }
   ],
   "source": [
    "feature_rank = zip(X_train.columns, model.best_estimator_.coef_[0])\n",
    "results = sorted(feature_rank, key=lambda tup: tup[1], reverse=True)\n",
    "for f, r in results:\n",
    "    print('{:13.12}: {:8.5f}  OR:{:5.2f} '.format(f, r, np.exp(r)))\n"
   ]
  },
  {
   "cell_type": "code",
   "execution_count": 1667,
   "metadata": {
    "collapsed": false,
    "deletable": true,
    "editable": true
   },
   "outputs": [
    {
     "data": {
      "text/plain": [
       "array([ 0.92706082,  0.3539223 , -0.06472313, -0.00172208,  0.49094124,\n",
       "       -0.32698916, -0.77843754, -0.04202352,  0.94215895,  0.        ,\n",
       "        0.56519276,  0.61066334,  0.78470151,  0.04875627,  0.09786984,\n",
       "        0.        , -1.2098678 , -0.50483155,  0.0953173 , -0.52230635,\n",
       "       -0.3028268 ,  0.12858273,  0.08435988, -0.26275136])"
      ]
     },
     "execution_count": 1667,
     "metadata": {},
     "output_type": "execute_result"
    }
   ],
   "source": [
    "model.best_estimator_.coef_[0]"
   ]
  },
  {
   "cell_type": "code",
   "execution_count": null,
   "metadata": {
    "collapsed": true,
    "deletable": true,
    "editable": true
   },
   "outputs": [],
   "source": []
  }
 ],
 "metadata": {
  "kernelspec": {
   "display_name": "Python 3",
   "language": "python",
   "name": "python3"
  },
  "language_info": {
   "codemirror_mode": {
    "name": "ipython",
    "version": 3
   },
   "file_extension": ".py",
   "mimetype": "text/x-python",
   "name": "python",
   "nbconvert_exporter": "python",
   "pygments_lexer": "ipython3",
   "version": "3.6.0"
  }
 },
 "nbformat": 4,
 "nbformat_minor": 2
}
