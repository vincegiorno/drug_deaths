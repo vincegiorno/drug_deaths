{
 "cells": [
  {
   "cell_type": "code",
   "execution_count": 851,
   "metadata": {
    "collapsed": false,
    "deletable": true,
    "editable": true
   },
   "outputs": [],
   "source": [
    "import numpy as np\n",
    "import pandas as pd\n",
    "import matplotlib.pyplot as plt\n",
    "import seaborn as sns\n",
    "\n",
    "%matplotlib inline"
   ]
  },
  {
   "cell_type": "code",
   "execution_count": 852,
   "metadata": {
    "collapsed": true,
    "deletable": true,
    "editable": true
   },
   "outputs": [],
   "source": [
    "data = pd.read_excel('data/Education.xls', skiprows=range(4), usecols=['FIPS Code',\n",
    "                                                'State', 'Area name',\n",
    "                                                'Percent of adults with less than a high school diploma, 2012-2016',\n",
    "                                                'Percent of adults with a bachelor\\'s degree or higher, 2012-2016'],\n",
    "                        converters={'FIPS Code': str})"
   ]
  },
  {
   "cell_type": "code",
   "execution_count": 853,
   "metadata": {
    "collapsed": true,
    "deletable": true,
    "editable": true
   },
   "outputs": [],
   "source": [
    "data.columns=['FIPS', 'state', 'name', '< diploma', 'degree+']"
   ]
  },
  {
   "cell_type": "markdown",
   "metadata": {
    "deletable": true,
    "editable": true
   },
   "source": [
    "Percentages of people who did not get a high school diploma and who got a bachelor's degree or higher."
   ]
  },
  {
   "cell_type": "code",
   "execution_count": 854,
   "metadata": {
    "collapsed": false,
    "deletable": true,
    "editable": true
   },
   "outputs": [
    {
     "data": {
      "text/html": [
       "<div>\n",
       "<table border=\"1\" class=\"dataframe\">\n",
       "  <thead>\n",
       "    <tr style=\"text-align: right;\">\n",
       "      <th></th>\n",
       "      <th>FIPS</th>\n",
       "      <th>state</th>\n",
       "      <th>name</th>\n",
       "      <th>&lt; diploma</th>\n",
       "      <th>degree+</th>\n",
       "    </tr>\n",
       "  </thead>\n",
       "  <tbody>\n",
       "    <tr>\n",
       "      <th>0</th>\n",
       "      <td>00000</td>\n",
       "      <td>US</td>\n",
       "      <td>United States</td>\n",
       "      <td>13.021</td>\n",
       "      <td>30.315</td>\n",
       "    </tr>\n",
       "    <tr>\n",
       "      <th>1</th>\n",
       "      <td>01000</td>\n",
       "      <td>AL</td>\n",
       "      <td>Alabama</td>\n",
       "      <td>15.209</td>\n",
       "      <td>24.010</td>\n",
       "    </tr>\n",
       "    <tr>\n",
       "      <th>2</th>\n",
       "      <td>01001</td>\n",
       "      <td>AL</td>\n",
       "      <td>Autauga County</td>\n",
       "      <td>12.417</td>\n",
       "      <td>24.593</td>\n",
       "    </tr>\n",
       "    <tr>\n",
       "      <th>3</th>\n",
       "      <td>01003</td>\n",
       "      <td>AL</td>\n",
       "      <td>Baldwin County</td>\n",
       "      <td>9.972</td>\n",
       "      <td>29.547</td>\n",
       "    </tr>\n",
       "    <tr>\n",
       "      <th>4</th>\n",
       "      <td>01005</td>\n",
       "      <td>AL</td>\n",
       "      <td>Barbour County</td>\n",
       "      <td>26.236</td>\n",
       "      <td>12.868</td>\n",
       "    </tr>\n",
       "  </tbody>\n",
       "</table>\n",
       "</div>"
      ],
      "text/plain": [
       "    FIPS state            name  < diploma  degree+\n",
       "0  00000    US   United States     13.021   30.315\n",
       "1  01000    AL         Alabama     15.209   24.010\n",
       "2  01001    AL  Autauga County     12.417   24.593\n",
       "3  01003    AL  Baldwin County      9.972   29.547\n",
       "4  01005    AL  Barbour County     26.236   12.868"
      ]
     },
     "execution_count": 854,
     "metadata": {},
     "output_type": "execute_result"
    }
   ],
   "source": [
    "data.head()"
   ]
  },
  {
   "cell_type": "code",
   "execution_count": 855,
   "metadata": {
    "collapsed": true,
    "deletable": true,
    "editable": true
   },
   "outputs": [],
   "source": [
    "data['FIPS'] = data['FIPS'].apply(lambda x: x if x[2:5] != '000' else 'not county') # mark rows for US and states"
   ]
  },
  {
   "cell_type": "code",
   "execution_count": 856,
   "metadata": {
    "collapsed": true,
    "deletable": true,
    "editable": true
   },
   "outputs": [],
   "source": [
    "data = data[data['FIPS'] != 'not county']"
   ]
  },
  {
   "cell_type": "code",
   "execution_count": 857,
   "metadata": {
    "collapsed": true,
    "deletable": true,
    "editable": true
   },
   "outputs": [],
   "source": [
    "data = data[data['FIPS'] < '57000'] # remove Puerto Rico counties, which would be outliers for several features"
   ]
  },
  {
   "cell_type": "code",
   "execution_count": 858,
   "metadata": {
    "collapsed": false,
    "deletable": true,
    "editable": true
   },
   "outputs": [
    {
     "data": {
      "text/html": [
       "<div>\n",
       "<table border=\"1\" class=\"dataframe\">\n",
       "  <thead>\n",
       "    <tr style=\"text-align: right;\">\n",
       "      <th></th>\n",
       "      <th>FIPS</th>\n",
       "      <th>state</th>\n",
       "      <th>name</th>\n",
       "      <th>&lt; diploma</th>\n",
       "      <th>degree+</th>\n",
       "    </tr>\n",
       "  </thead>\n",
       "  <tbody>\n",
       "    <tr>\n",
       "      <th>2</th>\n",
       "      <td>01001</td>\n",
       "      <td>AL</td>\n",
       "      <td>Autauga County</td>\n",
       "      <td>12.417</td>\n",
       "      <td>24.593</td>\n",
       "    </tr>\n",
       "    <tr>\n",
       "      <th>3</th>\n",
       "      <td>01003</td>\n",
       "      <td>AL</td>\n",
       "      <td>Baldwin County</td>\n",
       "      <td>9.972</td>\n",
       "      <td>29.547</td>\n",
       "    </tr>\n",
       "    <tr>\n",
       "      <th>4</th>\n",
       "      <td>01005</td>\n",
       "      <td>AL</td>\n",
       "      <td>Barbour County</td>\n",
       "      <td>26.236</td>\n",
       "      <td>12.868</td>\n",
       "    </tr>\n",
       "    <tr>\n",
       "      <th>5</th>\n",
       "      <td>01007</td>\n",
       "      <td>AL</td>\n",
       "      <td>Bibb County</td>\n",
       "      <td>19.302</td>\n",
       "      <td>12.000</td>\n",
       "    </tr>\n",
       "    <tr>\n",
       "      <th>6</th>\n",
       "      <td>01009</td>\n",
       "      <td>AL</td>\n",
       "      <td>Blount County</td>\n",
       "      <td>19.969</td>\n",
       "      <td>13.050</td>\n",
       "    </tr>\n",
       "  </tbody>\n",
       "</table>\n",
       "</div>"
      ],
      "text/plain": [
       "    FIPS state            name  < diploma  degree+\n",
       "2  01001    AL  Autauga County     12.417   24.593\n",
       "3  01003    AL  Baldwin County      9.972   29.547\n",
       "4  01005    AL  Barbour County     26.236   12.868\n",
       "5  01007    AL     Bibb County     19.302   12.000\n",
       "6  01009    AL   Blount County     19.969   13.050"
      ]
     },
     "execution_count": 858,
     "metadata": {},
     "output_type": "execute_result"
    }
   ],
   "source": [
    "data.head()"
   ]
  },
  {
   "cell_type": "code",
   "execution_count": 859,
   "metadata": {
    "collapsed": false,
    "deletable": true,
    "editable": true
   },
   "outputs": [
    {
     "data": {
      "text/html": [
       "<div>\n",
       "<table border=\"1\" class=\"dataframe\">\n",
       "  <thead>\n",
       "    <tr style=\"text-align: right;\">\n",
       "      <th></th>\n",
       "      <th>FIPS</th>\n",
       "      <th>state</th>\n",
       "      <th>name</th>\n",
       "      <th>&lt; diploma</th>\n",
       "      <th>degree+</th>\n",
       "    </tr>\n",
       "  </thead>\n",
       "  <tbody>\n",
       "    <tr>\n",
       "      <th>3199</th>\n",
       "      <td>56037</td>\n",
       "      <td>WY</td>\n",
       "      <td>Sweetwater County</td>\n",
       "      <td>9.315</td>\n",
       "      <td>21.371</td>\n",
       "    </tr>\n",
       "    <tr>\n",
       "      <th>3200</th>\n",
       "      <td>56039</td>\n",
       "      <td>WY</td>\n",
       "      <td>Teton County</td>\n",
       "      <td>4.634</td>\n",
       "      <td>53.788</td>\n",
       "    </tr>\n",
       "    <tr>\n",
       "      <th>3201</th>\n",
       "      <td>56041</td>\n",
       "      <td>WY</td>\n",
       "      <td>Uinta County</td>\n",
       "      <td>10.361</td>\n",
       "      <td>18.207</td>\n",
       "    </tr>\n",
       "    <tr>\n",
       "      <th>3202</th>\n",
       "      <td>56043</td>\n",
       "      <td>WY</td>\n",
       "      <td>Washakie County</td>\n",
       "      <td>12.577</td>\n",
       "      <td>21.076</td>\n",
       "    </tr>\n",
       "    <tr>\n",
       "      <th>3203</th>\n",
       "      <td>56045</td>\n",
       "      <td>WY</td>\n",
       "      <td>Weston County</td>\n",
       "      <td>8.592</td>\n",
       "      <td>18.807</td>\n",
       "    </tr>\n",
       "  </tbody>\n",
       "</table>\n",
       "</div>"
      ],
      "text/plain": [
       "       FIPS state               name  < diploma  degree+\n",
       "3199  56037    WY  Sweetwater County      9.315   21.371\n",
       "3200  56039    WY       Teton County      4.634   53.788\n",
       "3201  56041    WY       Uinta County     10.361   18.207\n",
       "3202  56043    WY    Washakie County     12.577   21.076\n",
       "3203  56045    WY      Weston County      8.592   18.807"
      ]
     },
     "execution_count": 859,
     "metadata": {},
     "output_type": "execute_result"
    }
   ],
   "source": [
    "data.tail()"
   ]
  },
  {
   "cell_type": "code",
   "execution_count": 860,
   "metadata": {
    "collapsed": true,
    "deletable": true,
    "editable": true
   },
   "outputs": [],
   "source": [
    "population = pd.read_excel('data/Population.xls', skiprows=range(2), usecols=['FIPS','Urban_Influence_Code_2013',\n",
    "                                                                              'CENSUS_2010_POP','POP_ESTIMATE_2014',\n",
    "                                                                              'INTERNATIONALMIG_2010',\n",
    "                                                                              'INTERNATIONALMIG-2011',\n",
    "                                                                              'INTERNATIONAL_MIG_2012',\n",
    "                                                                              'INTERNATIONAL_MIG_2013'],\n",
    "                           converters={'FIPS': str, 'Urban_Influence_Code_2013': str})"
   ]
  },
  {
   "cell_type": "markdown",
   "metadata": {
    "deletable": true,
    "editable": true
   },
   "source": [
    "*Note: The urban influence code is not a smooth scale from 1 = most urban to 12 = least urban. It includes several categories of county — metropolitan, suburban, rural — and then ranks within each category. So it must be treted as categorical.*"
   ]
  },
  {
   "cell_type": "code",
   "execution_count": 861,
   "metadata": {
    "collapsed": true,
    "deletable": true,
    "editable": true
   },
   "outputs": [],
   "source": [
    "population.columns = ['FIPS', 'urban_inf', 'pop_2010', 'pop_2014', 'im1', 'im2', 'im3', 'im4']"
   ]
  },
  {
   "cell_type": "markdown",
   "metadata": {
    "deletable": true,
    "editable": true
   },
   "source": [
    "The urban influence code \"distinguishes metropolitan counties by population size of their metro area, and nonmetropolitan counties by size of the largest city or town and proximity to metro and micropolitan areas.\" Lower numbers are more urban. The other features being consteucted here are the change in poulation between 2010 and 2014, and the change in the international migrant population relative to the overall change. "
   ]
  },
  {
   "cell_type": "code",
   "execution_count": 862,
   "metadata": {
    "collapsed": true,
    "deletable": true,
    "editable": true
   },
   "outputs": [],
   "source": [
    "population['pop_inc'] = (population['pop_2014'] - population['pop_2010']) / population['pop_2010']"
   ]
  },
  {
   "cell_type": "code",
   "execution_count": 863,
   "metadata": {
    "collapsed": true,
    "deletable": true,
    "editable": true
   },
   "outputs": [],
   "source": [
    "population['foreign_inc'] = (population['im1'] + population['im2'] + population['im3'] + population['im4']\n",
    "                            ) / (population['pop_2014'] - population['pop_2010'])"
   ]
  },
  {
   "cell_type": "code",
   "execution_count": 864,
   "metadata": {
    "collapsed": true,
    "deletable": true,
    "editable": true
   },
   "outputs": [],
   "source": [
    "add_pop = population.drop(['pop_2010', 'im1', 'im2', 'im3', 'im4'], axis=1)"
   ]
  },
  {
   "cell_type": "code",
   "execution_count": 865,
   "metadata": {
    "collapsed": false,
    "deletable": true,
    "editable": true
   },
   "outputs": [
    {
     "data": {
      "text/html": [
       "<div>\n",
       "<table border=\"1\" class=\"dataframe\">\n",
       "  <thead>\n",
       "    <tr style=\"text-align: right;\">\n",
       "      <th></th>\n",
       "      <th>FIPS</th>\n",
       "      <th>urban_inf</th>\n",
       "      <th>pop_2014</th>\n",
       "      <th>pop_inc</th>\n",
       "      <th>foreign_inc</th>\n",
       "    </tr>\n",
       "  </thead>\n",
       "  <tbody>\n",
       "    <tr>\n",
       "      <th>0</th>\n",
       "      <td>00000</td>\n",
       "      <td>NaN</td>\n",
       "      <td>318622525</td>\n",
       "      <td>0.031991</td>\n",
       "      <td>0.289381</td>\n",
       "    </tr>\n",
       "    <tr>\n",
       "      <th>1</th>\n",
       "      <td>01000</td>\n",
       "      <td>NaN</td>\n",
       "      <td>4840037</td>\n",
       "      <td>0.012616</td>\n",
       "      <td>0.232285</td>\n",
       "    </tr>\n",
       "    <tr>\n",
       "      <th>2</th>\n",
       "      <td>01001</td>\n",
       "      <td>2</td>\n",
       "      <td>54864</td>\n",
       "      <td>0.005369</td>\n",
       "      <td>0.040956</td>\n",
       "    </tr>\n",
       "    <tr>\n",
       "      <th>3</th>\n",
       "      <td>01003</td>\n",
       "      <td>2</td>\n",
       "      <td>199064</td>\n",
       "      <td>0.092168</td>\n",
       "      <td>0.030359</td>\n",
       "    </tr>\n",
       "    <tr>\n",
       "      <th>4</th>\n",
       "      <td>01005</td>\n",
       "      <td>6</td>\n",
       "      <td>26749</td>\n",
       "      <td>-0.025786</td>\n",
       "      <td>0.033898</td>\n",
       "    </tr>\n",
       "    <tr>\n",
       "      <th>5</th>\n",
       "      <td>01007</td>\n",
       "      <td>1</td>\n",
       "      <td>22533</td>\n",
       "      <td>-0.016670</td>\n",
       "      <td>-0.102094</td>\n",
       "    </tr>\n",
       "  </tbody>\n",
       "</table>\n",
       "</div>"
      ],
      "text/plain": [
       "    FIPS urban_inf   pop_2014   pop_inc  foreign_inc\n",
       "0  00000       NaN  318622525  0.031991     0.289381\n",
       "1  01000       NaN    4840037  0.012616     0.232285\n",
       "2  01001         2      54864  0.005369     0.040956\n",
       "3  01003         2     199064  0.092168     0.030359\n",
       "4  01005         6      26749 -0.025786     0.033898\n",
       "5  01007         1      22533 -0.016670    -0.102094"
      ]
     },
     "execution_count": 865,
     "metadata": {},
     "output_type": "execute_result"
    }
   ],
   "source": [
    "add_pop.head(6)"
   ]
  },
  {
   "cell_type": "markdown",
   "metadata": {
    "deletable": true,
    "editable": true
   },
   "source": [
    "Where the population increase is negative, the foreign increase must be multiplied by -1 so that the division in the calculation does not turn a positive foreign increase negative and vice-versa."
   ]
  },
  {
   "cell_type": "code",
   "execution_count": 866,
   "metadata": {
    "collapsed": true,
    "deletable": true,
    "editable": true
   },
   "outputs": [],
   "source": [
    "add_pop['foreign_inc'] = add_pop['foreign_inc'] * (add_pop['pop_inc'] / abs(add_pop['pop_inc']))"
   ]
  },
  {
   "cell_type": "code",
   "execution_count": 867,
   "metadata": {
    "collapsed": false,
    "deletable": true,
    "editable": true
   },
   "outputs": [
    {
     "data": {
      "text/html": [
       "<div>\n",
       "<table border=\"1\" class=\"dataframe\">\n",
       "  <thead>\n",
       "    <tr style=\"text-align: right;\">\n",
       "      <th></th>\n",
       "      <th>FIPS</th>\n",
       "      <th>urban_inf</th>\n",
       "      <th>pop_2014</th>\n",
       "      <th>pop_inc</th>\n",
       "      <th>foreign_inc</th>\n",
       "    </tr>\n",
       "  </thead>\n",
       "  <tbody>\n",
       "    <tr>\n",
       "      <th>0</th>\n",
       "      <td>00000</td>\n",
       "      <td>NaN</td>\n",
       "      <td>318622525</td>\n",
       "      <td>0.031991</td>\n",
       "      <td>0.289381</td>\n",
       "    </tr>\n",
       "    <tr>\n",
       "      <th>1</th>\n",
       "      <td>01000</td>\n",
       "      <td>NaN</td>\n",
       "      <td>4840037</td>\n",
       "      <td>0.012616</td>\n",
       "      <td>0.232285</td>\n",
       "    </tr>\n",
       "    <tr>\n",
       "      <th>2</th>\n",
       "      <td>01001</td>\n",
       "      <td>2</td>\n",
       "      <td>54864</td>\n",
       "      <td>0.005369</td>\n",
       "      <td>0.040956</td>\n",
       "    </tr>\n",
       "    <tr>\n",
       "      <th>3</th>\n",
       "      <td>01003</td>\n",
       "      <td>2</td>\n",
       "      <td>199064</td>\n",
       "      <td>0.092168</td>\n",
       "      <td>0.030359</td>\n",
       "    </tr>\n",
       "    <tr>\n",
       "      <th>4</th>\n",
       "      <td>01005</td>\n",
       "      <td>6</td>\n",
       "      <td>26749</td>\n",
       "      <td>-0.025786</td>\n",
       "      <td>-0.033898</td>\n",
       "    </tr>\n",
       "    <tr>\n",
       "      <th>5</th>\n",
       "      <td>01007</td>\n",
       "      <td>1</td>\n",
       "      <td>22533</td>\n",
       "      <td>-0.016670</td>\n",
       "      <td>0.102094</td>\n",
       "    </tr>\n",
       "  </tbody>\n",
       "</table>\n",
       "</div>"
      ],
      "text/plain": [
       "    FIPS urban_inf   pop_2014   pop_inc  foreign_inc\n",
       "0  00000       NaN  318622525  0.031991     0.289381\n",
       "1  01000       NaN    4840037  0.012616     0.232285\n",
       "2  01001         2      54864  0.005369     0.040956\n",
       "3  01003         2     199064  0.092168     0.030359\n",
       "4  01005         6      26749 -0.025786    -0.033898\n",
       "5  01007         1      22533 -0.016670     0.102094"
      ]
     },
     "execution_count": 867,
     "metadata": {},
     "output_type": "execute_result"
    }
   ],
   "source": [
    "add_pop.head(6)"
   ]
  },
  {
   "cell_type": "code",
   "execution_count": 868,
   "metadata": {
    "collapsed": true,
    "deletable": true,
    "editable": true
   },
   "outputs": [],
   "source": [
    "data = data.set_index('FIPS').join(add_pop.set_index('FIPS'))"
   ]
  },
  {
   "cell_type": "code",
   "execution_count": 869,
   "metadata": {
    "collapsed": false,
    "deletable": true,
    "editable": true
   },
   "outputs": [],
   "source": [
    "unemployment = pd.read_excel('data/Unemployment.xls', skiprows=range(7), usecols=['FIPStxt', 'Unemployment_rate_2014'],\n",
    "                            converters={'FIPStxt': str})\n",
    "unemployment.columns = ['FIPS', 'unemployment']\n",
    "unemployment = unemployment.set_index('FIPS')\n",
    "unemployment2 = pd.read_excel('data/CLF01.xls', sheetname='Sheet9', usecols=['STCOU', 'CLF040210D'], converters={'STCOU': str})\n",
    "unemployment2.columns = ['FIPS', 'unemployment_2009']\n",
    "unemployment = unemployment.join(unemployment2.set_index('FIPS'))\n",
    "unemployment['unemp_change'] = unemployment['unemployment_2009'] - unemployment['unemployment']\n",
    "data = data.join(unemployment.drop('unemployment_2009', axis=1))"
   ]
  },
  {
   "cell_type": "markdown",
   "metadata": {
    "deletable": true,
    "editable": true
   },
   "source": [
    "The features are the unemployment rate in 2014 and the change in that rate from 2009."
   ]
  },
  {
   "cell_type": "code",
   "execution_count": 870,
   "metadata": {
    "collapsed": true,
    "deletable": true,
    "editable": true
   },
   "outputs": [],
   "source": [
    "poverty = pd.read_excel('data/Poverty.xls', skiprows=range(2), usecols = ['FIPStxt',\n",
    "                                                                         'PCTPOVALL_2014','MEDHHINC_2014'],\n",
    "                       converters={'FIPStxt': str})\n",
    "poverty.columns = ['FIPS', 'poverty', 'median_hh_inc'] # poverty rate and median household income\n",
    "poverty = poverty.set_index('FIPS')\n",
    "poverty2 = pd.read_excel('data/IPE01.xls', sheetname='Sheet5', usecols=['STCOU', 'IPE120209D'], converters={'STCOU': str})\n",
    "poverty2.columns = ['FIPS', 'poverty_2009']\n",
    "poverty = poverty.join(poverty2.set_index('FIPS'))\n",
    "poverty['pov_change'] = poverty['poverty_2009'] - poverty['poverty']\n",
    "data = data.join(poverty.drop('poverty_2009', axis=1))"
   ]
  },
  {
   "cell_type": "markdown",
   "metadata": {
    "deletable": true,
    "editable": true
   },
   "source": [
    "Similarly, the poverty rate in 2014 and the change from 2009."
   ]
  },
  {
   "cell_type": "code",
   "execution_count": 871,
   "metadata": {
    "collapsed": true,
    "deletable": true,
    "editable": true
   },
   "outputs": [],
   "source": [
    "age = pd.read_excel('data/AGE01.xls', sheetname='Sheet2', usecols=['STCOU', 'AGE050210D'], converters={'STCOU': str})\n",
    "age.columns = ['FIPS', 'median_age']\n",
    "data = data.join(age.set_index('FIPS'))"
   ]
  },
  {
   "cell_type": "code",
   "execution_count": 872,
   "metadata": {
    "collapsed": true,
    "deletable": true,
    "editable": true
   },
   "outputs": [],
   "source": [
    "households1 = pd.read_excel('data/HSG02.xls', sheetname='HSG02D', usecols=['HSG200210D'])\n",
    "households2 = pd.read_excel('data/HSG02.xls', sheetname='HSG02E', usecols=['STCOU', 'HSG215210D', 'HSG220210D'],\n",
    "                          converters={'STCOU': str})\n",
    "households2.columns = ['FIPS', 'hh_afr_am', 'hh_hisp']"
   ]
  },
  {
   "cell_type": "markdown",
   "metadata": {
    "deletable": true,
    "editable": true
   },
   "source": [
    "Divide the numbers of households headed by African-Americans and Hispanics by the total number of households to get percentages."
   ]
  },
  {
   "cell_type": "code",
   "execution_count": 873,
   "metadata": {
    "collapsed": true,
    "deletable": true,
    "editable": true
   },
   "outputs": [],
   "source": [
    "households2.loc[:, ['hh_afr_am', 'hh_hisp']] = households2[['hh_afr_am', 'hh_hisp']].div(households1['HSG200210D'], axis=0)\n",
    "data = data.join(households2.set_index('FIPS'))"
   ]
  },
  {
   "cell_type": "code",
   "execution_count": 874,
   "metadata": {
    "collapsed": true,
    "deletable": true,
    "editable": true
   },
   "outputs": [],
   "source": [
    "hh_07 = pd.read_excel('data/HSD01.xls', sheetname='HSD01I', usecols=['HSD410209D'])"
   ]
  },
  {
   "cell_type": "code",
   "execution_count": 875,
   "metadata": {
    "collapsed": true,
    "deletable": true,
    "editable": true
   },
   "outputs": [],
   "source": [
    "hh_female = pd.read_excel('data/HSD02.xls', sheetname='HSD02B', usecols=['STCOU', 'HSD570209D'],\n",
    "                          converters={'STCOU': str})"
   ]
  },
  {
   "cell_type": "code",
   "execution_count": 876,
   "metadata": {
    "collapsed": true,
    "deletable": true,
    "editable": true
   },
   "outputs": [],
   "source": [
    "hh_female.columns = ['FIPS', 'hh_female']\n",
    "hh_female.loc[:, 'hh_female'] = hh_female['hh_female'] / hh_07['HSD410209D']"
   ]
  },
  {
   "cell_type": "code",
   "execution_count": 877,
   "metadata": {
    "collapsed": true,
    "deletable": true,
    "editable": true
   },
   "outputs": [],
   "source": [
    "hh_food_st = pd.read_excel('data/INC01.xls', sheetname='INC01J', usecols=['STCOU', 'INC454209D'],\n",
    "                          converters={'STCOU': str})"
   ]
  },
  {
   "cell_type": "code",
   "execution_count": 878,
   "metadata": {
    "collapsed": true,
    "deletable": true,
    "editable": true
   },
   "outputs": [],
   "source": [
    "hh_food_st.columns = ['FIPS', 'hh_food_st']\n",
    "hh_food_st.loc[:, 'hh_food_st'] = hh_food_st['hh_food_st'] / hh_07['HSD410209D']"
   ]
  },
  {
   "cell_type": "code",
   "execution_count": 879,
   "metadata": {
    "collapsed": true,
    "deletable": true,
    "editable": true
   },
   "outputs": [],
   "source": [
    "data = data.join([hh_female.set_index('FIPS'), hh_food_st.set_index('FIPS')])"
   ]
  },
  {
   "cell_type": "code",
   "execution_count": 880,
   "metadata": {
    "collapsed": true,
    "deletable": true,
    "editable": true
   },
   "outputs": [],
   "source": [
    "foreign_born = pd.read_excel('data/POP02.xls', sheetname='POP02J', usecols=['STCOU', 'POP645209D'],\n",
    "                            converters={'STCOU': str})\n",
    "foreign_born.columns = ['FIPS', 'foreign_07']"
   ]
  },
  {
   "cell_type": "code",
   "execution_count": 881,
   "metadata": {
    "collapsed": true,
    "deletable": true,
    "editable": true
   },
   "outputs": [],
   "source": [
    "pop_07 = pd.read_excel('data/PST01.xls', sheetname='Sheet4', usecols=['PST045207D'])"
   ]
  },
  {
   "cell_type": "code",
   "execution_count": 882,
   "metadata": {
    "collapsed": true,
    "deletable": true,
    "editable": true
   },
   "outputs": [],
   "source": [
    "vets = pd.read_excel('data/VET01.xls', sheetname='VET01C', usecols=['STCOU', 'VET605209D', 'VET610209D'],\n",
    "                    converters={'STCOU': str})\n",
    "vets.columns = ['FIPS', 'vets', 'vets_male']"
   ]
  },
  {
   "cell_type": "code",
   "execution_count": 883,
   "metadata": {
    "collapsed": true,
    "deletable": true,
    "editable": true
   },
   "outputs": [],
   "source": [
    "vets.loc[:, 'vets'] = vets['vets'] / pop_07['PST045207D']"
   ]
  },
  {
   "cell_type": "code",
   "execution_count": 884,
   "metadata": {
    "collapsed": true,
    "deletable": true,
    "editable": true
   },
   "outputs": [],
   "source": [
    "data = data.join([foreign_born.set_index('FIPS'), vets.set_index('FIPS')])"
   ]
  },
  {
   "cell_type": "code",
   "execution_count": 885,
   "metadata": {
    "collapsed": true,
    "deletable": true,
    "editable": true
   },
   "outputs": [],
   "source": [
    "crimes = pd.read_csv('data/Crime.tsv', sep='\\t', usecols=['FIPS_ST', 'FIPS_CTY', 'VIOL', 'PROPERTY'],\n",
    "                    converters={'FIPS_ST': str, 'FIPS_CTY': str, 'VIOL': float, 'PROPERTY': float}, engine='python')"
   ]
  },
  {
   "cell_type": "code",
   "execution_count": 886,
   "metadata": {
    "collapsed": false,
    "deletable": true,
    "editable": true
   },
   "outputs": [
    {
     "data": {
      "text/html": [
       "<div>\n",
       "<table border=\"1\" class=\"dataframe\">\n",
       "  <thead>\n",
       "    <tr style=\"text-align: right;\">\n",
       "      <th></th>\n",
       "      <th>FIPS_ST</th>\n",
       "      <th>FIPS_CTY</th>\n",
       "      <th>viol_crime</th>\n",
       "      <th>prop_crime</th>\n",
       "    </tr>\n",
       "  </thead>\n",
       "  <tbody>\n",
       "    <tr>\n",
       "      <th>0</th>\n",
       "      <td>1</td>\n",
       "      <td>1</td>\n",
       "      <td>144.0</td>\n",
       "      <td>1625.0</td>\n",
       "    </tr>\n",
       "    <tr>\n",
       "      <th>1</th>\n",
       "      <td>1</td>\n",
       "      <td>3</td>\n",
       "      <td>373.0</td>\n",
       "      <td>4060.0</td>\n",
       "    </tr>\n",
       "    <tr>\n",
       "      <th>2</th>\n",
       "      <td>1</td>\n",
       "      <td>5</td>\n",
       "      <td>97.0</td>\n",
       "      <td>660.0</td>\n",
       "    </tr>\n",
       "    <tr>\n",
       "      <th>3</th>\n",
       "      <td>1</td>\n",
       "      <td>7</td>\n",
       "      <td>23.0</td>\n",
       "      <td>227.0</td>\n",
       "    </tr>\n",
       "    <tr>\n",
       "      <th>4</th>\n",
       "      <td>1</td>\n",
       "      <td>9</td>\n",
       "      <td>125.0</td>\n",
       "      <td>1270.0</td>\n",
       "    </tr>\n",
       "  </tbody>\n",
       "</table>\n",
       "</div>"
      ],
      "text/plain": [
       "  FIPS_ST FIPS_CTY  viol_crime  prop_crime\n",
       "0       1        1       144.0      1625.0\n",
       "1       1        3       373.0      4060.0\n",
       "2       1        5        97.0       660.0\n",
       "3       1        7        23.0       227.0\n",
       "4       1        9       125.0      1270.0"
      ]
     },
     "execution_count": 886,
     "metadata": {},
     "output_type": "execute_result"
    }
   ],
   "source": [
    "crimes.columns = ['FIPS_ST', 'FIPS_CTY', 'viol_crime', 'prop_crime']\n",
    "crimes.head()"
   ]
  },
  {
   "cell_type": "code",
   "execution_count": 887,
   "metadata": {
    "collapsed": true,
    "deletable": true,
    "editable": true
   },
   "outputs": [],
   "source": [
    "crimes['FIPS_ST'] = crimes['FIPS_ST'].apply(lambda x: '0' * (2 - len(x)) + x)"
   ]
  },
  {
   "cell_type": "code",
   "execution_count": 888,
   "metadata": {
    "collapsed": true,
    "deletable": true,
    "editable": true
   },
   "outputs": [],
   "source": [
    "crimes['FIPS_CTY'] = crimes['FIPS_CTY'].apply(lambda x: '0' * (3 - len(x)) + x)"
   ]
  },
  {
   "cell_type": "code",
   "execution_count": 889,
   "metadata": {
    "collapsed": true,
    "deletable": true,
    "editable": true
   },
   "outputs": [],
   "source": [
    "crimes['FIPS'] = crimes['FIPS_ST'] + crimes['FIPS_CTY']"
   ]
  },
  {
   "cell_type": "code",
   "execution_count": 890,
   "metadata": {
    "collapsed": true,
    "deletable": true,
    "editable": true
   },
   "outputs": [],
   "source": [
    "data = data.join(crimes.drop(['FIPS_ST', 'FIPS_CTY'], axis=1).set_index('FIPS'))"
   ]
  },
  {
   "cell_type": "code",
   "execution_count": 891,
   "metadata": {
    "collapsed": true,
    "deletable": true,
    "editable": true
   },
   "outputs": [],
   "source": [
    "data.loc[:, ['viol_crime', 'prop_crime']] = data[['viol_crime', 'prop_crime']].div(data['pop_2014'], axis=0)"
   ]
  },
  {
   "cell_type": "code",
   "execution_count": 892,
   "metadata": {
    "collapsed": false,
    "deletable": true,
    "editable": true
   },
   "outputs": [
    {
     "data": {
      "text/plain": [
       "state             0\n",
       "name              0\n",
       "< diploma        10\n",
       "degree+          10\n",
       "urban_inf        10\n",
       "pop_2014         10\n",
       "pop_inc          10\n",
       "foreign_inc      13\n",
       "unemployment     11\n",
       "unemp_change     13\n",
       "poverty          13\n",
       "median_hh_inc    13\n",
       "pov_change       13\n",
       "median_age        9\n",
       "hh_afr_am        11\n",
       "hh_hisp          11\n",
       "hh_female        11\n",
       "hh_food_st       11\n",
       "foreign_07        9\n",
       "vets             11\n",
       "vets_male         9\n",
       "viol_crime       18\n",
       "prop_crime       18\n",
       "dtype: int64"
      ]
     },
     "execution_count": 892,
     "metadata": {},
     "output_type": "execute_result"
    }
   ],
   "source": [
    "data.isnull().sum()"
   ]
  },
  {
   "cell_type": "code",
   "execution_count": 893,
   "metadata": {
    "collapsed": false,
    "deletable": true,
    "editable": true
   },
   "outputs": [
    {
     "data": {
      "text/plain": [
       "3130"
      ]
     },
     "execution_count": 893,
     "metadata": {},
     "output_type": "execute_result"
    }
   ],
   "source": [
    "len(data.dropna())"
   ]
  },
  {
   "cell_type": "code",
   "execution_count": 894,
   "metadata": {
    "collapsed": false,
    "deletable": true,
    "editable": true
   },
   "outputs": [
    {
     "data": {
      "text/plain": [
       "3152"
      ]
     },
     "execution_count": 894,
     "metadata": {},
     "output_type": "execute_result"
    }
   ],
   "source": [
    "len(data)"
   ]
  },
  {
   "cell_type": "markdown",
   "metadata": {
    "deletable": true,
    "editable": true
   },
   "source": [
    "Many of the missing values occur in records missing multiple values, and dropping all of them would only reduce the number of records from 3,152 to 3,130, so drop them."
   ]
  },
  {
   "cell_type": "code",
   "execution_count": 895,
   "metadata": {
    "collapsed": true,
    "deletable": true,
    "editable": true
   },
   "outputs": [],
   "source": [
    "data = data.dropna()"
   ]
  },
  {
   "cell_type": "code",
   "execution_count": 896,
   "metadata": {
    "collapsed": false,
    "deletable": true,
    "editable": true
   },
   "outputs": [
    {
     "data": {
      "text/plain": [
       "state              0\n",
       "name               0\n",
       "< diploma          0\n",
       "degree+            0\n",
       "urban_inf          0\n",
       "pop_2014           0\n",
       "pop_inc            0\n",
       "foreign_inc      156\n",
       "unemployment       0\n",
       "unemp_change      11\n",
       "poverty            0\n",
       "median_hh_inc      0\n",
       "pov_change        61\n",
       "median_age         0\n",
       "hh_afr_am         85\n",
       "hh_hisp            4\n",
       "hh_female          2\n",
       "hh_food_st         3\n",
       "foreign_07        33\n",
       "vets               0\n",
       "vets_male          0\n",
       "viol_crime       163\n",
       "prop_crime       100\n",
       "dtype: int64"
      ]
     },
     "execution_count": 896,
     "metadata": {},
     "output_type": "execute_result"
    }
   ],
   "source": [
    "(data == 0).sum()"
   ]
  },
  {
   "cell_type": "markdown",
   "metadata": {
    "deletable": true,
    "editable": true
   },
   "source": [
    "It is reasonable that these values could be zero, so proceed."
   ]
  },
  {
   "cell_type": "code",
   "execution_count": 897,
   "metadata": {
    "collapsed": false,
    "deletable": true,
    "editable": true
   },
   "outputs": [
    {
     "data": {
      "text/html": [
       "<div>\n",
       "<table border=\"1\" class=\"dataframe\">\n",
       "  <thead>\n",
       "    <tr style=\"text-align: right;\">\n",
       "      <th></th>\n",
       "      <th>&lt; diploma</th>\n",
       "      <th>degree+</th>\n",
       "      <th>pop_2014</th>\n",
       "      <th>pop_inc</th>\n",
       "      <th>foreign_inc</th>\n",
       "      <th>unemployment</th>\n",
       "      <th>unemp_change</th>\n",
       "      <th>poverty</th>\n",
       "      <th>median_hh_inc</th>\n",
       "      <th>pov_change</th>\n",
       "      <th>median_age</th>\n",
       "      <th>hh_afr_am</th>\n",
       "      <th>hh_hisp</th>\n",
       "      <th>hh_female</th>\n",
       "      <th>hh_food_st</th>\n",
       "      <th>foreign_07</th>\n",
       "      <th>vets</th>\n",
       "      <th>vets_male</th>\n",
       "      <th>viol_crime</th>\n",
       "      <th>prop_crime</th>\n",
       "    </tr>\n",
       "  </thead>\n",
       "  <tbody>\n",
       "    <tr>\n",
       "      <th>count</th>\n",
       "      <td>3130.000000</td>\n",
       "      <td>3130.000000</td>\n",
       "      <td>3.130000e+03</td>\n",
       "      <td>3130.000000</td>\n",
       "      <td>3130.000000</td>\n",
       "      <td>3130.000000</td>\n",
       "      <td>3130.000000</td>\n",
       "      <td>3130.000000</td>\n",
       "      <td>3130.000000</td>\n",
       "      <td>3130.000000</td>\n",
       "      <td>3130.000000</td>\n",
       "      <td>3130.000000</td>\n",
       "      <td>3130.000000</td>\n",
       "      <td>3130.000000</td>\n",
       "      <td>3130.000000</td>\n",
       "      <td>3130.000000</td>\n",
       "      <td>3130.000000</td>\n",
       "      <td>3130.000000</td>\n",
       "      <td>3130.000000</td>\n",
       "      <td>3130.000000</td>\n",
       "    </tr>\n",
       "    <tr>\n",
       "      <th>mean</th>\n",
       "      <td>14.203396</td>\n",
       "      <td>20.789275</td>\n",
       "      <td>1.017577e+05</td>\n",
       "      <td>0.002831</td>\n",
       "      <td>0.395946</td>\n",
       "      <td>6.235559</td>\n",
       "      <td>2.946709</td>\n",
       "      <td>16.837380</td>\n",
       "      <td>47121.392971</td>\n",
       "      <td>-0.539904</td>\n",
       "      <td>40.336102</td>\n",
       "      <td>0.081055</td>\n",
       "      <td>0.060388</td>\n",
       "      <td>0.110043</td>\n",
       "      <td>0.104072</td>\n",
       "      <td>4.242971</td>\n",
       "      <td>0.088570</td>\n",
       "      <td>94.202109</td>\n",
       "      <td>0.002291</td>\n",
       "      <td>0.018038</td>\n",
       "    </tr>\n",
       "    <tr>\n",
       "      <th>std</th>\n",
       "      <td>6.539295</td>\n",
       "      <td>9.143450</td>\n",
       "      <td>3.263767e+05</td>\n",
       "      <td>0.041968</td>\n",
       "      <td>3.043823</td>\n",
       "      <td>2.256287</td>\n",
       "      <td>1.807379</td>\n",
       "      <td>6.422444</td>\n",
       "      <td>12099.573945</td>\n",
       "      <td>2.161624</td>\n",
       "      <td>5.033958</td>\n",
       "      <td>0.138236</td>\n",
       "      <td>0.114099</td>\n",
       "      <td>0.043623</td>\n",
       "      <td>0.058290</td>\n",
       "      <td>5.475315</td>\n",
       "      <td>0.022732</td>\n",
       "      <td>3.143674</td>\n",
       "      <td>0.001968</td>\n",
       "      <td>0.011847</td>\n",
       "    </tr>\n",
       "    <tr>\n",
       "      <th>min</th>\n",
       "      <td>1.279000</td>\n",
       "      <td>2.985000</td>\n",
       "      <td>8.900000e+01</td>\n",
       "      <td>-0.177510</td>\n",
       "      <td>-6.333333</td>\n",
       "      <td>1.200000</td>\n",
       "      <td>-8.200000</td>\n",
       "      <td>3.200000</td>\n",
       "      <td>21658.000000</td>\n",
       "      <td>-15.900000</td>\n",
       "      <td>22.400000</td>\n",
       "      <td>0.000000</td>\n",
       "      <td>0.000000</td>\n",
       "      <td>0.000000</td>\n",
       "      <td>0.000000</td>\n",
       "      <td>0.000000</td>\n",
       "      <td>0.019065</td>\n",
       "      <td>65.000000</td>\n",
       "      <td>0.000000</td>\n",
       "      <td>0.000000</td>\n",
       "    </tr>\n",
       "    <tr>\n",
       "      <th>25%</th>\n",
       "      <td>9.282750</td>\n",
       "      <td>14.427500</td>\n",
       "      <td>1.102950e+04</td>\n",
       "      <td>-0.021689</td>\n",
       "      <td>0.007641</td>\n",
       "      <td>4.600000</td>\n",
       "      <td>1.700000</td>\n",
       "      <td>12.100000</td>\n",
       "      <td>38889.000000</td>\n",
       "      <td>-1.700000</td>\n",
       "      <td>37.400000</td>\n",
       "      <td>0.002661</td>\n",
       "      <td>0.009502</td>\n",
       "      <td>0.082411</td>\n",
       "      <td>0.062540</td>\n",
       "      <td>1.100000</td>\n",
       "      <td>0.074039</td>\n",
       "      <td>92.900000</td>\n",
       "      <td>0.000981</td>\n",
       "      <td>0.009866</td>\n",
       "    </tr>\n",
       "    <tr>\n",
       "      <th>50%</th>\n",
       "      <td>12.765500</td>\n",
       "      <td>18.528000</td>\n",
       "      <td>2.574250e+04</td>\n",
       "      <td>-0.004227</td>\n",
       "      <td>0.057769</td>\n",
       "      <td>6.000000</td>\n",
       "      <td>2.800000</td>\n",
       "      <td>15.800000</td>\n",
       "      <td>45227.500000</td>\n",
       "      <td>-0.500000</td>\n",
       "      <td>40.300000</td>\n",
       "      <td>0.013111</td>\n",
       "      <td>0.019849</td>\n",
       "      <td>0.103899</td>\n",
       "      <td>0.093112</td>\n",
       "      <td>2.300000</td>\n",
       "      <td>0.087159</td>\n",
       "      <td>94.600000</td>\n",
       "      <td>0.001823</td>\n",
       "      <td>0.016319</td>\n",
       "    </tr>\n",
       "    <tr>\n",
       "      <th>75%</th>\n",
       "      <td>18.292750</td>\n",
       "      <td>24.703750</td>\n",
       "      <td>6.785250e+04</td>\n",
       "      <td>0.020261</td>\n",
       "      <td>0.200482</td>\n",
       "      <td>7.500000</td>\n",
       "      <td>4.000000</td>\n",
       "      <td>20.400000</td>\n",
       "      <td>52529.750000</td>\n",
       "      <td>0.700000</td>\n",
       "      <td>43.300000</td>\n",
       "      <td>0.093166</td>\n",
       "      <td>0.053750</td>\n",
       "      <td>0.128855</td>\n",
       "      <td>0.134389</td>\n",
       "      <td>5.100000</td>\n",
       "      <td>0.100460</td>\n",
       "      <td>96.100000</td>\n",
       "      <td>0.003095</td>\n",
       "      <td>0.024298</td>\n",
       "    </tr>\n",
       "    <tr>\n",
       "      <th>max</th>\n",
       "      <td>51.479000</td>\n",
       "      <td>80.210000</td>\n",
       "      <td>1.007270e+07</td>\n",
       "      <td>0.727044</td>\n",
       "      <td>119.000000</td>\n",
       "      <td>24.000000</td>\n",
       "      <td>13.600000</td>\n",
       "      <td>47.400000</td>\n",
       "      <td>125635.000000</td>\n",
       "      <td>17.400000</td>\n",
       "      <td>62.700000</td>\n",
       "      <td>0.832707</td>\n",
       "      <td>0.955767</td>\n",
       "      <td>0.450570</td>\n",
       "      <td>0.400252</td>\n",
       "      <td>63.100000</td>\n",
       "      <td>0.297533</td>\n",
       "      <td>100.000000</td>\n",
       "      <td>0.025476</td>\n",
       "      <td>0.138286</td>\n",
       "    </tr>\n",
       "  </tbody>\n",
       "</table>\n",
       "</div>"
      ],
      "text/plain": [
       "         < diploma      degree+      pop_2014      pop_inc  foreign_inc  \\\n",
       "count  3130.000000  3130.000000  3.130000e+03  3130.000000  3130.000000   \n",
       "mean     14.203396    20.789275  1.017577e+05     0.002831     0.395946   \n",
       "std       6.539295     9.143450  3.263767e+05     0.041968     3.043823   \n",
       "min       1.279000     2.985000  8.900000e+01    -0.177510    -6.333333   \n",
       "25%       9.282750    14.427500  1.102950e+04    -0.021689     0.007641   \n",
       "50%      12.765500    18.528000  2.574250e+04    -0.004227     0.057769   \n",
       "75%      18.292750    24.703750  6.785250e+04     0.020261     0.200482   \n",
       "max      51.479000    80.210000  1.007270e+07     0.727044   119.000000   \n",
       "\n",
       "       unemployment  unemp_change      poverty  median_hh_inc   pov_change  \\\n",
       "count   3130.000000   3130.000000  3130.000000    3130.000000  3130.000000   \n",
       "mean       6.235559      2.946709    16.837380   47121.392971    -0.539904   \n",
       "std        2.256287      1.807379     6.422444   12099.573945     2.161624   \n",
       "min        1.200000     -8.200000     3.200000   21658.000000   -15.900000   \n",
       "25%        4.600000      1.700000    12.100000   38889.000000    -1.700000   \n",
       "50%        6.000000      2.800000    15.800000   45227.500000    -0.500000   \n",
       "75%        7.500000      4.000000    20.400000   52529.750000     0.700000   \n",
       "max       24.000000     13.600000    47.400000  125635.000000    17.400000   \n",
       "\n",
       "        median_age    hh_afr_am      hh_hisp    hh_female   hh_food_st  \\\n",
       "count  3130.000000  3130.000000  3130.000000  3130.000000  3130.000000   \n",
       "mean     40.336102     0.081055     0.060388     0.110043     0.104072   \n",
       "std       5.033958     0.138236     0.114099     0.043623     0.058290   \n",
       "min      22.400000     0.000000     0.000000     0.000000     0.000000   \n",
       "25%      37.400000     0.002661     0.009502     0.082411     0.062540   \n",
       "50%      40.300000     0.013111     0.019849     0.103899     0.093112   \n",
       "75%      43.300000     0.093166     0.053750     0.128855     0.134389   \n",
       "max      62.700000     0.832707     0.955767     0.450570     0.400252   \n",
       "\n",
       "        foreign_07         vets    vets_male   viol_crime   prop_crime  \n",
       "count  3130.000000  3130.000000  3130.000000  3130.000000  3130.000000  \n",
       "mean      4.242971     0.088570    94.202109     0.002291     0.018038  \n",
       "std       5.475315     0.022732     3.143674     0.001968     0.011847  \n",
       "min       0.000000     0.019065    65.000000     0.000000     0.000000  \n",
       "25%       1.100000     0.074039    92.900000     0.000981     0.009866  \n",
       "50%       2.300000     0.087159    94.600000     0.001823     0.016319  \n",
       "75%       5.100000     0.100460    96.100000     0.003095     0.024298  \n",
       "max      63.100000     0.297533   100.000000     0.025476     0.138286  "
      ]
     },
     "execution_count": 897,
     "metadata": {},
     "output_type": "execute_result"
    }
   ],
   "source": [
    "data.describe()"
   ]
  },
  {
   "cell_type": "markdown",
   "metadata": {
    "deletable": true,
    "editable": true
   },
   "source": [
    "From the stats, the dataset certainly contains strong outliers that will need to be dealt with."
   ]
  },
  {
   "cell_type": "code",
   "execution_count": 898,
   "metadata": {
    "collapsed": true,
    "deletable": true,
    "editable": true
   },
   "outputs": [],
   "source": [
    "deaths = pd.read_csv('data/Drug_deaths.csv', usecols=['FIPS', 'Year', 'Estimated Age-adjusted Death Rate, 16 Categories (in ranges)'],\n",
    "                    converters={'FIPS': str})"
   ]
  },
  {
   "cell_type": "code",
   "execution_count": 899,
   "metadata": {
    "collapsed": false,
    "deletable": true,
    "editable": true
   },
   "outputs": [
    {
     "data": {
      "text/plain": [
       "FIPS                                                            0\n",
       "Year                                                            0\n",
       "Estimated Age-adjusted Death Rate, 16 Categories (in ranges)    0\n",
       "dtype: int64"
      ]
     },
     "execution_count": 899,
     "metadata": {},
     "output_type": "execute_result"
    }
   ],
   "source": [
    "deaths.isnull().sum()"
   ]
  },
  {
   "cell_type": "code",
   "execution_count": 900,
   "metadata": {
    "collapsed": true,
    "deletable": true,
    "editable": true
   },
   "outputs": [],
   "source": [
    "targets = deaths[deaths['Year'] == 2014]\n",
    "targets = targets.drop('Year', axis=1)\n",
    "targets.columns = ['FIPS', 'death_rate']\n",
    "targets.loc[:, 'FIPS'] = targets['FIPS'].apply(lambda x: '0' + x if len(x) == 4 else x)"
   ]
  },
  {
   "cell_type": "code",
   "execution_count": 901,
   "metadata": {
    "collapsed": false,
    "deletable": true,
    "editable": true
   },
   "outputs": [
    {
     "data": {
      "text/plain": [
       "FIPS          0\n",
       "death_rate    0\n",
       "dtype: int64"
      ]
     },
     "execution_count": 901,
     "metadata": {},
     "output_type": "execute_result"
    }
   ],
   "source": [
    "targets.isnull().sum()"
   ]
  },
  {
   "cell_type": "code",
   "execution_count": 902,
   "metadata": {
    "collapsed": true,
    "deletable": true,
    "editable": true
   },
   "outputs": [],
   "source": [
    "import re\n",
    "def get_num(string):\n",
    "    match = re.search('\\d+', string)\n",
    "    return int(match.group()) + 1"
   ]
  },
  {
   "cell_type": "code",
   "execution_count": 903,
   "metadata": {
    "collapsed": true,
    "deletable": true,
    "editable": true
   },
   "outputs": [],
   "source": [
    "targets['numeric'] = targets['death_rate'].apply(lambda x: get_num(x) if x != '<2' else 1)"
   ]
  },
  {
   "cell_type": "code",
   "execution_count": 904,
   "metadata": {
    "collapsed": true,
    "deletable": true,
    "editable": true
   },
   "outputs": [],
   "source": [
    "data = data.join(targets.set_index('FIPS')) # drop na"
   ]
  },
  {
   "cell_type": "code",
   "execution_count": 905,
   "metadata": {
    "collapsed": false,
    "deletable": true,
    "editable": true
   },
   "outputs": [
    {
     "data": {
      "text/plain": [
       "state            0\n",
       "name             0\n",
       "< diploma        0\n",
       "degree+          0\n",
       "urban_inf        0\n",
       "pop_2014         0\n",
       "pop_inc          0\n",
       "foreign_inc      0\n",
       "unemployment     0\n",
       "unemp_change     0\n",
       "poverty          0\n",
       "median_hh_inc    0\n",
       "pov_change       0\n",
       "median_age       0\n",
       "hh_afr_am        0\n",
       "hh_hisp          0\n",
       "hh_female        0\n",
       "hh_food_st       0\n",
       "foreign_07       0\n",
       "vets             0\n",
       "vets_male        0\n",
       "viol_crime       0\n",
       "prop_crime       0\n",
       "death_rate       4\n",
       "numeric          4\n",
       "dtype: int64"
      ]
     },
     "execution_count": 905,
     "metadata": {},
     "output_type": "execute_result"
    }
   ],
   "source": [
    "data.isnull().sum()"
   ]
  },
  {
   "cell_type": "code",
   "execution_count": 906,
   "metadata": {
    "collapsed": false,
    "deletable": true,
    "editable": true
   },
   "outputs": [
    {
     "data": {
      "text/html": [
       "<div>\n",
       "<table border=\"1\" class=\"dataframe\">\n",
       "  <thead>\n",
       "    <tr style=\"text-align: right;\">\n",
       "      <th></th>\n",
       "      <th>state</th>\n",
       "      <th>name</th>\n",
       "      <th>&lt; diploma</th>\n",
       "      <th>degree+</th>\n",
       "      <th>urban_inf</th>\n",
       "      <th>pop_2014</th>\n",
       "      <th>pop_inc</th>\n",
       "      <th>foreign_inc</th>\n",
       "      <th>unemployment</th>\n",
       "      <th>unemp_change</th>\n",
       "      <th>...</th>\n",
       "      <th>hh_hisp</th>\n",
       "      <th>hh_female</th>\n",
       "      <th>hh_food_st</th>\n",
       "      <th>foreign_07</th>\n",
       "      <th>vets</th>\n",
       "      <th>vets_male</th>\n",
       "      <th>viol_crime</th>\n",
       "      <th>prop_crime</th>\n",
       "      <th>death_rate</th>\n",
       "      <th>numeric</th>\n",
       "    </tr>\n",
       "    <tr>\n",
       "      <th>FIPS</th>\n",
       "      <th></th>\n",
       "      <th></th>\n",
       "      <th></th>\n",
       "      <th></th>\n",
       "      <th></th>\n",
       "      <th></th>\n",
       "      <th></th>\n",
       "      <th></th>\n",
       "      <th></th>\n",
       "      <th></th>\n",
       "      <th></th>\n",
       "      <th></th>\n",
       "      <th></th>\n",
       "      <th></th>\n",
       "      <th></th>\n",
       "      <th></th>\n",
       "      <th></th>\n",
       "      <th></th>\n",
       "      <th></th>\n",
       "      <th></th>\n",
       "      <th></th>\n",
       "    </tr>\n",
       "  </thead>\n",
       "  <tbody>\n",
       "    <tr>\n",
       "      <th>08001</th>\n",
       "      <td>CO</td>\n",
       "      <td>Adams County</td>\n",
       "      <td>17.839</td>\n",
       "      <td>22.368</td>\n",
       "      <td>1</td>\n",
       "      <td>479488.0</td>\n",
       "      <td>0.085790</td>\n",
       "      <td>0.054824</td>\n",
       "      <td>5.7</td>\n",
       "      <td>4.5</td>\n",
       "      <td>...</td>\n",
       "      <td>0.289450</td>\n",
       "      <td>0.114910</td>\n",
       "      <td>0.055541</td>\n",
       "      <td>15.3</td>\n",
       "      <td>0.071674</td>\n",
       "      <td>92.5</td>\n",
       "      <td>0.003418</td>\n",
       "      <td>0.028810</td>\n",
       "      <td>NaN</td>\n",
       "      <td>NaN</td>\n",
       "    </tr>\n",
       "    <tr>\n",
       "      <th>08014</th>\n",
       "      <td>CO</td>\n",
       "      <td>Broomfield County</td>\n",
       "      <td>3.948</td>\n",
       "      <td>52.457</td>\n",
       "      <td>1</td>\n",
       "      <td>61706.0</td>\n",
       "      <td>0.104081</td>\n",
       "      <td>0.045556</td>\n",
       "      <td>4.2</td>\n",
       "      <td>3.7</td>\n",
       "      <td>...</td>\n",
       "      <td>0.080415</td>\n",
       "      <td>0.089699</td>\n",
       "      <td>0.027461</td>\n",
       "      <td>7.5</td>\n",
       "      <td>0.077482</td>\n",
       "      <td>93.9</td>\n",
       "      <td>0.000502</td>\n",
       "      <td>0.016854</td>\n",
       "      <td>NaN</td>\n",
       "      <td>NaN</td>\n",
       "    </tr>\n",
       "    <tr>\n",
       "      <th>08059</th>\n",
       "      <td>CO</td>\n",
       "      <td>Jefferson County</td>\n",
       "      <td>5.848</td>\n",
       "      <td>42.220</td>\n",
       "      <td>1</td>\n",
       "      <td>558519.0</td>\n",
       "      <td>0.044853</td>\n",
       "      <td>0.059893</td>\n",
       "      <td>4.6</td>\n",
       "      <td>4.0</td>\n",
       "      <td>...</td>\n",
       "      <td>0.105262</td>\n",
       "      <td>0.096715</td>\n",
       "      <td>0.033976</td>\n",
       "      <td>6.4</td>\n",
       "      <td>0.088829</td>\n",
       "      <td>93.4</td>\n",
       "      <td>0.002333</td>\n",
       "      <td>0.027371</td>\n",
       "      <td>NaN</td>\n",
       "      <td>NaN</td>\n",
       "    </tr>\n",
       "    <tr>\n",
       "      <th>08123</th>\n",
       "      <td>CO</td>\n",
       "      <td>Weld County</td>\n",
       "      <td>12.995</td>\n",
       "      <td>26.762</td>\n",
       "      <td>2</td>\n",
       "      <td>275584.0</td>\n",
       "      <td>0.090019</td>\n",
       "      <td>0.018015</td>\n",
       "      <td>4.5</td>\n",
       "      <td>5.7</td>\n",
       "      <td>...</td>\n",
       "      <td>0.212258</td>\n",
       "      <td>0.092415</td>\n",
       "      <td>0.048219</td>\n",
       "      <td>9.3</td>\n",
       "      <td>0.067942</td>\n",
       "      <td>94.2</td>\n",
       "      <td>0.002885</td>\n",
       "      <td>0.020204</td>\n",
       "      <td>NaN</td>\n",
       "      <td>NaN</td>\n",
       "    </tr>\n",
       "  </tbody>\n",
       "</table>\n",
       "<p>4 rows × 25 columns</p>\n",
       "</div>"
      ],
      "text/plain": [
       "      state               name  < diploma  degree+ urban_inf  pop_2014  \\\n",
       "FIPS                                                                     \n",
       "08001    CO       Adams County     17.839   22.368         1  479488.0   \n",
       "08014    CO  Broomfield County      3.948   52.457         1   61706.0   \n",
       "08059    CO   Jefferson County      5.848   42.220         1  558519.0   \n",
       "08123    CO        Weld County     12.995   26.762         2  275584.0   \n",
       "\n",
       "        pop_inc  foreign_inc  unemployment  unemp_change   ...      hh_hisp  \\\n",
       "FIPS                                                       ...                \n",
       "08001  0.085790     0.054824           5.7           4.5   ...     0.289450   \n",
       "08014  0.104081     0.045556           4.2           3.7   ...     0.080415   \n",
       "08059  0.044853     0.059893           4.6           4.0   ...     0.105262   \n",
       "08123  0.090019     0.018015           4.5           5.7   ...     0.212258   \n",
       "\n",
       "       hh_female  hh_food_st  foreign_07      vets  vets_male  viol_crime  \\\n",
       "FIPS                                                                        \n",
       "08001   0.114910    0.055541        15.3  0.071674       92.5    0.003418   \n",
       "08014   0.089699    0.027461         7.5  0.077482       93.9    0.000502   \n",
       "08059   0.096715    0.033976         6.4  0.088829       93.4    0.002333   \n",
       "08123   0.092415    0.048219         9.3  0.067942       94.2    0.002885   \n",
       "\n",
       "       prop_crime  death_rate  numeric  \n",
       "FIPS                                    \n",
       "08001    0.028810         NaN      NaN  \n",
       "08014    0.016854         NaN      NaN  \n",
       "08059    0.027371         NaN      NaN  \n",
       "08123    0.020204         NaN      NaN  \n",
       "\n",
       "[4 rows x 25 columns]"
      ]
     },
     "execution_count": 906,
     "metadata": {},
     "output_type": "execute_result"
    }
   ],
   "source": [
    "data[data['death_rate'].isnull()]"
   ]
  },
  {
   "cell_type": "markdown",
   "metadata": {
    "deletable": true,
    "editable": true
   },
   "source": [
    "These four counties had boundaries redrawn after 2000, and do not appear in the opioid deaths dataset, so they will be removed."
   ]
  },
  {
   "cell_type": "code",
   "execution_count": 907,
   "metadata": {
    "collapsed": true,
    "deletable": true,
    "editable": true
   },
   "outputs": [],
   "source": [
    "data = data.drop(['08001', '08014', '08059', '08123'])"
   ]
  },
  {
   "cell_type": "code",
   "execution_count": 908,
   "metadata": {
    "collapsed": false,
    "deletable": true,
    "editable": true
   },
   "outputs": [
    {
     "data": {
      "text/plain": [
       "count    3136.000000\n",
       "mean       14.180485\n",
       "std         6.583190\n",
       "min         1.000000\n",
       "25%         9.000000\n",
       "50%        13.000000\n",
       "75%        17.000000\n",
       "max        31.000000\n",
       "Name: numeric, dtype: float64"
      ]
     },
     "execution_count": 908,
     "metadata": {},
     "output_type": "execute_result"
    }
   ],
   "source": [
    "targets['numeric'].describe()"
   ]
  },
  {
   "cell_type": "markdown",
   "metadata": {
    "deletable": true,
    "editable": true
   },
   "source": [
    "The maximum value of 31 fits the standard definition of an outlier as less than Q1 - 1.5\\*IQR or greater than Q3 + 1.5\\*IQR. Here that applies only to values >29. Where are these outliers?"
   ]
  },
  {
   "cell_type": "code",
   "execution_count": 909,
   "metadata": {
    "collapsed": false,
    "deletable": true,
    "editable": true
   },
   "outputs": [
    {
     "name": "stdout",
     "output_type": "stream",
     "text": [
      "102\n"
     ]
    },
    {
     "data": {
      "text/html": [
       "<div>\n",
       "<table border=\"1\" class=\"dataframe\">\n",
       "  <thead>\n",
       "    <tr style=\"text-align: right;\">\n",
       "      <th></th>\n",
       "      <th>state</th>\n",
       "      <th>name</th>\n",
       "    </tr>\n",
       "    <tr>\n",
       "      <th>FIPS</th>\n",
       "      <th></th>\n",
       "      <th></th>\n",
       "    </tr>\n",
       "  </thead>\n",
       "  <tbody>\n",
       "    <tr>\n",
       "      <th>04012</th>\n",
       "      <td>AZ</td>\n",
       "      <td>La Paz County</td>\n",
       "    </tr>\n",
       "    <tr>\n",
       "      <th>06023</th>\n",
       "      <td>CA</td>\n",
       "      <td>Humboldt County</td>\n",
       "    </tr>\n",
       "    <tr>\n",
       "      <th>06033</th>\n",
       "      <td>CA</td>\n",
       "      <td>Lake County</td>\n",
       "    </tr>\n",
       "    <tr>\n",
       "      <th>06089</th>\n",
       "      <td>CA</td>\n",
       "      <td>Shasta County</td>\n",
       "    </tr>\n",
       "    <tr>\n",
       "      <th>08023</th>\n",
       "      <td>CO</td>\n",
       "      <td>Costilla County</td>\n",
       "    </tr>\n",
       "    <tr>\n",
       "      <th>08055</th>\n",
       "      <td>CO</td>\n",
       "      <td>Huerfano County</td>\n",
       "    </tr>\n",
       "    <tr>\n",
       "      <th>12017</th>\n",
       "      <td>FL</td>\n",
       "      <td>Citrus County</td>\n",
       "    </tr>\n",
       "    <tr>\n",
       "      <th>12101</th>\n",
       "      <td>FL</td>\n",
       "      <td>Pasco County</td>\n",
       "    </tr>\n",
       "    <tr>\n",
       "      <th>16007</th>\n",
       "      <td>ID</td>\n",
       "      <td>Bear Lake County</td>\n",
       "    </tr>\n",
       "    <tr>\n",
       "      <th>18143</th>\n",
       "      <td>IN</td>\n",
       "      <td>Scott County</td>\n",
       "    </tr>\n",
       "    <tr>\n",
       "      <th>18149</th>\n",
       "      <td>IN</td>\n",
       "      <td>Starke County</td>\n",
       "    </tr>\n",
       "    <tr>\n",
       "      <th>20207</th>\n",
       "      <td>KS</td>\n",
       "      <td>Woodson County</td>\n",
       "    </tr>\n",
       "    <tr>\n",
       "      <th>21011</th>\n",
       "      <td>KY</td>\n",
       "      <td>Bath County</td>\n",
       "    </tr>\n",
       "    <tr>\n",
       "      <th>21013</th>\n",
       "      <td>KY</td>\n",
       "      <td>Bell County</td>\n",
       "    </tr>\n",
       "    <tr>\n",
       "      <th>21019</th>\n",
       "      <td>KY</td>\n",
       "      <td>Boyd County</td>\n",
       "    </tr>\n",
       "    <tr>\n",
       "      <th>21025</th>\n",
       "      <td>KY</td>\n",
       "      <td>Breathitt County</td>\n",
       "    </tr>\n",
       "    <tr>\n",
       "      <th>21037</th>\n",
       "      <td>KY</td>\n",
       "      <td>Campbell County</td>\n",
       "    </tr>\n",
       "    <tr>\n",
       "      <th>21049</th>\n",
       "      <td>KY</td>\n",
       "      <td>Clark County</td>\n",
       "    </tr>\n",
       "    <tr>\n",
       "      <th>21051</th>\n",
       "      <td>KY</td>\n",
       "      <td>Clay County</td>\n",
       "    </tr>\n",
       "    <tr>\n",
       "      <th>21053</th>\n",
       "      <td>KY</td>\n",
       "      <td>Clinton County</td>\n",
       "    </tr>\n",
       "    <tr>\n",
       "      <th>21057</th>\n",
       "      <td>KY</td>\n",
       "      <td>Cumberland County</td>\n",
       "    </tr>\n",
       "    <tr>\n",
       "      <th>21065</th>\n",
       "      <td>KY</td>\n",
       "      <td>Estill County</td>\n",
       "    </tr>\n",
       "    <tr>\n",
       "      <th>21071</th>\n",
       "      <td>KY</td>\n",
       "      <td>Floyd County</td>\n",
       "    </tr>\n",
       "    <tr>\n",
       "      <th>21077</th>\n",
       "      <td>KY</td>\n",
       "      <td>Gallatin County</td>\n",
       "    </tr>\n",
       "    <tr>\n",
       "      <th>21095</th>\n",
       "      <td>KY</td>\n",
       "      <td>Harlan County</td>\n",
       "    </tr>\n",
       "    <tr>\n",
       "      <th>21115</th>\n",
       "      <td>KY</td>\n",
       "      <td>Johnson County</td>\n",
       "    </tr>\n",
       "    <tr>\n",
       "      <th>21117</th>\n",
       "      <td>KY</td>\n",
       "      <td>Kenton County</td>\n",
       "    </tr>\n",
       "    <tr>\n",
       "      <th>21119</th>\n",
       "      <td>KY</td>\n",
       "      <td>Knott County</td>\n",
       "    </tr>\n",
       "    <tr>\n",
       "      <th>21121</th>\n",
       "      <td>KY</td>\n",
       "      <td>Knox County</td>\n",
       "    </tr>\n",
       "    <tr>\n",
       "      <th>21127</th>\n",
       "      <td>KY</td>\n",
       "      <td>Lawrence County</td>\n",
       "    </tr>\n",
       "    <tr>\n",
       "      <th>...</th>\n",
       "      <td>...</td>\n",
       "      <td>...</td>\n",
       "    </tr>\n",
       "    <tr>\n",
       "      <th>47027</th>\n",
       "      <td>TN</td>\n",
       "      <td>Clay County</td>\n",
       "    </tr>\n",
       "    <tr>\n",
       "      <th>47041</th>\n",
       "      <td>TN</td>\n",
       "      <td>DeKalb County</td>\n",
       "    </tr>\n",
       "    <tr>\n",
       "      <th>47067</th>\n",
       "      <td>TN</td>\n",
       "      <td>Hancock County</td>\n",
       "    </tr>\n",
       "    <tr>\n",
       "      <th>47087</th>\n",
       "      <td>TN</td>\n",
       "      <td>Jackson County</td>\n",
       "    </tr>\n",
       "    <tr>\n",
       "      <th>47137</th>\n",
       "      <td>TN</td>\n",
       "      <td>Pickett County</td>\n",
       "    </tr>\n",
       "    <tr>\n",
       "      <th>47145</th>\n",
       "      <td>TN</td>\n",
       "      <td>Roane County</td>\n",
       "    </tr>\n",
       "    <tr>\n",
       "      <th>47173</th>\n",
       "      <td>TN</td>\n",
       "      <td>Union County</td>\n",
       "    </tr>\n",
       "    <tr>\n",
       "      <th>48023</th>\n",
       "      <td>TX</td>\n",
       "      <td>Baylor County</td>\n",
       "    </tr>\n",
       "    <tr>\n",
       "      <th>49007</th>\n",
       "      <td>UT</td>\n",
       "      <td>Carbon County</td>\n",
       "    </tr>\n",
       "    <tr>\n",
       "      <th>49015</th>\n",
       "      <td>UT</td>\n",
       "      <td>Emery County</td>\n",
       "    </tr>\n",
       "    <tr>\n",
       "      <th>51027</th>\n",
       "      <td>VA</td>\n",
       "      <td>Buchanan County</td>\n",
       "    </tr>\n",
       "    <tr>\n",
       "      <th>51051</th>\n",
       "      <td>VA</td>\n",
       "      <td>Dickenson County</td>\n",
       "    </tr>\n",
       "    <tr>\n",
       "      <th>51155</th>\n",
       "      <td>VA</td>\n",
       "      <td>Pulaski County</td>\n",
       "    </tr>\n",
       "    <tr>\n",
       "      <th>51167</th>\n",
       "      <td>VA</td>\n",
       "      <td>Russell County</td>\n",
       "    </tr>\n",
       "    <tr>\n",
       "      <th>51185</th>\n",
       "      <td>VA</td>\n",
       "      <td>Tazewell County</td>\n",
       "    </tr>\n",
       "    <tr>\n",
       "      <th>51195</th>\n",
       "      <td>VA</td>\n",
       "      <td>Wise County</td>\n",
       "    </tr>\n",
       "    <tr>\n",
       "      <th>51720</th>\n",
       "      <td>VA</td>\n",
       "      <td>Norton city</td>\n",
       "    </tr>\n",
       "    <tr>\n",
       "      <th>54005</th>\n",
       "      <td>WV</td>\n",
       "      <td>Boone County</td>\n",
       "    </tr>\n",
       "    <tr>\n",
       "      <th>54011</th>\n",
       "      <td>WV</td>\n",
       "      <td>Cabell County</td>\n",
       "    </tr>\n",
       "    <tr>\n",
       "      <th>54043</th>\n",
       "      <td>WV</td>\n",
       "      <td>Lincoln County</td>\n",
       "    </tr>\n",
       "    <tr>\n",
       "      <th>54045</th>\n",
       "      <td>WV</td>\n",
       "      <td>Logan County</td>\n",
       "    </tr>\n",
       "    <tr>\n",
       "      <th>54047</th>\n",
       "      <td>WV</td>\n",
       "      <td>McDowell County</td>\n",
       "    </tr>\n",
       "    <tr>\n",
       "      <th>54055</th>\n",
       "      <td>WV</td>\n",
       "      <td>Mercer County</td>\n",
       "    </tr>\n",
       "    <tr>\n",
       "      <th>54059</th>\n",
       "      <td>WV</td>\n",
       "      <td>Mingo County</td>\n",
       "    </tr>\n",
       "    <tr>\n",
       "      <th>54063</th>\n",
       "      <td>WV</td>\n",
       "      <td>Monroe County</td>\n",
       "    </tr>\n",
       "    <tr>\n",
       "      <th>54075</th>\n",
       "      <td>WV</td>\n",
       "      <td>Pocahontas County</td>\n",
       "    </tr>\n",
       "    <tr>\n",
       "      <th>54081</th>\n",
       "      <td>WV</td>\n",
       "      <td>Raleigh County</td>\n",
       "    </tr>\n",
       "    <tr>\n",
       "      <th>54089</th>\n",
       "      <td>WV</td>\n",
       "      <td>Summers County</td>\n",
       "    </tr>\n",
       "    <tr>\n",
       "      <th>54101</th>\n",
       "      <td>WV</td>\n",
       "      <td>Webster County</td>\n",
       "    </tr>\n",
       "    <tr>\n",
       "      <th>54109</th>\n",
       "      <td>WV</td>\n",
       "      <td>Wyoming County</td>\n",
       "    </tr>\n",
       "  </tbody>\n",
       "</table>\n",
       "<p>102 rows × 2 columns</p>\n",
       "</div>"
      ],
      "text/plain": [
       "      state               name\n",
       "FIPS                          \n",
       "04012    AZ      La Paz County\n",
       "06023    CA    Humboldt County\n",
       "06033    CA        Lake County\n",
       "06089    CA      Shasta County\n",
       "08023    CO    Costilla County\n",
       "08055    CO    Huerfano County\n",
       "12017    FL      Citrus County\n",
       "12101    FL       Pasco County\n",
       "16007    ID   Bear Lake County\n",
       "18143    IN       Scott County\n",
       "18149    IN      Starke County\n",
       "20207    KS     Woodson County\n",
       "21011    KY        Bath County\n",
       "21013    KY        Bell County\n",
       "21019    KY        Boyd County\n",
       "21025    KY   Breathitt County\n",
       "21037    KY    Campbell County\n",
       "21049    KY       Clark County\n",
       "21051    KY        Clay County\n",
       "21053    KY     Clinton County\n",
       "21057    KY  Cumberland County\n",
       "21065    KY      Estill County\n",
       "21071    KY       Floyd County\n",
       "21077    KY    Gallatin County\n",
       "21095    KY      Harlan County\n",
       "21115    KY     Johnson County\n",
       "21117    KY      Kenton County\n",
       "21119    KY       Knott County\n",
       "21121    KY        Knox County\n",
       "21127    KY    Lawrence County\n",
       "...     ...                ...\n",
       "47027    TN        Clay County\n",
       "47041    TN      DeKalb County\n",
       "47067    TN     Hancock County\n",
       "47087    TN     Jackson County\n",
       "47137    TN     Pickett County\n",
       "47145    TN       Roane County\n",
       "47173    TN       Union County\n",
       "48023    TX      Baylor County\n",
       "49007    UT      Carbon County\n",
       "49015    UT       Emery County\n",
       "51027    VA    Buchanan County\n",
       "51051    VA   Dickenson County\n",
       "51155    VA     Pulaski County\n",
       "51167    VA     Russell County\n",
       "51185    VA    Tazewell County\n",
       "51195    VA        Wise County\n",
       "51720    VA        Norton city\n",
       "54005    WV       Boone County\n",
       "54011    WV      Cabell County\n",
       "54043    WV     Lincoln County\n",
       "54045    WV       Logan County\n",
       "54047    WV    McDowell County\n",
       "54055    WV      Mercer County\n",
       "54059    WV       Mingo County\n",
       "54063    WV      Monroe County\n",
       "54075    WV  Pocahontas County\n",
       "54081    WV     Raleigh County\n",
       "54089    WV     Summers County\n",
       "54101    WV     Webster County\n",
       "54109    WV     Wyoming County\n",
       "\n",
       "[102 rows x 2 columns]"
      ]
     },
     "execution_count": 909,
     "metadata": {},
     "output_type": "execute_result"
    }
   ],
   "source": [
    "target_outliers = targets[targets['numeric'] == 31]['FIPS']\n",
    "target_outliers = data.loc[target_outliers, ['state', 'name']]\n",
    "print(len(target_outliers))\n",
    "target_outliers"
   ]
  },
  {
   "cell_type": "markdown",
   "metadata": {
    "deletable": true,
    "editable": true
   },
   "source": [
    "These outliers appear to be concentrated in some states."
   ]
  },
  {
   "cell_type": "code",
   "execution_count": 910,
   "metadata": {
    "collapsed": false,
    "deletable": true,
    "editable": true
   },
   "outputs": [
    {
     "data": {
      "text/html": [
       "<div>\n",
       "<table border=\"1\" class=\"dataframe\">\n",
       "  <thead>\n",
       "    <tr style=\"text-align: right;\">\n",
       "      <th></th>\n",
       "      <th>outliers</th>\n",
       "      <th>total</th>\n",
       "      <th>percent</th>\n",
       "    </tr>\n",
       "    <tr>\n",
       "      <th>state</th>\n",
       "      <th></th>\n",
       "      <th></th>\n",
       "      <th></th>\n",
       "    </tr>\n",
       "  </thead>\n",
       "  <tbody>\n",
       "    <tr>\n",
       "      <th>AZ</th>\n",
       "      <td>1</td>\n",
       "      <td>15</td>\n",
       "      <td>6.666667</td>\n",
       "    </tr>\n",
       "    <tr>\n",
       "      <th>CA</th>\n",
       "      <td>3</td>\n",
       "      <td>58</td>\n",
       "      <td>5.172414</td>\n",
       "    </tr>\n",
       "    <tr>\n",
       "      <th>CO</th>\n",
       "      <td>2</td>\n",
       "      <td>60</td>\n",
       "      <td>3.333333</td>\n",
       "    </tr>\n",
       "    <tr>\n",
       "      <th>FL</th>\n",
       "      <td>2</td>\n",
       "      <td>67</td>\n",
       "      <td>2.985075</td>\n",
       "    </tr>\n",
       "    <tr>\n",
       "      <th>ID</th>\n",
       "      <td>1</td>\n",
       "      <td>44</td>\n",
       "      <td>2.272727</td>\n",
       "    </tr>\n",
       "    <tr>\n",
       "      <th>IN</th>\n",
       "      <td>2</td>\n",
       "      <td>92</td>\n",
       "      <td>2.173913</td>\n",
       "    </tr>\n",
       "    <tr>\n",
       "      <th>KS</th>\n",
       "      <td>1</td>\n",
       "      <td>105</td>\n",
       "      <td>0.952381</td>\n",
       "    </tr>\n",
       "    <tr>\n",
       "      <th>KY</th>\n",
       "      <td>29</td>\n",
       "      <td>120</td>\n",
       "      <td>24.166667</td>\n",
       "    </tr>\n",
       "    <tr>\n",
       "      <th>LA</th>\n",
       "      <td>1</td>\n",
       "      <td>64</td>\n",
       "      <td>1.562500</td>\n",
       "    </tr>\n",
       "    <tr>\n",
       "      <th>MD</th>\n",
       "      <td>1</td>\n",
       "      <td>24</td>\n",
       "      <td>4.166667</td>\n",
       "    </tr>\n",
       "    <tr>\n",
       "      <th>MS</th>\n",
       "      <td>1</td>\n",
       "      <td>81</td>\n",
       "      <td>1.234568</td>\n",
       "    </tr>\n",
       "    <tr>\n",
       "      <th>MT</th>\n",
       "      <td>2</td>\n",
       "      <td>55</td>\n",
       "      <td>3.636364</td>\n",
       "    </tr>\n",
       "    <tr>\n",
       "      <th>NC</th>\n",
       "      <td>1</td>\n",
       "      <td>100</td>\n",
       "      <td>1.000000</td>\n",
       "    </tr>\n",
       "    <tr>\n",
       "      <th>NM</th>\n",
       "      <td>13</td>\n",
       "      <td>33</td>\n",
       "      <td>39.393939</td>\n",
       "    </tr>\n",
       "    <tr>\n",
       "      <th>NV</th>\n",
       "      <td>4</td>\n",
       "      <td>17</td>\n",
       "      <td>23.529412</td>\n",
       "    </tr>\n",
       "    <tr>\n",
       "      <th>OH</th>\n",
       "      <td>1</td>\n",
       "      <td>88</td>\n",
       "      <td>1.136364</td>\n",
       "    </tr>\n",
       "    <tr>\n",
       "      <th>OK</th>\n",
       "      <td>4</td>\n",
       "      <td>77</td>\n",
       "      <td>5.194805</td>\n",
       "    </tr>\n",
       "    <tr>\n",
       "      <th>PA</th>\n",
       "      <td>1</td>\n",
       "      <td>67</td>\n",
       "      <td>1.492537</td>\n",
       "    </tr>\n",
       "    <tr>\n",
       "      <th>TN</th>\n",
       "      <td>9</td>\n",
       "      <td>95</td>\n",
       "      <td>9.473684</td>\n",
       "    </tr>\n",
       "    <tr>\n",
       "      <th>TX</th>\n",
       "      <td>1</td>\n",
       "      <td>254</td>\n",
       "      <td>0.393701</td>\n",
       "    </tr>\n",
       "    <tr>\n",
       "      <th>UT</th>\n",
       "      <td>2</td>\n",
       "      <td>29</td>\n",
       "      <td>6.896552</td>\n",
       "    </tr>\n",
       "    <tr>\n",
       "      <th>VA</th>\n",
       "      <td>7</td>\n",
       "      <td>133</td>\n",
       "      <td>5.263158</td>\n",
       "    </tr>\n",
       "    <tr>\n",
       "      <th>WV</th>\n",
       "      <td>13</td>\n",
       "      <td>55</td>\n",
       "      <td>23.636364</td>\n",
       "    </tr>\n",
       "  </tbody>\n",
       "</table>\n",
       "</div>"
      ],
      "text/plain": [
       "       outliers  total    percent\n",
       "state                            \n",
       "AZ            1     15   6.666667\n",
       "CA            3     58   5.172414\n",
       "CO            2     60   3.333333\n",
       "FL            2     67   2.985075\n",
       "ID            1     44   2.272727\n",
       "IN            2     92   2.173913\n",
       "KS            1    105   0.952381\n",
       "KY           29    120  24.166667\n",
       "LA            1     64   1.562500\n",
       "MD            1     24   4.166667\n",
       "MS            1     81   1.234568\n",
       "MT            2     55   3.636364\n",
       "NC            1    100   1.000000\n",
       "NM           13     33  39.393939\n",
       "NV            4     17  23.529412\n",
       "OH            1     88   1.136364\n",
       "OK            4     77   5.194805\n",
       "PA            1     67   1.492537\n",
       "TN            9     95   9.473684\n",
       "TX            1    254   0.393701\n",
       "UT            2     29   6.896552\n",
       "VA            7    133   5.263158\n",
       "WV           13     55  23.636364"
      ]
     },
     "execution_count": 910,
     "metadata": {},
     "output_type": "execute_result"
    }
   ],
   "source": [
    "outliers_by_state = pd.DataFrame(target_outliers.groupby('state').size(), columns=['outliers'])\n",
    "counties_by_state = pd.DataFrame(data.groupby('state').size(), columns = ['total'])\n",
    "outliers_by_state['total'] = counties_by_state['total']\n",
    "outliers_by_state['percent'] = 100 * outliers_by_state['outliers']/outliers_by_state['total']\n",
    "outliers_by_state"
   ]
  },
  {
   "cell_type": "markdown",
   "metadata": {
    "deletable": true,
    "editable": true
   },
   "source": [
    "Look at overall distribution of targets."
   ]
  },
  {
   "cell_type": "code",
   "execution_count": 911,
   "metadata": {
    "collapsed": false,
    "deletable": true,
    "editable": true
   },
   "outputs": [
    {
     "data": {
      "text/html": [
       "<div>\n",
       "<table border=\"1\" class=\"dataframe\">\n",
       "  <thead>\n",
       "    <tr style=\"text-align: right;\">\n",
       "      <th></th>\n",
       "      <th></th>\n",
       "      <th>0</th>\n",
       "    </tr>\n",
       "    <tr>\n",
       "      <th>state</th>\n",
       "      <th>numeric</th>\n",
       "      <th></th>\n",
       "    </tr>\n",
       "  </thead>\n",
       "  <tbody>\n",
       "    <tr>\n",
       "      <th rowspan=\"5\" valign=\"top\">AK</th>\n",
       "      <th>1.0</th>\n",
       "      <td>1</td>\n",
       "    </tr>\n",
       "    <tr>\n",
       "      <th>5.0</th>\n",
       "      <td>1</td>\n",
       "    </tr>\n",
       "    <tr>\n",
       "      <th>7.0</th>\n",
       "      <td>2</td>\n",
       "    </tr>\n",
       "    <tr>\n",
       "      <th>11.0</th>\n",
       "      <td>2</td>\n",
       "    </tr>\n",
       "    <tr>\n",
       "      <th>13.0</th>\n",
       "      <td>2</td>\n",
       "    </tr>\n",
       "  </tbody>\n",
       "</table>\n",
       "</div>"
      ],
      "text/plain": [
       "               0\n",
       "state numeric   \n",
       "AK    1.0      1\n",
       "      5.0      1\n",
       "      7.0      2\n",
       "      11.0     2\n",
       "      13.0     2"
      ]
     },
     "execution_count": 911,
     "metadata": {},
     "output_type": "execute_result"
    }
   ],
   "source": [
    "counts = pd.DataFrame(data.groupby(['state', 'numeric']).size())\n",
    "counts.head()"
   ]
  },
  {
   "cell_type": "code",
   "execution_count": 912,
   "metadata": {
    "collapsed": false,
    "deletable": true,
    "editable": true
   },
   "outputs": [],
   "source": [
    "counts = counts.reset_index()\n",
    "counts.columns = ['state', 'numeric', 'count']\n",
    "counts['total'] = counts.apply(lambda row: counties_by_state.loc[row['state'], 'total'], axis=1)\n",
    "counts['percent'] = counts['count'] / counts['total']\n",
    "states = sorted(counts['state'].unique())"
   ]
  },
  {
   "cell_type": "code",
   "execution_count": 913,
   "metadata": {
    "collapsed": false,
    "deletable": true,
    "editable": true
   },
   "outputs": [
    {
     "data": {
      "image/png": "[encoded data removed]",
      "text/plain": [
       "<matplotlib.figure.Figure at 0x11ac510b8>"
      ]
     },
     "metadata": {},
     "output_type": "display_data"
    }
   ],
   "source": [
    "plt.rcParams[\"figure.figsize\"] = [16.0, 8.0]\n",
    "ax = sns.stripplot(data=counts, x='state', y='numeric', hue='percent', palette='OrRd')\n",
    "ax.legend_.remove()\n",
    "ax.set_title('Clustering counties by death rate and state (darker = higher percentage)', size=18)\n",
    "ax.set_ylabel('death rate')\n",
    "ax.figure.savefig('images/county_rates.png')"
   ]
  },
  {
   "cell_type": "markdown",
   "metadata": {
    "deletable": true,
    "editable": true
   },
   "source": [
    "While there are some states with outlying concentrations of counties with low or high death rates, the distribution is fairly even overall."
   ]
  },
  {
   "cell_type": "code",
   "execution_count": 914,
   "metadata": {
    "collapsed": false,
    "deletable": true,
    "editable": true
   },
   "outputs": [
    {
     "data": {
      "image/png": "[encoded data removed]",
      "text/plain": [
       "<matplotlib.figure.Figure at 0x121b68f98>"
      ]
     },
     "metadata": {},
     "output_type": "display_data"
    }
   ],
   "source": [
    "from scipy.stats import norm\n",
    "\n",
    "plt.rcParams[\"figure.figsize\"] = [8.0, 4.0]\n",
    "target_hist = sns.distplot(targets['numeric'], bins=16, fit=norm, kde=False)\n",
    "target_hist.figure.savefig('images/target_hist.png')"
   ]
  },
  {
   "cell_type": "markdown",
   "metadata": {
    "deletable": true,
    "editable": true
   },
   "source": [
    "The target distribution is a little skewed but follows a roughly normal curve except for the spike at the highest value. Experimentation found that classification works better with these target outliers included, but the outliers in the predictors need to be dealt with."
   ]
  },
  {
   "cell_type": "code",
   "execution_count": 915,
   "metadata": {
    "collapsed": true,
    "deletable": true,
    "editable": true
   },
   "outputs": [],
   "source": [
    "target_outliers = list(target_outliers.index)\n",
    "\n",
    "data_raw = data.copy()\n",
    "data = data.drop(['state', 'name', 'pop_2014'], axis=1)"
   ]
  },
  {
   "cell_type": "code",
   "execution_count": 916,
   "metadata": {
    "collapsed": false,
    "deletable": true,
    "editable": true
   },
   "outputs": [
    {
     "name": "stdout",
     "output_type": "stream",
     "text": [
      "               < diploma   degree+   pop_inc  foreign_inc  unemployment  \\\n",
      "< diploma       1.000000  0.596235  0.185915     0.017175      0.444894   \n",
      "degree+         0.596235  1.000000  0.437384     0.040137      0.344505   \n",
      "pop_inc         0.185915  0.437384  1.000000     0.003214      0.265479   \n",
      "foreign_inc     0.017175  0.040137  0.003214     1.000000      0.006487   \n",
      "unemployment    0.444894  0.344505  0.265479     0.006487      1.000000   \n",
      "unemp_change    0.099960  0.104568  0.019885     0.001546      0.183943   \n",
      "poverty         0.676247  0.454771  0.279422     0.016851      0.615135   \n",
      "median_hh_inc   0.555187  0.682043  0.471092     0.020453      0.472713   \n",
      "pov_change      0.026931  0.041624  0.043384     0.000316      0.183201   \n",
      "median_age      0.207144  0.180067  0.366550     0.037000      0.045748   \n",
      "hh_afr_am       0.337359  0.078255  0.089242     0.001260      0.393471   \n",
      "hh_hisp         0.416976  0.014507  0.157683     0.001310      0.007594   \n",
      "hh_female       0.535661  0.240072  0.038155     0.005963      0.523734   \n",
      "hh_food_st      0.650381  0.515622  0.246238     0.014470      0.590354   \n",
      "foreign_07      0.212229  0.322974  0.303593     0.033247      0.035868   \n",
      "vets            0.372515  0.041605  0.101889     0.023127      0.056444   \n",
      "vets_male       0.062093  0.179124  0.196671     0.019287      0.051601   \n",
      "viol_crime      0.178997  0.018872  0.079051     0.013310      0.210825   \n",
      "prop_crime      0.093883  0.102160  0.170892     0.036638      0.154293   \n",
      "numeric         0.131000  0.129538  0.059277     0.009029      0.328106   \n",
      "\n",
      "               unemp_change   poverty  median_hh_inc  pov_change  median_age  \\\n",
      "< diploma          0.099960  0.676247       0.555187    0.026931    0.207144   \n",
      "degree+            0.104568  0.454771       0.682043    0.041624    0.180067   \n",
      "pop_inc            0.019885  0.279422       0.471092    0.043384    0.366550   \n",
      "foreign_inc        0.001546  0.016851       0.020453    0.000316    0.037000   \n",
      "unemployment       0.183943  0.615135       0.472713    0.183201    0.045748   \n",
      "unemp_change       1.000000  0.066291       0.090623    0.098116    0.036906   \n",
      "poverty            0.066291  1.000000       0.785793    0.168003    0.221902   \n",
      "median_hh_inc      0.090623  0.785793       1.000000    0.015169    0.101642   \n",
      "pov_change         0.098116  0.168003       0.015169    1.000000    0.110383   \n",
      "median_age         0.036906  0.221902       0.101642    0.110383    1.000000   \n",
      "hh_afr_am          0.064379  0.499156       0.259392    0.175289    0.227336   \n",
      "hh_hisp            0.007952  0.113116       0.009422    0.065226    0.279127   \n",
      "hh_female          0.110549  0.652611       0.372521    0.153636    0.404074   \n",
      "hh_food_st         0.059748  0.798025       0.665656    0.003210    0.166532   \n",
      "foreign_07         0.064652  0.056858       0.312203    0.076071    0.339199   \n",
      "vets               0.056544  0.250037       0.019323    0.019285    0.581999   \n",
      "vets_male          0.047924  0.007948       0.114610    0.073455    0.253513   \n",
      "viol_crime         0.089313  0.274912       0.131107    0.156160    0.253912   \n",
      "prop_crime         0.118463  0.207684       0.084427    0.190884    0.304777   \n",
      "numeric            0.178912  0.221173       0.234599    0.109515    0.080597   \n",
      "\n",
      "               hh_afr_am   hh_hisp  hh_female  hh_food_st  foreign_07  \\\n",
      "< diploma       0.337359  0.416976   0.535661    0.650381    0.212229   \n",
      "degree+         0.078255  0.014507   0.240072    0.515622    0.322974   \n",
      "pop_inc         0.089242  0.157683   0.038155    0.246238    0.303593   \n",
      "foreign_inc     0.001260  0.001310   0.005963    0.014470    0.033247   \n",
      "unemployment    0.393471  0.007594   0.523734    0.590354    0.035868   \n",
      "unemp_change    0.064379  0.007952   0.110549    0.059748    0.064652   \n",
      "poverty         0.499156  0.113116   0.652611    0.798025    0.056858   \n",
      "median_hh_inc   0.259392  0.009422   0.372521    0.665656    0.312203   \n",
      "pov_change      0.175289  0.065226   0.153636    0.003210    0.076071   \n",
      "median_age      0.227336  0.279127   0.404074    0.166532    0.339199   \n",
      "hh_afr_am       1.000000  0.092092   0.739806    0.397476    0.004000   \n",
      "hh_hisp         0.092092  1.000000   0.149867    0.094142    0.620512   \n",
      "hh_female       0.739806  0.149867   1.000000    0.643308    0.100466   \n",
      "hh_food_st      0.397476  0.094142   0.643308    1.000000    0.151541   \n",
      "foreign_07      0.004000  0.620512   0.100466    0.151541    1.000000   \n",
      "vets            0.255743  0.248963   0.351229    0.247639    0.295849   \n",
      "vets_male       0.227712  0.039826   0.211769    0.000263    0.080055   \n",
      "viol_crime      0.383991  0.149977   0.410960    0.211620    0.173330   \n",
      "prop_crime      0.319378  0.118512   0.362391    0.157115    0.160763   \n",
      "numeric         0.135588  0.035820   0.075377    0.246898    0.069864   \n",
      "\n",
      "                   vets  vets_male  viol_crime  prop_crime   numeric  \n",
      "< diploma      0.372515   0.062093    0.178997    0.093883  0.131000  \n",
      "degree+        0.041605   0.179124    0.018872    0.102160  0.129538  \n",
      "pop_inc        0.101889   0.196671    0.079051    0.170892  0.059277  \n",
      "foreign_inc    0.023127   0.019287    0.013310    0.036638  0.009029  \n",
      "unemployment   0.056444   0.051601    0.210825    0.154293  0.328106  \n",
      "unemp_change   0.056544   0.047924    0.089313    0.118463  0.178912  \n",
      "poverty        0.250037   0.007948    0.274912    0.207684  0.221173  \n",
      "median_hh_inc  0.019323   0.114610    0.131107    0.084427  0.234599  \n",
      "pov_change     0.019285   0.073455    0.156160    0.190884  0.109515  \n",
      "median_age     0.581999   0.253513    0.253912    0.304777  0.080597  \n",
      "hh_afr_am      0.255743   0.227712    0.383991    0.319378  0.135588  \n",
      "hh_hisp        0.248963   0.039826    0.149977    0.118512  0.035820  \n",
      "hh_female      0.351229   0.211769    0.410960    0.362391  0.075377  \n",
      "hh_food_st     0.247639   0.000263    0.211620    0.157115  0.246898  \n",
      "foreign_07     0.295849   0.080055    0.173330    0.160763  0.069864  \n",
      "vets           1.000000   0.125628    0.102366    0.065826  0.153610  \n",
      "vets_male      0.125628   1.000000    0.150457    0.199141  0.034193  \n",
      "viol_crime     0.102366   0.150457    1.000000    0.705886  0.140350  \n",
      "prop_crime     0.065826   0.199141    0.705886    1.000000  0.152519  \n",
      "numeric        0.153610   0.034193    0.140350    0.152519  1.000000  \n"
     ]
    }
   ],
   "source": [
    "bivariate = data.drop(['urban_inf', 'death_rate'], axis=1).corr().abs()\n",
    "print(bivariate)"
   ]
  },
  {
   "cell_type": "markdown",
   "metadata": {
    "deletable": true,
    "editable": true
   },
   "source": [
    "**poverty** correlates strongly with several other variables, so drop it. The two crime variables correlate strongly with each other, so combine them into one. "
   ]
  },
  {
   "cell_type": "code",
   "execution_count": 917,
   "metadata": {
    "collapsed": false,
    "deletable": true,
    "editable": true
   },
   "outputs": [],
   "source": [
    "data['crime'] = (data['viol_crime'] + data['prop_crime'])\n",
    "data = data.drop(['viol_crime', 'prop_crime', 'poverty'], axis=1)"
   ]
  },
  {
   "cell_type": "code",
   "execution_count": 918,
   "metadata": {
    "collapsed": false,
    "deletable": true,
    "editable": true
   },
   "outputs": [
    {
     "data": {
      "image/png": "[encoded data removed]",
      "text/plain": [
       "<matplotlib.figure.Figure at 0x11cf94dd8>"
      ]
     },
     "metadata": {},
     "output_type": "display_data"
    }
   ],
   "source": [
    "corrmat = data.drop(['urban_inf', 'death_rate'], axis=1).corr().abs()\n",
    "heatmap = sns.heatmap(corrmat, vmax=.8, square=True)\n",
    "heatmap.figure.savefig('images/heatmap.png')"
   ]
  },
  {
   "cell_type": "markdown",
   "metadata": {
    "deletable": true,
    "editable": true
   },
   "source": [
    "There are other correlations, but variance inflation factor (VIF) analysis will be used to determine which should be removed. But first look at outliers in the independent variables."
   ]
  },
  {
   "cell_type": "code",
   "execution_count": 919,
   "metadata": {
    "collapsed": true,
    "deletable": true,
    "editable": true
   },
   "outputs": [],
   "source": [
    "def get_outliers(df, multiplier=1.5):\n",
    "    stats = df.describe()\n",
    "    iqr = stats.loc['75%'] - stats.loc['25%']\n",
    "    lower = stats.loc['25%'] - multiplier * iqr\n",
    "    upper = stats.loc['75%'] + multiplier * iqr\n",
    "    return ((df < lower) | (df > upper))"
   ]
  },
  {
   "cell_type": "code",
   "execution_count": 920,
   "metadata": {
    "collapsed": false,
    "deletable": true,
    "editable": true
   },
   "outputs": [
    {
     "data": {
      "text/plain": [
       "Index(['< diploma', 'degree+', 'urban_inf', 'pop_inc', 'foreign_inc',\n",
       "       'unemployment', 'unemp_change', 'median_hh_inc', 'pov_change',\n",
       "       'median_age', 'hh_afr_am', 'hh_hisp', 'hh_female', 'hh_food_st',\n",
       "       'foreign_07', 'vets', 'vets_male', 'death_rate', 'numeric', 'crime'],\n",
       "      dtype='object')"
      ]
     },
     "execution_count": 920,
     "metadata": {},
     "output_type": "execute_result"
    }
   ],
   "source": [
    "data.columns"
   ]
  },
  {
   "cell_type": "code",
   "execution_count": 921,
   "metadata": {
    "collapsed": false,
    "deletable": true,
    "editable": true
   },
   "outputs": [
    {
     "data": {
      "text/plain": [
       "1547"
      ]
     },
     "execution_count": 921,
     "metadata": {},
     "output_type": "execute_result"
    }
   ],
   "source": [
    "outliers = get_outliers(data.drop(['urban_inf', 'death_rate'], axis=1))\n",
    "len(data[outliers.any(axis=1)])"
   ]
  },
  {
   "cell_type": "code",
   "execution_count": 922,
   "metadata": {
    "collapsed": false,
    "deletable": true,
    "editable": true
   },
   "outputs": [
    {
     "data": {
      "text/plain": [
       "927"
      ]
     },
     "execution_count": 922,
     "metadata": {},
     "output_type": "execute_result"
    }
   ],
   "source": [
    "extreme_outliers = get_outliers(data.drop(['urban_inf', 'death_rate'], axis=1), 2.5)\n",
    "len(data[extreme_outliers.any(axis=1)])"
   ]
  },
  {
   "cell_type": "code",
   "execution_count": 923,
   "metadata": {
    "collapsed": false,
    "deletable": true,
    "editable": true
   },
   "outputs": [
    {
     "data": {
      "text/plain": [
       "273"
      ]
     },
     "execution_count": 923,
     "metadata": {},
     "output_type": "execute_result"
    }
   ],
   "source": [
    "xx_outliers = list((data[extreme_outliers.sum(axis=1) > 1]).index)\n",
    "len(xx_outliers)"
   ]
  },
  {
   "cell_type": "markdown",
   "metadata": {
    "deletable": true,
    "editable": true
   },
   "source": [
    "Almost half the dataset contains outliers, and more than a quarter contains extreme outliers that are more than 2.5 times the IQR below the first quartile or above the third. As an alternative to dropping a large number of samples, apply robust scaling to the predictors. Scikit-learn has two solutions, robust scaling and quantile transformation. Try them both. If necessary drop the most extreme (xx) outliers, those samples having more than one extreme outlier."
   ]
  },
  {
   "cell_type": "code",
   "execution_count": 924,
   "metadata": {
    "collapsed": true,
    "deletable": true,
    "editable": true
   },
   "outputs": [],
   "source": [
    "from sklearn.model_selection import train_test_split\n",
    "\n",
    "data_train, data_test, targets_train, targets_test = train_test_split(data.drop('death_rate', axis=1),\n",
    "                                                                     data['death_rate'], test_size=.2,\n",
    "                                                                     stratify=data['death_rate'], random_state=13)"
   ]
  },
  {
   "cell_type": "markdown",
   "metadata": {
    "deletable": true,
    "editable": true
   },
   "source": [
    "It is necessary to separate the training and test data before scaling/transforming to prevent data leakage from the test data when fitting the scaling and transformation algorithms. "
   ]
  },
  {
   "cell_type": "code",
   "execution_count": 925,
   "metadata": {
    "collapsed": false,
    "deletable": true,
    "editable": true
   },
   "outputs": [],
   "source": [
    "from sklearn.preprocessing import RobustScaler, QuantileTransformer\n",
    "robust = RobustScaler()\n",
    "quantile = QuantileTransformer()\n",
    "\n",
    "r_train = pd.DataFrame(robust.fit_transform(data_train.drop(['urban_inf'], axis=1)),\n",
    "                       index=data_train.index, columns=data_train.drop(['urban_inf'], axis=1).columns)\n",
    "r_train['urban_inf'] = data_train['urban_inf']\n",
    "\n",
    "q_train = pd.DataFrame(quantile.fit_transform(data_train.drop(['urban_inf'], axis=1)),\n",
    "                       index=data_train.index, columns=data_train.drop(['urban_inf'], axis=1).columns)\n",
    "q_train['urban_inf'] = data_train['urban_inf']"
   ]
  },
  {
   "cell_type": "markdown",
   "metadata": {
    "deletable": true,
    "editable": true
   },
   "source": [
    "*Note: Both robust scaling and quantile transformation leave binary features unchanged, so __urban_inf__ will be one-hot encoded later.*"
   ]
  },
  {
   "cell_type": "markdown",
   "metadata": {
    "deletable": true,
    "editable": true
   },
   "source": [
    "Use VIF analysis to programmatically eliminate the variables with the highest VIF scores."
   ]
  },
  {
   "cell_type": "code",
   "execution_count": 926,
   "metadata": {
    "collapsed": false,
    "deletable": true,
    "editable": true
   },
   "outputs": [
    {
     "data": {
      "text/html": [
       "<div>\n",
       "<table border=\"1\" class=\"dataframe\">\n",
       "  <thead>\n",
       "    <tr style=\"text-align: right;\">\n",
       "      <th></th>\n",
       "      <th>VIF</th>\n",
       "      <th>features</th>\n",
       "    </tr>\n",
       "  </thead>\n",
       "  <tbody>\n",
       "    <tr>\n",
       "      <th>0</th>\n",
       "      <td>4.549152</td>\n",
       "      <td>&lt; diploma</td>\n",
       "    </tr>\n",
       "    <tr>\n",
       "      <th>1</th>\n",
       "      <td>3.380767</td>\n",
       "      <td>degree+</td>\n",
       "    </tr>\n",
       "    <tr>\n",
       "      <th>2</th>\n",
       "      <td>1.675102</td>\n",
       "      <td>pop_inc</td>\n",
       "    </tr>\n",
       "    <tr>\n",
       "      <th>3</th>\n",
       "      <td>1.008448</td>\n",
       "      <td>foreign_inc</td>\n",
       "    </tr>\n",
       "    <tr>\n",
       "      <th>4</th>\n",
       "      <td>1.924162</td>\n",
       "      <td>unemployment</td>\n",
       "    </tr>\n",
       "    <tr>\n",
       "      <th>5</th>\n",
       "      <td>1.080467</td>\n",
       "      <td>unemp_change</td>\n",
       "    </tr>\n",
       "    <tr>\n",
       "      <th>6</th>\n",
       "      <td>3.008699</td>\n",
       "      <td>median_hh_inc</td>\n",
       "    </tr>\n",
       "    <tr>\n",
       "      <th>7</th>\n",
       "      <td>1.142916</td>\n",
       "      <td>pov_change</td>\n",
       "    </tr>\n",
       "    <tr>\n",
       "      <th>8</th>\n",
       "      <td>2.306545</td>\n",
       "      <td>median_age</td>\n",
       "    </tr>\n",
       "    <tr>\n",
       "      <th>9</th>\n",
       "      <td>2.715394</td>\n",
       "      <td>hh_afr_am</td>\n",
       "    </tr>\n",
       "    <tr>\n",
       "      <th>10</th>\n",
       "      <td>2.377824</td>\n",
       "      <td>hh_hisp</td>\n",
       "    </tr>\n",
       "    <tr>\n",
       "      <th>11</th>\n",
       "      <td>3.905629</td>\n",
       "      <td>hh_female</td>\n",
       "    </tr>\n",
       "    <tr>\n",
       "      <th>12</th>\n",
       "      <td>3.366569</td>\n",
       "      <td>hh_food_st</td>\n",
       "    </tr>\n",
       "    <tr>\n",
       "      <th>13</th>\n",
       "      <td>2.907921</td>\n",
       "      <td>foreign_07</td>\n",
       "    </tr>\n",
       "    <tr>\n",
       "      <th>14</th>\n",
       "      <td>2.091195</td>\n",
       "      <td>vets</td>\n",
       "    </tr>\n",
       "    <tr>\n",
       "      <th>15</th>\n",
       "      <td>1.375355</td>\n",
       "      <td>vets_male</td>\n",
       "    </tr>\n",
       "    <tr>\n",
       "      <th>16</th>\n",
       "      <td>1.392641</td>\n",
       "      <td>crime</td>\n",
       "    </tr>\n",
       "  </tbody>\n",
       "</table>\n",
       "</div>"
      ],
      "text/plain": [
       "         VIF       features\n",
       "0   4.549152      < diploma\n",
       "1   3.380767        degree+\n",
       "2   1.675102        pop_inc\n",
       "3   1.008448    foreign_inc\n",
       "4   1.924162   unemployment\n",
       "5   1.080467   unemp_change\n",
       "6   3.008699  median_hh_inc\n",
       "7   1.142916     pov_change\n",
       "8   2.306545     median_age\n",
       "9   2.715394      hh_afr_am\n",
       "10  2.377824        hh_hisp\n",
       "11  3.905629      hh_female\n",
       "12  3.366569     hh_food_st\n",
       "13  2.907921     foreign_07\n",
       "14  2.091195           vets\n",
       "15  1.375355      vets_male\n",
       "16  1.392641          crime"
      ]
     },
     "execution_count": 926,
     "metadata": {},
     "output_type": "execute_result"
    }
   ],
   "source": [
    "from statsmodels.stats.outliers_influence import variance_inflation_factor\n",
    "\n",
    "vif = pd.DataFrame()\n",
    "remove = ['urban_inf', 'numeric']\n",
    "features = r_train.drop(remove, axis=1)\n",
    "vif[\"VIF\"] = [variance_inflation_factor(features.values, i) for i in range(features.shape[1])]\n",
    "vif[\"features\"] = features.columns\n",
    "vif"
   ]
  },
  {
   "cell_type": "code",
   "execution_count": 927,
   "metadata": {
    "collapsed": false,
    "deletable": true,
    "editable": true
   },
   "outputs": [
    {
     "data": {
      "text/html": [
       "<div>\n",
       "<table border=\"1\" class=\"dataframe\">\n",
       "  <thead>\n",
       "    <tr style=\"text-align: right;\">\n",
       "      <th></th>\n",
       "      <th>VIF</th>\n",
       "      <th>features</th>\n",
       "    </tr>\n",
       "  </thead>\n",
       "  <tbody>\n",
       "    <tr>\n",
       "      <th>0</th>\n",
       "      <td>1.452512</td>\n",
       "      <td>degree+</td>\n",
       "    </tr>\n",
       "    <tr>\n",
       "      <th>1</th>\n",
       "      <td>1.410385</td>\n",
       "      <td>pop_inc</td>\n",
       "    </tr>\n",
       "    <tr>\n",
       "      <th>2</th>\n",
       "      <td>1.006773</td>\n",
       "      <td>foreign_inc</td>\n",
       "    </tr>\n",
       "    <tr>\n",
       "      <th>3</th>\n",
       "      <td>1.458214</td>\n",
       "      <td>unemployment</td>\n",
       "    </tr>\n",
       "    <tr>\n",
       "      <th>4</th>\n",
       "      <td>1.064378</td>\n",
       "      <td>unemp_change</td>\n",
       "    </tr>\n",
       "    <tr>\n",
       "      <th>5</th>\n",
       "      <td>1.091204</td>\n",
       "      <td>pov_change</td>\n",
       "    </tr>\n",
       "    <tr>\n",
       "      <th>6</th>\n",
       "      <td>1.468414</td>\n",
       "      <td>hh_afr_am</td>\n",
       "    </tr>\n",
       "    <tr>\n",
       "      <th>7</th>\n",
       "      <td>1.122044</td>\n",
       "      <td>hh_hisp</td>\n",
       "    </tr>\n",
       "    <tr>\n",
       "      <th>8</th>\n",
       "      <td>1.163958</td>\n",
       "      <td>vets</td>\n",
       "    </tr>\n",
       "    <tr>\n",
       "      <th>9</th>\n",
       "      <td>1.227601</td>\n",
       "      <td>vets_male</td>\n",
       "    </tr>\n",
       "    <tr>\n",
       "      <th>10</th>\n",
       "      <td>1.266945</td>\n",
       "      <td>crime</td>\n",
       "    </tr>\n",
       "  </tbody>\n",
       "</table>\n",
       "</div>"
      ],
      "text/plain": [
       "         VIF      features\n",
       "0   1.452512       degree+\n",
       "1   1.410385       pop_inc\n",
       "2   1.006773   foreign_inc\n",
       "3   1.458214  unemployment\n",
       "4   1.064378  unemp_change\n",
       "5   1.091204    pov_change\n",
       "6   1.468414     hh_afr_am\n",
       "7   1.122044       hh_hisp\n",
       "8   1.163958          vets\n",
       "9   1.227601     vets_male\n",
       "10  1.266945         crime"
      ]
     },
     "execution_count": 927,
     "metadata": {},
     "output_type": "execute_result"
    }
   ],
   "source": [
    "max_VIF = max(vif['VIF'])\n",
    "while max_VIF > 2:\n",
    "    remove = remove + list(vif[vif['VIF'] == max_VIF]['features'])\n",
    "    features = r_train.drop(remove, axis=1)\n",
    "    vif = pd.DataFrame()\n",
    "    vif[\"VIF\"] = [variance_inflation_factor(features.values, i) for i in range(features.shape[1])]\n",
    "    vif[\"features\"] = features.columns\n",
    "    max_VIF = max(vif['VIF'])\n",
    "    \n",
    "r_features = list(features.columns) + ['urban_inf']\n",
    "vif"
   ]
  },
  {
   "cell_type": "code",
   "execution_count": 928,
   "metadata": {
    "collapsed": false,
    "deletable": true,
    "editable": true
   },
   "outputs": [
    {
     "data": {
      "text/html": [
       "<div>\n",
       "<table border=\"1\" class=\"dataframe\">\n",
       "  <thead>\n",
       "    <tr style=\"text-align: right;\">\n",
       "      <th></th>\n",
       "      <th>VIF</th>\n",
       "      <th>features</th>\n",
       "    </tr>\n",
       "  </thead>\n",
       "  <tbody>\n",
       "    <tr>\n",
       "      <th>0</th>\n",
       "      <td>13.839509</td>\n",
       "      <td>&lt; diploma</td>\n",
       "    </tr>\n",
       "    <tr>\n",
       "      <th>1</th>\n",
       "      <td>12.055705</td>\n",
       "      <td>degree+</td>\n",
       "    </tr>\n",
       "    <tr>\n",
       "      <th>2</th>\n",
       "      <td>7.332232</td>\n",
       "      <td>pop_inc</td>\n",
       "    </tr>\n",
       "    <tr>\n",
       "      <th>3</th>\n",
       "      <td>5.485744</td>\n",
       "      <td>foreign_inc</td>\n",
       "    </tr>\n",
       "    <tr>\n",
       "      <th>4</th>\n",
       "      <td>8.442237</td>\n",
       "      <td>unemployment</td>\n",
       "    </tr>\n",
       "    <tr>\n",
       "      <th>5</th>\n",
       "      <td>4.526456</td>\n",
       "      <td>unemp_change</td>\n",
       "    </tr>\n",
       "    <tr>\n",
       "      <th>6</th>\n",
       "      <td>9.848987</td>\n",
       "      <td>median_hh_inc</td>\n",
       "    </tr>\n",
       "    <tr>\n",
       "      <th>7</th>\n",
       "      <td>4.355851</td>\n",
       "      <td>pov_change</td>\n",
       "    </tr>\n",
       "    <tr>\n",
       "      <th>8</th>\n",
       "      <td>9.631193</td>\n",
       "      <td>median_age</td>\n",
       "    </tr>\n",
       "    <tr>\n",
       "      <th>9</th>\n",
       "      <td>9.378383</td>\n",
       "      <td>hh_afr_am</td>\n",
       "    </tr>\n",
       "    <tr>\n",
       "      <th>10</th>\n",
       "      <td>13.815452</td>\n",
       "      <td>hh_hisp</td>\n",
       "    </tr>\n",
       "    <tr>\n",
       "      <th>11</th>\n",
       "      <td>13.521652</td>\n",
       "      <td>hh_female</td>\n",
       "    </tr>\n",
       "    <tr>\n",
       "      <th>12</th>\n",
       "      <td>13.249074</td>\n",
       "      <td>hh_food_st</td>\n",
       "    </tr>\n",
       "    <tr>\n",
       "      <th>13</th>\n",
       "      <td>15.696382</td>\n",
       "      <td>foreign_07</td>\n",
       "    </tr>\n",
       "    <tr>\n",
       "      <th>14</th>\n",
       "      <td>7.330329</td>\n",
       "      <td>vets</td>\n",
       "    </tr>\n",
       "    <tr>\n",
       "      <th>15</th>\n",
       "      <td>4.712523</td>\n",
       "      <td>vets_male</td>\n",
       "    </tr>\n",
       "    <tr>\n",
       "      <th>16</th>\n",
       "      <td>6.499154</td>\n",
       "      <td>crime</td>\n",
       "    </tr>\n",
       "  </tbody>\n",
       "</table>\n",
       "</div>"
      ],
      "text/plain": [
       "          VIF       features\n",
       "0   13.839509      < diploma\n",
       "1   12.055705        degree+\n",
       "2    7.332232        pop_inc\n",
       "3    5.485744    foreign_inc\n",
       "4    8.442237   unemployment\n",
       "5    4.526456   unemp_change\n",
       "6    9.848987  median_hh_inc\n",
       "7    4.355851     pov_change\n",
       "8    9.631193     median_age\n",
       "9    9.378383      hh_afr_am\n",
       "10  13.815452        hh_hisp\n",
       "11  13.521652      hh_female\n",
       "12  13.249074     hh_food_st\n",
       "13  15.696382     foreign_07\n",
       "14   7.330329           vets\n",
       "15   4.712523      vets_male\n",
       "16   6.499154          crime"
      ]
     },
     "execution_count": 928,
     "metadata": {},
     "output_type": "execute_result"
    }
   ],
   "source": [
    "vif2 = pd.DataFrame()\n",
    "remove = ['urban_inf', 'numeric']\n",
    "features2 = q_train.drop(remove, axis=1)\n",
    "vif2[\"VIF\"] = [variance_inflation_factor(features2.values, i) for i in range(features2.shape[1])]\n",
    "vif2[\"features\"] = features2.columns\n",
    "vif2"
   ]
  },
  {
   "cell_type": "code",
   "execution_count": 929,
   "metadata": {
    "collapsed": false,
    "deletable": true,
    "editable": true
   },
   "outputs": [
    {
     "data": {
      "text/html": [
       "<div>\n",
       "<table border=\"1\" class=\"dataframe\">\n",
       "  <thead>\n",
       "    <tr style=\"text-align: right;\">\n",
       "      <th></th>\n",
       "      <th>VIF</th>\n",
       "      <th>features</th>\n",
       "    </tr>\n",
       "  </thead>\n",
       "  <tbody>\n",
       "    <tr>\n",
       "      <th>0</th>\n",
       "      <td>6.095568</td>\n",
       "      <td>degree+</td>\n",
       "    </tr>\n",
       "    <tr>\n",
       "      <th>1</th>\n",
       "      <td>5.917317</td>\n",
       "      <td>pop_inc</td>\n",
       "    </tr>\n",
       "    <tr>\n",
       "      <th>2</th>\n",
       "      <td>5.129618</td>\n",
       "      <td>foreign_inc</td>\n",
       "    </tr>\n",
       "    <tr>\n",
       "      <th>3</th>\n",
       "      <td>5.527086</td>\n",
       "      <td>unemployment</td>\n",
       "    </tr>\n",
       "    <tr>\n",
       "      <th>4</th>\n",
       "      <td>4.304151</td>\n",
       "      <td>unemp_change</td>\n",
       "    </tr>\n",
       "    <tr>\n",
       "      <th>5</th>\n",
       "      <td>3.523071</td>\n",
       "      <td>pov_change</td>\n",
       "    </tr>\n",
       "    <tr>\n",
       "      <th>6</th>\n",
       "      <td>6.104386</td>\n",
       "      <td>hh_afr_am</td>\n",
       "    </tr>\n",
       "    <tr>\n",
       "      <th>7</th>\n",
       "      <td>5.551572</td>\n",
       "      <td>hh_hisp</td>\n",
       "    </tr>\n",
       "    <tr>\n",
       "      <th>8</th>\n",
       "      <td>3.842143</td>\n",
       "      <td>vets</td>\n",
       "    </tr>\n",
       "    <tr>\n",
       "      <th>9</th>\n",
       "      <td>3.514568</td>\n",
       "      <td>vets_male</td>\n",
       "    </tr>\n",
       "    <tr>\n",
       "      <th>10</th>\n",
       "      <td>5.938132</td>\n",
       "      <td>crime</td>\n",
       "    </tr>\n",
       "  </tbody>\n",
       "</table>\n",
       "</div>"
      ],
      "text/plain": [
       "         VIF      features\n",
       "0   6.095568       degree+\n",
       "1   5.917317       pop_inc\n",
       "2   5.129618   foreign_inc\n",
       "3   5.527086  unemployment\n",
       "4   4.304151  unemp_change\n",
       "5   3.523071    pov_change\n",
       "6   6.104386     hh_afr_am\n",
       "7   5.551572       hh_hisp\n",
       "8   3.842143          vets\n",
       "9   3.514568     vets_male\n",
       "10  5.938132         crime"
      ]
     },
     "execution_count": 929,
     "metadata": {},
     "output_type": "execute_result"
    }
   ],
   "source": [
    "max_VIF = max(vif2['VIF'])\n",
    "while len(vif2) > 11:\n",
    "    remove = remove + list(vif2[vif2['VIF'] == max_VIF]['features'])\n",
    "    features2 = q_train.drop(remove, axis=1)\n",
    "    vif2 = pd.DataFrame()\n",
    "    vif2[\"VIF\"] = [variance_inflation_factor(features2.values, i) for i in range(features2.shape[1])]\n",
    "    vif2[\"features\"] = features2.columns\n",
    "    max_VIF = max(vif2['VIF'])\n",
    "\n",
    "q_features = list(features2.columns) + ['urban_inf']   \n",
    "vif2"
   ]
  },
  {
   "cell_type": "markdown",
   "metadata": {
    "deletable": true,
    "editable": true
   },
   "source": [
    "Although the VIF scores were higher with the quantile-transformed data, the order was the same, so proceed with the 11 features from the scaled data that scored below 2."
   ]
  },
  {
   "cell_type": "markdown",
   "metadata": {
    "deletable": true,
    "editable": true
   },
   "source": [
    "Try a range of classifiers. "
   ]
  },
  {
   "cell_type": "code",
   "execution_count": 930,
   "metadata": {
    "collapsed": true,
    "deletable": true,
    "editable": true
   },
   "outputs": [],
   "source": [
    "Xr1_train = r_train.loc[:, r_features]\n",
    "Xr1_train = pd.get_dummies(Xr1_train, prefix='urb_inf_', columns=['urban_inf'])\n",
    "Yr1_train = targets_train\n",
    "\n",
    "Xq1_train = q_train.loc[:, r_features]\n",
    "Xq1_train = pd.get_dummies(Xq1_train, prefix='urb_inf_', columns=['urban_inf'])\n",
    "Yq1_train = targets_train"
   ]
  },
  {
   "cell_type": "code",
   "execution_count": 931,
   "metadata": {
    "collapsed": true,
    "deletable": true,
    "editable": true
   },
   "outputs": [],
   "source": [
    "from sklearn.metrics import matthews_corrcoef, make_scorer\n",
    "matthews = make_scorer(matthews_corrcoef)\n",
    "\n",
    "from sklearn.model_selection import cross_val_score"
   ]
  },
  {
   "cell_type": "code",
   "execution_count": 932,
   "metadata": {
    "collapsed": true,
    "deletable": true,
    "editable": true
   },
   "outputs": [],
   "source": [
    "from sklearn.model_selection import cross_val_score\n",
    "\n",
    "from sklearn.neighbors import KNeighborsClassifier\n",
    "from sklearn.linear_model import LogisticRegression\n",
    "from sklearn.ensemble import GradientBoostingClassifier\n",
    "from sklearn.linear_model import SGDClassifier\n",
    "from sklearn.ensemble import RandomForestClassifier\n",
    "from sklearn.svm import SVC"
   ]
  },
  {
   "cell_type": "code",
   "execution_count": 935,
   "metadata": {
    "collapsed": false,
    "deletable": true,
    "editable": true
   },
   "outputs": [],
   "source": [
    "knn = KNeighborsClassifier()\n",
    "lrc = LogisticRegression(class_weight='balanced')\n",
    "gbc = GradientBoostingClassifier()\n",
    "sgd = SGDClassifier(class_weight='balanced', tol=1e-3)\n",
    "rfc = RandomForestClassifier(class_weight='balanced')\n",
    "svc = SVC(class_weight='balanced')"
   ]
  },
  {
   "cell_type": "code",
   "execution_count": 936,
   "metadata": {
    "collapsed": false,
    "deletable": true,
    "editable": true
   },
   "outputs": [],
   "source": [
    "classifiers = [lrc, gbc, sgd, rfc, svc, knn]\n",
    "names = ['lrc', 'gbc', 'sgd', 'rfc', 'svc', 'knn']\n",
    "full_names = {'lrc':'Logistic regression', 'gbc':'Gradient boosting', 'sgd':'Stochastic gradient descent',\n",
    "              'rfc':'Random forest', 'svc':'Support vector', 'knn':'K-Nearest neighbors'}\n",
    "\n",
    "index = pd.MultiIndex.from_product([['Y16', 'Y8', 'Y4', 'Y2'], ['r', 'q'], [1, 2]])\n",
    "results = pd.DataFrame(index=index, columns=names)\n",
    "\n",
    "def run_trials(X, Y, targets, scale, feature_set):\n",
    "    for name, clf in zip(names, classifiers):\n",
    "        scores = cross_val_score(clf, X, Y, cv=5, scoring=matthews)\n",
    "        results.loc[targets, scale, feature_set][name] = np.mean(scores)\n",
    "        %time print('{} scores: {}'.format(full_names[name], scores))"
   ]
  },
  {
   "cell_type": "code",
   "execution_count": 937,
   "metadata": {
    "collapsed": false,
    "deletable": true,
    "editable": true
   },
   "outputs": [
    {
     "name": "stdout",
     "output_type": "stream",
     "text": [
      "Logistic regression scores: [ 0.05086417  0.07282134  0.06603775  0.04443182  0.05898859]\n",
      "CPU times: user 1.75 ms, sys: 106 µs, total: 1.86 ms\n",
      "Wall time: 464 µs\n",
      "Gradient boosting scores: [ 0.04641526  0.07536195  0.06416592  0.06177084  0.09184377]\n",
      "CPU times: user 440 µs, sys: 54 µs, total: 494 µs\n",
      "Wall time: 477 µs\n",
      "Stochastic gradient descent scores: [ 0.0344151   0.02383705  0.04745438  0.05397181  0.02920583]\n",
      "CPU times: user 1.56 ms, sys: 73 µs, total: 1.63 ms\n",
      "Wall time: 407 µs\n",
      "Random forest scores: [ 0.03741979  0.01701082  0.06501173  0.02598711  0.07604956]\n",
      "CPU times: user 375 µs, sys: 48 µs, total: 423 µs\n",
      "Wall time: 407 µs\n",
      "Support vector scores: [ 0.07783805  0.09284539  0.0659536   0.07159398  0.09485769]\n",
      "CPU times: user 404 µs, sys: 50 µs, total: 454 µs\n",
      "Wall time: 440 µs\n",
      "K-Nearest neighbors scores: [ 0.07062363  0.01861974  0.07746329  0.03420713  0.06930431]\n",
      "CPU times: user 380 µs, sys: 32 µs, total: 412 µs\n",
      "Wall time: 417 µs\n"
     ]
    }
   ],
   "source": [
    "run_trials(Xr1_train, Yr1_train, 'Y16', 'r', 1)"
   ]
  },
  {
   "cell_type": "markdown",
   "metadata": {
    "deletable": true,
    "editable": true
   },
   "source": [
    "All of the stock classifiers performed poorly, with support vector doing the best, followed by gradient boosting and logistic regression."
   ]
  },
  {
   "cell_type": "code",
   "execution_count": 938,
   "metadata": {
    "collapsed": false,
    "deletable": true,
    "editable": true
   },
   "outputs": [
    {
     "name": "stdout",
     "output_type": "stream",
     "text": [
      "Logistic regression scores: [ 0.05249489  0.06837129  0.04810064  0.05307293  0.06903587]\n",
      "CPU times: user 2.63 ms, sys: 220 µs, total: 2.85 ms\n",
      "Wall time: 721 µs\n",
      "Gradient boosting scores: [ 0.06354822  0.06196945  0.06606989  0.06196256  0.09073018]\n",
      "CPU times: user 369 µs, sys: 48 µs, total: 417 µs\n",
      "Wall time: 405 µs\n",
      "Stochastic gradient descent scores: [ 0.0382684   0.03000142  0.03315811  0.04686783  0.0570851 ]\n",
      "CPU times: user 2 ms, sys: 169 µs, total: 2.17 ms\n",
      "Wall time: 537 µs\n",
      "Random forest scores: [ 0.03685459  0.05119224  0.0439854   0.01998485  0.07507335]\n",
      "CPU times: user 397 µs, sys: 48 µs, total: 445 µs\n",
      "Wall time: 432 µs\n",
      "Support vector scores: [ 0.02685441  0.05997005  0.053471    0.04396285  0.05533475]\n",
      "CPU times: user 428 µs, sys: 54 µs, total: 482 µs\n",
      "Wall time: 469 µs\n",
      "K-Nearest neighbors scores: [ 0.01657498  0.03476783  0.02542581  0.03843304  0.0462092 ]\n",
      "CPU times: user 360 µs, sys: 43 µs, total: 403 µs\n",
      "Wall time: 395 µs\n"
     ]
    }
   ],
   "source": [
    "run_trials(Xq1_train, Yq1_train, 'Y16', 'q', 1)"
   ]
  },
  {
   "cell_type": "markdown",
   "metadata": {
    "deletable": true,
    "editable": true
   },
   "source": [
    "The quantile-transformed data performed even worse. Try an alternative selection process starting with correlations with the target variable."
   ]
  },
  {
   "cell_type": "code",
   "execution_count": 939,
   "metadata": {
    "collapsed": false,
    "deletable": true,
    "editable": true
   },
   "outputs": [
    {
     "data": {
      "text/plain": [
       "< diploma        0.137277\n",
       "degree+          0.135954\n",
       "pop_inc          0.066918\n",
       "foreign_inc      0.004850\n",
       "unemployment     0.315348\n",
       "unemp_change     0.183969\n",
       "median_hh_inc    0.241291\n",
       "pov_change       0.097023\n",
       "median_age       0.083324\n",
       "hh_afr_am        0.141008\n",
       "hh_hisp          0.044675\n",
       "hh_female        0.071277\n",
       "hh_food_st       0.247499\n",
       "foreign_07       0.083056\n",
       "vets             0.143301\n",
       "vets_male        0.037117\n",
       "crime            0.143831\n",
       "Name: numeric, dtype: float64"
      ]
     },
     "execution_count": 939,
     "metadata": {},
     "output_type": "execute_result"
    }
   ],
   "source": [
    "bivariate = r_train.drop('urban_inf', axis=1).corr().abs()\n",
    "bivariate.loc['numeric'].drop('numeric')"
   ]
  },
  {
   "cell_type": "code",
   "execution_count": 940,
   "metadata": {
    "collapsed": false,
    "deletable": true,
    "editable": true
   },
   "outputs": [],
   "source": [
    "features2 = list(bivariate[bivariate.loc['numeric'] > .05].drop('numeric').index)"
   ]
  },
  {
   "cell_type": "code",
   "execution_count": 941,
   "metadata": {
    "collapsed": false,
    "deletable": true,
    "editable": true
   },
   "outputs": [
    {
     "data": {
      "text/html": [
       "<div>\n",
       "<table border=\"1\" class=\"dataframe\">\n",
       "  <thead>\n",
       "    <tr style=\"text-align: right;\">\n",
       "      <th></th>\n",
       "      <th>VIF</th>\n",
       "      <th>features</th>\n",
       "    </tr>\n",
       "  </thead>\n",
       "  <tbody>\n",
       "    <tr>\n",
       "      <th>0</th>\n",
       "      <td>4.091634</td>\n",
       "      <td>&lt; diploma</td>\n",
       "    </tr>\n",
       "    <tr>\n",
       "      <th>1</th>\n",
       "      <td>3.349758</td>\n",
       "      <td>degree+</td>\n",
       "    </tr>\n",
       "    <tr>\n",
       "      <th>2</th>\n",
       "      <td>1.673822</td>\n",
       "      <td>pop_inc</td>\n",
       "    </tr>\n",
       "    <tr>\n",
       "      <th>3</th>\n",
       "      <td>1.887261</td>\n",
       "      <td>unemployment</td>\n",
       "    </tr>\n",
       "    <tr>\n",
       "      <th>4</th>\n",
       "      <td>1.077989</td>\n",
       "      <td>unemp_change</td>\n",
       "    </tr>\n",
       "    <tr>\n",
       "      <th>5</th>\n",
       "      <td>2.997277</td>\n",
       "      <td>median_hh_inc</td>\n",
       "    </tr>\n",
       "    <tr>\n",
       "      <th>6</th>\n",
       "      <td>1.126923</td>\n",
       "      <td>pov_change</td>\n",
       "    </tr>\n",
       "    <tr>\n",
       "      <th>7</th>\n",
       "      <td>2.109809</td>\n",
       "      <td>median_age</td>\n",
       "    </tr>\n",
       "    <tr>\n",
       "      <th>8</th>\n",
       "      <td>2.551090</td>\n",
       "      <td>hh_afr_am</td>\n",
       "    </tr>\n",
       "    <tr>\n",
       "      <th>9</th>\n",
       "      <td>3.868226</td>\n",
       "      <td>hh_female</td>\n",
       "    </tr>\n",
       "    <tr>\n",
       "      <th>10</th>\n",
       "      <td>3.350698</td>\n",
       "      <td>hh_food_st</td>\n",
       "    </tr>\n",
       "    <tr>\n",
       "      <th>11</th>\n",
       "      <td>2.219591</td>\n",
       "      <td>foreign_07</td>\n",
       "    </tr>\n",
       "    <tr>\n",
       "      <th>12</th>\n",
       "      <td>1.797111</td>\n",
       "      <td>vets</td>\n",
       "    </tr>\n",
       "    <tr>\n",
       "      <th>13</th>\n",
       "      <td>1.384731</td>\n",
       "      <td>crime</td>\n",
       "    </tr>\n",
       "  </tbody>\n",
       "</table>\n",
       "</div>"
      ],
      "text/plain": [
       "         VIF       features\n",
       "0   4.091634      < diploma\n",
       "1   3.349758        degree+\n",
       "2   1.673822        pop_inc\n",
       "3   1.887261   unemployment\n",
       "4   1.077989   unemp_change\n",
       "5   2.997277  median_hh_inc\n",
       "6   1.126923     pov_change\n",
       "7   2.109809     median_age\n",
       "8   2.551090      hh_afr_am\n",
       "9   3.868226      hh_female\n",
       "10  3.350698     hh_food_st\n",
       "11  2.219591     foreign_07\n",
       "12  1.797111           vets\n",
       "13  1.384731          crime"
      ]
     },
     "execution_count": 941,
     "metadata": {},
     "output_type": "execute_result"
    }
   ],
   "source": [
    "vif = pd.DataFrame()\n",
    "features = r_train.loc[:, features2]\n",
    "vif[\"VIF\"] = [variance_inflation_factor(features.values, i) for i in range(features.shape[1])]\n",
    "vif[\"features\"] = features.columns\n",
    "vif"
   ]
  },
  {
   "cell_type": "code",
   "execution_count": 942,
   "metadata": {
    "collapsed": false,
    "deletable": true,
    "editable": true
   },
   "outputs": [
    {
     "data": {
      "text/html": [
       "<div>\n",
       "<table border=\"1\" class=\"dataframe\">\n",
       "  <thead>\n",
       "    <tr style=\"text-align: right;\">\n",
       "      <th></th>\n",
       "      <th>VIF</th>\n",
       "      <th>features</th>\n",
       "    </tr>\n",
       "  </thead>\n",
       "  <tbody>\n",
       "    <tr>\n",
       "      <th>0</th>\n",
       "      <td>1.546230</td>\n",
       "      <td>degree+</td>\n",
       "    </tr>\n",
       "    <tr>\n",
       "      <th>1</th>\n",
       "      <td>1.549868</td>\n",
       "      <td>pop_inc</td>\n",
       "    </tr>\n",
       "    <tr>\n",
       "      <th>2</th>\n",
       "      <td>1.465020</td>\n",
       "      <td>unemployment</td>\n",
       "    </tr>\n",
       "    <tr>\n",
       "      <th>3</th>\n",
       "      <td>1.070656</td>\n",
       "      <td>unemp_change</td>\n",
       "    </tr>\n",
       "    <tr>\n",
       "      <th>4</th>\n",
       "      <td>1.097285</td>\n",
       "      <td>pov_change</td>\n",
       "    </tr>\n",
       "    <tr>\n",
       "      <th>5</th>\n",
       "      <td>1.943621</td>\n",
       "      <td>median_age</td>\n",
       "    </tr>\n",
       "    <tr>\n",
       "      <th>6</th>\n",
       "      <td>1.388109</td>\n",
       "      <td>hh_afr_am</td>\n",
       "    </tr>\n",
       "    <tr>\n",
       "      <th>7</th>\n",
       "      <td>1.344904</td>\n",
       "      <td>foreign_07</td>\n",
       "    </tr>\n",
       "    <tr>\n",
       "      <th>8</th>\n",
       "      <td>1.646127</td>\n",
       "      <td>vets</td>\n",
       "    </tr>\n",
       "    <tr>\n",
       "      <th>9</th>\n",
       "      <td>1.318872</td>\n",
       "      <td>crime</td>\n",
       "    </tr>\n",
       "  </tbody>\n",
       "</table>\n",
       "</div>"
      ],
      "text/plain": [
       "        VIF      features\n",
       "0  1.546230       degree+\n",
       "1  1.549868       pop_inc\n",
       "2  1.465020  unemployment\n",
       "3  1.070656  unemp_change\n",
       "4  1.097285    pov_change\n",
       "5  1.943621    median_age\n",
       "6  1.388109     hh_afr_am\n",
       "7  1.344904    foreign_07\n",
       "8  1.646127          vets\n",
       "9  1.318872         crime"
      ]
     },
     "execution_count": 942,
     "metadata": {},
     "output_type": "execute_result"
    }
   ],
   "source": [
    "max_VIF = max(vif['VIF'])\n",
    "while max_VIF > 2:\n",
    "    remove = list(vif[vif['VIF'] == max_VIF]['features'])\n",
    "    reduced = [feature for feature in features if feature not in remove]\n",
    "    features = r_train.loc[:, reduced]\n",
    "    vif = pd.DataFrame()\n",
    "    vif[\"VIF\"] = [variance_inflation_factor(features.values, i) for i in range(features.shape[1])]\n",
    "    vif[\"features\"] = features.columns\n",
    "    max_VIF = max(vif['VIF'])\n",
    "vif"
   ]
  },
  {
   "cell_type": "code",
   "execution_count": 943,
   "metadata": {
    "collapsed": true,
    "deletable": true,
    "editable": true
   },
   "outputs": [],
   "source": [
    "features2 = list(vif['features']) + ['urban_inf']\n",
    "Xr2_train = r_train.loc[:, features2]\n",
    "Xr2_train = pd.get_dummies(Xr2_train, prefix='urb_inf_', columns=['urban_inf'])\n",
    "Yr2_train = targets_train\n",
    "\n",
    "Xq2_train = q_train.loc[:, (features2)]\n",
    "Xq2_train = pd.get_dummies(Xq2_train, prefix='urb_inf_', columns=['urban_inf'])\n",
    "Yq2_train = targets_train"
   ]
  },
  {
   "cell_type": "code",
   "execution_count": 944,
   "metadata": {
    "collapsed": false,
    "deletable": true,
    "editable": true
   },
   "outputs": [
    {
     "name": "stdout",
     "output_type": "stream",
     "text": [
      "Logistic regression scores: [ 0.06412226  0.07609716  0.0511766   0.05193429  0.07408108]\n",
      "CPU times: user 1.75 ms, sys: 83 µs, total: 1.84 ms\n",
      "Wall time: 459 µs\n",
      "Gradient boosting scores: [ 0.06294905  0.05162787  0.08661119  0.05421571  0.09498584]\n",
      "CPU times: user 490 µs, sys: 65 µs, total: 555 µs\n",
      "Wall time: 537 µs\n",
      "Stochastic gradient descent scores: [ 0.03385248  0.03746709  0.06650019  0.04284771  0.06014903]\n",
      "CPU times: user 5.65 ms, sys: 917 µs, total: 6.57 ms\n",
      "Wall time: 1.81 ms\n",
      "Random forest scores: [ 0.05550658  0.07157721  0.06044891  0.05236204  0.10527893]\n",
      "CPU times: user 1.05 ms, sys: 128 µs, total: 1.17 ms\n",
      "Wall time: 1.16 ms\n",
      "Support vector scores: [ 0.07190563  0.07200346  0.09713951  0.09069434  0.10320002]\n",
      "CPU times: user 384 µs, sys: 45 µs, total: 429 µs\n",
      "Wall time: 422 µs\n",
      "K-Nearest neighbors scores: [ 0.04406258  0.06012846  0.07290166  0.03992521  0.05960594]\n",
      "CPU times: user 537 µs, sys: 113 µs, total: 650 µs\n",
      "Wall time: 602 µs\n"
     ]
    }
   ],
   "source": [
    "run_trials(Xr2_train, Yr2_train, 'Y16', 'r', 2)"
   ]
  },
  {
   "cell_type": "code",
   "execution_count": 945,
   "metadata": {
    "collapsed": false,
    "deletable": true,
    "editable": true
   },
   "outputs": [
    {
     "name": "stdout",
     "output_type": "stream",
     "text": [
      "Logistic regression scores: [ 0.05536076  0.0661584   0.04062156  0.05498016  0.08575282]\n",
      "CPU times: user 1.61 ms, sys: 78 µs, total: 1.69 ms\n",
      "Wall time: 421 µs\n",
      "Gradient boosting scores: [ 0.02999205  0.0409069   0.09083293  0.05190793  0.08727649]\n",
      "CPU times: user 409 µs, sys: 52 µs, total: 461 µs\n",
      "Wall time: 451 µs\n",
      "Stochastic gradient descent scores: [ 0.01562488  0.03972564  0.05758096  0.05178885  0.03603954]\n",
      "CPU times: user 1.98 ms, sys: 137 µs, total: 2.12 ms\n",
      "Wall time: 524 µs\n",
      "Random forest scores: [ 0.05373383  0.08453299  0.03799896  0.05498294  0.05301281]\n",
      "CPU times: user 423 µs, sys: 77 µs, total: 500 µs\n",
      "Wall time: 466 µs\n",
      "Support vector scores: [ 0.03790855  0.06135298  0.04949953  0.04833966  0.06779856]\n",
      "CPU times: user 414 µs, sys: 53 µs, total: 467 µs\n",
      "Wall time: 457 µs\n",
      "K-Nearest neighbors scores: [ 0.05933857  0.04082642  0.05666089  0.01630364  0.029316  ]\n",
      "CPU times: user 390 µs, sys: 49 µs, total: 439 µs\n",
      "Wall time: 433 µs\n"
     ]
    }
   ],
   "source": [
    "run_trials(Xq2_train, Yq2_train, 'Y16', 'q', 2)"
   ]
  },
  {
   "cell_type": "markdown",
   "metadata": {
    "deletable": true,
    "editable": true
   },
   "source": [
    "The scores are very close for both training sets, but also very poor. Try combining targets to make fewer classes."
   ]
  },
  {
   "cell_type": "code",
   "execution_count": 946,
   "metadata": {
    "collapsed": false,
    "deletable": true,
    "editable": true
   },
   "outputs": [],
   "source": [
    "def combine_targets(input):\n",
    "    targets = sorted(input.unique(), key=lambda x: int(re.search('\\d+(?=-)', x).group()))\n",
    "    first = []\n",
    "    second = []\n",
    "    for i, r in enumerate(targets):\n",
    "        first.append(r) if i % 2 == 0 else second.append(r)\n",
    "    if len(first) != len(second):\n",
    "        second.append('30-31.9')\n",
    "    conversions = {}\n",
    "    for start, end in zip(first, second):\n",
    "        new_value = re.search('\\d+-', start).group() + re.search('(?<=-)\\d+.\\d+', end).group()\n",
    "        conversions.update(dict.fromkeys([start, end], new_value))\n",
    "    return input.apply(lambda x: conversions[x])"
   ]
  },
  {
   "cell_type": "code",
   "execution_count": 947,
   "metadata": {
    "collapsed": false,
    "deletable": true,
    "editable": true
   },
   "outputs": [],
   "source": [
    "Y_16_train = targets_train.apply(lambda x: '0-1.9' if x == '<2' else x)\n",
    "Y_16_train = Y_16_train.apply(lambda x: '30-31.9' if x == '30+' else x)\n",
    "\n",
    "Y_8_train = combine_targets(Y_16_train)\n"
   ]
  },
  {
   "cell_type": "code",
   "execution_count": 948,
   "metadata": {
    "collapsed": false,
    "deletable": true,
    "editable": true
   },
   "outputs": [
    {
     "name": "stdout",
     "output_type": "stream",
     "text": [
      "Logistic regression scores: [ 0.1321164   0.12608619  0.11768745  0.16575065  0.1230672 ]\n",
      "CPU times: user 1.58 ms, sys: 82 µs, total: 1.66 ms\n",
      "Wall time: 416 µs\n",
      "Gradient boosting scores: [ 0.15625616  0.11245976  0.09628238  0.12214904  0.14966475]\n",
      "CPU times: user 396 µs, sys: 49 µs, total: 445 µs\n",
      "Wall time: 434 µs\n",
      "Stochastic gradient descent scores: [ 0.07146414  0.06225771  0.03675962  0.06354764  0.0873632 ]\n",
      "CPU times: user 1.63 ms, sys: 71 µs, total: 1.7 ms\n",
      "Wall time: 425 µs\n",
      "Random forest scores: [ 0.12293009  0.11344306  0.11428825  0.12119113  0.12829457]\n",
      "CPU times: user 368 µs, sys: 54 µs, total: 422 µs\n",
      "Wall time: 404 µs\n",
      "Support vector scores: [ 0.16176329  0.1552665   0.12118051  0.14181695  0.18066868]\n",
      "CPU times: user 381 µs, sys: 51 µs, total: 432 µs\n",
      "Wall time: 419 µs\n",
      "K-Nearest neighbors scores: [ 0.15527279  0.11922847  0.1264419   0.05341478  0.10179591]\n",
      "CPU times: user 358 µs, sys: 40 µs, total: 398 µs\n",
      "Wall time: 390 µs\n"
     ]
    }
   ],
   "source": [
    "run_trials(Xr1_train, Y_8_train, 'Y8', 'r', 1)"
   ]
  },
  {
   "cell_type": "code",
   "execution_count": 949,
   "metadata": {
    "collapsed": false,
    "deletable": true,
    "editable": true
   },
   "outputs": [
    {
     "name": "stdout",
     "output_type": "stream",
     "text": [
      "Logistic regression scores: [ 0.12944753  0.09861998  0.11943153  0.15875462  0.12862111]\n",
      "CPU times: user 2.13 ms, sys: 203 µs, total: 2.33 ms\n",
      "Wall time: 589 µs\n",
      "Gradient boosting scores: [ 0.15661915  0.11279916  0.13877335  0.14226679  0.17363891]\n",
      "CPU times: user 407 µs, sys: 50 µs, total: 457 µs\n",
      "Wall time: 446 µs\n",
      "Stochastic gradient descent scores: [ 0.08349209  0.07375127  0.09280278  0.0832209   0.13114542]\n",
      "CPU times: user 2.25 ms, sys: 115 µs, total: 2.36 ms\n",
      "Wall time: 595 µs\n",
      "Random forest scores: [ 0.12133344  0.1323677   0.07397829  0.11168883  0.14000666]\n",
      "CPU times: user 415 µs, sys: 48 µs, total: 463 µs\n",
      "Wall time: 450 µs\n",
      "Support vector scores: [ 0.17969014  0.14638884  0.15362061  0.17601458  0.14875717]\n",
      "CPU times: user 474 µs, sys: 64 µs, total: 538 µs\n",
      "Wall time: 520 µs\n",
      "K-Nearest neighbors scores: [ 0.13861981  0.1179019   0.10333352  0.09355657  0.12178725]\n",
      "CPU times: user 409 µs, sys: 62 µs, total: 471 µs\n",
      "Wall time: 459 µs\n"
     ]
    }
   ],
   "source": [
    "run_trials(Xr2_train, Y_8_train, 'Y8', 'r', 2)"
   ]
  },
  {
   "cell_type": "code",
   "execution_count": 950,
   "metadata": {
    "collapsed": false,
    "deletable": true,
    "editable": true
   },
   "outputs": [
    {
     "name": "stdout",
     "output_type": "stream",
     "text": [
      "Logistic regression scores: [ 0.10162229  0.10126853  0.11825375  0.15335409  0.1460493 ]\n",
      "CPU times: user 1.67 ms, sys: 84 µs, total: 1.75 ms\n",
      "Wall time: 435 µs\n",
      "Gradient boosting scores: [ 0.13463337  0.14436889  0.12276287  0.15094769  0.14406414]\n",
      "CPU times: user 386 µs, sys: 44 µs, total: 430 µs\n",
      "Wall time: 418 µs\n",
      "Stochastic gradient descent scores: [ 0.10419837  0.06386417  0.08789412  0.06599048  0.10857556]\n",
      "CPU times: user 1.55 ms, sys: 79 µs, total: 1.63 ms\n",
      "Wall time: 408 µs\n",
      "Random forest scores: [ 0.13213705  0.07174946  0.1080819   0.08751764  0.13621233]\n",
      "CPU times: user 383 µs, sys: 50 µs, total: 433 µs\n",
      "Wall time: 418 µs\n",
      "Support vector scores: [ 0.11399134  0.11040416  0.10278132  0.14003048  0.10866748]\n",
      "CPU times: user 389 µs, sys: 52 µs, total: 441 µs\n",
      "Wall time: 429 µs\n",
      "K-Nearest neighbors scores: [ 0.09498106  0.09107381  0.09035221  0.15025924  0.06981338]\n",
      "CPU times: user 478 µs, sys: 66 µs, total: 544 µs\n",
      "Wall time: 523 µs\n"
     ]
    }
   ],
   "source": [
    "run_trials(Xq1_train, Y_8_train, 'Y8', 'q', 1)"
   ]
  },
  {
   "cell_type": "code",
   "execution_count": 951,
   "metadata": {
    "collapsed": false,
    "deletable": true,
    "editable": true
   },
   "outputs": [
    {
     "name": "stdout",
     "output_type": "stream",
     "text": [
      "Logistic regression scores: [ 0.12785724  0.11110969  0.123671    0.14998998  0.15340912]\n",
      "CPU times: user 2.01 ms, sys: 132 µs, total: 2.14 ms\n",
      "Wall time: 526 µs\n",
      "Gradient boosting scores: [ 0.12680603  0.13410442  0.10383225  0.12777934  0.16901651]\n",
      "CPU times: user 370 µs, sys: 47 µs, total: 417 µs\n",
      "Wall time: 402 µs\n",
      "Stochastic gradient descent scores: [ 0.08006019  0.09152391  0.07221708  0.08152844  0.09595232]\n",
      "CPU times: user 2.24 ms, sys: 125 µs, total: 2.37 ms\n",
      "Wall time: 583 µs\n",
      "Random forest scores: [ 0.15639983  0.1120778   0.06329557  0.14433139  0.12254405]\n",
      "CPU times: user 403 µs, sys: 48 µs, total: 451 µs\n",
      "Wall time: 444 µs\n",
      "Support vector scores: [ 0.10983792  0.10707372  0.08299396  0.14146136  0.12116338]\n",
      "CPU times: user 372 µs, sys: 50 µs, total: 422 µs\n",
      "Wall time: 404 µs\n",
      "K-Nearest neighbors scores: [ 0.09086141  0.12156315  0.12144978  0.12652622  0.10239106]\n",
      "CPU times: user 383 µs, sys: 36 µs, total: 419 µs\n",
      "Wall time: 413 µs\n"
     ]
    }
   ],
   "source": [
    "run_trials(Xq2_train, Y_8_train, 'Y8', 'q', 2)"
   ]
  },
  {
   "cell_type": "markdown",
   "metadata": {
    "deletable": true,
    "editable": true
   },
   "source": [
    "There was significant improvement, but performance is still poor. Try reducing to 4 classes."
   ]
  },
  {
   "cell_type": "code",
   "execution_count": 952,
   "metadata": {
    "collapsed": false,
    "deletable": true,
    "editable": true
   },
   "outputs": [],
   "source": [
    "Y_4_train = combine_targets(Y_8_train)"
   ]
  },
  {
   "cell_type": "code",
   "execution_count": 953,
   "metadata": {
    "collapsed": false,
    "deletable": true,
    "editable": true
   },
   "outputs": [
    {
     "name": "stdout",
     "output_type": "stream",
     "text": [
      "Logistic regression scores: [ 0.24111678  0.29677785  0.2335296   0.24637144  0.25710789]\n",
      "CPU times: user 1.87 ms, sys: 135 µs, total: 2.01 ms\n",
      "Wall time: 500 µs\n",
      "Gradient boosting scores: [ 0.28371812  0.22359973  0.24676684  0.30355216  0.24540668]\n",
      "CPU times: user 572 µs, sys: 126 µs, total: 698 µs\n",
      "Wall time: 633 µs\n",
      "Stochastic gradient descent scores: [ 0.08826504  0.18323008  0.13911     0.16819022  0.09971837]\n",
      "CPU times: user 1.93 ms, sys: 301 µs, total: 2.23 ms\n",
      "Wall time: 764 µs\n",
      "Random forest scores: [ 0.22923467  0.2052008   0.21288875  0.15193052  0.20464668]\n",
      "CPU times: user 399 µs, sys: 49 µs, total: 448 µs\n",
      "Wall time: 437 µs\n",
      "Support vector scores: [ 0.25490224  0.29562512  0.27366052  0.28031115  0.28125678]\n",
      "CPU times: user 563 µs, sys: 72 µs, total: 635 µs\n",
      "Wall time: 618 µs\n",
      "K-Nearest neighbors scores: [ 0.22669223  0.26371651  0.17223466  0.1753743   0.20189916]\n",
      "CPU times: user 386 µs, sys: 31 µs, total: 417 µs\n",
      "Wall time: 424 µs\n"
     ]
    }
   ],
   "source": [
    "run_trials(Xr1_train, Y_4_train, 'Y4', 'r', 1)"
   ]
  },
  {
   "cell_type": "code",
   "execution_count": 954,
   "metadata": {
    "collapsed": false,
    "deletable": true,
    "editable": true
   },
   "outputs": [
    {
     "name": "stdout",
     "output_type": "stream",
     "text": [
      "Logistic regression scores: [ 0.20733347  0.26372434  0.21958306  0.24569324  0.27005468]\n",
      "CPU times: user 2.81 ms, sys: 222 µs, total: 3.03 ms\n",
      "Wall time: 756 µs\n",
      "Gradient boosting scores: [ 0.31154593  0.25577977  0.24800647  0.29730169  0.29253908]\n",
      "CPU times: user 397 µs, sys: 48 µs, total: 445 µs\n",
      "Wall time: 433 µs\n",
      "Stochastic gradient descent scores: [ 0.09927232  0.1254128   0.19847473  0.18435574  0.13184086]\n",
      "CPU times: user 1.63 ms, sys: 81 µs, total: 1.71 ms\n",
      "Wall time: 429 µs\n",
      "Random forest scores: [ 0.19934942  0.20364685  0.20628974  0.21866901  0.22646789]\n",
      "CPU times: user 374 µs, sys: 49 µs, total: 423 µs\n",
      "Wall time: 408 µs\n",
      "Support vector scores: [ 0.27116062  0.28695198  0.31797694  0.33580963  0.25736527]\n",
      "CPU times: user 413 µs, sys: 46 µs, total: 459 µs\n",
      "Wall time: 446 µs\n",
      "K-Nearest neighbors scores: [ 0.2239976   0.25488042  0.21285002  0.23744324  0.23771442]\n",
      "CPU times: user 364 µs, sys: 26 µs, total: 390 µs\n",
      "Wall time: 395 µs\n"
     ]
    }
   ],
   "source": [
    "run_trials(Xr2_train, Y_4_train, 'Y4', 'r', 2)"
   ]
  },
  {
   "cell_type": "code",
   "execution_count": 955,
   "metadata": {
    "collapsed": false,
    "deletable": true,
    "editable": true
   },
   "outputs": [
    {
     "name": "stdout",
     "output_type": "stream",
     "text": [
      "Logistic regression scores: [ 0.22116479  0.23299329  0.21087918  0.23937598  0.2780047 ]\n",
      "CPU times: user 1.66 ms, sys: 121 µs, total: 1.78 ms\n",
      "Wall time: 445 µs\n",
      "Gradient boosting scores: [ 0.26652348  0.21790389  0.23468266  0.28361578  0.25646593]\n",
      "CPU times: user 367 µs, sys: 48 µs, total: 415 µs\n",
      "Wall time: 400 µs\n",
      "Stochastic gradient descent scores: [ 0.13782795  0.17477684  0.17955375  0.16834757  0.23984268]\n",
      "CPU times: user 2.21 ms, sys: 203 µs, total: 2.42 ms\n",
      "Wall time: 636 µs\n",
      "Random forest scores: [ 0.26874577  0.18110542  0.18501762  0.19344226  0.24045222]\n",
      "CPU times: user 368 µs, sys: 51 µs, total: 419 µs\n",
      "Wall time: 404 µs\n",
      "Support vector scores: [ 0.19170348  0.25420771  0.21172118  0.24394988  0.24288247]\n",
      "CPU times: user 373 µs, sys: 47 µs, total: 420 µs\n",
      "Wall time: 409 µs\n",
      "K-Nearest neighbors scores: [ 0.12390461  0.21607539  0.16480607  0.19959109  0.15646635]\n",
      "CPU times: user 376 µs, sys: 42 µs, total: 418 µs\n",
      "Wall time: 411 µs\n"
     ]
    }
   ],
   "source": [
    "run_trials(Xq1_train, Y_4_train, 'Y4', 'q', 1)"
   ]
  },
  {
   "cell_type": "code",
   "execution_count": 956,
   "metadata": {
    "collapsed": false,
    "deletable": true,
    "editable": true
   },
   "outputs": [
    {
     "name": "stdout",
     "output_type": "stream",
     "text": [
      "Logistic regression scores: [ 0.22452283  0.23788297  0.21214018  0.27655495  0.2738415 ]\n",
      "CPU times: user 1.94 ms, sys: 198 µs, total: 2.14 ms\n",
      "Wall time: 541 µs\n",
      "Gradient boosting scores: [ 0.30758168  0.26713498  0.28044592  0.29316499  0.28584792]\n",
      "CPU times: user 437 µs, sys: 96 µs, total: 533 µs\n",
      "Wall time: 513 µs\n",
      "Stochastic gradient descent scores: [ 0.09754587  0.21773917  0.19326022  0.21169039  0.11202905]\n",
      "CPU times: user 1.51 ms, sys: 109 µs, total: 1.62 ms\n",
      "Wall time: 419 µs\n",
      "Random forest scores: [ 0.25018653  0.19682672  0.21578956  0.19285591  0.23624485]\n",
      "CPU times: user 417 µs, sys: 55 µs, total: 472 µs\n",
      "Wall time: 459 µs\n",
      "Support vector scores: [ 0.1876356   0.24472353  0.22042767  0.26994928  0.23997731]\n",
      "CPU times: user 416 µs, sys: 48 µs, total: 464 µs\n",
      "Wall time: 449 µs\n",
      "K-Nearest neighbors scores: [ 0.14464612  0.23508972  0.19954673  0.25354423  0.16324948]\n",
      "CPU times: user 359 µs, sys: 31 µs, total: 390 µs\n",
      "Wall time: 395 µs\n"
     ]
    }
   ],
   "source": [
    "run_trials(Xq2_train, Y_4_train, 'Y4', 'q', 2)"
   ]
  },
  {
   "cell_type": "code",
   "execution_count": 957,
   "metadata": {
    "collapsed": true,
    "deletable": true,
    "editable": true
   },
   "outputs": [],
   "source": [
    "Y_2_train = combine_targets(Y_4_train)"
   ]
  },
  {
   "cell_type": "code",
   "execution_count": 958,
   "metadata": {
    "collapsed": false,
    "deletable": true,
    "editable": true
   },
   "outputs": [
    {
     "name": "stdout",
     "output_type": "stream",
     "text": [
      "Logistic regression scores: [ 0.43167188  0.43716142  0.33032901  0.38145576  0.44886286]\n",
      "CPU times: user 455 µs, sys: 53 µs, total: 508 µs\n",
      "Wall time: 514 µs\n",
      "Gradient boosting scores: [ 0.39295262  0.41963703  0.35488716  0.40513891  0.42075466]\n",
      "CPU times: user 423 µs, sys: 47 µs, total: 470 µs\n",
      "Wall time: 456 µs\n",
      "Stochastic gradient descent scores: [ 0.32241528  0.27156272  0.24350259  0.24062507  0.40652804]\n",
      "CPU times: user 396 µs, sys: 42 µs, total: 438 µs\n",
      "Wall time: 431 µs\n",
      "Random forest scores: [ 0.378223    0.32143512  0.28146764  0.28709467  0.3065817 ]\n",
      "CPU times: user 378 µs, sys: 51 µs, total: 429 µs\n",
      "Wall time: 416 µs\n",
      "Support vector scores: [ 0.3775485   0.48733972  0.38074459  0.39140343  0.47187592]\n",
      "CPU times: user 384 µs, sys: 62 µs, total: 446 µs\n",
      "Wall time: 418 µs\n",
      "K-Nearest neighbors scores: [ 0.37936868  0.38583587  0.28353895  0.30880422  0.37139128]\n",
      "CPU times: user 497 µs, sys: 81 µs, total: 578 µs\n",
      "Wall time: 548 µs\n"
     ]
    }
   ],
   "source": [
    "run_trials(Xr1_train, Y_2_train, 'Y2', 'r', 1)"
   ]
  },
  {
   "cell_type": "code",
   "execution_count": 959,
   "metadata": {
    "collapsed": false,
    "deletable": true,
    "editable": true
   },
   "outputs": [
    {
     "name": "stdout",
     "output_type": "stream",
     "text": [
      "Logistic regression scores: [ 0.42618452  0.42513564  0.35899455  0.38593217  0.4251092 ]\n",
      "CPU times: user 449 µs, sys: 62 µs, total: 511 µs\n",
      "Wall time: 489 µs\n",
      "Gradient boosting scores: [ 0.38513774  0.43915503  0.37605331  0.37161997  0.46805529]\n",
      "CPU times: user 406 µs, sys: 49 µs, total: 455 µs\n",
      "Wall time: 440 µs\n",
      "Stochastic gradient descent scores: [ 0.17020878  0.34782961  0.18299162  0.31086803  0.18311287]\n",
      "CPU times: user 621 µs, sys: 79 µs, total: 700 µs\n",
      "Wall time: 686 µs\n",
      "Random forest scores: [ 0.35090501  0.32949443  0.27699072  0.30588534  0.35931672]\n",
      "CPU times: user 390 µs, sys: 268 µs, total: 658 µs\n",
      "Wall time: 647 µs\n",
      "Support vector scores: [ 0.43023769  0.48165018  0.40594639  0.44691304  0.43776314]\n",
      "CPU times: user 407 µs, sys: 52 µs, total: 459 µs\n",
      "Wall time: 444 µs\n",
      "K-Nearest neighbors scores: [ 0.31719041  0.42944875  0.32856167  0.4399548   0.33596374]\n",
      "CPU times: user 412 µs, sys: 46 µs, total: 458 µs\n",
      "Wall time: 464 µs\n"
     ]
    }
   ],
   "source": [
    "run_trials(Xr2_train, Y_2_train, 'Y2', 'r', 2)"
   ]
  },
  {
   "cell_type": "code",
   "execution_count": 960,
   "metadata": {
    "collapsed": false,
    "deletable": true,
    "editable": true
   },
   "outputs": [
    {
     "name": "stdout",
     "output_type": "stream",
     "text": [
      "Logistic regression scores: [ 0.2972942   0.37115397  0.25967329  0.3340202   0.38267578]\n",
      "CPU times: user 366 µs, sys: 45 µs, total: 411 µs\n",
      "Wall time: 399 µs\n",
      "Gradient boosting scores: [ 0.35939606  0.42842498  0.36121478  0.4114983   0.43059699]\n",
      "CPU times: user 541 µs, sys: 56 µs, total: 597 µs\n",
      "Wall time: 604 µs\n",
      "Stochastic gradient descent scores: [ 0.29544566  0.23611596  0.25351706  0.24278026  0.30709921]\n",
      "CPU times: user 385 µs, sys: 35 µs, total: 420 µs\n",
      "Wall time: 425 µs\n",
      "Random forest scores: [ 0.26891534  0.33446239  0.26380669  0.39279255  0.31475217]\n",
      "CPU times: user 378 µs, sys: 47 µs, total: 425 µs\n",
      "Wall time: 417 µs\n",
      "Support vector scores: [ 0.29994768  0.39759252  0.30692306  0.32998724  0.39304805]\n",
      "CPU times: user 373 µs, sys: 49 µs, total: 422 µs\n",
      "Wall time: 411 µs\n",
      "K-Nearest neighbors scores: [ 0.28055197  0.33031239  0.27146334  0.31050098  0.27863159]\n",
      "CPU times: user 424 µs, sys: 47 µs, total: 471 µs\n",
      "Wall time: 459 µs\n"
     ]
    }
   ],
   "source": [
    "run_trials(Xq1_train, Y_2_train, 'Y2', 'q', 1)"
   ]
  },
  {
   "cell_type": "code",
   "execution_count": 961,
   "metadata": {
    "collapsed": false,
    "deletable": true,
    "editable": true
   },
   "outputs": [
    {
     "name": "stdout",
     "output_type": "stream",
     "text": [
      "Logistic regression scores: [ 0.29759495  0.37115397  0.27212242  0.34503506  0.33551655]\n",
      "CPU times: user 679 µs, sys: 156 µs, total: 835 µs\n",
      "Wall time: 740 µs\n",
      "Gradient boosting scores: [ 0.36814063  0.43652168  0.34853982  0.39961019  0.49349375]\n",
      "CPU times: user 370 µs, sys: 45 µs, total: 415 µs\n",
      "Wall time: 413 µs\n",
      "Stochastic gradient descent scores: [ 0.29018522  0.26024534  0.21956142  0.18770827  0.24568734]\n",
      "CPU times: user 364 µs, sys: 31 µs, total: 395 µs\n",
      "Wall time: 401 µs\n",
      "Random forest scores: [ 0.3884235   0.33545666  0.33829455  0.34709783  0.37455584]\n",
      "CPU times: user 428 µs, sys: 56 µs, total: 484 µs\n",
      "Wall time: 462 µs\n",
      "Support vector scores: [ 0.30022185  0.37377346  0.2691068   0.367602    0.3692935 ]\n",
      "CPU times: user 486 µs, sys: 53 µs, total: 539 µs\n",
      "Wall time: 543 µs\n",
      "K-Nearest neighbors scores: [ 0.3019092   0.35563773  0.28177393  0.36219638  0.21007284]\n",
      "CPU times: user 457 µs, sys: 43 µs, total: 500 µs\n",
      "Wall time: 505 µs\n"
     ]
    }
   ],
   "source": [
    "run_trials(Xq2_train, Y_2_train, 'Y2', 'q', 2)"
   ]
  },
  {
   "cell_type": "code",
   "execution_count": 962,
   "metadata": {
    "collapsed": false,
    "deletable": true,
    "editable": true
   },
   "outputs": [
    {
     "data": {
      "text/html": [
       "<div>\n",
       "<table border=\"1\" class=\"dataframe\">\n",
       "  <thead>\n",
       "    <tr style=\"text-align: right;\">\n",
       "      <th></th>\n",
       "      <th></th>\n",
       "      <th></th>\n",
       "      <th>lrc</th>\n",
       "      <th>gbc</th>\n",
       "      <th>sgd</th>\n",
       "      <th>rfc</th>\n",
       "      <th>svc</th>\n",
       "      <th>knn</th>\n",
       "    </tr>\n",
       "  </thead>\n",
       "  <tbody>\n",
       "    <tr>\n",
       "      <th rowspan=\"4\" valign=\"top\">Y16</th>\n",
       "      <th rowspan=\"2\" valign=\"top\">r</th>\n",
       "      <th>1</th>\n",
       "      <td>0.0586287</td>\n",
       "      <td>0.0679115</td>\n",
       "      <td>0.0377768</td>\n",
       "      <td>0.0442958</td>\n",
       "      <td>0.0806177</td>\n",
       "      <td>0.0540436</td>\n",
       "    </tr>\n",
       "    <tr>\n",
       "      <th>2</th>\n",
       "      <td>0.0634823</td>\n",
       "      <td>0.0700779</td>\n",
       "      <td>0.0481633</td>\n",
       "      <td>0.0690347</td>\n",
       "      <td>0.0869886</td>\n",
       "      <td>0.0553248</td>\n",
       "    </tr>\n",
       "    <tr>\n",
       "      <th rowspan=\"2\" valign=\"top\">q</th>\n",
       "      <th>1</th>\n",
       "      <td>0.0582151</td>\n",
       "      <td>0.0688561</td>\n",
       "      <td>0.0410762</td>\n",
       "      <td>0.0454181</td>\n",
       "      <td>0.0479186</td>\n",
       "      <td>0.0322822</td>\n",
       "    </tr>\n",
       "    <tr>\n",
       "      <th>2</th>\n",
       "      <td>0.0605747</td>\n",
       "      <td>0.0601833</td>\n",
       "      <td>0.040152</td>\n",
       "      <td>0.0568523</td>\n",
       "      <td>0.0529799</td>\n",
       "      <td>0.0404891</td>\n",
       "    </tr>\n",
       "    <tr>\n",
       "      <th rowspan=\"4\" valign=\"top\">Y8</th>\n",
       "      <th rowspan=\"2\" valign=\"top\">r</th>\n",
       "      <th>1</th>\n",
       "      <td>0.132942</td>\n",
       "      <td>0.127362</td>\n",
       "      <td>0.0642785</td>\n",
       "      <td>0.120029</td>\n",
       "      <td>0.152139</td>\n",
       "      <td>0.111231</td>\n",
       "    </tr>\n",
       "    <tr>\n",
       "      <th>2</th>\n",
       "      <td>0.126975</td>\n",
       "      <td>0.144819</td>\n",
       "      <td>0.0928825</td>\n",
       "      <td>0.115875</td>\n",
       "      <td>0.160894</td>\n",
       "      <td>0.11504</td>\n",
       "    </tr>\n",
       "    <tr>\n",
       "      <th rowspan=\"2\" valign=\"top\">q</th>\n",
       "      <th>1</th>\n",
       "      <td>0.12411</td>\n",
       "      <td>0.139355</td>\n",
       "      <td>0.0861045</td>\n",
       "      <td>0.10714</td>\n",
       "      <td>0.115175</td>\n",
       "      <td>0.0992959</td>\n",
       "    </tr>\n",
       "    <tr>\n",
       "      <th>2</th>\n",
       "      <td>0.133207</td>\n",
       "      <td>0.132308</td>\n",
       "      <td>0.0842564</td>\n",
       "      <td>0.11973</td>\n",
       "      <td>0.112506</td>\n",
       "      <td>0.112558</td>\n",
       "    </tr>\n",
       "    <tr>\n",
       "      <th rowspan=\"4\" valign=\"top\">Y4</th>\n",
       "      <th rowspan=\"2\" valign=\"top\">r</th>\n",
       "      <th>1</th>\n",
       "      <td>0.254981</td>\n",
       "      <td>0.260609</td>\n",
       "      <td>0.135703</td>\n",
       "      <td>0.20078</td>\n",
       "      <td>0.277151</td>\n",
       "      <td>0.207983</td>\n",
       "    </tr>\n",
       "    <tr>\n",
       "      <th>2</th>\n",
       "      <td>0.241278</td>\n",
       "      <td>0.281035</td>\n",
       "      <td>0.147871</td>\n",
       "      <td>0.210885</td>\n",
       "      <td>0.293853</td>\n",
       "      <td>0.233377</td>\n",
       "    </tr>\n",
       "    <tr>\n",
       "      <th rowspan=\"2\" valign=\"top\">q</th>\n",
       "      <th>1</th>\n",
       "      <td>0.236484</td>\n",
       "      <td>0.251838</td>\n",
       "      <td>0.18007</td>\n",
       "      <td>0.213753</td>\n",
       "      <td>0.228893</td>\n",
       "      <td>0.172169</td>\n",
       "    </tr>\n",
       "    <tr>\n",
       "      <th>2</th>\n",
       "      <td>0.244988</td>\n",
       "      <td>0.286835</td>\n",
       "      <td>0.166453</td>\n",
       "      <td>0.218381</td>\n",
       "      <td>0.232543</td>\n",
       "      <td>0.199215</td>\n",
       "    </tr>\n",
       "    <tr>\n",
       "      <th rowspan=\"4\" valign=\"top\">Y2</th>\n",
       "      <th rowspan=\"2\" valign=\"top\">r</th>\n",
       "      <th>1</th>\n",
       "      <td>0.405896</td>\n",
       "      <td>0.398674</td>\n",
       "      <td>0.296927</td>\n",
       "      <td>0.31496</td>\n",
       "      <td>0.421782</td>\n",
       "      <td>0.345788</td>\n",
       "    </tr>\n",
       "    <tr>\n",
       "      <th>2</th>\n",
       "      <td>0.404271</td>\n",
       "      <td>0.408004</td>\n",
       "      <td>0.239002</td>\n",
       "      <td>0.324518</td>\n",
       "      <td>0.440502</td>\n",
       "      <td>0.370224</td>\n",
       "    </tr>\n",
       "    <tr>\n",
       "      <th rowspan=\"2\" valign=\"top\">q</th>\n",
       "      <th>1</th>\n",
       "      <td>0.328963</td>\n",
       "      <td>0.398226</td>\n",
       "      <td>0.266992</td>\n",
       "      <td>0.314946</td>\n",
       "      <td>0.3455</td>\n",
       "      <td>0.294292</td>\n",
       "    </tr>\n",
       "    <tr>\n",
       "      <th>2</th>\n",
       "      <td>0.324285</td>\n",
       "      <td>0.409261</td>\n",
       "      <td>0.240678</td>\n",
       "      <td>0.356766</td>\n",
       "      <td>0.336</td>\n",
       "      <td>0.302318</td>\n",
       "    </tr>\n",
       "  </tbody>\n",
       "</table>\n",
       "</div>"
      ],
      "text/plain": [
       "               lrc        gbc        sgd        rfc        svc        knn\n",
       "Y16 r 1  0.0586287  0.0679115  0.0377768  0.0442958  0.0806177  0.0540436\n",
       "      2  0.0634823  0.0700779  0.0481633  0.0690347  0.0869886  0.0553248\n",
       "    q 1  0.0582151  0.0688561  0.0410762  0.0454181  0.0479186  0.0322822\n",
       "      2  0.0605747  0.0601833   0.040152  0.0568523  0.0529799  0.0404891\n",
       "Y8  r 1   0.132942   0.127362  0.0642785   0.120029   0.152139   0.111231\n",
       "      2   0.126975   0.144819  0.0928825   0.115875   0.160894    0.11504\n",
       "    q 1    0.12411   0.139355  0.0861045    0.10714   0.115175  0.0992959\n",
       "      2   0.133207   0.132308  0.0842564    0.11973   0.112506   0.112558\n",
       "Y4  r 1   0.254981   0.260609   0.135703    0.20078   0.277151   0.207983\n",
       "      2   0.241278   0.281035   0.147871   0.210885   0.293853   0.233377\n",
       "    q 1   0.236484   0.251838    0.18007   0.213753   0.228893   0.172169\n",
       "      2   0.244988   0.286835   0.166453   0.218381   0.232543   0.199215\n",
       "Y2  r 1   0.405896   0.398674   0.296927    0.31496   0.421782   0.345788\n",
       "      2   0.404271   0.408004   0.239002   0.324518   0.440502   0.370224\n",
       "    q 1   0.328963   0.398226   0.266992   0.314946     0.3455   0.294292\n",
       "      2   0.324285   0.409261   0.240678   0.356766      0.336   0.302318"
      ]
     },
     "execution_count": 962,
     "metadata": {},
     "output_type": "execute_result"
    }
   ],
   "source": [
    "results"
   ]
  },
  {
   "cell_type": "markdown",
   "metadata": {
    "deletable": true,
    "editable": true
   },
   "source": [
    "The data cannot perform better than reasonably well on binary classification, where robust scaling clearly outperforms quantile transformation on the three highest-scoring algorithms — support vector, logistic regression amd gradient boosting. The second feature set performs better, but would performance improve by dropping the most extreme outliers?"
   ]
  },
  {
   "cell_type": "code",
   "execution_count": 963,
   "metadata": {
    "collapsed": false,
    "deletable": true,
    "editable": true
   },
   "outputs": [],
   "source": [
    "train_xx = list(set(xx_outliers) & set(list(data_train.index)))\n",
    "test_xx = list(set(xx_outliers) & set(list(data_test.index)))"
   ]
  },
  {
   "cell_type": "code",
   "execution_count": 964,
   "metadata": {
    "collapsed": false,
    "deletable": true,
    "editable": true
   },
   "outputs": [],
   "source": [
    "Xr1_noxx_train = Xr1_train.drop(train_xx)\n",
    "Xr2_noxx_train = Xr2_train.drop(train_xx)\n",
    "Y_2_noxx_train = Y_2_train.drop(train_xx)"
   ]
  },
  {
   "cell_type": "code",
   "execution_count": 965,
   "metadata": {
    "collapsed": false,
    "deletable": true,
    "editable": true
   },
   "outputs": [],
   "source": [
    "index2 = pd.MultiIndex.from_product([['full', 'no_xx'], [1, 2]])\n",
    "results2 = pd.DataFrame(index=index2, columns=names)\n",
    "\n",
    "results2.loc['full', 1] = results.loc['Y2', 'r', 1]\n",
    "results2.loc['full', 2] = results.loc['Y2', 'r', 2]\n",
    "\n",
    "\n",
    "def run_trials2(X, Y, selected, feature_set):\n",
    "    for name, clf in zip(names, classifiers):\n",
    "        score = np.mean(cross_val_score(clf, X, Y, cv=5, scoring=matthews))\n",
    "        results2.loc[selected, feature_set][name] = score\n",
    "        %time print('{} average score: {}'.format(full_names[name], score))"
   ]
  },
  {
   "cell_type": "code",
   "execution_count": 966,
   "metadata": {
    "collapsed": false,
    "deletable": true,
    "editable": true
   },
   "outputs": [
    {
     "name": "stdout",
     "output_type": "stream",
     "text": [
      "Logistic regression average score: 0.4056613832042782\n",
      "CPU times: user 70 µs, sys: 47 µs, total: 117 µs\n",
      "Wall time: 105 µs\n",
      "Gradient boosting average score: 0.4042536807096672\n",
      "CPU times: user 77 µs, sys: 47 µs, total: 124 µs\n",
      "Wall time: 107 µs\n",
      "Stochastic gradient descent average score: 0.28466801367642225\n",
      "CPU times: user 56 µs, sys: 28 µs, total: 84 µs\n",
      "Wall time: 88 µs\n",
      "Random forest average score: 0.29164647598965676\n",
      "CPU times: user 68 µs, sys: 47 µs, total: 115 µs\n",
      "Wall time: 104 µs\n",
      "Support vector average score: 0.4382835309464636\n",
      "CPU times: user 79 µs, sys: 48 µs, total: 127 µs\n",
      "Wall time: 108 µs\n",
      "K-Nearest neighbors average score: 0.3602592184275963\n",
      "CPU times: user 59 µs, sys: 32 µs, total: 91 µs\n",
      "Wall time: 96.1 µs\n"
     ]
    }
   ],
   "source": [
    "run_trials2(Xr1_noxx_train, Y_2_noxx_train, 'no_xx', 1)"
   ]
  },
  {
   "cell_type": "code",
   "execution_count": 967,
   "metadata": {
    "collapsed": false,
    "deletable": true,
    "editable": true
   },
   "outputs": [
    {
     "name": "stdout",
     "output_type": "stream",
     "text": [
      "Logistic regression average score: 0.41151109255300933\n",
      "CPU times: user 108 µs, sys: 121 µs, total: 229 µs\n",
      "Wall time: 197 µs\n",
      "Gradient boosting average score: 0.3968723565322684\n",
      "CPU times: user 152 µs, sys: 90 µs, total: 242 µs\n",
      "Wall time: 214 µs\n",
      "Stochastic gradient descent average score: 0.31406481700184186\n",
      "CPU times: user 55 µs, sys: 28 µs, total: 83 µs\n",
      "Wall time: 87 µs\n",
      "Random forest average score: 0.35162322026120235\n",
      "CPU times: user 78 µs, sys: 54 µs, total: 132 µs\n",
      "Wall time: 119 µs\n",
      "Support vector average score: 0.43289122441388467\n",
      "CPU times: user 64 µs, sys: 43 µs, total: 107 µs\n",
      "Wall time: 102 µs\n",
      "K-Nearest neighbors average score: 0.35843025979023346\n",
      "CPU times: user 65 µs, sys: 42 µs, total: 107 µs\n",
      "Wall time: 101 µs\n"
     ]
    }
   ],
   "source": [
    "run_trials2(Xr2_noxx_train, Y_2_noxx_train, 'no_xx', 2)"
   ]
  },
  {
   "cell_type": "code",
   "execution_count": 968,
   "metadata": {
    "collapsed": false,
    "deletable": true,
    "editable": true
   },
   "outputs": [
    {
     "data": {
      "text/html": [
       "<div>\n",
       "<table border=\"1\" class=\"dataframe\">\n",
       "  <thead>\n",
       "    <tr style=\"text-align: right;\">\n",
       "      <th></th>\n",
       "      <th></th>\n",
       "      <th>lrc</th>\n",
       "      <th>gbc</th>\n",
       "      <th>sgd</th>\n",
       "      <th>rfc</th>\n",
       "      <th>svc</th>\n",
       "      <th>knn</th>\n",
       "    </tr>\n",
       "  </thead>\n",
       "  <tbody>\n",
       "    <tr>\n",
       "      <th rowspan=\"2\" valign=\"top\">full</th>\n",
       "      <th>1</th>\n",
       "      <td>0.405896</td>\n",
       "      <td>0.398674</td>\n",
       "      <td>0.296927</td>\n",
       "      <td>0.31496</td>\n",
       "      <td>0.421782</td>\n",
       "      <td>0.345788</td>\n",
       "    </tr>\n",
       "    <tr>\n",
       "      <th>2</th>\n",
       "      <td>0.404271</td>\n",
       "      <td>0.408004</td>\n",
       "      <td>0.239002</td>\n",
       "      <td>0.324518</td>\n",
       "      <td>0.440502</td>\n",
       "      <td>0.370224</td>\n",
       "    </tr>\n",
       "    <tr>\n",
       "      <th rowspan=\"2\" valign=\"top\">no_xx</th>\n",
       "      <th>1</th>\n",
       "      <td>0.405661</td>\n",
       "      <td>0.404254</td>\n",
       "      <td>0.284668</td>\n",
       "      <td>0.291646</td>\n",
       "      <td>0.438284</td>\n",
       "      <td>0.360259</td>\n",
       "    </tr>\n",
       "    <tr>\n",
       "      <th>2</th>\n",
       "      <td>0.411511</td>\n",
       "      <td>0.396872</td>\n",
       "      <td>0.314065</td>\n",
       "      <td>0.351623</td>\n",
       "      <td>0.432891</td>\n",
       "      <td>0.35843</td>\n",
       "    </tr>\n",
       "  </tbody>\n",
       "</table>\n",
       "</div>"
      ],
      "text/plain": [
       "              lrc       gbc       sgd       rfc       svc       knn\n",
       "full  1  0.405896  0.398674  0.296927   0.31496  0.421782  0.345788\n",
       "      2  0.404271  0.408004  0.239002  0.324518  0.440502  0.370224\n",
       "no_xx 1  0.405661  0.404254  0.284668  0.291646  0.438284  0.360259\n",
       "      2  0.411511  0.396872  0.314065  0.351623  0.432891   0.35843"
      ]
     },
     "execution_count": 968,
     "metadata": {},
     "output_type": "execute_result"
    }
   ],
   "source": [
    "results2"
   ]
  },
  {
   "cell_type": "markdown",
   "metadata": {
    "deletable": true,
    "editable": true
   },
   "source": [
    "The choices between the full dataset or the dataset without the most extreme outliers, and between the feaure sets is not clear. See how the top three models perform on the test set."
   ]
  },
  {
   "cell_type": "code",
   "execution_count": 969,
   "metadata": {
    "collapsed": false,
    "deletable": true,
    "editable": true
   },
   "outputs": [],
   "source": [
    "r_test = pd.DataFrame(robust.fit_transform(data_test.drop(['urban_inf'], axis=1)),\n",
    "                       index=data_test.index, columns=data_test.drop(['urban_inf'], axis=1).columns)\n",
    "r_test['urban_inf'] = data_test['urban_inf']\n",
    "\n",
    "Xr1_test = r_test.loc[:, r_features]\n",
    "Xr1_test = pd.get_dummies(Xr1_test, prefix='urb_inf_', columns=['urban_inf'])\n",
    "\n",
    "Xr2_test = r_test.loc[:, features2]\n",
    "Xr2_test = pd.get_dummies(Xr2_test, prefix='urb_inf_', columns=['urban_inf'])\n",
    "\n",
    "Xr1_noxx_test = r_test.loc[:, r_features].drop(test_xx)\n",
    "Xr1_noxx_test = pd.get_dummies(Xr1_noxx_test, prefix='urb_inf_', columns=['urban_inf'])\n",
    "\n",
    "Xr2_noxx_test = r_test.loc[:, features2].drop(test_xx)\n",
    "Xr2_noxx_test = pd.get_dummies(Xr2_noxx_test, prefix='urb_inf_', columns=['urban_inf'])\n",
    "\n",
    "Y_16_test = targets_test.apply(lambda x: '0-1.9' if x == '<2' else x)\n",
    "Y_16_test = Y_16_test.apply(lambda x: '30-31.9' if x == '30+' else x)\n",
    "Y_8_test = combine_targets(Y_16_test)\n",
    "Y_4_test = combine_targets(Y_8_test)\n",
    "Y_2_test = combine_targets(Y_4_test)\n",
    "\n",
    "Y_2_noxx_test = Y_2_test.drop(test_xx)"
   ]
  },
  {
   "cell_type": "code",
   "execution_count": 970,
   "metadata": {
    "collapsed": false,
    "deletable": true,
    "editable": true
   },
   "outputs": [],
   "source": [
    "index3 = pd.MultiIndex.from_product([['full', 'no_xx'], [1, 2]])\n",
    "names3 = ['lrc', 'gbc', 'svc']\n",
    "classifiers3 = [classifiers[i] for i in [0, 1, 4]]\n",
    "results3 = pd.DataFrame(index=index3, columns=names3)\n",
    "\n",
    "def run_trials3(X_train, X_test, Y_train, Y_test, selected, feature_set):\n",
    "    for name, clf in zip(names3, classifiers3):\n",
    "        clf.fit(X_train, Y_train)\n",
    "        Y_pred = clf.predict(X_test)\n",
    "        score = matthews_corrcoef(Y_test, Y_pred)\n",
    "        results3.loc[selected, feature_set][name] = score\n",
    "        %time print('{} average score: {}'.format(full_names[name], score))"
   ]
  },
  {
   "cell_type": "code",
   "execution_count": 971,
   "metadata": {
    "collapsed": false,
    "deletable": true,
    "editable": true
   },
   "outputs": [
    {
     "name": "stdout",
     "output_type": "stream",
     "text": [
      "Logistic regression average score: 0.3599204025324622\n",
      "CPU times: user 803 µs, sys: 113 µs, total: 916 µs\n",
      "Wall time: 220 µs\n",
      "Gradient boosting average score: 0.39099022521044685\n",
      "CPU times: user 74 µs, sys: 46 µs, total: 120 µs\n",
      "Wall time: 106 µs\n",
      "Support vector average score: 0.36786152851482773\n",
      "CPU times: user 74 µs, sys: 48 µs, total: 122 µs\n",
      "Wall time: 108 µs\n"
     ]
    }
   ],
   "source": [
    "run_trials3(Xr1_train, Xr1_test, Y_2_train, Y_2_test, 'full', 1)"
   ]
  },
  {
   "cell_type": "code",
   "execution_count": 972,
   "metadata": {
    "collapsed": false,
    "deletable": true,
    "editable": true
   },
   "outputs": [
    {
     "name": "stdout",
     "output_type": "stream",
     "text": [
      "Logistic regression average score: 0.3722667110752942\n",
      "CPU times: user 699 µs, sys: 251 µs, total: 950 µs\n",
      "Wall time: 323 µs\n",
      "Gradient boosting average score: 0.39434950071387503\n",
      "CPU times: user 70 µs, sys: 51 µs, total: 121 µs\n",
      "Wall time: 107 µs\n",
      "Support vector average score: 0.38445348724604494\n",
      "CPU times: user 68 µs, sys: 45 µs, total: 113 µs\n",
      "Wall time: 97 µs\n"
     ]
    }
   ],
   "source": [
    "run_trials3(Xr2_train, Xr2_test, Y_2_train, Y_2_test, 'full', 2)"
   ]
  },
  {
   "cell_type": "code",
   "execution_count": 973,
   "metadata": {
    "collapsed": false,
    "deletable": true,
    "editable": true
   },
   "outputs": [
    {
     "name": "stdout",
     "output_type": "stream",
     "text": [
      "Logistic regression average score: 0.3799486774825333\n",
      "CPU times: user 913 µs, sys: 176 µs, total: 1.09 ms\n",
      "Wall time: 273 µs\n",
      "Gradient boosting average score: 0.39480838688883063\n",
      "CPU times: user 72 µs, sys: 50 µs, total: 122 µs\n",
      "Wall time: 109 µs\n",
      "Support vector average score: 0.3846390616316681\n",
      "CPU times: user 125 µs, sys: 89 µs, total: 214 µs\n",
      "Wall time: 185 µs\n"
     ]
    }
   ],
   "source": [
    "run_trials3(Xr1_noxx_train, Xr1_noxx_test, Y_2_noxx_train, Y_2_noxx_test, 'no_xx', 1)"
   ]
  },
  {
   "cell_type": "code",
   "execution_count": 974,
   "metadata": {
    "collapsed": false,
    "deletable": true,
    "editable": true
   },
   "outputs": [
    {
     "name": "stdout",
     "output_type": "stream",
     "text": [
      "Logistic regression average score: 0.3853984655080666\n",
      "CPU times: user 842 µs, sys: 124 µs, total: 966 µs\n",
      "Wall time: 236 µs\n",
      "Gradient boosting average score: 0.42078681573621357\n",
      "CPU times: user 83 µs, sys: 50 µs, total: 133 µs\n",
      "Wall time: 112 µs\n",
      "Support vector average score: 0.390006747579955\n",
      "CPU times: user 105 µs, sys: 92 µs, total: 197 µs\n",
      "Wall time: 154 µs\n"
     ]
    }
   ],
   "source": [
    "run_trials3(Xr2_noxx_train, Xr2_noxx_test, Y_2_noxx_train, Y_2_noxx_test, 'no_xx', 2)"
   ]
  },
  {
   "cell_type": "code",
   "execution_count": 975,
   "metadata": {
    "collapsed": false,
    "deletable": true,
    "editable": true
   },
   "outputs": [
    {
     "data": {
      "text/html": [
       "<div>\n",
       "<table border=\"1\" class=\"dataframe\">\n",
       "  <thead>\n",
       "    <tr style=\"text-align: right;\">\n",
       "      <th></th>\n",
       "      <th></th>\n",
       "      <th>lrc</th>\n",
       "      <th>gbc</th>\n",
       "      <th>svc</th>\n",
       "    </tr>\n",
       "  </thead>\n",
       "  <tbody>\n",
       "    <tr>\n",
       "      <th rowspan=\"2\" valign=\"top\">full</th>\n",
       "      <th>1</th>\n",
       "      <td>0.35992</td>\n",
       "      <td>0.39099</td>\n",
       "      <td>0.367862</td>\n",
       "    </tr>\n",
       "    <tr>\n",
       "      <th>2</th>\n",
       "      <td>0.372267</td>\n",
       "      <td>0.39435</td>\n",
       "      <td>0.384453</td>\n",
       "    </tr>\n",
       "    <tr>\n",
       "      <th rowspan=\"2\" valign=\"top\">no_xx</th>\n",
       "      <th>1</th>\n",
       "      <td>0.379949</td>\n",
       "      <td>0.394808</td>\n",
       "      <td>0.384639</td>\n",
       "    </tr>\n",
       "    <tr>\n",
       "      <th>2</th>\n",
       "      <td>0.385398</td>\n",
       "      <td>0.420787</td>\n",
       "      <td>0.390007</td>\n",
       "    </tr>\n",
       "  </tbody>\n",
       "</table>\n",
       "</div>"
      ],
      "text/plain": [
       "              lrc       gbc       svc\n",
       "full  1   0.35992   0.39099  0.367862\n",
       "      2  0.372267   0.39435  0.384453\n",
       "no_xx 1  0.379949  0.394808  0.384639\n",
       "      2  0.385398  0.420787  0.390007"
      ]
     },
     "execution_count": 975,
     "metadata": {},
     "output_type": "execute_result"
    }
   ],
   "source": [
    "results3"
   ]
  },
  {
   "cell_type": "markdown",
   "metadata": {
    "deletable": true,
    "editable": true
   },
   "source": [
    "The feature set with the most extreme outliers removed performed better with all the classifiers, as did the second feature set. Both will be optimized, since the support vector scores are not much higher and logistic regression results are more interpretable. The second feature also consistently outperfoms the first with both of these classifiers."
   ]
  },
  {
   "cell_type": "code",
   "execution_count": 976,
   "metadata": {
    "collapsed": false
   },
   "outputs": [],
   "source": [
    "Y_bi_train = data.loc[list(Y_2_noxx_train.index), 'numeric'].apply(lambda x: 0 if x < 15 else 1)\n",
    "Y_bi_test = data.loc[list(Y_2_noxx_test.index), 'numeric'].apply(lambda x: 0 if x < 15 else 1)"
   ]
  },
  {
   "cell_type": "code",
   "execution_count": 977,
   "metadata": {
    "collapsed": false,
    "deletable": true,
    "editable": true
   },
   "outputs": [],
   "source": [
    "from sklearn.model_selection import GridSearchCV\n",
    "from sklearn.metrics import roc_auc_score\n",
    "from sklearn.metrics import confusion_matrix"
   ]
  },
  {
   "cell_type": "code",
   "execution_count": 978,
   "metadata": {
    "collapsed": true,
    "deletable": true,
    "editable": true
   },
   "outputs": [],
   "source": [
    "def optimize(clf, params, X_train, X_test, Y_train, Y_test):\n",
    "    model = GridSearchCV(clf, param_grid=params, scoring=matthews)\n",
    "    model.fit(X_train, Y_train)\n",
    "    print('Optimal parameters: {}'.format(model.best_params_))\n",
    "    preds = model.predict(X_test)\n",
    "    print('Matthews score: {}'.format(matthews_corrcoef(Y_test, preds)))\n",
    "    print('ROC-AUC score: {}'.format(roc_auc_score(Y_test, preds)))\n",
    "    print(confusion_matrix(Y_test, preds))\n",
    "    residuals = pd.DataFrame(model.best_estimator_.decision_function(X_test))\n",
    "    plt.scatter(residuals.index, residuals)\n",
    "    return model"
   ]
  },
  {
   "cell_type": "code",
   "execution_count": 987,
   "metadata": {
    "collapsed": false,
    "deletable": true,
    "editable": true
   },
   "outputs": [],
   "source": [
    "gbc_params = { 'loss': ['deviance', 'exponential'], 'learning_rate': [.01, .05, .1, .15],\n",
    "                'n_estimators': [50, 100, 150], 'max_depth': [3, 4],\n",
    "                'min_samples_split': [2, 3], 'min_samples_leaf': [1, 2]}\n",
    "\n",
    "svc_params = {'C': [0.5, 1, 4, 7], 'kernel': ['linear', 'poly', 'rbf'],\n",
    "             'gamma': [0.1, 0.12, 0.14], 'tol': [1e-7, 5e-7, 1e-6, 5e-6]}\n"
   ]
  },
  {
   "cell_type": "code",
   "execution_count": 988,
   "metadata": {
    "collapsed": false,
    "deletable": true,
    "editable": true
   },
   "outputs": [
    {
     "name": "stdout",
     "output_type": "stream",
     "text": [
      "Optimal parameters: {'learning_rate': 0.1, 'loss': 'deviance', 'max_depth': 3, 'min_samples_leaf': 1, 'min_samples_split': 3, 'n_estimators': 150}\n",
      "Matthews score: 0.44679152383970955\n",
      "ROC-AUC score: 0.7224836284259034\n",
      "[[237  73]\n",
      " [ 85 181]]\n"
     ]
    },
    {
     "data": {
      "image/png": "[encoded data removed]",
      "text/plain": [
       "<matplotlib.figure.Figure at 0x11cf8bbe0>"
      ]
     },
     "metadata": {},
     "output_type": "display_data"
    }
   ],
   "source": [
    "gbc_1 = optimize(gbc, gbc_params, Xr2_noxx_train, Xr2_noxx_test, Y_bi_train, Y_bi_test)"
   ]
  },
  {
   "cell_type": "code",
   "execution_count": 989,
   "metadata": {
    "collapsed": false
   },
   "outputs": [
    {
     "name": "stdout",
     "output_type": "stream",
     "text": [
      "Optimal parameters: {'C': 1, 'gamma': 0.14, 'kernel': 'rbf', 'tol': 1e-07}\n",
      "Matthews score: 0.45729204350294067\n",
      "ROC-AUC score: 0.7291777831675964\n",
      "[[226  84]\n",
      " [ 72 194]]\n"
     ]
    },
    {
     "data": {
      "image/png": "[encoded data removed]",
      "text/plain": [
       "<matplotlib.figure.Figure at 0x11ecab2b0>"
      ]
     },
     "metadata": {},
     "output_type": "display_data"
    }
   ],
   "source": [
    "svc_1 = optimize(svc, svc_params, Xr2_noxx_train, Xr2_noxx_test, Y_bi_train, Y_bi_test)"
   ]
  }
 ],
 "metadata": {
  "kernelspec": {
   "display_name": "Python 3",
   "language": "python",
   "name": "python3"
  },
  "language_info": {
   "codemirror_mode": {
    "name": "ipython",
    "version": 3
   },
   "file_extension": ".py",
   "mimetype": "text/x-python",
   "name": "python",
   "nbconvert_exporter": "python",
   "pygments_lexer": "ipython3",
   "version": "3.6.0"
  }
 },
 "nbformat": 4,
 "nbformat_minor": 2
}
