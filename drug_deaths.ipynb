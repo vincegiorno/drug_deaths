{
 "cells": [
  {
   "cell_type": "code",
   "execution_count": 1,
   "metadata": {},
   "outputs": [
    {
     "name": "stderr",
     "output_type": "stream",
     "text": [
      "/Users/vince/anaconda/lib/python3.5/site-packages/matplotlib/font_manager.py:273: UserWarning: Matplotlib is building the font cache using fc-list. This may take a moment.\n",
      "  warnings.warn('Matplotlib is building the font cache using fc-list. This may take a moment.')\n",
      "/Users/vince/anaconda/lib/python3.5/site-packages/matplotlib/font_manager.py:273: UserWarning: Matplotlib is building the font cache using fc-list. This may take a moment.\n",
      "  warnings.warn('Matplotlib is building the font cache using fc-list. This may take a moment.')\n"
     ]
    },
    {
     "ename": "ImportError",
     "evalue": "No module named 'seaborn'",
     "output_type": "error",
     "traceback": [
      "\u001b[0;31m---------------------------------------------------------------------------\u001b[0m",
      "\u001b[0;31mImportError\u001b[0m                               Traceback (most recent call last)",
      "\u001b[0;32m<ipython-input-1-2133b49d6d06>\u001b[0m in \u001b[0;36m<module>\u001b[0;34m()\u001b[0m\n\u001b[1;32m      2\u001b[0m \u001b[0;32mimport\u001b[0m \u001b[0mpandas\u001b[0m \u001b[0;32mas\u001b[0m \u001b[0mpd\u001b[0m\u001b[0;34m\u001b[0m\u001b[0m\n\u001b[1;32m      3\u001b[0m \u001b[0;32mimport\u001b[0m \u001b[0mmatplotlib\u001b[0m\u001b[0;34m.\u001b[0m\u001b[0mpyplot\u001b[0m \u001b[0;32mas\u001b[0m \u001b[0mplt\u001b[0m\u001b[0;34m\u001b[0m\u001b[0m\n\u001b[0;32m----> 4\u001b[0;31m \u001b[0;32mimport\u001b[0m \u001b[0mseaborn\u001b[0m \u001b[0;32mas\u001b[0m \u001b[0msns\u001b[0m\u001b[0;34m\u001b[0m\u001b[0m\n\u001b[0m\u001b[1;32m      5\u001b[0m \u001b[0;34m\u001b[0m\u001b[0m\n\u001b[1;32m      6\u001b[0m \u001b[0mget_ipython\u001b[0m\u001b[0;34m(\u001b[0m\u001b[0;34m)\u001b[0m\u001b[0;34m.\u001b[0m\u001b[0mmagic\u001b[0m\u001b[0;34m(\u001b[0m\u001b[0;34m'matplotlib inline'\u001b[0m\u001b[0;34m)\u001b[0m\u001b[0;34m\u001b[0m\u001b[0m\n",
      "\u001b[0;31mImportError\u001b[0m: No module named 'seaborn'"
     ]
    }
   ],
   "source": [
    "import numpy as np\n",
    "import pandas as pd\n",
    "import matplotlib.pyplot as plt\n",
    "import seaborn as sns\n",
    "\n",
    "%matplotlib inline"
   ]
  },
  {
   "cell_type": "code",
   "execution_count": null,
   "metadata": {
    "collapsed": true
   },
   "outputs": [],
   "source": [
    "data = pd.read_excel('data/Education.xls', skiprows=range(4), usecols=['FIPS Code',\n",
    "                                                'State', 'Area name',\n",
    "                                                'Percent of adults with less than a high school diploma, 2012-2016',\n",
    "                                                'Percent of adults with a bachelor\\'s degree or higher, 2012-2016'],\n",
    "                        converters={'FIPS Code': str})"
   ]
  },
  {
   "cell_type": "code",
   "execution_count": null,
   "metadata": {
    "collapsed": true
   },
   "outputs": [],
   "source": [
    "data.columns=['FIPS', 'state', 'name', '< diploma', 'degree+']"
   ]
  },
  {
   "cell_type": "markdown",
   "metadata": {},
   "source": [
    "Percentages of people who did not get a high school diploma and who got a bachelor's degree or higher."
   ]
  },
  {
   "cell_type": "code",
   "execution_count": null,
   "metadata": {},
   "outputs": [],
   "source": [
    "data.head()"
   ]
  },
  {
   "cell_type": "code",
   "execution_count": null,
   "metadata": {
    "collapsed": true
   },
   "outputs": [],
   "source": [
    "data['FIPS'] = data['FIPS'].apply(lambda x: x if x[2:5] != '000' else 'not county') # mark rows for US and states"
   ]
  },
  {
   "cell_type": "code",
   "execution_count": null,
   "metadata": {
    "collapsed": true
   },
   "outputs": [],
   "source": [
    "data = data[data['FIPS'] != 'not county']"
   ]
  },
  {
   "cell_type": "code",
   "execution_count": null,
   "metadata": {
    "collapsed": true
   },
   "outputs": [],
   "source": [
    "data = data[data['FIPS'] < '57000'] # remove Puerto Rico counties, which would be outliers for several features"
   ]
  },
  {
   "cell_type": "code",
   "execution_count": null,
   "metadata": {},
   "outputs": [],
   "source": [
    "data.head()"
   ]
  },
  {
   "cell_type": "code",
   "execution_count": null,
   "metadata": {},
   "outputs": [],
   "source": [
    "data.tail()"
   ]
  },
  {
   "cell_type": "code",
   "execution_count": null,
   "metadata": {
    "collapsed": true
   },
   "outputs": [],
   "source": [
    "population = pd.read_excel('data/Population.xls', skiprows=range(2), usecols=['FIPS','Urban_Influence_Code_2013',\n",
    "                                                                              'CENSUS_2010_POP','POP_ESTIMATE_2014',\n",
    "                                                                              'INTERNATIONALMIG_2010',\n",
    "                                                                              'INTERNATIONALMIG-2011',\n",
    "                                                                              'INTERNATIONAL_MIG_2012',\n",
    "                                                                              'INTERNATIONAL_MIG_2013'],\n",
    "                           converters={'FIPS': str, 'Urban_Influence_Code_2013': str})"
   ]
  },
  {
   "cell_type": "markdown",
   "metadata": {},
   "source": [
    "*Note: The urban influence code is not a smooth scale from 1 = most urban to 12 = least urban. It includes several categories of county — metropolitan, suburban, rural — and then ranks within each category. So it must be treted as categorical.*"
   ]
  },
  {
   "cell_type": "code",
   "execution_count": null,
   "metadata": {
    "collapsed": true
   },
   "outputs": [],
   "source": [
    "population.columns = ['FIPS', 'urban_inf', 'pop_2010', 'pop_2014', 'im1', 'im2', 'im3', 'im4']"
   ]
  },
  {
   "cell_type": "markdown",
   "metadata": {},
   "source": [
    "The urban influence code \"distinguishes metropolitan counties by population size of their metro area, and nonmetropolitan counties by size of the largest city or town and proximity to metro and micropolitan areas.\" Lower numbers are more urban. The other features being consteucted here are the change in poulation between 2010 and 2014, and the change in the international migrant population relative to the overall change. "
   ]
  },
  {
   "cell_type": "code",
   "execution_count": null,
   "metadata": {
    "collapsed": true
   },
   "outputs": [],
   "source": [
    "population['pop_inc'] = (population['pop_2014'] - population['pop_2010']) / population['pop_2010']"
   ]
  },
  {
   "cell_type": "code",
   "execution_count": null,
   "metadata": {
    "collapsed": true
   },
   "outputs": [],
   "source": [
    "population['foreign_inc'] = (population['im1'] + population['im2'] + population['im3'] + population['im4']\n",
    "                            ) / (population['pop_2014'] - population['pop_2010'])"
   ]
  },
  {
   "cell_type": "code",
   "execution_count": null,
   "metadata": {
    "collapsed": true
   },
   "outputs": [],
   "source": [
    "add_pop = population.drop(['pop_2010', 'im1', 'im2', 'im3', 'im4'], axis=1)"
   ]
  },
  {
   "cell_type": "code",
   "execution_count": null,
   "metadata": {},
   "outputs": [],
   "source": [
    "add_pop.head(6)"
   ]
  },
  {
   "cell_type": "markdown",
   "metadata": {},
   "source": [
    "Where the population increase is negative, the foreign increase must be multiplied by -1 so that the division in the calculation does not turn a positive foreign increase negative and vice-versa."
   ]
  },
  {
   "cell_type": "code",
   "execution_count": null,
   "metadata": {
    "collapsed": true
   },
   "outputs": [],
   "source": [
    "add_pop['foreign_inc'] = add_pop['foreign_inc'] * (add_pop['pop_inc'] / abs(add_pop['pop_inc']))"
   ]
  },
  {
   "cell_type": "code",
   "execution_count": null,
   "metadata": {},
   "outputs": [],
   "source": [
    "add_pop.head(6)"
   ]
  },
  {
   "cell_type": "code",
   "execution_count": null,
   "metadata": {
    "collapsed": true
   },
   "outputs": [],
   "source": [
    "data = data.set_index('FIPS').join(add_pop.set_index('FIPS'))"
   ]
  },
  {
   "cell_type": "code",
   "execution_count": null,
   "metadata": {
    "collapsed": true
   },
   "outputs": [],
   "source": [
    "unemployment = pd.read_excel('data/Unemployment.xls', skiprows=range(7), usecols=['FIPStxt', 'Unemployment_rate_2014'],\n",
    "                            converters={'FIPStxt': str})\n",
    "unemployment.columns = ['FIPS', 'unemployment']\n",
    "unemployment = unemployment.set_index('FIPS')\n",
    "unemployment2 = pd.read_excel('data/CLF01.xls', sheetname='Sheet9', usecols=['STCOU', 'CLF040210D'], converters={'STCOU': str})\n",
    "unemployment2.columns = ['FIPS', 'unemployment_2009']\n",
    "unemployment = unemployment.join(unemployment2.set_index('FIPS'))\n",
    "unemployment['unemp_change'] = unemployment['unemployment_2009'] - unemployment['unemployment']\n",
    "data = data.join(unemployment.drop('unemployment_2009', axis=1))"
   ]
  },
  {
   "cell_type": "markdown",
   "metadata": {},
   "source": [
    "The features are the unemployment rate in 2014 and the change in that rate from 2009."
   ]
  },
  {
   "cell_type": "code",
   "execution_count": null,
   "metadata": {
    "collapsed": true
   },
   "outputs": [],
   "source": [
    "poverty = pd.read_excel('data/Poverty.xls', skiprows=range(2), usecols = ['FIPStxt',\n",
    "                                                                         'PCTPOVALL_2014','MEDHHINC_2014'],\n",
    "                       converters={'FIPStxt': str})\n",
    "poverty.columns = ['FIPS', 'poverty', 'median_hh_inc'] # poverty rate and median household income\n",
    "poverty = poverty.set_index('FIPS')\n",
    "poverty2 = pd.read_excel('data/IPE01.xls', sheetname='Sheet5', usecols=['STCOU', 'IPE120209D'], converters={'STCOU': str})\n",
    "poverty2.columns = ['FIPS', 'poverty_2009']\n",
    "poverty = poverty.join(poverty2.set_index('FIPS'))\n",
    "poverty['pov_change'] = poverty['poverty_2009'] - poverty['poverty']\n",
    "data = data.join(poverty.drop('poverty_2009', axis=1))"
   ]
  },
  {
   "cell_type": "markdown",
   "metadata": {},
   "source": [
    "Similarly, the poverty rate in 2014 and the change from 2009."
   ]
  },
  {
   "cell_type": "code",
   "execution_count": null,
   "metadata": {
    "collapsed": true
   },
   "outputs": [],
   "source": [
    "age = pd.read_excel('data/AGE01.xls', sheetname='Sheet2', usecols=['STCOU', 'AGE050210D'], converters={'STCOU': str})\n",
    "age.columns = ['FIPS', 'median_age']\n",
    "data = data.join(age.set_index('FIPS'))"
   ]
  },
  {
   "cell_type": "code",
   "execution_count": null,
   "metadata": {
    "collapsed": true
   },
   "outputs": [],
   "source": [
    "households1 = pd.read_excel('data/HSG02.xls', sheetname='HSG02D', usecols=['HSG200210D'])\n",
    "households2 = pd.read_excel('data/HSG02.xls', sheetname='HSG02E', usecols=['STCOU', 'HSG215210D', 'HSG220210D'],\n",
    "                          converters={'STCOU': str})\n",
    "households2.columns = ['FIPS', 'hh_afr_am', 'hh_hisp']"
   ]
  },
  {
   "cell_type": "markdown",
   "metadata": {},
   "source": [
    "Divide the numbers of households headed by African-Americans and Hispanics by the total number of households to get percentages."
   ]
  },
  {
   "cell_type": "code",
   "execution_count": null,
   "metadata": {
    "collapsed": true
   },
   "outputs": [],
   "source": [
    "households2.loc[:, ['hh_afr_am', 'hh_hisp']] = households2[['hh_afr_am', 'hh_hisp']].div(households1['HSG200210D'], axis=0)\n",
    "data = data.join(households2.set_index('FIPS'))"
   ]
  },
  {
   "cell_type": "code",
   "execution_count": null,
   "metadata": {
    "collapsed": true
   },
   "outputs": [],
   "source": [
    "hh_07 = pd.read_excel('data/HSD01.xls', sheetname='HSD01I', usecols=['HSD410209D'])"
   ]
  },
  {
   "cell_type": "code",
   "execution_count": null,
   "metadata": {
    "collapsed": true
   },
   "outputs": [],
   "source": [
    "hh_female = pd.read_excel('data/HSD02.xls', sheetname='HSD02B', usecols=['STCOU', 'HSD570209D'],\n",
    "                          converters={'STCOU': str})"
   ]
  },
  {
   "cell_type": "code",
   "execution_count": null,
   "metadata": {
    "collapsed": true
   },
   "outputs": [],
   "source": [
    "hh_female.columns = ['FIPS', 'hh_female']\n",
    "hh_female.loc[:, 'hh_female'] = hh_female['hh_female'] / hh_07['HSD410209D']"
   ]
  },
  {
   "cell_type": "code",
   "execution_count": null,
   "metadata": {
    "collapsed": true
   },
   "outputs": [],
   "source": [
    "hh_food_st = pd.read_excel('data/INC01.xls', sheetname='INC01J', usecols=['STCOU', 'INC454209D'],\n",
    "                          converters={'STCOU': str})"
   ]
  },
  {
   "cell_type": "code",
   "execution_count": null,
   "metadata": {
    "collapsed": true
   },
   "outputs": [],
   "source": [
    "hh_food_st.columns = ['FIPS', 'hh_food_st']\n",
    "hh_food_st.loc[:, 'hh_food_st'] = hh_food_st['hh_food_st'] / hh_07['HSD410209D']"
   ]
  },
  {
   "cell_type": "code",
   "execution_count": null,
   "metadata": {
    "collapsed": true
   },
   "outputs": [],
   "source": [
    "data = data.join([hh_female.set_index('FIPS'), hh_food_st.set_index('FIPS')])"
   ]
  },
  {
   "cell_type": "code",
   "execution_count": null,
   "metadata": {
    "collapsed": true
   },
   "outputs": [],
   "source": [
    "foreign_born = pd.read_excel('data/POP02.xls', sheetname='POP02J', usecols=['STCOU', 'POP645209D'],\n",
    "                            converters={'STCOU': str})\n",
    "foreign_born.columns = ['FIPS', 'foreign_07']"
   ]
  },
  {
   "cell_type": "code",
   "execution_count": null,
   "metadata": {
    "collapsed": true
   },
   "outputs": [],
   "source": [
    "pop_07 = pd.read_excel('data/PST01.xls', sheetname='Sheet4', usecols=['PST045207D'])"
   ]
  },
  {
   "cell_type": "code",
   "execution_count": null,
   "metadata": {
    "collapsed": true
   },
   "outputs": [],
   "source": [
    "vets = pd.read_excel('data/VET01.xls', sheetname='VET01C', usecols=['STCOU', 'VET605209D', 'VET610209D'],\n",
    "                    converters={'STCOU': str})\n",
    "vets.columns = ['FIPS', 'vets', 'vets_male']"
   ]
  },
  {
   "cell_type": "code",
   "execution_count": null,
   "metadata": {
    "collapsed": true
   },
   "outputs": [],
   "source": [
    "vets.loc[:, 'vets'] = vets['vets'] / pop_07['PST045207D']"
   ]
  },
  {
   "cell_type": "code",
   "execution_count": null,
   "metadata": {
    "collapsed": true
   },
   "outputs": [],
   "source": [
    "data = data.join([foreign_born.set_index('FIPS'), vets.set_index('FIPS')])"
   ]
  },
  {
   "cell_type": "code",
   "execution_count": null,
   "metadata": {
    "collapsed": true
   },
   "outputs": [],
   "source": [
    "crimes = pd.read_csv('data/Crime.tsv', sep='\\t', usecols=['FIPS_ST', 'FIPS_CTY', 'VIOL', 'PROPERTY'],\n",
    "                    converters={'FIPS_ST': str, 'FIPS_CTY': str, 'VIOL': float, 'PROPERTY': float}, engine='python')"
   ]
  },
  {
   "cell_type": "code",
   "execution_count": null,
   "metadata": {},
   "outputs": [],
   "source": [
    "crimes.columns = ['FIPS_ST', 'FIPS_CTY', 'viol_crime', 'prop_crime']\n",
    "crimes.head()"
   ]
  },
  {
   "cell_type": "code",
   "execution_count": null,
   "metadata": {
    "collapsed": true
   },
   "outputs": [],
   "source": [
    "crimes['FIPS_ST'] = crimes['FIPS_ST'].apply(lambda x: '0' * (2 - len(x)) + x)"
   ]
  },
  {
   "cell_type": "code",
   "execution_count": null,
   "metadata": {
    "collapsed": true
   },
   "outputs": [],
   "source": [
    "crimes['FIPS_CTY'] = crimes['FIPS_CTY'].apply(lambda x: '0' * (3 - len(x)) + x)"
   ]
  },
  {
   "cell_type": "code",
   "execution_count": null,
   "metadata": {
    "collapsed": true
   },
   "outputs": [],
   "source": [
    "crimes['FIPS'] = crimes['FIPS_ST'] + crimes['FIPS_CTY']"
   ]
  },
  {
   "cell_type": "code",
   "execution_count": null,
   "metadata": {
    "collapsed": true
   },
   "outputs": [],
   "source": [
    "data = data.join(crimes.drop(['FIPS_ST', 'FIPS_CTY'], axis=1).set_index('FIPS'))"
   ]
  },
  {
   "cell_type": "code",
   "execution_count": null,
   "metadata": {
    "collapsed": true
   },
   "outputs": [],
   "source": [
    "data.loc[:, ['viol_crime', 'prop_crime']] = data[['viol_crime', 'prop_crime']].div(data['pop_2014'], axis=0)"
   ]
  },
  {
   "cell_type": "code",
   "execution_count": null,
   "metadata": {},
   "outputs": [],
   "source": [
    "data.isnull().sum()"
   ]
  },
  {
   "cell_type": "code",
   "execution_count": null,
   "metadata": {},
   "outputs": [],
   "source": [
    "len(data.dropna())"
   ]
  },
  {
   "cell_type": "code",
   "execution_count": null,
   "metadata": {},
   "outputs": [],
   "source": [
    "len(data)"
   ]
  },
  {
   "cell_type": "markdown",
   "metadata": {},
   "source": [
    "Many of the missing values occur in records missing multiple values, and dropping all of them would only reduce the number of records from 3,152 to 3,130, so drop them."
   ]
  },
  {
   "cell_type": "code",
   "execution_count": null,
   "metadata": {
    "collapsed": true
   },
   "outputs": [],
   "source": [
    "data = data.dropna()"
   ]
  },
  {
   "cell_type": "code",
   "execution_count": null,
   "metadata": {},
   "outputs": [],
   "source": [
    "(data == 0).sum()"
   ]
  },
  {
   "cell_type": "markdown",
   "metadata": {},
   "source": [
    "It is reasonable that these values could be zero, so proceed."
   ]
  },
  {
   "cell_type": "code",
   "execution_count": null,
   "metadata": {},
   "outputs": [],
   "source": [
    "data.describe()"
   ]
  },
  {
   "cell_type": "markdown",
   "metadata": {},
   "source": [
    "From the stats, the dataset certainly contains strong outliers that will need to be dealt with."
   ]
  },
  {
   "cell_type": "code",
   "execution_count": null,
   "metadata": {
    "collapsed": true
   },
   "outputs": [],
   "source": [
    "deaths = pd.read_csv('data/Drug_deaths.csv', usecols=['FIPS', 'Year', 'Estimated Age-adjusted Death Rate, 16 Categories (in ranges)'],\n",
    "                    converters={'FIPS': str})"
   ]
  },
  {
   "cell_type": "code",
   "execution_count": null,
   "metadata": {},
   "outputs": [],
   "source": [
    "deaths.isnull().sum()"
   ]
  },
  {
   "cell_type": "code",
   "execution_count": null,
   "metadata": {
    "collapsed": true
   },
   "outputs": [],
   "source": [
    "targets = deaths[deaths['Year'] == 2014]\n",
    "targets = targets.drop('Year', axis=1)\n",
    "targets.columns = ['FIPS', 'death_rate']\n",
    "targets.loc[:, 'FIPS'] = targets['FIPS'].apply(lambda x: '0' + x if len(x) == 4 else x)"
   ]
  },
  {
   "cell_type": "code",
   "execution_count": null,
   "metadata": {},
   "outputs": [],
   "source": [
    "targets.isnull().sum()"
   ]
  },
  {
   "cell_type": "code",
   "execution_count": null,
   "metadata": {
    "collapsed": true
   },
   "outputs": [],
   "source": [
    "import re\n",
    "def get_num(string):\n",
    "    match = re.search('\\d+', string)\n",
    "    return int(match.group()) + 1"
   ]
  },
  {
   "cell_type": "code",
   "execution_count": null,
   "metadata": {
    "collapsed": true
   },
   "outputs": [],
   "source": [
    "targets['numeric'] = targets['death_rate'].apply(lambda x: get_num(x) if x != '<2' else 1)"
   ]
  },
  {
   "cell_type": "code",
   "execution_count": null,
   "metadata": {
    "collapsed": true
   },
   "outputs": [],
   "source": [
    "data = data.join(targets.set_index('FIPS')) # drop na"
   ]
  },
  {
   "cell_type": "code",
   "execution_count": null,
   "metadata": {},
   "outputs": [],
   "source": [
    "data.isnull().sum()"
   ]
  },
  {
   "cell_type": "code",
   "execution_count": null,
   "metadata": {},
   "outputs": [],
   "source": [
    "data[data['death_rate'].isnull()]"
   ]
  },
  {
   "cell_type": "markdown",
   "metadata": {},
   "source": [
    "These four counties had boundaries redrawn after 2000, and do not appear in the opioid deaths dataset, so they will be removed."
   ]
  },
  {
   "cell_type": "code",
   "execution_count": null,
   "metadata": {
    "collapsed": true
   },
   "outputs": [],
   "source": [
    "data = data.drop(['08001', '08014', '08059', '08123'])"
   ]
  },
  {
   "cell_type": "code",
   "execution_count": null,
   "metadata": {},
   "outputs": [],
   "source": [
    "targets['numeric'].describe()"
   ]
  },
  {
   "cell_type": "markdown",
   "metadata": {},
   "source": [
    "The maximum value of 31 fits the standard definition of an outlier as less than Q1 - 1.5\\*IQR or greater than Q3 + 1.5\\*IQR. Here that applies only to values >29. Where are these outliers?"
   ]
  },
  {
   "cell_type": "code",
   "execution_count": null,
   "metadata": {},
   "outputs": [],
   "source": [
    "target_outliers = targets[targets['numeric'] == 31]['FIPS']\n",
    "target_outliers = data.loc[target_outliers, ['state', 'name']]\n",
    "print(len(target_outliers))\n",
    "target_outliers"
   ]
  },
  {
   "cell_type": "markdown",
   "metadata": {},
   "source": [
    "These outliers appear to be concentrated in some states."
   ]
  },
  {
   "cell_type": "code",
   "execution_count": null,
   "metadata": {},
   "outputs": [],
   "source": [
    "outliers_by_state = pd.DataFrame(target_outliers.groupby('state').size(), columns=['outliers'])\n",
    "counties_by_state = pd.DataFrame(data.groupby('state').size(), columns = ['total'])\n",
    "outliers_by_state['total'] = counties_by_state['total']\n",
    "outliers_by_state['percent'] = 100 * outliers_by_state['outliers']/outliers_by_state['total']\n",
    "outliers_by_state"
   ]
  },
  {
   "cell_type": "markdown",
   "metadata": {},
   "source": [
    "Look at overall distribution of targets."
   ]
  },
  {
   "cell_type": "code",
   "execution_count": null,
   "metadata": {},
   "outputs": [],
   "source": [
    "counts = pd.DataFrame(data.groupby(['state', 'numeric']).size())\n",
    "counts.head()"
   ]
  },
  {
   "cell_type": "code",
   "execution_count": null,
   "metadata": {
    "collapsed": true
   },
   "outputs": [],
   "source": [
    "counts = counts.reset_index()\n",
    "counts.columns = ['state', 'numeric', 'count']\n",
    "counts['total'] = counts.apply(lambda row: counties_by_state.loc[row['state'], 'total'], axis=1)\n",
    "counts['percent'] = counts['count'] / counts['total']\n",
    "states = sorted(counts['state'].unique())"
   ]
  },
  {
   "cell_type": "code",
   "execution_count": null,
   "metadata": {},
   "outputs": [],
   "source": [
    "plt.rcParams[\"figure.figsize\"] = [16.0, 8.0]\n",
    "ax = sns.stripplot(data=counts, x='state', y='numeric', hue='percent', palette='OrRd')\n",
    "ax.legend_.remove()\n",
    "ax.set_title('Clustering counties by death rate and state (darker = higher percentage)', size=18)\n",
    "ax.set_ylabel('death rate')\n",
    "ax.figure.savefig('images/county_rates.png')"
   ]
  },
  {
   "cell_type": "markdown",
   "metadata": {},
   "source": [
    "While there are some states with outlying concentrations of counties with low or high death rates, the distribution is fairly even overall."
   ]
  },
  {
   "cell_type": "code",
   "execution_count": null,
   "metadata": {},
   "outputs": [],
   "source": [
    "from scipy.stats import norm\n",
    "\n",
    "plt.rcParams[\"figure.figsize\"] = [8.0, 4.0]\n",
    "target_hist = sns.distplot(targets['numeric'], bins=16, fit=norm, kde=False)\n",
    "target_hist.figure.savefig('images/target_hist.png')"
   ]
  },
  {
   "cell_type": "markdown",
   "metadata": {},
   "source": [
    "The target distribution is a little skewed but follows a roughly normal curve except for the spike at the highest value. Experimentation found that classification works better with these target outliers included, but the outliers in the predictors need to be dealt with."
   ]
  },
  {
   "cell_type": "code",
   "execution_count": null,
   "metadata": {
    "collapsed": true
   },
   "outputs": [],
   "source": [
    "data_raw = data.copy()\n",
    "data = data.drop(['state', 'name', 'pop_2014'], axis=1)"
   ]
  },
  {
   "cell_type": "code",
   "execution_count": null,
   "metadata": {},
   "outputs": [],
   "source": [
    "bivariate = data.drop(['urban_inf', 'death_rate'], axis=1).corr().abs()\n",
    "print(bivariate)"
   ]
  },
  {
   "cell_type": "markdown",
   "metadata": {},
   "source": [
    "**poverty** correlates strongly with several other variables, so drop it. The two crime variables correlate strongly with each other, so combine them into one. "
   ]
  },
  {
   "cell_type": "code",
   "execution_count": null,
   "metadata": {
    "collapsed": true
   },
   "outputs": [],
   "source": [
    "data['crime'] = (data['viol_crime'] + data['prop_crime'])\n",
    "data = data.drop(['viol_crime', 'prop_crime', 'poverty'], axis=1)"
   ]
  },
  {
   "cell_type": "code",
   "execution_count": null,
   "metadata": {},
   "outputs": [],
   "source": [
    "corrmat = data.drop(['urban_inf', 'death_rate'], axis=1).corr().abs()\n",
    "heatmap = sns.heatmap(corrmat, vmax=.8, square=True)\n",
    "heatmap.figure.savefig('images/heatmap.png')"
   ]
  },
  {
   "cell_type": "markdown",
   "metadata": {},
   "source": [
    "There are other correlations, but variance inflation factor (VIF) analysis will be used to determine which should be removed. But first look at outliers in the independent variables."
   ]
  },
  {
   "cell_type": "code",
   "execution_count": null,
   "metadata": {
    "collapsed": true
   },
   "outputs": [],
   "source": [
    "def get_outliers(df, multiplier=1.5):\n",
    "    stats = df.describe()\n",
    "    iqr = stats.loc['75%'] - stats.loc['25%']\n",
    "    lower = stats.loc['25%'] - multiplier * iqr\n",
    "    upper = stats.loc['75%'] + multiplier * iqr\n",
    "    return ((df < lower) | (df > upper))"
   ]
  },
  {
   "cell_type": "code",
   "execution_count": null,
   "metadata": {},
   "outputs": [],
   "source": [
    "data.columns"
   ]
  },
  {
   "cell_type": "code",
   "execution_count": null,
   "metadata": {},
   "outputs": [],
   "source": [
    "outliers = get_outliers(data.drop(['urban_inf', 'death_rate', 'numeric'], axis=1))\n",
    "len(data[outliers.any(axis=1)])"
   ]
  },
  {
   "cell_type": "code",
   "execution_count": null,
   "metadata": {},
   "outputs": [],
   "source": [
    "extreme_outliers = get_outliers(data.drop(['urban_inf', 'death_rate', 'numeric'], axis=1), 2.5)\n",
    "len(data[extreme_outliers.any(axis=1)])"
   ]
  },
  {
   "cell_type": "code",
   "execution_count": null,
   "metadata": {},
   "outputs": [],
   "source": [
    "xx_outliers = list((data[extreme_outliers.sum(axis=1) > 1]).index)\n",
    "len(xx_outliers)"
   ]
  },
  {
   "cell_type": "markdown",
   "metadata": {},
   "source": [
    "Almost half the dataset contains outliers, and more than a quarter contains extreme outliers that are more than 2.5 times the IQR below the first quartile or above the third. As an alternative to dropping a large number of samples, apply robust scaling to the predictors. Scikit-learn has two solutions, robust scaling and quantile transformation. Try them both. If necessary drop the most extreme (xx) outliers, those samples having more than one extreme outlier."
   ]
  },
  {
   "cell_type": "markdown",
   "metadata": {},
   "source": [
    "*Note: Having gone through the same iterative process as the notebook on the master branch and not achieving significantly better results, the data will be split from the outset to produce balanced train/test sets with respect to high/low death rates, with high being 15 or greater, and low being 13 or less. This will have the desired effect only for the last, binary, classification attempt, as the intermediary classifications into 16, 8 and 4 classes will no longer be stratified according to the progressive grouping scheme.*"
   ]
  },
  {
   "cell_type": "code",
   "execution_count": null,
   "metadata": {
    "collapsed": true
   },
   "outputs": [],
   "source": [
    "from sklearn.model_selection import train_test_split\n",
    "\n",
    "data['high_death_rate'] = np.where(data['numeric'] < 15, 0, 1)\n",
    "data_train, data_test, targets_train, targets_test = train_test_split(data.drop('death_rate', axis=1),\n",
    "                                                                     data['death_rate'], test_size=.2,\n",
    "                                                                     stratify=data['high_death_rate'], random_state=13)"
   ]
  },
  {
   "cell_type": "markdown",
   "metadata": {},
   "source": [
    "It is necessary to separate the training and test data before scaling/transforming to prevent data leakage from the test data when fitting the scaling and transformation algorithms. "
   ]
  },
  {
   "cell_type": "code",
   "execution_count": 925,
   "metadata": {
    "collapsed": true
   },
   "outputs": [],
   "source": [
    "from sklearn.preprocessing import RobustScaler, QuantileTransformer\n",
    "robust = RobustScaler()\n",
    "quantile = QuantileTransformer()\n",
    "\n",
    "r_train = pd.DataFrame(robust.fit_transform(data_train.drop(['urban_inf'], axis=1)),\n",
    "                       index=data_train.index, columns=data_train.drop(['urban_inf'], axis=1).columns)\n",
    "r_train['urban_inf'] = data_train['urban_inf']\n",
    "\n",
    "q_train = pd.DataFrame(quantile.fit_transform(data_train.drop(['urban_inf'], axis=1)),\n",
    "                       index=data_train.index, columns=data_train.drop(['urban_inf'], axis=1).columns)\n",
    "q_train['urban_inf'] = data_train['urban_inf']"
   ]
  },
  {
   "cell_type": "markdown",
   "metadata": {},
   "source": [
    "*Note: Both robust scaling and quantile transformation leave binary features unchanged, so __urban_inf__ will be one-hot encoded later.*"
   ]
  },
  {
   "cell_type": "markdown",
   "metadata": {},
   "source": [
    "Use VIF analysis to programmatically eliminate the variables with the highest VIF scores."
   ]
  },
  {
   "cell_type": "code",
   "execution_count": 926,
   "metadata": {},
   "outputs": [
    {
     "data": {
      "text/html": [
       "<div>\n",
       "<table border=\"1\" class=\"dataframe\">\n",
       "  <thead>\n",
       "    <tr style=\"text-align: right;\">\n",
       "      <th></th>\n",
       "      <th>VIF</th>\n",
       "      <th>features</th>\n",
       "    </tr>\n",
       "  </thead>\n",
       "  <tbody>\n",
       "    <tr>\n",
       "      <th>0</th>\n",
       "      <td>4.549152</td>\n",
       "      <td>&lt; diploma</td>\n",
       "    </tr>\n",
       "    <tr>\n",
       "      <th>1</th>\n",
       "      <td>3.380767</td>\n",
       "      <td>degree+</td>\n",
       "    </tr>\n",
       "    <tr>\n",
       "      <th>2</th>\n",
       "      <td>1.675102</td>\n",
       "      <td>pop_inc</td>\n",
       "    </tr>\n",
       "    <tr>\n",
       "      <th>3</th>\n",
       "      <td>1.008448</td>\n",
       "      <td>foreign_inc</td>\n",
       "    </tr>\n",
       "    <tr>\n",
       "      <th>4</th>\n",
       "      <td>1.924162</td>\n",
       "      <td>unemployment</td>\n",
       "    </tr>\n",
       "    <tr>\n",
       "      <th>5</th>\n",
       "      <td>1.080467</td>\n",
       "      <td>unemp_change</td>\n",
       "    </tr>\n",
       "    <tr>\n",
       "      <th>6</th>\n",
       "      <td>3.008699</td>\n",
       "      <td>median_hh_inc</td>\n",
       "    </tr>\n",
       "    <tr>\n",
       "      <th>7</th>\n",
       "      <td>1.142916</td>\n",
       "      <td>pov_change</td>\n",
       "    </tr>\n",
       "    <tr>\n",
       "      <th>8</th>\n",
       "      <td>2.306545</td>\n",
       "      <td>median_age</td>\n",
       "    </tr>\n",
       "    <tr>\n",
       "      <th>9</th>\n",
       "      <td>2.715394</td>\n",
       "      <td>hh_afr_am</td>\n",
       "    </tr>\n",
       "    <tr>\n",
       "      <th>10</th>\n",
       "      <td>2.377824</td>\n",
       "      <td>hh_hisp</td>\n",
       "    </tr>\n",
       "    <tr>\n",
       "      <th>11</th>\n",
       "      <td>3.905629</td>\n",
       "      <td>hh_female</td>\n",
       "    </tr>\n",
       "    <tr>\n",
       "      <th>12</th>\n",
       "      <td>3.366569</td>\n",
       "      <td>hh_food_st</td>\n",
       "    </tr>\n",
       "    <tr>\n",
       "      <th>13</th>\n",
       "      <td>2.907921</td>\n",
       "      <td>foreign_07</td>\n",
       "    </tr>\n",
       "    <tr>\n",
       "      <th>14</th>\n",
       "      <td>2.091195</td>\n",
       "      <td>vets</td>\n",
       "    </tr>\n",
       "    <tr>\n",
       "      <th>15</th>\n",
       "      <td>1.375355</td>\n",
       "      <td>vets_male</td>\n",
       "    </tr>\n",
       "    <tr>\n",
       "      <th>16</th>\n",
       "      <td>1.392641</td>\n",
       "      <td>crime</td>\n",
       "    </tr>\n",
       "  </tbody>\n",
       "</table>\n",
       "</div>"
      ],
      "text/plain": [
       "         VIF       features\n",
       "0   4.549152      < diploma\n",
       "1   3.380767        degree+\n",
       "2   1.675102        pop_inc\n",
       "3   1.008448    foreign_inc\n",
       "4   1.924162   unemployment\n",
       "5   1.080467   unemp_change\n",
       "6   3.008699  median_hh_inc\n",
       "7   1.142916     pov_change\n",
       "8   2.306545     median_age\n",
       "9   2.715394      hh_afr_am\n",
       "10  2.377824        hh_hisp\n",
       "11  3.905629      hh_female\n",
       "12  3.366569     hh_food_st\n",
       "13  2.907921     foreign_07\n",
       "14  2.091195           vets\n",
       "15  1.375355      vets_male\n",
       "16  1.392641          crime"
      ]
     },
     "execution_count": 926,
     "metadata": {},
     "output_type": "execute_result"
    }
   ],
   "source": [
    "from statsmodels.stats.outliers_influence import variance_inflation_factor\n",
    "\n",
    "vif = pd.DataFrame()\n",
    "remove = ['urban_inf', 'numeric']\n",
    "features = r_train.drop(remove, axis=1)\n",
    "vif[\"VIF\"] = [variance_inflation_factor(features.values, i) for i in range(features.shape[1])]\n",
    "vif[\"features\"] = features.columns\n",
    "vif"
   ]
  },
  {
   "cell_type": "code",
   "execution_count": 927,
   "metadata": {},
   "outputs": [
    {
     "data": {
      "text/html": [
       "<div>\n",
       "<table border=\"1\" class=\"dataframe\">\n",
       "  <thead>\n",
       "    <tr style=\"text-align: right;\">\n",
       "      <th></th>\n",
       "      <th>VIF</th>\n",
       "      <th>features</th>\n",
       "    </tr>\n",
       "  </thead>\n",
       "  <tbody>\n",
       "    <tr>\n",
       "      <th>0</th>\n",
       "      <td>1.452512</td>\n",
       "      <td>degree+</td>\n",
       "    </tr>\n",
       "    <tr>\n",
       "      <th>1</th>\n",
       "      <td>1.410385</td>\n",
       "      <td>pop_inc</td>\n",
       "    </tr>\n",
       "    <tr>\n",
       "      <th>2</th>\n",
       "      <td>1.006773</td>\n",
       "      <td>foreign_inc</td>\n",
       "    </tr>\n",
       "    <tr>\n",
       "      <th>3</th>\n",
       "      <td>1.458214</td>\n",
       "      <td>unemployment</td>\n",
       "    </tr>\n",
       "    <tr>\n",
       "      <th>4</th>\n",
       "      <td>1.064378</td>\n",
       "      <td>unemp_change</td>\n",
       "    </tr>\n",
       "    <tr>\n",
       "      <th>5</th>\n",
       "      <td>1.091204</td>\n",
       "      <td>pov_change</td>\n",
       "    </tr>\n",
       "    <tr>\n",
       "      <th>6</th>\n",
       "      <td>1.468414</td>\n",
       "      <td>hh_afr_am</td>\n",
       "    </tr>\n",
       "    <tr>\n",
       "      <th>7</th>\n",
       "      <td>1.122044</td>\n",
       "      <td>hh_hisp</td>\n",
       "    </tr>\n",
       "    <tr>\n",
       "      <th>8</th>\n",
       "      <td>1.163958</td>\n",
       "      <td>vets</td>\n",
       "    </tr>\n",
       "    <tr>\n",
       "      <th>9</th>\n",
       "      <td>1.227601</td>\n",
       "      <td>vets_male</td>\n",
       "    </tr>\n",
       "    <tr>\n",
       "      <th>10</th>\n",
       "      <td>1.266945</td>\n",
       "      <td>crime</td>\n",
       "    </tr>\n",
       "  </tbody>\n",
       "</table>\n",
       "</div>"
      ],
      "text/plain": [
       "         VIF      features\n",
       "0   1.452512       degree+\n",
       "1   1.410385       pop_inc\n",
       "2   1.006773   foreign_inc\n",
       "3   1.458214  unemployment\n",
       "4   1.064378  unemp_change\n",
       "5   1.091204    pov_change\n",
       "6   1.468414     hh_afr_am\n",
       "7   1.122044       hh_hisp\n",
       "8   1.163958          vets\n",
       "9   1.227601     vets_male\n",
       "10  1.266945         crime"
      ]
     },
     "execution_count": 927,
     "metadata": {},
     "output_type": "execute_result"
    }
   ],
   "source": [
    "max_VIF = max(vif['VIF'])\n",
    "while max_VIF > 2:\n",
    "    remove = remove + list(vif[vif['VIF'] == max_VIF]['features'])\n",
    "    features = r_train.drop(remove, axis=1)\n",
    "    vif = pd.DataFrame()\n",
    "    vif[\"VIF\"] = [variance_inflation_factor(features.values, i) for i in range(features.shape[1])]\n",
    "    vif[\"features\"] = features.columns\n",
    "    max_VIF = max(vif['VIF'])\n",
    "    \n",
    "r_features = list(features.columns) + ['urban_inf']\n",
    "vif"
   ]
  },
  {
   "cell_type": "code",
   "execution_count": 928,
   "metadata": {},
   "outputs": [
    {
     "data": {
      "text/html": [
       "<div>\n",
       "<table border=\"1\" class=\"dataframe\">\n",
       "  <thead>\n",
       "    <tr style=\"text-align: right;\">\n",
       "      <th></th>\n",
       "      <th>VIF</th>\n",
       "      <th>features</th>\n",
       "    </tr>\n",
       "  </thead>\n",
       "  <tbody>\n",
       "    <tr>\n",
       "      <th>0</th>\n",
       "      <td>13.839509</td>\n",
       "      <td>&lt; diploma</td>\n",
       "    </tr>\n",
       "    <tr>\n",
       "      <th>1</th>\n",
       "      <td>12.055705</td>\n",
       "      <td>degree+</td>\n",
       "    </tr>\n",
       "    <tr>\n",
       "      <th>2</th>\n",
       "      <td>7.332232</td>\n",
       "      <td>pop_inc</td>\n",
       "    </tr>\n",
       "    <tr>\n",
       "      <th>3</th>\n",
       "      <td>5.485744</td>\n",
       "      <td>foreign_inc</td>\n",
       "    </tr>\n",
       "    <tr>\n",
       "      <th>4</th>\n",
       "      <td>8.442237</td>\n",
       "      <td>unemployment</td>\n",
       "    </tr>\n",
       "    <tr>\n",
       "      <th>5</th>\n",
       "      <td>4.526456</td>\n",
       "      <td>unemp_change</td>\n",
       "    </tr>\n",
       "    <tr>\n",
       "      <th>6</th>\n",
       "      <td>9.848987</td>\n",
       "      <td>median_hh_inc</td>\n",
       "    </tr>\n",
       "    <tr>\n",
       "      <th>7</th>\n",
       "      <td>4.355851</td>\n",
       "      <td>pov_change</td>\n",
       "    </tr>\n",
       "    <tr>\n",
       "      <th>8</th>\n",
       "      <td>9.631193</td>\n",
       "      <td>median_age</td>\n",
       "    </tr>\n",
       "    <tr>\n",
       "      <th>9</th>\n",
       "      <td>9.378383</td>\n",
       "      <td>hh_afr_am</td>\n",
       "    </tr>\n",
       "    <tr>\n",
       "      <th>10</th>\n",
       "      <td>13.815452</td>\n",
       "      <td>hh_hisp</td>\n",
       "    </tr>\n",
       "    <tr>\n",
       "      <th>11</th>\n",
       "      <td>13.521652</td>\n",
       "      <td>hh_female</td>\n",
       "    </tr>\n",
       "    <tr>\n",
       "      <th>12</th>\n",
       "      <td>13.249074</td>\n",
       "      <td>hh_food_st</td>\n",
       "    </tr>\n",
       "    <tr>\n",
       "      <th>13</th>\n",
       "      <td>15.696382</td>\n",
       "      <td>foreign_07</td>\n",
       "    </tr>\n",
       "    <tr>\n",
       "      <th>14</th>\n",
       "      <td>7.330329</td>\n",
       "      <td>vets</td>\n",
       "    </tr>\n",
       "    <tr>\n",
       "      <th>15</th>\n",
       "      <td>4.712523</td>\n",
       "      <td>vets_male</td>\n",
       "    </tr>\n",
       "    <tr>\n",
       "      <th>16</th>\n",
       "      <td>6.499154</td>\n",
       "      <td>crime</td>\n",
       "    </tr>\n",
       "  </tbody>\n",
       "</table>\n",
       "</div>"
      ],
      "text/plain": [
       "          VIF       features\n",
       "0   13.839509      < diploma\n",
       "1   12.055705        degree+\n",
       "2    7.332232        pop_inc\n",
       "3    5.485744    foreign_inc\n",
       "4    8.442237   unemployment\n",
       "5    4.526456   unemp_change\n",
       "6    9.848987  median_hh_inc\n",
       "7    4.355851     pov_change\n",
       "8    9.631193     median_age\n",
       "9    9.378383      hh_afr_am\n",
       "10  13.815452        hh_hisp\n",
       "11  13.521652      hh_female\n",
       "12  13.249074     hh_food_st\n",
       "13  15.696382     foreign_07\n",
       "14   7.330329           vets\n",
       "15   4.712523      vets_male\n",
       "16   6.499154          crime"
      ]
     },
     "execution_count": 928,
     "metadata": {},
     "output_type": "execute_result"
    }
   ],
   "source": [
    "vif2 = pd.DataFrame()\n",
    "remove = ['urban_inf', 'numeric']\n",
    "features2 = q_train.drop(remove, axis=1)\n",
    "vif2[\"VIF\"] = [variance_inflation_factor(features2.values, i) for i in range(features2.shape[1])]\n",
    "vif2[\"features\"] = features2.columns\n",
    "vif2"
   ]
  },
  {
   "cell_type": "code",
   "execution_count": 929,
   "metadata": {},
   "outputs": [
    {
     "data": {
      "text/html": [
       "<div>\n",
       "<table border=\"1\" class=\"dataframe\">\n",
       "  <thead>\n",
       "    <tr style=\"text-align: right;\">\n",
       "      <th></th>\n",
       "      <th>VIF</th>\n",
       "      <th>features</th>\n",
       "    </tr>\n",
       "  </thead>\n",
       "  <tbody>\n",
       "    <tr>\n",
       "      <th>0</th>\n",
       "      <td>6.095568</td>\n",
       "      <td>degree+</td>\n",
       "    </tr>\n",
       "    <tr>\n",
       "      <th>1</th>\n",
       "      <td>5.917317</td>\n",
       "      <td>pop_inc</td>\n",
       "    </tr>\n",
       "    <tr>\n",
       "      <th>2</th>\n",
       "      <td>5.129618</td>\n",
       "      <td>foreign_inc</td>\n",
       "    </tr>\n",
       "    <tr>\n",
       "      <th>3</th>\n",
       "      <td>5.527086</td>\n",
       "      <td>unemployment</td>\n",
       "    </tr>\n",
       "    <tr>\n",
       "      <th>4</th>\n",
       "      <td>4.304151</td>\n",
       "      <td>unemp_change</td>\n",
       "    </tr>\n",
       "    <tr>\n",
       "      <th>5</th>\n",
       "      <td>3.523071</td>\n",
       "      <td>pov_change</td>\n",
       "    </tr>\n",
       "    <tr>\n",
       "      <th>6</th>\n",
       "      <td>6.104386</td>\n",
       "      <td>hh_afr_am</td>\n",
       "    </tr>\n",
       "    <tr>\n",
       "      <th>7</th>\n",
       "      <td>5.551572</td>\n",
       "      <td>hh_hisp</td>\n",
       "    </tr>\n",
       "    <tr>\n",
       "      <th>8</th>\n",
       "      <td>3.842143</td>\n",
       "      <td>vets</td>\n",
       "    </tr>\n",
       "    <tr>\n",
       "      <th>9</th>\n",
       "      <td>3.514568</td>\n",
       "      <td>vets_male</td>\n",
       "    </tr>\n",
       "    <tr>\n",
       "      <th>10</th>\n",
       "      <td>5.938132</td>\n",
       "      <td>crime</td>\n",
       "    </tr>\n",
       "  </tbody>\n",
       "</table>\n",
       "</div>"
      ],
      "text/plain": [
       "         VIF      features\n",
       "0   6.095568       degree+\n",
       "1   5.917317       pop_inc\n",
       "2   5.129618   foreign_inc\n",
       "3   5.527086  unemployment\n",
       "4   4.304151  unemp_change\n",
       "5   3.523071    pov_change\n",
       "6   6.104386     hh_afr_am\n",
       "7   5.551572       hh_hisp\n",
       "8   3.842143          vets\n",
       "9   3.514568     vets_male\n",
       "10  5.938132         crime"
      ]
     },
     "execution_count": 929,
     "metadata": {},
     "output_type": "execute_result"
    }
   ],
   "source": [
    "max_VIF = max(vif2['VIF'])\n",
    "while len(vif2) > 11:\n",
    "    remove = remove + list(vif2[vif2['VIF'] == max_VIF]['features'])\n",
    "    features2 = q_train.drop(remove, axis=1)\n",
    "    vif2 = pd.DataFrame()\n",
    "    vif2[\"VIF\"] = [variance_inflation_factor(features2.values, i) for i in range(features2.shape[1])]\n",
    "    vif2[\"features\"] = features2.columns\n",
    "    max_VIF = max(vif2['VIF'])\n",
    "\n",
    "q_features = list(features2.columns) + ['urban_inf']   \n",
    "vif2"
   ]
  },
  {
   "cell_type": "markdown",
   "metadata": {},
   "source": [
    "Although the VIF scores were higher with the quantile-transformed data, the order was the same, so proceed with the 11 features from the scaled data that scored below 2."
   ]
  },
  {
   "cell_type": "markdown",
   "metadata": {},
   "source": [
    "Try a range of classifiers. "
   ]
  },
  {
   "cell_type": "code",
   "execution_count": 930,
   "metadata": {
    "collapsed": true
   },
   "outputs": [],
   "source": [
    "Xr1_train = r_train.loc[:, r_features]\n",
    "Xr1_train = pd.get_dummies(Xr1_train, prefix='urb_inf_', columns=['urban_inf'])\n",
    "Yr1_train = targets_train\n",
    "\n",
    "Xq1_train = q_train.loc[:, r_features]\n",
    "Xq1_train = pd.get_dummies(Xq1_train, prefix='urb_inf_', columns=['urban_inf'])\n",
    "Yq1_train = targets_train"
   ]
  },
  {
   "cell_type": "code",
   "execution_count": 931,
   "metadata": {
    "collapsed": true
   },
   "outputs": [],
   "source": [
    "from sklearn.metrics import matthews_corrcoef, make_scorer\n",
    "matthews = make_scorer(matthews_corrcoef)\n",
    "\n",
    "from sklearn.model_selection import cross_val_score"
   ]
  },
  {
   "cell_type": "code",
   "execution_count": 932,
   "metadata": {
    "collapsed": true
   },
   "outputs": [],
   "source": [
    "from sklearn.model_selection import cross_val_score\n",
    "\n",
    "from sklearn.neighbors import KNeighborsClassifier\n",
    "from sklearn.linear_model import LogisticRegression\n",
    "from sklearn.ensemble import GradientBoostingClassifier\n",
    "from sklearn.linear_model import SGDClassifier\n",
    "from sklearn.ensemble import RandomForestClassifier\n",
    "from sklearn.svm import SVC"
   ]
  },
  {
   "cell_type": "code",
   "execution_count": 935,
   "metadata": {
    "collapsed": true
   },
   "outputs": [],
   "source": [
    "knn = KNeighborsClassifier()\n",
    "lrc = LogisticRegression(class_weight='balanced')\n",
    "gbc = GradientBoostingClassifier()\n",
    "sgd = SGDClassifier(class_weight='balanced', tol=1e-3)\n",
    "rfc = RandomForestClassifier(class_weight='balanced')\n",
    "svc = SVC(class_weight='balanced')"
   ]
  },
  {
   "cell_type": "code",
   "execution_count": 936,
   "metadata": {
    "collapsed": true
   },
   "outputs": [],
   "source": [
    "classifiers = [lrc, gbc, sgd, rfc, svc, knn]\n",
    "names = ['lrc', 'gbc', 'sgd', 'rfc', 'svc', 'knn']\n",
    "full_names = {'lrc':'Logistic regression', 'gbc':'Gradient boosting', 'sgd':'Stochastic gradient descent',\n",
    "              'rfc':'Random forest', 'svc':'Support vector', 'knn':'K-Nearest neighbors'}\n",
    "\n",
    "index = pd.MultiIndex.from_product([['Y16', 'Y8', 'Y4', 'Y2'], ['r', 'q'], [1, 2]])\n",
    "results = pd.DataFrame(index=index, columns=names)\n",
    "\n",
    "def run_trials(X, Y, targets, scale, feature_set):\n",
    "    for name, clf in zip(names, classifiers):\n",
    "        scores = cross_val_score(clf, X, Y, cv=5, scoring=matthews)\n",
    "        results.loc[targets, scale, feature_set][name] = np.mean(scores)\n",
    "        %time print('{} scores: {}'.format(full_names[name], scores))"
   ]
  },
  {
   "cell_type": "code",
   "execution_count": 937,
   "metadata": {},
   "outputs": [
    {
     "name": "stdout",
     "output_type": "stream",
     "text": [
      "Logistic regression scores: [ 0.05086417  0.07282134  0.06603775  0.04443182  0.05898859]\n",
      "CPU times: user 1.75 ms, sys: 106 µs, total: 1.86 ms\n",
      "Wall time: 464 µs\n",
      "Gradient boosting scores: [ 0.04641526  0.07536195  0.06416592  0.06177084  0.09184377]\n",
      "CPU times: user 440 µs, sys: 54 µs, total: 494 µs\n",
      "Wall time: 477 µs\n",
      "Stochastic gradient descent scores: [ 0.0344151   0.02383705  0.04745438  0.05397181  0.02920583]\n",
      "CPU times: user 1.56 ms, sys: 73 µs, total: 1.63 ms\n",
      "Wall time: 407 µs\n",
      "Random forest scores: [ 0.03741979  0.01701082  0.06501173  0.02598711  0.07604956]\n",
      "CPU times: user 375 µs, sys: 48 µs, total: 423 µs\n",
      "Wall time: 407 µs\n",
      "Support vector scores: [ 0.07783805  0.09284539  0.0659536   0.07159398  0.09485769]\n",
      "CPU times: user 404 µs, sys: 50 µs, total: 454 µs\n",
      "Wall time: 440 µs\n",
      "K-Nearest neighbors scores: [ 0.07062363  0.01861974  0.07746329  0.03420713  0.06930431]\n",
      "CPU times: user 380 µs, sys: 32 µs, total: 412 µs\n",
      "Wall time: 417 µs\n"
     ]
    }
   ],
   "source": [
    "run_trials(Xr1_train, Yr1_train, 'Y16', 'r', 1)"
   ]
  },
  {
   "cell_type": "markdown",
   "metadata": {},
   "source": [
    "All of the stock classifiers performed poorly, with support vector doing the best, followed by gradient boosting and logistic regression."
   ]
  },
  {
   "cell_type": "code",
   "execution_count": 938,
   "metadata": {},
   "outputs": [
    {
     "name": "stdout",
     "output_type": "stream",
     "text": [
      "Logistic regression scores: [ 0.05249489  0.06837129  0.04810064  0.05307293  0.06903587]\n",
      "CPU times: user 2.63 ms, sys: 220 µs, total: 2.85 ms\n",
      "Wall time: 721 µs\n",
      "Gradient boosting scores: [ 0.06354822  0.06196945  0.06606989  0.06196256  0.09073018]\n",
      "CPU times: user 369 µs, sys: 48 µs, total: 417 µs\n",
      "Wall time: 405 µs\n",
      "Stochastic gradient descent scores: [ 0.0382684   0.03000142  0.03315811  0.04686783  0.0570851 ]\n",
      "CPU times: user 2 ms, sys: 169 µs, total: 2.17 ms\n",
      "Wall time: 537 µs\n",
      "Random forest scores: [ 0.03685459  0.05119224  0.0439854   0.01998485  0.07507335]\n",
      "CPU times: user 397 µs, sys: 48 µs, total: 445 µs\n",
      "Wall time: 432 µs\n",
      "Support vector scores: [ 0.02685441  0.05997005  0.053471    0.04396285  0.05533475]\n",
      "CPU times: user 428 µs, sys: 54 µs, total: 482 µs\n",
      "Wall time: 469 µs\n",
      "K-Nearest neighbors scores: [ 0.01657498  0.03476783  0.02542581  0.03843304  0.0462092 ]\n",
      "CPU times: user 360 µs, sys: 43 µs, total: 403 µs\n",
      "Wall time: 395 µs\n"
     ]
    }
   ],
   "source": [
    "run_trials(Xq1_train, Yq1_train, 'Y16', 'q', 1)"
   ]
  },
  {
   "cell_type": "markdown",
   "metadata": {},
   "source": [
    "The quantile-transformed data performed even worse. Try an alternative selection process starting with correlations with the target variable."
   ]
  },
  {
   "cell_type": "code",
   "execution_count": 939,
   "metadata": {},
   "outputs": [
    {
     "data": {
      "text/plain": [
       "< diploma        0.137277\n",
       "degree+          0.135954\n",
       "pop_inc          0.066918\n",
       "foreign_inc      0.004850\n",
       "unemployment     0.315348\n",
       "unemp_change     0.183969\n",
       "median_hh_inc    0.241291\n",
       "pov_change       0.097023\n",
       "median_age       0.083324\n",
       "hh_afr_am        0.141008\n",
       "hh_hisp          0.044675\n",
       "hh_female        0.071277\n",
       "hh_food_st       0.247499\n",
       "foreign_07       0.083056\n",
       "vets             0.143301\n",
       "vets_male        0.037117\n",
       "crime            0.143831\n",
       "Name: numeric, dtype: float64"
      ]
     },
     "execution_count": 939,
     "metadata": {},
     "output_type": "execute_result"
    }
   ],
   "source": [
    "bivariate = r_train.drop('urban_inf', axis=1).corr().abs()\n",
    "bivariate.loc['numeric'].drop('numeric')"
   ]
  },
  {
   "cell_type": "code",
   "execution_count": 940,
   "metadata": {
    "collapsed": true
   },
   "outputs": [],
   "source": [
    "features2 = list(bivariate[bivariate.loc['numeric'] > .05].drop('numeric').index)"
   ]
  },
  {
   "cell_type": "code",
   "execution_count": 941,
   "metadata": {},
   "outputs": [
    {
     "data": {
      "text/html": [
       "<div>\n",
       "<table border=\"1\" class=\"dataframe\">\n",
       "  <thead>\n",
       "    <tr style=\"text-align: right;\">\n",
       "      <th></th>\n",
       "      <th>VIF</th>\n",
       "      <th>features</th>\n",
       "    </tr>\n",
       "  </thead>\n",
       "  <tbody>\n",
       "    <tr>\n",
       "      <th>0</th>\n",
       "      <td>4.091634</td>\n",
       "      <td>&lt; diploma</td>\n",
       "    </tr>\n",
       "    <tr>\n",
       "      <th>1</th>\n",
       "      <td>3.349758</td>\n",
       "      <td>degree+</td>\n",
       "    </tr>\n",
       "    <tr>\n",
       "      <th>2</th>\n",
       "      <td>1.673822</td>\n",
       "      <td>pop_inc</td>\n",
       "    </tr>\n",
       "    <tr>\n",
       "      <th>3</th>\n",
       "      <td>1.887261</td>\n",
       "      <td>unemployment</td>\n",
       "    </tr>\n",
       "    <tr>\n",
       "      <th>4</th>\n",
       "      <td>1.077989</td>\n",
       "      <td>unemp_change</td>\n",
       "    </tr>\n",
       "    <tr>\n",
       "      <th>5</th>\n",
       "      <td>2.997277</td>\n",
       "      <td>median_hh_inc</td>\n",
       "    </tr>\n",
       "    <tr>\n",
       "      <th>6</th>\n",
       "      <td>1.126923</td>\n",
       "      <td>pov_change</td>\n",
       "    </tr>\n",
       "    <tr>\n",
       "      <th>7</th>\n",
       "      <td>2.109809</td>\n",
       "      <td>median_age</td>\n",
       "    </tr>\n",
       "    <tr>\n",
       "      <th>8</th>\n",
       "      <td>2.551090</td>\n",
       "      <td>hh_afr_am</td>\n",
       "    </tr>\n",
       "    <tr>\n",
       "      <th>9</th>\n",
       "      <td>3.868226</td>\n",
       "      <td>hh_female</td>\n",
       "    </tr>\n",
       "    <tr>\n",
       "      <th>10</th>\n",
       "      <td>3.350698</td>\n",
       "      <td>hh_food_st</td>\n",
       "    </tr>\n",
       "    <tr>\n",
       "      <th>11</th>\n",
       "      <td>2.219591</td>\n",
       "      <td>foreign_07</td>\n",
       "    </tr>\n",
       "    <tr>\n",
       "      <th>12</th>\n",
       "      <td>1.797111</td>\n",
       "      <td>vets</td>\n",
       "    </tr>\n",
       "    <tr>\n",
       "      <th>13</th>\n",
       "      <td>1.384731</td>\n",
       "      <td>crime</td>\n",
       "    </tr>\n",
       "  </tbody>\n",
       "</table>\n",
       "</div>"
      ],
      "text/plain": [
       "         VIF       features\n",
       "0   4.091634      < diploma\n",
       "1   3.349758        degree+\n",
       "2   1.673822        pop_inc\n",
       "3   1.887261   unemployment\n",
       "4   1.077989   unemp_change\n",
       "5   2.997277  median_hh_inc\n",
       "6   1.126923     pov_change\n",
       "7   2.109809     median_age\n",
       "8   2.551090      hh_afr_am\n",
       "9   3.868226      hh_female\n",
       "10  3.350698     hh_food_st\n",
       "11  2.219591     foreign_07\n",
       "12  1.797111           vets\n",
       "13  1.384731          crime"
      ]
     },
     "execution_count": 941,
     "metadata": {},
     "output_type": "execute_result"
    }
   ],
   "source": [
    "vif = pd.DataFrame()\n",
    "features = r_train.loc[:, features2]\n",
    "vif[\"VIF\"] = [variance_inflation_factor(features.values, i) for i in range(features.shape[1])]\n",
    "vif[\"features\"] = features.columns\n",
    "vif"
   ]
  },
  {
   "cell_type": "code",
   "execution_count": 942,
   "metadata": {},
   "outputs": [
    {
     "data": {
      "text/html": [
       "<div>\n",
       "<table border=\"1\" class=\"dataframe\">\n",
       "  <thead>\n",
       "    <tr style=\"text-align: right;\">\n",
       "      <th></th>\n",
       "      <th>VIF</th>\n",
       "      <th>features</th>\n",
       "    </tr>\n",
       "  </thead>\n",
       "  <tbody>\n",
       "    <tr>\n",
       "      <th>0</th>\n",
       "      <td>1.546230</td>\n",
       "      <td>degree+</td>\n",
       "    </tr>\n",
       "    <tr>\n",
       "      <th>1</th>\n",
       "      <td>1.549868</td>\n",
       "      <td>pop_inc</td>\n",
       "    </tr>\n",
       "    <tr>\n",
       "      <th>2</th>\n",
       "      <td>1.465020</td>\n",
       "      <td>unemployment</td>\n",
       "    </tr>\n",
       "    <tr>\n",
       "      <th>3</th>\n",
       "      <td>1.070656</td>\n",
       "      <td>unemp_change</td>\n",
       "    </tr>\n",
       "    <tr>\n",
       "      <th>4</th>\n",
       "      <td>1.097285</td>\n",
       "      <td>pov_change</td>\n",
       "    </tr>\n",
       "    <tr>\n",
       "      <th>5</th>\n",
       "      <td>1.943621</td>\n",
       "      <td>median_age</td>\n",
       "    </tr>\n",
       "    <tr>\n",
       "      <th>6</th>\n",
       "      <td>1.388109</td>\n",
       "      <td>hh_afr_am</td>\n",
       "    </tr>\n",
       "    <tr>\n",
       "      <th>7</th>\n",
       "      <td>1.344904</td>\n",
       "      <td>foreign_07</td>\n",
       "    </tr>\n",
       "    <tr>\n",
       "      <th>8</th>\n",
       "      <td>1.646127</td>\n",
       "      <td>vets</td>\n",
       "    </tr>\n",
       "    <tr>\n",
       "      <th>9</th>\n",
       "      <td>1.318872</td>\n",
       "      <td>crime</td>\n",
       "    </tr>\n",
       "  </tbody>\n",
       "</table>\n",
       "</div>"
      ],
      "text/plain": [
       "        VIF      features\n",
       "0  1.546230       degree+\n",
       "1  1.549868       pop_inc\n",
       "2  1.465020  unemployment\n",
       "3  1.070656  unemp_change\n",
       "4  1.097285    pov_change\n",
       "5  1.943621    median_age\n",
       "6  1.388109     hh_afr_am\n",
       "7  1.344904    foreign_07\n",
       "8  1.646127          vets\n",
       "9  1.318872         crime"
      ]
     },
     "execution_count": 942,
     "metadata": {},
     "output_type": "execute_result"
    }
   ],
   "source": [
    "max_VIF = max(vif['VIF'])\n",
    "while max_VIF > 2:\n",
    "    remove = list(vif[vif['VIF'] == max_VIF]['features'])\n",
    "    reduced = [feature for feature in features if feature not in remove]\n",
    "    features = r_train.loc[:, reduced]\n",
    "    vif = pd.DataFrame()\n",
    "    vif[\"VIF\"] = [variance_inflation_factor(features.values, i) for i in range(features.shape[1])]\n",
    "    vif[\"features\"] = features.columns\n",
    "    max_VIF = max(vif['VIF'])\n",
    "vif"
   ]
  },
  {
   "cell_type": "code",
   "execution_count": 943,
   "metadata": {
    "collapsed": true
   },
   "outputs": [],
   "source": [
    "features2 = list(vif['features']) + ['urban_inf']\n",
    "Xr2_train = r_train.loc[:, features2]\n",
    "Xr2_train = pd.get_dummies(Xr2_train, prefix='urb_inf_', columns=['urban_inf'])\n",
    "Yr2_train = targets_train\n",
    "\n",
    "Xq2_train = q_train.loc[:, (features2)]\n",
    "Xq2_train = pd.get_dummies(Xq2_train, prefix='urb_inf_', columns=['urban_inf'])\n",
    "Yq2_train = targets_train"
   ]
  },
  {
   "cell_type": "code",
   "execution_count": 944,
   "metadata": {},
   "outputs": [
    {
     "name": "stdout",
     "output_type": "stream",
     "text": [
      "Logistic regression scores: [ 0.06412226  0.07609716  0.0511766   0.05193429  0.07408108]\n",
      "CPU times: user 1.75 ms, sys: 83 µs, total: 1.84 ms\n",
      "Wall time: 459 µs\n",
      "Gradient boosting scores: [ 0.06294905  0.05162787  0.08661119  0.05421571  0.09498584]\n",
      "CPU times: user 490 µs, sys: 65 µs, total: 555 µs\n",
      "Wall time: 537 µs\n",
      "Stochastic gradient descent scores: [ 0.03385248  0.03746709  0.06650019  0.04284771  0.06014903]\n",
      "CPU times: user 5.65 ms, sys: 917 µs, total: 6.57 ms\n",
      "Wall time: 1.81 ms\n",
      "Random forest scores: [ 0.05550658  0.07157721  0.06044891  0.05236204  0.10527893]\n",
      "CPU times: user 1.05 ms, sys: 128 µs, total: 1.17 ms\n",
      "Wall time: 1.16 ms\n",
      "Support vector scores: [ 0.07190563  0.07200346  0.09713951  0.09069434  0.10320002]\n",
      "CPU times: user 384 µs, sys: 45 µs, total: 429 µs\n",
      "Wall time: 422 µs\n",
      "K-Nearest neighbors scores: [ 0.04406258  0.06012846  0.07290166  0.03992521  0.05960594]\n",
      "CPU times: user 537 µs, sys: 113 µs, total: 650 µs\n",
      "Wall time: 602 µs\n"
     ]
    }
   ],
   "source": [
    "run_trials(Xr2_train, Yr2_train, 'Y16', 'r', 2)"
   ]
  },
  {
   "cell_type": "code",
   "execution_count": 945,
   "metadata": {},
   "outputs": [
    {
     "name": "stdout",
     "output_type": "stream",
     "text": [
      "Logistic regression scores: [ 0.05536076  0.0661584   0.04062156  0.05498016  0.08575282]\n",
      "CPU times: user 1.61 ms, sys: 78 µs, total: 1.69 ms\n",
      "Wall time: 421 µs\n",
      "Gradient boosting scores: [ 0.02999205  0.0409069   0.09083293  0.05190793  0.08727649]\n",
      "CPU times: user 409 µs, sys: 52 µs, total: 461 µs\n",
      "Wall time: 451 µs\n",
      "Stochastic gradient descent scores: [ 0.01562488  0.03972564  0.05758096  0.05178885  0.03603954]\n",
      "CPU times: user 1.98 ms, sys: 137 µs, total: 2.12 ms\n",
      "Wall time: 524 µs\n",
      "Random forest scores: [ 0.05373383  0.08453299  0.03799896  0.05498294  0.05301281]\n",
      "CPU times: user 423 µs, sys: 77 µs, total: 500 µs\n",
      "Wall time: 466 µs\n",
      "Support vector scores: [ 0.03790855  0.06135298  0.04949953  0.04833966  0.06779856]\n",
      "CPU times: user 414 µs, sys: 53 µs, total: 467 µs\n",
      "Wall time: 457 µs\n",
      "K-Nearest neighbors scores: [ 0.05933857  0.04082642  0.05666089  0.01630364  0.029316  ]\n",
      "CPU times: user 390 µs, sys: 49 µs, total: 439 µs\n",
      "Wall time: 433 µs\n"
     ]
    }
   ],
   "source": [
    "run_trials(Xq2_train, Yq2_train, 'Y16', 'q', 2)"
   ]
  },
  {
   "cell_type": "markdown",
   "metadata": {},
   "source": [
    "The scores are very close for both training sets, but also very poor. Try combining targets to make fewer classes."
   ]
  },
  {
   "cell_type": "code",
   "execution_count": 946,
   "metadata": {
    "collapsed": true
   },
   "outputs": [],
   "source": [
    "def combine_targets(input):\n",
    "    targets = sorted(input.unique(), key=lambda x: int(re.search('\\d+(?=-)', x).group()))\n",
    "    first = []\n",
    "    second = []\n",
    "    for i, r in enumerate(targets):\n",
    "        first.append(r) if i % 2 == 0 else second.append(r)\n",
    "    if len(first) != len(second):\n",
    "        second.append('30-31.9')\n",
    "    conversions = {}\n",
    "    for start, end in zip(first, second):\n",
    "        new_value = re.search('\\d+-', start).group() + re.search('(?<=-)\\d+.\\d+', end).group()\n",
    "        conversions.update(dict.fromkeys([start, end], new_value))\n",
    "    return input.apply(lambda x: conversions[x])"
   ]
  },
  {
   "cell_type": "code",
   "execution_count": 947,
   "metadata": {
    "collapsed": true
   },
   "outputs": [],
   "source": [
    "Y_16_train = targets_train.apply(lambda x: '0-1.9' if x == '<2' else x)\n",
    "Y_16_train = Y_16_train.apply(lambda x: '30-31.9' if x == '30+' else x)\n",
    "\n",
    "Y_8_train = combine_targets(Y_16_train)\n"
   ]
  },
  {
   "cell_type": "code",
   "execution_count": 948,
   "metadata": {},
   "outputs": [
    {
     "name": "stdout",
     "output_type": "stream",
     "text": [
      "Logistic regression scores: [ 0.1321164   0.12608619  0.11768745  0.16575065  0.1230672 ]\n",
      "CPU times: user 1.58 ms, sys: 82 µs, total: 1.66 ms\n",
      "Wall time: 416 µs\n",
      "Gradient boosting scores: [ 0.15625616  0.11245976  0.09628238  0.12214904  0.14966475]\n",
      "CPU times: user 396 µs, sys: 49 µs, total: 445 µs\n",
      "Wall time: 434 µs\n",
      "Stochastic gradient descent scores: [ 0.07146414  0.06225771  0.03675962  0.06354764  0.0873632 ]\n",
      "CPU times: user 1.63 ms, sys: 71 µs, total: 1.7 ms\n",
      "Wall time: 425 µs\n",
      "Random forest scores: [ 0.12293009  0.11344306  0.11428825  0.12119113  0.12829457]\n",
      "CPU times: user 368 µs, sys: 54 µs, total: 422 µs\n",
      "Wall time: 404 µs\n",
      "Support vector scores: [ 0.16176329  0.1552665   0.12118051  0.14181695  0.18066868]\n",
      "CPU times: user 381 µs, sys: 51 µs, total: 432 µs\n",
      "Wall time: 419 µs\n",
      "K-Nearest neighbors scores: [ 0.15527279  0.11922847  0.1264419   0.05341478  0.10179591]\n",
      "CPU times: user 358 µs, sys: 40 µs, total: 398 µs\n",
      "Wall time: 390 µs\n"
     ]
    }
   ],
   "source": [
    "run_trials(Xr1_train, Y_8_train, 'Y8', 'r', 1)"
   ]
  },
  {
   "cell_type": "code",
   "execution_count": 949,
   "metadata": {},
   "outputs": [
    {
     "name": "stdout",
     "output_type": "stream",
     "text": [
      "Logistic regression scores: [ 0.12944753  0.09861998  0.11943153  0.15875462  0.12862111]\n",
      "CPU times: user 2.13 ms, sys: 203 µs, total: 2.33 ms\n",
      "Wall time: 589 µs\n",
      "Gradient boosting scores: [ 0.15661915  0.11279916  0.13877335  0.14226679  0.17363891]\n",
      "CPU times: user 407 µs, sys: 50 µs, total: 457 µs\n",
      "Wall time: 446 µs\n",
      "Stochastic gradient descent scores: [ 0.08349209  0.07375127  0.09280278  0.0832209   0.13114542]\n",
      "CPU times: user 2.25 ms, sys: 115 µs, total: 2.36 ms\n",
      "Wall time: 595 µs\n",
      "Random forest scores: [ 0.12133344  0.1323677   0.07397829  0.11168883  0.14000666]\n",
      "CPU times: user 415 µs, sys: 48 µs, total: 463 µs\n",
      "Wall time: 450 µs\n",
      "Support vector scores: [ 0.17969014  0.14638884  0.15362061  0.17601458  0.14875717]\n",
      "CPU times: user 474 µs, sys: 64 µs, total: 538 µs\n",
      "Wall time: 520 µs\n",
      "K-Nearest neighbors scores: [ 0.13861981  0.1179019   0.10333352  0.09355657  0.12178725]\n",
      "CPU times: user 409 µs, sys: 62 µs, total: 471 µs\n",
      "Wall time: 459 µs\n"
     ]
    }
   ],
   "source": [
    "run_trials(Xr2_train, Y_8_train, 'Y8', 'r', 2)"
   ]
  },
  {
   "cell_type": "code",
   "execution_count": 950,
   "metadata": {},
   "outputs": [
    {
     "name": "stdout",
     "output_type": "stream",
     "text": [
      "Logistic regression scores: [ 0.10162229  0.10126853  0.11825375  0.15335409  0.1460493 ]\n",
      "CPU times: user 1.67 ms, sys: 84 µs, total: 1.75 ms\n",
      "Wall time: 435 µs\n",
      "Gradient boosting scores: [ 0.13463337  0.14436889  0.12276287  0.15094769  0.14406414]\n",
      "CPU times: user 386 µs, sys: 44 µs, total: 430 µs\n",
      "Wall time: 418 µs\n",
      "Stochastic gradient descent scores: [ 0.10419837  0.06386417  0.08789412  0.06599048  0.10857556]\n",
      "CPU times: user 1.55 ms, sys: 79 µs, total: 1.63 ms\n",
      "Wall time: 408 µs\n",
      "Random forest scores: [ 0.13213705  0.07174946  0.1080819   0.08751764  0.13621233]\n",
      "CPU times: user 383 µs, sys: 50 µs, total: 433 µs\n",
      "Wall time: 418 µs\n",
      "Support vector scores: [ 0.11399134  0.11040416  0.10278132  0.14003048  0.10866748]\n",
      "CPU times: user 389 µs, sys: 52 µs, total: 441 µs\n",
      "Wall time: 429 µs\n",
      "K-Nearest neighbors scores: [ 0.09498106  0.09107381  0.09035221  0.15025924  0.06981338]\n",
      "CPU times: user 478 µs, sys: 66 µs, total: 544 µs\n",
      "Wall time: 523 µs\n"
     ]
    }
   ],
   "source": [
    "run_trials(Xq1_train, Y_8_train, 'Y8', 'q', 1)"
   ]
  },
  {
   "cell_type": "code",
   "execution_count": 951,
   "metadata": {},
   "outputs": [
    {
     "name": "stdout",
     "output_type": "stream",
     "text": [
      "Logistic regression scores: [ 0.12785724  0.11110969  0.123671    0.14998998  0.15340912]\n",
      "CPU times: user 2.01 ms, sys: 132 µs, total: 2.14 ms\n",
      "Wall time: 526 µs\n",
      "Gradient boosting scores: [ 0.12680603  0.13410442  0.10383225  0.12777934  0.16901651]\n",
      "CPU times: user 370 µs, sys: 47 µs, total: 417 µs\n",
      "Wall time: 402 µs\n",
      "Stochastic gradient descent scores: [ 0.08006019  0.09152391  0.07221708  0.08152844  0.09595232]\n",
      "CPU times: user 2.24 ms, sys: 125 µs, total: 2.37 ms\n",
      "Wall time: 583 µs\n",
      "Random forest scores: [ 0.15639983  0.1120778   0.06329557  0.14433139  0.12254405]\n",
      "CPU times: user 403 µs, sys: 48 µs, total: 451 µs\n",
      "Wall time: 444 µs\n",
      "Support vector scores: [ 0.10983792  0.10707372  0.08299396  0.14146136  0.12116338]\n",
      "CPU times: user 372 µs, sys: 50 µs, total: 422 µs\n",
      "Wall time: 404 µs\n",
      "K-Nearest neighbors scores: [ 0.09086141  0.12156315  0.12144978  0.12652622  0.10239106]\n",
      "CPU times: user 383 µs, sys: 36 µs, total: 419 µs\n",
      "Wall time: 413 µs\n"
     ]
    }
   ],
   "source": [
    "run_trials(Xq2_train, Y_8_train, 'Y8', 'q', 2)"
   ]
  },
  {
   "cell_type": "markdown",
   "metadata": {},
   "source": [
    "There was significant improvement, but performance is still poor. Try reducing to 4 classes."
   ]
  },
  {
   "cell_type": "code",
   "execution_count": 952,
   "metadata": {
    "collapsed": true
   },
   "outputs": [],
   "source": [
    "Y_4_train = combine_targets(Y_8_train)"
   ]
  },
  {
   "cell_type": "code",
   "execution_count": 953,
   "metadata": {},
   "outputs": [
    {
     "name": "stdout",
     "output_type": "stream",
     "text": [
      "Logistic regression scores: [ 0.24111678  0.29677785  0.2335296   0.24637144  0.25710789]\n",
      "CPU times: user 1.87 ms, sys: 135 µs, total: 2.01 ms\n",
      "Wall time: 500 µs\n",
      "Gradient boosting scores: [ 0.28371812  0.22359973  0.24676684  0.30355216  0.24540668]\n",
      "CPU times: user 572 µs, sys: 126 µs, total: 698 µs\n",
      "Wall time: 633 µs\n",
      "Stochastic gradient descent scores: [ 0.08826504  0.18323008  0.13911     0.16819022  0.09971837]\n",
      "CPU times: user 1.93 ms, sys: 301 µs, total: 2.23 ms\n",
      "Wall time: 764 µs\n",
      "Random forest scores: [ 0.22923467  0.2052008   0.21288875  0.15193052  0.20464668]\n",
      "CPU times: user 399 µs, sys: 49 µs, total: 448 µs\n",
      "Wall time: 437 µs\n",
      "Support vector scores: [ 0.25490224  0.29562512  0.27366052  0.28031115  0.28125678]\n",
      "CPU times: user 563 µs, sys: 72 µs, total: 635 µs\n",
      "Wall time: 618 µs\n",
      "K-Nearest neighbors scores: [ 0.22669223  0.26371651  0.17223466  0.1753743   0.20189916]\n",
      "CPU times: user 386 µs, sys: 31 µs, total: 417 µs\n",
      "Wall time: 424 µs\n"
     ]
    }
   ],
   "source": [
    "run_trials(Xr1_train, Y_4_train, 'Y4', 'r', 1)"
   ]
  },
  {
   "cell_type": "code",
   "execution_count": 954,
   "metadata": {},
   "outputs": [
    {
     "name": "stdout",
     "output_type": "stream",
     "text": [
      "Logistic regression scores: [ 0.20733347  0.26372434  0.21958306  0.24569324  0.27005468]\n",
      "CPU times: user 2.81 ms, sys: 222 µs, total: 3.03 ms\n",
      "Wall time: 756 µs\n",
      "Gradient boosting scores: [ 0.31154593  0.25577977  0.24800647  0.29730169  0.29253908]\n",
      "CPU times: user 397 µs, sys: 48 µs, total: 445 µs\n",
      "Wall time: 433 µs\n",
      "Stochastic gradient descent scores: [ 0.09927232  0.1254128   0.19847473  0.18435574  0.13184086]\n",
      "CPU times: user 1.63 ms, sys: 81 µs, total: 1.71 ms\n",
      "Wall time: 429 µs\n",
      "Random forest scores: [ 0.19934942  0.20364685  0.20628974  0.21866901  0.22646789]\n",
      "CPU times: user 374 µs, sys: 49 µs, total: 423 µs\n",
      "Wall time: 408 µs\n",
      "Support vector scores: [ 0.27116062  0.28695198  0.31797694  0.33580963  0.25736527]\n",
      "CPU times: user 413 µs, sys: 46 µs, total: 459 µs\n",
      "Wall time: 446 µs\n",
      "K-Nearest neighbors scores: [ 0.2239976   0.25488042  0.21285002  0.23744324  0.23771442]\n",
      "CPU times: user 364 µs, sys: 26 µs, total: 390 µs\n",
      "Wall time: 395 µs\n"
     ]
    }
   ],
   "source": [
    "run_trials(Xr2_train, Y_4_train, 'Y4', 'r', 2)"
   ]
  },
  {
   "cell_type": "code",
   "execution_count": 955,
   "metadata": {},
   "outputs": [
    {
     "name": "stdout",
     "output_type": "stream",
     "text": [
      "Logistic regression scores: [ 0.22116479  0.23299329  0.21087918  0.23937598  0.2780047 ]\n",
      "CPU times: user 1.66 ms, sys: 121 µs, total: 1.78 ms\n",
      "Wall time: 445 µs\n",
      "Gradient boosting scores: [ 0.26652348  0.21790389  0.23468266  0.28361578  0.25646593]\n",
      "CPU times: user 367 µs, sys: 48 µs, total: 415 µs\n",
      "Wall time: 400 µs\n",
      "Stochastic gradient descent scores: [ 0.13782795  0.17477684  0.17955375  0.16834757  0.23984268]\n",
      "CPU times: user 2.21 ms, sys: 203 µs, total: 2.42 ms\n",
      "Wall time: 636 µs\n",
      "Random forest scores: [ 0.26874577  0.18110542  0.18501762  0.19344226  0.24045222]\n",
      "CPU times: user 368 µs, sys: 51 µs, total: 419 µs\n",
      "Wall time: 404 µs\n",
      "Support vector scores: [ 0.19170348  0.25420771  0.21172118  0.24394988  0.24288247]\n",
      "CPU times: user 373 µs, sys: 47 µs, total: 420 µs\n",
      "Wall time: 409 µs\n",
      "K-Nearest neighbors scores: [ 0.12390461  0.21607539  0.16480607  0.19959109  0.15646635]\n",
      "CPU times: user 376 µs, sys: 42 µs, total: 418 µs\n",
      "Wall time: 411 µs\n"
     ]
    }
   ],
   "source": [
    "run_trials(Xq1_train, Y_4_train, 'Y4', 'q', 1)"
   ]
  },
  {
   "cell_type": "code",
   "execution_count": 956,
   "metadata": {},
   "outputs": [
    {
     "name": "stdout",
     "output_type": "stream",
     "text": [
      "Logistic regression scores: [ 0.22452283  0.23788297  0.21214018  0.27655495  0.2738415 ]\n",
      "CPU times: user 1.94 ms, sys: 198 µs, total: 2.14 ms\n",
      "Wall time: 541 µs\n",
      "Gradient boosting scores: [ 0.30758168  0.26713498  0.28044592  0.29316499  0.28584792]\n",
      "CPU times: user 437 µs, sys: 96 µs, total: 533 µs\n",
      "Wall time: 513 µs\n",
      "Stochastic gradient descent scores: [ 0.09754587  0.21773917  0.19326022  0.21169039  0.11202905]\n",
      "CPU times: user 1.51 ms, sys: 109 µs, total: 1.62 ms\n",
      "Wall time: 419 µs\n",
      "Random forest scores: [ 0.25018653  0.19682672  0.21578956  0.19285591  0.23624485]\n",
      "CPU times: user 417 µs, sys: 55 µs, total: 472 µs\n",
      "Wall time: 459 µs\n",
      "Support vector scores: [ 0.1876356   0.24472353  0.22042767  0.26994928  0.23997731]\n",
      "CPU times: user 416 µs, sys: 48 µs, total: 464 µs\n",
      "Wall time: 449 µs\n",
      "K-Nearest neighbors scores: [ 0.14464612  0.23508972  0.19954673  0.25354423  0.16324948]\n",
      "CPU times: user 359 µs, sys: 31 µs, total: 390 µs\n",
      "Wall time: 395 µs\n"
     ]
    }
   ],
   "source": [
    "run_trials(Xq2_train, Y_4_train, 'Y4', 'q', 2)"
   ]
  },
  {
   "cell_type": "code",
   "execution_count": 957,
   "metadata": {
    "collapsed": true
   },
   "outputs": [],
   "source": [
    "Y_2_train = combine_targets(Y_4_train)"
   ]
  },
  {
   "cell_type": "code",
   "execution_count": 958,
   "metadata": {},
   "outputs": [
    {
     "name": "stdout",
     "output_type": "stream",
     "text": [
      "Logistic regression scores: [ 0.43167188  0.43716142  0.33032901  0.38145576  0.44886286]\n",
      "CPU times: user 455 µs, sys: 53 µs, total: 508 µs\n",
      "Wall time: 514 µs\n",
      "Gradient boosting scores: [ 0.39295262  0.41963703  0.35488716  0.40513891  0.42075466]\n",
      "CPU times: user 423 µs, sys: 47 µs, total: 470 µs\n",
      "Wall time: 456 µs\n",
      "Stochastic gradient descent scores: [ 0.32241528  0.27156272  0.24350259  0.24062507  0.40652804]\n",
      "CPU times: user 396 µs, sys: 42 µs, total: 438 µs\n",
      "Wall time: 431 µs\n",
      "Random forest scores: [ 0.378223    0.32143512  0.28146764  0.28709467  0.3065817 ]\n",
      "CPU times: user 378 µs, sys: 51 µs, total: 429 µs\n",
      "Wall time: 416 µs\n",
      "Support vector scores: [ 0.3775485   0.48733972  0.38074459  0.39140343  0.47187592]\n",
      "CPU times: user 384 µs, sys: 62 µs, total: 446 µs\n",
      "Wall time: 418 µs\n",
      "K-Nearest neighbors scores: [ 0.37936868  0.38583587  0.28353895  0.30880422  0.37139128]\n",
      "CPU times: user 497 µs, sys: 81 µs, total: 578 µs\n",
      "Wall time: 548 µs\n"
     ]
    }
   ],
   "source": [
    "run_trials(Xr1_train, Y_2_train, 'Y2', 'r', 1)"
   ]
  },
  {
   "cell_type": "code",
   "execution_count": 959,
   "metadata": {},
   "outputs": [
    {
     "name": "stdout",
     "output_type": "stream",
     "text": [
      "Logistic regression scores: [ 0.42618452  0.42513564  0.35899455  0.38593217  0.4251092 ]\n",
      "CPU times: user 449 µs, sys: 62 µs, total: 511 µs\n",
      "Wall time: 489 µs\n",
      "Gradient boosting scores: [ 0.38513774  0.43915503  0.37605331  0.37161997  0.46805529]\n",
      "CPU times: user 406 µs, sys: 49 µs, total: 455 µs\n",
      "Wall time: 440 µs\n",
      "Stochastic gradient descent scores: [ 0.17020878  0.34782961  0.18299162  0.31086803  0.18311287]\n",
      "CPU times: user 621 µs, sys: 79 µs, total: 700 µs\n",
      "Wall time: 686 µs\n",
      "Random forest scores: [ 0.35090501  0.32949443  0.27699072  0.30588534  0.35931672]\n",
      "CPU times: user 390 µs, sys: 268 µs, total: 658 µs\n",
      "Wall time: 647 µs\n",
      "Support vector scores: [ 0.43023769  0.48165018  0.40594639  0.44691304  0.43776314]\n",
      "CPU times: user 407 µs, sys: 52 µs, total: 459 µs\n",
      "Wall time: 444 µs\n",
      "K-Nearest neighbors scores: [ 0.31719041  0.42944875  0.32856167  0.4399548   0.33596374]\n",
      "CPU times: user 412 µs, sys: 46 µs, total: 458 µs\n",
      "Wall time: 464 µs\n"
     ]
    }
   ],
   "source": [
    "run_trials(Xr2_train, Y_2_train, 'Y2', 'r', 2)"
   ]
  },
  {
   "cell_type": "code",
   "execution_count": 960,
   "metadata": {},
   "outputs": [
    {
     "name": "stdout",
     "output_type": "stream",
     "text": [
      "Logistic regression scores: [ 0.2972942   0.37115397  0.25967329  0.3340202   0.38267578]\n",
      "CPU times: user 366 µs, sys: 45 µs, total: 411 µs\n",
      "Wall time: 399 µs\n",
      "Gradient boosting scores: [ 0.35939606  0.42842498  0.36121478  0.4114983   0.43059699]\n",
      "CPU times: user 541 µs, sys: 56 µs, total: 597 µs\n",
      "Wall time: 604 µs\n",
      "Stochastic gradient descent scores: [ 0.29544566  0.23611596  0.25351706  0.24278026  0.30709921]\n",
      "CPU times: user 385 µs, sys: 35 µs, total: 420 µs\n",
      "Wall time: 425 µs\n",
      "Random forest scores: [ 0.26891534  0.33446239  0.26380669  0.39279255  0.31475217]\n",
      "CPU times: user 378 µs, sys: 47 µs, total: 425 µs\n",
      "Wall time: 417 µs\n",
      "Support vector scores: [ 0.29994768  0.39759252  0.30692306  0.32998724  0.39304805]\n",
      "CPU times: user 373 µs, sys: 49 µs, total: 422 µs\n",
      "Wall time: 411 µs\n",
      "K-Nearest neighbors scores: [ 0.28055197  0.33031239  0.27146334  0.31050098  0.27863159]\n",
      "CPU times: user 424 µs, sys: 47 µs, total: 471 µs\n",
      "Wall time: 459 µs\n"
     ]
    }
   ],
   "source": [
    "run_trials(Xq1_train, Y_2_train, 'Y2', 'q', 1)"
   ]
  },
  {
   "cell_type": "code",
   "execution_count": 961,
   "metadata": {},
   "outputs": [
    {
     "name": "stdout",
     "output_type": "stream",
     "text": [
      "Logistic regression scores: [ 0.29759495  0.37115397  0.27212242  0.34503506  0.33551655]\n",
      "CPU times: user 679 µs, sys: 156 µs, total: 835 µs\n",
      "Wall time: 740 µs\n",
      "Gradient boosting scores: [ 0.36814063  0.43652168  0.34853982  0.39961019  0.49349375]\n",
      "CPU times: user 370 µs, sys: 45 µs, total: 415 µs\n",
      "Wall time: 413 µs\n",
      "Stochastic gradient descent scores: [ 0.29018522  0.26024534  0.21956142  0.18770827  0.24568734]\n",
      "CPU times: user 364 µs, sys: 31 µs, total: 395 µs\n",
      "Wall time: 401 µs\n",
      "Random forest scores: [ 0.3884235   0.33545666  0.33829455  0.34709783  0.37455584]\n",
      "CPU times: user 428 µs, sys: 56 µs, total: 484 µs\n",
      "Wall time: 462 µs\n",
      "Support vector scores: [ 0.30022185  0.37377346  0.2691068   0.367602    0.3692935 ]\n",
      "CPU times: user 486 µs, sys: 53 µs, total: 539 µs\n",
      "Wall time: 543 µs\n",
      "K-Nearest neighbors scores: [ 0.3019092   0.35563773  0.28177393  0.36219638  0.21007284]\n",
      "CPU times: user 457 µs, sys: 43 µs, total: 500 µs\n",
      "Wall time: 505 µs\n"
     ]
    }
   ],
   "source": [
    "run_trials(Xq2_train, Y_2_train, 'Y2', 'q', 2)"
   ]
  },
  {
   "cell_type": "code",
   "execution_count": 962,
   "metadata": {},
   "outputs": [
    {
     "data": {
      "text/html": [
       "<div>\n",
       "<table border=\"1\" class=\"dataframe\">\n",
       "  <thead>\n",
       "    <tr style=\"text-align: right;\">\n",
       "      <th></th>\n",
       "      <th></th>\n",
       "      <th></th>\n",
       "      <th>lrc</th>\n",
       "      <th>gbc</th>\n",
       "      <th>sgd</th>\n",
       "      <th>rfc</th>\n",
       "      <th>svc</th>\n",
       "      <th>knn</th>\n",
       "    </tr>\n",
       "  </thead>\n",
       "  <tbody>\n",
       "    <tr>\n",
       "      <th rowspan=\"4\" valign=\"top\">Y16</th>\n",
       "      <th rowspan=\"2\" valign=\"top\">r</th>\n",
       "      <th>1</th>\n",
       "      <td>0.0586287</td>\n",
       "      <td>0.0679115</td>\n",
       "      <td>0.0377768</td>\n",
       "      <td>0.0442958</td>\n",
       "      <td>0.0806177</td>\n",
       "      <td>0.0540436</td>\n",
       "    </tr>\n",
       "    <tr>\n",
       "      <th>2</th>\n",
       "      <td>0.0634823</td>\n",
       "      <td>0.0700779</td>\n",
       "      <td>0.0481633</td>\n",
       "      <td>0.0690347</td>\n",
       "      <td>0.0869886</td>\n",
       "      <td>0.0553248</td>\n",
       "    </tr>\n",
       "    <tr>\n",
       "      <th rowspan=\"2\" valign=\"top\">q</th>\n",
       "      <th>1</th>\n",
       "      <td>0.0582151</td>\n",
       "      <td>0.0688561</td>\n",
       "      <td>0.0410762</td>\n",
       "      <td>0.0454181</td>\n",
       "      <td>0.0479186</td>\n",
       "      <td>0.0322822</td>\n",
       "    </tr>\n",
       "    <tr>\n",
       "      <th>2</th>\n",
       "      <td>0.0605747</td>\n",
       "      <td>0.0601833</td>\n",
       "      <td>0.040152</td>\n",
       "      <td>0.0568523</td>\n",
       "      <td>0.0529799</td>\n",
       "      <td>0.0404891</td>\n",
       "    </tr>\n",
       "    <tr>\n",
       "      <th rowspan=\"4\" valign=\"top\">Y8</th>\n",
       "      <th rowspan=\"2\" valign=\"top\">r</th>\n",
       "      <th>1</th>\n",
       "      <td>0.132942</td>\n",
       "      <td>0.127362</td>\n",
       "      <td>0.0642785</td>\n",
       "      <td>0.120029</td>\n",
       "      <td>0.152139</td>\n",
       "      <td>0.111231</td>\n",
       "    </tr>\n",
       "    <tr>\n",
       "      <th>2</th>\n",
       "      <td>0.126975</td>\n",
       "      <td>0.144819</td>\n",
       "      <td>0.0928825</td>\n",
       "      <td>0.115875</td>\n",
       "      <td>0.160894</td>\n",
       "      <td>0.11504</td>\n",
       "    </tr>\n",
       "    <tr>\n",
       "      <th rowspan=\"2\" valign=\"top\">q</th>\n",
       "      <th>1</th>\n",
       "      <td>0.12411</td>\n",
       "      <td>0.139355</td>\n",
       "      <td>0.0861045</td>\n",
       "      <td>0.10714</td>\n",
       "      <td>0.115175</td>\n",
       "      <td>0.0992959</td>\n",
       "    </tr>\n",
       "    <tr>\n",
       "      <th>2</th>\n",
       "      <td>0.133207</td>\n",
       "      <td>0.132308</td>\n",
       "      <td>0.0842564</td>\n",
       "      <td>0.11973</td>\n",
       "      <td>0.112506</td>\n",
       "      <td>0.112558</td>\n",
       "    </tr>\n",
       "    <tr>\n",
       "      <th rowspan=\"4\" valign=\"top\">Y4</th>\n",
       "      <th rowspan=\"2\" valign=\"top\">r</th>\n",
       "      <th>1</th>\n",
       "      <td>0.254981</td>\n",
       "      <td>0.260609</td>\n",
       "      <td>0.135703</td>\n",
       "      <td>0.20078</td>\n",
       "      <td>0.277151</td>\n",
       "      <td>0.207983</td>\n",
       "    </tr>\n",
       "    <tr>\n",
       "      <th>2</th>\n",
       "      <td>0.241278</td>\n",
       "      <td>0.281035</td>\n",
       "      <td>0.147871</td>\n",
       "      <td>0.210885</td>\n",
       "      <td>0.293853</td>\n",
       "      <td>0.233377</td>\n",
       "    </tr>\n",
       "    <tr>\n",
       "      <th rowspan=\"2\" valign=\"top\">q</th>\n",
       "      <th>1</th>\n",
       "      <td>0.236484</td>\n",
       "      <td>0.251838</td>\n",
       "      <td>0.18007</td>\n",
       "      <td>0.213753</td>\n",
       "      <td>0.228893</td>\n",
       "      <td>0.172169</td>\n",
       "    </tr>\n",
       "    <tr>\n",
       "      <th>2</th>\n",
       "      <td>0.244988</td>\n",
       "      <td>0.286835</td>\n",
       "      <td>0.166453</td>\n",
       "      <td>0.218381</td>\n",
       "      <td>0.232543</td>\n",
       "      <td>0.199215</td>\n",
       "    </tr>\n",
       "    <tr>\n",
       "      <th rowspan=\"4\" valign=\"top\">Y2</th>\n",
       "      <th rowspan=\"2\" valign=\"top\">r</th>\n",
       "      <th>1</th>\n",
       "      <td>0.405896</td>\n",
       "      <td>0.398674</td>\n",
       "      <td>0.296927</td>\n",
       "      <td>0.31496</td>\n",
       "      <td>0.421782</td>\n",
       "      <td>0.345788</td>\n",
       "    </tr>\n",
       "    <tr>\n",
       "      <th>2</th>\n",
       "      <td>0.404271</td>\n",
       "      <td>0.408004</td>\n",
       "      <td>0.239002</td>\n",
       "      <td>0.324518</td>\n",
       "      <td>0.440502</td>\n",
       "      <td>0.370224</td>\n",
       "    </tr>\n",
       "    <tr>\n",
       "      <th rowspan=\"2\" valign=\"top\">q</th>\n",
       "      <th>1</th>\n",
       "      <td>0.328963</td>\n",
       "      <td>0.398226</td>\n",
       "      <td>0.266992</td>\n",
       "      <td>0.314946</td>\n",
       "      <td>0.3455</td>\n",
       "      <td>0.294292</td>\n",
       "    </tr>\n",
       "    <tr>\n",
       "      <th>2</th>\n",
       "      <td>0.324285</td>\n",
       "      <td>0.409261</td>\n",
       "      <td>0.240678</td>\n",
       "      <td>0.356766</td>\n",
       "      <td>0.336</td>\n",
       "      <td>0.302318</td>\n",
       "    </tr>\n",
       "  </tbody>\n",
       "</table>\n",
       "</div>"
      ],
      "text/plain": [
       "               lrc        gbc        sgd        rfc        svc        knn\n",
       "Y16 r 1  0.0586287  0.0679115  0.0377768  0.0442958  0.0806177  0.0540436\n",
       "      2  0.0634823  0.0700779  0.0481633  0.0690347  0.0869886  0.0553248\n",
       "    q 1  0.0582151  0.0688561  0.0410762  0.0454181  0.0479186  0.0322822\n",
       "      2  0.0605747  0.0601833   0.040152  0.0568523  0.0529799  0.0404891\n",
       "Y8  r 1   0.132942   0.127362  0.0642785   0.120029   0.152139   0.111231\n",
       "      2   0.126975   0.144819  0.0928825   0.115875   0.160894    0.11504\n",
       "    q 1    0.12411   0.139355  0.0861045    0.10714   0.115175  0.0992959\n",
       "      2   0.133207   0.132308  0.0842564    0.11973   0.112506   0.112558\n",
       "Y4  r 1   0.254981   0.260609   0.135703    0.20078   0.277151   0.207983\n",
       "      2   0.241278   0.281035   0.147871   0.210885   0.293853   0.233377\n",
       "    q 1   0.236484   0.251838    0.18007   0.213753   0.228893   0.172169\n",
       "      2   0.244988   0.286835   0.166453   0.218381   0.232543   0.199215\n",
       "Y2  r 1   0.405896   0.398674   0.296927    0.31496   0.421782   0.345788\n",
       "      2   0.404271   0.408004   0.239002   0.324518   0.440502   0.370224\n",
       "    q 1   0.328963   0.398226   0.266992   0.314946     0.3455   0.294292\n",
       "      2   0.324285   0.409261   0.240678   0.356766      0.336   0.302318"
      ]
     },
     "execution_count": 962,
     "metadata": {},
     "output_type": "execute_result"
    }
   ],
   "source": [
    "results"
   ]
  },
  {
   "cell_type": "markdown",
   "metadata": {},
   "source": [
    "The data cannot perform better than reasonably well on binary classification, where robust scaling clearly outperforms quantile transformation on the three highest-scoring algorithms — support vector, logistic regression amd gradient boosting. The second feature set performs better, but would performance improve by dropping the most extreme outliers?"
   ]
  },
  {
   "cell_type": "code",
   "execution_count": 963,
   "metadata": {
    "collapsed": true
   },
   "outputs": [],
   "source": [
    "train_xx = list(set(xx_outliers) & set(list(data_train.index)))\n",
    "test_xx = list(set(xx_outliers) & set(list(data_test.index)))"
   ]
  },
  {
   "cell_type": "code",
   "execution_count": 964,
   "metadata": {
    "collapsed": true
   },
   "outputs": [],
   "source": [
    "Xr1_noxx_train = Xr1_train.drop(train_xx)\n",
    "Xr2_noxx_train = Xr2_train.drop(train_xx)\n",
    "Y_2_noxx_train = Y_2_train.drop(train_xx)"
   ]
  },
  {
   "cell_type": "code",
   "execution_count": 965,
   "metadata": {
    "collapsed": true
   },
   "outputs": [],
   "source": [
    "index2 = pd.MultiIndex.from_product([['full', 'no_xx'], [1, 2]])\n",
    "results2 = pd.DataFrame(index=index2, columns=names)\n",
    "\n",
    "results2.loc['full', 1] = results.loc['Y2', 'r', 1]\n",
    "results2.loc['full', 2] = results.loc['Y2', 'r', 2]\n",
    "\n",
    "\n",
    "def run_trials2(X, Y, selected, feature_set):\n",
    "    for name, clf in zip(names, classifiers):\n",
    "        score = np.mean(cross_val_score(clf, X, Y, cv=5, scoring=matthews))\n",
    "        results2.loc[selected, feature_set][name] = score\n",
    "        %time print('{} average score: {}'.format(full_names[name], score))"
   ]
  },
  {
   "cell_type": "code",
   "execution_count": 966,
   "metadata": {},
   "outputs": [
    {
     "name": "stdout",
     "output_type": "stream",
     "text": [
      "Logistic regression average score: 0.4056613832042782\n",
      "CPU times: user 70 µs, sys: 47 µs, total: 117 µs\n",
      "Wall time: 105 µs\n",
      "Gradient boosting average score: 0.4042536807096672\n",
      "CPU times: user 77 µs, sys: 47 µs, total: 124 µs\n",
      "Wall time: 107 µs\n",
      "Stochastic gradient descent average score: 0.28466801367642225\n",
      "CPU times: user 56 µs, sys: 28 µs, total: 84 µs\n",
      "Wall time: 88 µs\n",
      "Random forest average score: 0.29164647598965676\n",
      "CPU times: user 68 µs, sys: 47 µs, total: 115 µs\n",
      "Wall time: 104 µs\n",
      "Support vector average score: 0.4382835309464636\n",
      "CPU times: user 79 µs, sys: 48 µs, total: 127 µs\n",
      "Wall time: 108 µs\n",
      "K-Nearest neighbors average score: 0.3602592184275963\n",
      "CPU times: user 59 µs, sys: 32 µs, total: 91 µs\n",
      "Wall time: 96.1 µs\n"
     ]
    }
   ],
   "source": [
    "run_trials2(Xr1_noxx_train, Y_2_noxx_train, 'no_xx', 1)"
   ]
  },
  {
   "cell_type": "code",
   "execution_count": 967,
   "metadata": {},
   "outputs": [
    {
     "name": "stdout",
     "output_type": "stream",
     "text": [
      "Logistic regression average score: 0.41151109255300933\n",
      "CPU times: user 108 µs, sys: 121 µs, total: 229 µs\n",
      "Wall time: 197 µs\n",
      "Gradient boosting average score: 0.3968723565322684\n",
      "CPU times: user 152 µs, sys: 90 µs, total: 242 µs\n",
      "Wall time: 214 µs\n",
      "Stochastic gradient descent average score: 0.31406481700184186\n",
      "CPU times: user 55 µs, sys: 28 µs, total: 83 µs\n",
      "Wall time: 87 µs\n",
      "Random forest average score: 0.35162322026120235\n",
      "CPU times: user 78 µs, sys: 54 µs, total: 132 µs\n",
      "Wall time: 119 µs\n",
      "Support vector average score: 0.43289122441388467\n",
      "CPU times: user 64 µs, sys: 43 µs, total: 107 µs\n",
      "Wall time: 102 µs\n",
      "K-Nearest neighbors average score: 0.35843025979023346\n",
      "CPU times: user 65 µs, sys: 42 µs, total: 107 µs\n",
      "Wall time: 101 µs\n"
     ]
    }
   ],
   "source": [
    "run_trials2(Xr2_noxx_train, Y_2_noxx_train, 'no_xx', 2)"
   ]
  },
  {
   "cell_type": "code",
   "execution_count": 968,
   "metadata": {},
   "outputs": [
    {
     "data": {
      "text/html": [
       "<div>\n",
       "<table border=\"1\" class=\"dataframe\">\n",
       "  <thead>\n",
       "    <tr style=\"text-align: right;\">\n",
       "      <th></th>\n",
       "      <th></th>\n",
       "      <th>lrc</th>\n",
       "      <th>gbc</th>\n",
       "      <th>sgd</th>\n",
       "      <th>rfc</th>\n",
       "      <th>svc</th>\n",
       "      <th>knn</th>\n",
       "    </tr>\n",
       "  </thead>\n",
       "  <tbody>\n",
       "    <tr>\n",
       "      <th rowspan=\"2\" valign=\"top\">full</th>\n",
       "      <th>1</th>\n",
       "      <td>0.405896</td>\n",
       "      <td>0.398674</td>\n",
       "      <td>0.296927</td>\n",
       "      <td>0.31496</td>\n",
       "      <td>0.421782</td>\n",
       "      <td>0.345788</td>\n",
       "    </tr>\n",
       "    <tr>\n",
       "      <th>2</th>\n",
       "      <td>0.404271</td>\n",
       "      <td>0.408004</td>\n",
       "      <td>0.239002</td>\n",
       "      <td>0.324518</td>\n",
       "      <td>0.440502</td>\n",
       "      <td>0.370224</td>\n",
       "    </tr>\n",
       "    <tr>\n",
       "      <th rowspan=\"2\" valign=\"top\">no_xx</th>\n",
       "      <th>1</th>\n",
       "      <td>0.405661</td>\n",
       "      <td>0.404254</td>\n",
       "      <td>0.284668</td>\n",
       "      <td>0.291646</td>\n",
       "      <td>0.438284</td>\n",
       "      <td>0.360259</td>\n",
       "    </tr>\n",
       "    <tr>\n",
       "      <th>2</th>\n",
       "      <td>0.411511</td>\n",
       "      <td>0.396872</td>\n",
       "      <td>0.314065</td>\n",
       "      <td>0.351623</td>\n",
       "      <td>0.432891</td>\n",
       "      <td>0.35843</td>\n",
       "    </tr>\n",
       "  </tbody>\n",
       "</table>\n",
       "</div>"
      ],
      "text/plain": [
       "              lrc       gbc       sgd       rfc       svc       knn\n",
       "full  1  0.405896  0.398674  0.296927   0.31496  0.421782  0.345788\n",
       "      2  0.404271  0.408004  0.239002  0.324518  0.440502  0.370224\n",
       "no_xx 1  0.405661  0.404254  0.284668  0.291646  0.438284  0.360259\n",
       "      2  0.411511  0.396872  0.314065  0.351623  0.432891   0.35843"
      ]
     },
     "execution_count": 968,
     "metadata": {},
     "output_type": "execute_result"
    }
   ],
   "source": [
    "results2"
   ]
  },
  {
   "cell_type": "markdown",
   "metadata": {},
   "source": [
    "The choices between the full dataset or the dataset without the most extreme outliers, and between the feaure sets is not clear. See how the top three models perform on the test set."
   ]
  },
  {
   "cell_type": "code",
   "execution_count": 969,
   "metadata": {
    "collapsed": true
   },
   "outputs": [],
   "source": [
    "r_test = pd.DataFrame(robust.fit_transform(data_test.drop(['urban_inf'], axis=1)),\n",
    "                       index=data_test.index, columns=data_test.drop(['urban_inf'], axis=1).columns)\n",
    "r_test['urban_inf'] = data_test['urban_inf']\n",
    "\n",
    "Xr1_test = r_test.loc[:, r_features]\n",
    "Xr1_test = pd.get_dummies(Xr1_test, prefix='urb_inf_', columns=['urban_inf'])\n",
    "\n",
    "Xr2_test = r_test.loc[:, features2]\n",
    "Xr2_test = pd.get_dummies(Xr2_test, prefix='urb_inf_', columns=['urban_inf'])\n",
    "\n",
    "Xr1_noxx_test = r_test.loc[:, r_features].drop(test_xx)\n",
    "Xr1_noxx_test = pd.get_dummies(Xr1_noxx_test, prefix='urb_inf_', columns=['urban_inf'])\n",
    "\n",
    "Xr2_noxx_test = r_test.loc[:, features2].drop(test_xx)\n",
    "Xr2_noxx_test = pd.get_dummies(Xr2_noxx_test, prefix='urb_inf_', columns=['urban_inf'])\n",
    "\n",
    "Y_16_test = targets_test.apply(lambda x: '0-1.9' if x == '<2' else x)\n",
    "Y_16_test = Y_16_test.apply(lambda x: '30-31.9' if x == '30+' else x)\n",
    "Y_8_test = combine_targets(Y_16_test)\n",
    "Y_4_test = combine_targets(Y_8_test)\n",
    "Y_2_test = combine_targets(Y_4_test)\n",
    "\n",
    "Y_2_noxx_test = Y_2_test.drop(test_xx)"
   ]
  },
  {
   "cell_type": "code",
   "execution_count": 970,
   "metadata": {
    "collapsed": true
   },
   "outputs": [],
   "source": [
    "index3 = pd.MultiIndex.from_product([['full', 'no_xx'], [1, 2]])\n",
    "names3 = ['lrc', 'gbc', 'svc']\n",
    "classifiers3 = [classifiers[i] for i in [0, 1, 4]]\n",
    "results3 = pd.DataFrame(index=index3, columns=names3)\n",
    "\n",
    "def run_trials3(X_train, X_test, Y_train, Y_test, selected, feature_set):\n",
    "    for name, clf in zip(names3, classifiers3):\n",
    "        clf.fit(X_train, Y_train)\n",
    "        Y_pred = clf.predict(X_test)\n",
    "        score = matthews_corrcoef(Y_test, Y_pred)\n",
    "        results3.loc[selected, feature_set][name] = score\n",
    "        %time print('{} average score: {}'.format(full_names[name], score))"
   ]
  },
  {
   "cell_type": "code",
   "execution_count": 971,
   "metadata": {},
   "outputs": [
    {
     "name": "stdout",
     "output_type": "stream",
     "text": [
      "Logistic regression average score: 0.3599204025324622\n",
      "CPU times: user 803 µs, sys: 113 µs, total: 916 µs\n",
      "Wall time: 220 µs\n",
      "Gradient boosting average score: 0.39099022521044685\n",
      "CPU times: user 74 µs, sys: 46 µs, total: 120 µs\n",
      "Wall time: 106 µs\n",
      "Support vector average score: 0.36786152851482773\n",
      "CPU times: user 74 µs, sys: 48 µs, total: 122 µs\n",
      "Wall time: 108 µs\n"
     ]
    }
   ],
   "source": [
    "run_trials3(Xr1_train, Xr1_test, Y_2_train, Y_2_test, 'full', 1)"
   ]
  },
  {
   "cell_type": "code",
   "execution_count": 972,
   "metadata": {},
   "outputs": [
    {
     "name": "stdout",
     "output_type": "stream",
     "text": [
      "Logistic regression average score: 0.3722667110752942\n",
      "CPU times: user 699 µs, sys: 251 µs, total: 950 µs\n",
      "Wall time: 323 µs\n",
      "Gradient boosting average score: 0.39434950071387503\n",
      "CPU times: user 70 µs, sys: 51 µs, total: 121 µs\n",
      "Wall time: 107 µs\n",
      "Support vector average score: 0.38445348724604494\n",
      "CPU times: user 68 µs, sys: 45 µs, total: 113 µs\n",
      "Wall time: 97 µs\n"
     ]
    }
   ],
   "source": [
    "run_trials3(Xr2_train, Xr2_test, Y_2_train, Y_2_test, 'full', 2)"
   ]
  },
  {
   "cell_type": "code",
   "execution_count": 973,
   "metadata": {},
   "outputs": [
    {
     "name": "stdout",
     "output_type": "stream",
     "text": [
      "Logistic regression average score: 0.3799486774825333\n",
      "CPU times: user 913 µs, sys: 176 µs, total: 1.09 ms\n",
      "Wall time: 273 µs\n",
      "Gradient boosting average score: 0.39480838688883063\n",
      "CPU times: user 72 µs, sys: 50 µs, total: 122 µs\n",
      "Wall time: 109 µs\n",
      "Support vector average score: 0.3846390616316681\n",
      "CPU times: user 125 µs, sys: 89 µs, total: 214 µs\n",
      "Wall time: 185 µs\n"
     ]
    }
   ],
   "source": [
    "run_trials3(Xr1_noxx_train, Xr1_noxx_test, Y_2_noxx_train, Y_2_noxx_test, 'no_xx', 1)"
   ]
  },
  {
   "cell_type": "code",
   "execution_count": 974,
   "metadata": {},
   "outputs": [
    {
     "name": "stdout",
     "output_type": "stream",
     "text": [
      "Logistic regression average score: 0.3853984655080666\n",
      "CPU times: user 842 µs, sys: 124 µs, total: 966 µs\n",
      "Wall time: 236 µs\n",
      "Gradient boosting average score: 0.42078681573621357\n",
      "CPU times: user 83 µs, sys: 50 µs, total: 133 µs\n",
      "Wall time: 112 µs\n",
      "Support vector average score: 0.390006747579955\n",
      "CPU times: user 105 µs, sys: 92 µs, total: 197 µs\n",
      "Wall time: 154 µs\n"
     ]
    }
   ],
   "source": [
    "run_trials3(Xr2_noxx_train, Xr2_noxx_test, Y_2_noxx_train, Y_2_noxx_test, 'no_xx', 2)"
   ]
  },
  {
   "cell_type": "code",
   "execution_count": 975,
   "metadata": {},
   "outputs": [
    {
     "data": {
      "text/html": [
       "<div>\n",
       "<table border=\"1\" class=\"dataframe\">\n",
       "  <thead>\n",
       "    <tr style=\"text-align: right;\">\n",
       "      <th></th>\n",
       "      <th></th>\n",
       "      <th>lrc</th>\n",
       "      <th>gbc</th>\n",
       "      <th>svc</th>\n",
       "    </tr>\n",
       "  </thead>\n",
       "  <tbody>\n",
       "    <tr>\n",
       "      <th rowspan=\"2\" valign=\"top\">full</th>\n",
       "      <th>1</th>\n",
       "      <td>0.35992</td>\n",
       "      <td>0.39099</td>\n",
       "      <td>0.367862</td>\n",
       "    </tr>\n",
       "    <tr>\n",
       "      <th>2</th>\n",
       "      <td>0.372267</td>\n",
       "      <td>0.39435</td>\n",
       "      <td>0.384453</td>\n",
       "    </tr>\n",
       "    <tr>\n",
       "      <th rowspan=\"2\" valign=\"top\">no_xx</th>\n",
       "      <th>1</th>\n",
       "      <td>0.379949</td>\n",
       "      <td>0.394808</td>\n",
       "      <td>0.384639</td>\n",
       "    </tr>\n",
       "    <tr>\n",
       "      <th>2</th>\n",
       "      <td>0.385398</td>\n",
       "      <td>0.420787</td>\n",
       "      <td>0.390007</td>\n",
       "    </tr>\n",
       "  </tbody>\n",
       "</table>\n",
       "</div>"
      ],
      "text/plain": [
       "              lrc       gbc       svc\n",
       "full  1   0.35992   0.39099  0.367862\n",
       "      2  0.372267   0.39435  0.384453\n",
       "no_xx 1  0.379949  0.394808  0.384639\n",
       "      2  0.385398  0.420787  0.390007"
      ]
     },
     "execution_count": 975,
     "metadata": {},
     "output_type": "execute_result"
    }
   ],
   "source": [
    "results3"
   ]
  },
  {
   "cell_type": "markdown",
   "metadata": {},
   "source": [
    "The feature set with the most extreme outliers removed performed better with all the classifiers, as did the second feature set. Both will be optimized, since the support vector scores are not much higher and logistic regression results are more interpretable. The second feature also consistently outperfoms the first with both of these classifiers."
   ]
  },
  {
   "cell_type": "code",
   "execution_count": 976,
   "metadata": {
    "collapsed": true
   },
   "outputs": [],
   "source": [
    "Y_bi_train = data.loc[list(Y_2_noxx_train.index), 'numeric'].apply(lambda x: 0 if x < 15 else 1)\n",
    "Y_bi_test = data.loc[list(Y_2_noxx_test.index), 'numeric'].apply(lambda x: 0 if x < 15 else 1)"
   ]
  },
  {
   "cell_type": "code",
   "execution_count": 977,
   "metadata": {
    "collapsed": true
   },
   "outputs": [],
   "source": [
    "from sklearn.model_selection import GridSearchCV\n",
    "from sklearn.metrics import roc_auc_score\n",
    "from sklearn.metrics import confusion_matrix"
   ]
  },
  {
   "cell_type": "code",
   "execution_count": 978,
   "metadata": {
    "collapsed": true
   },
   "outputs": [],
   "source": [
    "def optimize(clf, params, X_train, X_test, Y_train, Y_test):\n",
    "    model = GridSearchCV(clf, param_grid=params, scoring=matthews)\n",
    "    model.fit(X_train, Y_train)\n",
    "    print('Optimal parameters: {}'.format(model.best_params_))\n",
    "    preds = model.predict(X_test)\n",
    "    print('Matthews score: {}'.format(matthews_corrcoef(Y_test, preds)))\n",
    "    print('ROC-AUC score: {}'.format(roc_auc_score(Y_test, preds)))\n",
    "    print(confusion_matrix(Y_test, preds))\n",
    "    residuals = pd.DataFrame(model.best_estimator_.decision_function(X_test))\n",
    "    plt.scatter(residuals.index, residuals)\n",
    "    return model"
   ]
  },
  {
   "cell_type": "code",
   "execution_count": 987,
   "metadata": {
    "collapsed": true
   },
   "outputs": [],
   "source": [
    "gbc_params = { 'loss': ['deviance', 'exponential'], 'learning_rate': [.01, .05, .1, .15],\n",
    "                'n_estimators': [50, 100, 150], 'max_depth': [3, 4],\n",
    "                'min_samples_split': [2, 3], 'min_samples_leaf': [1, 2]}\n",
    "\n",
    "svc_params = {'C': [0.5, 1, 4, 7], 'kernel': ['linear', 'poly', 'rbf'],\n",
    "             'gamma': [0.1, 0.12, 0.14], 'tol': [1e-7, 5e-7, 1e-6, 5e-6]}\n"
   ]
  },
  {
   "cell_type": "code",
   "execution_count": 988,
   "metadata": {},
   "outputs": [
    {
     "name": "stdout",
     "output_type": "stream",
     "text": [
      "Optimal parameters: {'learning_rate': 0.1, 'loss': 'deviance', 'max_depth': 3, 'min_samples_leaf': 1, 'min_samples_split': 3, 'n_estimators': 150}\n",
      "Matthews score: 0.44679152383970955\n",
      "ROC-AUC score: 0.7224836284259034\n",
      "[[237  73]\n",
      " [ 85 181]]\n"
     ]
    },
    {
     "data": {
      "image/png": "[encoded data removed]",
      "text/plain": [
       "<matplotlib.figure.Figure at 0x11cf8bbe0>"
      ]
     },
     "metadata": {},
     "output_type": "display_data"
    }
   ],
   "source": [
    "gbc_1 = optimize(gbc, gbc_params, Xr2_noxx_train, Xr2_noxx_test, Y_bi_train, Y_bi_test)"
   ]
  },
  {
   "cell_type": "code",
   "execution_count": 989,
   "metadata": {},
   "outputs": [
    {
     "name": "stdout",
     "output_type": "stream",
     "text": [
      "Optimal parameters: {'C': 1, 'gamma': 0.14, 'kernel': 'rbf', 'tol': 1e-07}\n",
      "Matthews score: 0.45729204350294067\n",
      "ROC-AUC score: 0.7291777831675964\n",
      "[[226  84]\n",
      " [ 72 194]]\n"
     ]
    },
    {
     "data": {
      "image/png": "[encoded data removed]",
      "text/plain": [
       "<matplotlib.figure.Figure at 0x11ecab2b0>"
      ]
     },
     "metadata": {},
     "output_type": "display_data"
    }
   ],
   "source": [
    "svc_1 = optimize(svc, svc_params, Xr2_noxx_train, Xr2_noxx_test, Y_bi_train, Y_bi_test)"
   ]
  }
 ],
 "metadata": {
  "kernelspec": {
   "display_name": "Python 3",
   "language": "python",
   "name": "python3"
  },
  "language_info": {
   "codemirror_mode": {
    "name": "ipython",
    "version": 3
   },
   "file_extension": ".py",
   "mimetype": "text/x-python",
   "name": "python",
   "nbconvert_exporter": "python",
   "pygments_lexer": "ipython3",
   "version": "3.5.4"
  }
 },
 "nbformat": 4,
 "nbformat_minor": 2
}
