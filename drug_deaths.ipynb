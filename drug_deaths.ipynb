{
 "cells": [
  {
   "cell_type": "code",
   "execution_count": 2484,
   "metadata": {
    "collapsed": false,
    "deletable": true,
    "editable": true
   },
   "outputs": [],
   "source": [
    "import numpy as np\n",
    "import pandas as pd\n",
    "import matplotlib.pyplot as plt\n",
    "import seaborn as sns\n",
    "\n",
    "%matplotlib inline"
   ]
  },
  {
   "cell_type": "code",
   "execution_count": 2485,
   "metadata": {
    "collapsed": true,
    "deletable": true,
    "editable": true
   },
   "outputs": [],
   "source": [
    "data = pd.read_excel('data/Education.xls', skiprows=range(4), usecols=['FIPS Code',\n",
    "                                                'State', 'Area name',\n",
    "                                                'Percent of adults with less than a high school diploma, 2012-2016',\n",
    "                                                'Percent of adults with a bachelor\\'s degree or higher, 2012-2016'],\n",
    "                        converters={'FIPS Code': str})"
   ]
  },
  {
   "cell_type": "code",
   "execution_count": 2486,
   "metadata": {
    "collapsed": true,
    "deletable": true,
    "editable": true
   },
   "outputs": [],
   "source": [
    "data.columns=['FIPS', 'state', 'name', '< diploma', 'degree+']"
   ]
  },
  {
   "cell_type": "markdown",
   "metadata": {
    "deletable": true,
    "editable": true
   },
   "source": [
    "Percentages of people who did not get a high school diploma and who got a bachelor's degree or higher."
   ]
  },
  {
   "cell_type": "code",
   "execution_count": 2487,
   "metadata": {
    "collapsed": false,
    "deletable": true,
    "editable": true
   },
   "outputs": [
    {
     "data": {
      "text/html": [
       "<div>\n",
       "<table border=\"1\" class=\"dataframe\">\n",
       "  <thead>\n",
       "    <tr style=\"text-align: right;\">\n",
       "      <th></th>\n",
       "      <th>FIPS</th>\n",
       "      <th>state</th>\n",
       "      <th>name</th>\n",
       "      <th>&lt; diploma</th>\n",
       "      <th>degree+</th>\n",
       "    </tr>\n",
       "  </thead>\n",
       "  <tbody>\n",
       "    <tr>\n",
       "      <th>0</th>\n",
       "      <td>00000</td>\n",
       "      <td>US</td>\n",
       "      <td>United States</td>\n",
       "      <td>13.021</td>\n",
       "      <td>30.315</td>\n",
       "    </tr>\n",
       "    <tr>\n",
       "      <th>1</th>\n",
       "      <td>01000</td>\n",
       "      <td>AL</td>\n",
       "      <td>Alabama</td>\n",
       "      <td>15.209</td>\n",
       "      <td>24.010</td>\n",
       "    </tr>\n",
       "    <tr>\n",
       "      <th>2</th>\n",
       "      <td>01001</td>\n",
       "      <td>AL</td>\n",
       "      <td>Autauga County</td>\n",
       "      <td>12.417</td>\n",
       "      <td>24.593</td>\n",
       "    </tr>\n",
       "    <tr>\n",
       "      <th>3</th>\n",
       "      <td>01003</td>\n",
       "      <td>AL</td>\n",
       "      <td>Baldwin County</td>\n",
       "      <td>9.972</td>\n",
       "      <td>29.547</td>\n",
       "    </tr>\n",
       "    <tr>\n",
       "      <th>4</th>\n",
       "      <td>01005</td>\n",
       "      <td>AL</td>\n",
       "      <td>Barbour County</td>\n",
       "      <td>26.236</td>\n",
       "      <td>12.868</td>\n",
       "    </tr>\n",
       "  </tbody>\n",
       "</table>\n",
       "</div>"
      ],
      "text/plain": [
       "    FIPS state            name  < diploma  degree+\n",
       "0  00000    US   United States     13.021   30.315\n",
       "1  01000    AL         Alabama     15.209   24.010\n",
       "2  01001    AL  Autauga County     12.417   24.593\n",
       "3  01003    AL  Baldwin County      9.972   29.547\n",
       "4  01005    AL  Barbour County     26.236   12.868"
      ]
     },
     "execution_count": 2487,
     "metadata": {},
     "output_type": "execute_result"
    }
   ],
   "source": [
    "data.head()"
   ]
  },
  {
   "cell_type": "code",
   "execution_count": 2488,
   "metadata": {
    "collapsed": true,
    "deletable": true,
    "editable": true
   },
   "outputs": [],
   "source": [
    "data['FIPS'] = data['FIPS'].apply(lambda x: x if x[2:5] != '000' else 'not county') # mark rows for US and states"
   ]
  },
  {
   "cell_type": "code",
   "execution_count": 2489,
   "metadata": {
    "collapsed": true,
    "deletable": true,
    "editable": true
   },
   "outputs": [],
   "source": [
    "data = data[data['FIPS'] != 'not county']"
   ]
  },
  {
   "cell_type": "code",
   "execution_count": 2490,
   "metadata": {
    "collapsed": true,
    "deletable": true,
    "editable": true
   },
   "outputs": [],
   "source": [
    "data = data[data['FIPS'] < '57000'] # remove Puerto Rico counties, which would be outliers for several features"
   ]
  },
  {
   "cell_type": "code",
   "execution_count": 2491,
   "metadata": {
    "collapsed": false,
    "deletable": true,
    "editable": true
   },
   "outputs": [
    {
     "data": {
      "text/html": [
       "<div>\n",
       "<table border=\"1\" class=\"dataframe\">\n",
       "  <thead>\n",
       "    <tr style=\"text-align: right;\">\n",
       "      <th></th>\n",
       "      <th>FIPS</th>\n",
       "      <th>state</th>\n",
       "      <th>name</th>\n",
       "      <th>&lt; diploma</th>\n",
       "      <th>degree+</th>\n",
       "    </tr>\n",
       "  </thead>\n",
       "  <tbody>\n",
       "    <tr>\n",
       "      <th>2</th>\n",
       "      <td>01001</td>\n",
       "      <td>AL</td>\n",
       "      <td>Autauga County</td>\n",
       "      <td>12.417</td>\n",
       "      <td>24.593</td>\n",
       "    </tr>\n",
       "    <tr>\n",
       "      <th>3</th>\n",
       "      <td>01003</td>\n",
       "      <td>AL</td>\n",
       "      <td>Baldwin County</td>\n",
       "      <td>9.972</td>\n",
       "      <td>29.547</td>\n",
       "    </tr>\n",
       "    <tr>\n",
       "      <th>4</th>\n",
       "      <td>01005</td>\n",
       "      <td>AL</td>\n",
       "      <td>Barbour County</td>\n",
       "      <td>26.236</td>\n",
       "      <td>12.868</td>\n",
       "    </tr>\n",
       "    <tr>\n",
       "      <th>5</th>\n",
       "      <td>01007</td>\n",
       "      <td>AL</td>\n",
       "      <td>Bibb County</td>\n",
       "      <td>19.302</td>\n",
       "      <td>12.000</td>\n",
       "    </tr>\n",
       "    <tr>\n",
       "      <th>6</th>\n",
       "      <td>01009</td>\n",
       "      <td>AL</td>\n",
       "      <td>Blount County</td>\n",
       "      <td>19.969</td>\n",
       "      <td>13.050</td>\n",
       "    </tr>\n",
       "  </tbody>\n",
       "</table>\n",
       "</div>"
      ],
      "text/plain": [
       "    FIPS state            name  < diploma  degree+\n",
       "2  01001    AL  Autauga County     12.417   24.593\n",
       "3  01003    AL  Baldwin County      9.972   29.547\n",
       "4  01005    AL  Barbour County     26.236   12.868\n",
       "5  01007    AL     Bibb County     19.302   12.000\n",
       "6  01009    AL   Blount County     19.969   13.050"
      ]
     },
     "execution_count": 2491,
     "metadata": {},
     "output_type": "execute_result"
    }
   ],
   "source": [
    "data.head()"
   ]
  },
  {
   "cell_type": "code",
   "execution_count": 2492,
   "metadata": {
    "collapsed": false,
    "deletable": true,
    "editable": true
   },
   "outputs": [
    {
     "data": {
      "text/html": [
       "<div>\n",
       "<table border=\"1\" class=\"dataframe\">\n",
       "  <thead>\n",
       "    <tr style=\"text-align: right;\">\n",
       "      <th></th>\n",
       "      <th>FIPS</th>\n",
       "      <th>state</th>\n",
       "      <th>name</th>\n",
       "      <th>&lt; diploma</th>\n",
       "      <th>degree+</th>\n",
       "    </tr>\n",
       "  </thead>\n",
       "  <tbody>\n",
       "    <tr>\n",
       "      <th>3199</th>\n",
       "      <td>56037</td>\n",
       "      <td>WY</td>\n",
       "      <td>Sweetwater County</td>\n",
       "      <td>9.315</td>\n",
       "      <td>21.371</td>\n",
       "    </tr>\n",
       "    <tr>\n",
       "      <th>3200</th>\n",
       "      <td>56039</td>\n",
       "      <td>WY</td>\n",
       "      <td>Teton County</td>\n",
       "      <td>4.634</td>\n",
       "      <td>53.788</td>\n",
       "    </tr>\n",
       "    <tr>\n",
       "      <th>3201</th>\n",
       "      <td>56041</td>\n",
       "      <td>WY</td>\n",
       "      <td>Uinta County</td>\n",
       "      <td>10.361</td>\n",
       "      <td>18.207</td>\n",
       "    </tr>\n",
       "    <tr>\n",
       "      <th>3202</th>\n",
       "      <td>56043</td>\n",
       "      <td>WY</td>\n",
       "      <td>Washakie County</td>\n",
       "      <td>12.577</td>\n",
       "      <td>21.076</td>\n",
       "    </tr>\n",
       "    <tr>\n",
       "      <th>3203</th>\n",
       "      <td>56045</td>\n",
       "      <td>WY</td>\n",
       "      <td>Weston County</td>\n",
       "      <td>8.592</td>\n",
       "      <td>18.807</td>\n",
       "    </tr>\n",
       "  </tbody>\n",
       "</table>\n",
       "</div>"
      ],
      "text/plain": [
       "       FIPS state               name  < diploma  degree+\n",
       "3199  56037    WY  Sweetwater County      9.315   21.371\n",
       "3200  56039    WY       Teton County      4.634   53.788\n",
       "3201  56041    WY       Uinta County     10.361   18.207\n",
       "3202  56043    WY    Washakie County     12.577   21.076\n",
       "3203  56045    WY      Weston County      8.592   18.807"
      ]
     },
     "execution_count": 2492,
     "metadata": {},
     "output_type": "execute_result"
    }
   ],
   "source": [
    "data.tail()"
   ]
  },
  {
   "cell_type": "code",
   "execution_count": 2493,
   "metadata": {
    "collapsed": true,
    "deletable": true,
    "editable": true
   },
   "outputs": [],
   "source": [
    "population = pd.read_excel('data/Population.xls', skiprows=range(2), usecols=['FIPS','Urban_Influence_Code_2013',\n",
    "                                                                              'CENSUS_2010_POP','POP_ESTIMATE_2014',\n",
    "                                                                              'INTERNATIONALMIG_2010',\n",
    "                                                                              'INTERNATIONALMIG-2011',\n",
    "                                                                              'INTERNATIONAL_MIG_2012',\n",
    "                                                                              'INTERNATIONAL_MIG_2013'],\n",
    "                           converters={'FIPS': str, 'Urban_Influence_Code_2013': str})"
   ]
  },
  {
   "cell_type": "markdown",
   "metadata": {
    "deletable": true,
    "editable": true
   },
   "source": [
    "*Note: The urban influence code is not a smooth scale from 1 = most urban to 12 = least urban. It includes several categories of county — metropolitan, suburban, rural — and then ranks within each category. So it must be treted as categorical.*"
   ]
  },
  {
   "cell_type": "code",
   "execution_count": 2494,
   "metadata": {
    "collapsed": true,
    "deletable": true,
    "editable": true
   },
   "outputs": [],
   "source": [
    "population.columns = ['FIPS', 'urban_inf', 'pop_2010', 'pop_2014', 'im1', 'im2', 'im3', 'im4']"
   ]
  },
  {
   "cell_type": "markdown",
   "metadata": {
    "deletable": true,
    "editable": true
   },
   "source": [
    "The urban influence code \"distinguishes metropolitan counties by population size of their metro area, and nonmetropolitan counties by size of the largest city or town and proximity to metro and micropolitan areas.\" Lower numbers are more urban. The other features being consteucted here are the change in poulation between 2010 and 2014, and the change in the international migrant population relative to the overall change. "
   ]
  },
  {
   "cell_type": "code",
   "execution_count": 2495,
   "metadata": {
    "collapsed": true,
    "deletable": true,
    "editable": true
   },
   "outputs": [],
   "source": [
    "population['pop_inc'] = (population['pop_2014'] - population['pop_2010']) / population['pop_2010']"
   ]
  },
  {
   "cell_type": "code",
   "execution_count": 2496,
   "metadata": {
    "collapsed": true,
    "deletable": true,
    "editable": true
   },
   "outputs": [],
   "source": [
    "population['foreign_inc'] = (population['im1'] + population['im2'] + population['im3'] + population['im4']\n",
    "                            ) / (population['pop_2014'] - population['pop_2010'])"
   ]
  },
  {
   "cell_type": "code",
   "execution_count": 2497,
   "metadata": {
    "collapsed": true,
    "deletable": true,
    "editable": true
   },
   "outputs": [],
   "source": [
    "add_pop = population.drop(['pop_2010', 'im1', 'im2', 'im3', 'im4'], axis=1)"
   ]
  },
  {
   "cell_type": "code",
   "execution_count": 2498,
   "metadata": {
    "collapsed": false,
    "deletable": true,
    "editable": true
   },
   "outputs": [
    {
     "data": {
      "text/html": [
       "<div>\n",
       "<table border=\"1\" class=\"dataframe\">\n",
       "  <thead>\n",
       "    <tr style=\"text-align: right;\">\n",
       "      <th></th>\n",
       "      <th>FIPS</th>\n",
       "      <th>urban_inf</th>\n",
       "      <th>pop_2014</th>\n",
       "      <th>pop_inc</th>\n",
       "      <th>foreign_inc</th>\n",
       "    </tr>\n",
       "  </thead>\n",
       "  <tbody>\n",
       "    <tr>\n",
       "      <th>0</th>\n",
       "      <td>00000</td>\n",
       "      <td>NaN</td>\n",
       "      <td>318622525</td>\n",
       "      <td>0.031991</td>\n",
       "      <td>0.289381</td>\n",
       "    </tr>\n",
       "    <tr>\n",
       "      <th>1</th>\n",
       "      <td>01000</td>\n",
       "      <td>NaN</td>\n",
       "      <td>4840037</td>\n",
       "      <td>0.012616</td>\n",
       "      <td>0.232285</td>\n",
       "    </tr>\n",
       "    <tr>\n",
       "      <th>2</th>\n",
       "      <td>01001</td>\n",
       "      <td>2</td>\n",
       "      <td>54864</td>\n",
       "      <td>0.005369</td>\n",
       "      <td>0.040956</td>\n",
       "    </tr>\n",
       "    <tr>\n",
       "      <th>3</th>\n",
       "      <td>01003</td>\n",
       "      <td>2</td>\n",
       "      <td>199064</td>\n",
       "      <td>0.092168</td>\n",
       "      <td>0.030359</td>\n",
       "    </tr>\n",
       "    <tr>\n",
       "      <th>4</th>\n",
       "      <td>01005</td>\n",
       "      <td>6</td>\n",
       "      <td>26749</td>\n",
       "      <td>-0.025786</td>\n",
       "      <td>0.033898</td>\n",
       "    </tr>\n",
       "    <tr>\n",
       "      <th>5</th>\n",
       "      <td>01007</td>\n",
       "      <td>1</td>\n",
       "      <td>22533</td>\n",
       "      <td>-0.016670</td>\n",
       "      <td>-0.102094</td>\n",
       "    </tr>\n",
       "  </tbody>\n",
       "</table>\n",
       "</div>"
      ],
      "text/plain": [
       "    FIPS urban_inf   pop_2014   pop_inc  foreign_inc\n",
       "0  00000       NaN  318622525  0.031991     0.289381\n",
       "1  01000       NaN    4840037  0.012616     0.232285\n",
       "2  01001         2      54864  0.005369     0.040956\n",
       "3  01003         2     199064  0.092168     0.030359\n",
       "4  01005         6      26749 -0.025786     0.033898\n",
       "5  01007         1      22533 -0.016670    -0.102094"
      ]
     },
     "execution_count": 2498,
     "metadata": {},
     "output_type": "execute_result"
    }
   ],
   "source": [
    "add_pop.head(6)"
   ]
  },
  {
   "cell_type": "markdown",
   "metadata": {
    "deletable": true,
    "editable": true
   },
   "source": [
    "Where the population increase is negative, the foreign increase must be multiplied by -1 so that the division in the calculation does not turn a positive foreign increase negative and vice-versa."
   ]
  },
  {
   "cell_type": "code",
   "execution_count": 2499,
   "metadata": {
    "collapsed": true,
    "deletable": true,
    "editable": true
   },
   "outputs": [],
   "source": [
    "add_pop['foreign_inc'] = add_pop['foreign_inc'] * (add_pop['pop_inc'] / abs(add_pop['pop_inc']))"
   ]
  },
  {
   "cell_type": "code",
   "execution_count": 2500,
   "metadata": {
    "collapsed": false,
    "deletable": true,
    "editable": true
   },
   "outputs": [
    {
     "data": {
      "text/html": [
       "<div>\n",
       "<table border=\"1\" class=\"dataframe\">\n",
       "  <thead>\n",
       "    <tr style=\"text-align: right;\">\n",
       "      <th></th>\n",
       "      <th>FIPS</th>\n",
       "      <th>urban_inf</th>\n",
       "      <th>pop_2014</th>\n",
       "      <th>pop_inc</th>\n",
       "      <th>foreign_inc</th>\n",
       "    </tr>\n",
       "  </thead>\n",
       "  <tbody>\n",
       "    <tr>\n",
       "      <th>0</th>\n",
       "      <td>00000</td>\n",
       "      <td>NaN</td>\n",
       "      <td>318622525</td>\n",
       "      <td>0.031991</td>\n",
       "      <td>0.289381</td>\n",
       "    </tr>\n",
       "    <tr>\n",
       "      <th>1</th>\n",
       "      <td>01000</td>\n",
       "      <td>NaN</td>\n",
       "      <td>4840037</td>\n",
       "      <td>0.012616</td>\n",
       "      <td>0.232285</td>\n",
       "    </tr>\n",
       "    <tr>\n",
       "      <th>2</th>\n",
       "      <td>01001</td>\n",
       "      <td>2</td>\n",
       "      <td>54864</td>\n",
       "      <td>0.005369</td>\n",
       "      <td>0.040956</td>\n",
       "    </tr>\n",
       "    <tr>\n",
       "      <th>3</th>\n",
       "      <td>01003</td>\n",
       "      <td>2</td>\n",
       "      <td>199064</td>\n",
       "      <td>0.092168</td>\n",
       "      <td>0.030359</td>\n",
       "    </tr>\n",
       "    <tr>\n",
       "      <th>4</th>\n",
       "      <td>01005</td>\n",
       "      <td>6</td>\n",
       "      <td>26749</td>\n",
       "      <td>-0.025786</td>\n",
       "      <td>-0.033898</td>\n",
       "    </tr>\n",
       "    <tr>\n",
       "      <th>5</th>\n",
       "      <td>01007</td>\n",
       "      <td>1</td>\n",
       "      <td>22533</td>\n",
       "      <td>-0.016670</td>\n",
       "      <td>0.102094</td>\n",
       "    </tr>\n",
       "  </tbody>\n",
       "</table>\n",
       "</div>"
      ],
      "text/plain": [
       "    FIPS urban_inf   pop_2014   pop_inc  foreign_inc\n",
       "0  00000       NaN  318622525  0.031991     0.289381\n",
       "1  01000       NaN    4840037  0.012616     0.232285\n",
       "2  01001         2      54864  0.005369     0.040956\n",
       "3  01003         2     199064  0.092168     0.030359\n",
       "4  01005         6      26749 -0.025786    -0.033898\n",
       "5  01007         1      22533 -0.016670     0.102094"
      ]
     },
     "execution_count": 2500,
     "metadata": {},
     "output_type": "execute_result"
    }
   ],
   "source": [
    "add_pop.head(6)"
   ]
  },
  {
   "cell_type": "code",
   "execution_count": 2501,
   "metadata": {
    "collapsed": true,
    "deletable": true,
    "editable": true
   },
   "outputs": [],
   "source": [
    "data = data.set_index('FIPS').join(add_pop.set_index('FIPS'))"
   ]
  },
  {
   "cell_type": "code",
   "execution_count": 2502,
   "metadata": {
    "collapsed": false,
    "deletable": true,
    "editable": true
   },
   "outputs": [],
   "source": [
    "unemployment = pd.read_excel('data/Unemployment.xls', skiprows=range(7), usecols=['FIPStxt', 'Unemployment_rate_2014'],\n",
    "                            converters={'FIPStxt': str})\n",
    "unemployment.columns = ['FIPS', 'unemployment']\n",
    "unemployment = unemployment.set_index('FIPS')\n",
    "unemployment2 = pd.read_excel('data/CLF01.xls', sheetname='Sheet9', usecols=['STCOU', 'CLF040210D'], converters={'STCOU': str})\n",
    "unemployment2.columns = ['FIPS', 'unemployment_2009']\n",
    "unemployment = unemployment.join(unemployment2.set_index('FIPS'))\n",
    "unemployment['unemp_change'] = unemployment['unemployment_2009'] - unemployment['unemployment']\n",
    "data = data.join(unemployment.drop('unemployment_2009', axis=1))"
   ]
  },
  {
   "cell_type": "markdown",
   "metadata": {
    "deletable": true,
    "editable": true
   },
   "source": [
    "The features are the unemployment rate in 2014 and the change in that rate from 2009."
   ]
  },
  {
   "cell_type": "code",
   "execution_count": 2503,
   "metadata": {
    "collapsed": true,
    "deletable": true,
    "editable": true
   },
   "outputs": [],
   "source": [
    "poverty = pd.read_excel('data/Poverty.xls', skiprows=range(2), usecols = ['FIPStxt',\n",
    "                                                                         'PCTPOVALL_2014','MEDHHINC_2014'],\n",
    "                       converters={'FIPStxt': str})\n",
    "poverty.columns = ['FIPS', 'poverty', 'median_hh_inc'] # poverty rate and median household income\n",
    "poverty = poverty.set_index('FIPS')\n",
    "poverty2 = pd.read_excel('data/IPE01.xls', sheetname='Sheet5', usecols=['STCOU', 'IPE120209D'], converters={'STCOU': str})\n",
    "poverty2.columns = ['FIPS', 'poverty_2009']\n",
    "poverty = poverty.join(poverty2.set_index('FIPS'))\n",
    "poverty['pov_change'] = poverty['poverty_2009'] - poverty['poverty']\n",
    "data = data.join(poverty.drop('poverty_2009', axis=1))"
   ]
  },
  {
   "cell_type": "markdown",
   "metadata": {
    "deletable": true,
    "editable": true
   },
   "source": [
    "Similarly, the poverty rate in 2014 and the change from 2009."
   ]
  },
  {
   "cell_type": "code",
   "execution_count": 2504,
   "metadata": {
    "collapsed": true,
    "deletable": true,
    "editable": true
   },
   "outputs": [],
   "source": [
    "age = pd.read_excel('data/AGE01.xls', sheetname='Sheet2', usecols=['STCOU', 'AGE050210D'], converters={'STCOU': str})\n",
    "age.columns = ['FIPS', 'median_age']\n",
    "data = data.join(age.set_index('FIPS'))"
   ]
  },
  {
   "cell_type": "code",
   "execution_count": 2505,
   "metadata": {
    "collapsed": true,
    "deletable": true,
    "editable": true
   },
   "outputs": [],
   "source": [
    "households1 = pd.read_excel('data/HSG02.xls', sheetname='HSG02D', usecols=['HSG200210D'])\n",
    "households2 = pd.read_excel('data/HSG02.xls', sheetname='HSG02E', usecols=['STCOU', 'HSG215210D', 'HSG220210D'],\n",
    "                          converters={'STCOU': str})\n",
    "households2.columns = ['FIPS', 'hh_afr_am', 'hh_hisp']"
   ]
  },
  {
   "cell_type": "markdown",
   "metadata": {
    "deletable": true,
    "editable": true
   },
   "source": [
    "Divide the numbers of households headed by African-Americans and Hispanics by the total number of households to get percentages."
   ]
  },
  {
   "cell_type": "code",
   "execution_count": 2506,
   "metadata": {
    "collapsed": true,
    "deletable": true,
    "editable": true
   },
   "outputs": [],
   "source": [
    "households2.loc[:, ['hh_afr_am', 'hh_hisp']] = households2[['hh_afr_am', 'hh_hisp']].div(households1['HSG200210D'], axis=0)\n",
    "data = data.join(households2.set_index('FIPS'))"
   ]
  },
  {
   "cell_type": "code",
   "execution_count": 2507,
   "metadata": {
    "collapsed": true,
    "deletable": true,
    "editable": true
   },
   "outputs": [],
   "source": [
    "hh_07 = pd.read_excel('data/HSD01.xls', sheetname='HSD01I', usecols=['HSD410209D'])"
   ]
  },
  {
   "cell_type": "code",
   "execution_count": 2508,
   "metadata": {
    "collapsed": true,
    "deletable": true,
    "editable": true
   },
   "outputs": [],
   "source": [
    "hh_female = pd.read_excel('data/HSD02.xls', sheetname='HSD02B', usecols=['STCOU', 'HSD570209D'],\n",
    "                          converters={'STCOU': str})"
   ]
  },
  {
   "cell_type": "code",
   "execution_count": 2509,
   "metadata": {
    "collapsed": true,
    "deletable": true,
    "editable": true
   },
   "outputs": [],
   "source": [
    "hh_female.columns = ['FIPS', 'hh_female']\n",
    "hh_female.loc[:, 'hh_female'] = hh_female['hh_female'] / hh_07['HSD410209D']"
   ]
  },
  {
   "cell_type": "code",
   "execution_count": 2510,
   "metadata": {
    "collapsed": true,
    "deletable": true,
    "editable": true
   },
   "outputs": [],
   "source": [
    "hh_food_st = pd.read_excel('data/INC01.xls', sheetname='INC01J', usecols=['STCOU', 'INC454209D'],\n",
    "                          converters={'STCOU': str})"
   ]
  },
  {
   "cell_type": "code",
   "execution_count": 2511,
   "metadata": {
    "collapsed": true,
    "deletable": true,
    "editable": true
   },
   "outputs": [],
   "source": [
    "hh_food_st.columns = ['FIPS', 'hh_food_st']\n",
    "hh_food_st.loc[:, 'hh_food_st'] = hh_food_st['hh_food_st'] / hh_07['HSD410209D']"
   ]
  },
  {
   "cell_type": "code",
   "execution_count": 2512,
   "metadata": {
    "collapsed": true,
    "deletable": true,
    "editable": true
   },
   "outputs": [],
   "source": [
    "data = data.join([hh_female.set_index('FIPS'), hh_food_st.set_index('FIPS')])"
   ]
  },
  {
   "cell_type": "code",
   "execution_count": 2513,
   "metadata": {
    "collapsed": true,
    "deletable": true,
    "editable": true
   },
   "outputs": [],
   "source": [
    "foreign_born = pd.read_excel('data/POP02.xls', sheetname='POP02J', usecols=['STCOU', 'POP645209D'],\n",
    "                            converters={'STCOU': str})\n",
    "foreign_born.columns = ['FIPS', 'foreign_07']"
   ]
  },
  {
   "cell_type": "code",
   "execution_count": 2514,
   "metadata": {
    "collapsed": true,
    "deletable": true,
    "editable": true
   },
   "outputs": [],
   "source": [
    "pop_07 = pd.read_excel('data/PST01.xls', sheetname='Sheet4', usecols=['PST045207D'])"
   ]
  },
  {
   "cell_type": "code",
   "execution_count": 2515,
   "metadata": {
    "collapsed": true,
    "deletable": true,
    "editable": true
   },
   "outputs": [],
   "source": [
    "vets = pd.read_excel('data/VET01.xls', sheetname='VET01C', usecols=['STCOU', 'VET605209D', 'VET610209D'],\n",
    "                    converters={'STCOU': str})\n",
    "vets.columns = ['FIPS', 'vets', 'vets_male']"
   ]
  },
  {
   "cell_type": "code",
   "execution_count": 2516,
   "metadata": {
    "collapsed": true,
    "deletable": true,
    "editable": true
   },
   "outputs": [],
   "source": [
    "vets.loc[:, 'vets'] = vets['vets'] / pop_07['PST045207D']"
   ]
  },
  {
   "cell_type": "code",
   "execution_count": 2517,
   "metadata": {
    "collapsed": true,
    "deletable": true,
    "editable": true
   },
   "outputs": [],
   "source": [
    "data = data.join([foreign_born.set_index('FIPS'), vets.set_index('FIPS')])"
   ]
  },
  {
   "cell_type": "code",
   "execution_count": 2518,
   "metadata": {
    "collapsed": true,
    "deletable": true,
    "editable": true
   },
   "outputs": [],
   "source": [
    "crimes = pd.read_csv('data/Crime.tsv', sep='\\t', usecols=['FIPS_ST', 'FIPS_CTY', 'VIOL', 'PROPERTY'],\n",
    "                    converters={'FIPS_ST': str, 'FIPS_CTY': str, 'VIOL': float, 'PROPERTY': float}, engine='python')"
   ]
  },
  {
   "cell_type": "code",
   "execution_count": 2519,
   "metadata": {
    "collapsed": false,
    "deletable": true,
    "editable": true
   },
   "outputs": [
    {
     "data": {
      "text/html": [
       "<div>\n",
       "<table border=\"1\" class=\"dataframe\">\n",
       "  <thead>\n",
       "    <tr style=\"text-align: right;\">\n",
       "      <th></th>\n",
       "      <th>FIPS_ST</th>\n",
       "      <th>FIPS_CTY</th>\n",
       "      <th>viol_crime</th>\n",
       "      <th>prop_crime</th>\n",
       "    </tr>\n",
       "  </thead>\n",
       "  <tbody>\n",
       "    <tr>\n",
       "      <th>0</th>\n",
       "      <td>1</td>\n",
       "      <td>1</td>\n",
       "      <td>144.0</td>\n",
       "      <td>1625.0</td>\n",
       "    </tr>\n",
       "    <tr>\n",
       "      <th>1</th>\n",
       "      <td>1</td>\n",
       "      <td>3</td>\n",
       "      <td>373.0</td>\n",
       "      <td>4060.0</td>\n",
       "    </tr>\n",
       "    <tr>\n",
       "      <th>2</th>\n",
       "      <td>1</td>\n",
       "      <td>5</td>\n",
       "      <td>97.0</td>\n",
       "      <td>660.0</td>\n",
       "    </tr>\n",
       "    <tr>\n",
       "      <th>3</th>\n",
       "      <td>1</td>\n",
       "      <td>7</td>\n",
       "      <td>23.0</td>\n",
       "      <td>227.0</td>\n",
       "    </tr>\n",
       "    <tr>\n",
       "      <th>4</th>\n",
       "      <td>1</td>\n",
       "      <td>9</td>\n",
       "      <td>125.0</td>\n",
       "      <td>1270.0</td>\n",
       "    </tr>\n",
       "  </tbody>\n",
       "</table>\n",
       "</div>"
      ],
      "text/plain": [
       "  FIPS_ST FIPS_CTY  viol_crime  prop_crime\n",
       "0       1        1       144.0      1625.0\n",
       "1       1        3       373.0      4060.0\n",
       "2       1        5        97.0       660.0\n",
       "3       1        7        23.0       227.0\n",
       "4       1        9       125.0      1270.0"
      ]
     },
     "execution_count": 2519,
     "metadata": {},
     "output_type": "execute_result"
    }
   ],
   "source": [
    "crimes.columns = ['FIPS_ST', 'FIPS_CTY', 'viol_crime', 'prop_crime']\n",
    "crimes.head()"
   ]
  },
  {
   "cell_type": "code",
   "execution_count": 2520,
   "metadata": {
    "collapsed": true,
    "deletable": true,
    "editable": true
   },
   "outputs": [],
   "source": [
    "crimes['FIPS_ST'] = crimes['FIPS_ST'].apply(lambda x: '0' * (2 - len(x)) + x)"
   ]
  },
  {
   "cell_type": "code",
   "execution_count": 2521,
   "metadata": {
    "collapsed": true,
    "deletable": true,
    "editable": true
   },
   "outputs": [],
   "source": [
    "crimes['FIPS_CTY'] = crimes['FIPS_CTY'].apply(lambda x: '0' * (3 - len(x)) + x)"
   ]
  },
  {
   "cell_type": "code",
   "execution_count": 2522,
   "metadata": {
    "collapsed": true,
    "deletable": true,
    "editable": true
   },
   "outputs": [],
   "source": [
    "crimes['FIPS'] = crimes['FIPS_ST'] + crimes['FIPS_CTY']"
   ]
  },
  {
   "cell_type": "code",
   "execution_count": 2523,
   "metadata": {
    "collapsed": true,
    "deletable": true,
    "editable": true
   },
   "outputs": [],
   "source": [
    "data = data.join(crimes.drop(['FIPS_ST', 'FIPS_CTY'], axis=1).set_index('FIPS'))"
   ]
  },
  {
   "cell_type": "code",
   "execution_count": 2524,
   "metadata": {
    "collapsed": true,
    "deletable": true,
    "editable": true
   },
   "outputs": [],
   "source": [
    "data.loc[:, ['viol_crime', 'prop_crime']] = data[['viol_crime', 'prop_crime']].div(data['pop_2014'], axis=0)"
   ]
  },
  {
   "cell_type": "code",
   "execution_count": 2525,
   "metadata": {
    "collapsed": false,
    "deletable": true,
    "editable": true
   },
   "outputs": [
    {
     "data": {
      "text/plain": [
       "state             0\n",
       "name              0\n",
       "< diploma        10\n",
       "degree+          10\n",
       "urban_inf        10\n",
       "pop_2014         10\n",
       "pop_inc          10\n",
       "foreign_inc      13\n",
       "unemployment     11\n",
       "unemp_change     13\n",
       "poverty          13\n",
       "median_hh_inc    13\n",
       "pov_change       13\n",
       "median_age        9\n",
       "hh_afr_am        11\n",
       "hh_hisp          11\n",
       "hh_female        11\n",
       "hh_food_st       11\n",
       "foreign_07        9\n",
       "vets             11\n",
       "vets_male         9\n",
       "viol_crime       18\n",
       "prop_crime       18\n",
       "dtype: int64"
      ]
     },
     "execution_count": 2525,
     "metadata": {},
     "output_type": "execute_result"
    }
   ],
   "source": [
    "data.isnull().sum()"
   ]
  },
  {
   "cell_type": "code",
   "execution_count": 2526,
   "metadata": {
    "collapsed": false,
    "deletable": true,
    "editable": true
   },
   "outputs": [
    {
     "data": {
      "text/plain": [
       "3130"
      ]
     },
     "execution_count": 2526,
     "metadata": {},
     "output_type": "execute_result"
    }
   ],
   "source": [
    "len(data.dropna())"
   ]
  },
  {
   "cell_type": "code",
   "execution_count": 2527,
   "metadata": {
    "collapsed": false,
    "deletable": true,
    "editable": true
   },
   "outputs": [
    {
     "data": {
      "text/plain": [
       "3152"
      ]
     },
     "execution_count": 2527,
     "metadata": {},
     "output_type": "execute_result"
    }
   ],
   "source": [
    "len(data)"
   ]
  },
  {
   "cell_type": "markdown",
   "metadata": {
    "deletable": true,
    "editable": true
   },
   "source": [
    "Many of the missing values occur in records missing multiple values, and dropping all of them would only reduce the number of records from 3,152 to 3,130, so drop them."
   ]
  },
  {
   "cell_type": "code",
   "execution_count": 2528,
   "metadata": {
    "collapsed": true,
    "deletable": true,
    "editable": true
   },
   "outputs": [],
   "source": [
    "data = data.dropna()"
   ]
  },
  {
   "cell_type": "code",
   "execution_count": 2529,
   "metadata": {
    "collapsed": false,
    "deletable": true,
    "editable": true
   },
   "outputs": [
    {
     "data": {
      "text/plain": [
       "state              0\n",
       "name               0\n",
       "< diploma          0\n",
       "degree+            0\n",
       "urban_inf          0\n",
       "pop_2014           0\n",
       "pop_inc            0\n",
       "foreign_inc      156\n",
       "unemployment       0\n",
       "unemp_change      11\n",
       "poverty            0\n",
       "median_hh_inc      0\n",
       "pov_change        61\n",
       "median_age         0\n",
       "hh_afr_am         85\n",
       "hh_hisp            4\n",
       "hh_female          2\n",
       "hh_food_st         3\n",
       "foreign_07        33\n",
       "vets               0\n",
       "vets_male          0\n",
       "viol_crime       163\n",
       "prop_crime       100\n",
       "dtype: int64"
      ]
     },
     "execution_count": 2529,
     "metadata": {},
     "output_type": "execute_result"
    }
   ],
   "source": [
    "(data == 0).sum()"
   ]
  },
  {
   "cell_type": "markdown",
   "metadata": {
    "deletable": true,
    "editable": true
   },
   "source": [
    "It is reasonable that these values could be zero, so proceed."
   ]
  },
  {
   "cell_type": "code",
   "execution_count": 2530,
   "metadata": {
    "collapsed": false,
    "deletable": true,
    "editable": true
   },
   "outputs": [
    {
     "data": {
      "text/html": [
       "<div>\n",
       "<table border=\"1\" class=\"dataframe\">\n",
       "  <thead>\n",
       "    <tr style=\"text-align: right;\">\n",
       "      <th></th>\n",
       "      <th>&lt; diploma</th>\n",
       "      <th>degree+</th>\n",
       "      <th>pop_2014</th>\n",
       "      <th>pop_inc</th>\n",
       "      <th>foreign_inc</th>\n",
       "      <th>unemployment</th>\n",
       "      <th>unemp_change</th>\n",
       "      <th>poverty</th>\n",
       "      <th>median_hh_inc</th>\n",
       "      <th>pov_change</th>\n",
       "      <th>median_age</th>\n",
       "      <th>hh_afr_am</th>\n",
       "      <th>hh_hisp</th>\n",
       "      <th>hh_female</th>\n",
       "      <th>hh_food_st</th>\n",
       "      <th>foreign_07</th>\n",
       "      <th>vets</th>\n",
       "      <th>vets_male</th>\n",
       "      <th>viol_crime</th>\n",
       "      <th>prop_crime</th>\n",
       "    </tr>\n",
       "  </thead>\n",
       "  <tbody>\n",
       "    <tr>\n",
       "      <th>count</th>\n",
       "      <td>3130.000000</td>\n",
       "      <td>3130.000000</td>\n",
       "      <td>3.130000e+03</td>\n",
       "      <td>3130.000000</td>\n",
       "      <td>3130.000000</td>\n",
       "      <td>3130.000000</td>\n",
       "      <td>3130.000000</td>\n",
       "      <td>3130.000000</td>\n",
       "      <td>3130.000000</td>\n",
       "      <td>3130.000000</td>\n",
       "      <td>3130.000000</td>\n",
       "      <td>3130.000000</td>\n",
       "      <td>3130.000000</td>\n",
       "      <td>3130.000000</td>\n",
       "      <td>3130.000000</td>\n",
       "      <td>3130.000000</td>\n",
       "      <td>3130.000000</td>\n",
       "      <td>3130.000000</td>\n",
       "      <td>3130.000000</td>\n",
       "      <td>3130.000000</td>\n",
       "    </tr>\n",
       "    <tr>\n",
       "      <th>mean</th>\n",
       "      <td>14.203396</td>\n",
       "      <td>20.789275</td>\n",
       "      <td>1.017577e+05</td>\n",
       "      <td>0.002831</td>\n",
       "      <td>0.395946</td>\n",
       "      <td>6.235559</td>\n",
       "      <td>2.946709</td>\n",
       "      <td>16.837380</td>\n",
       "      <td>47121.392971</td>\n",
       "      <td>-0.539904</td>\n",
       "      <td>40.336102</td>\n",
       "      <td>0.081055</td>\n",
       "      <td>0.060388</td>\n",
       "      <td>0.110043</td>\n",
       "      <td>0.104072</td>\n",
       "      <td>4.242971</td>\n",
       "      <td>0.088570</td>\n",
       "      <td>94.202109</td>\n",
       "      <td>0.002291</td>\n",
       "      <td>0.018038</td>\n",
       "    </tr>\n",
       "    <tr>\n",
       "      <th>std</th>\n",
       "      <td>6.539295</td>\n",
       "      <td>9.143450</td>\n",
       "      <td>3.263767e+05</td>\n",
       "      <td>0.041968</td>\n",
       "      <td>3.043823</td>\n",
       "      <td>2.256287</td>\n",
       "      <td>1.807379</td>\n",
       "      <td>6.422444</td>\n",
       "      <td>12099.573945</td>\n",
       "      <td>2.161624</td>\n",
       "      <td>5.033958</td>\n",
       "      <td>0.138236</td>\n",
       "      <td>0.114099</td>\n",
       "      <td>0.043623</td>\n",
       "      <td>0.058290</td>\n",
       "      <td>5.475315</td>\n",
       "      <td>0.022732</td>\n",
       "      <td>3.143674</td>\n",
       "      <td>0.001968</td>\n",
       "      <td>0.011847</td>\n",
       "    </tr>\n",
       "    <tr>\n",
       "      <th>min</th>\n",
       "      <td>1.279000</td>\n",
       "      <td>2.985000</td>\n",
       "      <td>8.900000e+01</td>\n",
       "      <td>-0.177510</td>\n",
       "      <td>-6.333333</td>\n",
       "      <td>1.200000</td>\n",
       "      <td>-8.200000</td>\n",
       "      <td>3.200000</td>\n",
       "      <td>21658.000000</td>\n",
       "      <td>-15.900000</td>\n",
       "      <td>22.400000</td>\n",
       "      <td>0.000000</td>\n",
       "      <td>0.000000</td>\n",
       "      <td>0.000000</td>\n",
       "      <td>0.000000</td>\n",
       "      <td>0.000000</td>\n",
       "      <td>0.019065</td>\n",
       "      <td>65.000000</td>\n",
       "      <td>0.000000</td>\n",
       "      <td>0.000000</td>\n",
       "    </tr>\n",
       "    <tr>\n",
       "      <th>25%</th>\n",
       "      <td>9.282750</td>\n",
       "      <td>14.427500</td>\n",
       "      <td>1.102950e+04</td>\n",
       "      <td>-0.021689</td>\n",
       "      <td>0.007641</td>\n",
       "      <td>4.600000</td>\n",
       "      <td>1.700000</td>\n",
       "      <td>12.100000</td>\n",
       "      <td>38889.000000</td>\n",
       "      <td>-1.700000</td>\n",
       "      <td>37.400000</td>\n",
       "      <td>0.002661</td>\n",
       "      <td>0.009502</td>\n",
       "      <td>0.082411</td>\n",
       "      <td>0.062540</td>\n",
       "      <td>1.100000</td>\n",
       "      <td>0.074039</td>\n",
       "      <td>92.900000</td>\n",
       "      <td>0.000981</td>\n",
       "      <td>0.009866</td>\n",
       "    </tr>\n",
       "    <tr>\n",
       "      <th>50%</th>\n",
       "      <td>12.765500</td>\n",
       "      <td>18.528000</td>\n",
       "      <td>2.574250e+04</td>\n",
       "      <td>-0.004227</td>\n",
       "      <td>0.057769</td>\n",
       "      <td>6.000000</td>\n",
       "      <td>2.800000</td>\n",
       "      <td>15.800000</td>\n",
       "      <td>45227.500000</td>\n",
       "      <td>-0.500000</td>\n",
       "      <td>40.300000</td>\n",
       "      <td>0.013111</td>\n",
       "      <td>0.019849</td>\n",
       "      <td>0.103899</td>\n",
       "      <td>0.093112</td>\n",
       "      <td>2.300000</td>\n",
       "      <td>0.087159</td>\n",
       "      <td>94.600000</td>\n",
       "      <td>0.001823</td>\n",
       "      <td>0.016319</td>\n",
       "    </tr>\n",
       "    <tr>\n",
       "      <th>75%</th>\n",
       "      <td>18.292750</td>\n",
       "      <td>24.703750</td>\n",
       "      <td>6.785250e+04</td>\n",
       "      <td>0.020261</td>\n",
       "      <td>0.200482</td>\n",
       "      <td>7.500000</td>\n",
       "      <td>4.000000</td>\n",
       "      <td>20.400000</td>\n",
       "      <td>52529.750000</td>\n",
       "      <td>0.700000</td>\n",
       "      <td>43.300000</td>\n",
       "      <td>0.093166</td>\n",
       "      <td>0.053750</td>\n",
       "      <td>0.128855</td>\n",
       "      <td>0.134389</td>\n",
       "      <td>5.100000</td>\n",
       "      <td>0.100460</td>\n",
       "      <td>96.100000</td>\n",
       "      <td>0.003095</td>\n",
       "      <td>0.024298</td>\n",
       "    </tr>\n",
       "    <tr>\n",
       "      <th>max</th>\n",
       "      <td>51.479000</td>\n",
       "      <td>80.210000</td>\n",
       "      <td>1.007270e+07</td>\n",
       "      <td>0.727044</td>\n",
       "      <td>119.000000</td>\n",
       "      <td>24.000000</td>\n",
       "      <td>13.600000</td>\n",
       "      <td>47.400000</td>\n",
       "      <td>125635.000000</td>\n",
       "      <td>17.400000</td>\n",
       "      <td>62.700000</td>\n",
       "      <td>0.832707</td>\n",
       "      <td>0.955767</td>\n",
       "      <td>0.450570</td>\n",
       "      <td>0.400252</td>\n",
       "      <td>63.100000</td>\n",
       "      <td>0.297533</td>\n",
       "      <td>100.000000</td>\n",
       "      <td>0.025476</td>\n",
       "      <td>0.138286</td>\n",
       "    </tr>\n",
       "  </tbody>\n",
       "</table>\n",
       "</div>"
      ],
      "text/plain": [
       "         < diploma      degree+      pop_2014      pop_inc  foreign_inc  \\\n",
       "count  3130.000000  3130.000000  3.130000e+03  3130.000000  3130.000000   \n",
       "mean     14.203396    20.789275  1.017577e+05     0.002831     0.395946   \n",
       "std       6.539295     9.143450  3.263767e+05     0.041968     3.043823   \n",
       "min       1.279000     2.985000  8.900000e+01    -0.177510    -6.333333   \n",
       "25%       9.282750    14.427500  1.102950e+04    -0.021689     0.007641   \n",
       "50%      12.765500    18.528000  2.574250e+04    -0.004227     0.057769   \n",
       "75%      18.292750    24.703750  6.785250e+04     0.020261     0.200482   \n",
       "max      51.479000    80.210000  1.007270e+07     0.727044   119.000000   \n",
       "\n",
       "       unemployment  unemp_change      poverty  median_hh_inc   pov_change  \\\n",
       "count   3130.000000   3130.000000  3130.000000    3130.000000  3130.000000   \n",
       "mean       6.235559      2.946709    16.837380   47121.392971    -0.539904   \n",
       "std        2.256287      1.807379     6.422444   12099.573945     2.161624   \n",
       "min        1.200000     -8.200000     3.200000   21658.000000   -15.900000   \n",
       "25%        4.600000      1.700000    12.100000   38889.000000    -1.700000   \n",
       "50%        6.000000      2.800000    15.800000   45227.500000    -0.500000   \n",
       "75%        7.500000      4.000000    20.400000   52529.750000     0.700000   \n",
       "max       24.000000     13.600000    47.400000  125635.000000    17.400000   \n",
       "\n",
       "        median_age    hh_afr_am      hh_hisp    hh_female   hh_food_st  \\\n",
       "count  3130.000000  3130.000000  3130.000000  3130.000000  3130.000000   \n",
       "mean     40.336102     0.081055     0.060388     0.110043     0.104072   \n",
       "std       5.033958     0.138236     0.114099     0.043623     0.058290   \n",
       "min      22.400000     0.000000     0.000000     0.000000     0.000000   \n",
       "25%      37.400000     0.002661     0.009502     0.082411     0.062540   \n",
       "50%      40.300000     0.013111     0.019849     0.103899     0.093112   \n",
       "75%      43.300000     0.093166     0.053750     0.128855     0.134389   \n",
       "max      62.700000     0.832707     0.955767     0.450570     0.400252   \n",
       "\n",
       "        foreign_07         vets    vets_male   viol_crime   prop_crime  \n",
       "count  3130.000000  3130.000000  3130.000000  3130.000000  3130.000000  \n",
       "mean      4.242971     0.088570    94.202109     0.002291     0.018038  \n",
       "std       5.475315     0.022732     3.143674     0.001968     0.011847  \n",
       "min       0.000000     0.019065    65.000000     0.000000     0.000000  \n",
       "25%       1.100000     0.074039    92.900000     0.000981     0.009866  \n",
       "50%       2.300000     0.087159    94.600000     0.001823     0.016319  \n",
       "75%       5.100000     0.100460    96.100000     0.003095     0.024298  \n",
       "max      63.100000     0.297533   100.000000     0.025476     0.138286  "
      ]
     },
     "execution_count": 2530,
     "metadata": {},
     "output_type": "execute_result"
    }
   ],
   "source": [
    "data.describe()"
   ]
  },
  {
   "cell_type": "markdown",
   "metadata": {
    "deletable": true,
    "editable": true
   },
   "source": [
    "From the stats, the dataset certainly contains strong outliers that will need to be dealt with."
   ]
  },
  {
   "cell_type": "code",
   "execution_count": 2531,
   "metadata": {
    "collapsed": true,
    "deletable": true,
    "editable": true
   },
   "outputs": [],
   "source": [
    "deaths = pd.read_csv('data/Drug_deaths.csv', usecols=['FIPS', 'Year', 'Estimated Age-adjusted Death Rate, 16 Categories (in ranges)'],\n",
    "                    converters={'FIPS': str})"
   ]
  },
  {
   "cell_type": "code",
   "execution_count": 2532,
   "metadata": {
    "collapsed": false,
    "deletable": true,
    "editable": true
   },
   "outputs": [
    {
     "data": {
      "text/plain": [
       "FIPS                                                            0\n",
       "Year                                                            0\n",
       "Estimated Age-adjusted Death Rate, 16 Categories (in ranges)    0\n",
       "dtype: int64"
      ]
     },
     "execution_count": 2532,
     "metadata": {},
     "output_type": "execute_result"
    }
   ],
   "source": [
    "deaths.isnull().sum()"
   ]
  },
  {
   "cell_type": "code",
   "execution_count": 2533,
   "metadata": {
    "collapsed": true,
    "deletable": true,
    "editable": true
   },
   "outputs": [],
   "source": [
    "targets = deaths[deaths['Year'] == 2014]\n",
    "targets = targets.drop('Year', axis=1)\n",
    "targets.columns = ['FIPS', 'death_rate']\n",
    "targets.loc[:, 'FIPS'] = targets['FIPS'].apply(lambda x: '0' + x if len(x) == 4 else x)"
   ]
  },
  {
   "cell_type": "code",
   "execution_count": 2534,
   "metadata": {
    "collapsed": false,
    "deletable": true,
    "editable": true
   },
   "outputs": [
    {
     "data": {
      "text/plain": [
       "FIPS          0\n",
       "death_rate    0\n",
       "dtype: int64"
      ]
     },
     "execution_count": 2534,
     "metadata": {},
     "output_type": "execute_result"
    }
   ],
   "source": [
    "targets.isnull().sum()"
   ]
  },
  {
   "cell_type": "code",
   "execution_count": 2535,
   "metadata": {
    "collapsed": true,
    "deletable": true,
    "editable": true
   },
   "outputs": [],
   "source": [
    "import re\n",
    "def get_num(string):\n",
    "    match = re.search('\\d+', string)\n",
    "    return int(match.group()) + 1"
   ]
  },
  {
   "cell_type": "code",
   "execution_count": 2536,
   "metadata": {
    "collapsed": true,
    "deletable": true,
    "editable": true
   },
   "outputs": [],
   "source": [
    "targets['numeric'] = targets['death_rate'].apply(lambda x: get_num(x) if x != '<2' else 1)"
   ]
  },
  {
   "cell_type": "code",
   "execution_count": 2537,
   "metadata": {
    "collapsed": true,
    "deletable": true,
    "editable": true
   },
   "outputs": [],
   "source": [
    "data = data.join(targets.set_index('FIPS')) # drop na"
   ]
  },
  {
   "cell_type": "code",
   "execution_count": 2538,
   "metadata": {
    "collapsed": false,
    "deletable": true,
    "editable": true
   },
   "outputs": [
    {
     "data": {
      "text/plain": [
       "state            0\n",
       "name             0\n",
       "< diploma        0\n",
       "degree+          0\n",
       "urban_inf        0\n",
       "pop_2014         0\n",
       "pop_inc          0\n",
       "foreign_inc      0\n",
       "unemployment     0\n",
       "unemp_change     0\n",
       "poverty          0\n",
       "median_hh_inc    0\n",
       "pov_change       0\n",
       "median_age       0\n",
       "hh_afr_am        0\n",
       "hh_hisp          0\n",
       "hh_female        0\n",
       "hh_food_st       0\n",
       "foreign_07       0\n",
       "vets             0\n",
       "vets_male        0\n",
       "viol_crime       0\n",
       "prop_crime       0\n",
       "death_rate       4\n",
       "numeric          4\n",
       "dtype: int64"
      ]
     },
     "execution_count": 2538,
     "metadata": {},
     "output_type": "execute_result"
    }
   ],
   "source": [
    "data.isnull().sum()"
   ]
  },
  {
   "cell_type": "code",
   "execution_count": 2539,
   "metadata": {
    "collapsed": false,
    "deletable": true,
    "editable": true
   },
   "outputs": [
    {
     "data": {
      "text/html": [
       "<div>\n",
       "<table border=\"1\" class=\"dataframe\">\n",
       "  <thead>\n",
       "    <tr style=\"text-align: right;\">\n",
       "      <th></th>\n",
       "      <th>state</th>\n",
       "      <th>name</th>\n",
       "      <th>&lt; diploma</th>\n",
       "      <th>degree+</th>\n",
       "      <th>urban_inf</th>\n",
       "      <th>pop_2014</th>\n",
       "      <th>pop_inc</th>\n",
       "      <th>foreign_inc</th>\n",
       "      <th>unemployment</th>\n",
       "      <th>unemp_change</th>\n",
       "      <th>...</th>\n",
       "      <th>hh_hisp</th>\n",
       "      <th>hh_female</th>\n",
       "      <th>hh_food_st</th>\n",
       "      <th>foreign_07</th>\n",
       "      <th>vets</th>\n",
       "      <th>vets_male</th>\n",
       "      <th>viol_crime</th>\n",
       "      <th>prop_crime</th>\n",
       "      <th>death_rate</th>\n",
       "      <th>numeric</th>\n",
       "    </tr>\n",
       "    <tr>\n",
       "      <th>FIPS</th>\n",
       "      <th></th>\n",
       "      <th></th>\n",
       "      <th></th>\n",
       "      <th></th>\n",
       "      <th></th>\n",
       "      <th></th>\n",
       "      <th></th>\n",
       "      <th></th>\n",
       "      <th></th>\n",
       "      <th></th>\n",
       "      <th></th>\n",
       "      <th></th>\n",
       "      <th></th>\n",
       "      <th></th>\n",
       "      <th></th>\n",
       "      <th></th>\n",
       "      <th></th>\n",
       "      <th></th>\n",
       "      <th></th>\n",
       "      <th></th>\n",
       "      <th></th>\n",
       "    </tr>\n",
       "  </thead>\n",
       "  <tbody>\n",
       "    <tr>\n",
       "      <th>08001</th>\n",
       "      <td>CO</td>\n",
       "      <td>Adams County</td>\n",
       "      <td>17.839</td>\n",
       "      <td>22.368</td>\n",
       "      <td>1</td>\n",
       "      <td>479488.0</td>\n",
       "      <td>0.085790</td>\n",
       "      <td>0.054824</td>\n",
       "      <td>5.7</td>\n",
       "      <td>4.5</td>\n",
       "      <td>...</td>\n",
       "      <td>0.289450</td>\n",
       "      <td>0.114910</td>\n",
       "      <td>0.055541</td>\n",
       "      <td>15.3</td>\n",
       "      <td>0.071674</td>\n",
       "      <td>92.5</td>\n",
       "      <td>0.003418</td>\n",
       "      <td>0.028810</td>\n",
       "      <td>NaN</td>\n",
       "      <td>NaN</td>\n",
       "    </tr>\n",
       "    <tr>\n",
       "      <th>08014</th>\n",
       "      <td>CO</td>\n",
       "      <td>Broomfield County</td>\n",
       "      <td>3.948</td>\n",
       "      <td>52.457</td>\n",
       "      <td>1</td>\n",
       "      <td>61706.0</td>\n",
       "      <td>0.104081</td>\n",
       "      <td>0.045556</td>\n",
       "      <td>4.2</td>\n",
       "      <td>3.7</td>\n",
       "      <td>...</td>\n",
       "      <td>0.080415</td>\n",
       "      <td>0.089699</td>\n",
       "      <td>0.027461</td>\n",
       "      <td>7.5</td>\n",
       "      <td>0.077482</td>\n",
       "      <td>93.9</td>\n",
       "      <td>0.000502</td>\n",
       "      <td>0.016854</td>\n",
       "      <td>NaN</td>\n",
       "      <td>NaN</td>\n",
       "    </tr>\n",
       "    <tr>\n",
       "      <th>08059</th>\n",
       "      <td>CO</td>\n",
       "      <td>Jefferson County</td>\n",
       "      <td>5.848</td>\n",
       "      <td>42.220</td>\n",
       "      <td>1</td>\n",
       "      <td>558519.0</td>\n",
       "      <td>0.044853</td>\n",
       "      <td>0.059893</td>\n",
       "      <td>4.6</td>\n",
       "      <td>4.0</td>\n",
       "      <td>...</td>\n",
       "      <td>0.105262</td>\n",
       "      <td>0.096715</td>\n",
       "      <td>0.033976</td>\n",
       "      <td>6.4</td>\n",
       "      <td>0.088829</td>\n",
       "      <td>93.4</td>\n",
       "      <td>0.002333</td>\n",
       "      <td>0.027371</td>\n",
       "      <td>NaN</td>\n",
       "      <td>NaN</td>\n",
       "    </tr>\n",
       "    <tr>\n",
       "      <th>08123</th>\n",
       "      <td>CO</td>\n",
       "      <td>Weld County</td>\n",
       "      <td>12.995</td>\n",
       "      <td>26.762</td>\n",
       "      <td>2</td>\n",
       "      <td>275584.0</td>\n",
       "      <td>0.090019</td>\n",
       "      <td>0.018015</td>\n",
       "      <td>4.5</td>\n",
       "      <td>5.7</td>\n",
       "      <td>...</td>\n",
       "      <td>0.212258</td>\n",
       "      <td>0.092415</td>\n",
       "      <td>0.048219</td>\n",
       "      <td>9.3</td>\n",
       "      <td>0.067942</td>\n",
       "      <td>94.2</td>\n",
       "      <td>0.002885</td>\n",
       "      <td>0.020204</td>\n",
       "      <td>NaN</td>\n",
       "      <td>NaN</td>\n",
       "    </tr>\n",
       "  </tbody>\n",
       "</table>\n",
       "<p>4 rows × 25 columns</p>\n",
       "</div>"
      ],
      "text/plain": [
       "      state               name  < diploma  degree+ urban_inf  pop_2014  \\\n",
       "FIPS                                                                     \n",
       "08001    CO       Adams County     17.839   22.368         1  479488.0   \n",
       "08014    CO  Broomfield County      3.948   52.457         1   61706.0   \n",
       "08059    CO   Jefferson County      5.848   42.220         1  558519.0   \n",
       "08123    CO        Weld County     12.995   26.762         2  275584.0   \n",
       "\n",
       "        pop_inc  foreign_inc  unemployment  unemp_change   ...      hh_hisp  \\\n",
       "FIPS                                                       ...                \n",
       "08001  0.085790     0.054824           5.7           4.5   ...     0.289450   \n",
       "08014  0.104081     0.045556           4.2           3.7   ...     0.080415   \n",
       "08059  0.044853     0.059893           4.6           4.0   ...     0.105262   \n",
       "08123  0.090019     0.018015           4.5           5.7   ...     0.212258   \n",
       "\n",
       "       hh_female  hh_food_st  foreign_07      vets  vets_male  viol_crime  \\\n",
       "FIPS                                                                        \n",
       "08001   0.114910    0.055541        15.3  0.071674       92.5    0.003418   \n",
       "08014   0.089699    0.027461         7.5  0.077482       93.9    0.000502   \n",
       "08059   0.096715    0.033976         6.4  0.088829       93.4    0.002333   \n",
       "08123   0.092415    0.048219         9.3  0.067942       94.2    0.002885   \n",
       "\n",
       "       prop_crime  death_rate  numeric  \n",
       "FIPS                                    \n",
       "08001    0.028810         NaN      NaN  \n",
       "08014    0.016854         NaN      NaN  \n",
       "08059    0.027371         NaN      NaN  \n",
       "08123    0.020204         NaN      NaN  \n",
       "\n",
       "[4 rows x 25 columns]"
      ]
     },
     "execution_count": 2539,
     "metadata": {},
     "output_type": "execute_result"
    }
   ],
   "source": [
    "data[data['death_rate'].isnull()]"
   ]
  },
  {
   "cell_type": "markdown",
   "metadata": {
    "deletable": true,
    "editable": true
   },
   "source": [
    "These four counties had boundaries redrawn after 2000, and do not appear in the opioid deaths dataset, so they will be removed."
   ]
  },
  {
   "cell_type": "code",
   "execution_count": 2540,
   "metadata": {
    "collapsed": true,
    "deletable": true,
    "editable": true
   },
   "outputs": [],
   "source": [
    "data = data.drop(['08001', '08014', '08059', '08123'])"
   ]
  },
  {
   "cell_type": "code",
   "execution_count": 2541,
   "metadata": {
    "collapsed": false,
    "deletable": true,
    "editable": true
   },
   "outputs": [
    {
     "data": {
      "text/plain": [
       "count    3136.000000\n",
       "mean       14.180485\n",
       "std         6.583190\n",
       "min         1.000000\n",
       "25%         9.000000\n",
       "50%        13.000000\n",
       "75%        17.000000\n",
       "max        31.000000\n",
       "Name: numeric, dtype: float64"
      ]
     },
     "execution_count": 2541,
     "metadata": {},
     "output_type": "execute_result"
    }
   ],
   "source": [
    "targets['numeric'].describe()"
   ]
  },
  {
   "cell_type": "markdown",
   "metadata": {
    "deletable": true,
    "editable": true
   },
   "source": [
    "The maximum value of 31 fits the standard definition of an outlier as less than Q1 - 1.5\\*IQR or greater than Q3 + 1.5\\*IQR. Here that applies only to values >29. Where are these outliers?"
   ]
  },
  {
   "cell_type": "code",
   "execution_count": 2542,
   "metadata": {
    "collapsed": false,
    "deletable": true,
    "editable": true
   },
   "outputs": [
    {
     "name": "stdout",
     "output_type": "stream",
     "text": [
      "102\n"
     ]
    },
    {
     "data": {
      "text/html": [
       "<div>\n",
       "<table border=\"1\" class=\"dataframe\">\n",
       "  <thead>\n",
       "    <tr style=\"text-align: right;\">\n",
       "      <th></th>\n",
       "      <th>state</th>\n",
       "      <th>name</th>\n",
       "    </tr>\n",
       "    <tr>\n",
       "      <th>FIPS</th>\n",
       "      <th></th>\n",
       "      <th></th>\n",
       "    </tr>\n",
       "  </thead>\n",
       "  <tbody>\n",
       "    <tr>\n",
       "      <th>04012</th>\n",
       "      <td>AZ</td>\n",
       "      <td>La Paz County</td>\n",
       "    </tr>\n",
       "    <tr>\n",
       "      <th>06023</th>\n",
       "      <td>CA</td>\n",
       "      <td>Humboldt County</td>\n",
       "    </tr>\n",
       "    <tr>\n",
       "      <th>06033</th>\n",
       "      <td>CA</td>\n",
       "      <td>Lake County</td>\n",
       "    </tr>\n",
       "    <tr>\n",
       "      <th>06089</th>\n",
       "      <td>CA</td>\n",
       "      <td>Shasta County</td>\n",
       "    </tr>\n",
       "    <tr>\n",
       "      <th>08023</th>\n",
       "      <td>CO</td>\n",
       "      <td>Costilla County</td>\n",
       "    </tr>\n",
       "    <tr>\n",
       "      <th>08055</th>\n",
       "      <td>CO</td>\n",
       "      <td>Huerfano County</td>\n",
       "    </tr>\n",
       "    <tr>\n",
       "      <th>12017</th>\n",
       "      <td>FL</td>\n",
       "      <td>Citrus County</td>\n",
       "    </tr>\n",
       "    <tr>\n",
       "      <th>12101</th>\n",
       "      <td>FL</td>\n",
       "      <td>Pasco County</td>\n",
       "    </tr>\n",
       "    <tr>\n",
       "      <th>16007</th>\n",
       "      <td>ID</td>\n",
       "      <td>Bear Lake County</td>\n",
       "    </tr>\n",
       "    <tr>\n",
       "      <th>18143</th>\n",
       "      <td>IN</td>\n",
       "      <td>Scott County</td>\n",
       "    </tr>\n",
       "    <tr>\n",
       "      <th>18149</th>\n",
       "      <td>IN</td>\n",
       "      <td>Starke County</td>\n",
       "    </tr>\n",
       "    <tr>\n",
       "      <th>20207</th>\n",
       "      <td>KS</td>\n",
       "      <td>Woodson County</td>\n",
       "    </tr>\n",
       "    <tr>\n",
       "      <th>21011</th>\n",
       "      <td>KY</td>\n",
       "      <td>Bath County</td>\n",
       "    </tr>\n",
       "    <tr>\n",
       "      <th>21013</th>\n",
       "      <td>KY</td>\n",
       "      <td>Bell County</td>\n",
       "    </tr>\n",
       "    <tr>\n",
       "      <th>21019</th>\n",
       "      <td>KY</td>\n",
       "      <td>Boyd County</td>\n",
       "    </tr>\n",
       "    <tr>\n",
       "      <th>21025</th>\n",
       "      <td>KY</td>\n",
       "      <td>Breathitt County</td>\n",
       "    </tr>\n",
       "    <tr>\n",
       "      <th>21037</th>\n",
       "      <td>KY</td>\n",
       "      <td>Campbell County</td>\n",
       "    </tr>\n",
       "    <tr>\n",
       "      <th>21049</th>\n",
       "      <td>KY</td>\n",
       "      <td>Clark County</td>\n",
       "    </tr>\n",
       "    <tr>\n",
       "      <th>21051</th>\n",
       "      <td>KY</td>\n",
       "      <td>Clay County</td>\n",
       "    </tr>\n",
       "    <tr>\n",
       "      <th>21053</th>\n",
       "      <td>KY</td>\n",
       "      <td>Clinton County</td>\n",
       "    </tr>\n",
       "    <tr>\n",
       "      <th>21057</th>\n",
       "      <td>KY</td>\n",
       "      <td>Cumberland County</td>\n",
       "    </tr>\n",
       "    <tr>\n",
       "      <th>21065</th>\n",
       "      <td>KY</td>\n",
       "      <td>Estill County</td>\n",
       "    </tr>\n",
       "    <tr>\n",
       "      <th>21071</th>\n",
       "      <td>KY</td>\n",
       "      <td>Floyd County</td>\n",
       "    </tr>\n",
       "    <tr>\n",
       "      <th>21077</th>\n",
       "      <td>KY</td>\n",
       "      <td>Gallatin County</td>\n",
       "    </tr>\n",
       "    <tr>\n",
       "      <th>21095</th>\n",
       "      <td>KY</td>\n",
       "      <td>Harlan County</td>\n",
       "    </tr>\n",
       "    <tr>\n",
       "      <th>21115</th>\n",
       "      <td>KY</td>\n",
       "      <td>Johnson County</td>\n",
       "    </tr>\n",
       "    <tr>\n",
       "      <th>21117</th>\n",
       "      <td>KY</td>\n",
       "      <td>Kenton County</td>\n",
       "    </tr>\n",
       "    <tr>\n",
       "      <th>21119</th>\n",
       "      <td>KY</td>\n",
       "      <td>Knott County</td>\n",
       "    </tr>\n",
       "    <tr>\n",
       "      <th>21121</th>\n",
       "      <td>KY</td>\n",
       "      <td>Knox County</td>\n",
       "    </tr>\n",
       "    <tr>\n",
       "      <th>21127</th>\n",
       "      <td>KY</td>\n",
       "      <td>Lawrence County</td>\n",
       "    </tr>\n",
       "    <tr>\n",
       "      <th>...</th>\n",
       "      <td>...</td>\n",
       "      <td>...</td>\n",
       "    </tr>\n",
       "    <tr>\n",
       "      <th>47027</th>\n",
       "      <td>TN</td>\n",
       "      <td>Clay County</td>\n",
       "    </tr>\n",
       "    <tr>\n",
       "      <th>47041</th>\n",
       "      <td>TN</td>\n",
       "      <td>DeKalb County</td>\n",
       "    </tr>\n",
       "    <tr>\n",
       "      <th>47067</th>\n",
       "      <td>TN</td>\n",
       "      <td>Hancock County</td>\n",
       "    </tr>\n",
       "    <tr>\n",
       "      <th>47087</th>\n",
       "      <td>TN</td>\n",
       "      <td>Jackson County</td>\n",
       "    </tr>\n",
       "    <tr>\n",
       "      <th>47137</th>\n",
       "      <td>TN</td>\n",
       "      <td>Pickett County</td>\n",
       "    </tr>\n",
       "    <tr>\n",
       "      <th>47145</th>\n",
       "      <td>TN</td>\n",
       "      <td>Roane County</td>\n",
       "    </tr>\n",
       "    <tr>\n",
       "      <th>47173</th>\n",
       "      <td>TN</td>\n",
       "      <td>Union County</td>\n",
       "    </tr>\n",
       "    <tr>\n",
       "      <th>48023</th>\n",
       "      <td>TX</td>\n",
       "      <td>Baylor County</td>\n",
       "    </tr>\n",
       "    <tr>\n",
       "      <th>49007</th>\n",
       "      <td>UT</td>\n",
       "      <td>Carbon County</td>\n",
       "    </tr>\n",
       "    <tr>\n",
       "      <th>49015</th>\n",
       "      <td>UT</td>\n",
       "      <td>Emery County</td>\n",
       "    </tr>\n",
       "    <tr>\n",
       "      <th>51027</th>\n",
       "      <td>VA</td>\n",
       "      <td>Buchanan County</td>\n",
       "    </tr>\n",
       "    <tr>\n",
       "      <th>51051</th>\n",
       "      <td>VA</td>\n",
       "      <td>Dickenson County</td>\n",
       "    </tr>\n",
       "    <tr>\n",
       "      <th>51155</th>\n",
       "      <td>VA</td>\n",
       "      <td>Pulaski County</td>\n",
       "    </tr>\n",
       "    <tr>\n",
       "      <th>51167</th>\n",
       "      <td>VA</td>\n",
       "      <td>Russell County</td>\n",
       "    </tr>\n",
       "    <tr>\n",
       "      <th>51185</th>\n",
       "      <td>VA</td>\n",
       "      <td>Tazewell County</td>\n",
       "    </tr>\n",
       "    <tr>\n",
       "      <th>51195</th>\n",
       "      <td>VA</td>\n",
       "      <td>Wise County</td>\n",
       "    </tr>\n",
       "    <tr>\n",
       "      <th>51720</th>\n",
       "      <td>VA</td>\n",
       "      <td>Norton city</td>\n",
       "    </tr>\n",
       "    <tr>\n",
       "      <th>54005</th>\n",
       "      <td>WV</td>\n",
       "      <td>Boone County</td>\n",
       "    </tr>\n",
       "    <tr>\n",
       "      <th>54011</th>\n",
       "      <td>WV</td>\n",
       "      <td>Cabell County</td>\n",
       "    </tr>\n",
       "    <tr>\n",
       "      <th>54043</th>\n",
       "      <td>WV</td>\n",
       "      <td>Lincoln County</td>\n",
       "    </tr>\n",
       "    <tr>\n",
       "      <th>54045</th>\n",
       "      <td>WV</td>\n",
       "      <td>Logan County</td>\n",
       "    </tr>\n",
       "    <tr>\n",
       "      <th>54047</th>\n",
       "      <td>WV</td>\n",
       "      <td>McDowell County</td>\n",
       "    </tr>\n",
       "    <tr>\n",
       "      <th>54055</th>\n",
       "      <td>WV</td>\n",
       "      <td>Mercer County</td>\n",
       "    </tr>\n",
       "    <tr>\n",
       "      <th>54059</th>\n",
       "      <td>WV</td>\n",
       "      <td>Mingo County</td>\n",
       "    </tr>\n",
       "    <tr>\n",
       "      <th>54063</th>\n",
       "      <td>WV</td>\n",
       "      <td>Monroe County</td>\n",
       "    </tr>\n",
       "    <tr>\n",
       "      <th>54075</th>\n",
       "      <td>WV</td>\n",
       "      <td>Pocahontas County</td>\n",
       "    </tr>\n",
       "    <tr>\n",
       "      <th>54081</th>\n",
       "      <td>WV</td>\n",
       "      <td>Raleigh County</td>\n",
       "    </tr>\n",
       "    <tr>\n",
       "      <th>54089</th>\n",
       "      <td>WV</td>\n",
       "      <td>Summers County</td>\n",
       "    </tr>\n",
       "    <tr>\n",
       "      <th>54101</th>\n",
       "      <td>WV</td>\n",
       "      <td>Webster County</td>\n",
       "    </tr>\n",
       "    <tr>\n",
       "      <th>54109</th>\n",
       "      <td>WV</td>\n",
       "      <td>Wyoming County</td>\n",
       "    </tr>\n",
       "  </tbody>\n",
       "</table>\n",
       "<p>102 rows × 2 columns</p>\n",
       "</div>"
      ],
      "text/plain": [
       "      state               name\n",
       "FIPS                          \n",
       "04012    AZ      La Paz County\n",
       "06023    CA    Humboldt County\n",
       "06033    CA        Lake County\n",
       "06089    CA      Shasta County\n",
       "08023    CO    Costilla County\n",
       "08055    CO    Huerfano County\n",
       "12017    FL      Citrus County\n",
       "12101    FL       Pasco County\n",
       "16007    ID   Bear Lake County\n",
       "18143    IN       Scott County\n",
       "18149    IN      Starke County\n",
       "20207    KS     Woodson County\n",
       "21011    KY        Bath County\n",
       "21013    KY        Bell County\n",
       "21019    KY        Boyd County\n",
       "21025    KY   Breathitt County\n",
       "21037    KY    Campbell County\n",
       "21049    KY       Clark County\n",
       "21051    KY        Clay County\n",
       "21053    KY     Clinton County\n",
       "21057    KY  Cumberland County\n",
       "21065    KY      Estill County\n",
       "21071    KY       Floyd County\n",
       "21077    KY    Gallatin County\n",
       "21095    KY      Harlan County\n",
       "21115    KY     Johnson County\n",
       "21117    KY      Kenton County\n",
       "21119    KY       Knott County\n",
       "21121    KY        Knox County\n",
       "21127    KY    Lawrence County\n",
       "...     ...                ...\n",
       "47027    TN        Clay County\n",
       "47041    TN      DeKalb County\n",
       "47067    TN     Hancock County\n",
       "47087    TN     Jackson County\n",
       "47137    TN     Pickett County\n",
       "47145    TN       Roane County\n",
       "47173    TN       Union County\n",
       "48023    TX      Baylor County\n",
       "49007    UT      Carbon County\n",
       "49015    UT       Emery County\n",
       "51027    VA    Buchanan County\n",
       "51051    VA   Dickenson County\n",
       "51155    VA     Pulaski County\n",
       "51167    VA     Russell County\n",
       "51185    VA    Tazewell County\n",
       "51195    VA        Wise County\n",
       "51720    VA        Norton city\n",
       "54005    WV       Boone County\n",
       "54011    WV      Cabell County\n",
       "54043    WV     Lincoln County\n",
       "54045    WV       Logan County\n",
       "54047    WV    McDowell County\n",
       "54055    WV      Mercer County\n",
       "54059    WV       Mingo County\n",
       "54063    WV      Monroe County\n",
       "54075    WV  Pocahontas County\n",
       "54081    WV     Raleigh County\n",
       "54089    WV     Summers County\n",
       "54101    WV     Webster County\n",
       "54109    WV     Wyoming County\n",
       "\n",
       "[102 rows x 2 columns]"
      ]
     },
     "execution_count": 2542,
     "metadata": {},
     "output_type": "execute_result"
    }
   ],
   "source": [
    "target_outliers = targets[targets['numeric'] == 31]['FIPS']\n",
    "target_outliers = data.loc[target_outliers, ['state', 'name']]\n",
    "print(len(target_outliers))\n",
    "target_outliers"
   ]
  },
  {
   "cell_type": "markdown",
   "metadata": {
    "deletable": true,
    "editable": true
   },
   "source": [
    "These outliers appear to be concentrated in some states."
   ]
  },
  {
   "cell_type": "code",
   "execution_count": 2543,
   "metadata": {
    "collapsed": false,
    "deletable": true,
    "editable": true
   },
   "outputs": [
    {
     "data": {
      "text/html": [
       "<div>\n",
       "<table border=\"1\" class=\"dataframe\">\n",
       "  <thead>\n",
       "    <tr style=\"text-align: right;\">\n",
       "      <th></th>\n",
       "      <th>outliers</th>\n",
       "      <th>total</th>\n",
       "      <th>percent</th>\n",
       "    </tr>\n",
       "    <tr>\n",
       "      <th>state</th>\n",
       "      <th></th>\n",
       "      <th></th>\n",
       "      <th></th>\n",
       "    </tr>\n",
       "  </thead>\n",
       "  <tbody>\n",
       "    <tr>\n",
       "      <th>AZ</th>\n",
       "      <td>1</td>\n",
       "      <td>15</td>\n",
       "      <td>6.666667</td>\n",
       "    </tr>\n",
       "    <tr>\n",
       "      <th>CA</th>\n",
       "      <td>3</td>\n",
       "      <td>58</td>\n",
       "      <td>5.172414</td>\n",
       "    </tr>\n",
       "    <tr>\n",
       "      <th>CO</th>\n",
       "      <td>2</td>\n",
       "      <td>60</td>\n",
       "      <td>3.333333</td>\n",
       "    </tr>\n",
       "    <tr>\n",
       "      <th>FL</th>\n",
       "      <td>2</td>\n",
       "      <td>67</td>\n",
       "      <td>2.985075</td>\n",
       "    </tr>\n",
       "    <tr>\n",
       "      <th>ID</th>\n",
       "      <td>1</td>\n",
       "      <td>44</td>\n",
       "      <td>2.272727</td>\n",
       "    </tr>\n",
       "    <tr>\n",
       "      <th>IN</th>\n",
       "      <td>2</td>\n",
       "      <td>92</td>\n",
       "      <td>2.173913</td>\n",
       "    </tr>\n",
       "    <tr>\n",
       "      <th>KS</th>\n",
       "      <td>1</td>\n",
       "      <td>105</td>\n",
       "      <td>0.952381</td>\n",
       "    </tr>\n",
       "    <tr>\n",
       "      <th>KY</th>\n",
       "      <td>29</td>\n",
       "      <td>120</td>\n",
       "      <td>24.166667</td>\n",
       "    </tr>\n",
       "    <tr>\n",
       "      <th>LA</th>\n",
       "      <td>1</td>\n",
       "      <td>64</td>\n",
       "      <td>1.562500</td>\n",
       "    </tr>\n",
       "    <tr>\n",
       "      <th>MD</th>\n",
       "      <td>1</td>\n",
       "      <td>24</td>\n",
       "      <td>4.166667</td>\n",
       "    </tr>\n",
       "    <tr>\n",
       "      <th>MS</th>\n",
       "      <td>1</td>\n",
       "      <td>81</td>\n",
       "      <td>1.234568</td>\n",
       "    </tr>\n",
       "    <tr>\n",
       "      <th>MT</th>\n",
       "      <td>2</td>\n",
       "      <td>55</td>\n",
       "      <td>3.636364</td>\n",
       "    </tr>\n",
       "    <tr>\n",
       "      <th>NC</th>\n",
       "      <td>1</td>\n",
       "      <td>100</td>\n",
       "      <td>1.000000</td>\n",
       "    </tr>\n",
       "    <tr>\n",
       "      <th>NM</th>\n",
       "      <td>13</td>\n",
       "      <td>33</td>\n",
       "      <td>39.393939</td>\n",
       "    </tr>\n",
       "    <tr>\n",
       "      <th>NV</th>\n",
       "      <td>4</td>\n",
       "      <td>17</td>\n",
       "      <td>23.529412</td>\n",
       "    </tr>\n",
       "    <tr>\n",
       "      <th>OH</th>\n",
       "      <td>1</td>\n",
       "      <td>88</td>\n",
       "      <td>1.136364</td>\n",
       "    </tr>\n",
       "    <tr>\n",
       "      <th>OK</th>\n",
       "      <td>4</td>\n",
       "      <td>77</td>\n",
       "      <td>5.194805</td>\n",
       "    </tr>\n",
       "    <tr>\n",
       "      <th>PA</th>\n",
       "      <td>1</td>\n",
       "      <td>67</td>\n",
       "      <td>1.492537</td>\n",
       "    </tr>\n",
       "    <tr>\n",
       "      <th>TN</th>\n",
       "      <td>9</td>\n",
       "      <td>95</td>\n",
       "      <td>9.473684</td>\n",
       "    </tr>\n",
       "    <tr>\n",
       "      <th>TX</th>\n",
       "      <td>1</td>\n",
       "      <td>254</td>\n",
       "      <td>0.393701</td>\n",
       "    </tr>\n",
       "    <tr>\n",
       "      <th>UT</th>\n",
       "      <td>2</td>\n",
       "      <td>29</td>\n",
       "      <td>6.896552</td>\n",
       "    </tr>\n",
       "    <tr>\n",
       "      <th>VA</th>\n",
       "      <td>7</td>\n",
       "      <td>133</td>\n",
       "      <td>5.263158</td>\n",
       "    </tr>\n",
       "    <tr>\n",
       "      <th>WV</th>\n",
       "      <td>13</td>\n",
       "      <td>55</td>\n",
       "      <td>23.636364</td>\n",
       "    </tr>\n",
       "  </tbody>\n",
       "</table>\n",
       "</div>"
      ],
      "text/plain": [
       "       outliers  total    percent\n",
       "state                            \n",
       "AZ            1     15   6.666667\n",
       "CA            3     58   5.172414\n",
       "CO            2     60   3.333333\n",
       "FL            2     67   2.985075\n",
       "ID            1     44   2.272727\n",
       "IN            2     92   2.173913\n",
       "KS            1    105   0.952381\n",
       "KY           29    120  24.166667\n",
       "LA            1     64   1.562500\n",
       "MD            1     24   4.166667\n",
       "MS            1     81   1.234568\n",
       "MT            2     55   3.636364\n",
       "NC            1    100   1.000000\n",
       "NM           13     33  39.393939\n",
       "NV            4     17  23.529412\n",
       "OH            1     88   1.136364\n",
       "OK            4     77   5.194805\n",
       "PA            1     67   1.492537\n",
       "TN            9     95   9.473684\n",
       "TX            1    254   0.393701\n",
       "UT            2     29   6.896552\n",
       "VA            7    133   5.263158\n",
       "WV           13     55  23.636364"
      ]
     },
     "execution_count": 2543,
     "metadata": {},
     "output_type": "execute_result"
    }
   ],
   "source": [
    "outliers_by_state = pd.DataFrame(target_outliers.groupby('state').size(), columns=['outliers'])\n",
    "counties_by_state = pd.DataFrame(data.groupby('state').size(), columns = ['total'])\n",
    "outliers_by_state['total'] = counties_by_state['total']\n",
    "outliers_by_state['percent'] = 100 * outliers_by_state['outliers']/outliers_by_state['total']\n",
    "outliers_by_state"
   ]
  },
  {
   "cell_type": "markdown",
   "metadata": {
    "deletable": true,
    "editable": true
   },
   "source": [
    "Look at overall distribution of targets."
   ]
  },
  {
   "cell_type": "code",
   "execution_count": 2544,
   "metadata": {
    "collapsed": false,
    "deletable": true,
    "editable": true
   },
   "outputs": [
    {
     "data": {
      "text/html": [
       "<div>\n",
       "<table border=\"1\" class=\"dataframe\">\n",
       "  <thead>\n",
       "    <tr style=\"text-align: right;\">\n",
       "      <th></th>\n",
       "      <th></th>\n",
       "      <th>0</th>\n",
       "    </tr>\n",
       "    <tr>\n",
       "      <th>state</th>\n",
       "      <th>numeric</th>\n",
       "      <th></th>\n",
       "    </tr>\n",
       "  </thead>\n",
       "  <tbody>\n",
       "    <tr>\n",
       "      <th rowspan=\"5\" valign=\"top\">AK</th>\n",
       "      <th>1.0</th>\n",
       "      <td>1</td>\n",
       "    </tr>\n",
       "    <tr>\n",
       "      <th>5.0</th>\n",
       "      <td>1</td>\n",
       "    </tr>\n",
       "    <tr>\n",
       "      <th>7.0</th>\n",
       "      <td>2</td>\n",
       "    </tr>\n",
       "    <tr>\n",
       "      <th>11.0</th>\n",
       "      <td>2</td>\n",
       "    </tr>\n",
       "    <tr>\n",
       "      <th>13.0</th>\n",
       "      <td>2</td>\n",
       "    </tr>\n",
       "  </tbody>\n",
       "</table>\n",
       "</div>"
      ],
      "text/plain": [
       "               0\n",
       "state numeric   \n",
       "AK    1.0      1\n",
       "      5.0      1\n",
       "      7.0      2\n",
       "      11.0     2\n",
       "      13.0     2"
      ]
     },
     "execution_count": 2544,
     "metadata": {},
     "output_type": "execute_result"
    }
   ],
   "source": [
    "counts = pd.DataFrame(data_31.groupby(['state', 'numeric']).size())\n",
    "counts.head()"
   ]
  },
  {
   "cell_type": "code",
   "execution_count": 2545,
   "metadata": {
    "collapsed": false,
    "deletable": true,
    "editable": true
   },
   "outputs": [],
   "source": [
    "counts = counts.reset_index()\n",
    "counts.columns = ['state', 'numeric', 'count']\n",
    "counts['total'] = maybe.apply(lambda row: counties_by_state.loc[row['state'], 'total'], axis=1)\n",
    "counts['percent'] = counts['count'] / counts['total']\n",
    "states = sorted(counts['state'].unique())"
   ]
  },
  {
   "cell_type": "code",
   "execution_count": 2775,
   "metadata": {
    "collapsed": false,
    "deletable": true,
    "editable": true
   },
   "outputs": [
    {
     "data": {
      "image/png": "[encoded data removed]",
      "text/plain": [
       "<matplotlib.figure.Figure at 0x16e217d30>"
      ]
     },
     "metadata": {},
     "output_type": "display_data"
    }
   ],
   "source": [
    "plt.rcParams[\"figure.figsize\"] = [16.0, 8.0]\n",
    "ax = sns.stripplot(data=counts, x='state', y='numeric', hue='percent', palette='OrRd')\n",
    "ax.legend_.remove()\n",
    "ax.set_title('Clustering counties by death rate and state (darker = higher percentage)', size=18)\n",
    "ax.set_ylabel('death rate')\n",
    "ax.figure.savefig('images/county_rates.png')"
   ]
  },
  {
   "cell_type": "markdown",
   "metadata": {
    "deletable": true,
    "editable": true
   },
   "source": [
    "While there are some states with outlying concentrations of counties with low or high death rates, the distribution is fairly even overall."
   ]
  },
  {
   "cell_type": "code",
   "execution_count": 2776,
   "metadata": {
    "collapsed": false,
    "deletable": true,
    "editable": true
   },
   "outputs": [
    {
     "data": {
      "image/png": "[encoded data removed]",
      "text/plain": [
       "<matplotlib.figure.Figure at 0x16f0256d8>"
      ]
     },
     "metadata": {},
     "output_type": "display_data"
    }
   ],
   "source": [
    "from scipy.stats import norm\n",
    "\n",
    "plt.rcParams[\"figure.figsize\"] = [8.0, 4.0]\n",
    "target_hist = sns.distplot(targets['numeric'], bins=16, fit=norm, kde=False)\n",
    "target_hist.figure.savefig('images/target_hist.png')"
   ]
  },
  {
   "cell_type": "markdown",
   "metadata": {
    "deletable": true,
    "editable": true
   },
   "source": [
    "The target distribution is not normal, but it follows the general shape of a normal curve except for the high-end spike at death_rate = 31. The distribution of those outlier targets is highly uneven and potentially problematic, so they might need to be removed later to improve accuracy. The class imbalance will have to be dealt with in the modeling. Some columns also are no longer needed, but keep them as raw data. "
   ]
  },
  {
   "cell_type": "code",
   "execution_count": 2548,
   "metadata": {
    "collapsed": true,
    "deletable": true,
    "editable": true
   },
   "outputs": [],
   "source": [
    "target_outliers = list(target_outliers.index)\n",
    "\n",
    "data_raw = data.copy()\n",
    "data = data.drop(['state', 'name', 'pop_2014'], axis=1)"
   ]
  },
  {
   "cell_type": "code",
   "execution_count": 2549,
   "metadata": {
    "collapsed": false,
    "deletable": true,
    "editable": true
   },
   "outputs": [
    {
     "name": "stdout",
     "output_type": "stream",
     "text": [
      "               < diploma   degree+   pop_inc  foreign_inc  unemployment  \\\n",
      "< diploma       1.000000  0.596235  0.185915     0.017175      0.444894   \n",
      "degree+         0.596235  1.000000  0.437384     0.040137      0.344505   \n",
      "pop_inc         0.185915  0.437384  1.000000     0.003214      0.265479   \n",
      "foreign_inc     0.017175  0.040137  0.003214     1.000000      0.006487   \n",
      "unemployment    0.444894  0.344505  0.265479     0.006487      1.000000   \n",
      "unemp_change    0.099960  0.104568  0.019885     0.001546      0.183943   \n",
      "poverty         0.676247  0.454771  0.279422     0.016851      0.615135   \n",
      "median_hh_inc   0.555187  0.682043  0.471092     0.020453      0.472713   \n",
      "pov_change      0.026931  0.041624  0.043384     0.000316      0.183201   \n",
      "median_age      0.207144  0.180067  0.366550     0.037000      0.045748   \n",
      "hh_afr_am       0.337359  0.078255  0.089242     0.001260      0.393471   \n",
      "hh_hisp         0.416976  0.014507  0.157683     0.001310      0.007594   \n",
      "hh_female       0.535661  0.240072  0.038155     0.005963      0.523734   \n",
      "hh_food_st      0.650381  0.515622  0.246238     0.014470      0.590354   \n",
      "foreign_07      0.212229  0.322974  0.303593     0.033247      0.035868   \n",
      "vets            0.372515  0.041605  0.101889     0.023127      0.056444   \n",
      "vets_male       0.062093  0.179124  0.196671     0.019287      0.051601   \n",
      "viol_crime      0.178997  0.018872  0.079051     0.013310      0.210825   \n",
      "prop_crime      0.093883  0.102160  0.170892     0.036638      0.154293   \n",
      "numeric         0.131000  0.129538  0.059277     0.009029      0.328106   \n",
      "\n",
      "               unemp_change   poverty  median_hh_inc  pov_change  median_age  \\\n",
      "< diploma          0.099960  0.676247       0.555187    0.026931    0.207144   \n",
      "degree+            0.104568  0.454771       0.682043    0.041624    0.180067   \n",
      "pop_inc            0.019885  0.279422       0.471092    0.043384    0.366550   \n",
      "foreign_inc        0.001546  0.016851       0.020453    0.000316    0.037000   \n",
      "unemployment       0.183943  0.615135       0.472713    0.183201    0.045748   \n",
      "unemp_change       1.000000  0.066291       0.090623    0.098116    0.036906   \n",
      "poverty            0.066291  1.000000       0.785793    0.168003    0.221902   \n",
      "median_hh_inc      0.090623  0.785793       1.000000    0.015169    0.101642   \n",
      "pov_change         0.098116  0.168003       0.015169    1.000000    0.110383   \n",
      "median_age         0.036906  0.221902       0.101642    0.110383    1.000000   \n",
      "hh_afr_am          0.064379  0.499156       0.259392    0.175289    0.227336   \n",
      "hh_hisp            0.007952  0.113116       0.009422    0.065226    0.279127   \n",
      "hh_female          0.110549  0.652611       0.372521    0.153636    0.404074   \n",
      "hh_food_st         0.059748  0.798025       0.665656    0.003210    0.166532   \n",
      "foreign_07         0.064652  0.056858       0.312203    0.076071    0.339199   \n",
      "vets               0.056544  0.250037       0.019323    0.019285    0.581999   \n",
      "vets_male          0.047924  0.007948       0.114610    0.073455    0.253513   \n",
      "viol_crime         0.089313  0.274912       0.131107    0.156160    0.253912   \n",
      "prop_crime         0.118463  0.207684       0.084427    0.190884    0.304777   \n",
      "numeric            0.178912  0.221173       0.234599    0.109515    0.080597   \n",
      "\n",
      "               hh_afr_am   hh_hisp  hh_female  hh_food_st  foreign_07  \\\n",
      "< diploma       0.337359  0.416976   0.535661    0.650381    0.212229   \n",
      "degree+         0.078255  0.014507   0.240072    0.515622    0.322974   \n",
      "pop_inc         0.089242  0.157683   0.038155    0.246238    0.303593   \n",
      "foreign_inc     0.001260  0.001310   0.005963    0.014470    0.033247   \n",
      "unemployment    0.393471  0.007594   0.523734    0.590354    0.035868   \n",
      "unemp_change    0.064379  0.007952   0.110549    0.059748    0.064652   \n",
      "poverty         0.499156  0.113116   0.652611    0.798025    0.056858   \n",
      "median_hh_inc   0.259392  0.009422   0.372521    0.665656    0.312203   \n",
      "pov_change      0.175289  0.065226   0.153636    0.003210    0.076071   \n",
      "median_age      0.227336  0.279127   0.404074    0.166532    0.339199   \n",
      "hh_afr_am       1.000000  0.092092   0.739806    0.397476    0.004000   \n",
      "hh_hisp         0.092092  1.000000   0.149867    0.094142    0.620512   \n",
      "hh_female       0.739806  0.149867   1.000000    0.643308    0.100466   \n",
      "hh_food_st      0.397476  0.094142   0.643308    1.000000    0.151541   \n",
      "foreign_07      0.004000  0.620512   0.100466    0.151541    1.000000   \n",
      "vets            0.255743  0.248963   0.351229    0.247639    0.295849   \n",
      "vets_male       0.227712  0.039826   0.211769    0.000263    0.080055   \n",
      "viol_crime      0.383991  0.149977   0.410960    0.211620    0.173330   \n",
      "prop_crime      0.319378  0.118512   0.362391    0.157115    0.160763   \n",
      "numeric         0.135588  0.035820   0.075377    0.246898    0.069864   \n",
      "\n",
      "                   vets  vets_male  viol_crime  prop_crime   numeric  \n",
      "< diploma      0.372515   0.062093    0.178997    0.093883  0.131000  \n",
      "degree+        0.041605   0.179124    0.018872    0.102160  0.129538  \n",
      "pop_inc        0.101889   0.196671    0.079051    0.170892  0.059277  \n",
      "foreign_inc    0.023127   0.019287    0.013310    0.036638  0.009029  \n",
      "unemployment   0.056444   0.051601    0.210825    0.154293  0.328106  \n",
      "unemp_change   0.056544   0.047924    0.089313    0.118463  0.178912  \n",
      "poverty        0.250037   0.007948    0.274912    0.207684  0.221173  \n",
      "median_hh_inc  0.019323   0.114610    0.131107    0.084427  0.234599  \n",
      "pov_change     0.019285   0.073455    0.156160    0.190884  0.109515  \n",
      "median_age     0.581999   0.253513    0.253912    0.304777  0.080597  \n",
      "hh_afr_am      0.255743   0.227712    0.383991    0.319378  0.135588  \n",
      "hh_hisp        0.248963   0.039826    0.149977    0.118512  0.035820  \n",
      "hh_female      0.351229   0.211769    0.410960    0.362391  0.075377  \n",
      "hh_food_st     0.247639   0.000263    0.211620    0.157115  0.246898  \n",
      "foreign_07     0.295849   0.080055    0.173330    0.160763  0.069864  \n",
      "vets           1.000000   0.125628    0.102366    0.065826  0.153610  \n",
      "vets_male      0.125628   1.000000    0.150457    0.199141  0.034193  \n",
      "viol_crime     0.102366   0.150457    1.000000    0.705886  0.140350  \n",
      "prop_crime     0.065826   0.199141    0.705886    1.000000  0.152519  \n",
      "numeric        0.153610   0.034193    0.140350    0.152519  1.000000  \n"
     ]
    }
   ],
   "source": [
    "bivariate = data.drop(['urban_inf', 'death_rate'], axis=1).corr().abs()\n",
    "print(bivariate)"
   ]
  },
  {
   "cell_type": "markdown",
   "metadata": {
    "deletable": true,
    "editable": true
   },
   "source": [
    "**poverty** correlates strongly with several other variables, so drop it. The two crime variables correlate strongly with each other, so combine them into one. "
   ]
  },
  {
   "cell_type": "code",
   "execution_count": 2550,
   "metadata": {
    "collapsed": true,
    "deletable": true,
    "editable": true
   },
   "outputs": [],
   "source": [
    "data['crime'] = (data['viol_crime'] + data['prop_crime'])\n",
    "data = data.drop(['viol_crime', 'prop_crime', 'poverty'], axis=1)"
   ]
  },
  {
   "cell_type": "code",
   "execution_count": 2777,
   "metadata": {
    "collapsed": false,
    "deletable": true,
    "editable": true
   },
   "outputs": [
    {
     "data": {
      "image/png": "[encoded data removed]",
      "text/plain": [
       "<matplotlib.figure.Figure at 0x16f0cb3c8>"
      ]
     },
     "metadata": {},
     "output_type": "display_data"
    }
   ],
   "source": [
    "corrmat = data.drop(['urban_inf', 'death_rate'], axis=1).corr().abs()\n",
    "heatmap = sns.heatmap(corrmat, vmax=.8, square=True)\n",
    "heatmap.figure.savefig('images/heatmap.png')"
   ]
  },
  {
   "cell_type": "markdown",
   "metadata": {
    "deletable": true,
    "editable": true
   },
   "source": [
    "There are other correlations, but varaince inflation factor (VIF) analysis will be used to determine which should be removed. But first look at outliers in the independent variables."
   ]
  },
  {
   "cell_type": "code",
   "execution_count": 2552,
   "metadata": {
    "collapsed": true,
    "deletable": true,
    "editable": true
   },
   "outputs": [],
   "source": [
    "def get_outliers(df, multiplier=1.5):\n",
    "    stats = df.describe()\n",
    "    iqr = stats.loc['75%'] - stats.loc['25%']\n",
    "    lower = stats.loc['25%'] - multiplier * iqr\n",
    "    upper = stats.loc['75%'] + multiplier * iqr\n",
    "    return ((df < lower) | (df > upper))"
   ]
  },
  {
   "cell_type": "code",
   "execution_count": 2553,
   "metadata": {
    "collapsed": false,
    "deletable": true,
    "editable": true
   },
   "outputs": [
    {
     "data": {
      "text/plain": [
       "1547"
      ]
     },
     "execution_count": 2553,
     "metadata": {},
     "output_type": "execute_result"
    }
   ],
   "source": [
    "outliers = get_outliers(data.drop(['urban_inf', 'death_rate'], axis=1))\n",
    "len(data[outliers.any(axis=1)])"
   ]
  },
  {
   "cell_type": "code",
   "execution_count": 2554,
   "metadata": {
    "collapsed": false,
    "deletable": true,
    "editable": true
   },
   "outputs": [
    {
     "data": {
      "text/plain": [
       "927"
      ]
     },
     "execution_count": 2554,
     "metadata": {},
     "output_type": "execute_result"
    }
   ],
   "source": [
    "extreme_outliers = get_outliers(data.drop(['urban_inf', 'death_rate'], axis=1), 2.5)\n",
    "len(data[extreme_outliers.any(axis=1)])"
   ]
  },
  {
   "cell_type": "code",
   "execution_count": 2555,
   "metadata": {
    "collapsed": false,
    "deletable": true,
    "editable": true
   },
   "outputs": [
    {
     "data": {
      "text/plain": [
       "273"
      ]
     },
     "execution_count": 2555,
     "metadata": {},
     "output_type": "execute_result"
    }
   ],
   "source": [
    "xx_outliers = list((data[extreme_outliers.sum(axis=1) > 1]).index)\n",
    "len(xx_outliers)"
   ]
  },
  {
   "cell_type": "markdown",
   "metadata": {
    "deletable": true,
    "editable": true
   },
   "source": [
    "Almost half the dataset contains outliers, and more than a quarter contains extreme outliers that are more than 2.5 times the IQR below the first quartile or above the third. As an alternative to dropping a large number of samples, apply robust scaling to the predictors. Scikit-learn has two solutions, robust scaling and quantile transformation. Try them both. If necessary drop the most extreme (xx) outliers, those samples having more than one extreme outlier."
   ]
  },
  {
   "cell_type": "code",
   "execution_count": 2556,
   "metadata": {
    "collapsed": true,
    "deletable": true,
    "editable": true
   },
   "outputs": [],
   "source": [
    "from sklearn.model_selection import train_test_split\n",
    "\n",
    "data_train, data_test, targets_train, targets_test = train_test_split(data.drop('death_rate', axis=1),\n",
    "                                                                     data['death_rate'], test_size=.35,\n",
    "                                                                     stratify=data['death_rate'], random_state=13)"
   ]
  },
  {
   "cell_type": "markdown",
   "metadata": {
    "deletable": true,
    "editable": true
   },
   "source": [
    "It is necessary to separate the training and test data before scaling/transforming to prevent data leakage from the test data when fitting the scaling and transformation algorithms. "
   ]
  },
  {
   "cell_type": "code",
   "execution_count": 2557,
   "metadata": {
    "collapsed": false,
    "deletable": true,
    "editable": true
   },
   "outputs": [],
   "source": [
    "from sklearn.preprocessing import RobustScaler, QuantileTransformer\n",
    "robust = RobustScaler()\n",
    "quantile = QuantileTransformer()\n",
    "\n",
    "r_train = pd.DataFrame(robust.fit_transform(data_train.drop(['urban_inf'], axis=1)),\n",
    "                       index=data_train.index, columns=data_train.drop(['urban_inf'], axis=1).columns)\n",
    "r_train['urban_inf'] = data_train['urban_inf']\n",
    "\n",
    "q_train = pd.DataFrame(quantile.fit_transform(data_train.drop(['urban_inf'], axis=1)),\n",
    "                       index=data_train.index, columns=data_train.drop(['urban_inf'], axis=1).columns)\n",
    "q_train['urban_inf'] = data_train['urban_inf']"
   ]
  },
  {
   "cell_type": "markdown",
   "metadata": {
    "deletable": true,
    "editable": true
   },
   "source": [
    "*Note: Both robust scaling and quantile transformation leave binary features unchanged, so __urban_inf__ will be one-hot encoded later.*"
   ]
  },
  {
   "cell_type": "markdown",
   "metadata": {
    "deletable": true,
    "editable": true
   },
   "source": [
    "Use VIF analysis to programmatically eliminate the variables with the highest VIF scores."
   ]
  },
  {
   "cell_type": "code",
   "execution_count": 2558,
   "metadata": {
    "collapsed": false,
    "deletable": true,
    "editable": true
   },
   "outputs": [
    {
     "data": {
      "text/html": [
       "<div>\n",
       "<table border=\"1\" class=\"dataframe\">\n",
       "  <thead>\n",
       "    <tr style=\"text-align: right;\">\n",
       "      <th></th>\n",
       "      <th>VIF</th>\n",
       "      <th>features</th>\n",
       "    </tr>\n",
       "  </thead>\n",
       "  <tbody>\n",
       "    <tr>\n",
       "      <th>0</th>\n",
       "      <td>4.692216</td>\n",
       "      <td>&lt; diploma</td>\n",
       "    </tr>\n",
       "    <tr>\n",
       "      <th>1</th>\n",
       "      <td>3.354605</td>\n",
       "      <td>degree+</td>\n",
       "    </tr>\n",
       "    <tr>\n",
       "      <th>2</th>\n",
       "      <td>1.654689</td>\n",
       "      <td>pop_inc</td>\n",
       "    </tr>\n",
       "    <tr>\n",
       "      <th>3</th>\n",
       "      <td>1.007878</td>\n",
       "      <td>foreign_inc</td>\n",
       "    </tr>\n",
       "    <tr>\n",
       "      <th>4</th>\n",
       "      <td>2.001452</td>\n",
       "      <td>unemployment</td>\n",
       "    </tr>\n",
       "    <tr>\n",
       "      <th>5</th>\n",
       "      <td>1.083473</td>\n",
       "      <td>unemp_change</td>\n",
       "    </tr>\n",
       "    <tr>\n",
       "      <th>6</th>\n",
       "      <td>3.000470</td>\n",
       "      <td>median_hh_inc</td>\n",
       "    </tr>\n",
       "    <tr>\n",
       "      <th>7</th>\n",
       "      <td>1.137715</td>\n",
       "      <td>pov_change</td>\n",
       "    </tr>\n",
       "    <tr>\n",
       "      <th>8</th>\n",
       "      <td>2.291184</td>\n",
       "      <td>median_age</td>\n",
       "    </tr>\n",
       "    <tr>\n",
       "      <th>9</th>\n",
       "      <td>2.692483</td>\n",
       "      <td>hh_afr_am</td>\n",
       "    </tr>\n",
       "    <tr>\n",
       "      <th>10</th>\n",
       "      <td>2.505202</td>\n",
       "      <td>hh_hisp</td>\n",
       "    </tr>\n",
       "    <tr>\n",
       "      <th>11</th>\n",
       "      <td>3.873433</td>\n",
       "      <td>hh_female</td>\n",
       "    </tr>\n",
       "    <tr>\n",
       "      <th>12</th>\n",
       "      <td>3.378528</td>\n",
       "      <td>hh_food_st</td>\n",
       "    </tr>\n",
       "    <tr>\n",
       "      <th>13</th>\n",
       "      <td>3.060728</td>\n",
       "      <td>foreign_07</td>\n",
       "    </tr>\n",
       "    <tr>\n",
       "      <th>14</th>\n",
       "      <td>2.054084</td>\n",
       "      <td>vets</td>\n",
       "    </tr>\n",
       "    <tr>\n",
       "      <th>15</th>\n",
       "      <td>1.392311</td>\n",
       "      <td>vets_male</td>\n",
       "    </tr>\n",
       "    <tr>\n",
       "      <th>16</th>\n",
       "      <td>1.404754</td>\n",
       "      <td>crime</td>\n",
       "    </tr>\n",
       "  </tbody>\n",
       "</table>\n",
       "</div>"
      ],
      "text/plain": [
       "         VIF       features\n",
       "0   4.692216      < diploma\n",
       "1   3.354605        degree+\n",
       "2   1.654689        pop_inc\n",
       "3   1.007878    foreign_inc\n",
       "4   2.001452   unemployment\n",
       "5   1.083473   unemp_change\n",
       "6   3.000470  median_hh_inc\n",
       "7   1.137715     pov_change\n",
       "8   2.291184     median_age\n",
       "9   2.692483      hh_afr_am\n",
       "10  2.505202        hh_hisp\n",
       "11  3.873433      hh_female\n",
       "12  3.378528     hh_food_st\n",
       "13  3.060728     foreign_07\n",
       "14  2.054084           vets\n",
       "15  1.392311      vets_male\n",
       "16  1.404754          crime"
      ]
     },
     "execution_count": 2558,
     "metadata": {},
     "output_type": "execute_result"
    }
   ],
   "source": [
    "from statsmodels.stats.outliers_influence import variance_inflation_factor\n",
    "\n",
    "vif = pd.DataFrame()\n",
    "remove = ['urban_inf', 'numeric']\n",
    "features = r_train.drop(remove, axis=1)\n",
    "vif[\"VIF\"] = [variance_inflation_factor(features.values, i) for i in range(features.shape[1])]\n",
    "vif[\"features\"] = features.columns\n",
    "vif"
   ]
  },
  {
   "cell_type": "code",
   "execution_count": 2559,
   "metadata": {
    "collapsed": false,
    "deletable": true,
    "editable": true
   },
   "outputs": [
    {
     "data": {
      "text/html": [
       "<div>\n",
       "<table border=\"1\" class=\"dataframe\">\n",
       "  <thead>\n",
       "    <tr style=\"text-align: right;\">\n",
       "      <th></th>\n",
       "      <th>VIF</th>\n",
       "      <th>features</th>\n",
       "    </tr>\n",
       "  </thead>\n",
       "  <tbody>\n",
       "    <tr>\n",
       "      <th>0</th>\n",
       "      <td>1.446837</td>\n",
       "      <td>degree+</td>\n",
       "    </tr>\n",
       "    <tr>\n",
       "      <th>1</th>\n",
       "      <td>1.387094</td>\n",
       "      <td>pop_inc</td>\n",
       "    </tr>\n",
       "    <tr>\n",
       "      <th>2</th>\n",
       "      <td>1.006156</td>\n",
       "      <td>foreign_inc</td>\n",
       "    </tr>\n",
       "    <tr>\n",
       "      <th>3</th>\n",
       "      <td>1.469169</td>\n",
       "      <td>unemployment</td>\n",
       "    </tr>\n",
       "    <tr>\n",
       "      <th>4</th>\n",
       "      <td>1.062661</td>\n",
       "      <td>unemp_change</td>\n",
       "    </tr>\n",
       "    <tr>\n",
       "      <th>5</th>\n",
       "      <td>1.088208</td>\n",
       "      <td>pov_change</td>\n",
       "    </tr>\n",
       "    <tr>\n",
       "      <th>6</th>\n",
       "      <td>1.467785</td>\n",
       "      <td>hh_afr_am</td>\n",
       "    </tr>\n",
       "    <tr>\n",
       "      <th>7</th>\n",
       "      <td>1.117673</td>\n",
       "      <td>hh_hisp</td>\n",
       "    </tr>\n",
       "    <tr>\n",
       "      <th>8</th>\n",
       "      <td>1.162081</td>\n",
       "      <td>vets</td>\n",
       "    </tr>\n",
       "    <tr>\n",
       "      <th>9</th>\n",
       "      <td>1.227921</td>\n",
       "      <td>vets_male</td>\n",
       "    </tr>\n",
       "    <tr>\n",
       "      <th>10</th>\n",
       "      <td>1.272662</td>\n",
       "      <td>crime</td>\n",
       "    </tr>\n",
       "  </tbody>\n",
       "</table>\n",
       "</div>"
      ],
      "text/plain": [
       "         VIF      features\n",
       "0   1.446837       degree+\n",
       "1   1.387094       pop_inc\n",
       "2   1.006156   foreign_inc\n",
       "3   1.469169  unemployment\n",
       "4   1.062661  unemp_change\n",
       "5   1.088208    pov_change\n",
       "6   1.467785     hh_afr_am\n",
       "7   1.117673       hh_hisp\n",
       "8   1.162081          vets\n",
       "9   1.227921     vets_male\n",
       "10  1.272662         crime"
      ]
     },
     "execution_count": 2559,
     "metadata": {},
     "output_type": "execute_result"
    }
   ],
   "source": [
    "max_VIF = max(vif['VIF'])\n",
    "while max_VIF > 2:\n",
    "    remove = remove + list(vif[vif['VIF'] == max_VIF]['features'])\n",
    "    features = r_train.drop(remove, axis=1)\n",
    "    vif = pd.DataFrame()\n",
    "    vif[\"VIF\"] = [variance_inflation_factor(features.values, i) for i in range(features.shape[1])]\n",
    "    vif[\"features\"] = features.columns\n",
    "    max_VIF = max(vif['VIF'])\n",
    "    \n",
    "r_features = list(features.columns) + ['urban_inf']\n",
    "vif"
   ]
  },
  {
   "cell_type": "code",
   "execution_count": 2560,
   "metadata": {
    "collapsed": false,
    "deletable": true,
    "editable": true
   },
   "outputs": [
    {
     "data": {
      "text/html": [
       "<div>\n",
       "<table border=\"1\" class=\"dataframe\">\n",
       "  <thead>\n",
       "    <tr style=\"text-align: right;\">\n",
       "      <th></th>\n",
       "      <th>VIF</th>\n",
       "      <th>features</th>\n",
       "    </tr>\n",
       "  </thead>\n",
       "  <tbody>\n",
       "    <tr>\n",
       "      <th>0</th>\n",
       "      <td>14.137382</td>\n",
       "      <td>&lt; diploma</td>\n",
       "    </tr>\n",
       "    <tr>\n",
       "      <th>1</th>\n",
       "      <td>11.976201</td>\n",
       "      <td>degree+</td>\n",
       "    </tr>\n",
       "    <tr>\n",
       "      <th>2</th>\n",
       "      <td>7.264671</td>\n",
       "      <td>pop_inc</td>\n",
       "    </tr>\n",
       "    <tr>\n",
       "      <th>3</th>\n",
       "      <td>5.406005</td>\n",
       "      <td>foreign_inc</td>\n",
       "    </tr>\n",
       "    <tr>\n",
       "      <th>4</th>\n",
       "      <td>8.466852</td>\n",
       "      <td>unemployment</td>\n",
       "    </tr>\n",
       "    <tr>\n",
       "      <th>5</th>\n",
       "      <td>4.521266</td>\n",
       "      <td>unemp_change</td>\n",
       "    </tr>\n",
       "    <tr>\n",
       "      <th>6</th>\n",
       "      <td>9.859576</td>\n",
       "      <td>median_hh_inc</td>\n",
       "    </tr>\n",
       "    <tr>\n",
       "      <th>7</th>\n",
       "      <td>4.345796</td>\n",
       "      <td>pov_change</td>\n",
       "    </tr>\n",
       "    <tr>\n",
       "      <th>8</th>\n",
       "      <td>9.687228</td>\n",
       "      <td>median_age</td>\n",
       "    </tr>\n",
       "    <tr>\n",
       "      <th>9</th>\n",
       "      <td>9.356449</td>\n",
       "      <td>hh_afr_am</td>\n",
       "    </tr>\n",
       "    <tr>\n",
       "      <th>10</th>\n",
       "      <td>14.159156</td>\n",
       "      <td>hh_hisp</td>\n",
       "    </tr>\n",
       "    <tr>\n",
       "      <th>11</th>\n",
       "      <td>13.467027</td>\n",
       "      <td>hh_female</td>\n",
       "    </tr>\n",
       "    <tr>\n",
       "      <th>12</th>\n",
       "      <td>13.248238</td>\n",
       "      <td>hh_food_st</td>\n",
       "    </tr>\n",
       "    <tr>\n",
       "      <th>13</th>\n",
       "      <td>15.938487</td>\n",
       "      <td>foreign_07</td>\n",
       "    </tr>\n",
       "    <tr>\n",
       "      <th>14</th>\n",
       "      <td>7.339714</td>\n",
       "      <td>vets</td>\n",
       "    </tr>\n",
       "    <tr>\n",
       "      <th>15</th>\n",
       "      <td>4.835098</td>\n",
       "      <td>vets_male</td>\n",
       "    </tr>\n",
       "    <tr>\n",
       "      <th>16</th>\n",
       "      <td>6.567931</td>\n",
       "      <td>crime</td>\n",
       "    </tr>\n",
       "  </tbody>\n",
       "</table>\n",
       "</div>"
      ],
      "text/plain": [
       "          VIF       features\n",
       "0   14.137382      < diploma\n",
       "1   11.976201        degree+\n",
       "2    7.264671        pop_inc\n",
       "3    5.406005    foreign_inc\n",
       "4    8.466852   unemployment\n",
       "5    4.521266   unemp_change\n",
       "6    9.859576  median_hh_inc\n",
       "7    4.345796     pov_change\n",
       "8    9.687228     median_age\n",
       "9    9.356449      hh_afr_am\n",
       "10  14.159156        hh_hisp\n",
       "11  13.467027      hh_female\n",
       "12  13.248238     hh_food_st\n",
       "13  15.938487     foreign_07\n",
       "14   7.339714           vets\n",
       "15   4.835098      vets_male\n",
       "16   6.567931          crime"
      ]
     },
     "execution_count": 2560,
     "metadata": {},
     "output_type": "execute_result"
    }
   ],
   "source": [
    "vif2 = pd.DataFrame()\n",
    "remove = ['urban_inf', 'numeric']\n",
    "features2 = q_train.drop(remove, axis=1)\n",
    "vif2[\"VIF\"] = [variance_inflation_factor(features2.values, i) for i in range(features2.shape[1])]\n",
    "vif2[\"features\"] = features2.columns\n",
    "vif2"
   ]
  },
  {
   "cell_type": "code",
   "execution_count": 2561,
   "metadata": {
    "collapsed": false,
    "deletable": true,
    "editable": true
   },
   "outputs": [
    {
     "data": {
      "text/html": [
       "<div>\n",
       "<table border=\"1\" class=\"dataframe\">\n",
       "  <thead>\n",
       "    <tr style=\"text-align: right;\">\n",
       "      <th></th>\n",
       "      <th>VIF</th>\n",
       "      <th>features</th>\n",
       "    </tr>\n",
       "  </thead>\n",
       "  <tbody>\n",
       "    <tr>\n",
       "      <th>0</th>\n",
       "      <td>6.111847</td>\n",
       "      <td>degree+</td>\n",
       "    </tr>\n",
       "    <tr>\n",
       "      <th>1</th>\n",
       "      <td>5.871037</td>\n",
       "      <td>pop_inc</td>\n",
       "    </tr>\n",
       "    <tr>\n",
       "      <th>2</th>\n",
       "      <td>5.083158</td>\n",
       "      <td>foreign_inc</td>\n",
       "    </tr>\n",
       "    <tr>\n",
       "      <th>3</th>\n",
       "      <td>5.500962</td>\n",
       "      <td>unemployment</td>\n",
       "    </tr>\n",
       "    <tr>\n",
       "      <th>4</th>\n",
       "      <td>4.292346</td>\n",
       "      <td>unemp_change</td>\n",
       "    </tr>\n",
       "    <tr>\n",
       "      <th>5</th>\n",
       "      <td>3.523762</td>\n",
       "      <td>pov_change</td>\n",
       "    </tr>\n",
       "    <tr>\n",
       "      <th>6</th>\n",
       "      <td>6.141467</td>\n",
       "      <td>hh_afr_am</td>\n",
       "    </tr>\n",
       "    <tr>\n",
       "      <th>7</th>\n",
       "      <td>5.468528</td>\n",
       "      <td>hh_hisp</td>\n",
       "    </tr>\n",
       "    <tr>\n",
       "      <th>8</th>\n",
       "      <td>3.810442</td>\n",
       "      <td>vets</td>\n",
       "    </tr>\n",
       "    <tr>\n",
       "      <th>9</th>\n",
       "      <td>3.579920</td>\n",
       "      <td>vets_male</td>\n",
       "    </tr>\n",
       "    <tr>\n",
       "      <th>10</th>\n",
       "      <td>6.021165</td>\n",
       "      <td>crime</td>\n",
       "    </tr>\n",
       "  </tbody>\n",
       "</table>\n",
       "</div>"
      ],
      "text/plain": [
       "         VIF      features\n",
       "0   6.111847       degree+\n",
       "1   5.871037       pop_inc\n",
       "2   5.083158   foreign_inc\n",
       "3   5.500962  unemployment\n",
       "4   4.292346  unemp_change\n",
       "5   3.523762    pov_change\n",
       "6   6.141467     hh_afr_am\n",
       "7   5.468528       hh_hisp\n",
       "8   3.810442          vets\n",
       "9   3.579920     vets_male\n",
       "10  6.021165         crime"
      ]
     },
     "execution_count": 2561,
     "metadata": {},
     "output_type": "execute_result"
    }
   ],
   "source": [
    "max_VIF = max(vif2['VIF'])\n",
    "while len(vif2) > 11:\n",
    "    remove = remove + list(vif2[vif2['VIF'] == max_VIF]['features'])\n",
    "    features2 = q_train.drop(remove, axis=1)\n",
    "    vif2 = pd.DataFrame()\n",
    "    vif2[\"VIF\"] = [variance_inflation_factor(features2.values, i) for i in range(features2.shape[1])]\n",
    "    vif2[\"features\"] = features2.columns\n",
    "    max_VIF = max(vif2['VIF'])\n",
    "\n",
    "q_features = list(features2.columns) + ['urban_inf']   \n",
    "vif2"
   ]
  },
  {
   "cell_type": "markdown",
   "metadata": {
    "deletable": true,
    "editable": true
   },
   "source": [
    "Although the VIF scores were higher with the quantile-transformed data, the order was the same, so proceed with the 11 features from the scaled data that scored below 2."
   ]
  },
  {
   "cell_type": "markdown",
   "metadata": {
    "deletable": true,
    "editable": true
   },
   "source": [
    "Try a range of classifiers. "
   ]
  },
  {
   "cell_type": "code",
   "execution_count": 2562,
   "metadata": {
    "collapsed": true,
    "deletable": true,
    "editable": true
   },
   "outputs": [],
   "source": [
    "Xr1_train = r_train.loc[:, r_features]\n",
    "Xr1_train = pd.get_dummies(Xr1_train, prefix='urb_inf_', columns=['urban_inf'])\n",
    "Yr1_train = targets_train\n",
    "\n",
    "Xq1_train = q_train.loc[:, r_features]\n",
    "Xq1_train = pd.get_dummies(Xq1_train, prefix='urb_inf_', columns=['urban_inf'])\n",
    "Yq1_train = targets_train"
   ]
  },
  {
   "cell_type": "code",
   "execution_count": 2563,
   "metadata": {
    "collapsed": true,
    "deletable": true,
    "editable": true
   },
   "outputs": [],
   "source": [
    "from sklearn.metrics import matthews_corrcoef, make_scorer\n",
    "matthews = make_scorer(matthews_corrcoef)\n",
    "\n",
    "from sklearn.model_selection import cross_val_score"
   ]
  },
  {
   "cell_type": "code",
   "execution_count": 2564,
   "metadata": {
    "collapsed": true,
    "deletable": true,
    "editable": true
   },
   "outputs": [],
   "source": [
    "from sklearn.model_selection import cross_val_score\n",
    "\n",
    "from sklearn.neighbors import KNeighborsClassifier\n",
    "from sklearn.linear_model import LogisticRegression\n",
    "from sklearn.ensemble import GradientBoostingClassifier\n",
    "from sklearn.linear_model import SGDClassifier\n",
    "from sklearn.ensemble import RandomForestClassifier\n",
    "from sklearn.svm import SVC"
   ]
  },
  {
   "cell_type": "code",
   "execution_count": 2565,
   "metadata": {
    "collapsed": false,
    "deletable": true,
    "editable": true
   },
   "outputs": [],
   "source": [
    "knn = KNeighborsClassifier()\n",
    "lrc = LogisticRegression(class_weight='balanced')\n",
    "gbc = GradientBoostingClassifier()\n",
    "sgd = SGDClassifier(class_weight='balanced', tol=1e-3)\n",
    "rfc = RandomForestClassifier(class_weight='balanced')\n",
    "svc = SVC(class_weight='balanced')"
   ]
  },
  {
   "cell_type": "code",
   "execution_count": 2566,
   "metadata": {
    "collapsed": false,
    "deletable": true,
    "editable": true
   },
   "outputs": [],
   "source": [
    "classifiers = [lrc, gbc, sgd, rfc, svc, knn]\n",
    "names = ['lrc', 'gbc', 'sgd', 'rfc', 'svc', 'knn']\n",
    "full_names = {'lrc':'Logistic regression', 'gbc':'Gradient boosting', 'sgd':'Stochastic gradient descent',\n",
    "              'rfc':'Random forest', 'svc':'Support vector', 'knn':'K-Nearest neighbors'}\n",
    "\n",
    "index = pd.MultiIndex.from_product([['Y16', 'Y8', 'Y4', 'Y2'], ['r', 'q'], [1, 2]])\n",
    "results = pd.DataFrame(index=index, columns=names)\n",
    "\n",
    "def run_trials(X, Y, targets, scale, feature_set):\n",
    "    for name, clf in zip(names, classifiers):\n",
    "        scores = cross_val_score(clf, X, Y, scoring=matthews)\n",
    "        results.loc[targets, scale, feature_set][name] = np.mean(scores)\n",
    "        %time print('{} scores: {}'.format(full_names[name], scores))"
   ]
  },
  {
   "cell_type": "code",
   "execution_count": 2567,
   "metadata": {
    "collapsed": false,
    "deletable": true,
    "editable": true
   },
   "outputs": [
    {
     "name": "stdout",
     "output_type": "stream",
     "text": [
      "Logistic regression scores: [ 0.07224075  0.08373754  0.06169728]\n",
      "CPU times: user 2.07 ms, sys: 135 µs, total: 2.21 ms\n",
      "Wall time: 543 µs\n",
      "Gradient boosting scores: [ 0.06564323  0.05347125  0.05369751]\n",
      "CPU times: user 365 µs, sys: 54 µs, total: 419 µs\n",
      "Wall time: 403 µs\n",
      "Stochastic gradient descent scores: [ 0.03590956  0.04562381  0.01788978]\n",
      "CPU times: user 1.49 ms, sys: 79 µs, total: 1.57 ms\n",
      "Wall time: 391 µs\n",
      "Random forest scores: [ 0.05606924  0.03888256  0.02337687]\n",
      "CPU times: user 349 µs, sys: 53 µs, total: 402 µs\n",
      "Wall time: 382 µs\n",
      "Support vector scores: [ 0.06494332  0.08073868  0.06422116]\n",
      "CPU times: user 349 µs, sys: 60 µs, total: 409 µs\n",
      "Wall time: 386 µs\n",
      "K-Nearest neighbors scores: [ 0.05116946  0.06057621  0.07395291]\n",
      "CPU times: user 353 µs, sys: 34 µs, total: 387 µs\n",
      "Wall time: 392 µs\n"
     ]
    }
   ],
   "source": [
    "run_trials(Xr1_train, Yr1_train, 'Y16', 'r', 1)"
   ]
  },
  {
   "cell_type": "markdown",
   "metadata": {
    "deletable": true,
    "editable": true
   },
   "source": [
    "All of the stock classifiers performed poorly, with support vector doing the best, followed by gradient boosting and logistic regression."
   ]
  },
  {
   "cell_type": "code",
   "execution_count": 2568,
   "metadata": {
    "collapsed": false,
    "deletable": true,
    "editable": true
   },
   "outputs": [
    {
     "name": "stdout",
     "output_type": "stream",
     "text": [
      "Logistic regression scores: [ 0.05517806  0.07216968  0.05162715]\n",
      "CPU times: user 1.65 ms, sys: 170 µs, total: 1.82 ms\n",
      "Wall time: 468 µs\n",
      "Gradient boosting scores: [ 0.06920408  0.07383779  0.03745276]\n",
      "CPU times: user 359 µs, sys: 49 µs, total: 408 µs\n",
      "Wall time: 390 µs\n",
      "Stochastic gradient descent scores: [ 0.05583725  0.04144789  0.04682596]\n",
      "CPU times: user 1.96 ms, sys: 154 µs, total: 2.11 ms\n",
      "Wall time: 524 µs\n",
      "Random forest scores: [ 0.04280496  0.02932204  0.06575737]\n",
      "CPU times: user 400 µs, sys: 64 µs, total: 464 µs\n",
      "Wall time: 443 µs\n",
      "Support vector scores: [ 0.06257489  0.06058553  0.04800599]\n",
      "CPU times: user 377 µs, sys: 56 µs, total: 433 µs\n",
      "Wall time: 411 µs\n",
      "K-Nearest neighbors scores: [ 0.04721797  0.0680261   0.04863588]\n",
      "CPU times: user 382 µs, sys: 44 µs, total: 426 µs\n",
      "Wall time: 418 µs\n"
     ]
    }
   ],
   "source": [
    "run_trials(Xq1_train, Yq1_train, 'Y16', 'q', 1)"
   ]
  },
  {
   "cell_type": "markdown",
   "metadata": {
    "deletable": true,
    "editable": true
   },
   "source": [
    "The quantile-transformed data performed even worse. Try an alternative selection process starting with correlations with the target variable."
   ]
  },
  {
   "cell_type": "code",
   "execution_count": 2569,
   "metadata": {
    "collapsed": false,
    "deletable": true,
    "editable": true
   },
   "outputs": [
    {
     "data": {
      "text/plain": [
       "< diploma        0.129658\n",
       "degree+          0.128835\n",
       "pop_inc          0.065526\n",
       "foreign_inc      0.023970\n",
       "unemployment     0.333562\n",
       "unemp_change     0.196317\n",
       "median_hh_inc    0.249051\n",
       "pov_change       0.098258\n",
       "median_age       0.078755\n",
       "hh_afr_am        0.138155\n",
       "hh_hisp          0.050569\n",
       "hh_female        0.077553\n",
       "hh_food_st       0.256955\n",
       "foreign_07       0.090891\n",
       "vets             0.127107\n",
       "vets_male        0.042540\n",
       "crime            0.146001\n",
       "Name: numeric, dtype: float64"
      ]
     },
     "execution_count": 2569,
     "metadata": {},
     "output_type": "execute_result"
    }
   ],
   "source": [
    "bivariate = r_train.drop('urban_inf', axis=1).corr().abs()\n",
    "bivariate.loc['numeric'].drop('numeric')"
   ]
  },
  {
   "cell_type": "code",
   "execution_count": 2570,
   "metadata": {
    "collapsed": false,
    "deletable": true,
    "editable": true
   },
   "outputs": [],
   "source": [
    "features2 = list(bivariate[bivariate.loc['numeric'] > .05].drop('numeric').index)"
   ]
  },
  {
   "cell_type": "code",
   "execution_count": 2571,
   "metadata": {
    "collapsed": false,
    "deletable": true,
    "editable": true
   },
   "outputs": [
    {
     "data": {
      "text/html": [
       "<div>\n",
       "<table border=\"1\" class=\"dataframe\">\n",
       "  <thead>\n",
       "    <tr style=\"text-align: right;\">\n",
       "      <th></th>\n",
       "      <th>VIF</th>\n",
       "      <th>features</th>\n",
       "    </tr>\n",
       "  </thead>\n",
       "  <tbody>\n",
       "    <tr>\n",
       "      <th>0</th>\n",
       "      <td>4.691511</td>\n",
       "      <td>&lt; diploma</td>\n",
       "    </tr>\n",
       "    <tr>\n",
       "      <th>1</th>\n",
       "      <td>3.338118</td>\n",
       "      <td>degree+</td>\n",
       "    </tr>\n",
       "    <tr>\n",
       "      <th>2</th>\n",
       "      <td>1.653951</td>\n",
       "      <td>pop_inc</td>\n",
       "    </tr>\n",
       "    <tr>\n",
       "      <th>3</th>\n",
       "      <td>2.001330</td>\n",
       "      <td>unemployment</td>\n",
       "    </tr>\n",
       "    <tr>\n",
       "      <th>4</th>\n",
       "      <td>1.081916</td>\n",
       "      <td>unemp_change</td>\n",
       "    </tr>\n",
       "    <tr>\n",
       "      <th>5</th>\n",
       "      <td>2.994200</td>\n",
       "      <td>median_hh_inc</td>\n",
       "    </tr>\n",
       "    <tr>\n",
       "      <th>6</th>\n",
       "      <td>1.137668</td>\n",
       "      <td>pov_change</td>\n",
       "    </tr>\n",
       "    <tr>\n",
       "      <th>7</th>\n",
       "      <td>2.090084</td>\n",
       "      <td>median_age</td>\n",
       "    </tr>\n",
       "    <tr>\n",
       "      <th>8</th>\n",
       "      <td>2.640925</td>\n",
       "      <td>hh_afr_am</td>\n",
       "    </tr>\n",
       "    <tr>\n",
       "      <th>9</th>\n",
       "      <td>2.495835</td>\n",
       "      <td>hh_hisp</td>\n",
       "    </tr>\n",
       "    <tr>\n",
       "      <th>10</th>\n",
       "      <td>3.839985</td>\n",
       "      <td>hh_female</td>\n",
       "    </tr>\n",
       "    <tr>\n",
       "      <th>11</th>\n",
       "      <td>3.375858</td>\n",
       "      <td>hh_food_st</td>\n",
       "    </tr>\n",
       "    <tr>\n",
       "      <th>12</th>\n",
       "      <td>3.052374</td>\n",
       "      <td>foreign_07</td>\n",
       "    </tr>\n",
       "    <tr>\n",
       "      <th>13</th>\n",
       "      <td>1.775384</td>\n",
       "      <td>vets</td>\n",
       "    </tr>\n",
       "    <tr>\n",
       "      <th>14</th>\n",
       "      <td>1.403951</td>\n",
       "      <td>crime</td>\n",
       "    </tr>\n",
       "  </tbody>\n",
       "</table>\n",
       "</div>"
      ],
      "text/plain": [
       "         VIF       features\n",
       "0   4.691511      < diploma\n",
       "1   3.338118        degree+\n",
       "2   1.653951        pop_inc\n",
       "3   2.001330   unemployment\n",
       "4   1.081916   unemp_change\n",
       "5   2.994200  median_hh_inc\n",
       "6   1.137668     pov_change\n",
       "7   2.090084     median_age\n",
       "8   2.640925      hh_afr_am\n",
       "9   2.495835        hh_hisp\n",
       "10  3.839985      hh_female\n",
       "11  3.375858     hh_food_st\n",
       "12  3.052374     foreign_07\n",
       "13  1.775384           vets\n",
       "14  1.403951          crime"
      ]
     },
     "execution_count": 2571,
     "metadata": {},
     "output_type": "execute_result"
    }
   ],
   "source": [
    "vif = pd.DataFrame()\n",
    "features = r_train.loc[:, features2]\n",
    "vif[\"VIF\"] = [variance_inflation_factor(features.values, i) for i in range(features.shape[1])]\n",
    "vif[\"features\"] = features.columns\n",
    "vif"
   ]
  },
  {
   "cell_type": "code",
   "execution_count": 2572,
   "metadata": {
    "collapsed": false,
    "deletable": true,
    "editable": true
   },
   "outputs": [
    {
     "data": {
      "text/html": [
       "<div>\n",
       "<table border=\"1\" class=\"dataframe\">\n",
       "  <thead>\n",
       "    <tr style=\"text-align: right;\">\n",
       "      <th></th>\n",
       "      <th>VIF</th>\n",
       "      <th>features</th>\n",
       "    </tr>\n",
       "  </thead>\n",
       "  <tbody>\n",
       "    <tr>\n",
       "      <th>0</th>\n",
       "      <td>1.426356</td>\n",
       "      <td>degree+</td>\n",
       "    </tr>\n",
       "    <tr>\n",
       "      <th>1</th>\n",
       "      <td>1.508867</td>\n",
       "      <td>pop_inc</td>\n",
       "    </tr>\n",
       "    <tr>\n",
       "      <th>2</th>\n",
       "      <td>1.471894</td>\n",
       "      <td>unemployment</td>\n",
       "    </tr>\n",
       "    <tr>\n",
       "      <th>3</th>\n",
       "      <td>1.063805</td>\n",
       "      <td>unemp_change</td>\n",
       "    </tr>\n",
       "    <tr>\n",
       "      <th>4</th>\n",
       "      <td>1.107732</td>\n",
       "      <td>pov_change</td>\n",
       "    </tr>\n",
       "    <tr>\n",
       "      <th>5</th>\n",
       "      <td>1.914992</td>\n",
       "      <td>median_age</td>\n",
       "    </tr>\n",
       "    <tr>\n",
       "      <th>6</th>\n",
       "      <td>1.393385</td>\n",
       "      <td>hh_afr_am</td>\n",
       "    </tr>\n",
       "    <tr>\n",
       "      <th>7</th>\n",
       "      <td>1.125245</td>\n",
       "      <td>hh_hisp</td>\n",
       "    </tr>\n",
       "    <tr>\n",
       "      <th>8</th>\n",
       "      <td>1.572265</td>\n",
       "      <td>vets</td>\n",
       "    </tr>\n",
       "    <tr>\n",
       "      <th>9</th>\n",
       "      <td>1.331433</td>\n",
       "      <td>crime</td>\n",
       "    </tr>\n",
       "  </tbody>\n",
       "</table>\n",
       "</div>"
      ],
      "text/plain": [
       "        VIF      features\n",
       "0  1.426356       degree+\n",
       "1  1.508867       pop_inc\n",
       "2  1.471894  unemployment\n",
       "3  1.063805  unemp_change\n",
       "4  1.107732    pov_change\n",
       "5  1.914992    median_age\n",
       "6  1.393385     hh_afr_am\n",
       "7  1.125245       hh_hisp\n",
       "8  1.572265          vets\n",
       "9  1.331433         crime"
      ]
     },
     "execution_count": 2572,
     "metadata": {},
     "output_type": "execute_result"
    }
   ],
   "source": [
    "max_VIF = max(vif['VIF'])\n",
    "while max_VIF > 2:\n",
    "    remove = list(vif[vif['VIF'] == max_VIF]['features'])\n",
    "    reduced = [feature for feature in features if feature not in remove]\n",
    "    features = r_train.loc[:, reduced]\n",
    "    vif = pd.DataFrame()\n",
    "    vif[\"VIF\"] = [variance_inflation_factor(features.values, i) for i in range(features.shape[1])]\n",
    "    vif[\"features\"] = features.columns\n",
    "    max_VIF = max(vif['VIF'])\n",
    "vif"
   ]
  },
  {
   "cell_type": "code",
   "execution_count": 2573,
   "metadata": {
    "collapsed": true,
    "deletable": true,
    "editable": true
   },
   "outputs": [],
   "source": [
    "features2 = list(vif['features']) + ['urban_inf']\n",
    "Xr2_train = r_train.loc[:, features2]\n",
    "Xr2_train = pd.get_dummies(Xr2_train, prefix='urb_inf_', columns=['urban_inf'])\n",
    "Yr2_train = targets_train\n",
    "\n",
    "Xq2_train = q_train.loc[:, (features2)]\n",
    "Xq2_train = pd.get_dummies(Xq2_train, prefix='urb_inf_', columns=['urban_inf'])\n",
    "Yq2_train = targets_train"
   ]
  },
  {
   "cell_type": "code",
   "execution_count": 2574,
   "metadata": {
    "collapsed": false,
    "deletable": true,
    "editable": true
   },
   "outputs": [
    {
     "name": "stdout",
     "output_type": "stream",
     "text": [
      "Logistic regression scores: [ 0.07667987  0.07249636  0.06591796]\n",
      "CPU times: user 1.57 ms, sys: 96 µs, total: 1.66 ms\n",
      "Wall time: 411 µs\n",
      "Gradient boosting scores: [ 0.06567434  0.05806323  0.06043003]\n",
      "CPU times: user 638 µs, sys: 133 µs, total: 771 µs\n",
      "Wall time: 711 µs\n",
      "Stochastic gradient descent scores: [ 0.02115983  0.05902871  0.01200934]\n",
      "CPU times: user 1.56 ms, sys: 86 µs, total: 1.65 ms\n",
      "Wall time: 414 µs\n",
      "Random forest scores: [ 0.07040401  0.06335578  0.07735963]\n",
      "CPU times: user 391 µs, sys: 55 µs, total: 446 µs\n",
      "Wall time: 433 µs\n",
      "Support vector scores: [ 0.06517486  0.09615877  0.07827571]\n",
      "CPU times: user 359 µs, sys: 52 µs, total: 411 µs\n",
      "Wall time: 395 µs\n",
      "K-Nearest neighbors scores: [ 0.04180767  0.03719968  0.06801806]\n",
      "CPU times: user 422 µs, sys: 47 µs, total: 469 µs\n",
      "Wall time: 460 µs\n"
     ]
    }
   ],
   "source": [
    "run_trials(Xr2_train, Yr2_train, 'Y16', 'r', 2)"
   ]
  },
  {
   "cell_type": "code",
   "execution_count": 2575,
   "metadata": {
    "collapsed": false,
    "deletable": true,
    "editable": true
   },
   "outputs": [
    {
     "name": "stdout",
     "output_type": "stream",
     "text": [
      "Logistic regression scores: [ 0.05231624  0.06853905  0.05504075]\n",
      "CPU times: user 1.5 ms, sys: 86 µs, total: 1.59 ms\n",
      "Wall time: 396 µs\n",
      "Gradient boosting scores: [ 0.07578598  0.06738574  0.06573165]\n",
      "CPU times: user 353 µs, sys: 62 µs, total: 415 µs\n",
      "Wall time: 391 µs\n",
      "Stochastic gradient descent scores: [ 0.04445081  0.05293809  0.02522092]\n",
      "CPU times: user 1.56 ms, sys: 87 µs, total: 1.65 ms\n",
      "Wall time: 412 µs\n",
      "Random forest scores: [ 0.04097788  0.06898954  0.06858747]\n",
      "CPU times: user 357 µs, sys: 49 µs, total: 406 µs\n",
      "Wall time: 391 µs\n",
      "Support vector scores: [ 0.05845966  0.05628922  0.04856691]\n",
      "CPU times: user 365 µs, sys: 52 µs, total: 417 µs\n",
      "Wall time: 399 µs\n",
      "K-Nearest neighbors scores: [ 0.06828974  0.06103112  0.03211997]\n",
      "CPU times: user 345 µs, sys: 49 µs, total: 394 µs\n",
      "Wall time: 381 µs\n"
     ]
    }
   ],
   "source": [
    "run_trials(Xq2_train, Yq2_train, 'Y16', 'q', 2)"
   ]
  },
  {
   "cell_type": "markdown",
   "metadata": {
    "deletable": true,
    "editable": true
   },
   "source": [
    "The scores are very close for both training sets, but also very poor. Try combining targets to make fewer classes."
   ]
  },
  {
   "cell_type": "code",
   "execution_count": 2576,
   "metadata": {
    "collapsed": false,
    "deletable": true,
    "editable": true
   },
   "outputs": [],
   "source": [
    "def combine_targets(input):\n",
    "    targets = sorted(input.unique(), key=lambda x: int(re.search('\\d+(?=-)', x).group()))\n",
    "    first = []\n",
    "    second = []\n",
    "    for i, r in enumerate(targets):\n",
    "        first.append(r) if i % 2 == 0 else second.append(r)\n",
    "    if len(first) != len(second):\n",
    "        second.append('30-31.9')\n",
    "    conversions = {}\n",
    "    for start, end in zip(first, second):\n",
    "        new_value = re.search('\\d+-', start).group() + re.search('(?<=-)\\d+.\\d+', end).group()\n",
    "        conversions.update(dict.fromkeys([start, end], new_value))\n",
    "    return input.apply(lambda x: conversions[x])"
   ]
  },
  {
   "cell_type": "code",
   "execution_count": 2577,
   "metadata": {
    "collapsed": false,
    "deletable": true,
    "editable": true
   },
   "outputs": [],
   "source": [
    "Y_16_train = targets_train.apply(lambda x: '0-1.9' if x == '<2' else x)\n",
    "Y_16_train = Y_16_train.apply(lambda x: '30-31.9' if x == '30+' else x)\n",
    "\n",
    "Y_8_train = combine_targets(Y_16_train)\n"
   ]
  },
  {
   "cell_type": "code",
   "execution_count": 2578,
   "metadata": {
    "collapsed": false,
    "deletable": true,
    "editable": true
   },
   "outputs": [
    {
     "name": "stdout",
     "output_type": "stream",
     "text": [
      "Logistic regression scores: [ 0.13260042  0.1660767   0.13138407]\n",
      "CPU times: user 2.27 ms, sys: 208 µs, total: 2.47 ms\n",
      "Wall time: 620 µs\n",
      "Gradient boosting scores: [ 0.11276041  0.13102242  0.0990127 ]\n",
      "CPU times: user 353 µs, sys: 58 µs, total: 411 µs\n",
      "Wall time: 389 µs\n",
      "Stochastic gradient descent scores: [ 0.03123043  0.09451545  0.0345901 ]\n",
      "CPU times: user 1.51 ms, sys: 75 µs, total: 1.58 ms\n",
      "Wall time: 396 µs\n",
      "Random forest scores: [ 0.11880476  0.10975359  0.12008762]\n",
      "CPU times: user 1.58 ms, sys: 103 µs, total: 1.69 ms\n",
      "Wall time: 418 µs\n",
      "Support vector scores: [ 0.14376408  0.17457457  0.13550035]\n",
      "CPU times: user 385 µs, sys: 52 µs, total: 437 µs\n",
      "Wall time: 422 µs\n",
      "K-Nearest neighbors scores: [ 0.09931829  0.09260879  0.1038136 ]\n",
      "CPU times: user 377 µs, sys: 52 µs, total: 429 µs\n",
      "Wall time: 414 µs\n"
     ]
    }
   ],
   "source": [
    "run_trials(Xr1_train, Y_8_train, 'Y8', 'r', 1)"
   ]
  },
  {
   "cell_type": "code",
   "execution_count": 2579,
   "metadata": {
    "collapsed": false,
    "deletable": true,
    "editable": true
   },
   "outputs": [
    {
     "name": "stdout",
     "output_type": "stream",
     "text": [
      "Logistic regression scores: [ 0.1331645   0.16115985  0.11080937]\n",
      "CPU times: user 1.66 ms, sys: 92 µs, total: 1.75 ms\n",
      "Wall time: 431 µs\n",
      "Gradient boosting scores: [ 0.13144939  0.13373933  0.11898458]\n",
      "CPU times: user 405 µs, sys: 52 µs, total: 457 µs\n",
      "Wall time: 456 µs\n",
      "Stochastic gradient descent scores: [ 0.07449365  0.08241544  0.06808014]\n",
      "CPU times: user 1.44 ms, sys: 73 µs, total: 1.51 ms\n",
      "Wall time: 378 µs\n",
      "Random forest scores: [ 0.08460781  0.13795971  0.0724696 ]\n",
      "CPU times: user 1.47 ms, sys: 76 µs, total: 1.55 ms\n",
      "Wall time: 388 µs\n",
      "Support vector scores: [ 0.15371489  0.19415048  0.12886257]\n",
      "CPU times: user 360 µs, sys: 47 µs, total: 407 µs\n",
      "Wall time: 390 µs\n",
      "K-Nearest neighbors scores: [ 0.12169814  0.09853103  0.12400584]\n",
      "CPU times: user 352 µs, sys: 45 µs, total: 397 µs\n",
      "Wall time: 386 µs\n"
     ]
    }
   ],
   "source": [
    "run_trials(Xr2_train, Y_8_train, 'Y8', 'r', 2)"
   ]
  },
  {
   "cell_type": "code",
   "execution_count": 2580,
   "metadata": {
    "collapsed": false,
    "deletable": true,
    "editable": true
   },
   "outputs": [
    {
     "name": "stdout",
     "output_type": "stream",
     "text": [
      "Logistic regression scores: [ 0.12285257  0.12436701  0.11811534]\n",
      "CPU times: user 1.66 ms, sys: 97 µs, total: 1.76 ms\n",
      "Wall time: 438 µs\n",
      "Gradient boosting scores: [ 0.11646187  0.12390163  0.12711911]\n",
      "CPU times: user 350 µs, sys: 53 µs, total: 403 µs\n",
      "Wall time: 384 µs\n",
      "Stochastic gradient descent scores: [ 0.08754234  0.11800544  0.05678224]\n",
      "CPU times: user 1.49 ms, sys: 80 µs, total: 1.57 ms\n",
      "Wall time: 392 µs\n",
      "Random forest scores: [ 0.06338985  0.12020949  0.08747813]\n",
      "CPU times: user 3.81 ms, sys: 358 µs, total: 4.17 ms\n",
      "Wall time: 1.03 ms\n",
      "Support vector scores: [ 0.11005407  0.13235854  0.10185256]\n",
      "CPU times: user 382 µs, sys: 54 µs, total: 436 µs\n",
      "Wall time: 421 µs\n",
      "K-Nearest neighbors scores: [ 0.08903399  0.08926887  0.08524507]\n",
      "CPU times: user 342 µs, sys: 48 µs, total: 390 µs\n",
      "Wall time: 377 µs\n"
     ]
    }
   ],
   "source": [
    "run_trials(Xq1_train, Y_8_train, 'Y8', 'q', 1)"
   ]
  },
  {
   "cell_type": "code",
   "execution_count": 2581,
   "metadata": {
    "collapsed": false,
    "deletable": true,
    "editable": true
   },
   "outputs": [
    {
     "name": "stdout",
     "output_type": "stream",
     "text": [
      "Logistic regression scores: [ 0.13110732  0.14995035  0.1161441 ]\n",
      "CPU times: user 2.05 ms, sys: 152 µs, total: 2.2 ms\n",
      "Wall time: 544 µs\n",
      "Gradient boosting scores: [ 0.12635654  0.12703382  0.11655064]\n",
      "CPU times: user 382 µs, sys: 59 µs, total: 441 µs\n",
      "Wall time: 415 µs\n",
      "Stochastic gradient descent scores: [ 0.09696602  0.09493922  0.10639175]\n",
      "CPU times: user 1.49 ms, sys: 70 µs, total: 1.56 ms\n",
      "Wall time: 390 µs\n",
      "Random forest scores: [ 0.11752223  0.14361061  0.12501254]\n",
      "CPU times: user 463 µs, sys: 62 µs, total: 525 µs\n",
      "Wall time: 502 µs\n",
      "Support vector scores: [ 0.09841376  0.14472727  0.1176696 ]\n",
      "CPU times: user 375 µs, sys: 56 µs, total: 431 µs\n",
      "Wall time: 411 µs\n",
      "K-Nearest neighbors scores: [ 0.08648277  0.13299921  0.07737893]\n",
      "CPU times: user 344 µs, sys: 45 µs, total: 389 µs\n",
      "Wall time: 378 µs\n"
     ]
    }
   ],
   "source": [
    "run_trials(Xq2_train, Y_8_train, 'Y8', 'q', 2)"
   ]
  },
  {
   "cell_type": "markdown",
   "metadata": {
    "deletable": true,
    "editable": true
   },
   "source": [
    "There was significant improvement, but performance is still poor. Try reducing to 4 classes."
   ]
  },
  {
   "cell_type": "code",
   "execution_count": 2582,
   "metadata": {
    "collapsed": false,
    "deletable": true,
    "editable": true
   },
   "outputs": [],
   "source": [
    "Y_4_train = combine_targets(Y_8_train)"
   ]
  },
  {
   "cell_type": "code",
   "execution_count": 2583,
   "metadata": {
    "collapsed": false,
    "deletable": true,
    "editable": true
   },
   "outputs": [
    {
     "name": "stdout",
     "output_type": "stream",
     "text": [
      "Logistic regression scores: [ 0.23563541  0.25111301  0.2224964 ]\n",
      "CPU times: user 1.97 ms, sys: 140 µs, total: 2.11 ms\n",
      "Wall time: 523 µs\n",
      "Gradient boosting scores: [ 0.20716521  0.25029056  0.20678785]\n",
      "CPU times: user 342 µs, sys: 50 µs, total: 392 µs\n",
      "Wall time: 377 µs\n",
      "Stochastic gradient descent scores: [ 0.17460677  0.15262364  0.08893067]\n",
      "CPU times: user 2.41 ms, sys: 391 µs, total: 2.8 ms\n",
      "Wall time: 721 µs\n",
      "Random forest scores: [ 0.16761275  0.20969745  0.15616   ]\n",
      "CPU times: user 1.47 ms, sys: 73 µs, total: 1.54 ms\n",
      "Wall time: 386 µs\n",
      "Support vector scores: [ 0.21559213  0.2703882   0.26771826]\n",
      "CPU times: user 392 µs, sys: 55 µs, total: 447 µs\n",
      "Wall time: 433 µs\n",
      "K-Nearest neighbors scores: [ 0.18278903  0.1896642   0.25585625]\n",
      "CPU times: user 364 µs, sys: 30 µs, total: 394 µs\n",
      "Wall time: 400 µs\n"
     ]
    }
   ],
   "source": [
    "run_trials(Xr1_train, Y_4_train, 'Y4', 'r', 1)"
   ]
  },
  {
   "cell_type": "code",
   "execution_count": 2584,
   "metadata": {
    "collapsed": false,
    "deletable": true,
    "editable": true
   },
   "outputs": [
    {
     "name": "stdout",
     "output_type": "stream",
     "text": [
      "Logistic regression scores: [ 0.20222796  0.23905984  0.22536659]\n",
      "CPU times: user 2.71 ms, sys: 224 µs, total: 2.93 ms\n",
      "Wall time: 725 µs\n",
      "Gradient boosting scores: [ 0.20908463  0.2697674   0.25778101]\n",
      "CPU times: user 404 µs, sys: 68 µs, total: 472 µs\n",
      "Wall time: 442 µs\n",
      "Stochastic gradient descent scores: [ 0.18535824  0.1684109   0.07698484]\n",
      "CPU times: user 1.47 ms, sys: 76 µs, total: 1.54 ms\n",
      "Wall time: 385 µs\n",
      "Random forest scores: [ 0.14527565  0.21158938  0.20249892]\n",
      "CPU times: user 1.48 ms, sys: 76 µs, total: 1.55 ms\n",
      "Wall time: 386 µs\n",
      "Support vector scores: [ 0.25634416  0.29237576  0.28526802]\n",
      "CPU times: user 361 µs, sys: 54 µs, total: 415 µs\n",
      "Wall time: 396 µs\n",
      "K-Nearest neighbors scores: [ 0.21271439  0.21831194  0.26537705]\n",
      "CPU times: user 343 µs, sys: 45 µs, total: 388 µs\n",
      "Wall time: 377 µs\n"
     ]
    }
   ],
   "source": [
    "run_trials(Xr2_train, Y_4_train, 'Y4', 'r', 2)"
   ]
  },
  {
   "cell_type": "code",
   "execution_count": 2585,
   "metadata": {
    "collapsed": false,
    "deletable": true,
    "editable": true
   },
   "outputs": [
    {
     "name": "stdout",
     "output_type": "stream",
     "text": [
      "Logistic regression scores: [ 0.22875509  0.21059968  0.2064533 ]\n",
      "CPU times: user 1.58 ms, sys: 93 µs, total: 1.67 ms\n",
      "Wall time: 414 µs\n",
      "Gradient boosting scores: [ 0.23253837  0.2456146   0.24148861]\n",
      "CPU times: user 364 µs, sys: 57 µs, total: 421 µs\n",
      "Wall time: 398 µs\n",
      "Stochastic gradient descent scores: [ 0.17334379  0.13533528  0.20660862]\n",
      "CPU times: user 1.99 ms, sys: 230 µs, total: 2.22 ms\n",
      "Wall time: 632 µs\n",
      "Random forest scores: [ 0.21741817  0.19611712  0.18583905]\n",
      "CPU times: user 1.52 ms, sys: 86 µs, total: 1.61 ms\n",
      "Wall time: 403 µs\n",
      "Support vector scores: [ 0.21412821  0.20703063  0.22318892]\n",
      "CPU times: user 449 µs, sys: 63 µs, total: 512 µs\n",
      "Wall time: 492 µs\n",
      "K-Nearest neighbors scores: [ 0.14921896  0.1517885   0.1696706 ]\n",
      "CPU times: user 348 µs, sys: 50 µs, total: 398 µs\n",
      "Wall time: 384 µs\n"
     ]
    }
   ],
   "source": [
    "run_trials(Xq1_train, Y_4_train, 'Y4', 'q', 1)"
   ]
  },
  {
   "cell_type": "code",
   "execution_count": 2586,
   "metadata": {
    "collapsed": false,
    "deletable": true,
    "editable": true
   },
   "outputs": [
    {
     "name": "stdout",
     "output_type": "stream",
     "text": [
      "Logistic regression scores: [ 0.20674856  0.23083207  0.19397098]\n",
      "CPU times: user 1.66 ms, sys: 98 µs, total: 1.75 ms\n",
      "Wall time: 440 µs\n",
      "Gradient boosting scores: [ 0.22580847  0.23778242  0.25599441]\n",
      "CPU times: user 347 µs, sys: 59 µs, total: 406 µs\n",
      "Wall time: 383 µs\n",
      "Stochastic gradient descent scores: [ 0.18619364  0.16529271  0.14392036]\n",
      "CPU times: user 1.54 ms, sys: 97 µs, total: 1.64 ms\n",
      "Wall time: 409 µs\n",
      "Random forest scores: [ 0.21750841  0.21334266  0.28876438]\n",
      "CPU times: user 1.53 ms, sys: 86 µs, total: 1.61 ms\n",
      "Wall time: 399 µs\n",
      "Support vector scores: [ 0.19787674  0.20729458  0.22674298]\n",
      "CPU times: user 426 µs, sys: 82 µs, total: 508 µs\n",
      "Wall time: 465 µs\n",
      "K-Nearest neighbors scores: [ 0.16328762  0.17769436  0.17508301]\n",
      "CPU times: user 375 µs, sys: 60 µs, total: 435 µs\n",
      "Wall time: 420 µs\n"
     ]
    }
   ],
   "source": [
    "run_trials(Xq2_train, Y_4_train, 'Y4', 'q', 2)"
   ]
  },
  {
   "cell_type": "code",
   "execution_count": 2587,
   "metadata": {
    "collapsed": true,
    "deletable": true,
    "editable": true
   },
   "outputs": [],
   "source": [
    "Y_2_train = combine_targets(Y_4_train)"
   ]
  },
  {
   "cell_type": "code",
   "execution_count": 2588,
   "metadata": {
    "collapsed": false,
    "deletable": true,
    "editable": true
   },
   "outputs": [
    {
     "name": "stdout",
     "output_type": "stream",
     "text": [
      "Logistic regression scores: [ 0.36026406  0.37916355  0.43730893]\n",
      "CPU times: user 2.17 ms, sys: 233 µs, total: 2.4 ms\n",
      "Wall time: 604 µs\n",
      "Gradient boosting scores: [ 0.3856153   0.36927444  0.37688705]\n",
      "CPU times: user 393 µs, sys: 71 µs, total: 464 µs\n",
      "Wall time: 436 µs\n",
      "Stochastic gradient descent scores: [ 0.16868013  0.39453213  0.26121307]\n",
      "CPU times: user 1.95 ms, sys: 139 µs, total: 2.09 ms\n",
      "Wall time: 516 µs\n",
      "Random forest scores: [ 0.29013599  0.25193424  0.30926228]\n",
      "CPU times: user 2.28 ms, sys: 136 µs, total: 2.42 ms\n",
      "Wall time: 597 µs\n",
      "Support vector scores: [ 0.36152436  0.41441393  0.44240263]\n",
      "CPU times: user 370 µs, sys: 53 µs, total: 423 µs\n",
      "Wall time: 401 µs\n",
      "K-Nearest neighbors scores: [ 0.29991454  0.28432669  0.36990158]\n",
      "CPU times: user 348 µs, sys: 48 µs, total: 396 µs\n",
      "Wall time: 383 µs\n"
     ]
    }
   ],
   "source": [
    "run_trials(Xr1_train, Y_2_train, 'Y2', 'r', 1)"
   ]
  },
  {
   "cell_type": "code",
   "execution_count": 2589,
   "metadata": {
    "collapsed": false,
    "deletable": true,
    "editable": true
   },
   "outputs": [
    {
     "name": "stdout",
     "output_type": "stream",
     "text": [
      "Logistic regression scores: [ 0.34931544  0.39323577  0.42793341]\n",
      "CPU times: user 1.56 ms, sys: 76 µs, total: 1.63 ms\n",
      "Wall time: 407 µs\n",
      "Gradient boosting scores: [ 0.41292098  0.35804521  0.39988088]\n",
      "CPU times: user 358 µs, sys: 61 µs, total: 419 µs\n",
      "Wall time: 396 µs\n",
      "Stochastic gradient descent scores: [ 0.29012816  0.27385122  0.28566281]\n",
      "CPU times: user 1.47 ms, sys: 76 µs, total: 1.54 ms\n",
      "Wall time: 387 µs\n",
      "Random forest scores: [ 0.29830983  0.29446934  0.3046328 ]\n",
      "CPU times: user 1.47 ms, sys: 74 µs, total: 1.54 ms\n",
      "Wall time: 387 µs\n",
      "Support vector scores: [ 0.38367017  0.40043756  0.46824085]\n",
      "CPU times: user 443 µs, sys: 62 µs, total: 505 µs\n",
      "Wall time: 486 µs\n",
      "K-Nearest neighbors scores: [ 0.29823479  0.30261261  0.39152491]\n",
      "CPU times: user 361 µs, sys: 44 µs, total: 405 µs\n",
      "Wall time: 397 µs\n"
     ]
    }
   ],
   "source": [
    "run_trials(Xr2_train, Y_2_train, 'Y2', 'r', 2)"
   ]
  },
  {
   "cell_type": "code",
   "execution_count": 2590,
   "metadata": {
    "collapsed": false,
    "deletable": true,
    "editable": true
   },
   "outputs": [
    {
     "name": "stdout",
     "output_type": "stream",
     "text": [
      "Logistic regression scores: [ 0.28430494  0.29098573  0.36432639]\n",
      "CPU times: user 2.3 ms, sys: 150 µs, total: 2.45 ms\n",
      "Wall time: 610 µs\n",
      "Gradient boosting scores: [ 0.38960318  0.37231726  0.40394681]\n",
      "CPU times: user 380 µs, sys: 59 µs, total: 439 µs\n",
      "Wall time: 419 µs\n",
      "Stochastic gradient descent scores: [ 0.26526624  0.16341912  0.27471124]\n",
      "CPU times: user 1.51 ms, sys: 69 µs, total: 1.57 ms\n",
      "Wall time: 394 µs\n",
      "Random forest scores: [ 0.20807595  0.24763247  0.34491872]\n",
      "CPU times: user 1.48 ms, sys: 81 µs, total: 1.56 ms\n",
      "Wall time: 386 µs\n",
      "Support vector scores: [ 0.27111051  0.31993421  0.3834085 ]\n",
      "CPU times: user 370 µs, sys: 55 µs, total: 425 µs\n",
      "Wall time: 408 µs\n",
      "K-Nearest neighbors scores: [ 0.24410859  0.23626202  0.28899397]\n",
      "CPU times: user 347 µs, sys: 54 µs, total: 401 µs\n",
      "Wall time: 387 µs\n"
     ]
    }
   ],
   "source": [
    "run_trials(Xq1_train, Y_2_train, 'Y2', 'q', 1)"
   ]
  },
  {
   "cell_type": "code",
   "execution_count": 2591,
   "metadata": {
    "collapsed": false,
    "deletable": true,
    "editable": true
   },
   "outputs": [
    {
     "name": "stdout",
     "output_type": "stream",
     "text": [
      "Logistic regression scores: [ 0.28799796  0.30983475  0.36779217]\n",
      "CPU times: user 1.54 ms, sys: 91 µs, total: 1.63 ms\n",
      "Wall time: 403 µs\n",
      "Gradient boosting scores: [ 0.41601994  0.36323753  0.40477155]\n",
      "CPU times: user 378 µs, sys: 55 µs, total: 433 µs\n",
      "Wall time: 415 µs\n",
      "Stochastic gradient descent scores: [ 0.15134639  0.24628602  0.31489218]\n",
      "CPU times: user 1.46 ms, sys: 74 µs, total: 1.54 ms\n",
      "Wall time: 385 µs\n",
      "Random forest scores: [ 0.31079395  0.31525839  0.30815966]\n",
      "CPU times: user 1.5 ms, sys: 80 µs, total: 1.58 ms\n",
      "Wall time: 395 µs\n",
      "Support vector scores: [ 0.25930145  0.30738522  0.38460554]\n",
      "CPU times: user 361 µs, sys: 59 µs, total: 420 µs\n",
      "Wall time: 398 µs\n",
      "K-Nearest neighbors scores: [ 0.24991363  0.28511431  0.28048478]\n",
      "CPU times: user 365 µs, sys: 43 µs, total: 408 µs\n",
      "Wall time: 401 µs\n"
     ]
    }
   ],
   "source": [
    "run_trials(Xq2_train, Y_2_train, 'Y2', 'q', 2)"
   ]
  },
  {
   "cell_type": "code",
   "execution_count": 2592,
   "metadata": {
    "collapsed": false,
    "deletable": true,
    "editable": true
   },
   "outputs": [
    {
     "data": {
      "text/html": [
       "<div>\n",
       "<table border=\"1\" class=\"dataframe\">\n",
       "  <thead>\n",
       "    <tr style=\"text-align: right;\">\n",
       "      <th></th>\n",
       "      <th></th>\n",
       "      <th></th>\n",
       "      <th>lrc</th>\n",
       "      <th>gbc</th>\n",
       "      <th>sgd</th>\n",
       "      <th>rfc</th>\n",
       "      <th>svc</th>\n",
       "      <th>knn</th>\n",
       "    </tr>\n",
       "  </thead>\n",
       "  <tbody>\n",
       "    <tr>\n",
       "      <th rowspan=\"4\" valign=\"top\">Y16</th>\n",
       "      <th rowspan=\"2\" valign=\"top\">r</th>\n",
       "      <th>1</th>\n",
       "      <td>0.0725585</td>\n",
       "      <td>0.057604</td>\n",
       "      <td>0.033141</td>\n",
       "      <td>0.0394429</td>\n",
       "      <td>0.0699677</td>\n",
       "      <td>0.0618995</td>\n",
       "    </tr>\n",
       "    <tr>\n",
       "      <th>2</th>\n",
       "      <td>0.0716981</td>\n",
       "      <td>0.0613892</td>\n",
       "      <td>0.0307326</td>\n",
       "      <td>0.0703731</td>\n",
       "      <td>0.0798698</td>\n",
       "      <td>0.0490085</td>\n",
       "    </tr>\n",
       "    <tr>\n",
       "      <th rowspan=\"2\" valign=\"top\">q</th>\n",
       "      <th>1</th>\n",
       "      <td>0.0596583</td>\n",
       "      <td>0.0601649</td>\n",
       "      <td>0.048037</td>\n",
       "      <td>0.0459615</td>\n",
       "      <td>0.0570555</td>\n",
       "      <td>0.0546266</td>\n",
       "    </tr>\n",
       "    <tr>\n",
       "      <th>2</th>\n",
       "      <td>0.058632</td>\n",
       "      <td>0.0696345</td>\n",
       "      <td>0.0408699</td>\n",
       "      <td>0.0595183</td>\n",
       "      <td>0.0544386</td>\n",
       "      <td>0.0538136</td>\n",
       "    </tr>\n",
       "    <tr>\n",
       "      <th rowspan=\"4\" valign=\"top\">Y8</th>\n",
       "      <th rowspan=\"2\" valign=\"top\">r</th>\n",
       "      <th>1</th>\n",
       "      <td>0.143354</td>\n",
       "      <td>0.114265</td>\n",
       "      <td>0.0534453</td>\n",
       "      <td>0.116215</td>\n",
       "      <td>0.15128</td>\n",
       "      <td>0.0985802</td>\n",
       "    </tr>\n",
       "    <tr>\n",
       "      <th>2</th>\n",
       "      <td>0.135045</td>\n",
       "      <td>0.128058</td>\n",
       "      <td>0.0749964</td>\n",
       "      <td>0.0983457</td>\n",
       "      <td>0.158909</td>\n",
       "      <td>0.114745</td>\n",
       "    </tr>\n",
       "    <tr>\n",
       "      <th rowspan=\"2\" valign=\"top\">q</th>\n",
       "      <th>1</th>\n",
       "      <td>0.121778</td>\n",
       "      <td>0.122494</td>\n",
       "      <td>0.0874433</td>\n",
       "      <td>0.0903592</td>\n",
       "      <td>0.114755</td>\n",
       "      <td>0.0878493</td>\n",
       "    </tr>\n",
       "    <tr>\n",
       "      <th>2</th>\n",
       "      <td>0.132401</td>\n",
       "      <td>0.123314</td>\n",
       "      <td>0.0994323</td>\n",
       "      <td>0.128715</td>\n",
       "      <td>0.12027</td>\n",
       "      <td>0.0989536</td>\n",
       "    </tr>\n",
       "    <tr>\n",
       "      <th rowspan=\"4\" valign=\"top\">Y4</th>\n",
       "      <th rowspan=\"2\" valign=\"top\">r</th>\n",
       "      <th>1</th>\n",
       "      <td>0.236415</td>\n",
       "      <td>0.221415</td>\n",
       "      <td>0.13872</td>\n",
       "      <td>0.177823</td>\n",
       "      <td>0.251233</td>\n",
       "      <td>0.209436</td>\n",
       "    </tr>\n",
       "    <tr>\n",
       "      <th>2</th>\n",
       "      <td>0.222218</td>\n",
       "      <td>0.245544</td>\n",
       "      <td>0.143585</td>\n",
       "      <td>0.186455</td>\n",
       "      <td>0.277996</td>\n",
       "      <td>0.232134</td>\n",
       "    </tr>\n",
       "    <tr>\n",
       "      <th rowspan=\"2\" valign=\"top\">q</th>\n",
       "      <th>1</th>\n",
       "      <td>0.215269</td>\n",
       "      <td>0.239881</td>\n",
       "      <td>0.171763</td>\n",
       "      <td>0.199791</td>\n",
       "      <td>0.214783</td>\n",
       "      <td>0.156893</td>\n",
       "    </tr>\n",
       "    <tr>\n",
       "      <th>2</th>\n",
       "      <td>0.210517</td>\n",
       "      <td>0.239862</td>\n",
       "      <td>0.165136</td>\n",
       "      <td>0.239872</td>\n",
       "      <td>0.210638</td>\n",
       "      <td>0.172022</td>\n",
       "    </tr>\n",
       "    <tr>\n",
       "      <th rowspan=\"4\" valign=\"top\">Y2</th>\n",
       "      <th rowspan=\"2\" valign=\"top\">r</th>\n",
       "      <th>1</th>\n",
       "      <td>0.392246</td>\n",
       "      <td>0.377259</td>\n",
       "      <td>0.274808</td>\n",
       "      <td>0.283778</td>\n",
       "      <td>0.406114</td>\n",
       "      <td>0.318048</td>\n",
       "    </tr>\n",
       "    <tr>\n",
       "      <th>2</th>\n",
       "      <td>0.390162</td>\n",
       "      <td>0.390282</td>\n",
       "      <td>0.283214</td>\n",
       "      <td>0.299137</td>\n",
       "      <td>0.41745</td>\n",
       "      <td>0.330791</td>\n",
       "    </tr>\n",
       "    <tr>\n",
       "      <th rowspan=\"2\" valign=\"top\">q</th>\n",
       "      <th>1</th>\n",
       "      <td>0.313206</td>\n",
       "      <td>0.388622</td>\n",
       "      <td>0.234466</td>\n",
       "      <td>0.266876</td>\n",
       "      <td>0.324818</td>\n",
       "      <td>0.256455</td>\n",
       "    </tr>\n",
       "    <tr>\n",
       "      <th>2</th>\n",
       "      <td>0.321875</td>\n",
       "      <td>0.394676</td>\n",
       "      <td>0.237508</td>\n",
       "      <td>0.311404</td>\n",
       "      <td>0.317097</td>\n",
       "      <td>0.271838</td>\n",
       "    </tr>\n",
       "  </tbody>\n",
       "</table>\n",
       "</div>"
      ],
      "text/plain": [
       "               lrc        gbc        sgd        rfc        svc        knn\n",
       "Y16 r 1  0.0725585   0.057604   0.033141  0.0394429  0.0699677  0.0618995\n",
       "      2  0.0716981  0.0613892  0.0307326  0.0703731  0.0798698  0.0490085\n",
       "    q 1  0.0596583  0.0601649   0.048037  0.0459615  0.0570555  0.0546266\n",
       "      2   0.058632  0.0696345  0.0408699  0.0595183  0.0544386  0.0538136\n",
       "Y8  r 1   0.143354   0.114265  0.0534453   0.116215    0.15128  0.0985802\n",
       "      2   0.135045   0.128058  0.0749964  0.0983457   0.158909   0.114745\n",
       "    q 1   0.121778   0.122494  0.0874433  0.0903592   0.114755  0.0878493\n",
       "      2   0.132401   0.123314  0.0994323   0.128715    0.12027  0.0989536\n",
       "Y4  r 1   0.236415   0.221415    0.13872   0.177823   0.251233   0.209436\n",
       "      2   0.222218   0.245544   0.143585   0.186455   0.277996   0.232134\n",
       "    q 1   0.215269   0.239881   0.171763   0.199791   0.214783   0.156893\n",
       "      2   0.210517   0.239862   0.165136   0.239872   0.210638   0.172022\n",
       "Y2  r 1   0.392246   0.377259   0.274808   0.283778   0.406114   0.318048\n",
       "      2   0.390162   0.390282   0.283214   0.299137    0.41745   0.330791\n",
       "    q 1   0.313206   0.388622   0.234466   0.266876   0.324818   0.256455\n",
       "      2   0.321875   0.394676   0.237508   0.311404   0.317097   0.271838"
      ]
     },
     "execution_count": 2592,
     "metadata": {},
     "output_type": "execute_result"
    }
   ],
   "source": [
    "results"
   ]
  },
  {
   "cell_type": "markdown",
   "metadata": {
    "deletable": true,
    "editable": true
   },
   "source": [
    "The data cannot perform better than reasonably well on binary classification, where robust scaling clearly outperforms quantile transformation on the three highest-scoring algorithms — support vector, logistic regression amd gradient boosting. The second feature set performs better, but would performance improve by dropping the most extreme outliers?"
   ]
  },
  {
   "cell_type": "code",
   "execution_count": 2593,
   "metadata": {
    "collapsed": false,
    "deletable": true,
    "editable": true
   },
   "outputs": [],
   "source": [
    "train_xx = list(set(xx_outliers) & set(list(data_train.index)))\n",
    "test_xx = list(set(xx_outliers) & set(list(data_test.index)))"
   ]
  },
  {
   "cell_type": "code",
   "execution_count": 2594,
   "metadata": {
    "collapsed": false,
    "deletable": true,
    "editable": true
   },
   "outputs": [],
   "source": [
    "Xr1_noxx_train = Xr1_train.drop(train_xx)\n",
    "Xr2_noxx_train = Xr2_train.drop(train_xx)\n",
    "Y_2_noxx_train = Y_2_train.drop(train_xx)"
   ]
  },
  {
   "cell_type": "code",
   "execution_count": 2595,
   "metadata": {
    "collapsed": false,
    "deletable": true,
    "editable": true
   },
   "outputs": [],
   "source": [
    "index2 = pd.MultiIndex.from_product([['full', 'no_xx'], [1, 2]])\n",
    "results2 = pd.DataFrame(index=index2, columns=names)\n",
    "\n",
    "results2.loc['full', 1] = results.loc['Y2', 'r', 1]\n",
    "results2.loc['full', 2] = results.loc['Y2', 'r', 2]\n",
    "\n",
    "\n",
    "def run_trials2(X, Y, selected, feature_set):\n",
    "    for name, clf in zip(names, classifiers):\n",
    "        score = np.mean(cross_val_score(clf, X, Y, scoring=matthews))\n",
    "        results2.loc[selected, feature_set][name] = score\n",
    "        %time print('{} average score: {}'.format(full_names[name], score))"
   ]
  },
  {
   "cell_type": "code",
   "execution_count": 2596,
   "metadata": {
    "collapsed": false,
    "deletable": true,
    "editable": true
   },
   "outputs": [
    {
     "name": "stdout",
     "output_type": "stream",
     "text": [
      "Logistic regression average score: 0.3942212322036664\n",
      "CPU times: user 340 µs, sys: 56 µs, total: 396 µs\n",
      "Wall time: 98.2 µs\n",
      "Gradient boosting average score: 0.35224873481197827\n",
      "CPU times: user 89 µs, sys: 58 µs, total: 147 µs\n",
      "Wall time: 121 µs\n",
      "Stochastic gradient descent average score: 0.29240933451558626\n",
      "CPU times: user 346 µs, sys: 56 µs, total: 402 µs\n",
      "Wall time: 98.9 µs\n",
      "Random forest average score: 0.2598515830859274\n",
      "CPU times: user 394 µs, sys: 64 µs, total: 458 µs\n",
      "Wall time: 112 µs\n",
      "Support vector average score: 0.40666229487410627\n",
      "CPU times: user 264 µs, sys: 123 µs, total: 387 µs\n",
      "Wall time: 327 µs\n",
      "K-Nearest neighbors average score: 0.3272263847455728\n",
      "CPU times: user 72 µs, sys: 54 µs, total: 126 µs\n",
      "Wall time: 118 µs\n"
     ]
    }
   ],
   "source": [
    "run_trials2(Xr1_noxx_train, Y_2_noxx_train, 'no_xx', 1)"
   ]
  },
  {
   "cell_type": "code",
   "execution_count": 2597,
   "metadata": {
    "collapsed": false,
    "deletable": true,
    "editable": true
   },
   "outputs": [
    {
     "name": "stdout",
     "output_type": "stream",
     "text": [
      "Logistic regression average score: 0.4009960627464055\n",
      "CPU times: user 397 µs, sys: 73 µs, total: 470 µs\n",
      "Wall time: 115 µs\n",
      "Gradient boosting average score: 0.37392772275496\n",
      "CPU times: user 79 µs, sys: 48 µs, total: 127 µs\n",
      "Wall time: 113 µs\n",
      "Stochastic gradient descent average score: 0.2946209406402854\n",
      "CPU times: user 346 µs, sys: 61 µs, total: 407 µs\n",
      "Wall time: 100 µs\n",
      "Random forest average score: 0.2530965502138075\n",
      "CPU times: user 1.03 ms, sys: 197 µs, total: 1.22 ms\n",
      "Wall time: 303 µs\n",
      "Support vector average score: 0.41028250112015363\n",
      "CPU times: user 105 µs, sys: 155 µs, total: 260 µs\n",
      "Wall time: 192 µs\n",
      "K-Nearest neighbors average score: 0.3233397434463902\n",
      "CPU times: user 68 µs, sys: 45 µs, total: 113 µs\n",
      "Wall time: 107 µs\n"
     ]
    }
   ],
   "source": [
    "run_trials2(Xr2_noxx_train, Y_2_noxx_train, 'no_xx', 2)"
   ]
  },
  {
   "cell_type": "code",
   "execution_count": 2598,
   "metadata": {
    "collapsed": false,
    "deletable": true,
    "editable": true
   },
   "outputs": [
    {
     "data": {
      "text/html": [
       "<div>\n",
       "<table border=\"1\" class=\"dataframe\">\n",
       "  <thead>\n",
       "    <tr style=\"text-align: right;\">\n",
       "      <th></th>\n",
       "      <th></th>\n",
       "      <th>lrc</th>\n",
       "      <th>gbc</th>\n",
       "      <th>sgd</th>\n",
       "      <th>rfc</th>\n",
       "      <th>svc</th>\n",
       "      <th>knn</th>\n",
       "    </tr>\n",
       "  </thead>\n",
       "  <tbody>\n",
       "    <tr>\n",
       "      <th rowspan=\"2\" valign=\"top\">full</th>\n",
       "      <th>1</th>\n",
       "      <td>0.392246</td>\n",
       "      <td>0.377259</td>\n",
       "      <td>0.274808</td>\n",
       "      <td>0.283778</td>\n",
       "      <td>0.406114</td>\n",
       "      <td>0.318048</td>\n",
       "    </tr>\n",
       "    <tr>\n",
       "      <th>2</th>\n",
       "      <td>0.390162</td>\n",
       "      <td>0.390282</td>\n",
       "      <td>0.283214</td>\n",
       "      <td>0.299137</td>\n",
       "      <td>0.41745</td>\n",
       "      <td>0.330791</td>\n",
       "    </tr>\n",
       "    <tr>\n",
       "      <th rowspan=\"2\" valign=\"top\">no_xx</th>\n",
       "      <th>1</th>\n",
       "      <td>0.394221</td>\n",
       "      <td>0.352249</td>\n",
       "      <td>0.292409</td>\n",
       "      <td>0.259852</td>\n",
       "      <td>0.406662</td>\n",
       "      <td>0.327226</td>\n",
       "    </tr>\n",
       "    <tr>\n",
       "      <th>2</th>\n",
       "      <td>0.400996</td>\n",
       "      <td>0.373928</td>\n",
       "      <td>0.294621</td>\n",
       "      <td>0.253097</td>\n",
       "      <td>0.410283</td>\n",
       "      <td>0.32334</td>\n",
       "    </tr>\n",
       "  </tbody>\n",
       "</table>\n",
       "</div>"
      ],
      "text/plain": [
       "              lrc       gbc       sgd       rfc       svc       knn\n",
       "full  1  0.392246  0.377259  0.274808  0.283778  0.406114  0.318048\n",
       "      2  0.390162  0.390282  0.283214  0.299137   0.41745  0.330791\n",
       "no_xx 1  0.394221  0.352249  0.292409  0.259852  0.406662  0.327226\n",
       "      2  0.400996  0.373928  0.294621  0.253097  0.410283   0.32334"
      ]
     },
     "execution_count": 2598,
     "metadata": {},
     "output_type": "execute_result"
    }
   ],
   "source": [
    "results2"
   ]
  },
  {
   "cell_type": "markdown",
   "metadata": {
    "deletable": true,
    "editable": true
   },
   "source": [
    "The second feature set is performing better pretty much cross the board, but the choice between the full dataset or the dataset without the most extreme outliers is not clear. See how the top three models perform on the test set."
   ]
  },
  {
   "cell_type": "code",
   "execution_count": 2599,
   "metadata": {
    "collapsed": false,
    "deletable": true,
    "editable": true
   },
   "outputs": [],
   "source": [
    "r_test = pd.DataFrame(robust.fit_transform(data_test.drop(['urban_inf'], axis=1)),\n",
    "                       index=data_test.index, columns=data_test.drop(['urban_inf'], axis=1).columns)\n",
    "r_test['urban_inf'] = data_test['urban_inf']\n",
    "\n",
    "Xr1_test = r_test.loc[:, r_features]\n",
    "Xr1_test = pd.get_dummies(Xr1_test, prefix='urb_inf_', columns=['urban_inf'])\n",
    "\n",
    "Xr2_test = r_test.loc[:, features2]\n",
    "Xr2_test = pd.get_dummies(Xr2_test, prefix='urb_inf_', columns=['urban_inf'])\n",
    "\n",
    "Xr1_noxx_test = r_test.loc[:, r_features].drop(test_xx)\n",
    "Xr1_noxx_test = pd.get_dummies(Xr1_noxx_test, prefix='urb_inf_', columns=['urban_inf'])\n",
    "\n",
    "Xr2_noxx_test = r_test.loc[:, features2].drop(test_xx)\n",
    "Xr2_noxx_test = pd.get_dummies(Xr2_noxx_test, prefix='urb_inf_', columns=['urban_inf'])\n",
    "\n",
    "Y_16_test = targets_test.apply(lambda x: '0-1.9' if x == '<2' else x)\n",
    "Y_16_test = Y_16_test.apply(lambda x: '30-31.9' if x == '30+' else x)\n",
    "Y_8_test = combine_targets(Y_16_test)\n",
    "Y_4_test = combine_targets(Y_8_test)\n",
    "Y_2_test = combine_targets(Y_4_test)\n",
    "\n",
    "Y_2_noxx_test = Y_2_test.drop(test_xx)"
   ]
  },
  {
   "cell_type": "code",
   "execution_count": 2600,
   "metadata": {
    "collapsed": true,
    "deletable": true,
    "editable": true
   },
   "outputs": [],
   "source": [
    "index3 = pd.MultiIndex.from_product([['full', 'no_xx'], [1, 2]])\n",
    "names3 = ['lrc', 'gbc', 'svc']\n",
    "results3 = pd.DataFrame(index=index3, columns=names3)\n",
    "\n",
    "def run_trials3(X_train, X_test, Y_train, Y_test, selected, feature_set):\n",
    "    for name, clf in zip(names3, classifiers):\n",
    "        clf.fit(X_train, Y_train)\n",
    "        Y_pred = clf.predict(X_test)\n",
    "        score = matthews_corrcoef(Y_test, Y_pred)\n",
    "        results3.loc[selected, feature_set][name] = score\n",
    "        %time print('{} average score: {}'.format(full_names[name], score))"
   ]
  },
  {
   "cell_type": "code",
   "execution_count": 2601,
   "metadata": {
    "collapsed": false,
    "deletable": true,
    "editable": true
   },
   "outputs": [
    {
     "name": "stdout",
     "output_type": "stream",
     "text": [
      "Logistic regression average score: 0.39095798595035863\n",
      "CPU times: user 452 µs, sys: 90 µs, total: 542 µs\n",
      "Wall time: 130 µs\n",
      "Gradient boosting average score: 0.3961441358805719\n",
      "CPU times: user 87 µs, sys: 61 µs, total: 148 µs\n",
      "Wall time: 123 µs\n",
      "Support vector average score: 0.16997643041766822\n",
      "CPU times: user 313 µs, sys: 53 µs, total: 366 µs\n",
      "Wall time: 93 µs\n"
     ]
    }
   ],
   "source": [
    "run_trials3(Xr1_train, Xr1_test, Y_2_train, Y_2_test, 'full', 1)"
   ]
  },
  {
   "cell_type": "code",
   "execution_count": 2602,
   "metadata": {
    "collapsed": false,
    "deletable": true,
    "editable": true
   },
   "outputs": [
    {
     "name": "stdout",
     "output_type": "stream",
     "text": [
      "Logistic regression average score: 0.400256689466486\n",
      "CPU times: user 691 µs, sys: 201 µs, total: 892 µs\n",
      "Wall time: 280 µs\n",
      "Gradient boosting average score: 0.3936470093012658\n",
      "CPU times: user 85 µs, sys: 53 µs, total: 138 µs\n",
      "Wall time: 118 µs\n",
      "Support vector average score: 0.3216365018339703\n",
      "CPU times: user 347 µs, sys: 56 µs, total: 403 µs\n",
      "Wall time: 98 µs\n"
     ]
    }
   ],
   "source": [
    "run_trials3(Xr2_train, Xr2_test, Y_2_train, Y_2_test, 'full', 2)"
   ]
  },
  {
   "cell_type": "code",
   "execution_count": 2603,
   "metadata": {
    "collapsed": false,
    "deletable": true,
    "editable": true
   },
   "outputs": [
    {
     "name": "stdout",
     "output_type": "stream",
     "text": [
      "Logistic regression average score: 0.3961185040494174\n",
      "CPU times: user 692 µs, sys: 142 µs, total: 834 µs\n",
      "Wall time: 207 µs\n",
      "Gradient boosting average score: 0.3869340873889302\n",
      "CPU times: user 80 µs, sys: 51 µs, total: 131 µs\n",
      "Wall time: 117 µs\n",
      "Support vector average score: 0.33322792821290387\n",
      "CPU times: user 296 µs, sys: 61 µs, total: 357 µs\n",
      "Wall time: 91.1 µs\n"
     ]
    }
   ],
   "source": [
    "run_trials3(Xr1_noxx_train, Xr1_noxx_test, Y_2_noxx_train, Y_2_noxx_test, 'no_xx', 1)"
   ]
  },
  {
   "cell_type": "code",
   "execution_count": 2604,
   "metadata": {
    "collapsed": false,
    "deletable": true,
    "editable": true
   },
   "outputs": [
    {
     "name": "stdout",
     "output_type": "stream",
     "text": [
      "Logistic regression average score: 0.4067546628816473\n",
      "CPU times: user 532 µs, sys: 156 µs, total: 688 µs\n",
      "Wall time: 191 µs\n",
      "Gradient boosting average score: 0.3775542071827007\n",
      "CPU times: user 77 µs, sys: 54 µs, total: 131 µs\n",
      "Wall time: 116 µs\n",
      "Support vector average score: 0.3045252411825769\n",
      "CPU times: user 281 µs, sys: 54 µs, total: 335 µs\n",
      "Wall time: 84.9 µs\n"
     ]
    }
   ],
   "source": [
    "run_trials3(Xr2_noxx_train, Xr2_noxx_test, Y_2_noxx_train, Y_2_noxx_test, 'no_xx', 2)"
   ]
  },
  {
   "cell_type": "code",
   "execution_count": 2605,
   "metadata": {
    "collapsed": false,
    "deletable": true,
    "editable": true
   },
   "outputs": [
    {
     "data": {
      "text/html": [
       "<div>\n",
       "<table border=\"1\" class=\"dataframe\">\n",
       "  <thead>\n",
       "    <tr style=\"text-align: right;\">\n",
       "      <th></th>\n",
       "      <th></th>\n",
       "      <th>lrc</th>\n",
       "      <th>gbc</th>\n",
       "      <th>svc</th>\n",
       "    </tr>\n",
       "  </thead>\n",
       "  <tbody>\n",
       "    <tr>\n",
       "      <th rowspan=\"2\" valign=\"top\">full</th>\n",
       "      <th>1</th>\n",
       "      <td>0.390958</td>\n",
       "      <td>0.396144</td>\n",
       "      <td>0.169976</td>\n",
       "    </tr>\n",
       "    <tr>\n",
       "      <th>2</th>\n",
       "      <td>0.400257</td>\n",
       "      <td>0.393647</td>\n",
       "      <td>0.321637</td>\n",
       "    </tr>\n",
       "    <tr>\n",
       "      <th rowspan=\"2\" valign=\"top\">no_xx</th>\n",
       "      <th>1</th>\n",
       "      <td>0.396119</td>\n",
       "      <td>0.386934</td>\n",
       "      <td>0.333228</td>\n",
       "    </tr>\n",
       "    <tr>\n",
       "      <th>2</th>\n",
       "      <td>0.406755</td>\n",
       "      <td>0.377554</td>\n",
       "      <td>0.304525</td>\n",
       "    </tr>\n",
       "  </tbody>\n",
       "</table>\n",
       "</div>"
      ],
      "text/plain": [
       "              lrc       gbc       svc\n",
       "full  1  0.390958  0.396144  0.169976\n",
       "      2  0.400257  0.393647  0.321637\n",
       "no_xx 1  0.396119  0.386934  0.333228\n",
       "      2  0.406755  0.377554  0.304525"
      ]
     },
     "execution_count": 2605,
     "metadata": {},
     "output_type": "execute_result"
    }
   ],
   "source": [
    "results3"
   ]
  },
  {
   "cell_type": "markdown",
   "metadata": {
    "deletable": true,
    "editable": true
   },
   "source": [
    "The full feature set is comparable to and more consistent than the one with the most extreme outliers removed, and handles all the samples, so it is to be preferred. The support vector classifier seems to have overfit the training data. Logistic regression and gradient boosting are very close, but logistic regression is more interpretable, so that is preferred. The second feature set has a very slight edge."
   ]
  },
  {
   "cell_type": "code",
   "execution_count": 2606,
   "metadata": {
    "collapsed": false,
    "deletable": true,
    "editable": true
   },
   "outputs": [],
   "source": [
    "from sklearn.model_selection import GridSearchCV"
   ]
  },
  {
   "cell_type": "code",
   "execution_count": 2651,
   "metadata": {
    "collapsed": false,
    "deletable": true,
    "editable": true
   },
   "outputs": [
    {
     "data": {
      "text/plain": [
       "GridSearchCV(cv=None, error_score='raise',\n",
       "       estimator=LogisticRegression(C=1.0, class_weight='balanced', dual=False,\n",
       "          fit_intercept=True, intercept_scaling=1, max_iter=100,\n",
       "          multi_class='ovr', n_jobs=1, penalty='l2', random_state=None,\n",
       "          solver='liblinear', tol=0.0001, verbose=0, warm_start=False),\n",
       "       fit_params=None, iid=True, n_jobs=1,\n",
       "       param_grid=[{'penalty': ['l1', 'l2'], 'tol': [0.0001, 0.001], 'C': [0.01, 0.1, 1, 2, 3, 4, 5], 'solver': ['liblinear'], 'multi_class': ['ovr']}, {'penalty': ['l2'], 'tol': [0.0001, 0.001], 'C': [0.01, 0.1, 1, 2, 3, 4, 5], 'solver': ['newton-cg', 'lbfgs'], 'multi_class': ['ovr', 'multinomial']}],\n",
       "       pre_dispatch='2*n_jobs', refit=True, return_train_score=True,\n",
       "       scoring=None, verbose=0)"
      ]
     },
     "execution_count": 2651,
     "metadata": {},
     "output_type": "execute_result"
    }
   ],
   "source": [
    "params = [{ 'penalty': ['l1', 'l2'], 'tol': [1e-4, 1e-3], 'C': [1e-2, 1e-1, 1, 2, 3, 4, 5], 'solver': ['liblinear'], 'multi_class': ['ovr']},\n",
    "        { 'penalty': ['l2'], 'tol': [1e-4, 1e-3], 'C': [1e-2, 1e-1, 1, 2, 3, 4, 5], 'solver': ['newton-cg', 'lbfgs'], 'multi_class': ['ovr', 'multinomial']}]  \n",
    "\n",
    "model = GridSearchCV(lrc, param_grid=params)\n",
    "model.fit(Xr2_train, Y_2_train)"
   ]
  },
  {
   "cell_type": "code",
   "execution_count": 2652,
   "metadata": {
    "collapsed": false,
    "deletable": true,
    "editable": true
   },
   "outputs": [
    {
     "data": {
      "text/plain": [
       "LogisticRegression(C=0.1, class_weight='balanced', dual=False,\n",
       "          fit_intercept=True, intercept_scaling=1, max_iter=100,\n",
       "          multi_class='ovr', n_jobs=1, penalty='l1', random_state=None,\n",
       "          solver='liblinear', tol=0.0001, verbose=0, warm_start=False)"
      ]
     },
     "execution_count": 2652,
     "metadata": {},
     "output_type": "execute_result"
    }
   ],
   "source": [
    "model.best_estimator_"
   ]
  },
  {
   "cell_type": "code",
   "execution_count": 2653,
   "metadata": {
    "collapsed": false,
    "deletable": true,
    "editable": true
   },
   "outputs": [
    {
     "data": {
      "text/plain": [
       "0.39275890504787025"
      ]
     },
     "execution_count": 2653,
     "metadata": {},
     "output_type": "execute_result"
    }
   ],
   "source": [
    "matthews_corrcoef(Y_2_test, model.predict(Xr2_test))"
   ]
  },
  {
   "cell_type": "code",
   "execution_count": 2654,
   "metadata": {
    "collapsed": false,
    "deletable": true,
    "editable": true
   },
   "outputs": [
    {
     "data": {
      "text/plain": [
       "0.76517190060281703"
      ]
     },
     "execution_count": 2654,
     "metadata": {},
     "output_type": "execute_result"
    }
   ],
   "source": [
    "from sklearn.metrics import roc_auc_score\n",
    "\n",
    "Y_binary = [1 if p == '16-31.9' else 0 for p in Y_2_test]\n",
    "roc_auc_score(Y_binary, model.decision_function(Xr2_test))\n"
   ]
  },
  {
   "cell_type": "markdown",
   "metadata": {
    "deletable": true,
    "editable": true
   },
   "source": [
    "The ROC-AUC score is not good, but is at least respectable"
   ]
  },
  {
   "cell_type": "code",
   "execution_count": 2655,
   "metadata": {
    "collapsed": false,
    "deletable": true,
    "editable": true
   },
   "outputs": [
    {
     "data": {
      "text/plain": [
       "<matplotlib.axes._subplots.AxesSubplot at 0x1664d0668>"
      ]
     },
     "execution_count": 2655,
     "metadata": {},
     "output_type": "execute_result"
    },
    {
     "data": {
      "image/png": "[encoded data removed]",
      "text/plain": [
       "<matplotlib.figure.Figure at 0x1664ce978>"
      ]
     },
     "metadata": {},
     "output_type": "display_data"
    }
   ],
   "source": [
    "sns.distplot(model.decision_function(Xr2_test), fit=norm, kde=False)"
   ]
  },
  {
   "cell_type": "markdown",
   "metadata": {
    "deletable": true,
    "editable": true
   },
   "source": [
    "The residuals are close to normally distributed"
   ]
  },
  {
   "cell_type": "code",
   "execution_count": 2656,
   "metadata": {
    "collapsed": false,
    "deletable": true,
    "editable": true
   },
   "outputs": [
    {
     "data": {
      "text/plain": [
       "array([[529, 202],\n",
       "       [114, 250]])"
      ]
     },
     "execution_count": 2656,
     "metadata": {},
     "output_type": "execute_result"
    }
   ],
   "source": [
    "from sklearn.metrics import confusion_matrix\n",
    "preds = [1 if p == '16-31.9' else 0 for p in model.predict(Xr2_test)]\n",
    "confusion_matrix(Y_binary, preds)"
   ]
  },
  {
   "cell_type": "markdown",
   "metadata": {
    "deletable": true,
    "editable": true
   },
   "source": [
    "The model is having the greatest difficulty classifying the samples with low death rates. Class imbalance could be a factor, even though the algorithms are usimg the 'balanced' class weight parameter. Try a different split to see if performance is consistent."
   ]
  },
  {
   "cell_type": "code",
   "execution_count": 2658,
   "metadata": {
    "collapsed": false,
    "deletable": true,
    "editable": true
   },
   "outputs": [],
   "source": [
    "# Make it easy to experiment with train/test split ratios and random states\n",
    "features2.remove('urban_inf')\n",
    "X = data.loc[:, features2]\n",
    "idx = X.index\n",
    "X = pd.DataFrame(robust.fit_transform(X), index=idx, columns=features2)\n",
    "X['urban_inf'] = data['urban_inf']\n",
    "X = pd.get_dummies(X, prefix='urb_inf_', columns=['urban_inf'])\n",
    "\n",
    "Y16 = data.loc[:, 'death_rate']\n",
    "Y16 = Y16.apply(lambda x: '0-1.9' if x == '<2' else x)\n",
    "Y16 = Y16.apply(lambda x: '30-31.9' if x == '30+' else x)\n",
    "Y8 = combine_targets(Y16)\n",
    "Y4 = combine_targets(Y8)\n",
    "Y = combine_targets(Y4)"
   ]
  },
  {
   "cell_type": "code",
   "execution_count": 2659,
   "metadata": {
    "collapsed": false,
    "deletable": true,
    "editable": true
   },
   "outputs": [
    {
     "data": {
      "text/plain": [
       "GridSearchCV(cv=None, error_score='raise',\n",
       "       estimator=LogisticRegression(C=1.0, class_weight='balanced', dual=False,\n",
       "          fit_intercept=True, intercept_scaling=1, max_iter=100,\n",
       "          multi_class='ovr', n_jobs=1, penalty='l2', random_state=None,\n",
       "          solver='liblinear', tol=0.0001, verbose=0, warm_start=False),\n",
       "       fit_params=None, iid=True, n_jobs=1,\n",
       "       param_grid=[{'penalty': ['l1', 'l2'], 'tol': [0.0001, 0.001], 'C': [0.01, 0.1, 1, 2, 3, 4, 5], 'solver': ['liblinear'], 'multi_class': ['ovr']}, {'penalty': ['l2'], 'tol': [0.0001, 0.001], 'C': [0.01, 0.1, 1, 2, 3, 4, 5], 'solver': ['newton-cg', 'lbfgs'], 'multi_class': ['ovr', 'multinomial']}],\n",
       "       pre_dispatch='2*n_jobs', refit=True, return_train_score=True,\n",
       "       scoring=None, verbose=0)"
      ]
     },
     "execution_count": 2659,
     "metadata": {},
     "output_type": "execute_result"
    }
   ],
   "source": [
    "X_train, X_test, Y_train, Y_test = train_test_split(X, Y, test_size=.35, random_state=37, stratify=Y)\n",
    "model = GridSearchCV(lrc, param_grid=params)\n",
    "model.fit(X_train, Y_train)"
   ]
  },
  {
   "cell_type": "code",
   "execution_count": 2660,
   "metadata": {
    "collapsed": false,
    "deletable": true,
    "editable": true
   },
   "outputs": [
    {
     "data": {
      "text/plain": [
       "LogisticRegression(C=4, class_weight='balanced', dual=False,\n",
       "          fit_intercept=True, intercept_scaling=1, max_iter=100,\n",
       "          multi_class='ovr', n_jobs=1, penalty='l2', random_state=None,\n",
       "          solver='liblinear', tol=0.0001, verbose=0, warm_start=False)"
      ]
     },
     "execution_count": 2660,
     "metadata": {},
     "output_type": "execute_result"
    }
   ],
   "source": [
    "model.best_estimator_"
   ]
  },
  {
   "cell_type": "code",
   "execution_count": 2661,
   "metadata": {
    "collapsed": false,
    "deletable": true,
    "editable": true
   },
   "outputs": [
    {
     "data": {
      "text/plain": [
       "0.41132173920249643"
      ]
     },
     "execution_count": 2661,
     "metadata": {},
     "output_type": "execute_result"
    }
   ],
   "source": [
    "matthews_corrcoef(Y_test, model.predict(X_test))"
   ]
  },
  {
   "cell_type": "code",
   "execution_count": 2662,
   "metadata": {
    "collapsed": false,
    "deletable": true,
    "editable": true
   },
   "outputs": [
    {
     "data": {
      "text/plain": [
       "0.7723651177823545"
      ]
     },
     "execution_count": 2662,
     "metadata": {},
     "output_type": "execute_result"
    }
   ],
   "source": [
    "Y_binary = [1 if p == '16-31.9' else 0 for p in Y_test]\n",
    "roc_auc_score(Y_binary, model.decision_function(X_test))"
   ]
  },
  {
   "cell_type": "code",
   "execution_count": 2663,
   "metadata": {
    "collapsed": false,
    "deletable": true,
    "editable": true
   },
   "outputs": [
    {
     "data": {
      "text/plain": [
       "<matplotlib.axes._subplots.AxesSubplot at 0x15ca4ecf8>"
      ]
     },
     "execution_count": 2663,
     "metadata": {},
     "output_type": "execute_result"
    },
    {
     "data": {
      "image/png": "[encoded data removed]",
      "text/plain": [
       "<matplotlib.figure.Figure at 0x15ca32128>"
      ]
     },
     "metadata": {},
     "output_type": "display_data"
    }
   ],
   "source": [
    "sns.distplot(model.decision_function(X_test), fit=norm, kde=False)"
   ]
  },
  {
   "cell_type": "code",
   "execution_count": 2664,
   "metadata": {
    "collapsed": false,
    "deletable": true,
    "editable": true
   },
   "outputs": [
    {
     "data": {
      "text/plain": [
       "array([[528, 203],\n",
       "       [106, 258]])"
      ]
     },
     "execution_count": 2664,
     "metadata": {},
     "output_type": "execute_result"
    }
   ],
   "source": [
    "preds = [1 if p == '16-31.9' else 0 for p in model.predict(X_test)]\n",
    "confusion_matrix(Y_binary, preds)"
   ]
  },
  {
   "cell_type": "markdown",
   "metadata": {
    "deletable": true,
    "editable": true
   },
   "source": [
    "The model is stable with respect to different data splits. Investigate the regression coefficients."
   ]
  },
  {
   "cell_type": "code",
   "execution_count": 2665,
   "metadata": {
    "collapsed": false,
    "deletable": true,
    "editable": true
   },
   "outputs": [
    {
     "name": "stdout",
     "output_type": "stream",
     "text": [
      "unemployment :  1.26639  OR: 3.55 \n",
      "crime        :  0.85418  OR: 2.35 \n",
      "urb_inf__1   :  0.60130  OR: 1.82 \n",
      "urb_inf__11  :  0.30768  OR: 1.36 \n",
      "urb_inf__4   :  0.26597  OR: 1.30 \n",
      "unemp_change :  0.26159  OR: 1.30 \n",
      "urb_inf__10  :  0.23752  OR: 1.27 \n",
      "urb_inf__7   :  0.22423  OR: 1.25 \n",
      "median_age   :  0.22348  OR: 1.25 \n",
      "urb_inf__12  :  0.18153  OR: 1.20 \n",
      "urb_inf__2   :  0.15831  OR: 1.17 \n",
      "vets         :  0.08859  OR: 1.09 \n",
      "pop_inc      :  0.04510  OR: 1.05 \n",
      "hh_hisp      :  0.01989  OR: 1.02 \n",
      "urb_inf__3   :  0.00607  OR: 1.01 \n",
      "pov_change   : -0.14746  OR: 0.86 \n",
      "urb_inf__6   : -0.22151  OR: 0.80 \n",
      "degree+      : -0.22525  OR: 0.80 \n",
      "urb_inf__9   : -0.26596  OR: 0.77 \n",
      "urb_inf__8   : -0.30884  OR: 0.73 \n",
      "hh_afr_am    : -0.79079  OR: 0.45 \n",
      "urb_inf__5   : -1.01574  OR: 0.36 \n"
     ]
    }
   ],
   "source": [
    "results = zip(X_test.columns, lrc.coef_[0])\n",
    "feature_rank = sorted(results, key=lambda tup: tup[1], reverse=True)    \n",
    "for f, r in feature_rank:\n",
    "    print('{:13.12}: {:8.5f}  OR:{:5.2f} '.format(f, r, np.exp(r)))"
   ]
  },
  {
   "cell_type": "markdown",
   "metadata": {
    "deletable": true,
    "editable": true
   },
   "source": [
    "There is strong overlap with the results obtained by the analysis using feature selection on the raw data with standard scaling for the modeling. "
   ]
  }
 ],
 "metadata": {
  "kernelspec": {
   "display_name": "Python 3",
   "language": "python",
   "name": "python3"
  },
  "language_info": {
   "codemirror_mode": {
    "name": "ipython",
    "version": 3
   },
   "file_extension": ".py",
   "mimetype": "text/x-python",
   "name": "python",
   "nbconvert_exporter": "python",
   "pygments_lexer": "ipython3",
   "version": "3.6.0"
  }
 },
 "nbformat": 4,
 "nbformat_minor": 2
}
